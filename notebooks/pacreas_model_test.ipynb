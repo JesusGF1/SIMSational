{
 "cells": [
  {
   "cell_type": "code",
   "execution_count": 1,
   "id": "cd07dc17",
   "metadata": {},
   "outputs": [],
   "source": [
    "import pandas as pd \n",
    "from sklearn.preprocessing import LabelEncoder\n",
    "import sys\n",
    "import anndata as an\n",
    "import scanpy as sp\n",
    "import h5py\n",
    "\n",
    "sys.path.append('../src')\n",
    "sys.path.append('../tests')\n",
    "\n",
    "from lightning_train import DataModule, generate_trainer\n",
    "from data import *\n",
    "from model import *\n",
    "from testing import *\n",
    "\n",
    "from pytorch_lightning.loggers import WandbLogger\n",
    "from torchmetrics.functional import *\n",
    "\n",
    "import pandas as pd\n",
    "from scipy.sparse import csr_matrix\n",
    "from pytorch_lightning.callbacks.early_stopping import EarlyStopping\n",
    "\n",
    "from bigcsv.bigcsv import experimental_to_h5ad\n",
    "from functools import partial\n",
    "import torchmetrics.functional as f\n",
    "from torchmetrics import Metric\n",
    "import torchmetrics "
   ]
  },
  {
   "cell_type": "code",
   "execution_count": 2,
   "id": "e1f64c59",
   "metadata": {},
   "outputs": [
    {
     "name": "stderr",
     "output_type": "stream",
     "text": [
      "/Users/julian/miniconda3/envs/base-data-science/lib/python3.9/site-packages/anndata/compat/__init__.py:180: FutureWarning: Moving element from .uns['neighbors']['distances'] to .obsp['distances'].\n",
      "\n",
      "This is where adjacency matrices should go now.\n",
      "  warn(\n",
      "/Users/julian/miniconda3/envs/base-data-science/lib/python3.9/site-packages/anndata/compat/__init__.py:180: FutureWarning: Moving element from .uns['neighbors']['connectivities'] to .obsp['connectivities'].\n",
      "\n",
      "This is where adjacency matrices should go now.\n",
      "  warn(\n"
     ]
    },
    {
     "data": {
      "text/plain": [
       "AnnData object with n_obs × n_vars = 14693 × 2448\n",
       "    obs: 'celltype', 'sample', 'n_genes', 'batch', 'n_counts', 'louvain'\n",
       "    var: 'n_cells-0', 'n_cells-1', 'n_cells-2', 'n_cells-3'\n",
       "    uns: 'celltype_colors', 'louvain', 'neighbors', 'pca', 'sample_colors'\n",
       "    obsm: 'X_pca', 'X_umap'\n",
       "    varm: 'PCs'\n",
       "    obsp: 'distances', 'connectivities'"
      ]
     },
     "execution_count": 2,
     "metadata": {},
     "output_type": "execute_result"
    }
   ],
   "source": [
    "data = an.read_h5ad('../data/pancreas/pancreas.h5ad')\n",
    "data"
   ]
  },
  {
   "cell_type": "markdown",
   "id": "f3a01454",
   "metadata": {},
   "source": [
    "Now that we know all the labels are the same, we can subset the samples we'd like to train on and train a model"
   ]
  },
  {
   "cell_type": "code",
   "execution_count": 5,
   "id": "ee7ac468",
   "metadata": {},
   "outputs": [],
   "source": [
    "for i in range(4):\n",
    "    labels = data.obs[data.obs['batch'] == str(i)]\n",
    "    labels.to_csv(f'../data/pancreas/batch_{i}_labels.csv', index=False)"
   ]
  },
  {
   "cell_type": "markdown",
   "id": "baedfc98",
   "metadata": {},
   "source": [
    "# Test refgenes to make sure this code is buggy .. "
   ]
  },
  {
   "cell_type": "code",
   "execution_count": 10,
   "id": "c7b2db11",
   "metadata": {},
   "outputs": [],
   "source": [
    "currgenes = data.var.index\n",
    "refgenes = data.var.index[10:]"
   ]
  },
  {
   "cell_type": "code",
   "execution_count": 11,
   "id": "72bbeb03",
   "metadata": {},
   "outputs": [
    {
     "data": {
      "text/plain": [
       "(2448, 2438)"
      ]
     },
     "execution_count": 11,
     "metadata": {},
     "output_type": "execute_result"
    }
   ],
   "source": [
    "len(currgenes), len(refgenes)"
   ]
  },
  {
   "cell_type": "code",
   "execution_count": 12,
   "id": "a08646dc",
   "metadata": {},
   "outputs": [
    {
     "name": "stdout",
     "output_type": "stream",
     "text": [
      "assume_numeric_label=False, using sklearn.preprocessing.LabelEncoder and encoding target variables.\n",
      "Creating train/val/test DataLoaders...\n"
     ]
    },
    {
     "name": "stderr",
     "output_type": "stream",
     "text": [
      "/Users/julian/miniconda3/envs/base-data-science/lib/python3.9/site-packages/anndata/compat/__init__.py:180: FutureWarning: Moving element from .uns['neighbors']['distances'] to .obsp['distances'].\n",
      "\n",
      "This is where adjacency matrices should go now.\n",
      "  warn(\n",
      "/Users/julian/miniconda3/envs/base-data-science/lib/python3.9/site-packages/anndata/compat/__init__.py:180: FutureWarning: Moving element from .uns['neighbors']['connectivities'] to .obsp['connectivities'].\n",
      "\n",
      "This is where adjacency matrices should go now.\n",
      "  warn(\n"
     ]
    },
    {
     "name": "stdout",
     "output_type": "stream",
     "text": [
      "Done, continuing to training.\n",
      "Calculating weights\n",
      "Initializing network\n",
      "Initializing explain matrix\n"
     ]
    }
   ],
   "source": [
    "datamodule = DataModule(\n",
    "    datafiles=['../data/pancreas/pancreas.h5ad'],\n",
    "    labelfiles=['../data/pancreas/batch_0_labels.csv'],\n",
    "    class_label='celltype',\n",
    "    assume_numeric_label=False,\n",
    "    refgenes=refgenes,\n",
    "    currgenes=currgenes,\n",
    ")\n",
    "\n",
    "datamodule.prepare_data()\n",
    "datamodule.setup()\n",
    "\n",
    "model = TabNetLightning(\n",
    "    input_dim=datamodule.num_features,\n",
    "    output_dim=datamodule.num_labels,\n",
    ")"
   ]
  },
  {
   "cell_type": "code",
   "execution_count": null,
   "id": "dafcf053",
   "metadata": {
    "scrolled": true
   },
   "outputs": [
    {
     "name": "stderr",
     "output_type": "stream",
     "text": [
      "GPU available: False, used: False\n",
      "TPU available: False, using: 0 TPU cores\n",
      "IPU available: False, using: 0 IPUs\n",
      "/Users/julian/miniconda3/envs/base-data-science/lib/python3.9/site-packages/pytorch_lightning/core/datamodule.py:469: LightningDeprecationWarning: DataModule.setup has already been called, so it will not be called again. In v1.6 this behavior will change to always call DataModule.setup.\n",
      "  rank_zero_deprecation(\n",
      "\u001b[34m\u001b[1mwandb\u001b[0m: Currently logged in as: \u001b[33mjlehrer1\u001b[0m (use `wandb login --relogin` to force relogin)\n"
     ]
    },
    {
     "data": {
      "text/html": [
       "wandb version 0.12.16 is available!  To upgrade, please run:\n",
       " $ pip install wandb --upgrade"
      ],
      "text/plain": [
       "<IPython.core.display.HTML object>"
      ]
     },
     "metadata": {},
     "output_type": "display_data"
    },
    {
     "data": {
      "text/html": [
       "Tracking run with wandb version 0.12.11"
      ],
      "text/plain": [
       "<IPython.core.display.HTML object>"
      ]
     },
     "metadata": {},
     "output_type": "display_data"
    },
    {
     "data": {
      "text/html": [
       "Run data is saved locally in <code>/Users/julian/Documents/Projects/SIMS/notebooks/wandb/run-20220511_231040-3ltjbyk1</code>"
      ],
      "text/plain": [
       "<IPython.core.display.HTML object>"
      ]
     },
     "metadata": {},
     "output_type": "display_data"
    },
    {
     "data": {
      "text/html": [
       "Syncing run <strong><a href=\"https://wandb.ai/jlehrer1/Pancreas%20Model/runs/3ltjbyk1\" target=\"_blank\">Local, Default Settings</a></strong> to <a href=\"https://wandb.ai/jlehrer1/Pancreas%20Model\" target=\"_blank\">Weights & Biases</a> (<a href=\"https://wandb.me/run\" target=\"_blank\">docs</a>)<br/>"
      ],
      "text/plain": [
       "<IPython.core.display.HTML object>"
      ]
     },
     "metadata": {},
     "output_type": "display_data"
    },
    {
     "name": "stderr",
     "output_type": "stream",
     "text": [
      "\n",
      "  | Name    | Type   | Params\n",
      "-----------------------------------\n",
      "0 | network | TabNet | 166 K \n",
      "-----------------------------------\n",
      "166 K     Trainable params\n",
      "0         Non-trainable params\n",
      "166 K     Total params\n",
      "0.667     Total estimated model params size (MB)\n"
     ]
    },
    {
     "data": {
      "application/vnd.jupyter.widget-view+json": {
       "model_id": "",
       "version_major": 2,
       "version_minor": 0
      },
      "text/plain": [
       "Validation sanity check: 0it [00:00, ?it/s]"
      ]
     },
     "metadata": {},
     "output_type": "display_data"
    },
    {
     "name": "stdout",
     "output_type": "stream",
     "text": [
      "Median f1 score is 0.0 for epoch=0\n",
      "Validation F1-scores are [0. 0. 0. 0. 0. 0. 0. 0. 0. 0. 0. 0. 0. 0.]\n"
     ]
    },
    {
     "name": "stderr",
     "output_type": "stream",
     "text": [
      "/Users/julian/miniconda3/envs/base-data-science/lib/python3.9/site-packages/pytorch_lightning/trainer/data_loading.py:111: UserWarning: The dataloader, val_dataloader 0, does not have many workers which may be a bottleneck. Consider increasing the value of the `num_workers` argument` (try 10 which is the number of cpus on this machine) in the `DataLoader` init to improve performance.\n",
      "  rank_zero_warn(\n",
      "/Users/julian/Documents/Projects/SIMS/notebooks/../src/model.py:196: RuntimeWarning: invalid value encountered in true_divide\n",
      "  precision = tp / (tp + fp)\n",
      "/Users/julian/Documents/Projects/SIMS/notebooks/../src/model.py:197: RuntimeWarning: invalid value encountered in true_divide\n",
      "  recall = tp / (tp + fn)\n",
      "/Users/julian/miniconda3/envs/base-data-science/lib/python3.9/site-packages/pytorch_lightning/trainer/data_loading.py:111: UserWarning: The dataloader, train_dataloader, does not have many workers which may be a bottleneck. Consider increasing the value of the `num_workers` argument` (try 10 which is the number of cpus on this machine) in the `DataLoader` init to improve performance.\n",
      "  rank_zero_warn(\n"
     ]
    },
    {
     "data": {
      "application/vnd.jupyter.widget-view+json": {
       "model_id": "10338aec1c834da08bc0ced2b2553264",
       "version_major": 2,
       "version_minor": 0
      },
      "text/plain": [
       "Training: 0it [00:00, ?it/s]"
      ]
     },
     "metadata": {},
     "output_type": "display_data"
    },
    {
     "data": {
      "application/vnd.jupyter.widget-view+json": {
       "model_id": "",
       "version_major": 2,
       "version_minor": 0
      },
      "text/plain": [
       "Validating: 0it [00:00, ?it/s]"
      ]
     },
     "metadata": {},
     "output_type": "display_data"
    },
    {
     "name": "stderr",
     "output_type": "stream",
     "text": [
      "/Users/julian/Documents/Projects/SIMS/notebooks/../src/model.py:198: RuntimeWarning: invalid value encountered in true_divide\n",
      "  f1s = 2*(precision * recall) / (precision + recall)\n"
     ]
    },
    {
     "name": "stdout",
     "output_type": "stream",
     "text": [
      "Median f1 score is 0.0 for epoch=0\n",
      "Validation F1-scores are [0.02898551 0.         0.39616613 0.27521206 0.         0.07003891\n",
      " 0.         0.         0.         0.         0.         0.\n",
      " 0.         0.        ]\n",
      "Median f1 score is 0.039848692362877455 for epoch=0\n"
     ]
    },
    {
     "data": {
      "application/vnd.jupyter.widget-view+json": {
       "model_id": "",
       "version_major": 2,
       "version_minor": 0
      },
      "text/plain": [
       "Validating: 0it [00:00, ?it/s]"
      ]
     },
     "metadata": {},
     "output_type": "display_data"
    },
    {
     "name": "stdout",
     "output_type": "stream",
     "text": [
      "Median f1 score is 0.0 for epoch=1\n",
      "Validation F1-scores are [0.01818182 0.         0.46436782 0.20211516 0.         0.20714286\n",
      " 0.         0.         0.         0.         0.         0.\n",
      " 0.         0.        ]\n",
      "Median f1 score is 0.0 for epoch=1\n"
     ]
    },
    {
     "data": {
      "application/vnd.jupyter.widget-view+json": {
       "model_id": "",
       "version_major": 2,
       "version_minor": 0
      },
      "text/plain": [
       "Validating: 0it [00:00, ?it/s]"
      ]
     },
     "metadata": {},
     "output_type": "display_data"
    },
    {
     "name": "stdout",
     "output_type": "stream",
     "text": [
      "Median f1 score is 0.0 for epoch=2\n",
      "Validation F1-scores are [0.         0.         0.46596569 0.11002445 0.         0.16911765\n",
      " 0.         0.         0.         0.         0.         0.\n",
      " 0.         0.        ]\n",
      "Median f1 score is 0.0 for epoch=2\n"
     ]
    },
    {
     "data": {
      "application/vnd.jupyter.widget-view+json": {
       "model_id": "",
       "version_major": 2,
       "version_minor": 0
      },
      "text/plain": [
       "Validating: 0it [00:00, ?it/s]"
      ]
     },
     "metadata": {},
     "output_type": "display_data"
    },
    {
     "name": "stdout",
     "output_type": "stream",
     "text": [
      "Median f1 score is 0.0 for epoch=3\n",
      "Validation F1-scores are [0.03045685 0.         0.46221112 0.23430962 0.         0.32738095\n",
      " 0.         0.         0.         0.         0.         0.\n",
      " 0.         0.        ]\n",
      "Median f1 score is 0.0 for epoch=3\n"
     ]
    },
    {
     "data": {
      "application/vnd.jupyter.widget-view+json": {
       "model_id": "",
       "version_major": 2,
       "version_minor": 0
      },
      "text/plain": [
       "Validating: 0it [00:00, ?it/s]"
      ]
     },
     "metadata": {},
     "output_type": "display_data"
    },
    {
     "name": "stdout",
     "output_type": "stream",
     "text": [
      "Median f1 score is 0.0 for epoch=4\n",
      "Validation F1-scores are [0.         0.         0.49271523 0.286      0.         0.34447301\n",
      " 0.         0.         0.         0.         0.         0.\n",
      " 0.         0.        ]\n",
      "Median f1 score is 0.0 for epoch=4\n"
     ]
    },
    {
     "data": {
      "application/vnd.jupyter.widget-view+json": {
       "model_id": "",
       "version_major": 2,
       "version_minor": 0
      },
      "text/plain": [
       "Validating: 0it [00:00, ?it/s]"
      ]
     },
     "metadata": {},
     "output_type": "display_data"
    },
    {
     "name": "stdout",
     "output_type": "stream",
     "text": [
      "Median f1 score is 0.0 for epoch=5\n",
      "Validation F1-scores are [0.         0.         0.37878788 0.3964687  0.         0.21021021\n",
      " 0.         0.         0.         0.         0.         0.\n",
      " 0.         0.        ]\n",
      "Median f1 score is 0.0 for epoch=5\n"
     ]
    },
    {
     "data": {
      "application/vnd.jupyter.widget-view+json": {
       "model_id": "",
       "version_major": 2,
       "version_minor": 0
      },
      "text/plain": [
       "Validating: 0it [00:00, ?it/s]"
      ]
     },
     "metadata": {},
     "output_type": "display_data"
    },
    {
     "name": "stdout",
     "output_type": "stream",
     "text": [
      "Median f1 score is 0.0 for epoch=6\n",
      "Validation F1-scores are [0.         0.         0.17432273 0.48838594 0.         0.16172507\n",
      " 0.         0.         0.         0.         0.         0.\n",
      " 0.         0.        ]\n",
      "Median f1 score is 0.0 for epoch=6\n"
     ]
    },
    {
     "data": {
      "application/vnd.jupyter.widget-view+json": {
       "model_id": "",
       "version_major": 2,
       "version_minor": 0
      },
      "text/plain": [
       "Validating: 0it [00:00, ?it/s]"
      ]
     },
     "metadata": {},
     "output_type": "display_data"
    },
    {
     "name": "stdout",
     "output_type": "stream",
     "text": [
      "Median f1 score is 0.0 for epoch=7\n",
      "Validation F1-scores are [0.         0.         0.13225371 0.53100338 0.         0.29166667\n",
      " 0.         0.         0.         0.         0.         0.\n",
      " 0.         0.        ]\n",
      "Median f1 score is 0.0 for epoch=7\n"
     ]
    },
    {
     "data": {
      "application/vnd.jupyter.widget-view+json": {
       "model_id": "",
       "version_major": 2,
       "version_minor": 0
      },
      "text/plain": [
       "Validating: 0it [00:00, ?it/s]"
      ]
     },
     "metadata": {},
     "output_type": "display_data"
    },
    {
     "name": "stdout",
     "output_type": "stream",
     "text": [
      "Median f1 score is 0.0 for epoch=8\n",
      "Validation F1-scores are [0.         0.         0.14067995 0.5070922  0.         0.27118644\n",
      " 0.         0.         0.         0.         0.         0.\n",
      " 0.         0.        ]\n",
      "Median f1 score is 0.0 for epoch=8\n"
     ]
    },
    {
     "data": {
      "application/vnd.jupyter.widget-view+json": {
       "model_id": "",
       "version_major": 2,
       "version_minor": 0
      },
      "text/plain": [
       "Validating: 0it [00:00, ?it/s]"
      ]
     },
     "metadata": {},
     "output_type": "display_data"
    },
    {
     "name": "stdout",
     "output_type": "stream",
     "text": [
      "Median f1 score is 0.0 for epoch=9\n",
      "Validation F1-scores are [0.         0.         0.34528302 0.50301811 0.         0.16091954\n",
      " 0.         0.         0.         0.         0.         0.\n",
      " 0.         0.        ]\n",
      "Median f1 score is 0.0 for epoch=9\n"
     ]
    },
    {
     "data": {
      "application/vnd.jupyter.widget-view+json": {
       "model_id": "",
       "version_major": 2,
       "version_minor": 0
      },
      "text/plain": [
       "Validating: 0it [00:00, ?it/s]"
      ]
     },
     "metadata": {},
     "output_type": "display_data"
    },
    {
     "name": "stdout",
     "output_type": "stream",
     "text": [
      "Median f1 score is 0.0 for epoch=10\n",
      "Validation F1-scores are [0.         0.         0.32116788 0.46049661 0.         0.18397626\n",
      " 0.         0.         0.         0.         0.         0.\n",
      " 0.         0.        ]\n",
      "Median f1 score is 0.0 for epoch=10\n"
     ]
    },
    {
     "data": {
      "application/vnd.jupyter.widget-view+json": {
       "model_id": "",
       "version_major": 2,
       "version_minor": 0
      },
      "text/plain": [
       "Validating: 0it [00:00, ?it/s]"
      ]
     },
     "metadata": {},
     "output_type": "display_data"
    },
    {
     "name": "stdout",
     "output_type": "stream",
     "text": [
      "Median f1 score is 0.0 for epoch=11\n",
      "Validation F1-scores are [0.         0.         0.34253247 0.48787656 0.         0.11111111\n",
      " 0.         0.         0.         0.         0.         0.\n",
      " 0.         0.        ]\n",
      "Median f1 score is 0.0 for epoch=11\n"
     ]
    },
    {
     "data": {
      "application/vnd.jupyter.widget-view+json": {
       "model_id": "",
       "version_major": 2,
       "version_minor": 0
      },
      "text/plain": [
       "Validating: 0it [00:00, ?it/s]"
      ]
     },
     "metadata": {},
     "output_type": "display_data"
    },
    {
     "name": "stdout",
     "output_type": "stream",
     "text": [
      "Median f1 score is 0.0 for epoch=12\n",
      "Validation F1-scores are [0.         0.         0.38308887 0.45957447 0.         0.1030303\n",
      " 0.         0.         0.         0.         0.         0.\n",
      " 0.         0.        ]\n",
      "Median f1 score is 0.0 for epoch=12\n"
     ]
    },
    {
     "data": {
      "application/vnd.jupyter.widget-view+json": {
       "model_id": "",
       "version_major": 2,
       "version_minor": 0
      },
      "text/plain": [
       "Validating: 0it [00:00, ?it/s]"
      ]
     },
     "metadata": {},
     "output_type": "display_data"
    },
    {
     "name": "stdout",
     "output_type": "stream",
     "text": [
      "Median f1 score is 0.0 for epoch=13\n",
      "Validation F1-scores are [0.01025641 0.         0.44657097 0.44200627 0.         0.17486339\n",
      " 0.         0.         0.         0.         0.         0.\n",
      " 0.         0.        ]\n",
      "Median f1 score is 0.0 for epoch=13\n"
     ]
    },
    {
     "data": {
      "application/vnd.jupyter.widget-view+json": {
       "model_id": "",
       "version_major": 2,
       "version_minor": 0
      },
      "text/plain": [
       "Validating: 0it [00:00, ?it/s]"
      ]
     },
     "metadata": {},
     "output_type": "display_data"
    },
    {
     "name": "stdout",
     "output_type": "stream",
     "text": [
      "Median f1 score is 0.0 for epoch=14\n",
      "Validation F1-scores are [0.         0.         0.49471459 0.41637011 0.         0.13483146\n",
      " 0.         0.         0.         0.         0.         0.\n",
      " 0.         0.        ]\n",
      "Median f1 score is 0.0 for epoch=14\n"
     ]
    },
    {
     "data": {
      "application/vnd.jupyter.widget-view+json": {
       "model_id": "",
       "version_major": 2,
       "version_minor": 0
      },
      "text/plain": [
       "Validating: 0it [00:00, ?it/s]"
      ]
     },
     "metadata": {},
     "output_type": "display_data"
    },
    {
     "name": "stdout",
     "output_type": "stream",
     "text": [
      "Median f1 score is 0.0 for epoch=15\n",
      "Validation F1-scores are [0.01036269 0.         0.46533128 0.45769541 0.         0.16759777\n",
      " 0.03921569 0.         0.         0.         0.         0.\n",
      " 0.         0.        ]\n",
      "Median f1 score is 0.0 for epoch=15\n"
     ]
    },
    {
     "data": {
      "application/vnd.jupyter.widget-view+json": {
       "model_id": "",
       "version_major": 2,
       "version_minor": 0
      },
      "text/plain": [
       "Validating: 0it [00:00, ?it/s]"
      ]
     },
     "metadata": {},
     "output_type": "display_data"
    },
    {
     "name": "stdout",
     "output_type": "stream",
     "text": [
      "Median f1 score is 0.0 for epoch=16\n",
      "Validation F1-scores are [0.         0.         0.46300716 0.46966115 0.         0.21447721\n",
      " 0.         0.         0.         0.         0.         0.\n",
      " 0.         0.        ]\n",
      "Median f1 score is 0.0 for epoch=16\n"
     ]
    },
    {
     "data": {
      "application/vnd.jupyter.widget-view+json": {
       "model_id": "",
       "version_major": 2,
       "version_minor": 0
      },
      "text/plain": [
       "Validating: 0it [00:00, ?it/s]"
      ]
     },
     "metadata": {},
     "output_type": "display_data"
    },
    {
     "name": "stdout",
     "output_type": "stream",
     "text": [
      "Median f1 score is 0.0 for epoch=17\n",
      "Validation F1-scores are [0.13888889 0.         0.33520599 0.49930265 0.         0.33243968\n",
      " 0.         0.         0.         0.         0.         0.\n",
      " 0.         0.        ]\n",
      "Median f1 score is 0.0 for epoch=17\n"
     ]
    },
    {
     "data": {
      "application/vnd.jupyter.widget-view+json": {
       "model_id": "",
       "version_major": 2,
       "version_minor": 0
      },
      "text/plain": [
       "Validating: 0it [00:00, ?it/s]"
      ]
     },
     "metadata": {},
     "output_type": "display_data"
    },
    {
     "name": "stdout",
     "output_type": "stream",
     "text": [
      "Median f1 score is 0.0 for epoch=18\n",
      "Validation F1-scores are [0.01030928 0.         0.51918736 0.42367067 0.         0.27067669\n",
      " 0.0754717  0.         0.         0.         0.         0.\n",
      " 0.         0.        ]\n",
      "Median f1 score is 0.0 for epoch=18\n"
     ]
    },
    {
     "data": {
      "application/vnd.jupyter.widget-view+json": {
       "model_id": "",
       "version_major": 2,
       "version_minor": 0
      },
      "text/plain": [
       "Validating: 0it [00:00, ?it/s]"
      ]
     },
     "metadata": {},
     "output_type": "display_data"
    },
    {
     "name": "stdout",
     "output_type": "stream",
     "text": [
      "Median f1 score is 0.0 for epoch=19\n",
      "Validation F1-scores are [0.         0.         0.49623029 0.40439158 0.         0.17867435\n",
      " 0.         0.         0.         0.         0.         0.\n",
      " 0.         0.        ]\n",
      "Median f1 score is 0.0 for epoch=19\n"
     ]
    },
    {
     "data": {
      "application/vnd.jupyter.widget-view+json": {
       "model_id": "",
       "version_major": 2,
       "version_minor": 0
      },
      "text/plain": [
       "Validating: 0it [00:00, ?it/s]"
      ]
     },
     "metadata": {},
     "output_type": "display_data"
    },
    {
     "name": "stdout",
     "output_type": "stream",
     "text": [
      "Median f1 score is 0.0 for epoch=20\n",
      "Validation F1-scores are [0.05050505 0.         0.47826087 0.46703733 0.         0.28571429\n",
      " 0.         0.         0.         0.         0.         0.\n",
      " 0.         0.        ]\n",
      "Median f1 score is 0.0 for epoch=20\n"
     ]
    },
    {
     "data": {
      "application/vnd.jupyter.widget-view+json": {
       "model_id": "",
       "version_major": 2,
       "version_minor": 0
      },
      "text/plain": [
       "Validating: 0it [00:00, ?it/s]"
      ]
     },
     "metadata": {},
     "output_type": "display_data"
    },
    {
     "name": "stdout",
     "output_type": "stream",
     "text": [
      "Median f1 score is 0.0 for epoch=21\n",
      "Validation F1-scores are [0.01015228 0.         0.34116445 0.49350649 0.         0.208\n",
      " 0.         0.         0.         0.         0.         0.\n",
      " 0.         0.        ]\n",
      "Median f1 score is 0.0 for epoch=21\n"
     ]
    },
    {
     "data": {
      "application/vnd.jupyter.widget-view+json": {
       "model_id": "",
       "version_major": 2,
       "version_minor": 0
      },
      "text/plain": [
       "Validating: 0it [00:00, ?it/s]"
      ]
     },
     "metadata": {},
     "output_type": "display_data"
    },
    {
     "name": "stdout",
     "output_type": "stream",
     "text": [
      "Median f1 score is 0.0 for epoch=22\n",
      "Validation F1-scores are [0.46153846 0.         0.45953488 0.4723127  0.         0.53033708\n",
      " 0.18181818 0.         0.         0.         0.         0.\n",
      " 0.         0.        ]\n",
      "Median f1 score is 0.0 for epoch=22\n"
     ]
    },
    {
     "data": {
      "application/vnd.jupyter.widget-view+json": {
       "model_id": "",
       "version_major": 2,
       "version_minor": 0
      },
      "text/plain": [
       "Validating: 0it [00:00, ?it/s]"
      ]
     },
     "metadata": {},
     "output_type": "display_data"
    },
    {
     "name": "stdout",
     "output_type": "stream",
     "text": [
      "Median f1 score is 0.0 for epoch=23\n",
      "Validation F1-scores are [0.46153846 0.         0.47555924 0.44026187 0.         0.32241814\n",
      " 0.14545455 0.         0.         0.         0.         0.\n",
      " 0.         0.        ]\n",
      "Median f1 score is 0.0 for epoch=23\n"
     ]
    },
    {
     "data": {
      "application/vnd.jupyter.widget-view+json": {
       "model_id": "",
       "version_major": 2,
       "version_minor": 0
      },
      "text/plain": [
       "Validating: 0it [00:00, ?it/s]"
      ]
     },
     "metadata": {},
     "output_type": "display_data"
    },
    {
     "name": "stdout",
     "output_type": "stream",
     "text": [
      "Median f1 score is 0.0 for epoch=24\n",
      "Validation F1-scores are [0.26200873 0.         0.51810137 0.41123039 0.         0.34158416\n",
      " 0.11111111 0.         0.         0.         0.         0.\n",
      " 0.         0.        ]\n",
      "Median f1 score is 0.0 for epoch=24\n"
     ]
    },
    {
     "data": {
      "application/vnd.jupyter.widget-view+json": {
       "model_id": "",
       "version_major": 2,
       "version_minor": 0
      },
      "text/plain": [
       "Validating: 0it [00:00, ?it/s]"
      ]
     },
     "metadata": {},
     "output_type": "display_data"
    },
    {
     "name": "stdout",
     "output_type": "stream",
     "text": [
      "Median f1 score is 0.0 for epoch=25\n",
      "Validation F1-scores are [0.6        0.         0.49233544 0.50513023 0.         0.44239631\n",
      " 0.03921569 0.         0.         0.         0.         0.\n",
      " 0.         0.        ]\n",
      "Median f1 score is 0.0 for epoch=25\n"
     ]
    },
    {
     "data": {
      "application/vnd.jupyter.widget-view+json": {
       "model_id": "",
       "version_major": 2,
       "version_minor": 0
      },
      "text/plain": [
       "Validating: 0it [00:00, ?it/s]"
      ]
     },
     "metadata": {},
     "output_type": "display_data"
    },
    {
     "name": "stdout",
     "output_type": "stream",
     "text": [
      "Median f1 score is 0.0 for epoch=26\n",
      "Validation F1-scores are [0.29437229 0.         0.44935543 0.45593591 0.         0.3042394\n",
      " 0.         0.         0.         0.         0.         0.\n",
      " 0.         0.        ]\n",
      "Median f1 score is 0.0 for epoch=26\n"
     ]
    },
    {
     "data": {
      "application/vnd.jupyter.widget-view+json": {
       "model_id": "",
       "version_major": 2,
       "version_minor": 0
      },
      "text/plain": [
       "Validating: 0it [00:00, ?it/s]"
      ]
     },
     "metadata": {},
     "output_type": "display_data"
    },
    {
     "name": "stdout",
     "output_type": "stream",
     "text": [
      "Median f1 score is 0.0 for epoch=27\n",
      "Validation F1-scores are [0.37458194 0.         0.26992288 0.51295009 0.         0.37587007\n",
      " 0.         0.         0.         0.         0.         0.\n",
      " 0.         0.        ]\n",
      "Median f1 score is 0.0 for epoch=27\n"
     ]
    },
    {
     "data": {
      "application/vnd.jupyter.widget-view+json": {
       "model_id": "",
       "version_major": 2,
       "version_minor": 0
      },
      "text/plain": [
       "Validating: 0it [00:00, ?it/s]"
      ]
     },
     "metadata": {},
     "output_type": "display_data"
    },
    {
     "name": "stdout",
     "output_type": "stream",
     "text": [
      "Median f1 score is 0.0 for epoch=28\n",
      "Validation F1-scores are [0.58133333 0.         0.50946644 0.50306748 0.         0.3840399\n",
      " 0.29032258 0.         0.         0.         0.         0.\n",
      " 0.         0.        ]\n",
      "Median f1 score is 0.0 for epoch=28\n"
     ]
    },
    {
     "data": {
      "application/vnd.jupyter.widget-view+json": {
       "model_id": "",
       "version_major": 2,
       "version_minor": 0
      },
      "text/plain": [
       "Validating: 0it [00:00, ?it/s]"
      ]
     },
     "metadata": {},
     "output_type": "display_data"
    },
    {
     "name": "stdout",
     "output_type": "stream",
     "text": [
      "Median f1 score is 0.0 for epoch=29\n",
      "Validation F1-scores are [0.63492063 0.         0.50653595 0.46545455 0.         0.52752294\n",
      " 0.36363636 0.         0.         0.         0.         0.\n",
      " 0.         0.        ]\n",
      "Median f1 score is 0.0 for epoch=29\n"
     ]
    },
    {
     "data": {
      "application/vnd.jupyter.widget-view+json": {
       "model_id": "",
       "version_major": 2,
       "version_minor": 0
      },
      "text/plain": [
       "Validating: 0it [00:00, ?it/s]"
      ]
     },
     "metadata": {},
     "output_type": "display_data"
    },
    {
     "name": "stdout",
     "output_type": "stream",
     "text": [
      "Median f1 score is 0.0 for epoch=30\n",
      "Validation F1-scores are [0.65768194 0.         0.47912886 0.51983122 0.         0.50925926\n",
      " 0.         0.         0.         0.         0.         0.\n",
      " 0.         0.        ]\n",
      "Median f1 score is 0.0 for epoch=30\n"
     ]
    },
    {
     "data": {
      "application/vnd.jupyter.widget-view+json": {
       "model_id": "",
       "version_major": 2,
       "version_minor": 0
      },
      "text/plain": [
       "Validating: 0it [00:00, ?it/s]"
      ]
     },
     "metadata": {},
     "output_type": "display_data"
    },
    {
     "name": "stdout",
     "output_type": "stream",
     "text": [
      "Median f1 score is 0.0 for epoch=31\n",
      "Validation F1-scores are [0.64835165 0.         0.48924731 0.5221843  0.         0.49422633\n",
      " 0.14285714 0.         0.         0.         0.         0.\n",
      " 0.         0.        ]\n",
      "Median f1 score is 0.0 for epoch=31\n"
     ]
    },
    {
     "data": {
      "application/vnd.jupyter.widget-view+json": {
       "model_id": "",
       "version_major": 2,
       "version_minor": 0
      },
      "text/plain": [
       "Validating: 0it [00:00, ?it/s]"
      ]
     },
     "metadata": {},
     "output_type": "display_data"
    },
    {
     "name": "stdout",
     "output_type": "stream",
     "text": [
      "Median f1 score is 0.0 for epoch=32\n",
      "Validation F1-scores are [0.69375    0.         0.46654611 0.50622407 0.         0.56455142\n",
      " 0.11320755 0.         0.         0.         0.         0.\n",
      " 0.         0.        ]\n",
      "Median f1 score is 0.0 for epoch=32\n"
     ]
    },
    {
     "data": {
      "application/vnd.jupyter.widget-view+json": {
       "model_id": "",
       "version_major": 2,
       "version_minor": 0
      },
      "text/plain": [
       "Validating: 0it [00:00, ?it/s]"
      ]
     },
     "metadata": {},
     "output_type": "display_data"
    },
    {
     "name": "stdout",
     "output_type": "stream",
     "text": [
      "Median f1 score is 0.0 for epoch=33\n",
      "Validation F1-scores are [0.64666667 0.         0.5237366  0.44359465 0.         0.52193995\n",
      " 0.17857143 0.         0.         0.         0.         0.\n",
      " 0.         0.        ]\n",
      "Median f1 score is 0.0 for epoch=33\n"
     ]
    }
   ],
   "source": [
    "wandb_logger = WandbLogger(\n",
    "    project=f\"Pancreas Model\",\n",
    "    name='Local, Default Settings'\n",
    ")\n",
    "\n",
    "trainer = pl.Trainer(\n",
    "    logger=wandb_logger,\n",
    "    max_epochs=200,\n",
    ")\n",
    "\n",
    "trainer.fit(model, datamodule=datamodule)"
   ]
  },
  {
   "cell_type": "code",
   "execution_count": 77,
   "id": "73a7c72f",
   "metadata": {},
   "outputs": [
    {
     "data": {
      "application/vnd.jupyter.widget-view+json": {
       "model_id": "",
       "version_major": 2,
       "version_minor": 0
      },
      "text/plain": [
       "Validating: 0it [00:00, ?it/s]"
      ]
     },
     "metadata": {},
     "output_type": "display_data"
    },
    {
     "name": "stdout",
     "output_type": "stream",
     "text": [
      "Median f1 score is 0.8883735312306741 for epoch=165\n",
      "Validation F1-scores are [0.93638677 0.94017094 0.96624473 0.96119403 0.89795918 0.95852535\n",
      " 0.93069307 0.         0.84210526 0.         0.         0.87878788\n",
      " 0.         0.        ]\n",
      "--------------------------------------------------------------------------------\n",
      "DATALOADER:0 VALIDATE RESULTS\n",
      "{'val_accuracy': 0.9416569471359253,\n",
      " 'val_precision': 0.9416569471359253,\n",
      " 'val_recall': 0.9416569471359253}\n",
      "--------------------------------------------------------------------------------\n"
     ]
    },
    {
     "data": {
      "text/plain": [
       "[{'val_accuracy': 0.9416569471359253,\n",
       "  'val_precision': 0.9416569471359253,\n",
       "  'val_recall': 0.9416569471359253}]"
      ]
     },
     "execution_count": 77,
     "metadata": {},
     "output_type": "execute_result"
    }
   ],
   "source": [
    "trainer.validate(model, datamodule=datamodule)"
   ]
  },
  {
   "cell_type": "code",
   "execution_count": 35,
   "id": "d1e2d394",
   "metadata": {},
   "outputs": [],
   "source": [
    "t1 = data.obs[data.obs['batch'] == '0']\n",
    "t2 = data.obs[data.obs['batch'] == '1']"
   ]
  },
  {
   "cell_type": "code",
   "execution_count": 44,
   "id": "c0f9cc75",
   "metadata": {},
   "outputs": [
    {
     "data": {
      "text/plain": [
       "Index(['MHC class II', 'PSC', 'acinar', 'activated_stellate', 'alpha', 'beta',\n",
       "       'co-expression', 'delta', 'dropped', 'ductal', 'endothelial', 'epsilon',\n",
       "       'gamma', 'macrophage', 'mast', 'mesenchymal', 'mesenchyme',\n",
       "       'not applicable', 'quiescent_stellate', 'schwann', 't_cell',\n",
       "       'unclassified', 'unclassified endocrine', 'unclear'],\n",
       "      dtype='object')"
      ]
     },
     "execution_count": 44,
     "metadata": {},
     "output_type": "execute_result"
    }
   ],
   "source": [
    "t1['celltype'].unique().categories"
   ]
  },
  {
   "cell_type": "code",
   "execution_count": 45,
   "id": "314642a0",
   "metadata": {},
   "outputs": [
    {
     "data": {
      "text/plain": [
       "array([ True,  True,  True,  True,  True,  True,  True,  True,  True,\n",
       "        True,  True,  True,  True,  True,  True,  True,  True,  True,\n",
       "        True,  True,  True,  True,  True,  True])"
      ]
     },
     "execution_count": 45,
     "metadata": {},
     "output_type": "execute_result"
    }
   ],
   "source": [
    "t2['celltype'].unique().categories == t1['celltype'].unique().categories"
   ]
  },
  {
   "cell_type": "code",
   "execution_count": null,
   "id": "d6cab67d",
   "metadata": {},
   "outputs": [],
   "source": []
  }
 ],
 "metadata": {
  "kernelspec": {
   "display_name": "Python [conda env:base-data-science] *",
   "language": "python",
   "name": "conda-env-base-data-science-py"
  },
  "language_info": {
   "codemirror_mode": {
    "name": "ipython",
    "version": 3
   },
   "file_extension": ".py",
   "mimetype": "text/x-python",
   "name": "python",
   "nbconvert_exporter": "python",
   "pygments_lexer": "ipython3",
   "version": "3.9.7"
  }
 },
 "nbformat": 4,
 "nbformat_minor": 5
}
