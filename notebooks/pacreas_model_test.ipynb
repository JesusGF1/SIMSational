{
 "cells": [
  {
   "cell_type": "code",
   "execution_count": 1,
   "id": "cd07dc17",
   "metadata": {},
   "outputs": [
    {
     "ename": "ModuleNotFoundError",
     "evalue": "No module named 'models'",
     "output_type": "error",
     "traceback": [
      "\u001b[0;31m---------------------------------------------------------------------------\u001b[0m",
      "\u001b[0;31mModuleNotFoundError\u001b[0m                       Traceback (most recent call last)",
      "Input \u001b[0;32mIn [1]\u001b[0m, in \u001b[0;36m<cell line: 11>\u001b[0;34m()\u001b[0m\n\u001b[1;32m      8\u001b[0m sys\u001b[38;5;241m.\u001b[39mpath\u001b[38;5;241m.\u001b[39mappend(\u001b[38;5;124m'\u001b[39m\u001b[38;5;124m../src\u001b[39m\u001b[38;5;124m'\u001b[39m)\n\u001b[1;32m      9\u001b[0m sys\u001b[38;5;241m.\u001b[39mpath\u001b[38;5;241m.\u001b[39mappend(\u001b[38;5;124m'\u001b[39m\u001b[38;5;124m../tests\u001b[39m\u001b[38;5;124m'\u001b[39m)\n\u001b[0;32m---> 11\u001b[0m \u001b[38;5;28;01mfrom\u001b[39;00m \u001b[38;5;21;01mmodels\u001b[39;00m\u001b[38;5;21;01m.\u001b[39;00m\u001b[38;5;21;01mlib\u001b[39;00m\u001b[38;5;21;01m.\u001b[39;00m\u001b[38;5;21;01mlightning_train\u001b[39;00m \u001b[38;5;28;01mimport\u001b[39;00m DataModule, generate_trainer\n\u001b[1;32m     12\u001b[0m \u001b[38;5;28;01mfrom\u001b[39;00m \u001b[38;5;21;01mmodels\u001b[39;00m\u001b[38;5;21;01m.\u001b[39;00m\u001b[38;5;21;01mlib\u001b[39;00m\u001b[38;5;21;01m.\u001b[39;00m\u001b[38;5;21;01mdata\u001b[39;00m \u001b[38;5;28;01mimport\u001b[39;00m \u001b[38;5;241m*\u001b[39m\n\u001b[1;32m     13\u001b[0m \u001b[38;5;28;01mfrom\u001b[39;00m \u001b[38;5;21;01mmodels\u001b[39;00m\u001b[38;5;21;01m.\u001b[39;00m\u001b[38;5;21;01mlib\u001b[39;00m\u001b[38;5;21;01m.\u001b[39;00m\u001b[38;5;21;01mneural\u001b[39;00m \u001b[38;5;28;01mimport\u001b[39;00m \u001b[38;5;241m*\u001b[39m\n",
      "\u001b[0;31mModuleNotFoundError\u001b[0m: No module named 'models'"
     ]
    }
   ],
   "source": [
    "import pandas as pd \n",
    "from sklearn.preprocessing import LabelEncoder\n",
    "import sys\n",
    "import anndata as an\n",
    "import scanpy as sp\n",
    "import h5py\n",
    "\n",
    "sys.path.append('../src')\n",
    "sys.path.append('../tests')\n",
    "\n",
    "from lightning_train import DataModule, generate_trainer\n",
    "from data import *\n",
    "from models import *\n",
    "from testing import *\n",
    "\n",
    "from pytorch_lightning.loggers import WandbLogger\n",
    "from torchmetrics.functional import *\n",
    "\n",
    "import pandas as pd\n",
    "from scipy.sparse import csr_matrix\n",
    "from pytorch_lightning.callbacks.early_stopping import EarlyStopping\n",
    "\n",
    "from bigcsv.bigcsv import experimental_to_h5ad\n",
    "from functools import partial\n",
    "import torchmetrics.functional as f\n",
    "from torchmetrics import Metric\n",
    "import torchmetrics "
   ]
  },
  {
   "cell_type": "code",
   "execution_count": null,
   "id": "e1f64c59",
   "metadata": {},
   "outputs": [],
   "source": [
    "data = an.read_h5ad('../data/pancreas/pancreas.h5ad')\n",
    "data"
   ]
  },
  {
   "cell_type": "code",
   "execution_count": 7,
   "id": "88dbee22",
   "metadata": {},
   "outputs": [
    {
     "data": {
      "text/plain": [
       "batch\n",
       "0    ['acinar', 'beta', 'delta', 'activated_stellat...\n",
       "1    ['alpha', 'ductal', 'endothelial', 'delta', 'a...\n",
       "2    ['not applicable', 'delta', 'alpha', 'gamma', ...\n",
       "3    ['dropped', 'alpha', 'ductal', 'delta', 'beta'...\n",
       "Name: celltype, dtype: object"
      ]
     },
     "execution_count": 7,
     "metadata": {},
     "output_type": "execute_result"
    }
   ],
   "source": [
    "vals = data.obs.groupby('batch')['celltype'].unique()\n",
    "vals"
   ]
  },
  {
   "cell_type": "code",
   "execution_count": 8,
   "id": "2fb93eae",
   "metadata": {},
   "outputs": [
    {
     "data": {
      "text/plain": [
       "['acinar', 'beta', 'delta', 'activated_stellate', 'ductal', ..., 'quiescent_stellate', 'macrophage', 'schwann', 'mast', 't_cell']\n",
       "Length: 14\n",
       "Categories (24, object): ['MHC class II', 'PSC', 'acinar', 'activated_stellate', ..., 't_cell', 'unclassified', 'unclassified endocrine', 'unclear']"
      ]
     },
     "execution_count": 8,
     "metadata": {},
     "output_type": "execute_result"
    }
   ],
   "source": [
    "vals[0]"
   ]
  },
  {
   "cell_type": "code",
   "execution_count": 9,
   "id": "edaea47b",
   "metadata": {},
   "outputs": [
    {
     "data": {
      "text/plain": [
       "['alpha', 'ductal', 'endothelial', 'delta', 'acinar', 'beta', 'unclear', 'gamma', 'mesenchymal', 'epsilon']\n",
       "Categories (24, object): ['MHC class II', 'PSC', 'acinar', 'activated_stellate', ..., 't_cell', 'unclassified', 'unclassified endocrine', 'unclear']"
      ]
     },
     "execution_count": 9,
     "metadata": {},
     "output_type": "execute_result"
    }
   ],
   "source": [
    "vals[1]"
   ]
  },
  {
   "cell_type": "code",
   "execution_count": 16,
   "id": "d1e2d394",
   "metadata": {},
   "outputs": [
    {
     "ename": "TypeError",
     "evalue": "unhashable type: 'Categorical'",
     "output_type": "error",
     "traceback": [
      "\u001b[0;31m---------------------------------------------------------------------------\u001b[0m",
      "\u001b[0;31mTypeError\u001b[0m                                 Traceback (most recent call last)",
      "Input \u001b[0;32mIn [16]\u001b[0m, in \u001b[0;36m<cell line: 1>\u001b[0;34m()\u001b[0m\n\u001b[0;32m----> 1\u001b[0m \u001b[38;5;28;43mset\u001b[39;49m\u001b[43m(\u001b[49m\u001b[43mvals\u001b[49m\u001b[38;5;241;43m.\u001b[39;49m\u001b[43mvalues\u001b[49m\u001b[43m)\u001b[49m\n",
      "\u001b[0;31mTypeError\u001b[0m: unhashable type: 'Categorical'"
     ]
    }
   ],
   "source": [
    "set(vals.values)"
   ]
  },
  {
   "cell_type": "code",
   "execution_count": 15,
   "id": "c0f9cc75",
   "metadata": {},
   "outputs": [
    {
     "data": {
      "text/plain": [
       "array([['acinar', 'beta', 'delta', 'activated_stellate', 'ductal', ..., 'quiescent_stellate', 'macrophage', 'schwann', 'mast', 't_cell']\n",
       "       Length: 14\n",
       "       Categories (24, object): ['MHC class II', 'PSC', 'acinar', 'activated_stellate', ..., 't_cell', 'unclassified', 'unclassified endocrine', 'unclear'],\n",
       "       ['alpha', 'ductal', 'endothelial', 'delta', 'acinar', 'beta', 'unclear', 'gamma', 'mesenchymal', 'epsilon']\n",
       "       Categories (24, object): ['MHC class II', 'PSC', 'acinar', 'activated_stellate', ..., 't_cell', 'unclassified', 'unclassified endocrine', 'unclear'],\n",
       "       ['not applicable', 'delta', 'alpha', 'gamma', 'ductal', ..., 'PSC', 'endothelial', 'epsilon', 'mast', 'unclassified']\n",
       "       Length: 15\n",
       "       Categories (24, object): ['MHC class II', 'PSC', 'acinar', 'activated_stellate', ..., 't_cell', 'unclassified', 'unclassified endocrine', 'unclear'],\n",
       "       ['dropped', 'alpha', 'ductal', 'delta', 'beta', 'gamma', 'acinar', 'mesenchyme']\n",
       "       Categories (24, object): ['MHC class II', 'PSC', 'acinar', 'activated_stellate', ..., 't_cell', 'unclassified', 'unclassified endocrine', 'unclear']],\n",
       "      dtype=object)"
      ]
     },
     "execution_count": 15,
     "metadata": {},
     "output_type": "execute_result"
    }
   ],
   "source": [
    "vals.values"
   ]
  },
  {
   "cell_type": "code",
   "execution_count": 18,
   "id": "314642a0",
   "metadata": {},
   "outputs": [
    {
     "data": {
      "text/plain": [
       "pandas.core.arrays.categorical.Categorical"
      ]
     },
     "execution_count": 18,
     "metadata": {},
     "output_type": "execute_result"
    }
   ],
   "source": []
  },
  {
   "cell_type": "code",
   "execution_count": null,
   "id": "d6cab67d",
   "metadata": {},
   "outputs": [],
   "source": []
  }
 ],
 "metadata": {
  "kernelspec": {
   "display_name": "Python [conda env:base-data-science] *",
   "language": "python",
   "name": "conda-env-base-data-science-py"
  },
  "language_info": {
   "codemirror_mode": {
    "name": "ipython",
    "version": 3
   },
   "file_extension": ".py",
   "mimetype": "text/x-python",
   "name": "python",
   "nbconvert_exporter": "python",
   "pygments_lexer": "ipython3",
   "version": "3.9.7"
  }
 },
 "nbformat": 4,
 "nbformat_minor": 5
}
