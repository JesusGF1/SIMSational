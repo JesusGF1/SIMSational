{
 "cells": [
  {
   "cell_type": "code",
   "execution_count": 1,
   "id": "93dac5bb",
   "metadata": {},
   "outputs": [],
   "source": [
    "from typing import *\n",
    "\n",
    "import torch \n",
    "import numpy as np \n",
    "import shutil \n",
    "import json \n",
    "import zipfile \n",
    "import io \n",
    "import pytorch_lightning as pl \n",
    "from scipy.sparse import csc_matrix \n",
    "from pathlib import Path \n",
    "import torch.nn.functional as F\n",
    "from torchmetrics.functional import accuracy, precision, recall \n",
    "from pytorch_tabnet.tab_network import TabNet\n",
    "import copy\n",
    "import warnings\n",
    "\n",
    "import sys, os \n",
    "sys.path.append('../src')\n",
    "\n",
    "from torchmetrics.functional import *\n",
    "import torchmetrics \n",
    "\n",
    "from data import *\n",
    "from lightning_train import *\n",
    "from model import *\n",
    "\n",
    "from torchmetrics.functional.classification.stat_scores import _stat_scores_update, _stat_scores\n",
    "from sklearn.metrics import classification_report\n",
    "from bigcsv import to_h5ad "
   ]
  },
  {
   "cell_type": "code",
   "execution_count": 2,
   "id": "03cb61e7",
   "metadata": {
    "scrolled": true
   },
   "outputs": [
    {
     "name": "stderr",
     "output_type": "stream",
     "text": [
      "/var/folders/pd/jsjcl0fn7w57s5mfr34b20pm0000gn/T/ipykernel_88606/2847047300.py:1: ParserWarning: Falling back to the 'python' engine because the 'c' engine does not support sep=None with delim_whitespace=False; you can avoid this warning by specifying engine='python'.\n",
      "  pd.read_csv('../data/dental/labels_human_dental.tsv', sep=None)\n"
     ]
    },
    {
     "data": {
      "text/html": [
       "<div>\n",
       "<style scoped>\n",
       "    .dataframe tbody tr th:only-of-type {\n",
       "        vertical-align: middle;\n",
       "    }\n",
       "\n",
       "    .dataframe tbody tr th {\n",
       "        vertical-align: top;\n",
       "    }\n",
       "\n",
       "    .dataframe thead th {\n",
       "        text-align: right;\n",
       "    }\n",
       "</style>\n",
       "<table border=\"1\" class=\"dataframe\">\n",
       "  <thead>\n",
       "    <tr style=\"text-align: right;\">\n",
       "      <th></th>\n",
       "      <th>cell_id</th>\n",
       "      <th>cluster</th>\n",
       "      <th>categorical_cell_type</th>\n",
       "      <th>cluster_celltype</th>\n",
       "      <th>sample_source</th>\n",
       "      <th>cell_type</th>\n",
       "    </tr>\n",
       "  </thead>\n",
       "  <tbody>\n",
       "    <tr>\n",
       "      <th>0</th>\n",
       "      <td>human_germinectomy_1_one_AAACCTGTCAACTCTT-1</td>\n",
       "      <td>5</td>\n",
       "      <td>8</td>\n",
       "      <td>5 - pulp</td>\n",
       "      <td>human_germinectomy</td>\n",
       "      <td>8</td>\n",
       "    </tr>\n",
       "    <tr>\n",
       "      <th>1</th>\n",
       "      <td>human_germinectomy_1_one_AAACGGGCATTGCGGC-1</td>\n",
       "      <td>5</td>\n",
       "      <td>8</td>\n",
       "      <td>5 - pulp</td>\n",
       "      <td>human_germinectomy</td>\n",
       "      <td>8</td>\n",
       "    </tr>\n",
       "    <tr>\n",
       "      <th>2</th>\n",
       "      <td>human_germinectomy_1_one_AAACGGGGTGCCTGTG-1</td>\n",
       "      <td>13</td>\n",
       "      <td>8</td>\n",
       "      <td>13 - pulp</td>\n",
       "      <td>human_germinectomy</td>\n",
       "      <td>8</td>\n",
       "    </tr>\n",
       "    <tr>\n",
       "      <th>3</th>\n",
       "      <td>human_germinectomy_1_one_AAAGATGTCACTCTTA-1</td>\n",
       "      <td>9</td>\n",
       "      <td>8</td>\n",
       "      <td>9 - pulp</td>\n",
       "      <td>human_germinectomy</td>\n",
       "      <td>8</td>\n",
       "    </tr>\n",
       "    <tr>\n",
       "      <th>4</th>\n",
       "      <td>human_germinectomy_1_one_AAAGCAACAACCGCCA-1</td>\n",
       "      <td>15</td>\n",
       "      <td>6</td>\n",
       "      <td>15 - other immune cells</td>\n",
       "      <td>human_germinectomy</td>\n",
       "      <td>6</td>\n",
       "    </tr>\n",
       "    <tr>\n",
       "      <th>...</th>\n",
       "      <td>...</td>\n",
       "      <td>...</td>\n",
       "      <td>...</td>\n",
       "      <td>...</td>\n",
       "      <td>...</td>\n",
       "      <td>...</td>\n",
       "    </tr>\n",
       "    <tr>\n",
       "      <th>41668</th>\n",
       "      <td>No5_24_yo_healthy_retained_one_TTTGTTGGTCGTCATA-1</td>\n",
       "      <td>1</td>\n",
       "      <td>8</td>\n",
       "      <td>1 - pulp</td>\n",
       "      <td>No5_24_yo_healthy_retained</td>\n",
       "      <td>8</td>\n",
       "    </tr>\n",
       "    <tr>\n",
       "      <th>41669</th>\n",
       "      <td>No5_24_yo_healthy_retained_one_TTTGTTGGTCTGTGCG-1</td>\n",
       "      <td>7</td>\n",
       "      <td>3</td>\n",
       "      <td>7 - glial</td>\n",
       "      <td>No5_24_yo_healthy_retained</td>\n",
       "      <td>3</td>\n",
       "    </tr>\n",
       "    <tr>\n",
       "      <th>41670</th>\n",
       "      <td>No5_24_yo_healthy_retained_one_TTTGTTGGTTATGTCG-1</td>\n",
       "      <td>9</td>\n",
       "      <td>8</td>\n",
       "      <td>9 - pulp</td>\n",
       "      <td>No5_24_yo_healthy_retained</td>\n",
       "      <td>8</td>\n",
       "    </tr>\n",
       "    <tr>\n",
       "      <th>41671</th>\n",
       "      <td>No5_24_yo_healthy_retained_one_TTTGTTGTCGCAGTTA-1</td>\n",
       "      <td>9</td>\n",
       "      <td>8</td>\n",
       "      <td>9 - pulp</td>\n",
       "      <td>No5_24_yo_healthy_retained</td>\n",
       "      <td>8</td>\n",
       "    </tr>\n",
       "    <tr>\n",
       "      <th>41672</th>\n",
       "      <td>No5_24_yo_healthy_retained_one_TTTGTTGTCGGTTCAA-1</td>\n",
       "      <td>1</td>\n",
       "      <td>8</td>\n",
       "      <td>1 - pulp</td>\n",
       "      <td>No5_24_yo_healthy_retained</td>\n",
       "      <td>8</td>\n",
       "    </tr>\n",
       "  </tbody>\n",
       "</table>\n",
       "<p>41673 rows × 6 columns</p>\n",
       "</div>"
      ],
      "text/plain": [
       "                                                 cell_id  cluster  \\\n",
       "0            human_germinectomy_1_one_AAACCTGTCAACTCTT-1        5   \n",
       "1            human_germinectomy_1_one_AAACGGGCATTGCGGC-1        5   \n",
       "2            human_germinectomy_1_one_AAACGGGGTGCCTGTG-1       13   \n",
       "3            human_germinectomy_1_one_AAAGATGTCACTCTTA-1        9   \n",
       "4            human_germinectomy_1_one_AAAGCAACAACCGCCA-1       15   \n",
       "...                                                  ...      ...   \n",
       "41668  No5_24_yo_healthy_retained_one_TTTGTTGGTCGTCATA-1        1   \n",
       "41669  No5_24_yo_healthy_retained_one_TTTGTTGGTCTGTGCG-1        7   \n",
       "41670  No5_24_yo_healthy_retained_one_TTTGTTGGTTATGTCG-1        9   \n",
       "41671  No5_24_yo_healthy_retained_one_TTTGTTGTCGCAGTTA-1        9   \n",
       "41672  No5_24_yo_healthy_retained_one_TTTGTTGTCGGTTCAA-1        1   \n",
       "\n",
       "       categorical_cell_type         cluster_celltype  \\\n",
       "0                          8                 5 - pulp   \n",
       "1                          8                 5 - pulp   \n",
       "2                          8                13 - pulp   \n",
       "3                          8                 9 - pulp   \n",
       "4                          6  15 - other immune cells   \n",
       "...                      ...                      ...   \n",
       "41668                      8                 1 - pulp   \n",
       "41669                      3                7 - glial   \n",
       "41670                      8                 9 - pulp   \n",
       "41671                      8                 9 - pulp   \n",
       "41672                      8                 1 - pulp   \n",
       "\n",
       "                    sample_source  cell_type  \n",
       "0              human_germinectomy          8  \n",
       "1              human_germinectomy          8  \n",
       "2              human_germinectomy          8  \n",
       "3              human_germinectomy          8  \n",
       "4              human_germinectomy          6  \n",
       "...                           ...        ...  \n",
       "41668  No5_24_yo_healthy_retained          8  \n",
       "41669  No5_24_yo_healthy_retained          3  \n",
       "41670  No5_24_yo_healthy_retained          8  \n",
       "41671  No5_24_yo_healthy_retained          8  \n",
       "41672  No5_24_yo_healthy_retained          8  \n",
       "\n",
       "[41673 rows x 6 columns]"
      ]
     },
     "execution_count": 2,
     "metadata": {},
     "output_type": "execute_result"
    }
   ],
   "source": [
    "pd.read_csv('../data/dental/labels_human_dental.tsv', sep=None)"
   ]
  },
  {
   "cell_type": "code",
   "execution_count": 3,
   "id": "a6109703",
   "metadata": {},
   "outputs": [
    {
     "name": "stderr",
     "output_type": "stream",
     "text": [
      "/var/folders/pd/jsjcl0fn7w57s5mfr34b20pm0000gn/T/ipykernel_88606/3098124994.py:1: DtypeWarning: Columns (21) have mixed types. Specify dtype option on import or set low_memory=False.\n",
      "  mouse_labels = pd.read_csv('../data/benchmark/mouse_labels.csv')\n"
     ]
    }
   ],
   "source": [
    "mouse_labels = pd.read_csv('../data/benchmark/mouse_labels.csv')\n",
    "human_labels = pd.read_csv('../data/benchmark/human_labels.csv')"
   ]
  },
  {
   "cell_type": "code",
   "execution_count": 61,
   "id": "d4c03f16",
   "metadata": {},
   "outputs": [
    {
     "name": "stderr",
     "output_type": "stream",
     "text": [
      "/Users/julian/miniconda3/envs/base-data-science/lib/python3.9/site-packages/anndata/_core/anndata.py:120: ImplicitModificationWarning: Transforming to str index.\n",
      "  warnings.warn(\"Transforming to str index.\", ImplicitModificationWarning)\n"
     ]
    }
   ],
   "source": [
    "human_data = an.read_h5ad('../data/benchmark/human.h5ad')\n",
    "mouse_data = an.read_h5ad('../data/benchmark/mouse_clipped.h5ad')"
   ]
  },
  {
   "cell_type": "markdown",
   "id": "b5c69599",
   "metadata": {},
   "source": [
    "Let's clean the cell type labels for human data since there are some NaN values"
   ]
  },
  {
   "cell_type": "code",
   "execution_count": 4,
   "id": "01c5b786",
   "metadata": {},
   "outputs": [],
   "source": [
    "fixed_human = human_labels.dropna(subset=['subclass_label'])\n",
    "fixed_human.index.name = 'cell'\n",
    "fixed_human = fixed_human.reset_index(drop=False)\n",
    "\n",
    "fixed_human.to_csv('../data/benchmark/human_labels_clean.csv', index=False)"
   ]
  },
  {
   "cell_type": "code",
   "execution_count": 6,
   "id": "52e714f3",
   "metadata": {
    "scrolled": true
   },
   "outputs": [
    {
     "data": {
      "text/plain": [
       "0                    VIP\n",
       "1                  LAMP5\n",
       "2                  LAMP5\n",
       "3                    VIP\n",
       "4                    VIP\n",
       "              ...       \n",
       "47427          Astrocyte\n",
       "47428                 IT\n",
       "47429              LAMP5\n",
       "47430    Oligodendrocyte\n",
       "47431    Oligodendrocyte\n",
       "Name: subclass_label, Length: 47432, dtype: object"
      ]
     },
     "execution_count": 6,
     "metadata": {},
     "output_type": "execute_result"
    }
   ],
   "source": [
    "pd.read_csv('../data/benchmark/human_labels_clean.csv')['subclass_label']"
   ]
  },
  {
   "cell_type": "markdown",
   "id": "26ba0fb0",
   "metadata": {},
   "source": [
    "And again for the mouse labels"
   ]
  },
  {
   "cell_type": "code",
   "execution_count": 7,
   "id": "69a14469",
   "metadata": {},
   "outputs": [],
   "source": [
    "fixed_mouse = mouse_labels.dropna(subset=['subclass_label'])\n",
    "fixed_mouse.index.name = 'cell'\n",
    "fixed_mouse = fixed_mouse.reset_index(drop=False)\n",
    "\n",
    "fixed_mouse.to_csv('../data/benchmark/mouse_labels_clean.csv', index=False)"
   ]
  },
  {
   "cell_type": "code",
   "execution_count": 65,
   "id": "3fdf3194",
   "metadata": {},
   "outputs": [
    {
     "data": {
      "text/plain": [
       "0"
      ]
     },
     "execution_count": 65,
     "metadata": {},
     "output_type": "execute_result"
    }
   ],
   "source": [
    "mouse_labels['subclass_label'].isna().sum()"
   ]
  },
  {
   "cell_type": "code",
   "execution_count": 48,
   "id": "110c41b5",
   "metadata": {
    "scrolled": true
   },
   "outputs": [],
   "source": [
    "assert mouse_labels.shape[0] == mouse_data.shape[0]"
   ]
  },
  {
   "cell_type": "code",
   "execution_count": 49,
   "id": "c769a439",
   "metadata": {},
   "outputs": [],
   "source": [
    "assert human_labels.shape[0] == human_data.shape[0]"
   ]
  },
  {
   "cell_type": "code",
   "execution_count": 24,
   "id": "55040800",
   "metadata": {},
   "outputs": [
    {
     "data": {
      "text/plain": [
       "array([nan, 'VIP', 'LAMP5', 'IT', 'PAX6', 'Oligodendrocyte', 'Astrocyte',\n",
       "       'L5/6 IT Car3', 'L5/6 NP', 'SST', 'L6 CT', 'OPC', 'PVALB', 'L6b',\n",
       "       'Microglia', 'L5 ET', 'Pericyte', 'Endothelial', 'L4 IT', 'VLMC'],\n",
       "      dtype=object)"
      ]
     },
     "execution_count": 24,
     "metadata": {},
     "output_type": "execute_result"
    }
   ],
   "source": [
    "pd.read_csv(labelfiles[0]).loc[:, 'subclass_label'].unique()"
   ]
  },
  {
   "cell_type": "markdown",
   "id": "e31e5d5a",
   "metadata": {},
   "source": [
    "Since there are some extra sample in the mouse data, we'll take the intersection of the samples labeled and those in the entire dataset, and write it out to a new file."
   ]
  },
  {
   "cell_type": "code",
   "execution_count": 13,
   "id": "5a71b941",
   "metadata": {},
   "outputs": [],
   "source": [
    "# comb = list(set(mouse_data.obs['index'].values).intersection(mouse_labels['sample_name']))\n",
    "# to_keep = mouse_data.obs[mouse_data.obs['index'].isin(comb)].index.astype(int)\n",
    "\n",
    "# clipped = an.AnnData(\n",
    "#     X=mouse_data.X[to_keep, :],\n",
    "#     obs=mouse_data.obs[mouse_data.obs['index'].isin(comb)],\n",
    "#     var=mouse_data.var\n",
    "# )\n",
    "# clipped.write('../data/benchmark/mouse_clipped.h5ad')"
   ]
  },
  {
   "cell_type": "markdown",
   "id": "68c552a0",
   "metadata": {},
   "source": [
    "Let's look at which genes intersect between the two datasets"
   ]
  },
  {
   "cell_type": "code",
   "execution_count": 15,
   "id": "6026b478",
   "metadata": {},
   "outputs": [
    {
     "data": {
      "text/plain": [
       "16519"
      ]
     },
     "execution_count": 15,
     "metadata": {},
     "output_type": "execute_result"
    }
   ],
   "source": [
    "hg = [x.upper() for x in human_data.var.index]\n",
    "mg = [x.upper() for x in mouse_data.var.index]\n",
    "\n",
    "len(set(hg).intersection(mg))"
   ]
  },
  {
   "cell_type": "code",
   "execution_count": null,
   "id": "47b2af98",
   "metadata": {},
   "outputs": [],
   "source": []
  }
 ],
 "metadata": {
  "kernelspec": {
   "display_name": "Python [conda env:base-data-science] *",
   "language": "python",
   "name": "conda-env-base-data-science-py"
  },
  "language_info": {
   "codemirror_mode": {
    "name": "ipython",
    "version": 3
   },
   "file_extension": ".py",
   "mimetype": "text/x-python",
   "name": "python",
   "nbconvert_exporter": "python",
   "pygments_lexer": "ipython3",
   "version": "3.9.7"
  }
 },
 "nbformat": 4,
 "nbformat_minor": 5
}
