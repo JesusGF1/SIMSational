{
 "cells": [
  {
   "cell_type": "code",
   "execution_count": 1,
   "id": "d382e851",
   "metadata": {},
   "outputs": [],
   "source": [
    "from typing import *\n",
    "\n",
    "import torch \n",
    "import numpy as np \n",
    "import shutil \n",
    "import json \n",
    "import zipfile \n",
    "import io \n",
    "import pytorch_lightning as pl \n",
    "from scipy.sparse import csc_matrix \n",
    "from pathlib import Path \n",
    "from pytorch_tabnet.utils import (\n",
    "    create_explain_matrix,\n",
    "    ComplexEncoder,\n",
    ")\n",
    "import torch.nn.functional as F\n",
    "from torchmetrics.functional import accuracy, precision, recall \n",
    "from pytorch_tabnet.tab_network import TabNet\n",
    "import copy\n",
    "import warnings\n",
    "\n",
    "import sys, os \n",
    "sys.path.append('../src')\n",
    "\n",
    "from torchmetrics.functional import *\n",
    "import torchmetrics \n",
    "\n",
    "from data import *\n",
    "from lightning_train import *\n",
    "from model import *\n",
    "\n",
    "from torchmetrics.functional.classification.stat_scores import _stat_scores_update, _stat_scores\n",
    "from sklearn.metrics import classification_report"
   ]
  },
  {
   "cell_type": "code",
   "execution_count": null,
   "id": "312f075c",
   "metadata": {},
   "outputs": [],
   "source": []
  },
  {
   "cell_type": "code",
   "execution_count": null,
   "id": "6414134c",
   "metadata": {},
   "outputs": [],
   "source": []
  }
 ],
 "metadata": {
  "kernelspec": {
   "display_name": "Python [conda env:base-data-science] *",
   "language": "python",
   "name": "conda-env-base-data-science-py"
  },
  "language_info": {
   "codemirror_mode": {
    "name": "ipython",
    "version": 3
   },
   "file_extension": ".py",
   "mimetype": "text/x-python",
   "name": "python",
   "nbconvert_exporter": "python",
   "pygments_lexer": "ipython3",
   "version": "3.9.7"
  }
 },
 "nbformat": 4,
 "nbformat_minor": 5
}
