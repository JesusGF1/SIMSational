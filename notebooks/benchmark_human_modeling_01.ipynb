{
 "cells": [
  {
   "cell_type": "markdown",
   "id": "4ea0e58a",
   "metadata": {},
   "source": [
    "# Benchmark Modeling 01\n",
    "\n",
    "Now that we've fixed the bug with calculating gene intersection"
   ]
  },
  {
   "cell_type": "code",
   "execution_count": null,
   "id": "5fd3088e",
   "metadata": {},
   "outputs": [],
   "source": [
    "import pandas as pd \n",
    "import numpy as np\n",
    "\n",
    "import sys, os \n",
    "sys.path.append('../src')\n",
    "\n",
    "from model import *\n",
    "from lightning_train import *"
   ]
  },
  {
   "cell_type": "code",
   "execution_count": null,
   "id": "346745e9",
   "metadata": {
    "scrolled": true
   },
   "outputs": [],
   "source": [
    "human_data = an.read_h5ad('../data/benchmark/human.h5ad')\n",
    "mouse_data = an.read_h5ad('../data/benchmark/mouse_clipped.h5ad')"
   ]
  },
  {
   "cell_type": "code",
   "execution_count": null,
   "id": "739f40b7",
   "metadata": {
    "scrolled": true
   },
   "outputs": [],
   "source": [
    "labels = pd.read_csv('../data/benchmark/human_labels/')\n",
    "labels.shape"
   ]
  },
  {
   "cell_type": "code",
   "execution_count": null,
   "id": "80aef719",
   "metadata": {
    "scrolled": true
   },
   "outputs": [],
   "source": [
    "human_cols = [x.strip().upper() for x in human_data.var.index.values]\n",
    "mouse_cols = [x.strip().upper() for x in mouse_data.var.index.values]"
   ]
  },
  {
   "cell_type": "code",
   "execution_count": 1,
   "id": "541e7e68",
   "metadata": {},
   "outputs": [
    {
     "ename": "NameError",
     "evalue": "name 'human_cols' is not defined",
     "output_type": "error",
     "traceback": [
      "\u001b[0;31m---------------------------------------------------------------------------\u001b[0m",
      "\u001b[0;31mNameError\u001b[0m                                 Traceback (most recent call last)",
      "Input \u001b[0;32mIn [1]\u001b[0m, in \u001b[0;36m<cell line: 1>\u001b[0;34m()\u001b[0m\n\u001b[0;32m----> 1\u001b[0m refgenes \u001b[38;5;241m=\u001b[39m \u001b[38;5;28mlist\u001b[39m(\u001b[38;5;28mset\u001b[39m(\u001b[43mhuman_cols\u001b[49m)\u001b[38;5;241m.\u001b[39mintersection(mouse_cols))\n\u001b[1;32m      2\u001b[0m \u001b[38;5;28mlen\u001b[39m(refgenes), \u001b[38;5;28mlen\u001b[39m(human_cols), \u001b[38;5;28mlen\u001b[39m(mouse_cols)\n",
      "\u001b[0;31mNameError\u001b[0m: name 'human_cols' is not defined"
     ]
    }
   ],
   "source": [
    "refgenes = list(set(human_cols).intersection(mouse_cols))\n",
    "len(refgenes), len(human_cols), len(mouse_cols)"
   ]
  },
  {
   "cell_type": "code",
   "execution_count": 7,
   "id": "feba5302",
   "metadata": {},
   "outputs": [
    {
     "data": {
      "text/plain": [
       "True"
      ]
     },
     "execution_count": 7,
     "metadata": {},
     "output_type": "execute_result"
    }
   ],
   "source": [
    "'LDB2' in refgenes"
   ]
  },
  {
   "cell_type": "code",
   "execution_count": 8,
   "id": "3c477de5",
   "metadata": {},
   "outputs": [
    {
     "data": {
      "text/plain": [
       "True"
      ]
     },
     "execution_count": 8,
     "metadata": {},
     "output_type": "execute_result"
    }
   ],
   "source": [
    "'CNTN4' in refgenes"
   ]
  },
  {
   "cell_type": "code",
   "execution_count": 9,
   "id": "080d9af2",
   "metadata": {},
   "outputs": [
    {
     "data": {
      "text/plain": [
       "True"
      ]
     },
     "execution_count": 9,
     "metadata": {},
     "output_type": "execute_result"
    }
   ],
   "source": [
    "'DLGAP1' in refgenes"
   ]
  },
  {
   "cell_type": "code",
   "execution_count": 10,
   "id": "ea0283ca",
   "metadata": {},
   "outputs": [
    {
     "data": {
      "text/plain": [
       "True"
      ]
     },
     "execution_count": 10,
     "metadata": {},
     "output_type": "execute_result"
    }
   ],
   "source": [
    "'PRKG1' in refgenes"
   ]
  },
  {
   "cell_type": "code",
   "execution_count": 11,
   "id": "e744580b",
   "metadata": {},
   "outputs": [
    {
     "data": {
      "text/plain": [
       "True"
      ]
     },
     "execution_count": 11,
     "metadata": {},
     "output_type": "execute_result"
    }
   ],
   "source": [
    "'NEGR1' in refgenes"
   ]
  },
  {
   "cell_type": "code",
   "execution_count": 12,
   "id": "a80078c9",
   "metadata": {
    "scrolled": true
   },
   "outputs": [
    {
     "name": "stdout",
     "output_type": "stream",
     "text": [
      "Creating train/val/test DataLoaders...\n"
     ]
    },
    {
     "name": "stderr",
     "output_type": "stream",
     "text": [
      "/Users/julian/miniconda3/envs/single-cell/lib/python3.9/site-packages/anndata/_core/anndata.py:121: ImplicitModificationWarning: Transforming to str index.\n",
      "  warnings.warn(\"Transforming to str index.\", ImplicitModificationWarning)\n"
     ]
    },
    {
     "name": "stdout",
     "output_type": "stream",
     "text": [
      "Done, continuing to training.\n",
      "Calculating weights\n"
     ]
    }
   ],
   "source": [
    "module = DataModule(\n",
    "    datafiles=['../data/benchmark/human.h5ad'],\n",
    "    labelfiles=['../data/benchmark/human_labels/human_MTG_labels_clean.csv'],\n",
    "    class_label='subclass_label',\n",
    "    index_col='cell',\n",
    "    batch_size=16,\n",
    "    num_workers=8,\n",
    "    assume_numeric_label=False,\n",
    "    currgenes=human_cols,\n",
    "    refgenes=refgenes,\n",
    "    preprocess=True,\n",
    ")\n",
    "\n",
    "# module.prepare_data()\n",
    "module.setup()"
   ]
  },
  {
   "cell_type": "code",
   "execution_count": null,
   "id": "96457bda",
   "metadata": {},
   "outputs": [
    {
     "name": "stderr",
     "output_type": "stream",
     "text": [
      "Traceback (most recent call last):\n",
      "  File \"<string>\", line 1, in <module>\n",
      "  File \"/Users/julian/miniconda3/envs/single-cell/lib/python3.9/multiprocessing/spawn.py\", line 116, in spawn_main\n",
      "    exitcode = _main(fd, parent_sentinel)\n",
      "  File \"/Users/julian/miniconda3/envs/single-cell/lib/python3.9/multiprocessing/spawn.py\", line 126, in _main\n",
      "    self = reduction.pickle.load(from_parent)\n",
      "  File \"/Users/julian/Documents/Projects/SIMS/notebooks/../src/data.py\", line 8, in <module>\n",
      "    import anndata as an \n",
      "  File \"/Users/julian/miniconda3/envs/single-cell/lib/python3.9/site-packages/anndata/__init__.py\", line 7, in <module>\n",
      "    from ._core.anndata import AnnData\n",
      "  File \"/Users/julian/miniconda3/envs/single-cell/lib/python3.9/site-packages/anndata/_core/anndata.py\", line 17, in <module>\n",
      "    import h5py\n",
      "  File \"/Users/julian/miniconda3/envs/single-cell/lib/python3.9/site-packages/h5py/__init__.py\", line 33, in <module>\n",
      "    from . import version\n",
      "  File \"/Users/julian/miniconda3/envs/single-cell/lib/python3.9/site-packages/h5py/version.py\", line 15, in <module>\n",
      "    from . import h5 as _h5\n",
      "  File \"h5py/h5.pyx\", line 1, in init h5py.h5\n",
      "ImportError: dlopen(/Users/julian/miniconda3/envs/single-cell/lib/python3.9/site-packages/h5py/defs.cpython-39-darwin.so, 0x0002): Symbol not found: _H5Pget_fapl_ros3\n",
      "  Referenced from: /Users/julian/miniconda3/envs/single-cell/lib/python3.9/site-packages/h5py/defs.cpython-39-darwin.so\n",
      "  Expected in: /Users/julian/miniconda3/envs/single-cell/lib/libhdf5.103.dylib\n"
     ]
    }
   ],
   "source": [
    "sample = next(iter(module.trainloader))[0]\n",
    "\n",
    "sample"
   ]
  },
  {
   "cell_type": "code",
   "execution_count": null,
   "id": "a91fca08",
   "metadata": {},
   "outputs": [],
   "source": [
    "sample.shape"
   ]
  },
  {
   "cell_type": "code",
   "execution_count": null,
   "id": "7ac04cc8",
   "metadata": {
    "scrolled": true
   },
   "outputs": [
    {
     "name": "stderr",
     "output_type": "stream",
     "text": [
      "/Users/julian/miniconda3/envs/base-data-science/lib/python3.9/site-packages/anndata/_core/anndata.py:120: ImplicitModificationWarning: Transforming to str index.\n",
      "  warnings.warn(\"Transforming to str index.\", ImplicitModificationWarning)\n"
     ]
    },
    {
     "name": "stdout",
     "output_type": "stream",
     "text": [
      "Initializing network\n",
      "Initializing explain matrix\n"
     ]
    },
    {
     "name": "stderr",
     "output_type": "stream",
     "text": [
      "GPU available: False, used: False\n",
      "TPU available: False, using: 0 TPU cores\n",
      "IPU available: False, using: 0 IPUs\n"
     ]
    },
    {
     "name": "stdout",
     "output_type": "stream",
     "text": [
      "assume_numeric_label=False, using sklearn.preprocessing.LabelEncoder and encoding target variables.\n",
      "Transforming labelfile 1/1\n",
      "Creating train/val/test DataLoaders...\n"
     ]
    },
    {
     "name": "stderr",
     "output_type": "stream",
     "text": [
      "/Users/julian/miniconda3/envs/base-data-science/lib/python3.9/site-packages/anndata/_core/anndata.py:120: ImplicitModificationWarning: Transforming to str index.\n",
      "  warnings.warn(\"Transforming to str index.\", ImplicitModificationWarning)\n"
     ]
    },
    {
     "name": "stdout",
     "output_type": "stream",
     "text": [
      "Done, continuing to training.\n",
      "Calculating weights\n"
     ]
    },
    {
     "name": "stderr",
     "output_type": "stream",
     "text": [
      "\u001b[34m\u001b[1mwandb\u001b[0m: Currently logged in as: \u001b[33mjlehrer1\u001b[0m (use `wandb login --relogin` to force relogin)\n"
     ]
    },
    {
     "data": {
      "text/html": [
       "wandb version 0.12.16 is available!  To upgrade, please run:\n",
       " $ pip install wandb --upgrade"
      ],
      "text/plain": [
       "<IPython.core.display.HTML object>"
      ]
     },
     "metadata": {},
     "output_type": "display_data"
    },
    {
     "data": {
      "text/html": [
       "Tracking run with wandb version 0.12.11"
      ],
      "text/plain": [
       "<IPython.core.display.HTML object>"
      ]
     },
     "metadata": {},
     "output_type": "display_data"
    },
    {
     "data": {
      "text/html": [
       "Run data is saved locally in <code>/Users/julian/Documents/Projects/SIMS/notebooks/wandb/run-20220519_220350-84dqhety</code>"
      ],
      "text/plain": [
       "<IPython.core.display.HTML object>"
      ]
     },
     "metadata": {},
     "output_type": "display_data"
    },
    {
     "data": {
      "text/html": [
       "Syncing run <strong><a href=\"https://wandb.ai/jlehrer1/Benchmark%20Model%2C%20Human%20MTG/runs/84dqhety\" target=\"_blank\">Human MTG</a></strong> to <a href=\"https://wandb.ai/jlehrer1/Benchmark%20Model%2C%20Human%20MTG\" target=\"_blank\">Weights & Biases</a> (<a href=\"https://wandb.me/run\" target=\"_blank\">docs</a>)<br/>"
      ],
      "text/plain": [
       "<IPython.core.display.HTML object>"
      ]
     },
     "metadata": {},
     "output_type": "display_data"
    },
    {
     "name": "stderr",
     "output_type": "stream",
     "text": [
      "\n",
      "  | Name    | Type   | Params\n",
      "-----------------------------------\n",
      "0 | network | TabNet | 3.3 M \n",
      "-----------------------------------\n",
      "3.3 M     Trainable params\n",
      "0         Non-trainable params\n",
      "3.3 M     Total params\n",
      "13.297    Total estimated model params size (MB)\n"
     ]
    },
    {
     "data": {
      "application/vnd.jupyter.widget-view+json": {
       "model_id": "",
       "version_major": 2,
       "version_minor": 0
      },
      "text/plain": [
       "Validation sanity check: 0it [00:00, ?it/s]"
      ]
     },
     "metadata": {},
     "output_type": "display_data"
    },
    {
     "name": "stderr",
     "output_type": "stream",
     "text": [
      "/Users/julian/miniconda3/envs/base-data-science/lib/python3.9/site-packages/pytorch_lightning/trainer/connectors/logger_connector/result.py:219: UserWarning: You called `self.log('val_confusion_matrix', ...)` in your `validation_step` but the value needs to be floating point. Converting it to torch.float32.\n",
      "  warning_cache.warn(\n",
      "/Users/julian/miniconda3/envs/base-data-science/lib/python3.9/site-packages/torchmetrics/utilities/prints.py:36: UserWarning: No positive samples in targets, true positive value should be meaningless. Returning zero tensor in true positive score\n",
      "  warnings.warn(*args, **kwargs)\n",
      "/Users/julian/Documents/Projects/SIMS/notebooks/../src/model.py:206: RuntimeWarning: invalid value encountered in true_divide\n",
      "  precision = tp / (tp + fp)\n",
      "/Users/julian/Documents/Projects/SIMS/notebooks/../src/model.py:207: RuntimeWarning: invalid value encountered in true_divide\n",
      "  recall = tp / (tp + fn)\n",
      "/Users/julian/Documents/Projects/SIMS/notebooks/../src/model.py:208: RuntimeWarning: invalid value encountered in true_divide\n",
      "  f1s = 2*(precision * recall) / (precision + recall)\n"
     ]
    },
    {
     "data": {
      "application/vnd.jupyter.widget-view+json": {
       "model_id": "5b872a353e4b49f3b0dca3faa9430cfb",
       "version_major": 2,
       "version_minor": 0
      },
      "text/plain": [
       "Training: 0it [00:00, ?it/s]"
      ]
     },
     "metadata": {},
     "output_type": "display_data"
    },
    {
     "name": "stderr",
     "output_type": "stream",
     "text": [
      "/Users/julian/miniconda3/envs/base-data-science/lib/python3.9/site-packages/pytorch_lightning/trainer/connectors/logger_connector/result.py:219: UserWarning: You called `self.log('train_confusion_matrix', ...)` in your `training_step` but the value needs to be floating point. Converting it to torch.float32.\n",
      "  warning_cache.warn(\n",
      "/Users/julian/miniconda3/envs/base-data-science/lib/python3.9/site-packages/torchmetrics/utilities/prints.py:36: UserWarning: No negative samples in targets, false positive value should be meaningless. Returning zero tensor in false positive score\n",
      "  warnings.warn(*args, **kwargs)\n"
     ]
    },
    {
     "data": {
      "application/vnd.jupyter.widget-view+json": {
       "model_id": "",
       "version_major": 2,
       "version_minor": 0
      },
      "text/plain": [
       "Validating: 0it [00:00, ?it/s]"
      ]
     },
     "metadata": {},
     "output_type": "display_data"
    },
    {
     "data": {
      "application/vnd.jupyter.widget-view+json": {
       "model_id": "",
       "version_major": 2,
       "version_minor": 0
      },
      "text/plain": [
       "Validating: 0it [00:00, ?it/s]"
      ]
     },
     "metadata": {},
     "output_type": "display_data"
    },
    {
     "data": {
      "application/vnd.jupyter.widget-view+json": {
       "model_id": "d67c2a48548b492989e8e0a84cd4e93c",
       "version_major": 2,
       "version_minor": 0
      },
      "text/plain": [
       "Validating: 0it [00:00, ?it/s]"
      ]
     },
     "metadata": {},
     "output_type": "display_data"
    },
    {
     "name": "stderr",
     "output_type": "stream",
     "text": [
      "libc++abi: terminating with uncaught exception of type std::length_error: vector\n"
     ]
    }
   ],
   "source": [
    "model = SIMSClassifier(\n",
    "    input_dim=module.input_dim,\n",
    "    output_dim=module.num_labels,\n",
    ")\n",
    "\n",
    "early_stopping_callback = pl.callbacks.EarlyStopping(\n",
    "    monitor='val_loss',\n",
    "    patience=25,\n",
    ")\n",
    "\n",
    "lr_callback = pl.callbacks.LearningRateMonitor(logging_interval='epoch')\n",
    "\n",
    "wandb_logger = WandbLogger(\n",
    "    project=f\"Benchmark Model, Human MTG\",\n",
    "    name='Human MTG'\n",
    ")\n",
    "\n",
    "trainer = pl.Trainer(\n",
    "    logger=wandb_logger,\n",
    "    callbacks=[\n",
    "        early_stopping_callback,\n",
    "        lr_callback\n",
    "    ],\n",
    "    max_epochs=200,\n",
    ")\n",
    "\n",
    "trainer.fit(model, datamodule=module)"
   ]
  },
  {
   "cell_type": "code",
   "execution_count": 8,
   "id": "257f6d9c",
   "metadata": {},
   "outputs": [
    {
     "data": {
      "text/plain": [
       "torch.Size([16519])"
      ]
     },
     "execution_count": 8,
     "metadata": {},
     "output_type": "execute_result"
    }
   ],
   "source": [
    "next(iter(module.trainloader))[0][0].shape"
   ]
  },
  {
   "cell_type": "code",
   "execution_count": null,
   "id": "60e75b0b",
   "metadata": {},
   "outputs": [],
   "source": []
  }
 ],
 "metadata": {
  "kernelspec": {
   "display_name": "Python [conda env:single-cell]",
   "language": "python",
   "name": "conda-env-single-cell-py"
  },
  "language_info": {
   "codemirror_mode": {
    "name": "ipython",
    "version": 3
   },
   "file_extension": ".py",
   "mimetype": "text/x-python",
   "name": "python",
   "nbconvert_exporter": "python",
   "pygments_lexer": "ipython3",
   "version": "3.9.12"
  }
 },
 "nbformat": 4,
 "nbformat_minor": 5
}
