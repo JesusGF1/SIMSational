{
 "cells": [
  {
   "cell_type": "code",
   "execution_count": 10,
   "id": "0d78e83c",
   "metadata": {},
   "outputs": [],
   "source": [
    "import wandb\n",
    "import plotly.express as px \n",
    "import plotly.graph_objects as go\n",
    "import numpy as np \n",
    "import pandas as pd \n",
    "from tqdm import tqdm\n",
    "import matplotlib.pyplot as plt "
   ]
  },
  {
   "cell_type": "code",
   "execution_count": 11,
   "id": "2c95e691",
   "metadata": {},
   "outputs": [],
   "source": [
    "api = wandb.Api()"
   ]
  },
  {
   "cell_type": "code",
   "execution_count": 12,
   "id": "756a6092",
   "metadata": {},
   "outputs": [],
   "source": [
    "runs = [run for run in api.runs('jlehrer1/Ablation Study') if run.state == 'finished']"
   ]
  },
  {
   "cell_type": "code",
   "execution_count": 18,
   "id": "4e89f40c",
   "metadata": {},
   "outputs": [
    {
     "name": "stdout",
     "output_type": "stream",
     "text": [
      "Help on Run in module wandb.apis.public object:\n",
      "\n",
      "3gwl3y7u = class Run(Attrs)\n",
      " |  3gwl3y7u(client, entity, project, run_id, attrs={})\n",
      " |  \n",
      " |  A single run associated with an entity and project.\n",
      " |  \n",
      " |  Attributes:\n",
      " |      tags ([str]): a list of tags associated with the run\n",
      " |      url (str): the url of this run\n",
      " |      id (str): unique identifier for the run (defaults to eight characters)\n",
      " |      name (str): the name of the run\n",
      " |      state (str): one of: running, finished, crashed, killed, preempting, preempted\n",
      " |      config (dict): a dict of hyperparameters associated with the run\n",
      " |      created_at (str): ISO timestamp when the run was started\n",
      " |      system_metrics (dict): the latest system metrics recorded for the run\n",
      " |      summary (dict): A mutable dict-like property that holds the current summary.\n",
      " |                  Calling update will persist any changes.\n",
      " |      project (str): the project associated with the run\n",
      " |      entity (str): the name of the entity associated with the run\n",
      " |      user (str): the name of the user who created the run\n",
      " |      path (str): Unique identifier [entity]/[project]/[run_id]\n",
      " |      notes (str): Notes about the run\n",
      " |      read_only (boolean): Whether the run is editable\n",
      " |      history_keys (str): Keys of the history metrics that have been logged\n",
      " |          with `wandb.log({key: value})`\n",
      " |  \n",
      " |  Method resolution order:\n",
      " |      Run\n",
      " |      Attrs\n",
      " |      builtins.object\n",
      " |  \n",
      " |  Methods defined here:\n",
      " |  \n",
      " |  __init__(self, client, entity, project, run_id, attrs={})\n",
      " |      Run is always initialized by calling api.runs() where api is an instance of wandb.Api\n",
      " |  \n",
      " |  __repr__(self)\n",
      " |      Return repr(self).\n",
      " |  \n",
      " |  delete(self, delete_artifacts=False)\n",
      " |      Deletes the given run from the wandb backend.\n",
      " |  \n",
      " |  file(self, name)\n",
      " |      Arguments:\n",
      " |          name (str): name of requested file.\n",
      " |      \n",
      " |      Returns:\n",
      " |          A `File` matching the name argument.\n",
      " |  \n",
      " |  files(self, names=[], per_page=50)\n",
      " |      Arguments:\n",
      " |          names (list): names of the requested files, if empty returns all files\n",
      " |          per_page (int): number of results per page\n",
      " |      \n",
      " |      Returns:\n",
      " |          A `Files` object, which is an iterator over `File` objects.\n",
      " |  \n",
      " |  history(self, samples=500, keys=None, x_axis='_step', pandas=True, stream='default')\n",
      " |      Returns sampled history metrics for a run.  This is simpler and faster if you are ok with\n",
      " |      the history records being sampled.\n",
      " |      \n",
      " |      Arguments:\n",
      " |          samples (int, optional): The number of samples to return\n",
      " |          pandas (bool, optional): Return a pandas dataframe\n",
      " |          keys (list, optional): Only return metrics for specific keys\n",
      " |          x_axis (str, optional): Use this metric as the xAxis defaults to _step\n",
      " |          stream (str, optional): \"default\" for metrics, \"system\" for machine metrics\n",
      " |      \n",
      " |      Returns:\n",
      " |          If pandas=True returns a `pandas.DataFrame` of history metrics.\n",
      " |          If pandas=False returns a list of dicts of history metrics.\n",
      " |  \n",
      " |  load(self, force=False)\n",
      " |  \n",
      " |  log_artifact(self, artifact, aliases=None)\n",
      " |      Declare an artifact as output of a run.\n",
      " |      \n",
      " |      Arguments:\n",
      " |          artifact (`Artifact`): An artifact returned from\n",
      " |              `wandb.Api().artifact(name)`\n",
      " |          aliases (list, optional): Aliases to apply to this artifact\n",
      " |      Returns:\n",
      " |          A `Artifact` object.\n",
      " |  \n",
      " |  logged_artifacts(self, per_page=100)\n",
      " |  \n",
      " |  save(self)\n",
      " |  \n",
      " |  scan_history(self, keys=None, page_size=1000, min_step=None, max_step=None)\n",
      " |      Returns an iterable collection of all history records for a run.\n",
      " |      \n",
      " |      Example:\n",
      " |          Export all the loss values for an example run\n",
      " |      \n",
      " |          ```python\n",
      " |          run = api.run(\"l2k2/examples-numpy-boston/i0wt6xua\")\n",
      " |          history = run.scan_history(keys=[\"Loss\"])\n",
      " |          losses = [row[\"Loss\"] for row in history]\n",
      " |          ```\n",
      " |      \n",
      " |      \n",
      " |      Arguments:\n",
      " |          keys ([str], optional): only fetch these keys, and only fetch rows that have all of keys defined.\n",
      " |          page_size (int, optional): size of pages to fetch from the api\n",
      " |      \n",
      " |      Returns:\n",
      " |          An iterable collection over history records (dict).\n",
      " |  \n",
      " |  to_html(self, height=420, hidden=False)\n",
      " |      Generate HTML containing an iframe displaying this run\n",
      " |  \n",
      " |  update(self)\n",
      " |      Persists changes to the run object to the wandb backend.\n",
      " |  \n",
      " |  upload_file(self, path, root='.')\n",
      " |      Arguments:\n",
      " |          path (str): name of file to upload.\n",
      " |          root (str): the root path to save the file relative to.  i.e.\n",
      " |              If you want to have the file saved in the run as \"my_dir/file.txt\"\n",
      " |              and you're currently in \"my_dir\" you would set root to \"../\"\n",
      " |      \n",
      " |      Returns:\n",
      " |          A `File` matching the name argument.\n",
      " |  \n",
      " |  use_artifact(self, artifact, use_as=None)\n",
      " |      Declare an artifact as an input to a run.\n",
      " |      \n",
      " |      Arguments:\n",
      " |          artifact (`Artifact`): An artifact returned from\n",
      " |              `wandb.Api().artifact(name)`\n",
      " |          use_as (string, optional): A string identifying\n",
      " |              how the artifact is used in the script. Used\n",
      " |              to easily differentiate artifacts used in a\n",
      " |              run, when using the beta wandb launch\n",
      " |              feature's artifact swapping functionality.\n",
      " |      Returns:\n",
      " |          A `Artifact` object.\n",
      " |  \n",
      " |  used_artifacts(self, per_page=100)\n",
      " |  \n",
      " |  wait_until_finished(self)\n",
      " |  \n",
      " |  ----------------------------------------------------------------------\n",
      " |  Class methods defined here:\n",
      " |  \n",
      " |  create(api, run_id=None, project=None, entity=None) from builtins.type\n",
      " |      Create a run for the given project\n",
      " |  \n",
      " |  ----------------------------------------------------------------------\n",
      " |  Readonly properties defined here:\n",
      " |  \n",
      " |  entity\n",
      " |  \n",
      " |  json_config\n",
      " |  \n",
      " |  lastHistoryStep\n",
      " |  \n",
      " |  path\n",
      " |  \n",
      " |  state\n",
      " |  \n",
      " |  storage_id\n",
      " |  \n",
      " |  summary\n",
      " |  \n",
      " |  url\n",
      " |  \n",
      " |  username\n",
      " |  \n",
      " |  ----------------------------------------------------------------------\n",
      " |  Data descriptors defined here:\n",
      " |  \n",
      " |  id\n",
      " |  \n",
      " |  name\n",
      " |  \n",
      " |  ----------------------------------------------------------------------\n",
      " |  Methods inherited from Attrs:\n",
      " |  \n",
      " |  __getattr__(self, name)\n",
      " |  \n",
      " |  display(self, height=420, hidden=False) -> bool\n",
      " |      Display this object in jupyter\n",
      " |  \n",
      " |  snake_to_camel(self, string)\n",
      " |  \n",
      " |  ----------------------------------------------------------------------\n",
      " |  Data descriptors inherited from Attrs:\n",
      " |  \n",
      " |  __dict__\n",
      " |      dictionary for instance variables (if defined)\n",
      " |  \n",
      " |  __weakref__\n",
      " |      list of weak references to the object (if defined)\n",
      "\n"
     ]
    }
   ],
   "source": [
    "help(runs[0])"
   ]
  },
  {
   "cell_type": "code",
   "execution_count": 20,
   "id": "f165e8f2",
   "metadata": {
    "scrolled": true
   },
   "outputs": [],
   "source": [
    "r = runs[0].scan_history(keys=[\n",
    "    'val_loss_epoch',\n",
    "    'val_weighted_accuracy',\n",
    "    'val_median_f1'\n",
    "])"
   ]
  },
  {
   "cell_type": "code",
   "execution_count": 26,
   "id": "dc88cf4b",
   "metadata": {
    "scrolled": true
   },
   "outputs": [
    {
     "data": {
      "text/html": [
       "<div>\n",
       "<style scoped>\n",
       "    .dataframe tbody tr th:only-of-type {\n",
       "        vertical-align: middle;\n",
       "    }\n",
       "\n",
       "    .dataframe tbody tr th {\n",
       "        vertical-align: top;\n",
       "    }\n",
       "\n",
       "    .dataframe thead th {\n",
       "        text-align: right;\n",
       "    }\n",
       "</style>\n",
       "<table border=\"1\" class=\"dataframe\">\n",
       "  <thead>\n",
       "    <tr style=\"text-align: right;\">\n",
       "      <th></th>\n",
       "      <th>val_loss_epoch</th>\n",
       "      <th>val_weighted_accuracy</th>\n",
       "      <th>val_median_f1</th>\n",
       "    </tr>\n",
       "  </thead>\n",
       "  <tbody>\n",
       "    <tr>\n",
       "      <th>0</th>\n",
       "      <td>2.949212</td>\n",
       "      <td>0.379011</td>\n",
       "      <td>0.000000</td>\n",
       "    </tr>\n",
       "    <tr>\n",
       "      <th>1</th>\n",
       "      <td>2.863232</td>\n",
       "      <td>0.434996</td>\n",
       "      <td>0.000000</td>\n",
       "    </tr>\n",
       "    <tr>\n",
       "      <th>2</th>\n",
       "      <td>1.612395</td>\n",
       "      <td>0.721363</td>\n",
       "      <td>0.484848</td>\n",
       "    </tr>\n",
       "    <tr>\n",
       "      <th>3</th>\n",
       "      <td>0.749035</td>\n",
       "      <td>0.910049</td>\n",
       "      <td>0.885864</td>\n",
       "    </tr>\n",
       "    <tr>\n",
       "      <th>4</th>\n",
       "      <td>0.378545</td>\n",
       "      <td>0.956547</td>\n",
       "      <td>0.971252</td>\n",
       "    </tr>\n",
       "    <tr>\n",
       "      <th>...</th>\n",
       "      <td>...</td>\n",
       "      <td>...</td>\n",
       "      <td>...</td>\n",
       "    </tr>\n",
       "    <tr>\n",
       "      <th>79</th>\n",
       "      <td>0.200611</td>\n",
       "      <td>0.974350</td>\n",
       "      <td>0.981535</td>\n",
       "    </tr>\n",
       "    <tr>\n",
       "      <th>80</th>\n",
       "      <td>0.167124</td>\n",
       "      <td>0.974116</td>\n",
       "      <td>0.981132</td>\n",
       "    </tr>\n",
       "    <tr>\n",
       "      <th>81</th>\n",
       "      <td>0.159982</td>\n",
       "      <td>0.977747</td>\n",
       "      <td>0.983678</td>\n",
       "    </tr>\n",
       "    <tr>\n",
       "      <th>82</th>\n",
       "      <td>0.170713</td>\n",
       "      <td>0.976107</td>\n",
       "      <td>0.985401</td>\n",
       "    </tr>\n",
       "    <tr>\n",
       "      <th>83</th>\n",
       "      <td>0.195270</td>\n",
       "      <td>0.975755</td>\n",
       "      <td>0.983213</td>\n",
       "    </tr>\n",
       "  </tbody>\n",
       "</table>\n",
       "<p>84 rows × 3 columns</p>\n",
       "</div>"
      ],
      "text/plain": [
       "    val_loss_epoch  val_weighted_accuracy  val_median_f1\n",
       "0         2.949212               0.379011       0.000000\n",
       "1         2.863232               0.434996       0.000000\n",
       "2         1.612395               0.721363       0.484848\n",
       "3         0.749035               0.910049       0.885864\n",
       "4         0.378545               0.956547       0.971252\n",
       "..             ...                    ...            ...\n",
       "79        0.200611               0.974350       0.981535\n",
       "80        0.167124               0.974116       0.981132\n",
       "81        0.159982               0.977747       0.983678\n",
       "82        0.170713               0.976107       0.985401\n",
       "83        0.195270               0.975755       0.983213\n",
       "\n",
       "[84 rows x 3 columns]"
      ]
     },
     "execution_count": 26,
     "metadata": {},
     "output_type": "execute_result"
    }
   ],
   "source": [
    "pd.DataFrame(r)"
   ]
  },
  {
   "cell_type": "code",
   "execution_count": 43,
   "id": "d71eeaef",
   "metadata": {
    "scrolled": true
   },
   "outputs": [
    {
     "name": "stderr",
     "output_type": "stream",
     "text": [
      "100%|███████████████████████████████████████████████████████████████████████████████████████████████████████████████████| 9/9 [01:09<00:00,  7.70s/it]\n"
     ]
    }
   ],
   "source": [
    "loss, wacc, bacc, f1 = pd.DataFrame(), pd.DataFrame(), pd.DataFrame(), pd.DataFrame()\n",
    "\n",
    "for run in tqdm(runs):\n",
    "    r = run.scan_history(keys=[\n",
    "        'val_loss_epoch',\n",
    "        'val_weighted_accuracy',\n",
    "        'val_balanced_accuracy',\n",
    "        'val_median_f1'\n",
    "    ])\n",
    "    \n",
    "    df = pd.DataFrame(r)\n",
    "    df = df.loc[0:50, :]\n",
    "        \n",
    "    loss[run.name] = df['val_loss_epoch']\n",
    "    wacc[run.name] = df['val_weighted_accuracy']\n",
    "    bacc[run.name] = df['val_balanced_accuracy']\n",
    "    f1[run.name] = df['val_median_f1']\n"
   ]
  },
  {
   "cell_type": "code",
   "execution_count": 47,
   "id": "218eb7e6",
   "metadata": {
    "scrolled": true
   },
   "outputs": [],
   "source": [
    "loss = loss.sort_index(axis=1)\n",
    "f1 = f1.sort_index(axis=1)\n",
    "wacc = wacc.sort_index(axis=1)\n",
    "bacc = bacc.sort_index(axis=1)"
   ]
  },
  {
   "cell_type": "code",
   "execution_count": 58,
   "id": "c3d216cd",
   "metadata": {
    "scrolled": true
   },
   "outputs": [
    {
     "data": {
      "application/vnd.plotly.v1+json": {
       "config": {
        "plotlyServerURL": "https://plot.ly"
       },
       "data": [
        {
         "name": "Proportion=0.1",
         "type": "scatter",
         "x": [
          0,
          1,
          2,
          3,
          4,
          5,
          6,
          7,
          8,
          9,
          10,
          11,
          12,
          13,
          14,
          15,
          16,
          17,
          18,
          19,
          20,
          21,
          22,
          23,
          24,
          25,
          26,
          27,
          28,
          29,
          30,
          31,
          32,
          33,
          34,
          35,
          36,
          37,
          38,
          39,
          40,
          41,
          42,
          43,
          44,
          45,
          46,
          47,
          48,
          49,
          50
         ],
         "y": [
          2.9484541416168213,
          2.9402482509613037,
          2.9212632179260254,
          2.8625874519348145,
          2.678518056869507,
          2.485133647918701,
          2.2551615238189697,
          2.096925973892212,
          1.8220269680023193,
          1.6603052616119385,
          1.5259993076324463,
          1.3576644659042358,
          1.1995172500610352,
          0.9779709577560425,
          0.8210643529891968,
          0.7801528573036194,
          0.667251706123352,
          0.618752121925354,
          0.5674533843994141,
          0.5043162107467651,
          0.4679500162601471,
          0.4200310707092285,
          0.3761836290359497,
          0.34908369183540344,
          0.38163164258003235,
          0.32603713870048523,
          0.3462567627429962,
          0.31079038977622986,
          0.3035021126270294,
          0.3265320658683777,
          0.3046337962150574,
          0.33325839042663574,
          0.3188408315181732,
          0.3825983703136444,
          0.4896456301212311,
          0.3156851828098297,
          0.293197900056839,
          0.33171674609184265,
          0.3680468797683716,
          0.404706209897995,
          0.28942304849624634,
          0.31883278489112854,
          0.35074660181999207,
          0.295886367559433,
          0.2776305377483368,
          0.38332098722457886,
          0.3143453299999237,
          0.35580646991729736,
          0.36506187915802,
          0.2964361310005188,
          0.32421451807022095
         ]
        },
        {
         "name": "Proportion=0.2",
         "type": "scatter",
         "x": [
          0,
          1,
          2,
          3,
          4,
          5,
          6,
          7,
          8,
          9,
          10,
          11,
          12,
          13,
          14,
          15,
          16,
          17,
          18,
          19,
          20,
          21,
          22,
          23,
          24,
          25,
          26,
          27,
          28,
          29,
          30,
          31,
          32,
          33,
          34,
          35,
          36,
          37,
          38,
          39,
          40,
          41,
          42,
          43,
          44,
          45,
          46,
          47,
          48,
          49,
          50
         ],
         "y": [
          2.9472548961639404,
          2.934823513031006,
          2.955291509628296,
          2.637535810470581,
          2.2156319618225098,
          1.7459614276885986,
          1.34773588180542,
          0.9675576090812683,
          0.7596028447151184,
          0.5817501544952393,
          0.5254368185997009,
          0.49476203322410583,
          0.4240116775035858,
          0.40923038125038147,
          0.38465479016304016,
          0.3341236710548401,
          0.42421820759773254,
          0.4229219853878021,
          0.39888232946395874,
          0.3953457772731781,
          0.4186064302921295,
          0.34437206387519836,
          0.3303551971912384,
          0.3431195914745331,
          0.34630656242370605,
          0.3821021020412445,
          0.3833010792732239,
          0.3706417381763458,
          0.39827683568000793,
          0.34913963079452515,
          0.401395708322525,
          0.46214359998703003,
          0.3901672661304474,
          0.4120400547981262,
          0.4234636127948761,
          0.39247915148735046,
          0.3301808834075928,
          0.3912392556667328,
          0.3243361711502075,
          0.4202733337879181,
          0.5111928582191467,
          0.39488187432289124,
          0.37586885690689087,
          0.3614281415939331,
          0.3554876148700714,
          0.519305944442749,
          0.3947000801563263,
          0.3746752142906189,
          0.36451810598373413,
          0.41691696643829346,
          0.4585580825805664
         ]
        },
        {
         "name": "Proportion=0.3",
         "type": "scatter",
         "x": [
          0,
          1,
          2,
          3,
          4,
          5,
          6,
          7,
          8,
          9,
          10,
          11,
          12,
          13,
          14,
          15,
          16,
          17,
          18,
          19,
          20,
          21,
          22,
          23,
          24,
          25,
          26,
          27,
          28,
          29,
          30,
          31,
          32,
          33,
          34,
          35,
          36,
          37,
          38,
          39,
          40,
          41,
          42,
          43,
          44,
          45,
          46,
          47,
          48,
          49,
          50
         ],
         "y": [
          2.9457859992980957,
          2.9471325874328613,
          2.9447100162506104,
          2.937455415725708,
          2.8909687995910645,
          2.54367995262146,
          2.149549961090088,
          1.6067230701446533,
          1.222664713859558,
          0.9932652711868286,
          0.8949407935142517,
          0.7487688064575195,
          0.6323590874671936,
          0.5091766119003296,
          0.4731980562210083,
          0.3369397222995758,
          0.31602057814598083,
          0.3098400831222534,
          0.2784649729728699,
          0.2715062201023102,
          0.2580004930496216,
          0.26335546374320984,
          0.322979211807251,
          0.2619478702545166,
          0.24639658629894257,
          0.21895594894886017,
          0.246670201420784,
          0.28312790393829346,
          0.26228585839271545,
          0.227743998169899,
          0.18576635420322418,
          0.22981508076190948,
          0.20964059233665466,
          0.18443213403224945,
          0.1832432746887207,
          0.21984273195266724,
          0.22019483149051666,
          0.18558768928050995,
          0.19554637372493744,
          0.23338809609413147,
          0.2398548424243927,
          0.25874778628349304,
          0.23873195052146912,
          0.1963113397359848,
          0.23825854063034058,
          0.19540634751319885,
          0.19678398966789246,
          0.20868663489818573,
          0.16503790020942688,
          0.19321610033512115,
          0.17832721769809723
         ]
        },
        {
         "name": "Proportion=0.4",
         "type": "scatter",
         "x": [
          0,
          1,
          2,
          3,
          4,
          5,
          6,
          7,
          8,
          9,
          10,
          11,
          12,
          13,
          14,
          15,
          16,
          17,
          18,
          19,
          20,
          21,
          22,
          23,
          24,
          25,
          26,
          27,
          28,
          29,
          30,
          31,
          32,
          33,
          34,
          35,
          36,
          37,
          38,
          39,
          40,
          41,
          42,
          43,
          44,
          45,
          46,
          47,
          48,
          49,
          50
         ],
         "y": [
          2.931166887283325,
          1.853553295135498,
          1.131051778793335,
          0.6565783023834229,
          0.4113999307155609,
          0.33923184871673584,
          0.29991406202316284,
          0.269733190536499,
          0.2713540196418762,
          0.2699781358242035,
          0.2298535704612732,
          0.26658061146736145,
          0.25614333152770996,
          0.2236718386411667,
          0.249792218208313,
          0.2318500578403473,
          0.26710110902786255,
          0.2383563369512558,
          0.2535054385662079,
          0.2545493543148041,
          0.2158268839120865,
          0.27827930450439453,
          0.23187345266342163,
          0.2601563036441803,
          0.2666281461715698,
          0.31803780794143677,
          0.2707411050796509,
          0.25683844089508057,
          0.25282779335975647,
          0.28667789697647095,
          0.2386508584022522,
          0.2310505509376526,
          0.2396492213010788,
          0.22339095175266266,
          0.23704135417938232,
          0.23200733959674835,
          0.22972099483013153,
          0.2178022563457489,
          0.24344606697559357,
          0.25763654708862305,
          0.22810833156108856,
          0.2291221022605896,
          0.23573347926139832,
          0.23954448103904724,
          0.2775610685348511,
          0.21281380951404572,
          0.22883687913417816,
          0.2118094265460968,
          0.24365130066871643,
          0.2573554813861847,
          0.26896366477012634
         ]
        },
        {
         "name": "Proportion=0.5",
         "type": "scatter",
         "x": [
          0,
          1,
          2,
          3,
          4,
          5,
          6,
          7,
          8,
          9,
          10,
          11,
          12,
          13,
          14,
          15,
          16,
          17,
          18,
          19,
          20,
          21,
          22,
          23,
          24,
          25,
          26,
          27,
          28,
          29,
          30,
          31,
          32,
          33,
          34,
          35,
          36,
          37,
          38,
          39,
          40,
          41,
          42,
          43,
          44,
          45,
          46,
          47,
          48,
          49,
          50
         ],
         "y": [
          2.8263087272644043,
          1.3666433095932007,
          0.6513254046440125,
          0.44215157628059387,
          0.36964839696884155,
          0.37011265754699707,
          0.3181629180908203,
          0.27574196457862854,
          0.2941734492778778,
          0.3649294674396515,
          0.449494332075119,
          0.3492624759674072,
          0.29899367690086365,
          0.4232795536518097,
          0.3196261525154114,
          0.3227577805519104,
          0.2750083804130554,
          0.2836702764034271,
          0.2418006807565689,
          0.30796653032302856,
          0.2937609553337097,
          0.29302260279655457,
          0.24850857257843018,
          0.2862108647823334,
          0.253821462392807,
          0.24721337854862213,
          0.2259989231824875,
          0.23356716334819794,
          0.245259091258049,
          0.26627084612846375,
          0.25781896710395813,
          0.29063671827316284,
          0.2199380248785019,
          0.21869643032550812,
          0.21485674381256104,
          0.27779635787010193,
          0.2752269506454468,
          0.2515757381916046,
          0.255931556224823,
          0.25095078349113464,
          0.2313205599784851,
          0.20645494759082794,
          0.20160160958766937,
          0.23183898627758026,
          0.2371332198381424,
          0.23152922093868256,
          0.2552129924297333,
          0.22455619275569916,
          0.23962034285068512,
          0.2125997245311737,
          0.20267510414123535
         ]
        },
        {
         "name": "Proportion=0.6",
         "type": "scatter",
         "x": [
          0,
          1,
          2,
          3,
          4,
          5,
          6,
          7,
          8,
          9,
          10,
          11,
          12,
          13,
          14,
          15,
          16,
          17,
          18,
          19,
          20,
          21,
          22,
          23,
          24,
          25,
          26,
          27,
          28,
          29,
          30,
          31,
          32,
          33,
          34,
          35,
          36,
          37,
          38,
          39,
          40,
          41,
          42,
          43,
          44,
          45,
          46,
          47,
          48,
          49,
          50
         ],
         "y": [
          2.945319652557373,
          2.938809394836426,
          2.8120622634887695,
          2.2552051544189453,
          1.4491620063781738,
          0.8700043559074402,
          0.4635166823863983,
          0.32962557673454285,
          0.22927138209342957,
          0.2030976563692093,
          0.25313305854797363,
          0.2540273368358612,
          0.2686846852302551,
          0.2545415759086609,
          0.2013857513666153,
          0.1814838945865631,
          0.18735453486442566,
          0.18449454009532928,
          0.1744021624326706,
          0.13346780836582184,
          0.14560921490192413,
          0.09665652364492416,
          0.10053633153438568,
          0.10496919602155685,
          0.12523938715457916,
          0.21172671020030975,
          0.12327126413583755,
          0.12849947810173035,
          0.16726666688919067,
          0.1983867734670639,
          0.14543700218200684,
          0.12121975421905518,
          0.19571615755558014,
          0.08719314634799957,
          0.11703705787658691,
          0.15143577754497528,
          0.1403939127922058,
          0.15078909695148468,
          0.1374599039554596,
          0.1348278969526291,
          0.23027579486370087,
          0.18466806411743164,
          0.16324041783809662,
          0.1359735131263733,
          0.19472314417362213,
          0.1567913442850113,
          0.23835252225399017,
          0.15572941303253174,
          0.15630394220352173,
          0.17499180138111115,
          0.125033438205719
         ]
        },
        {
         "name": "Proportion=0.7",
         "type": "scatter",
         "x": [
          0,
          1,
          2,
          3,
          4,
          5,
          6,
          7,
          8,
          9,
          10,
          11,
          12,
          13,
          14,
          15,
          16,
          17,
          18,
          19,
          20,
          21,
          22,
          23,
          24,
          25,
          26,
          27,
          28,
          29,
          30,
          31,
          32,
          33,
          34,
          35,
          36,
          37,
          38,
          39,
          40,
          41,
          42,
          43,
          44,
          45,
          46,
          47,
          48,
          49,
          50
         ],
         "y": [
          2.187037706375122,
          0.7876007556915283,
          0.42119190096855164,
          0.2899417579174042,
          0.2439127117395401,
          0.2402678281068802,
          0.27513524889945984,
          0.24696192145347595,
          0.2575939893722534,
          0.25645700097084045,
          0.30459877848625183,
          0.24466311931610107,
          0.2912329435348511,
          0.2558423578739166,
          0.2274121344089508,
          0.21460002660751343,
          0.27691397070884705,
          0.2569265067577362,
          0.25530487298965454,
          0.22803828120231628,
          0.2761862277984619,
          0.3049584925174713,
          0.23981140553951263,
          0.20048311352729797,
          0.21639162302017212,
          0.22779656946659088,
          0.26350584626197815,
          0.24528110027313232,
          0.23768284916877747,
          0.2132968157529831,
          0.19942770898342133,
          0.18579785525798798,
          0.20709358155727386,
          0.21002620458602905,
          0.17375816404819489,
          0.16831356287002563,
          0.16356438398361206,
          0.2051651030778885,
          0.18520796298980713,
          0.17021510004997253,
          0.22904163599014282,
          0.186819389462471,
          0.2381218820810318,
          0.18461115658283234,
          0.18082329630851746,
          0.3772658407688141,
          0.2146780788898468,
          0.18944236636161804,
          0.2001390904188156,
          0.17025992274284363,
          0.26925164461135864
         ]
        },
        {
         "name": "Proportion=0.8",
         "type": "scatter",
         "x": [
          0,
          1,
          2,
          3,
          4,
          5,
          6,
          7,
          8,
          9,
          10,
          11,
          12,
          13,
          14,
          15,
          16,
          17,
          18,
          19,
          20,
          21,
          22,
          23,
          24,
          25,
          26,
          27,
          28,
          29,
          30,
          31,
          32,
          33,
          34,
          35,
          36,
          37,
          38,
          39,
          40,
          41,
          42,
          43,
          44,
          45,
          46,
          47,
          48,
          49,
          50
         ],
         "y": [
          2.1005871295928955,
          0.5468161702156067,
          0.3297690749168396,
          0.29048189520835876,
          0.2366691678762436,
          0.21391737461090088,
          0.2395632266998291,
          0.26917552947998047,
          0.2709604501724243,
          0.24898801743984222,
          0.22070886194705963,
          0.22751754522323608,
          0.20749729871749878,
          0.2035553753376007,
          0.20123080909252167,
          0.20410893857479095,
          0.20339733362197876,
          0.1891556680202484,
          0.23201213777065277,
          0.1655329018831253,
          0.2218034863471985,
          0.2048359364271164,
          0.1900661587715149,
          0.2129993885755539,
          0.25111138820648193,
          0.19325470924377441,
          0.21783344447612762,
          0.25540345907211304,
          0.16992740333080292,
          0.2477847784757614,
          0.17625610530376434,
          0.18638771772384644,
          0.2278781235218048,
          0.16582147777080536,
          0.21930217742919922,
          0.15496113896369934,
          0.15347230434417725,
          0.16562679409980774,
          0.15113750100135803,
          0.22182601690292358,
          0.14687946438789368,
          0.18900509178638458,
          0.1507468968629837,
          0.18345873057842255,
          0.18686984479427338,
          0.16990748047828674,
          0.23311355710029602,
          0.18309001624584198,
          0.2175576388835907,
          0.1646762192249298,
          0.17914412915706635
         ]
        },
        {
         "name": "Proportion=0.9",
         "type": "scatter",
         "x": [
          0,
          1,
          2,
          3,
          4,
          5,
          6,
          7,
          8,
          9,
          10,
          11,
          12,
          13,
          14,
          15,
          16,
          17,
          18,
          19,
          20,
          21,
          22,
          23,
          24,
          25,
          26,
          27,
          28,
          29,
          30,
          31,
          32,
          33,
          34,
          35,
          36,
          37,
          38,
          39,
          40,
          41,
          42,
          43,
          44,
          45,
          46,
          47,
          48,
          49,
          50
         ],
         "y": [
          2.9492123126983643,
          2.863232374191284,
          1.6123948097229004,
          0.7490354180335999,
          0.37854525446891785,
          0.2850815951824188,
          0.23407067358493805,
          0.19415520131587982,
          0.27341923117637634,
          0.19802723824977875,
          0.1954619139432907,
          0.19655074179172516,
          0.17312805354595184,
          0.17474493384361267,
          0.1935463696718216,
          0.18764784932136536,
          0.18348577618598938,
          0.17604507505893707,
          0.19259010255336761,
          0.17334546148777008,
          0.1677723377943039,
          0.1689603477716446,
          0.1662701666355133,
          0.1672586351633072,
          0.1803465485572815,
          0.2549651861190796,
          0.1737627536058426,
          0.1656045764684677,
          0.1812599152326584,
          0.23302675783634186,
          0.24396425485610962,
          0.24231505393981934,
          0.1722988337278366,
          0.15851332247257233,
          0.24485242366790771,
          0.17791281640529633,
          0.27538108825683594,
          0.18814122676849365,
          0.1871882677078247,
          0.24997025728225708,
          0.1840326189994812,
          0.1874215453863144,
          0.20345234870910645,
          0.2570708096027374,
          0.20828211307525635,
          0.22681473195552826,
          0.2094835340976715,
          0.2503708600997925,
          0.2945280075073242,
          0.16482633352279663,
          0.227741539478302
         ]
        }
       ],
       "layout": {
        "template": {
         "data": {
          "bar": [
           {
            "error_x": {
             "color": "#2a3f5f"
            },
            "error_y": {
             "color": "#2a3f5f"
            },
            "marker": {
             "line": {
              "color": "#E5ECF6",
              "width": 0.5
             },
             "pattern": {
              "fillmode": "overlay",
              "size": 10,
              "solidity": 0.2
             }
            },
            "type": "bar"
           }
          ],
          "barpolar": [
           {
            "marker": {
             "line": {
              "color": "#E5ECF6",
              "width": 0.5
             },
             "pattern": {
              "fillmode": "overlay",
              "size": 10,
              "solidity": 0.2
             }
            },
            "type": "barpolar"
           }
          ],
          "carpet": [
           {
            "aaxis": {
             "endlinecolor": "#2a3f5f",
             "gridcolor": "white",
             "linecolor": "white",
             "minorgridcolor": "white",
             "startlinecolor": "#2a3f5f"
            },
            "baxis": {
             "endlinecolor": "#2a3f5f",
             "gridcolor": "white",
             "linecolor": "white",
             "minorgridcolor": "white",
             "startlinecolor": "#2a3f5f"
            },
            "type": "carpet"
           }
          ],
          "choropleth": [
           {
            "colorbar": {
             "outlinewidth": 0,
             "ticks": ""
            },
            "type": "choropleth"
           }
          ],
          "contour": [
           {
            "colorbar": {
             "outlinewidth": 0,
             "ticks": ""
            },
            "colorscale": [
             [
              0,
              "#0d0887"
             ],
             [
              0.1111111111111111,
              "#46039f"
             ],
             [
              0.2222222222222222,
              "#7201a8"
             ],
             [
              0.3333333333333333,
              "#9c179e"
             ],
             [
              0.4444444444444444,
              "#bd3786"
             ],
             [
              0.5555555555555556,
              "#d8576b"
             ],
             [
              0.6666666666666666,
              "#ed7953"
             ],
             [
              0.7777777777777778,
              "#fb9f3a"
             ],
             [
              0.8888888888888888,
              "#fdca26"
             ],
             [
              1,
              "#f0f921"
             ]
            ],
            "type": "contour"
           }
          ],
          "contourcarpet": [
           {
            "colorbar": {
             "outlinewidth": 0,
             "ticks": ""
            },
            "type": "contourcarpet"
           }
          ],
          "heatmap": [
           {
            "colorbar": {
             "outlinewidth": 0,
             "ticks": ""
            },
            "colorscale": [
             [
              0,
              "#0d0887"
             ],
             [
              0.1111111111111111,
              "#46039f"
             ],
             [
              0.2222222222222222,
              "#7201a8"
             ],
             [
              0.3333333333333333,
              "#9c179e"
             ],
             [
              0.4444444444444444,
              "#bd3786"
             ],
             [
              0.5555555555555556,
              "#d8576b"
             ],
             [
              0.6666666666666666,
              "#ed7953"
             ],
             [
              0.7777777777777778,
              "#fb9f3a"
             ],
             [
              0.8888888888888888,
              "#fdca26"
             ],
             [
              1,
              "#f0f921"
             ]
            ],
            "type": "heatmap"
           }
          ],
          "heatmapgl": [
           {
            "colorbar": {
             "outlinewidth": 0,
             "ticks": ""
            },
            "colorscale": [
             [
              0,
              "#0d0887"
             ],
             [
              0.1111111111111111,
              "#46039f"
             ],
             [
              0.2222222222222222,
              "#7201a8"
             ],
             [
              0.3333333333333333,
              "#9c179e"
             ],
             [
              0.4444444444444444,
              "#bd3786"
             ],
             [
              0.5555555555555556,
              "#d8576b"
             ],
             [
              0.6666666666666666,
              "#ed7953"
             ],
             [
              0.7777777777777778,
              "#fb9f3a"
             ],
             [
              0.8888888888888888,
              "#fdca26"
             ],
             [
              1,
              "#f0f921"
             ]
            ],
            "type": "heatmapgl"
           }
          ],
          "histogram": [
           {
            "marker": {
             "pattern": {
              "fillmode": "overlay",
              "size": 10,
              "solidity": 0.2
             }
            },
            "type": "histogram"
           }
          ],
          "histogram2d": [
           {
            "colorbar": {
             "outlinewidth": 0,
             "ticks": ""
            },
            "colorscale": [
             [
              0,
              "#0d0887"
             ],
             [
              0.1111111111111111,
              "#46039f"
             ],
             [
              0.2222222222222222,
              "#7201a8"
             ],
             [
              0.3333333333333333,
              "#9c179e"
             ],
             [
              0.4444444444444444,
              "#bd3786"
             ],
             [
              0.5555555555555556,
              "#d8576b"
             ],
             [
              0.6666666666666666,
              "#ed7953"
             ],
             [
              0.7777777777777778,
              "#fb9f3a"
             ],
             [
              0.8888888888888888,
              "#fdca26"
             ],
             [
              1,
              "#f0f921"
             ]
            ],
            "type": "histogram2d"
           }
          ],
          "histogram2dcontour": [
           {
            "colorbar": {
             "outlinewidth": 0,
             "ticks": ""
            },
            "colorscale": [
             [
              0,
              "#0d0887"
             ],
             [
              0.1111111111111111,
              "#46039f"
             ],
             [
              0.2222222222222222,
              "#7201a8"
             ],
             [
              0.3333333333333333,
              "#9c179e"
             ],
             [
              0.4444444444444444,
              "#bd3786"
             ],
             [
              0.5555555555555556,
              "#d8576b"
             ],
             [
              0.6666666666666666,
              "#ed7953"
             ],
             [
              0.7777777777777778,
              "#fb9f3a"
             ],
             [
              0.8888888888888888,
              "#fdca26"
             ],
             [
              1,
              "#f0f921"
             ]
            ],
            "type": "histogram2dcontour"
           }
          ],
          "mesh3d": [
           {
            "colorbar": {
             "outlinewidth": 0,
             "ticks": ""
            },
            "type": "mesh3d"
           }
          ],
          "parcoords": [
           {
            "line": {
             "colorbar": {
              "outlinewidth": 0,
              "ticks": ""
             }
            },
            "type": "parcoords"
           }
          ],
          "pie": [
           {
            "automargin": true,
            "type": "pie"
           }
          ],
          "scatter": [
           {
            "fillpattern": {
             "fillmode": "overlay",
             "size": 10,
             "solidity": 0.2
            },
            "type": "scatter"
           }
          ],
          "scatter3d": [
           {
            "line": {
             "colorbar": {
              "outlinewidth": 0,
              "ticks": ""
             }
            },
            "marker": {
             "colorbar": {
              "outlinewidth": 0,
              "ticks": ""
             }
            },
            "type": "scatter3d"
           }
          ],
          "scattercarpet": [
           {
            "marker": {
             "colorbar": {
              "outlinewidth": 0,
              "ticks": ""
             }
            },
            "type": "scattercarpet"
           }
          ],
          "scattergeo": [
           {
            "marker": {
             "colorbar": {
              "outlinewidth": 0,
              "ticks": ""
             }
            },
            "type": "scattergeo"
           }
          ],
          "scattergl": [
           {
            "marker": {
             "colorbar": {
              "outlinewidth": 0,
              "ticks": ""
             }
            },
            "type": "scattergl"
           }
          ],
          "scattermapbox": [
           {
            "marker": {
             "colorbar": {
              "outlinewidth": 0,
              "ticks": ""
             }
            },
            "type": "scattermapbox"
           }
          ],
          "scatterpolar": [
           {
            "marker": {
             "colorbar": {
              "outlinewidth": 0,
              "ticks": ""
             }
            },
            "type": "scatterpolar"
           }
          ],
          "scatterpolargl": [
           {
            "marker": {
             "colorbar": {
              "outlinewidth": 0,
              "ticks": ""
             }
            },
            "type": "scatterpolargl"
           }
          ],
          "scatterternary": [
           {
            "marker": {
             "colorbar": {
              "outlinewidth": 0,
              "ticks": ""
             }
            },
            "type": "scatterternary"
           }
          ],
          "surface": [
           {
            "colorbar": {
             "outlinewidth": 0,
             "ticks": ""
            },
            "colorscale": [
             [
              0,
              "#0d0887"
             ],
             [
              0.1111111111111111,
              "#46039f"
             ],
             [
              0.2222222222222222,
              "#7201a8"
             ],
             [
              0.3333333333333333,
              "#9c179e"
             ],
             [
              0.4444444444444444,
              "#bd3786"
             ],
             [
              0.5555555555555556,
              "#d8576b"
             ],
             [
              0.6666666666666666,
              "#ed7953"
             ],
             [
              0.7777777777777778,
              "#fb9f3a"
             ],
             [
              0.8888888888888888,
              "#fdca26"
             ],
             [
              1,
              "#f0f921"
             ]
            ],
            "type": "surface"
           }
          ],
          "table": [
           {
            "cells": {
             "fill": {
              "color": "#EBF0F8"
             },
             "line": {
              "color": "white"
             }
            },
            "header": {
             "fill": {
              "color": "#C8D4E3"
             },
             "line": {
              "color": "white"
             }
            },
            "type": "table"
           }
          ]
         },
         "layout": {
          "annotationdefaults": {
           "arrowcolor": "#2a3f5f",
           "arrowhead": 0,
           "arrowwidth": 1
          },
          "autotypenumbers": "strict",
          "coloraxis": {
           "colorbar": {
            "outlinewidth": 0,
            "ticks": ""
           }
          },
          "colorscale": {
           "diverging": [
            [
             0,
             "#8e0152"
            ],
            [
             0.1,
             "#c51b7d"
            ],
            [
             0.2,
             "#de77ae"
            ],
            [
             0.3,
             "#f1b6da"
            ],
            [
             0.4,
             "#fde0ef"
            ],
            [
             0.5,
             "#f7f7f7"
            ],
            [
             0.6,
             "#e6f5d0"
            ],
            [
             0.7,
             "#b8e186"
            ],
            [
             0.8,
             "#7fbc41"
            ],
            [
             0.9,
             "#4d9221"
            ],
            [
             1,
             "#276419"
            ]
           ],
           "sequential": [
            [
             0,
             "#0d0887"
            ],
            [
             0.1111111111111111,
             "#46039f"
            ],
            [
             0.2222222222222222,
             "#7201a8"
            ],
            [
             0.3333333333333333,
             "#9c179e"
            ],
            [
             0.4444444444444444,
             "#bd3786"
            ],
            [
             0.5555555555555556,
             "#d8576b"
            ],
            [
             0.6666666666666666,
             "#ed7953"
            ],
            [
             0.7777777777777778,
             "#fb9f3a"
            ],
            [
             0.8888888888888888,
             "#fdca26"
            ],
            [
             1,
             "#f0f921"
            ]
           ],
           "sequentialminus": [
            [
             0,
             "#0d0887"
            ],
            [
             0.1111111111111111,
             "#46039f"
            ],
            [
             0.2222222222222222,
             "#7201a8"
            ],
            [
             0.3333333333333333,
             "#9c179e"
            ],
            [
             0.4444444444444444,
             "#bd3786"
            ],
            [
             0.5555555555555556,
             "#d8576b"
            ],
            [
             0.6666666666666666,
             "#ed7953"
            ],
            [
             0.7777777777777778,
             "#fb9f3a"
            ],
            [
             0.8888888888888888,
             "#fdca26"
            ],
            [
             1,
             "#f0f921"
            ]
           ]
          },
          "colorway": [
           "#636efa",
           "#EF553B",
           "#00cc96",
           "#ab63fa",
           "#FFA15A",
           "#19d3f3",
           "#FF6692",
           "#B6E880",
           "#FF97FF",
           "#FECB52"
          ],
          "font": {
           "color": "#2a3f5f"
          },
          "geo": {
           "bgcolor": "white",
           "lakecolor": "white",
           "landcolor": "#E5ECF6",
           "showlakes": true,
           "showland": true,
           "subunitcolor": "white"
          },
          "hoverlabel": {
           "align": "left"
          },
          "hovermode": "closest",
          "mapbox": {
           "style": "light"
          },
          "paper_bgcolor": "white",
          "plot_bgcolor": "#E5ECF6",
          "polar": {
           "angularaxis": {
            "gridcolor": "white",
            "linecolor": "white",
            "ticks": ""
           },
           "bgcolor": "#E5ECF6",
           "radialaxis": {
            "gridcolor": "white",
            "linecolor": "white",
            "ticks": ""
           }
          },
          "scene": {
           "xaxis": {
            "backgroundcolor": "#E5ECF6",
            "gridcolor": "white",
            "gridwidth": 2,
            "linecolor": "white",
            "showbackground": true,
            "ticks": "",
            "zerolinecolor": "white"
           },
           "yaxis": {
            "backgroundcolor": "#E5ECF6",
            "gridcolor": "white",
            "gridwidth": 2,
            "linecolor": "white",
            "showbackground": true,
            "ticks": "",
            "zerolinecolor": "white"
           },
           "zaxis": {
            "backgroundcolor": "#E5ECF6",
            "gridcolor": "white",
            "gridwidth": 2,
            "linecolor": "white",
            "showbackground": true,
            "ticks": "",
            "zerolinecolor": "white"
           }
          },
          "shapedefaults": {
           "line": {
            "color": "#2a3f5f"
           }
          },
          "ternary": {
           "aaxis": {
            "gridcolor": "white",
            "linecolor": "white",
            "ticks": ""
           },
           "baxis": {
            "gridcolor": "white",
            "linecolor": "white",
            "ticks": ""
           },
           "bgcolor": "#E5ECF6",
           "caxis": {
            "gridcolor": "white",
            "linecolor": "white",
            "ticks": ""
           }
          },
          "title": {
           "x": 0.05
          },
          "xaxis": {
           "automargin": true,
           "gridcolor": "white",
           "linecolor": "white",
           "ticks": "",
           "title": {
            "standoff": 15
           },
           "zerolinecolor": "white",
           "zerolinewidth": 2
          },
          "yaxis": {
           "automargin": true,
           "gridcolor": "white",
           "linecolor": "white",
           "ticks": "",
           "title": {
            "standoff": 15
           },
           "zerolinecolor": "white",
           "zerolinewidth": 2
          }
         }
        },
        "title": {
         "text": "Validation Loss For Ablative Models"
        },
        "xaxis": {
         "title": {
          "text": "Epoch"
         }
        },
        "yaxis": {
         "title": {
          "text": "Loss"
         }
        }
       }
      },
      "text/html": [
       "<div>                            <div id=\"6306fe98-aa5b-4165-bb1a-e260c2b1734c\" class=\"plotly-graph-div\" style=\"height:525px; width:100%;\"></div>            <script type=\"text/javascript\">                require([\"plotly\"], function(Plotly) {                    window.PLOTLYENV=window.PLOTLYENV || {};                                    if (document.getElementById(\"6306fe98-aa5b-4165-bb1a-e260c2b1734c\")) {                    Plotly.newPlot(                        \"6306fe98-aa5b-4165-bb1a-e260c2b1734c\",                        [{\"name\":\"Proportion=0.1\",\"x\":[0,1,2,3,4,5,6,7,8,9,10,11,12,13,14,15,16,17,18,19,20,21,22,23,24,25,26,27,28,29,30,31,32,33,34,35,36,37,38,39,40,41,42,43,44,45,46,47,48,49,50],\"y\":[2.9484541416168213,2.9402482509613037,2.9212632179260254,2.8625874519348145,2.678518056869507,2.485133647918701,2.2551615238189697,2.096925973892212,1.8220269680023193,1.6603052616119385,1.5259993076324463,1.3576644659042358,1.1995172500610352,0.9779709577560425,0.8210643529891968,0.7801528573036194,0.667251706123352,0.618752121925354,0.5674533843994141,0.5043162107467651,0.4679500162601471,0.4200310707092285,0.3761836290359497,0.34908369183540344,0.38163164258003235,0.32603713870048523,0.3462567627429962,0.31079038977622986,0.3035021126270294,0.3265320658683777,0.3046337962150574,0.33325839042663574,0.3188408315181732,0.3825983703136444,0.4896456301212311,0.3156851828098297,0.293197900056839,0.33171674609184265,0.3680468797683716,0.404706209897995,0.28942304849624634,0.31883278489112854,0.35074660181999207,0.295886367559433,0.2776305377483368,0.38332098722457886,0.3143453299999237,0.35580646991729736,0.36506187915802,0.2964361310005188,0.32421451807022095],\"type\":\"scatter\"},{\"name\":\"Proportion=0.2\",\"x\":[0,1,2,3,4,5,6,7,8,9,10,11,12,13,14,15,16,17,18,19,20,21,22,23,24,25,26,27,28,29,30,31,32,33,34,35,36,37,38,39,40,41,42,43,44,45,46,47,48,49,50],\"y\":[2.9472548961639404,2.934823513031006,2.955291509628296,2.637535810470581,2.2156319618225098,1.7459614276885986,1.34773588180542,0.9675576090812683,0.7596028447151184,0.5817501544952393,0.5254368185997009,0.49476203322410583,0.4240116775035858,0.40923038125038147,0.38465479016304016,0.3341236710548401,0.42421820759773254,0.4229219853878021,0.39888232946395874,0.3953457772731781,0.4186064302921295,0.34437206387519836,0.3303551971912384,0.3431195914745331,0.34630656242370605,0.3821021020412445,0.3833010792732239,0.3706417381763458,0.39827683568000793,0.34913963079452515,0.401395708322525,0.46214359998703003,0.3901672661304474,0.4120400547981262,0.4234636127948761,0.39247915148735046,0.3301808834075928,0.3912392556667328,0.3243361711502075,0.4202733337879181,0.5111928582191467,0.39488187432289124,0.37586885690689087,0.3614281415939331,0.3554876148700714,0.519305944442749,0.3947000801563263,0.3746752142906189,0.36451810598373413,0.41691696643829346,0.4585580825805664],\"type\":\"scatter\"},{\"name\":\"Proportion=0.3\",\"x\":[0,1,2,3,4,5,6,7,8,9,10,11,12,13,14,15,16,17,18,19,20,21,22,23,24,25,26,27,28,29,30,31,32,33,34,35,36,37,38,39,40,41,42,43,44,45,46,47,48,49,50],\"y\":[2.9457859992980957,2.9471325874328613,2.9447100162506104,2.937455415725708,2.8909687995910645,2.54367995262146,2.149549961090088,1.6067230701446533,1.222664713859558,0.9932652711868286,0.8949407935142517,0.7487688064575195,0.6323590874671936,0.5091766119003296,0.4731980562210083,0.3369397222995758,0.31602057814598083,0.3098400831222534,0.2784649729728699,0.2715062201023102,0.2580004930496216,0.26335546374320984,0.322979211807251,0.2619478702545166,0.24639658629894257,0.21895594894886017,0.246670201420784,0.28312790393829346,0.26228585839271545,0.227743998169899,0.18576635420322418,0.22981508076190948,0.20964059233665466,0.18443213403224945,0.1832432746887207,0.21984273195266724,0.22019483149051666,0.18558768928050995,0.19554637372493744,0.23338809609413147,0.2398548424243927,0.25874778628349304,0.23873195052146912,0.1963113397359848,0.23825854063034058,0.19540634751319885,0.19678398966789246,0.20868663489818573,0.16503790020942688,0.19321610033512115,0.17832721769809723],\"type\":\"scatter\"},{\"name\":\"Proportion=0.4\",\"x\":[0,1,2,3,4,5,6,7,8,9,10,11,12,13,14,15,16,17,18,19,20,21,22,23,24,25,26,27,28,29,30,31,32,33,34,35,36,37,38,39,40,41,42,43,44,45,46,47,48,49,50],\"y\":[2.931166887283325,1.853553295135498,1.131051778793335,0.6565783023834229,0.4113999307155609,0.33923184871673584,0.29991406202316284,0.269733190536499,0.2713540196418762,0.2699781358242035,0.2298535704612732,0.26658061146736145,0.25614333152770996,0.2236718386411667,0.249792218208313,0.2318500578403473,0.26710110902786255,0.2383563369512558,0.2535054385662079,0.2545493543148041,0.2158268839120865,0.27827930450439453,0.23187345266342163,0.2601563036441803,0.2666281461715698,0.31803780794143677,0.2707411050796509,0.25683844089508057,0.25282779335975647,0.28667789697647095,0.2386508584022522,0.2310505509376526,0.2396492213010788,0.22339095175266266,0.23704135417938232,0.23200733959674835,0.22972099483013153,0.2178022563457489,0.24344606697559357,0.25763654708862305,0.22810833156108856,0.2291221022605896,0.23573347926139832,0.23954448103904724,0.2775610685348511,0.21281380951404572,0.22883687913417816,0.2118094265460968,0.24365130066871643,0.2573554813861847,0.26896366477012634],\"type\":\"scatter\"},{\"name\":\"Proportion=0.5\",\"x\":[0,1,2,3,4,5,6,7,8,9,10,11,12,13,14,15,16,17,18,19,20,21,22,23,24,25,26,27,28,29,30,31,32,33,34,35,36,37,38,39,40,41,42,43,44,45,46,47,48,49,50],\"y\":[2.8263087272644043,1.3666433095932007,0.6513254046440125,0.44215157628059387,0.36964839696884155,0.37011265754699707,0.3181629180908203,0.27574196457862854,0.2941734492778778,0.3649294674396515,0.449494332075119,0.3492624759674072,0.29899367690086365,0.4232795536518097,0.3196261525154114,0.3227577805519104,0.2750083804130554,0.2836702764034271,0.2418006807565689,0.30796653032302856,0.2937609553337097,0.29302260279655457,0.24850857257843018,0.2862108647823334,0.253821462392807,0.24721337854862213,0.2259989231824875,0.23356716334819794,0.245259091258049,0.26627084612846375,0.25781896710395813,0.29063671827316284,0.2199380248785019,0.21869643032550812,0.21485674381256104,0.27779635787010193,0.2752269506454468,0.2515757381916046,0.255931556224823,0.25095078349113464,0.2313205599784851,0.20645494759082794,0.20160160958766937,0.23183898627758026,0.2371332198381424,0.23152922093868256,0.2552129924297333,0.22455619275569916,0.23962034285068512,0.2125997245311737,0.20267510414123535],\"type\":\"scatter\"},{\"name\":\"Proportion=0.6\",\"x\":[0,1,2,3,4,5,6,7,8,9,10,11,12,13,14,15,16,17,18,19,20,21,22,23,24,25,26,27,28,29,30,31,32,33,34,35,36,37,38,39,40,41,42,43,44,45,46,47,48,49,50],\"y\":[2.945319652557373,2.938809394836426,2.8120622634887695,2.2552051544189453,1.4491620063781738,0.8700043559074402,0.4635166823863983,0.32962557673454285,0.22927138209342957,0.2030976563692093,0.25313305854797363,0.2540273368358612,0.2686846852302551,0.2545415759086609,0.2013857513666153,0.1814838945865631,0.18735453486442566,0.18449454009532928,0.1744021624326706,0.13346780836582184,0.14560921490192413,0.09665652364492416,0.10053633153438568,0.10496919602155685,0.12523938715457916,0.21172671020030975,0.12327126413583755,0.12849947810173035,0.16726666688919067,0.1983867734670639,0.14543700218200684,0.12121975421905518,0.19571615755558014,0.08719314634799957,0.11703705787658691,0.15143577754497528,0.1403939127922058,0.15078909695148468,0.1374599039554596,0.1348278969526291,0.23027579486370087,0.18466806411743164,0.16324041783809662,0.1359735131263733,0.19472314417362213,0.1567913442850113,0.23835252225399017,0.15572941303253174,0.15630394220352173,0.17499180138111115,0.125033438205719],\"type\":\"scatter\"},{\"name\":\"Proportion=0.7\",\"x\":[0,1,2,3,4,5,6,7,8,9,10,11,12,13,14,15,16,17,18,19,20,21,22,23,24,25,26,27,28,29,30,31,32,33,34,35,36,37,38,39,40,41,42,43,44,45,46,47,48,49,50],\"y\":[2.187037706375122,0.7876007556915283,0.42119190096855164,0.2899417579174042,0.2439127117395401,0.2402678281068802,0.27513524889945984,0.24696192145347595,0.2575939893722534,0.25645700097084045,0.30459877848625183,0.24466311931610107,0.2912329435348511,0.2558423578739166,0.2274121344089508,0.21460002660751343,0.27691397070884705,0.2569265067577362,0.25530487298965454,0.22803828120231628,0.2761862277984619,0.3049584925174713,0.23981140553951263,0.20048311352729797,0.21639162302017212,0.22779656946659088,0.26350584626197815,0.24528110027313232,0.23768284916877747,0.2132968157529831,0.19942770898342133,0.18579785525798798,0.20709358155727386,0.21002620458602905,0.17375816404819489,0.16831356287002563,0.16356438398361206,0.2051651030778885,0.18520796298980713,0.17021510004997253,0.22904163599014282,0.186819389462471,0.2381218820810318,0.18461115658283234,0.18082329630851746,0.3772658407688141,0.2146780788898468,0.18944236636161804,0.2001390904188156,0.17025992274284363,0.26925164461135864],\"type\":\"scatter\"},{\"name\":\"Proportion=0.8\",\"x\":[0,1,2,3,4,5,6,7,8,9,10,11,12,13,14,15,16,17,18,19,20,21,22,23,24,25,26,27,28,29,30,31,32,33,34,35,36,37,38,39,40,41,42,43,44,45,46,47,48,49,50],\"y\":[2.1005871295928955,0.5468161702156067,0.3297690749168396,0.29048189520835876,0.2366691678762436,0.21391737461090088,0.2395632266998291,0.26917552947998047,0.2709604501724243,0.24898801743984222,0.22070886194705963,0.22751754522323608,0.20749729871749878,0.2035553753376007,0.20123080909252167,0.20410893857479095,0.20339733362197876,0.1891556680202484,0.23201213777065277,0.1655329018831253,0.2218034863471985,0.2048359364271164,0.1900661587715149,0.2129993885755539,0.25111138820648193,0.19325470924377441,0.21783344447612762,0.25540345907211304,0.16992740333080292,0.2477847784757614,0.17625610530376434,0.18638771772384644,0.2278781235218048,0.16582147777080536,0.21930217742919922,0.15496113896369934,0.15347230434417725,0.16562679409980774,0.15113750100135803,0.22182601690292358,0.14687946438789368,0.18900509178638458,0.1507468968629837,0.18345873057842255,0.18686984479427338,0.16990748047828674,0.23311355710029602,0.18309001624584198,0.2175576388835907,0.1646762192249298,0.17914412915706635],\"type\":\"scatter\"},{\"name\":\"Proportion=0.9\",\"x\":[0,1,2,3,4,5,6,7,8,9,10,11,12,13,14,15,16,17,18,19,20,21,22,23,24,25,26,27,28,29,30,31,32,33,34,35,36,37,38,39,40,41,42,43,44,45,46,47,48,49,50],\"y\":[2.9492123126983643,2.863232374191284,1.6123948097229004,0.7490354180335999,0.37854525446891785,0.2850815951824188,0.23407067358493805,0.19415520131587982,0.27341923117637634,0.19802723824977875,0.1954619139432907,0.19655074179172516,0.17312805354595184,0.17474493384361267,0.1935463696718216,0.18764784932136536,0.18348577618598938,0.17604507505893707,0.19259010255336761,0.17334546148777008,0.1677723377943039,0.1689603477716446,0.1662701666355133,0.1672586351633072,0.1803465485572815,0.2549651861190796,0.1737627536058426,0.1656045764684677,0.1812599152326584,0.23302675783634186,0.24396425485610962,0.24231505393981934,0.1722988337278366,0.15851332247257233,0.24485242366790771,0.17791281640529633,0.27538108825683594,0.18814122676849365,0.1871882677078247,0.24997025728225708,0.1840326189994812,0.1874215453863144,0.20345234870910645,0.2570708096027374,0.20828211307525635,0.22681473195552826,0.2094835340976715,0.2503708600997925,0.2945280075073242,0.16482633352279663,0.227741539478302],\"type\":\"scatter\"}],                        {\"title\":{\"text\":\"Validation Loss For Ablative Models\"},\"xaxis\":{\"title\":{\"text\":\"Epoch\"}},\"yaxis\":{\"title\":{\"text\":\"Loss\"}},\"template\":{\"data\":{\"histogram2dcontour\":[{\"type\":\"histogram2dcontour\",\"colorbar\":{\"outlinewidth\":0,\"ticks\":\"\"},\"colorscale\":[[0.0,\"#0d0887\"],[0.1111111111111111,\"#46039f\"],[0.2222222222222222,\"#7201a8\"],[0.3333333333333333,\"#9c179e\"],[0.4444444444444444,\"#bd3786\"],[0.5555555555555556,\"#d8576b\"],[0.6666666666666666,\"#ed7953\"],[0.7777777777777778,\"#fb9f3a\"],[0.8888888888888888,\"#fdca26\"],[1.0,\"#f0f921\"]]}],\"choropleth\":[{\"type\":\"choropleth\",\"colorbar\":{\"outlinewidth\":0,\"ticks\":\"\"}}],\"histogram2d\":[{\"type\":\"histogram2d\",\"colorbar\":{\"outlinewidth\":0,\"ticks\":\"\"},\"colorscale\":[[0.0,\"#0d0887\"],[0.1111111111111111,\"#46039f\"],[0.2222222222222222,\"#7201a8\"],[0.3333333333333333,\"#9c179e\"],[0.4444444444444444,\"#bd3786\"],[0.5555555555555556,\"#d8576b\"],[0.6666666666666666,\"#ed7953\"],[0.7777777777777778,\"#fb9f3a\"],[0.8888888888888888,\"#fdca26\"],[1.0,\"#f0f921\"]]}],\"heatmap\":[{\"type\":\"heatmap\",\"colorbar\":{\"outlinewidth\":0,\"ticks\":\"\"},\"colorscale\":[[0.0,\"#0d0887\"],[0.1111111111111111,\"#46039f\"],[0.2222222222222222,\"#7201a8\"],[0.3333333333333333,\"#9c179e\"],[0.4444444444444444,\"#bd3786\"],[0.5555555555555556,\"#d8576b\"],[0.6666666666666666,\"#ed7953\"],[0.7777777777777778,\"#fb9f3a\"],[0.8888888888888888,\"#fdca26\"],[1.0,\"#f0f921\"]]}],\"heatmapgl\":[{\"type\":\"heatmapgl\",\"colorbar\":{\"outlinewidth\":0,\"ticks\":\"\"},\"colorscale\":[[0.0,\"#0d0887\"],[0.1111111111111111,\"#46039f\"],[0.2222222222222222,\"#7201a8\"],[0.3333333333333333,\"#9c179e\"],[0.4444444444444444,\"#bd3786\"],[0.5555555555555556,\"#d8576b\"],[0.6666666666666666,\"#ed7953\"],[0.7777777777777778,\"#fb9f3a\"],[0.8888888888888888,\"#fdca26\"],[1.0,\"#f0f921\"]]}],\"contourcarpet\":[{\"type\":\"contourcarpet\",\"colorbar\":{\"outlinewidth\":0,\"ticks\":\"\"}}],\"contour\":[{\"type\":\"contour\",\"colorbar\":{\"outlinewidth\":0,\"ticks\":\"\"},\"colorscale\":[[0.0,\"#0d0887\"],[0.1111111111111111,\"#46039f\"],[0.2222222222222222,\"#7201a8\"],[0.3333333333333333,\"#9c179e\"],[0.4444444444444444,\"#bd3786\"],[0.5555555555555556,\"#d8576b\"],[0.6666666666666666,\"#ed7953\"],[0.7777777777777778,\"#fb9f3a\"],[0.8888888888888888,\"#fdca26\"],[1.0,\"#f0f921\"]]}],\"surface\":[{\"type\":\"surface\",\"colorbar\":{\"outlinewidth\":0,\"ticks\":\"\"},\"colorscale\":[[0.0,\"#0d0887\"],[0.1111111111111111,\"#46039f\"],[0.2222222222222222,\"#7201a8\"],[0.3333333333333333,\"#9c179e\"],[0.4444444444444444,\"#bd3786\"],[0.5555555555555556,\"#d8576b\"],[0.6666666666666666,\"#ed7953\"],[0.7777777777777778,\"#fb9f3a\"],[0.8888888888888888,\"#fdca26\"],[1.0,\"#f0f921\"]]}],\"mesh3d\":[{\"type\":\"mesh3d\",\"colorbar\":{\"outlinewidth\":0,\"ticks\":\"\"}}],\"scatter\":[{\"fillpattern\":{\"fillmode\":\"overlay\",\"size\":10,\"solidity\":0.2},\"type\":\"scatter\"}],\"parcoords\":[{\"type\":\"parcoords\",\"line\":{\"colorbar\":{\"outlinewidth\":0,\"ticks\":\"\"}}}],\"scatterpolargl\":[{\"type\":\"scatterpolargl\",\"marker\":{\"colorbar\":{\"outlinewidth\":0,\"ticks\":\"\"}}}],\"bar\":[{\"error_x\":{\"color\":\"#2a3f5f\"},\"error_y\":{\"color\":\"#2a3f5f\"},\"marker\":{\"line\":{\"color\":\"#E5ECF6\",\"width\":0.5},\"pattern\":{\"fillmode\":\"overlay\",\"size\":10,\"solidity\":0.2}},\"type\":\"bar\"}],\"scattergeo\":[{\"type\":\"scattergeo\",\"marker\":{\"colorbar\":{\"outlinewidth\":0,\"ticks\":\"\"}}}],\"scatterpolar\":[{\"type\":\"scatterpolar\",\"marker\":{\"colorbar\":{\"outlinewidth\":0,\"ticks\":\"\"}}}],\"histogram\":[{\"marker\":{\"pattern\":{\"fillmode\":\"overlay\",\"size\":10,\"solidity\":0.2}},\"type\":\"histogram\"}],\"scattergl\":[{\"type\":\"scattergl\",\"marker\":{\"colorbar\":{\"outlinewidth\":0,\"ticks\":\"\"}}}],\"scatter3d\":[{\"type\":\"scatter3d\",\"line\":{\"colorbar\":{\"outlinewidth\":0,\"ticks\":\"\"}},\"marker\":{\"colorbar\":{\"outlinewidth\":0,\"ticks\":\"\"}}}],\"scattermapbox\":[{\"type\":\"scattermapbox\",\"marker\":{\"colorbar\":{\"outlinewidth\":0,\"ticks\":\"\"}}}],\"scatterternary\":[{\"type\":\"scatterternary\",\"marker\":{\"colorbar\":{\"outlinewidth\":0,\"ticks\":\"\"}}}],\"scattercarpet\":[{\"type\":\"scattercarpet\",\"marker\":{\"colorbar\":{\"outlinewidth\":0,\"ticks\":\"\"}}}],\"carpet\":[{\"aaxis\":{\"endlinecolor\":\"#2a3f5f\",\"gridcolor\":\"white\",\"linecolor\":\"white\",\"minorgridcolor\":\"white\",\"startlinecolor\":\"#2a3f5f\"},\"baxis\":{\"endlinecolor\":\"#2a3f5f\",\"gridcolor\":\"white\",\"linecolor\":\"white\",\"minorgridcolor\":\"white\",\"startlinecolor\":\"#2a3f5f\"},\"type\":\"carpet\"}],\"table\":[{\"cells\":{\"fill\":{\"color\":\"#EBF0F8\"},\"line\":{\"color\":\"white\"}},\"header\":{\"fill\":{\"color\":\"#C8D4E3\"},\"line\":{\"color\":\"white\"}},\"type\":\"table\"}],\"barpolar\":[{\"marker\":{\"line\":{\"color\":\"#E5ECF6\",\"width\":0.5},\"pattern\":{\"fillmode\":\"overlay\",\"size\":10,\"solidity\":0.2}},\"type\":\"barpolar\"}],\"pie\":[{\"automargin\":true,\"type\":\"pie\"}]},\"layout\":{\"autotypenumbers\":\"strict\",\"colorway\":[\"#636efa\",\"#EF553B\",\"#00cc96\",\"#ab63fa\",\"#FFA15A\",\"#19d3f3\",\"#FF6692\",\"#B6E880\",\"#FF97FF\",\"#FECB52\"],\"font\":{\"color\":\"#2a3f5f\"},\"hovermode\":\"closest\",\"hoverlabel\":{\"align\":\"left\"},\"paper_bgcolor\":\"white\",\"plot_bgcolor\":\"#E5ECF6\",\"polar\":{\"bgcolor\":\"#E5ECF6\",\"angularaxis\":{\"gridcolor\":\"white\",\"linecolor\":\"white\",\"ticks\":\"\"},\"radialaxis\":{\"gridcolor\":\"white\",\"linecolor\":\"white\",\"ticks\":\"\"}},\"ternary\":{\"bgcolor\":\"#E5ECF6\",\"aaxis\":{\"gridcolor\":\"white\",\"linecolor\":\"white\",\"ticks\":\"\"},\"baxis\":{\"gridcolor\":\"white\",\"linecolor\":\"white\",\"ticks\":\"\"},\"caxis\":{\"gridcolor\":\"white\",\"linecolor\":\"white\",\"ticks\":\"\"}},\"coloraxis\":{\"colorbar\":{\"outlinewidth\":0,\"ticks\":\"\"}},\"colorscale\":{\"sequential\":[[0.0,\"#0d0887\"],[0.1111111111111111,\"#46039f\"],[0.2222222222222222,\"#7201a8\"],[0.3333333333333333,\"#9c179e\"],[0.4444444444444444,\"#bd3786\"],[0.5555555555555556,\"#d8576b\"],[0.6666666666666666,\"#ed7953\"],[0.7777777777777778,\"#fb9f3a\"],[0.8888888888888888,\"#fdca26\"],[1.0,\"#f0f921\"]],\"sequentialminus\":[[0.0,\"#0d0887\"],[0.1111111111111111,\"#46039f\"],[0.2222222222222222,\"#7201a8\"],[0.3333333333333333,\"#9c179e\"],[0.4444444444444444,\"#bd3786\"],[0.5555555555555556,\"#d8576b\"],[0.6666666666666666,\"#ed7953\"],[0.7777777777777778,\"#fb9f3a\"],[0.8888888888888888,\"#fdca26\"],[1.0,\"#f0f921\"]],\"diverging\":[[0,\"#8e0152\"],[0.1,\"#c51b7d\"],[0.2,\"#de77ae\"],[0.3,\"#f1b6da\"],[0.4,\"#fde0ef\"],[0.5,\"#f7f7f7\"],[0.6,\"#e6f5d0\"],[0.7,\"#b8e186\"],[0.8,\"#7fbc41\"],[0.9,\"#4d9221\"],[1,\"#276419\"]]},\"xaxis\":{\"gridcolor\":\"white\",\"linecolor\":\"white\",\"ticks\":\"\",\"title\":{\"standoff\":15},\"zerolinecolor\":\"white\",\"automargin\":true,\"zerolinewidth\":2},\"yaxis\":{\"gridcolor\":\"white\",\"linecolor\":\"white\",\"ticks\":\"\",\"title\":{\"standoff\":15},\"zerolinecolor\":\"white\",\"automargin\":true,\"zerolinewidth\":2},\"scene\":{\"xaxis\":{\"backgroundcolor\":\"#E5ECF6\",\"gridcolor\":\"white\",\"linecolor\":\"white\",\"showbackground\":true,\"ticks\":\"\",\"zerolinecolor\":\"white\",\"gridwidth\":2},\"yaxis\":{\"backgroundcolor\":\"#E5ECF6\",\"gridcolor\":\"white\",\"linecolor\":\"white\",\"showbackground\":true,\"ticks\":\"\",\"zerolinecolor\":\"white\",\"gridwidth\":2},\"zaxis\":{\"backgroundcolor\":\"#E5ECF6\",\"gridcolor\":\"white\",\"linecolor\":\"white\",\"showbackground\":true,\"ticks\":\"\",\"zerolinecolor\":\"white\",\"gridwidth\":2}},\"shapedefaults\":{\"line\":{\"color\":\"#2a3f5f\"}},\"annotationdefaults\":{\"arrowcolor\":\"#2a3f5f\",\"arrowhead\":0,\"arrowwidth\":1},\"geo\":{\"bgcolor\":\"white\",\"landcolor\":\"#E5ECF6\",\"subunitcolor\":\"white\",\"showland\":true,\"showlakes\":true,\"lakecolor\":\"white\"},\"title\":{\"x\":0.05},\"mapbox\":{\"style\":\"light\"}}}},                        {\"responsive\": true}                    ).then(function(){\n",
       "                            \n",
       "var gd = document.getElementById('6306fe98-aa5b-4165-bb1a-e260c2b1734c');\n",
       "var x = new MutationObserver(function (mutations, observer) {{\n",
       "        var display = window.getComputedStyle(gd).display;\n",
       "        if (!display || display === 'none') {{\n",
       "            console.log([gd, 'removed!']);\n",
       "            Plotly.purge(gd);\n",
       "            observer.disconnect();\n",
       "        }}\n",
       "}});\n",
       "\n",
       "// Listen for the removal of the full notebook cells\n",
       "var notebookContainer = gd.closest('#notebook-container');\n",
       "if (notebookContainer) {{\n",
       "    x.observe(notebookContainer, {childList: true});\n",
       "}}\n",
       "\n",
       "// Listen for the clearing of the current output cell\n",
       "var outputEl = gd.closest('.output');\n",
       "if (outputEl) {{\n",
       "    x.observe(outputEl, {childList: true});\n",
       "}}\n",
       "\n",
       "                        })                };                });            </script>        </div>"
      ]
     },
     "metadata": {},
     "output_type": "display_data"
    }
   ],
   "source": [
    "fig = go.Figure(\n",
    "    layout=go.Layout(\n",
    "        title='Validation Loss For Ablative Models',\n",
    "        xaxis=dict(title='Epoch'),\n",
    "        yaxis=dict(title='Loss')\n",
    "    )\n",
    ")\n",
    "\n",
    "for col in loss:\n",
    "    fig.add_trace(\n",
    "        go.Scatter(x=loss.index, y=loss[col], name=col)\n",
    "    )\n",
    "\n",
    "fig.show()"
   ]
  },
  {
   "cell_type": "code",
   "execution_count": 59,
   "id": "b858d64c",
   "metadata": {
    "scrolled": true
   },
   "outputs": [
    {
     "data": {
      "application/vnd.plotly.v1+json": {
       "config": {
        "plotlyServerURL": "https://plot.ly"
       },
       "data": [
        {
         "name": "Proportion=0.1",
         "type": "scatter",
         "x": [
          0,
          1,
          2,
          3,
          4,
          5,
          6,
          7,
          8,
          9,
          10,
          11,
          12,
          13,
          14,
          15,
          16,
          17,
          18,
          19,
          20,
          21,
          22,
          23,
          24,
          25,
          26,
          27,
          28,
          29,
          30,
          31,
          32,
          33,
          34,
          35,
          36,
          37,
          38,
          39,
          40,
          41,
          42,
          43,
          44,
          45,
          46,
          47,
          48,
          49,
          50
         ],
         "y": [
          0,
          0,
          0,
          0,
          0,
          0,
          0.02631578947368421,
          0.10256410256410256,
          0.21148036253776434,
          0.5263157894736842,
          0.6052631578947368,
          0.7017543859649122,
          0.7189542483660132,
          0.7630057803468207,
          0.7624309392265193,
          0.8407643312101911,
          0.8662420382165605,
          0.9249999999999999,
          0.9285714285714286,
          0.9444444444444444,
          0.9583333333333334,
          0.9504950495049505,
          0.9600000000000001,
          0.9565217391304348,
          0.9494949494949495,
          0.9523809523809523,
          0.9523809523809523,
          0.9583333333333334,
          0.9600000000000001,
          0.967032967032967,
          0.9714285714285714,
          0.9583333333333334,
          0.972972972972973,
          0.954954954954955,
          0.9576547231270358,
          0.9629629629629629,
          0.967741935483871,
          0.9629629629629629,
          0.956043956043956,
          0.9523809523809523,
          0.962962962962963,
          0.9523809523809523,
          0.9600000000000001,
          0.9782608695652174,
          0.9696969696969697,
          0.9600000000000001,
          0.9690721649484536,
          0.9655172413793104,
          0.963855421686747,
          0.965669988925803,
          0.96
         ]
        },
        {
         "name": "Proportion=0.2",
         "type": "scatter",
         "x": [
          0,
          1,
          2,
          3,
          4,
          5,
          6,
          7,
          8,
          9,
          10,
          11,
          12,
          13,
          14,
          15,
          16,
          17,
          18,
          19,
          20,
          21,
          22,
          23,
          24,
          25,
          26,
          27,
          28,
          29,
          30,
          31,
          32,
          33,
          34,
          35,
          36,
          37,
          38,
          39,
          40,
          41,
          42,
          43,
          44,
          45,
          46,
          47,
          48,
          49,
          50
         ],
         "y": [
          0,
          0,
          0,
          0.02,
          0.4568764568764568,
          0.5614035087719298,
          0.784,
          0.8936693300553167,
          0.8706896551724137,
          0.9315068493150684,
          0.9547738693467336,
          0.9652421652421652,
          0.9583815028901734,
          0.96875,
          0.9655172413793104,
          0.9693877551020409,
          0.9655172413793104,
          0.9782608695652174,
          0.9729729729729729,
          0.9782608695652174,
          0.9740932642487047,
          0.9802371541501976,
          0.9761904761904763,
          0.9705882352941176,
          0.9761904761904763,
          0.9761904761904763,
          0.9714285714285714,
          0.9705882352941176,
          0.9457364341085271,
          0.9785310734463277,
          0.9637305699481866,
          0.96875,
          0.9666666666666667,
          0.978021978021978,
          0.9708846584546472,
          0.9671361502347418,
          0.9805825242718447,
          0.9723756906077349,
          0.9809523809523809,
          0.9705882352941176,
          0.9737827715355806,
          0.9696969696969697,
          0.9746192893401016,
          0.9694656488549619,
          0.9714285714285714,
          0.9578544061302682,
          0.963855421686747,
          0.9666666666666667,
          0.9760765550239234,
          0.9739776951672863,
          0.967741935483871
         ]
        },
        {
         "name": "Proportion=0.3",
         "type": "scatter",
         "x": [
          0,
          1,
          2,
          3,
          4,
          5,
          6,
          7,
          8,
          9,
          10,
          11,
          12,
          13,
          14,
          15,
          16,
          17,
          18,
          19,
          20,
          21,
          22,
          23,
          24,
          25,
          26,
          27,
          28,
          29,
          30,
          31,
          32,
          33,
          34,
          35,
          36,
          37,
          38,
          39,
          40,
          41,
          42,
          43,
          44,
          45,
          46,
          47,
          48,
          49,
          50
         ],
         "y": [
          0,
          0,
          0,
          0,
          0,
          0,
          0.06222222222222222,
          0.41964285714285715,
          0.6990291262135923,
          0.7626459143968872,
          0.8243727598566308,
          0.8705882352941177,
          0.896551724137931,
          0.936026936026936,
          0.9379633242294185,
          0.9629629629629629,
          0.967544864452081,
          0.9565217391304347,
          0.9765886287625419,
          0.9629629629629629,
          0.9738339021615473,
          0.9729111026325828,
          0.9772727272727273,
          0.9692780337941629,
          0.9765684051398338,
          0.9726027397260274,
          0.9793103448275862,
          0.9726027397260274,
          0.9767441860465117,
          0.9811320754716981,
          0.9793103448275863,
          0.9757785467128027,
          0.9787234042553192,
          0.9766081871345029,
          0.9812734082397004,
          0.9772727272727273,
          0.9848484848484849,
          0.9793103448275863,
          0.9811320754716981,
          0.9793103448275863,
          0.9795462997396802,
          0.9793103448275863,
          0.9811320754716981,
          0.9793310785419015,
          0.9767441860465117,
          0.9811320754716981,
          0.9788519637462235,
          0.9761904761904763,
          0.9863013698630136,
          0.983050847457627,
          0.9828178694158075
         ]
        },
        {
         "name": "Proportion=0.4",
         "type": "scatter",
         "x": [
          0,
          1,
          2,
          3,
          4,
          5,
          6,
          7,
          8,
          9,
          10,
          11,
          12,
          13,
          14,
          15,
          16,
          17,
          18,
          19,
          20,
          21,
          22,
          23,
          24,
          25,
          26,
          27,
          28,
          29,
          30,
          31,
          32,
          33,
          34,
          35,
          36,
          37,
          38,
          39,
          40,
          41,
          42,
          43,
          44,
          45,
          46,
          47,
          48,
          49,
          50
         ],
         "y": [
          0,
          0.3170731707317073,
          0.761904761904762,
          0.88,
          0.9537827494848395,
          0.9703504043126685,
          0.9763779527559054,
          0.9738524113887276,
          0.9724501758499415,
          0.9786096256684491,
          0.9824561403508771,
          0.9811320754716981,
          0.9822784810126581,
          0.9806637806637808,
          0.9843749999999999,
          0.9840425531914894,
          0.9821736630247269,
          0.9831572937482158,
          0.9824561403508771,
          0.9841269841269842,
          0.9767441860465116,
          0.9787234042553192,
          0.9840425531914894,
          0.9764705882352942,
          0.9825436408977556,
          0.9791666666666666,
          0.9822784810126581,
          0.9803921568627453,
          0.9737991266375546,
          0.9693430656934306,
          0.9732620320855614,
          0.9791666666666666,
          0.979381443298969,
          0.9776674937965261,
          0.9787234042553192,
          0.9746192893401016,
          0.9811320754716981,
          0.9811757891688386,
          0.970509383378016,
          0.9774436090225563,
          0.9761273209549072,
          0.9811320754716981,
          0.9800995024875622,
          0.9775561097256857,
          0.9770992366412214,
          0.9787234042553192,
          0.9818181818181818,
          0.9811320754716981,
          0.9772151898734177,
          0.9763779527559056,
          0.9615384615384615
         ]
        },
        {
         "name": "Proportion=0.5",
         "type": "scatter",
         "x": [
          0,
          1,
          2,
          3,
          4,
          5,
          6,
          7,
          8,
          9,
          10,
          11,
          12,
          13,
          14,
          15,
          16,
          17,
          18,
          19,
          20,
          21,
          22,
          23,
          24,
          25,
          26,
          27,
          28,
          29,
          30,
          31,
          32,
          33,
          34,
          35,
          36,
          37,
          38,
          39,
          40,
          41,
          42,
          43,
          44,
          45,
          46,
          47,
          48,
          49,
          50
         ],
         "y": [
          0,
          0.5819397993311037,
          0.896265560165975,
          0.9626168224299064,
          0.9634408602150538,
          0.9738430583501007,
          0.974025974025974,
          0.9737373737373739,
          0.9803220035778175,
          0.9742489270386265,
          0.9696969696969696,
          0.9484536082474226,
          0.9673202614379085,
          0.9761904761904763,
          0.962962962962963,
          0.9698189134808854,
          0.967741935483871,
          0.9668411867364747,
          0.9786476868327402,
          0.9700176366843034,
          0.9685314685314687,
          0.9666011787819253,
          0.9718875502008032,
          0.97165991902834,
          0.9651567944250871,
          0.9721115537848605,
          0.9787985865724382,
          0.967479674796748,
          0.9696969696969697,
          0.9664694280078895,
          0.9741550695825051,
          0.9605263157894737,
          0.97165991902834,
          0.9787985865724382,
          0.9789029535864978,
          0.968421052631579,
          0.9749999999999999,
          0.9677419354838709,
          0.9790794979079498,
          0.9569707401032702,
          0.9659318637274549,
          0.9764453961456103,
          0.9760956175298804,
          0.972972972972973,
          0.969450101832994,
          0.9701230228471002,
          0.9516129032258064,
          0.9762532981530344,
          0.983050847457627,
          0.9677419354838709,
          0.9669421487603306
         ]
        },
        {
         "name": "Proportion=0.6",
         "type": "scatter",
         "x": [
          0,
          1,
          2,
          3,
          4,
          5,
          6,
          7,
          8,
          9,
          10,
          11,
          12,
          13,
          14,
          15,
          16,
          17,
          18,
          19,
          20,
          21,
          22,
          23,
          24,
          25,
          26,
          27,
          28,
          29,
          30,
          31,
          32,
          33,
          34,
          35,
          36,
          37,
          38,
          39,
          40,
          41,
          42,
          43,
          44,
          45,
          46,
          47,
          48,
          49,
          50
         ],
         "y": [
          0,
          0,
          0,
          0.021505376344086023,
          0.31970488779588074,
          0.8681757656458057,
          0.9652886115444618,
          0.9671398016721757,
          0.9763313609467456,
          0.9825503355704698,
          0.9835122699386503,
          0.9849012775842044,
          0.9843630816170862,
          0.9850299401197605,
          0.9878682842287695,
          0.9860627177700348,
          0.9856115107913669,
          0.9843092231151933,
          0.9858249858249858,
          0.9909638554216867,
          0.9872241579558653,
          0.9875518672199171,
          0.986322188449848,
          0.9867624810892586,
          0.9846878680800942,
          0.9872537659327926,
          0.9851315287838354,
          0.987987987987988,
          0.987987987987988,
          0.9893238434163701,
          0.9875518672199171,
          0.9891304347826086,
          0.983957219251337,
          0.9917355371900827,
          0.9879518072289157,
          0.9883449883449884,
          0.9920508744038156,
          0.9883720930232558,
          0.9895712630359212,
          0.9906759906759907,
          0.9865067466266866,
          0.989010989010989,
          0.9872537659327926,
          0.9904153354632589,
          0.9831094049904031,
          0.9888712241653418,
          0.9865067466266866,
          0.9872550884534906,
          0.9850299401197605,
          0.9856,
          0.9875518672199171
         ]
        },
        {
         "name": "Proportion=0.7",
         "type": "scatter",
         "x": [
          0,
          1,
          2,
          3,
          4,
          5,
          6,
          7,
          8,
          9,
          10,
          11,
          12,
          13,
          14,
          15,
          16,
          17,
          18,
          19,
          20,
          21,
          22,
          23,
          24,
          25,
          26,
          27,
          28,
          29,
          30,
          31,
          32,
          33,
          34,
          35,
          36,
          37,
          38,
          39,
          40,
          41,
          42,
          43,
          44,
          45,
          46,
          47,
          48,
          49,
          50
         ],
         "y": [
          0,
          0.8123515439429929,
          0.9596412556053812,
          0.9671232876712329,
          0.9759797724399494,
          0.9777777777777777,
          0.9684499314128944,
          0.9733333333333334,
          0.976271186440678,
          0.9757085020242914,
          0.9633027522935781,
          0.9773755656108597,
          0.9748892171344166,
          0.9727272727272728,
          0.9818181818181819,
          0.9790794979079498,
          0.9667110519307591,
          0.9574468085106383,
          0.975867028927601,
          0.9745762711864406,
          0.9720998531571218,
          0.9764216366158113,
          0.9771689497716896,
          0.9865470852017937,
          0.9807407407407407,
          0.9777777777777777,
          0.9736842105263158,
          0.9734513274336283,
          0.9817476982716846,
          0.9778704297626685,
          0.9775784753363229,
          0.9818731117824773,
          0.9806949806949807,
          0.9819277108433735,
          0.9764868603042878,
          0.982419855222337,
          0.9833080424886192,
          0.9818181818181818,
          0.9792531120331951,
          0.9809861424427972,
          0.9775784753363229,
          0.9773755656108597,
          0.9785932721712537,
          0.9804469273743016,
          0.9836807238649217,
          0.977961432506887,
          0.9815950920245399,
          0.9777777777777777,
          0.9820193637621023,
          0.9825637713916694,
          0.9835164835164836
         ]
        },
        {
         "name": "Proportion=0.8",
         "type": "scatter",
         "x": [
          0,
          1,
          2,
          3,
          4,
          5,
          6,
          7,
          8,
          9,
          10,
          11,
          12,
          13,
          14,
          15,
          16,
          17,
          18,
          19,
          20,
          21,
          22,
          23,
          24,
          25,
          26,
          27,
          28,
          29,
          30,
          31,
          32,
          33,
          34,
          35,
          36,
          37,
          38,
          39,
          40,
          41,
          42,
          43,
          44,
          45,
          46,
          47,
          48,
          49,
          50
         ],
         "y": [
          0.034210526315789476,
          0.9382716049382716,
          0.9659090909090908,
          0.9740791268758527,
          0.9792241755048671,
          0.9805309734513273,
          0.9791666666666666,
          0.9702380952380952,
          0.9763596809282088,
          0.9789473684210526,
          0.9823008849557522,
          0.979539641943734,
          0.9754098360655737,
          0.9755469755469754,
          0.9794459338695265,
          0.9745649263721553,
          0.9744279946164199,
          0.9794091316025068,
          0.9772727272727273,
          0.9816272965879265,
          0.9769736842105263,
          0.976086956521739,
          0.9792349726775956,
          0.9794459338695265,
          0.9812606473594547,
          0.9816272965879265,
          0.9801593048515568,
          0.9789473684210526,
          0.9820393155140716,
          0.9794871794871794,
          0.9846153846153846,
          0.9815303430079155,
          0.9765013054830288,
          0.9792935444579781,
          0.9806451612903226,
          0.9846021010217297,
          0.9834710743801653,
          0.9825870646766169,
          0.979253112033195,
          0.983957219251337,
          0.9852941176470588,
          0.9843906630388085,
          0.9840490797546012,
          0.9834710743801653,
          0.9819858769275112,
          0.9834710743801653,
          0.9825581395348837,
          0.9834619625137817,
          0.9833333333333334,
          0.9780701754385964,
          0.9834710743801653
         ]
        },
        {
         "name": "Proportion=0.9",
         "type": "scatter",
         "x": [
          0,
          1,
          2,
          3,
          4,
          5,
          6,
          7,
          8,
          9,
          10,
          11,
          12,
          13,
          14,
          15,
          16,
          17,
          18,
          19,
          20,
          21,
          22,
          23,
          24,
          25,
          26,
          27,
          28,
          29,
          30,
          31,
          32,
          33,
          34,
          35,
          36,
          37,
          38,
          39,
          40,
          41,
          42,
          43,
          44,
          45,
          46,
          47,
          48,
          49,
          50
         ],
         "y": [
          0,
          0,
          0.48484848484848486,
          0.8858638743455496,
          0.9712517725924972,
          0.9807692307692307,
          0.979534407776925,
          0.9821029082774049,
          0.9792349726775956,
          0.9858233369683751,
          0.9842078451349974,
          0.9797297297297297,
          0.9819485341185509,
          0.9825783972125435,
          0.9836065573770493,
          0.9838709677419355,
          0.9813333333333334,
          0.9847238542890716,
          0.9834905660377358,
          0.9835680751173709,
          0.9818181818181818,
          0.9797889919918648,
          0.9802197802197803,
          0.9818181818181818,
          0.9782608695652174,
          0.9761273209549072,
          0.9834123222748815,
          0.9801256571355302,
          0.983372921615202,
          0.981242822508613,
          0.9818181818181818,
          0.9848272344766033,
          0.9786223277909738,
          0.9829299363057326,
          0.982272669302385,
          0.9790697674418604,
          0.9807692307692307,
          0.9849802371541502,
          0.9818181818181818,
          0.9782608695652174,
          0.9835294117647058,
          0.9818181818181818,
          0.9822904368358913,
          0.980263157894737,
          0.980628608082104,
          0.9774803757560159,
          0.9828309805417779,
          0.9826998358378582,
          0.9764309764309764,
          0.9818181818181818,
          0.9808612440191389
         ]
        }
       ],
       "layout": {
        "template": {
         "data": {
          "bar": [
           {
            "error_x": {
             "color": "#2a3f5f"
            },
            "error_y": {
             "color": "#2a3f5f"
            },
            "marker": {
             "line": {
              "color": "#E5ECF6",
              "width": 0.5
             },
             "pattern": {
              "fillmode": "overlay",
              "size": 10,
              "solidity": 0.2
             }
            },
            "type": "bar"
           }
          ],
          "barpolar": [
           {
            "marker": {
             "line": {
              "color": "#E5ECF6",
              "width": 0.5
             },
             "pattern": {
              "fillmode": "overlay",
              "size": 10,
              "solidity": 0.2
             }
            },
            "type": "barpolar"
           }
          ],
          "carpet": [
           {
            "aaxis": {
             "endlinecolor": "#2a3f5f",
             "gridcolor": "white",
             "linecolor": "white",
             "minorgridcolor": "white",
             "startlinecolor": "#2a3f5f"
            },
            "baxis": {
             "endlinecolor": "#2a3f5f",
             "gridcolor": "white",
             "linecolor": "white",
             "minorgridcolor": "white",
             "startlinecolor": "#2a3f5f"
            },
            "type": "carpet"
           }
          ],
          "choropleth": [
           {
            "colorbar": {
             "outlinewidth": 0,
             "ticks": ""
            },
            "type": "choropleth"
           }
          ],
          "contour": [
           {
            "colorbar": {
             "outlinewidth": 0,
             "ticks": ""
            },
            "colorscale": [
             [
              0,
              "#0d0887"
             ],
             [
              0.1111111111111111,
              "#46039f"
             ],
             [
              0.2222222222222222,
              "#7201a8"
             ],
             [
              0.3333333333333333,
              "#9c179e"
             ],
             [
              0.4444444444444444,
              "#bd3786"
             ],
             [
              0.5555555555555556,
              "#d8576b"
             ],
             [
              0.6666666666666666,
              "#ed7953"
             ],
             [
              0.7777777777777778,
              "#fb9f3a"
             ],
             [
              0.8888888888888888,
              "#fdca26"
             ],
             [
              1,
              "#f0f921"
             ]
            ],
            "type": "contour"
           }
          ],
          "contourcarpet": [
           {
            "colorbar": {
             "outlinewidth": 0,
             "ticks": ""
            },
            "type": "contourcarpet"
           }
          ],
          "heatmap": [
           {
            "colorbar": {
             "outlinewidth": 0,
             "ticks": ""
            },
            "colorscale": [
             [
              0,
              "#0d0887"
             ],
             [
              0.1111111111111111,
              "#46039f"
             ],
             [
              0.2222222222222222,
              "#7201a8"
             ],
             [
              0.3333333333333333,
              "#9c179e"
             ],
             [
              0.4444444444444444,
              "#bd3786"
             ],
             [
              0.5555555555555556,
              "#d8576b"
             ],
             [
              0.6666666666666666,
              "#ed7953"
             ],
             [
              0.7777777777777778,
              "#fb9f3a"
             ],
             [
              0.8888888888888888,
              "#fdca26"
             ],
             [
              1,
              "#f0f921"
             ]
            ],
            "type": "heatmap"
           }
          ],
          "heatmapgl": [
           {
            "colorbar": {
             "outlinewidth": 0,
             "ticks": ""
            },
            "colorscale": [
             [
              0,
              "#0d0887"
             ],
             [
              0.1111111111111111,
              "#46039f"
             ],
             [
              0.2222222222222222,
              "#7201a8"
             ],
             [
              0.3333333333333333,
              "#9c179e"
             ],
             [
              0.4444444444444444,
              "#bd3786"
             ],
             [
              0.5555555555555556,
              "#d8576b"
             ],
             [
              0.6666666666666666,
              "#ed7953"
             ],
             [
              0.7777777777777778,
              "#fb9f3a"
             ],
             [
              0.8888888888888888,
              "#fdca26"
             ],
             [
              1,
              "#f0f921"
             ]
            ],
            "type": "heatmapgl"
           }
          ],
          "histogram": [
           {
            "marker": {
             "pattern": {
              "fillmode": "overlay",
              "size": 10,
              "solidity": 0.2
             }
            },
            "type": "histogram"
           }
          ],
          "histogram2d": [
           {
            "colorbar": {
             "outlinewidth": 0,
             "ticks": ""
            },
            "colorscale": [
             [
              0,
              "#0d0887"
             ],
             [
              0.1111111111111111,
              "#46039f"
             ],
             [
              0.2222222222222222,
              "#7201a8"
             ],
             [
              0.3333333333333333,
              "#9c179e"
             ],
             [
              0.4444444444444444,
              "#bd3786"
             ],
             [
              0.5555555555555556,
              "#d8576b"
             ],
             [
              0.6666666666666666,
              "#ed7953"
             ],
             [
              0.7777777777777778,
              "#fb9f3a"
             ],
             [
              0.8888888888888888,
              "#fdca26"
             ],
             [
              1,
              "#f0f921"
             ]
            ],
            "type": "histogram2d"
           }
          ],
          "histogram2dcontour": [
           {
            "colorbar": {
             "outlinewidth": 0,
             "ticks": ""
            },
            "colorscale": [
             [
              0,
              "#0d0887"
             ],
             [
              0.1111111111111111,
              "#46039f"
             ],
             [
              0.2222222222222222,
              "#7201a8"
             ],
             [
              0.3333333333333333,
              "#9c179e"
             ],
             [
              0.4444444444444444,
              "#bd3786"
             ],
             [
              0.5555555555555556,
              "#d8576b"
             ],
             [
              0.6666666666666666,
              "#ed7953"
             ],
             [
              0.7777777777777778,
              "#fb9f3a"
             ],
             [
              0.8888888888888888,
              "#fdca26"
             ],
             [
              1,
              "#f0f921"
             ]
            ],
            "type": "histogram2dcontour"
           }
          ],
          "mesh3d": [
           {
            "colorbar": {
             "outlinewidth": 0,
             "ticks": ""
            },
            "type": "mesh3d"
           }
          ],
          "parcoords": [
           {
            "line": {
             "colorbar": {
              "outlinewidth": 0,
              "ticks": ""
             }
            },
            "type": "parcoords"
           }
          ],
          "pie": [
           {
            "automargin": true,
            "type": "pie"
           }
          ],
          "scatter": [
           {
            "fillpattern": {
             "fillmode": "overlay",
             "size": 10,
             "solidity": 0.2
            },
            "type": "scatter"
           }
          ],
          "scatter3d": [
           {
            "line": {
             "colorbar": {
              "outlinewidth": 0,
              "ticks": ""
             }
            },
            "marker": {
             "colorbar": {
              "outlinewidth": 0,
              "ticks": ""
             }
            },
            "type": "scatter3d"
           }
          ],
          "scattercarpet": [
           {
            "marker": {
             "colorbar": {
              "outlinewidth": 0,
              "ticks": ""
             }
            },
            "type": "scattercarpet"
           }
          ],
          "scattergeo": [
           {
            "marker": {
             "colorbar": {
              "outlinewidth": 0,
              "ticks": ""
             }
            },
            "type": "scattergeo"
           }
          ],
          "scattergl": [
           {
            "marker": {
             "colorbar": {
              "outlinewidth": 0,
              "ticks": ""
             }
            },
            "type": "scattergl"
           }
          ],
          "scattermapbox": [
           {
            "marker": {
             "colorbar": {
              "outlinewidth": 0,
              "ticks": ""
             }
            },
            "type": "scattermapbox"
           }
          ],
          "scatterpolar": [
           {
            "marker": {
             "colorbar": {
              "outlinewidth": 0,
              "ticks": ""
             }
            },
            "type": "scatterpolar"
           }
          ],
          "scatterpolargl": [
           {
            "marker": {
             "colorbar": {
              "outlinewidth": 0,
              "ticks": ""
             }
            },
            "type": "scatterpolargl"
           }
          ],
          "scatterternary": [
           {
            "marker": {
             "colorbar": {
              "outlinewidth": 0,
              "ticks": ""
             }
            },
            "type": "scatterternary"
           }
          ],
          "surface": [
           {
            "colorbar": {
             "outlinewidth": 0,
             "ticks": ""
            },
            "colorscale": [
             [
              0,
              "#0d0887"
             ],
             [
              0.1111111111111111,
              "#46039f"
             ],
             [
              0.2222222222222222,
              "#7201a8"
             ],
             [
              0.3333333333333333,
              "#9c179e"
             ],
             [
              0.4444444444444444,
              "#bd3786"
             ],
             [
              0.5555555555555556,
              "#d8576b"
             ],
             [
              0.6666666666666666,
              "#ed7953"
             ],
             [
              0.7777777777777778,
              "#fb9f3a"
             ],
             [
              0.8888888888888888,
              "#fdca26"
             ],
             [
              1,
              "#f0f921"
             ]
            ],
            "type": "surface"
           }
          ],
          "table": [
           {
            "cells": {
             "fill": {
              "color": "#EBF0F8"
             },
             "line": {
              "color": "white"
             }
            },
            "header": {
             "fill": {
              "color": "#C8D4E3"
             },
             "line": {
              "color": "white"
             }
            },
            "type": "table"
           }
          ]
         },
         "layout": {
          "annotationdefaults": {
           "arrowcolor": "#2a3f5f",
           "arrowhead": 0,
           "arrowwidth": 1
          },
          "autotypenumbers": "strict",
          "coloraxis": {
           "colorbar": {
            "outlinewidth": 0,
            "ticks": ""
           }
          },
          "colorscale": {
           "diverging": [
            [
             0,
             "#8e0152"
            ],
            [
             0.1,
             "#c51b7d"
            ],
            [
             0.2,
             "#de77ae"
            ],
            [
             0.3,
             "#f1b6da"
            ],
            [
             0.4,
             "#fde0ef"
            ],
            [
             0.5,
             "#f7f7f7"
            ],
            [
             0.6,
             "#e6f5d0"
            ],
            [
             0.7,
             "#b8e186"
            ],
            [
             0.8,
             "#7fbc41"
            ],
            [
             0.9,
             "#4d9221"
            ],
            [
             1,
             "#276419"
            ]
           ],
           "sequential": [
            [
             0,
             "#0d0887"
            ],
            [
             0.1111111111111111,
             "#46039f"
            ],
            [
             0.2222222222222222,
             "#7201a8"
            ],
            [
             0.3333333333333333,
             "#9c179e"
            ],
            [
             0.4444444444444444,
             "#bd3786"
            ],
            [
             0.5555555555555556,
             "#d8576b"
            ],
            [
             0.6666666666666666,
             "#ed7953"
            ],
            [
             0.7777777777777778,
             "#fb9f3a"
            ],
            [
             0.8888888888888888,
             "#fdca26"
            ],
            [
             1,
             "#f0f921"
            ]
           ],
           "sequentialminus": [
            [
             0,
             "#0d0887"
            ],
            [
             0.1111111111111111,
             "#46039f"
            ],
            [
             0.2222222222222222,
             "#7201a8"
            ],
            [
             0.3333333333333333,
             "#9c179e"
            ],
            [
             0.4444444444444444,
             "#bd3786"
            ],
            [
             0.5555555555555556,
             "#d8576b"
            ],
            [
             0.6666666666666666,
             "#ed7953"
            ],
            [
             0.7777777777777778,
             "#fb9f3a"
            ],
            [
             0.8888888888888888,
             "#fdca26"
            ],
            [
             1,
             "#f0f921"
            ]
           ]
          },
          "colorway": [
           "#636efa",
           "#EF553B",
           "#00cc96",
           "#ab63fa",
           "#FFA15A",
           "#19d3f3",
           "#FF6692",
           "#B6E880",
           "#FF97FF",
           "#FECB52"
          ],
          "font": {
           "color": "#2a3f5f"
          },
          "geo": {
           "bgcolor": "white",
           "lakecolor": "white",
           "landcolor": "#E5ECF6",
           "showlakes": true,
           "showland": true,
           "subunitcolor": "white"
          },
          "hoverlabel": {
           "align": "left"
          },
          "hovermode": "closest",
          "mapbox": {
           "style": "light"
          },
          "paper_bgcolor": "white",
          "plot_bgcolor": "#E5ECF6",
          "polar": {
           "angularaxis": {
            "gridcolor": "white",
            "linecolor": "white",
            "ticks": ""
           },
           "bgcolor": "#E5ECF6",
           "radialaxis": {
            "gridcolor": "white",
            "linecolor": "white",
            "ticks": ""
           }
          },
          "scene": {
           "xaxis": {
            "backgroundcolor": "#E5ECF6",
            "gridcolor": "white",
            "gridwidth": 2,
            "linecolor": "white",
            "showbackground": true,
            "ticks": "",
            "zerolinecolor": "white"
           },
           "yaxis": {
            "backgroundcolor": "#E5ECF6",
            "gridcolor": "white",
            "gridwidth": 2,
            "linecolor": "white",
            "showbackground": true,
            "ticks": "",
            "zerolinecolor": "white"
           },
           "zaxis": {
            "backgroundcolor": "#E5ECF6",
            "gridcolor": "white",
            "gridwidth": 2,
            "linecolor": "white",
            "showbackground": true,
            "ticks": "",
            "zerolinecolor": "white"
           }
          },
          "shapedefaults": {
           "line": {
            "color": "#2a3f5f"
           }
          },
          "ternary": {
           "aaxis": {
            "gridcolor": "white",
            "linecolor": "white",
            "ticks": ""
           },
           "baxis": {
            "gridcolor": "white",
            "linecolor": "white",
            "ticks": ""
           },
           "bgcolor": "#E5ECF6",
           "caxis": {
            "gridcolor": "white",
            "linecolor": "white",
            "ticks": ""
           }
          },
          "title": {
           "x": 0.05
          },
          "xaxis": {
           "automargin": true,
           "gridcolor": "white",
           "linecolor": "white",
           "ticks": "",
           "title": {
            "standoff": 15
           },
           "zerolinecolor": "white",
           "zerolinewidth": 2
          },
          "yaxis": {
           "automargin": true,
           "gridcolor": "white",
           "linecolor": "white",
           "ticks": "",
           "title": {
            "standoff": 15
           },
           "zerolinecolor": "white",
           "zerolinewidth": 2
          }
         }
        },
        "title": {
         "text": "Median F1 Score For Ablative Models"
        },
        "xaxis": {
         "title": {
          "text": "Epoch"
         }
        },
        "yaxis": {
         "title": {
          "text": "Median F1"
         }
        }
       }
      },
      "text/html": [
       "<div>                            <div id=\"6d63d325-76cb-461f-b9ea-531b5f96fb81\" class=\"plotly-graph-div\" style=\"height:525px; width:100%;\"></div>            <script type=\"text/javascript\">                require([\"plotly\"], function(Plotly) {                    window.PLOTLYENV=window.PLOTLYENV || {};                                    if (document.getElementById(\"6d63d325-76cb-461f-b9ea-531b5f96fb81\")) {                    Plotly.newPlot(                        \"6d63d325-76cb-461f-b9ea-531b5f96fb81\",                        [{\"name\":\"Proportion=0.1\",\"x\":[0,1,2,3,4,5,6,7,8,9,10,11,12,13,14,15,16,17,18,19,20,21,22,23,24,25,26,27,28,29,30,31,32,33,34,35,36,37,38,39,40,41,42,43,44,45,46,47,48,49,50],\"y\":[0.0,0.0,0.0,0.0,0.0,0.0,0.02631578947368421,0.10256410256410256,0.21148036253776434,0.5263157894736842,0.6052631578947368,0.7017543859649122,0.7189542483660132,0.7630057803468207,0.7624309392265193,0.8407643312101911,0.8662420382165605,0.9249999999999999,0.9285714285714286,0.9444444444444444,0.9583333333333334,0.9504950495049505,0.9600000000000001,0.9565217391304348,0.9494949494949495,0.9523809523809523,0.9523809523809523,0.9583333333333334,0.9600000000000001,0.967032967032967,0.9714285714285714,0.9583333333333334,0.972972972972973,0.954954954954955,0.9576547231270358,0.9629629629629629,0.967741935483871,0.9629629629629629,0.956043956043956,0.9523809523809523,0.962962962962963,0.9523809523809523,0.9600000000000001,0.9782608695652174,0.9696969696969697,0.9600000000000001,0.9690721649484536,0.9655172413793104,0.963855421686747,0.965669988925803,0.96],\"type\":\"scatter\"},{\"name\":\"Proportion=0.2\",\"x\":[0,1,2,3,4,5,6,7,8,9,10,11,12,13,14,15,16,17,18,19,20,21,22,23,24,25,26,27,28,29,30,31,32,33,34,35,36,37,38,39,40,41,42,43,44,45,46,47,48,49,50],\"y\":[0.0,0.0,0.0,0.02,0.4568764568764568,0.5614035087719298,0.784,0.8936693300553167,0.8706896551724137,0.9315068493150684,0.9547738693467336,0.9652421652421652,0.9583815028901734,0.96875,0.9655172413793104,0.9693877551020409,0.9655172413793104,0.9782608695652174,0.9729729729729729,0.9782608695652174,0.9740932642487047,0.9802371541501976,0.9761904761904763,0.9705882352941176,0.9761904761904763,0.9761904761904763,0.9714285714285714,0.9705882352941176,0.9457364341085271,0.9785310734463277,0.9637305699481866,0.96875,0.9666666666666667,0.978021978021978,0.9708846584546472,0.9671361502347418,0.9805825242718447,0.9723756906077349,0.9809523809523809,0.9705882352941176,0.9737827715355806,0.9696969696969697,0.9746192893401016,0.9694656488549619,0.9714285714285714,0.9578544061302682,0.963855421686747,0.9666666666666667,0.9760765550239234,0.9739776951672863,0.967741935483871],\"type\":\"scatter\"},{\"name\":\"Proportion=0.3\",\"x\":[0,1,2,3,4,5,6,7,8,9,10,11,12,13,14,15,16,17,18,19,20,21,22,23,24,25,26,27,28,29,30,31,32,33,34,35,36,37,38,39,40,41,42,43,44,45,46,47,48,49,50],\"y\":[0.0,0.0,0.0,0.0,0.0,0.0,0.06222222222222222,0.41964285714285715,0.6990291262135923,0.7626459143968872,0.8243727598566308,0.8705882352941177,0.896551724137931,0.936026936026936,0.9379633242294185,0.9629629629629629,0.967544864452081,0.9565217391304347,0.9765886287625419,0.9629629629629629,0.9738339021615473,0.9729111026325828,0.9772727272727273,0.9692780337941629,0.9765684051398338,0.9726027397260274,0.9793103448275862,0.9726027397260274,0.9767441860465117,0.9811320754716981,0.9793103448275863,0.9757785467128027,0.9787234042553192,0.9766081871345029,0.9812734082397004,0.9772727272727273,0.9848484848484849,0.9793103448275863,0.9811320754716981,0.9793103448275863,0.9795462997396802,0.9793103448275863,0.9811320754716981,0.9793310785419015,0.9767441860465117,0.9811320754716981,0.9788519637462235,0.9761904761904763,0.9863013698630136,0.983050847457627,0.9828178694158075],\"type\":\"scatter\"},{\"name\":\"Proportion=0.4\",\"x\":[0,1,2,3,4,5,6,7,8,9,10,11,12,13,14,15,16,17,18,19,20,21,22,23,24,25,26,27,28,29,30,31,32,33,34,35,36,37,38,39,40,41,42,43,44,45,46,47,48,49,50],\"y\":[0.0,0.3170731707317073,0.761904761904762,0.88,0.9537827494848395,0.9703504043126685,0.9763779527559054,0.9738524113887276,0.9724501758499415,0.9786096256684491,0.9824561403508771,0.9811320754716981,0.9822784810126581,0.9806637806637808,0.9843749999999999,0.9840425531914894,0.9821736630247269,0.9831572937482158,0.9824561403508771,0.9841269841269842,0.9767441860465116,0.9787234042553192,0.9840425531914894,0.9764705882352942,0.9825436408977556,0.9791666666666666,0.9822784810126581,0.9803921568627453,0.9737991266375546,0.9693430656934306,0.9732620320855614,0.9791666666666666,0.979381443298969,0.9776674937965261,0.9787234042553192,0.9746192893401016,0.9811320754716981,0.9811757891688386,0.970509383378016,0.9774436090225563,0.9761273209549072,0.9811320754716981,0.9800995024875622,0.9775561097256857,0.9770992366412214,0.9787234042553192,0.9818181818181818,0.9811320754716981,0.9772151898734177,0.9763779527559056,0.9615384615384615],\"type\":\"scatter\"},{\"name\":\"Proportion=0.5\",\"x\":[0,1,2,3,4,5,6,7,8,9,10,11,12,13,14,15,16,17,18,19,20,21,22,23,24,25,26,27,28,29,30,31,32,33,34,35,36,37,38,39,40,41,42,43,44,45,46,47,48,49,50],\"y\":[0.0,0.5819397993311037,0.896265560165975,0.9626168224299064,0.9634408602150538,0.9738430583501007,0.974025974025974,0.9737373737373739,0.9803220035778175,0.9742489270386265,0.9696969696969696,0.9484536082474226,0.9673202614379085,0.9761904761904763,0.962962962962963,0.9698189134808854,0.967741935483871,0.9668411867364747,0.9786476868327402,0.9700176366843034,0.9685314685314687,0.9666011787819253,0.9718875502008032,0.97165991902834,0.9651567944250871,0.9721115537848605,0.9787985865724382,0.967479674796748,0.9696969696969697,0.9664694280078895,0.9741550695825051,0.9605263157894737,0.97165991902834,0.9787985865724382,0.9789029535864978,0.968421052631579,0.9749999999999999,0.9677419354838709,0.9790794979079498,0.9569707401032702,0.9659318637274549,0.9764453961456103,0.9760956175298804,0.972972972972973,0.969450101832994,0.9701230228471002,0.9516129032258064,0.9762532981530344,0.983050847457627,0.9677419354838709,0.9669421487603306],\"type\":\"scatter\"},{\"name\":\"Proportion=0.6\",\"x\":[0,1,2,3,4,5,6,7,8,9,10,11,12,13,14,15,16,17,18,19,20,21,22,23,24,25,26,27,28,29,30,31,32,33,34,35,36,37,38,39,40,41,42,43,44,45,46,47,48,49,50],\"y\":[0.0,0.0,0.0,0.021505376344086023,0.31970488779588074,0.8681757656458057,0.9652886115444618,0.9671398016721757,0.9763313609467456,0.9825503355704698,0.9835122699386503,0.9849012775842044,0.9843630816170862,0.9850299401197605,0.9878682842287695,0.9860627177700348,0.9856115107913669,0.9843092231151933,0.9858249858249858,0.9909638554216867,0.9872241579558653,0.9875518672199171,0.986322188449848,0.9867624810892586,0.9846878680800942,0.9872537659327926,0.9851315287838354,0.987987987987988,0.987987987987988,0.9893238434163701,0.9875518672199171,0.9891304347826086,0.983957219251337,0.9917355371900827,0.9879518072289157,0.9883449883449884,0.9920508744038156,0.9883720930232558,0.9895712630359212,0.9906759906759907,0.9865067466266866,0.989010989010989,0.9872537659327926,0.9904153354632589,0.9831094049904031,0.9888712241653418,0.9865067466266866,0.9872550884534906,0.9850299401197605,0.9856,0.9875518672199171],\"type\":\"scatter\"},{\"name\":\"Proportion=0.7\",\"x\":[0,1,2,3,4,5,6,7,8,9,10,11,12,13,14,15,16,17,18,19,20,21,22,23,24,25,26,27,28,29,30,31,32,33,34,35,36,37,38,39,40,41,42,43,44,45,46,47,48,49,50],\"y\":[0.0,0.8123515439429929,0.9596412556053812,0.9671232876712329,0.9759797724399494,0.9777777777777777,0.9684499314128944,0.9733333333333334,0.976271186440678,0.9757085020242914,0.9633027522935781,0.9773755656108597,0.9748892171344166,0.9727272727272728,0.9818181818181819,0.9790794979079498,0.9667110519307591,0.9574468085106383,0.975867028927601,0.9745762711864406,0.9720998531571218,0.9764216366158113,0.9771689497716896,0.9865470852017937,0.9807407407407407,0.9777777777777777,0.9736842105263158,0.9734513274336283,0.9817476982716846,0.9778704297626685,0.9775784753363229,0.9818731117824773,0.9806949806949807,0.9819277108433735,0.9764868603042878,0.982419855222337,0.9833080424886192,0.9818181818181818,0.9792531120331951,0.9809861424427972,0.9775784753363229,0.9773755656108597,0.9785932721712537,0.9804469273743016,0.9836807238649217,0.977961432506887,0.9815950920245399,0.9777777777777777,0.9820193637621023,0.9825637713916694,0.9835164835164836],\"type\":\"scatter\"},{\"name\":\"Proportion=0.8\",\"x\":[0,1,2,3,4,5,6,7,8,9,10,11,12,13,14,15,16,17,18,19,20,21,22,23,24,25,26,27,28,29,30,31,32,33,34,35,36,37,38,39,40,41,42,43,44,45,46,47,48,49,50],\"y\":[0.034210526315789476,0.9382716049382716,0.9659090909090908,0.9740791268758527,0.9792241755048671,0.9805309734513273,0.9791666666666666,0.9702380952380952,0.9763596809282088,0.9789473684210526,0.9823008849557522,0.979539641943734,0.9754098360655737,0.9755469755469754,0.9794459338695265,0.9745649263721553,0.9744279946164199,0.9794091316025068,0.9772727272727273,0.9816272965879265,0.9769736842105263,0.976086956521739,0.9792349726775956,0.9794459338695265,0.9812606473594547,0.9816272965879265,0.9801593048515568,0.9789473684210526,0.9820393155140716,0.9794871794871794,0.9846153846153846,0.9815303430079155,0.9765013054830288,0.9792935444579781,0.9806451612903226,0.9846021010217297,0.9834710743801653,0.9825870646766169,0.979253112033195,0.983957219251337,0.9852941176470588,0.9843906630388085,0.9840490797546012,0.9834710743801653,0.9819858769275112,0.9834710743801653,0.9825581395348837,0.9834619625137817,0.9833333333333334,0.9780701754385964,0.9834710743801653],\"type\":\"scatter\"},{\"name\":\"Proportion=0.9\",\"x\":[0,1,2,3,4,5,6,7,8,9,10,11,12,13,14,15,16,17,18,19,20,21,22,23,24,25,26,27,28,29,30,31,32,33,34,35,36,37,38,39,40,41,42,43,44,45,46,47,48,49,50],\"y\":[0.0,0.0,0.48484848484848486,0.8858638743455496,0.9712517725924972,0.9807692307692307,0.979534407776925,0.9821029082774049,0.9792349726775956,0.9858233369683751,0.9842078451349974,0.9797297297297297,0.9819485341185509,0.9825783972125435,0.9836065573770493,0.9838709677419355,0.9813333333333334,0.9847238542890716,0.9834905660377358,0.9835680751173709,0.9818181818181818,0.9797889919918648,0.9802197802197803,0.9818181818181818,0.9782608695652174,0.9761273209549072,0.9834123222748815,0.9801256571355302,0.983372921615202,0.981242822508613,0.9818181818181818,0.9848272344766033,0.9786223277909738,0.9829299363057326,0.982272669302385,0.9790697674418604,0.9807692307692307,0.9849802371541502,0.9818181818181818,0.9782608695652174,0.9835294117647058,0.9818181818181818,0.9822904368358913,0.980263157894737,0.980628608082104,0.9774803757560159,0.9828309805417779,0.9826998358378582,0.9764309764309764,0.9818181818181818,0.9808612440191389],\"type\":\"scatter\"}],                        {\"title\":{\"text\":\"Median F1 Score For Ablative Models\"},\"xaxis\":{\"title\":{\"text\":\"Epoch\"}},\"yaxis\":{\"title\":{\"text\":\"Median F1\"}},\"template\":{\"data\":{\"histogram2dcontour\":[{\"type\":\"histogram2dcontour\",\"colorbar\":{\"outlinewidth\":0,\"ticks\":\"\"},\"colorscale\":[[0.0,\"#0d0887\"],[0.1111111111111111,\"#46039f\"],[0.2222222222222222,\"#7201a8\"],[0.3333333333333333,\"#9c179e\"],[0.4444444444444444,\"#bd3786\"],[0.5555555555555556,\"#d8576b\"],[0.6666666666666666,\"#ed7953\"],[0.7777777777777778,\"#fb9f3a\"],[0.8888888888888888,\"#fdca26\"],[1.0,\"#f0f921\"]]}],\"choropleth\":[{\"type\":\"choropleth\",\"colorbar\":{\"outlinewidth\":0,\"ticks\":\"\"}}],\"histogram2d\":[{\"type\":\"histogram2d\",\"colorbar\":{\"outlinewidth\":0,\"ticks\":\"\"},\"colorscale\":[[0.0,\"#0d0887\"],[0.1111111111111111,\"#46039f\"],[0.2222222222222222,\"#7201a8\"],[0.3333333333333333,\"#9c179e\"],[0.4444444444444444,\"#bd3786\"],[0.5555555555555556,\"#d8576b\"],[0.6666666666666666,\"#ed7953\"],[0.7777777777777778,\"#fb9f3a\"],[0.8888888888888888,\"#fdca26\"],[1.0,\"#f0f921\"]]}],\"heatmap\":[{\"type\":\"heatmap\",\"colorbar\":{\"outlinewidth\":0,\"ticks\":\"\"},\"colorscale\":[[0.0,\"#0d0887\"],[0.1111111111111111,\"#46039f\"],[0.2222222222222222,\"#7201a8\"],[0.3333333333333333,\"#9c179e\"],[0.4444444444444444,\"#bd3786\"],[0.5555555555555556,\"#d8576b\"],[0.6666666666666666,\"#ed7953\"],[0.7777777777777778,\"#fb9f3a\"],[0.8888888888888888,\"#fdca26\"],[1.0,\"#f0f921\"]]}],\"heatmapgl\":[{\"type\":\"heatmapgl\",\"colorbar\":{\"outlinewidth\":0,\"ticks\":\"\"},\"colorscale\":[[0.0,\"#0d0887\"],[0.1111111111111111,\"#46039f\"],[0.2222222222222222,\"#7201a8\"],[0.3333333333333333,\"#9c179e\"],[0.4444444444444444,\"#bd3786\"],[0.5555555555555556,\"#d8576b\"],[0.6666666666666666,\"#ed7953\"],[0.7777777777777778,\"#fb9f3a\"],[0.8888888888888888,\"#fdca26\"],[1.0,\"#f0f921\"]]}],\"contourcarpet\":[{\"type\":\"contourcarpet\",\"colorbar\":{\"outlinewidth\":0,\"ticks\":\"\"}}],\"contour\":[{\"type\":\"contour\",\"colorbar\":{\"outlinewidth\":0,\"ticks\":\"\"},\"colorscale\":[[0.0,\"#0d0887\"],[0.1111111111111111,\"#46039f\"],[0.2222222222222222,\"#7201a8\"],[0.3333333333333333,\"#9c179e\"],[0.4444444444444444,\"#bd3786\"],[0.5555555555555556,\"#d8576b\"],[0.6666666666666666,\"#ed7953\"],[0.7777777777777778,\"#fb9f3a\"],[0.8888888888888888,\"#fdca26\"],[1.0,\"#f0f921\"]]}],\"surface\":[{\"type\":\"surface\",\"colorbar\":{\"outlinewidth\":0,\"ticks\":\"\"},\"colorscale\":[[0.0,\"#0d0887\"],[0.1111111111111111,\"#46039f\"],[0.2222222222222222,\"#7201a8\"],[0.3333333333333333,\"#9c179e\"],[0.4444444444444444,\"#bd3786\"],[0.5555555555555556,\"#d8576b\"],[0.6666666666666666,\"#ed7953\"],[0.7777777777777778,\"#fb9f3a\"],[0.8888888888888888,\"#fdca26\"],[1.0,\"#f0f921\"]]}],\"mesh3d\":[{\"type\":\"mesh3d\",\"colorbar\":{\"outlinewidth\":0,\"ticks\":\"\"}}],\"scatter\":[{\"fillpattern\":{\"fillmode\":\"overlay\",\"size\":10,\"solidity\":0.2},\"type\":\"scatter\"}],\"parcoords\":[{\"type\":\"parcoords\",\"line\":{\"colorbar\":{\"outlinewidth\":0,\"ticks\":\"\"}}}],\"scatterpolargl\":[{\"type\":\"scatterpolargl\",\"marker\":{\"colorbar\":{\"outlinewidth\":0,\"ticks\":\"\"}}}],\"bar\":[{\"error_x\":{\"color\":\"#2a3f5f\"},\"error_y\":{\"color\":\"#2a3f5f\"},\"marker\":{\"line\":{\"color\":\"#E5ECF6\",\"width\":0.5},\"pattern\":{\"fillmode\":\"overlay\",\"size\":10,\"solidity\":0.2}},\"type\":\"bar\"}],\"scattergeo\":[{\"type\":\"scattergeo\",\"marker\":{\"colorbar\":{\"outlinewidth\":0,\"ticks\":\"\"}}}],\"scatterpolar\":[{\"type\":\"scatterpolar\",\"marker\":{\"colorbar\":{\"outlinewidth\":0,\"ticks\":\"\"}}}],\"histogram\":[{\"marker\":{\"pattern\":{\"fillmode\":\"overlay\",\"size\":10,\"solidity\":0.2}},\"type\":\"histogram\"}],\"scattergl\":[{\"type\":\"scattergl\",\"marker\":{\"colorbar\":{\"outlinewidth\":0,\"ticks\":\"\"}}}],\"scatter3d\":[{\"type\":\"scatter3d\",\"line\":{\"colorbar\":{\"outlinewidth\":0,\"ticks\":\"\"}},\"marker\":{\"colorbar\":{\"outlinewidth\":0,\"ticks\":\"\"}}}],\"scattermapbox\":[{\"type\":\"scattermapbox\",\"marker\":{\"colorbar\":{\"outlinewidth\":0,\"ticks\":\"\"}}}],\"scatterternary\":[{\"type\":\"scatterternary\",\"marker\":{\"colorbar\":{\"outlinewidth\":0,\"ticks\":\"\"}}}],\"scattercarpet\":[{\"type\":\"scattercarpet\",\"marker\":{\"colorbar\":{\"outlinewidth\":0,\"ticks\":\"\"}}}],\"carpet\":[{\"aaxis\":{\"endlinecolor\":\"#2a3f5f\",\"gridcolor\":\"white\",\"linecolor\":\"white\",\"minorgridcolor\":\"white\",\"startlinecolor\":\"#2a3f5f\"},\"baxis\":{\"endlinecolor\":\"#2a3f5f\",\"gridcolor\":\"white\",\"linecolor\":\"white\",\"minorgridcolor\":\"white\",\"startlinecolor\":\"#2a3f5f\"},\"type\":\"carpet\"}],\"table\":[{\"cells\":{\"fill\":{\"color\":\"#EBF0F8\"},\"line\":{\"color\":\"white\"}},\"header\":{\"fill\":{\"color\":\"#C8D4E3\"},\"line\":{\"color\":\"white\"}},\"type\":\"table\"}],\"barpolar\":[{\"marker\":{\"line\":{\"color\":\"#E5ECF6\",\"width\":0.5},\"pattern\":{\"fillmode\":\"overlay\",\"size\":10,\"solidity\":0.2}},\"type\":\"barpolar\"}],\"pie\":[{\"automargin\":true,\"type\":\"pie\"}]},\"layout\":{\"autotypenumbers\":\"strict\",\"colorway\":[\"#636efa\",\"#EF553B\",\"#00cc96\",\"#ab63fa\",\"#FFA15A\",\"#19d3f3\",\"#FF6692\",\"#B6E880\",\"#FF97FF\",\"#FECB52\"],\"font\":{\"color\":\"#2a3f5f\"},\"hovermode\":\"closest\",\"hoverlabel\":{\"align\":\"left\"},\"paper_bgcolor\":\"white\",\"plot_bgcolor\":\"#E5ECF6\",\"polar\":{\"bgcolor\":\"#E5ECF6\",\"angularaxis\":{\"gridcolor\":\"white\",\"linecolor\":\"white\",\"ticks\":\"\"},\"radialaxis\":{\"gridcolor\":\"white\",\"linecolor\":\"white\",\"ticks\":\"\"}},\"ternary\":{\"bgcolor\":\"#E5ECF6\",\"aaxis\":{\"gridcolor\":\"white\",\"linecolor\":\"white\",\"ticks\":\"\"},\"baxis\":{\"gridcolor\":\"white\",\"linecolor\":\"white\",\"ticks\":\"\"},\"caxis\":{\"gridcolor\":\"white\",\"linecolor\":\"white\",\"ticks\":\"\"}},\"coloraxis\":{\"colorbar\":{\"outlinewidth\":0,\"ticks\":\"\"}},\"colorscale\":{\"sequential\":[[0.0,\"#0d0887\"],[0.1111111111111111,\"#46039f\"],[0.2222222222222222,\"#7201a8\"],[0.3333333333333333,\"#9c179e\"],[0.4444444444444444,\"#bd3786\"],[0.5555555555555556,\"#d8576b\"],[0.6666666666666666,\"#ed7953\"],[0.7777777777777778,\"#fb9f3a\"],[0.8888888888888888,\"#fdca26\"],[1.0,\"#f0f921\"]],\"sequentialminus\":[[0.0,\"#0d0887\"],[0.1111111111111111,\"#46039f\"],[0.2222222222222222,\"#7201a8\"],[0.3333333333333333,\"#9c179e\"],[0.4444444444444444,\"#bd3786\"],[0.5555555555555556,\"#d8576b\"],[0.6666666666666666,\"#ed7953\"],[0.7777777777777778,\"#fb9f3a\"],[0.8888888888888888,\"#fdca26\"],[1.0,\"#f0f921\"]],\"diverging\":[[0,\"#8e0152\"],[0.1,\"#c51b7d\"],[0.2,\"#de77ae\"],[0.3,\"#f1b6da\"],[0.4,\"#fde0ef\"],[0.5,\"#f7f7f7\"],[0.6,\"#e6f5d0\"],[0.7,\"#b8e186\"],[0.8,\"#7fbc41\"],[0.9,\"#4d9221\"],[1,\"#276419\"]]},\"xaxis\":{\"gridcolor\":\"white\",\"linecolor\":\"white\",\"ticks\":\"\",\"title\":{\"standoff\":15},\"zerolinecolor\":\"white\",\"automargin\":true,\"zerolinewidth\":2},\"yaxis\":{\"gridcolor\":\"white\",\"linecolor\":\"white\",\"ticks\":\"\",\"title\":{\"standoff\":15},\"zerolinecolor\":\"white\",\"automargin\":true,\"zerolinewidth\":2},\"scene\":{\"xaxis\":{\"backgroundcolor\":\"#E5ECF6\",\"gridcolor\":\"white\",\"linecolor\":\"white\",\"showbackground\":true,\"ticks\":\"\",\"zerolinecolor\":\"white\",\"gridwidth\":2},\"yaxis\":{\"backgroundcolor\":\"#E5ECF6\",\"gridcolor\":\"white\",\"linecolor\":\"white\",\"showbackground\":true,\"ticks\":\"\",\"zerolinecolor\":\"white\",\"gridwidth\":2},\"zaxis\":{\"backgroundcolor\":\"#E5ECF6\",\"gridcolor\":\"white\",\"linecolor\":\"white\",\"showbackground\":true,\"ticks\":\"\",\"zerolinecolor\":\"white\",\"gridwidth\":2}},\"shapedefaults\":{\"line\":{\"color\":\"#2a3f5f\"}},\"annotationdefaults\":{\"arrowcolor\":\"#2a3f5f\",\"arrowhead\":0,\"arrowwidth\":1},\"geo\":{\"bgcolor\":\"white\",\"landcolor\":\"#E5ECF6\",\"subunitcolor\":\"white\",\"showland\":true,\"showlakes\":true,\"lakecolor\":\"white\"},\"title\":{\"x\":0.05},\"mapbox\":{\"style\":\"light\"}}}},                        {\"responsive\": true}                    ).then(function(){\n",
       "                            \n",
       "var gd = document.getElementById('6d63d325-76cb-461f-b9ea-531b5f96fb81');\n",
       "var x = new MutationObserver(function (mutations, observer) {{\n",
       "        var display = window.getComputedStyle(gd).display;\n",
       "        if (!display || display === 'none') {{\n",
       "            console.log([gd, 'removed!']);\n",
       "            Plotly.purge(gd);\n",
       "            observer.disconnect();\n",
       "        }}\n",
       "}});\n",
       "\n",
       "// Listen for the removal of the full notebook cells\n",
       "var notebookContainer = gd.closest('#notebook-container');\n",
       "if (notebookContainer) {{\n",
       "    x.observe(notebookContainer, {childList: true});\n",
       "}}\n",
       "\n",
       "// Listen for the clearing of the current output cell\n",
       "var outputEl = gd.closest('.output');\n",
       "if (outputEl) {{\n",
       "    x.observe(outputEl, {childList: true});\n",
       "}}\n",
       "\n",
       "                        })                };                });            </script>        </div>"
      ]
     },
     "metadata": {},
     "output_type": "display_data"
    }
   ],
   "source": [
    "fig = go.Figure(\n",
    "    layout=go.Layout(\n",
    "        title='Median F1 Score For Ablative Models',\n",
    "        xaxis=dict(title='Epoch'),\n",
    "        yaxis=dict(title='Median F1')\n",
    "    )\n",
    ")\n",
    "\n",
    "for col in loss:\n",
    "    fig.add_trace(\n",
    "        go.Scatter(x=f1.index, y=f1[col], name=col)\n",
    "    )\n",
    "\n",
    "fig.show()"
   ]
  },
  {
   "cell_type": "code",
   "execution_count": 66,
   "id": "9f502db5",
   "metadata": {
    "scrolled": true
   },
   "outputs": [
    {
     "data": {
      "application/vnd.plotly.v1+json": {
       "config": {
        "plotlyServerURL": "https://plot.ly"
       },
       "data": [
        {
         "type": "bar",
         "x": [
          "Proportion=0.1",
          "Proportion=0.2",
          "Proportion=0.3",
          "Proportion=0.4",
          "Proportion=0.5",
          "Proportion=0.6",
          "Proportion=0.7",
          "Proportion=0.8",
          "Proportion=0.9"
         ],
         "y": [
          0.9648229633880628,
          0.9696636548056988,
          0.9814425053346296,
          0.9756163722915329,
          0.9691202266161338,
          0.986388728483971,
          0.9814944976945146,
          0.9821789370401521,
          0.9809282437295866
         ]
        }
       ],
       "layout": {
        "template": {
         "data": {
          "bar": [
           {
            "error_x": {
             "color": "#2a3f5f"
            },
            "error_y": {
             "color": "#2a3f5f"
            },
            "marker": {
             "line": {
              "color": "#E5ECF6",
              "width": 0.5
             },
             "pattern": {
              "fillmode": "overlay",
              "size": 10,
              "solidity": 0.2
             }
            },
            "type": "bar"
           }
          ],
          "barpolar": [
           {
            "marker": {
             "line": {
              "color": "#E5ECF6",
              "width": 0.5
             },
             "pattern": {
              "fillmode": "overlay",
              "size": 10,
              "solidity": 0.2
             }
            },
            "type": "barpolar"
           }
          ],
          "carpet": [
           {
            "aaxis": {
             "endlinecolor": "#2a3f5f",
             "gridcolor": "white",
             "linecolor": "white",
             "minorgridcolor": "white",
             "startlinecolor": "#2a3f5f"
            },
            "baxis": {
             "endlinecolor": "#2a3f5f",
             "gridcolor": "white",
             "linecolor": "white",
             "minorgridcolor": "white",
             "startlinecolor": "#2a3f5f"
            },
            "type": "carpet"
           }
          ],
          "choropleth": [
           {
            "colorbar": {
             "outlinewidth": 0,
             "ticks": ""
            },
            "type": "choropleth"
           }
          ],
          "contour": [
           {
            "colorbar": {
             "outlinewidth": 0,
             "ticks": ""
            },
            "colorscale": [
             [
              0,
              "#0d0887"
             ],
             [
              0.1111111111111111,
              "#46039f"
             ],
             [
              0.2222222222222222,
              "#7201a8"
             ],
             [
              0.3333333333333333,
              "#9c179e"
             ],
             [
              0.4444444444444444,
              "#bd3786"
             ],
             [
              0.5555555555555556,
              "#d8576b"
             ],
             [
              0.6666666666666666,
              "#ed7953"
             ],
             [
              0.7777777777777778,
              "#fb9f3a"
             ],
             [
              0.8888888888888888,
              "#fdca26"
             ],
             [
              1,
              "#f0f921"
             ]
            ],
            "type": "contour"
           }
          ],
          "contourcarpet": [
           {
            "colorbar": {
             "outlinewidth": 0,
             "ticks": ""
            },
            "type": "contourcarpet"
           }
          ],
          "heatmap": [
           {
            "colorbar": {
             "outlinewidth": 0,
             "ticks": ""
            },
            "colorscale": [
             [
              0,
              "#0d0887"
             ],
             [
              0.1111111111111111,
              "#46039f"
             ],
             [
              0.2222222222222222,
              "#7201a8"
             ],
             [
              0.3333333333333333,
              "#9c179e"
             ],
             [
              0.4444444444444444,
              "#bd3786"
             ],
             [
              0.5555555555555556,
              "#d8576b"
             ],
             [
              0.6666666666666666,
              "#ed7953"
             ],
             [
              0.7777777777777778,
              "#fb9f3a"
             ],
             [
              0.8888888888888888,
              "#fdca26"
             ],
             [
              1,
              "#f0f921"
             ]
            ],
            "type": "heatmap"
           }
          ],
          "heatmapgl": [
           {
            "colorbar": {
             "outlinewidth": 0,
             "ticks": ""
            },
            "colorscale": [
             [
              0,
              "#0d0887"
             ],
             [
              0.1111111111111111,
              "#46039f"
             ],
             [
              0.2222222222222222,
              "#7201a8"
             ],
             [
              0.3333333333333333,
              "#9c179e"
             ],
             [
              0.4444444444444444,
              "#bd3786"
             ],
             [
              0.5555555555555556,
              "#d8576b"
             ],
             [
              0.6666666666666666,
              "#ed7953"
             ],
             [
              0.7777777777777778,
              "#fb9f3a"
             ],
             [
              0.8888888888888888,
              "#fdca26"
             ],
             [
              1,
              "#f0f921"
             ]
            ],
            "type": "heatmapgl"
           }
          ],
          "histogram": [
           {
            "marker": {
             "pattern": {
              "fillmode": "overlay",
              "size": 10,
              "solidity": 0.2
             }
            },
            "type": "histogram"
           }
          ],
          "histogram2d": [
           {
            "colorbar": {
             "outlinewidth": 0,
             "ticks": ""
            },
            "colorscale": [
             [
              0,
              "#0d0887"
             ],
             [
              0.1111111111111111,
              "#46039f"
             ],
             [
              0.2222222222222222,
              "#7201a8"
             ],
             [
              0.3333333333333333,
              "#9c179e"
             ],
             [
              0.4444444444444444,
              "#bd3786"
             ],
             [
              0.5555555555555556,
              "#d8576b"
             ],
             [
              0.6666666666666666,
              "#ed7953"
             ],
             [
              0.7777777777777778,
              "#fb9f3a"
             ],
             [
              0.8888888888888888,
              "#fdca26"
             ],
             [
              1,
              "#f0f921"
             ]
            ],
            "type": "histogram2d"
           }
          ],
          "histogram2dcontour": [
           {
            "colorbar": {
             "outlinewidth": 0,
             "ticks": ""
            },
            "colorscale": [
             [
              0,
              "#0d0887"
             ],
             [
              0.1111111111111111,
              "#46039f"
             ],
             [
              0.2222222222222222,
              "#7201a8"
             ],
             [
              0.3333333333333333,
              "#9c179e"
             ],
             [
              0.4444444444444444,
              "#bd3786"
             ],
             [
              0.5555555555555556,
              "#d8576b"
             ],
             [
              0.6666666666666666,
              "#ed7953"
             ],
             [
              0.7777777777777778,
              "#fb9f3a"
             ],
             [
              0.8888888888888888,
              "#fdca26"
             ],
             [
              1,
              "#f0f921"
             ]
            ],
            "type": "histogram2dcontour"
           }
          ],
          "mesh3d": [
           {
            "colorbar": {
             "outlinewidth": 0,
             "ticks": ""
            },
            "type": "mesh3d"
           }
          ],
          "parcoords": [
           {
            "line": {
             "colorbar": {
              "outlinewidth": 0,
              "ticks": ""
             }
            },
            "type": "parcoords"
           }
          ],
          "pie": [
           {
            "automargin": true,
            "type": "pie"
           }
          ],
          "scatter": [
           {
            "fillpattern": {
             "fillmode": "overlay",
             "size": 10,
             "solidity": 0.2
            },
            "type": "scatter"
           }
          ],
          "scatter3d": [
           {
            "line": {
             "colorbar": {
              "outlinewidth": 0,
              "ticks": ""
             }
            },
            "marker": {
             "colorbar": {
              "outlinewidth": 0,
              "ticks": ""
             }
            },
            "type": "scatter3d"
           }
          ],
          "scattercarpet": [
           {
            "marker": {
             "colorbar": {
              "outlinewidth": 0,
              "ticks": ""
             }
            },
            "type": "scattercarpet"
           }
          ],
          "scattergeo": [
           {
            "marker": {
             "colorbar": {
              "outlinewidth": 0,
              "ticks": ""
             }
            },
            "type": "scattergeo"
           }
          ],
          "scattergl": [
           {
            "marker": {
             "colorbar": {
              "outlinewidth": 0,
              "ticks": ""
             }
            },
            "type": "scattergl"
           }
          ],
          "scattermapbox": [
           {
            "marker": {
             "colorbar": {
              "outlinewidth": 0,
              "ticks": ""
             }
            },
            "type": "scattermapbox"
           }
          ],
          "scatterpolar": [
           {
            "marker": {
             "colorbar": {
              "outlinewidth": 0,
              "ticks": ""
             }
            },
            "type": "scatterpolar"
           }
          ],
          "scatterpolargl": [
           {
            "marker": {
             "colorbar": {
              "outlinewidth": 0,
              "ticks": ""
             }
            },
            "type": "scatterpolargl"
           }
          ],
          "scatterternary": [
           {
            "marker": {
             "colorbar": {
              "outlinewidth": 0,
              "ticks": ""
             }
            },
            "type": "scatterternary"
           }
          ],
          "surface": [
           {
            "colorbar": {
             "outlinewidth": 0,
             "ticks": ""
            },
            "colorscale": [
             [
              0,
              "#0d0887"
             ],
             [
              0.1111111111111111,
              "#46039f"
             ],
             [
              0.2222222222222222,
              "#7201a8"
             ],
             [
              0.3333333333333333,
              "#9c179e"
             ],
             [
              0.4444444444444444,
              "#bd3786"
             ],
             [
              0.5555555555555556,
              "#d8576b"
             ],
             [
              0.6666666666666666,
              "#ed7953"
             ],
             [
              0.7777777777777778,
              "#fb9f3a"
             ],
             [
              0.8888888888888888,
              "#fdca26"
             ],
             [
              1,
              "#f0f921"
             ]
            ],
            "type": "surface"
           }
          ],
          "table": [
           {
            "cells": {
             "fill": {
              "color": "#EBF0F8"
             },
             "line": {
              "color": "white"
             }
            },
            "header": {
             "fill": {
              "color": "#C8D4E3"
             },
             "line": {
              "color": "white"
             }
            },
            "type": "table"
           }
          ]
         },
         "layout": {
          "annotationdefaults": {
           "arrowcolor": "#2a3f5f",
           "arrowhead": 0,
           "arrowwidth": 1
          },
          "autotypenumbers": "strict",
          "coloraxis": {
           "colorbar": {
            "outlinewidth": 0,
            "ticks": ""
           }
          },
          "colorscale": {
           "diverging": [
            [
             0,
             "#8e0152"
            ],
            [
             0.1,
             "#c51b7d"
            ],
            [
             0.2,
             "#de77ae"
            ],
            [
             0.3,
             "#f1b6da"
            ],
            [
             0.4,
             "#fde0ef"
            ],
            [
             0.5,
             "#f7f7f7"
            ],
            [
             0.6,
             "#e6f5d0"
            ],
            [
             0.7,
             "#b8e186"
            ],
            [
             0.8,
             "#7fbc41"
            ],
            [
             0.9,
             "#4d9221"
            ],
            [
             1,
             "#276419"
            ]
           ],
           "sequential": [
            [
             0,
             "#0d0887"
            ],
            [
             0.1111111111111111,
             "#46039f"
            ],
            [
             0.2222222222222222,
             "#7201a8"
            ],
            [
             0.3333333333333333,
             "#9c179e"
            ],
            [
             0.4444444444444444,
             "#bd3786"
            ],
            [
             0.5555555555555556,
             "#d8576b"
            ],
            [
             0.6666666666666666,
             "#ed7953"
            ],
            [
             0.7777777777777778,
             "#fb9f3a"
            ],
            [
             0.8888888888888888,
             "#fdca26"
            ],
            [
             1,
             "#f0f921"
            ]
           ],
           "sequentialminus": [
            [
             0,
             "#0d0887"
            ],
            [
             0.1111111111111111,
             "#46039f"
            ],
            [
             0.2222222222222222,
             "#7201a8"
            ],
            [
             0.3333333333333333,
             "#9c179e"
            ],
            [
             0.4444444444444444,
             "#bd3786"
            ],
            [
             0.5555555555555556,
             "#d8576b"
            ],
            [
             0.6666666666666666,
             "#ed7953"
            ],
            [
             0.7777777777777778,
             "#fb9f3a"
            ],
            [
             0.8888888888888888,
             "#fdca26"
            ],
            [
             1,
             "#f0f921"
            ]
           ]
          },
          "colorway": [
           "#636efa",
           "#EF553B",
           "#00cc96",
           "#ab63fa",
           "#FFA15A",
           "#19d3f3",
           "#FF6692",
           "#B6E880",
           "#FF97FF",
           "#FECB52"
          ],
          "font": {
           "color": "#2a3f5f"
          },
          "geo": {
           "bgcolor": "white",
           "lakecolor": "white",
           "landcolor": "#E5ECF6",
           "showlakes": true,
           "showland": true,
           "subunitcolor": "white"
          },
          "hoverlabel": {
           "align": "left"
          },
          "hovermode": "closest",
          "mapbox": {
           "style": "light"
          },
          "paper_bgcolor": "white",
          "plot_bgcolor": "#E5ECF6",
          "polar": {
           "angularaxis": {
            "gridcolor": "white",
            "linecolor": "white",
            "ticks": ""
           },
           "bgcolor": "#E5ECF6",
           "radialaxis": {
            "gridcolor": "white",
            "linecolor": "white",
            "ticks": ""
           }
          },
          "scene": {
           "xaxis": {
            "backgroundcolor": "#E5ECF6",
            "gridcolor": "white",
            "gridwidth": 2,
            "linecolor": "white",
            "showbackground": true,
            "ticks": "",
            "zerolinecolor": "white"
           },
           "yaxis": {
            "backgroundcolor": "#E5ECF6",
            "gridcolor": "white",
            "gridwidth": 2,
            "linecolor": "white",
            "showbackground": true,
            "ticks": "",
            "zerolinecolor": "white"
           },
           "zaxis": {
            "backgroundcolor": "#E5ECF6",
            "gridcolor": "white",
            "gridwidth": 2,
            "linecolor": "white",
            "showbackground": true,
            "ticks": "",
            "zerolinecolor": "white"
           }
          },
          "shapedefaults": {
           "line": {
            "color": "#2a3f5f"
           }
          },
          "ternary": {
           "aaxis": {
            "gridcolor": "white",
            "linecolor": "white",
            "ticks": ""
           },
           "baxis": {
            "gridcolor": "white",
            "linecolor": "white",
            "ticks": ""
           },
           "bgcolor": "#E5ECF6",
           "caxis": {
            "gridcolor": "white",
            "linecolor": "white",
            "ticks": ""
           }
          },
          "title": {
           "x": 0.05
          },
          "xaxis": {
           "automargin": true,
           "gridcolor": "white",
           "linecolor": "white",
           "ticks": "",
           "title": {
            "standoff": 15
           },
           "zerolinecolor": "white",
           "zerolinewidth": 2
          },
          "yaxis": {
           "automargin": true,
           "gridcolor": "white",
           "linecolor": "white",
           "ticks": "",
           "title": {
            "standoff": 15
           },
           "zerolinecolor": "white",
           "zerolinewidth": 2
          }
         }
        },
        "title": {
         "text": "Average of Median F1 over 5 Final Epochs (Validation Set)"
        },
        "xaxis": {
         "title": {
          "text": "Epoch"
         }
        },
        "yaxis": {
         "title": {
          "text": "Median F1"
         }
        }
       }
      },
      "text/html": [
       "<div>                            <div id=\"366c886a-b1ff-486d-8c1d-017c84af3b61\" class=\"plotly-graph-div\" style=\"height:525px; width:100%;\"></div>            <script type=\"text/javascript\">                require([\"plotly\"], function(Plotly) {                    window.PLOTLYENV=window.PLOTLYENV || {};                                    if (document.getElementById(\"366c886a-b1ff-486d-8c1d-017c84af3b61\")) {                    Plotly.newPlot(                        \"366c886a-b1ff-486d-8c1d-017c84af3b61\",                        [{\"x\":[\"Proportion=0.1\",\"Proportion=0.2\",\"Proportion=0.3\",\"Proportion=0.4\",\"Proportion=0.5\",\"Proportion=0.6\",\"Proportion=0.7\",\"Proportion=0.8\",\"Proportion=0.9\"],\"y\":[0.9648229633880628,0.9696636548056988,0.9814425053346296,0.9756163722915329,0.9691202266161338,0.986388728483971,0.9814944976945146,0.9821789370401521,0.9809282437295866],\"type\":\"bar\"}],                        {\"title\":{\"text\":\"Average of Median F1 over 5 Final Epochs (Validation Set)\"},\"xaxis\":{\"title\":{\"text\":\"Epoch\"}},\"yaxis\":{\"title\":{\"text\":\"Median F1\"}},\"template\":{\"data\":{\"histogram2dcontour\":[{\"type\":\"histogram2dcontour\",\"colorbar\":{\"outlinewidth\":0,\"ticks\":\"\"},\"colorscale\":[[0.0,\"#0d0887\"],[0.1111111111111111,\"#46039f\"],[0.2222222222222222,\"#7201a8\"],[0.3333333333333333,\"#9c179e\"],[0.4444444444444444,\"#bd3786\"],[0.5555555555555556,\"#d8576b\"],[0.6666666666666666,\"#ed7953\"],[0.7777777777777778,\"#fb9f3a\"],[0.8888888888888888,\"#fdca26\"],[1.0,\"#f0f921\"]]}],\"choropleth\":[{\"type\":\"choropleth\",\"colorbar\":{\"outlinewidth\":0,\"ticks\":\"\"}}],\"histogram2d\":[{\"type\":\"histogram2d\",\"colorbar\":{\"outlinewidth\":0,\"ticks\":\"\"},\"colorscale\":[[0.0,\"#0d0887\"],[0.1111111111111111,\"#46039f\"],[0.2222222222222222,\"#7201a8\"],[0.3333333333333333,\"#9c179e\"],[0.4444444444444444,\"#bd3786\"],[0.5555555555555556,\"#d8576b\"],[0.6666666666666666,\"#ed7953\"],[0.7777777777777778,\"#fb9f3a\"],[0.8888888888888888,\"#fdca26\"],[1.0,\"#f0f921\"]]}],\"heatmap\":[{\"type\":\"heatmap\",\"colorbar\":{\"outlinewidth\":0,\"ticks\":\"\"},\"colorscale\":[[0.0,\"#0d0887\"],[0.1111111111111111,\"#46039f\"],[0.2222222222222222,\"#7201a8\"],[0.3333333333333333,\"#9c179e\"],[0.4444444444444444,\"#bd3786\"],[0.5555555555555556,\"#d8576b\"],[0.6666666666666666,\"#ed7953\"],[0.7777777777777778,\"#fb9f3a\"],[0.8888888888888888,\"#fdca26\"],[1.0,\"#f0f921\"]]}],\"heatmapgl\":[{\"type\":\"heatmapgl\",\"colorbar\":{\"outlinewidth\":0,\"ticks\":\"\"},\"colorscale\":[[0.0,\"#0d0887\"],[0.1111111111111111,\"#46039f\"],[0.2222222222222222,\"#7201a8\"],[0.3333333333333333,\"#9c179e\"],[0.4444444444444444,\"#bd3786\"],[0.5555555555555556,\"#d8576b\"],[0.6666666666666666,\"#ed7953\"],[0.7777777777777778,\"#fb9f3a\"],[0.8888888888888888,\"#fdca26\"],[1.0,\"#f0f921\"]]}],\"contourcarpet\":[{\"type\":\"contourcarpet\",\"colorbar\":{\"outlinewidth\":0,\"ticks\":\"\"}}],\"contour\":[{\"type\":\"contour\",\"colorbar\":{\"outlinewidth\":0,\"ticks\":\"\"},\"colorscale\":[[0.0,\"#0d0887\"],[0.1111111111111111,\"#46039f\"],[0.2222222222222222,\"#7201a8\"],[0.3333333333333333,\"#9c179e\"],[0.4444444444444444,\"#bd3786\"],[0.5555555555555556,\"#d8576b\"],[0.6666666666666666,\"#ed7953\"],[0.7777777777777778,\"#fb9f3a\"],[0.8888888888888888,\"#fdca26\"],[1.0,\"#f0f921\"]]}],\"surface\":[{\"type\":\"surface\",\"colorbar\":{\"outlinewidth\":0,\"ticks\":\"\"},\"colorscale\":[[0.0,\"#0d0887\"],[0.1111111111111111,\"#46039f\"],[0.2222222222222222,\"#7201a8\"],[0.3333333333333333,\"#9c179e\"],[0.4444444444444444,\"#bd3786\"],[0.5555555555555556,\"#d8576b\"],[0.6666666666666666,\"#ed7953\"],[0.7777777777777778,\"#fb9f3a\"],[0.8888888888888888,\"#fdca26\"],[1.0,\"#f0f921\"]]}],\"mesh3d\":[{\"type\":\"mesh3d\",\"colorbar\":{\"outlinewidth\":0,\"ticks\":\"\"}}],\"scatter\":[{\"fillpattern\":{\"fillmode\":\"overlay\",\"size\":10,\"solidity\":0.2},\"type\":\"scatter\"}],\"parcoords\":[{\"type\":\"parcoords\",\"line\":{\"colorbar\":{\"outlinewidth\":0,\"ticks\":\"\"}}}],\"scatterpolargl\":[{\"type\":\"scatterpolargl\",\"marker\":{\"colorbar\":{\"outlinewidth\":0,\"ticks\":\"\"}}}],\"bar\":[{\"error_x\":{\"color\":\"#2a3f5f\"},\"error_y\":{\"color\":\"#2a3f5f\"},\"marker\":{\"line\":{\"color\":\"#E5ECF6\",\"width\":0.5},\"pattern\":{\"fillmode\":\"overlay\",\"size\":10,\"solidity\":0.2}},\"type\":\"bar\"}],\"scattergeo\":[{\"type\":\"scattergeo\",\"marker\":{\"colorbar\":{\"outlinewidth\":0,\"ticks\":\"\"}}}],\"scatterpolar\":[{\"type\":\"scatterpolar\",\"marker\":{\"colorbar\":{\"outlinewidth\":0,\"ticks\":\"\"}}}],\"histogram\":[{\"marker\":{\"pattern\":{\"fillmode\":\"overlay\",\"size\":10,\"solidity\":0.2}},\"type\":\"histogram\"}],\"scattergl\":[{\"type\":\"scattergl\",\"marker\":{\"colorbar\":{\"outlinewidth\":0,\"ticks\":\"\"}}}],\"scatter3d\":[{\"type\":\"scatter3d\",\"line\":{\"colorbar\":{\"outlinewidth\":0,\"ticks\":\"\"}},\"marker\":{\"colorbar\":{\"outlinewidth\":0,\"ticks\":\"\"}}}],\"scattermapbox\":[{\"type\":\"scattermapbox\",\"marker\":{\"colorbar\":{\"outlinewidth\":0,\"ticks\":\"\"}}}],\"scatterternary\":[{\"type\":\"scatterternary\",\"marker\":{\"colorbar\":{\"outlinewidth\":0,\"ticks\":\"\"}}}],\"scattercarpet\":[{\"type\":\"scattercarpet\",\"marker\":{\"colorbar\":{\"outlinewidth\":0,\"ticks\":\"\"}}}],\"carpet\":[{\"aaxis\":{\"endlinecolor\":\"#2a3f5f\",\"gridcolor\":\"white\",\"linecolor\":\"white\",\"minorgridcolor\":\"white\",\"startlinecolor\":\"#2a3f5f\"},\"baxis\":{\"endlinecolor\":\"#2a3f5f\",\"gridcolor\":\"white\",\"linecolor\":\"white\",\"minorgridcolor\":\"white\",\"startlinecolor\":\"#2a3f5f\"},\"type\":\"carpet\"}],\"table\":[{\"cells\":{\"fill\":{\"color\":\"#EBF0F8\"},\"line\":{\"color\":\"white\"}},\"header\":{\"fill\":{\"color\":\"#C8D4E3\"},\"line\":{\"color\":\"white\"}},\"type\":\"table\"}],\"barpolar\":[{\"marker\":{\"line\":{\"color\":\"#E5ECF6\",\"width\":0.5},\"pattern\":{\"fillmode\":\"overlay\",\"size\":10,\"solidity\":0.2}},\"type\":\"barpolar\"}],\"pie\":[{\"automargin\":true,\"type\":\"pie\"}]},\"layout\":{\"autotypenumbers\":\"strict\",\"colorway\":[\"#636efa\",\"#EF553B\",\"#00cc96\",\"#ab63fa\",\"#FFA15A\",\"#19d3f3\",\"#FF6692\",\"#B6E880\",\"#FF97FF\",\"#FECB52\"],\"font\":{\"color\":\"#2a3f5f\"},\"hovermode\":\"closest\",\"hoverlabel\":{\"align\":\"left\"},\"paper_bgcolor\":\"white\",\"plot_bgcolor\":\"#E5ECF6\",\"polar\":{\"bgcolor\":\"#E5ECF6\",\"angularaxis\":{\"gridcolor\":\"white\",\"linecolor\":\"white\",\"ticks\":\"\"},\"radialaxis\":{\"gridcolor\":\"white\",\"linecolor\":\"white\",\"ticks\":\"\"}},\"ternary\":{\"bgcolor\":\"#E5ECF6\",\"aaxis\":{\"gridcolor\":\"white\",\"linecolor\":\"white\",\"ticks\":\"\"},\"baxis\":{\"gridcolor\":\"white\",\"linecolor\":\"white\",\"ticks\":\"\"},\"caxis\":{\"gridcolor\":\"white\",\"linecolor\":\"white\",\"ticks\":\"\"}},\"coloraxis\":{\"colorbar\":{\"outlinewidth\":0,\"ticks\":\"\"}},\"colorscale\":{\"sequential\":[[0.0,\"#0d0887\"],[0.1111111111111111,\"#46039f\"],[0.2222222222222222,\"#7201a8\"],[0.3333333333333333,\"#9c179e\"],[0.4444444444444444,\"#bd3786\"],[0.5555555555555556,\"#d8576b\"],[0.6666666666666666,\"#ed7953\"],[0.7777777777777778,\"#fb9f3a\"],[0.8888888888888888,\"#fdca26\"],[1.0,\"#f0f921\"]],\"sequentialminus\":[[0.0,\"#0d0887\"],[0.1111111111111111,\"#46039f\"],[0.2222222222222222,\"#7201a8\"],[0.3333333333333333,\"#9c179e\"],[0.4444444444444444,\"#bd3786\"],[0.5555555555555556,\"#d8576b\"],[0.6666666666666666,\"#ed7953\"],[0.7777777777777778,\"#fb9f3a\"],[0.8888888888888888,\"#fdca26\"],[1.0,\"#f0f921\"]],\"diverging\":[[0,\"#8e0152\"],[0.1,\"#c51b7d\"],[0.2,\"#de77ae\"],[0.3,\"#f1b6da\"],[0.4,\"#fde0ef\"],[0.5,\"#f7f7f7\"],[0.6,\"#e6f5d0\"],[0.7,\"#b8e186\"],[0.8,\"#7fbc41\"],[0.9,\"#4d9221\"],[1,\"#276419\"]]},\"xaxis\":{\"gridcolor\":\"white\",\"linecolor\":\"white\",\"ticks\":\"\",\"title\":{\"standoff\":15},\"zerolinecolor\":\"white\",\"automargin\":true,\"zerolinewidth\":2},\"yaxis\":{\"gridcolor\":\"white\",\"linecolor\":\"white\",\"ticks\":\"\",\"title\":{\"standoff\":15},\"zerolinecolor\":\"white\",\"automargin\":true,\"zerolinewidth\":2},\"scene\":{\"xaxis\":{\"backgroundcolor\":\"#E5ECF6\",\"gridcolor\":\"white\",\"linecolor\":\"white\",\"showbackground\":true,\"ticks\":\"\",\"zerolinecolor\":\"white\",\"gridwidth\":2},\"yaxis\":{\"backgroundcolor\":\"#E5ECF6\",\"gridcolor\":\"white\",\"linecolor\":\"white\",\"showbackground\":true,\"ticks\":\"\",\"zerolinecolor\":\"white\",\"gridwidth\":2},\"zaxis\":{\"backgroundcolor\":\"#E5ECF6\",\"gridcolor\":\"white\",\"linecolor\":\"white\",\"showbackground\":true,\"ticks\":\"\",\"zerolinecolor\":\"white\",\"gridwidth\":2}},\"shapedefaults\":{\"line\":{\"color\":\"#2a3f5f\"}},\"annotationdefaults\":{\"arrowcolor\":\"#2a3f5f\",\"arrowhead\":0,\"arrowwidth\":1},\"geo\":{\"bgcolor\":\"white\",\"landcolor\":\"#E5ECF6\",\"subunitcolor\":\"white\",\"showland\":true,\"showlakes\":true,\"lakecolor\":\"white\"},\"title\":{\"x\":0.05},\"mapbox\":{\"style\":\"light\"}}}},                        {\"responsive\": true}                    ).then(function(){\n",
       "                            \n",
       "var gd = document.getElementById('366c886a-b1ff-486d-8c1d-017c84af3b61');\n",
       "var x = new MutationObserver(function (mutations, observer) {{\n",
       "        var display = window.getComputedStyle(gd).display;\n",
       "        if (!display || display === 'none') {{\n",
       "            console.log([gd, 'removed!']);\n",
       "            Plotly.purge(gd);\n",
       "            observer.disconnect();\n",
       "        }}\n",
       "}});\n",
       "\n",
       "// Listen for the removal of the full notebook cells\n",
       "var notebookContainer = gd.closest('#notebook-container');\n",
       "if (notebookContainer) {{\n",
       "    x.observe(notebookContainer, {childList: true});\n",
       "}}\n",
       "\n",
       "// Listen for the clearing of the current output cell\n",
       "var outputEl = gd.closest('.output');\n",
       "if (outputEl) {{\n",
       "    x.observe(outputEl, {childList: true});\n",
       "}}\n",
       "\n",
       "                        })                };                });            </script>        </div>"
      ]
     },
     "metadata": {},
     "output_type": "display_data"
    }
   ],
   "source": [
    "avg_f1 = f1.iloc[-5:, :].mean()\n",
    "\n",
    "fig = go.Figure(\n",
    "    data=go.Bar(\n",
    "        x=avg_f1.index, y=avg_f1.values\n",
    "    ),\n",
    "    layout=go.Layout(\n",
    "        title='Average of Median F1 over 5 Final Epochs (Validation Set)',\n",
    "        xaxis=dict(title='Epoch'),\n",
    "        yaxis=dict(title='Median F1')\n",
    "    )\n",
    ")\n",
    "\n",
    "fig.show()"
   ]
  },
  {
   "cell_type": "code",
   "execution_count": 67,
   "id": "95964b60",
   "metadata": {},
   "outputs": [
    {
     "data": {
      "application/vnd.plotly.v1+json": {
       "config": {
        "plotlyServerURL": "https://plot.ly"
       },
       "data": [
        {
         "name": "Proportion=0.1",
         "type": "scatter",
         "x": [
          0,
          1,
          2,
          3,
          4,
          5,
          6,
          7,
          8,
          9,
          10,
          11,
          12,
          13,
          14,
          15,
          16,
          17,
          18,
          19,
          20,
          21,
          22,
          23,
          24,
          25,
          26,
          27,
          28,
          29,
          30,
          31,
          32,
          33,
          34,
          35,
          36,
          37,
          38,
          39,
          40,
          41,
          42,
          43,
          44,
          45,
          46,
          47,
          48,
          49,
          50
         ],
         "y": [
          0.005268703680485487,
          0.025289779528975487,
          0.026343518868088722,
          0.03477344661951065,
          0.10326659679412842,
          0.35827186703681946,
          0.3171759843826294,
          0.4320337176322937,
          0.4257112741470337,
          0.5964173078536987,
          0.6638566851615906,
          0.6944151520729065,
          0.754478394985199,
          0.7755532264709473,
          0.8071654438972473,
          0.8335089683532715,
          0.8925184607505798,
          0.9241306781768799,
          0.9452054500579834,
          0.9536353945732117,
          0.9525816440582275,
          0.9557428956031799,
          0.9620653390884399,
          0.9589040875434875,
          0.9494204521179199,
          0.9620653390884399,
          0.9589040875434875,
          0.9546891450881958,
          0.9578503966331482,
          0.9631190896034241,
          0.9620653390884399,
          0.9589040875434875,
          0.9652265310287476,
          0.9578503966331482,
          0.9494204521179199,
          0.9578503966331482,
          0.9610115885734558,
          0.9546891450881958,
          0.9483667016029358,
          0.9525816440582275,
          0.9599578380584717,
          0.9620653390884399,
          0.9599578380584717,
          0.9641728401184082,
          0.9652265310287476,
          0.9483667016029358,
          0.9652265310287476,
          0.9546891450881958,
          0.9525816440582275,
          0.9567966461181641,
          0.9557428956031799
         ]
        },
        {
         "name": "Proportion=0.2",
         "type": "scatter",
         "x": [
          0,
          1,
          2,
          3,
          4,
          5,
          6,
          7,
          8,
          9,
          10,
          11,
          12,
          13,
          14,
          15,
          16,
          17,
          18,
          19,
          20,
          21,
          22,
          23,
          24,
          25,
          26,
          27,
          28,
          29,
          30,
          31,
          32,
          33,
          34,
          35,
          36,
          37,
          38,
          39,
          40,
          41,
          42,
          43,
          44,
          45,
          46,
          47,
          48,
          49,
          50
         ],
         "y": [
          0.09641727805137634,
          0.03688092902302742,
          0.11275026202201843,
          0.5511064529418945,
          0.6043203473091125,
          0.713909387588501,
          0.7939936518669128,
          0.8714436292648315,
          0.8703898787498474,
          0.9357218146324158,
          0.934141218662262,
          0.9415174126625061,
          0.9436248540878296,
          0.9583772420883179,
          0.9589040875434875,
          0.965753436088562,
          0.9631190896034241,
          0.965753436088562,
          0.9615384340286255,
          0.9678608775138855,
          0.9615384340286255,
          0.9741833806037903,
          0.9673340320587158,
          0.9699683785438538,
          0.9636459350585938,
          0.9567966461181641,
          0.9694415330886841,
          0.9668071866035461,
          0.9562697410583496,
          0.9652265310287476,
          0.946786105632782,
          0.9578503966331482,
          0.9625921845436096,
          0.9689146280288696,
          0.9604847431182861,
          0.9641728401184082,
          0.9726027250289917,
          0.9704952836036682,
          0.9726027250289917,
          0.9604847431182861,
          0.9599578380584717,
          0.9699683785438538,
          0.9704952836036682,
          0.9641728401184082,
          0.9662802815437317,
          0.9610115885734558,
          0.9631190896034241,
          0.965753436088562,
          0.9615384340286255,
          0.9652265310287476,
          0.9662802815437317
         ]
        },
        {
         "name": "Proportion=0.3",
         "type": "scatter",
         "x": [
          0,
          1,
          2,
          3,
          4,
          5,
          6,
          7,
          8,
          9,
          10,
          11,
          12,
          13,
          14,
          15,
          16,
          17,
          18,
          19,
          20,
          21,
          22,
          23,
          24,
          25,
          26,
          27,
          28,
          29,
          30,
          31,
          32,
          33,
          34,
          35,
          36,
          37,
          38,
          39,
          40,
          41,
          42,
          43,
          44,
          45,
          46,
          47,
          48,
          49,
          50
         ],
         "y": [
          0.0224877018481493,
          0.0224877018481493,
          0.05938158929347992,
          0.05586788430809975,
          0.10997891426086426,
          0.12789881229400635,
          0.18973998725414276,
          0.5741391181945801,
          0.6201686859130859,
          0.639494001865387,
          0.6806043386459351,
          0.791988730430603,
          0.8134223222732544,
          0.847153902053833,
          0.9241040349006653,
          0.9346451163291931,
          0.9553759694099426,
          0.9553759694099426,
          0.9641602039337158,
          0.9609978795051575,
          0.9613492488861084,
          0.9627547264099121,
          0.9648629426956177,
          0.9578355550765991,
          0.9652143120765686,
          0.9669711589813232,
          0.9676739573478699,
          0.9673225283622742,
          0.9669711589813232,
          0.9701335430145264,
          0.9697821736335754,
          0.9669711589813232,
          0.9673225283622742,
          0.9652143120765686,
          0.9722417593002319,
          0.9683766961097717,
          0.9729444980621338,
          0.9690794348716736,
          0.9673225283622742,
          0.9701335430145264,
          0.9683766961097717,
          0.9680253267288208,
          0.9701335430145264,
          0.9701335430145264,
          0.9676739573478699,
          0.9711876511573792,
          0.9701335430145264,
          0.971890389919281,
          0.9743499755859375,
          0.9715390205383301,
          0.9669711589813232
         ]
        },
        {
         "name": "Proportion=0.4",
         "type": "scatter",
         "x": [
          0,
          1,
          2,
          3,
          4,
          5,
          6,
          7,
          8,
          9,
          10,
          11,
          12,
          13,
          14,
          15,
          16,
          17,
          18,
          19,
          20,
          21,
          22,
          23,
          24,
          25,
          26,
          27,
          28,
          29,
          30,
          31,
          32,
          33,
          34,
          35,
          36,
          37,
          38,
          39,
          40,
          41,
          42,
          43,
          44,
          45,
          46,
          47,
          48,
          49,
          50
         ],
         "y": [
          0.04795783758163452,
          0.679051399230957,
          0.7665349245071411,
          0.8329380750656128,
          0.9451910257339478,
          0.9652174115180969,
          0.9696969985961914,
          0.9638998508453369,
          0.9636363387107849,
          0.9720684885978699,
          0.9702239632606506,
          0.9720684885978699,
          0.9762845635414124,
          0.9747035503387451,
          0.9718050360679626,
          0.9694334864616394,
          0.9728590250015259,
          0.9768115878105164,
          0.9733860492706299,
          0.9725955128669739,
          0.9770750999450684,
          0.9741765260696411,
          0.9747035503387451,
          0.9731225371360779,
          0.9762845635414124,
          0.9704874753952026,
          0.9725955128669739,
          0.9728590250015259,
          0.9747035503387451,
          0.9628458619117737,
          0.9741765260696411,
          0.9715415239334106,
          0.9723320007324219,
          0.9720684885978699,
          0.9670619368553162,
          0.9694334864616394,
          0.9728590250015259,
          0.9718050360679626,
          0.9710144996643066,
          0.9720684885978699,
          0.9723320007324219,
          0.9760210514068604,
          0.9718050360679626,
          0.9696969985961914,
          0.9739130139350891,
          0.9662714004516602,
          0.9752305746078491,
          0.9757575988769531,
          0.9710144996643066,
          0.9707509875297546,
          0.9660078883171082
         ]
        },
        {
         "name": "Proportion=0.5",
         "type": "scatter",
         "x": [
          0,
          1,
          2,
          3,
          4,
          5,
          6,
          7,
          8,
          9,
          10,
          11,
          12,
          13,
          14,
          15,
          16,
          17,
          18,
          19,
          20,
          21,
          22,
          23,
          24,
          25,
          26,
          27,
          28,
          29,
          30,
          31,
          32,
          33,
          34,
          35,
          36,
          37,
          38,
          39,
          40,
          41,
          42,
          43,
          44,
          45,
          46,
          47,
          48,
          49,
          50
         ],
         "y": [
          0.3882799446582794,
          0.7778246402740479,
          0.9083052277565002,
          0.9576306939125061,
          0.9591062664985657,
          0.9658516049385071,
          0.9683811068534851,
          0.9698566794395447,
          0.9721753597259521,
          0.9717537760734558,
          0.9723861813545227,
          0.9622681140899658,
          0.9721753597259521,
          0.9734401106834412,
          0.97154301404953,
          0.9709106087684631,
          0.9753372669219971,
          0.9723861813545227,
          0.9761804342269897,
          0.9740725159645081,
          0.9725969433784485,
          0.9698566794395447,
          0.9730185270309448,
          0.972807765007019,
          0.9713321924209595,
          0.9732293486595154,
          0.975969672203064,
          0.9740725159645081,
          0.9742832779884338,
          0.9696458578109741,
          0.9725969433784485,
          0.9639544486999512,
          0.9711214303970337,
          0.972807765007019,
          0.9782883524894714,
          0.97154301404953,
          0.9738616943359375,
          0.9734401106834412,
          0.972807765007019,
          0.9732293486595154,
          0.9723861813545227,
          0.975969672203064,
          0.9747048616409302,
          0.9719645977020264,
          0.9736509323120117,
          0.9744940996170044,
          0.9692242741584778,
          0.97154301404953,
          0.9749156832695007,
          0.972807765007019,
          0.9740725159645081
         ]
        },
        {
         "name": "Proportion=0.6",
         "type": "scatter",
         "x": [
          0,
          1,
          2,
          3,
          4,
          5,
          6,
          7,
          8,
          9,
          10,
          11,
          12,
          13,
          14,
          15,
          16,
          17,
          18,
          19,
          20,
          21,
          22,
          23,
          24,
          25,
          26,
          27,
          28,
          29,
          30,
          31,
          32,
          33,
          34,
          35,
          36,
          37,
          38,
          39,
          40,
          41,
          42,
          43,
          44,
          45,
          46,
          47,
          48,
          49,
          50
         ],
         "y": [
          0.016865776851773262,
          0.046732254326343536,
          0.11542515456676483,
          0.22891777753829956,
          0.4541461765766144,
          0.8859803080558777,
          0.9525650143623352,
          0.9552002549171448,
          0.9717146754264832,
          0.9750527143478394,
          0.9780393242835999,
          0.9801476001739502,
          0.9787421226501465,
          0.9782150387763977,
          0.9766338467597961,
          0.980850338935852,
          0.9673225283622742,
          0.9787421226501465,
          0.9794448614120483,
          0.9796205163002014,
          0.9820801019668579,
          0.9829585552215576,
          0.9824314713478088,
          0.9815530776977539,
          0.9794448614120483,
          0.9796205163002014,
          0.9796205163002014,
          0.981728732585907,
          0.9769852161407471,
          0.9827828407287598,
          0.9803232550621033,
          0.9822558164596558,
          0.9778636693954468,
          0.9785664081573486,
          0.9794448614120483,
          0.981201708316803,
          0.9831342101097107,
          0.981728732585907,
          0.9824314713478088,
          0.9826071858406067,
          0.9789177775382996,
          0.9790934920310974,
          0.9801476001739502,
          0.9824314713478088,
          0.9757554531097412,
          0.9803232550621033,
          0.9792691469192505,
          0.9824314713478088,
          0.9797962307929993,
          0.9792691469192505,
          0.9752283692359924
         ]
        },
        {
         "name": "Proportion=0.7",
         "type": "scatter",
         "x": [
          0,
          1,
          2,
          3,
          4,
          5,
          6,
          7,
          8,
          9,
          10,
          11,
          12,
          13,
          14,
          15,
          16,
          17,
          18,
          19,
          20,
          21,
          22,
          23,
          24,
          25,
          26,
          27,
          28,
          29,
          30,
          31,
          32,
          33,
          34,
          35,
          36,
          37,
          38,
          39,
          40,
          41,
          42,
          43,
          44,
          45,
          46,
          47,
          48,
          49,
          50
         ],
         "y": [
          0.19665713608264923,
          0.8802891373634338,
          0.9581388235092163,
          0.9640114307403564,
          0.9715404510498047,
          0.9747025966644287,
          0.9727450609207153,
          0.9715404510498047,
          0.97184157371521,
          0.9763590097427368,
          0.9695829153060913,
          0.969733476638794,
          0.97214275598526,
          0.97184157371521,
          0.9772624373435974,
          0.9759072661399841,
          0.9643126130104065,
          0.9662701487541199,
          0.9676253795623779,
          0.9739497303962708,
          0.9674747586250305,
          0.9664207100868225,
          0.9741002917289734,
          0.9783165454864502,
          0.9759072661399841,
          0.9724439382553101,
          0.9688299894332886,
          0.9641620516777039,
          0.9739497303962708,
          0.969733476638794,
          0.9686794281005859,
          0.9759072661399841,
          0.97214275598526,
          0.9747025966644287,
          0.9750037789344788,
          0.9775636196136475,
          0.9733473658561707,
          0.9754555225372314,
          0.9741002917289734,
          0.9744014739990234,
          0.957837700843811,
          0.9736485481262207,
          0.9712392687797546,
          0.97184157371521,
          0.9780153632164001,
          0.9676253795623779,
          0.9754555225372314,
          0.9762083888053894,
          0.9734979867935181,
          0.975304901599884,
          0.9756060838699341
         ]
        },
        {
         "name": "Proportion=0.8",
         "type": "scatter",
         "x": [
          0,
          1,
          2,
          3,
          4,
          5,
          6,
          7,
          8,
          9,
          10,
          11,
          12,
          13,
          14,
          15,
          16,
          17,
          18,
          19,
          20,
          21,
          22,
          23,
          24,
          25,
          26,
          27,
          28,
          29,
          30,
          31,
          32,
          33,
          34,
          35,
          36,
          37,
          38,
          39,
          40,
          41,
          42,
          43,
          44,
          45,
          46,
          47,
          48,
          49,
          50
         ],
         "y": [
          0.250230610370636,
          0.9038081169128418,
          0.9579654932022095,
          0.9650810360908508,
          0.9689023494720459,
          0.9736460447311401,
          0.9685070514678955,
          0.972723662853241,
          0.9699565172195435,
          0.9728554487228394,
          0.9785215258598328,
          0.9719330668449402,
          0.9772038459777832,
          0.9741731286048889,
          0.9760178923606873,
          0.9747002124786377,
          0.9723283648490906,
          0.9735143184661865,
          0.972723662853241,
          0.9758861660957336,
          0.9736460447311401,
          0.9729872345924377,
          0.9781262278556824,
          0.9745684266090393,
          0.9741731286048889,
          0.9775991439819336,
          0.9735143184661865,
          0.9741731286048889,
          0.9757543802261353,
          0.9757543802261353,
          0.9798392653465271,
          0.9766767621040344,
          0.9747002124786377,
          0.9761496782302856,
          0.9769403338432312,
          0.9798392653465271,
          0.9781262278556824,
          0.9766767621040344,
          0.9775991439819336,
          0.9781262278556824,
          0.9750955104827881,
          0.9790486097335815,
          0.9802345633506775,
          0.9772038459777832,
          0.9760178923606873,
          0.9764132499694824,
          0.976544976234436,
          0.9785215258598328,
          0.9772038459777832,
          0.9640268683433533,
          0.9786533117294312
         ]
        },
        {
         "name": "Proportion=0.9",
         "type": "scatter",
         "x": [
          0,
          1,
          2,
          3,
          4,
          5,
          6,
          7,
          8,
          9,
          10,
          11,
          12,
          13,
          14,
          15,
          16,
          17,
          18,
          19,
          20,
          21,
          22,
          23,
          24,
          25,
          26,
          27,
          28,
          29,
          30,
          31,
          32,
          33,
          34,
          35,
          36,
          37,
          38,
          39,
          40,
          41,
          42,
          43,
          44,
          45,
          46,
          47,
          48,
          49,
          50
         ],
         "y": [
          0.37901148200035095,
          0.43499648571014404,
          0.7213633060455322,
          0.9100492000579834,
          0.956547200679779,
          0.9714218974113464,
          0.9734129905700684,
          0.9679082036018372,
          0.9750527143478394,
          0.9769266843795776,
          0.9785664081573486,
          0.9741157293319702,
          0.976809561252594,
          0.9758725762367249,
          0.9785664081573486,
          0.9779807925224304,
          0.9693136811256409,
          0.9765753149986267,
          0.9764581918716431,
          0.9741157293319702,
          0.9757554531097412,
          0.9739986062049866,
          0.9762239456176758,
          0.9739986062049866,
          0.9771609306335449,
          0.973530113697052,
          0.9742328524589539,
          0.9744670987129211,
          0.9798547625541687,
          0.9754040837287903,
          0.9762239456176758,
          0.9779807925224304,
          0.9771609306335449,
          0.9766924381256104,
          0.9770438075065613,
          0.9748184680938721,
          0.9734129905700684,
          0.9766924381256104,
          0.9763410687446594,
          0.9782150387763977,
          0.9778636693954468,
          0.9789177775382996,
          0.9764581918716431,
          0.9759896993637085,
          0.9743499755859375,
          0.9717732667922974,
          0.9773951768875122,
          0.9777465462684631,
          0.9750527143478394,
          0.9748184680938721,
          0.9731787443161011
         ]
        }
       ],
       "layout": {
        "template": {
         "data": {
          "bar": [
           {
            "error_x": {
             "color": "#2a3f5f"
            },
            "error_y": {
             "color": "#2a3f5f"
            },
            "marker": {
             "line": {
              "color": "#E5ECF6",
              "width": 0.5
             },
             "pattern": {
              "fillmode": "overlay",
              "size": 10,
              "solidity": 0.2
             }
            },
            "type": "bar"
           }
          ],
          "barpolar": [
           {
            "marker": {
             "line": {
              "color": "#E5ECF6",
              "width": 0.5
             },
             "pattern": {
              "fillmode": "overlay",
              "size": 10,
              "solidity": 0.2
             }
            },
            "type": "barpolar"
           }
          ],
          "carpet": [
           {
            "aaxis": {
             "endlinecolor": "#2a3f5f",
             "gridcolor": "white",
             "linecolor": "white",
             "minorgridcolor": "white",
             "startlinecolor": "#2a3f5f"
            },
            "baxis": {
             "endlinecolor": "#2a3f5f",
             "gridcolor": "white",
             "linecolor": "white",
             "minorgridcolor": "white",
             "startlinecolor": "#2a3f5f"
            },
            "type": "carpet"
           }
          ],
          "choropleth": [
           {
            "colorbar": {
             "outlinewidth": 0,
             "ticks": ""
            },
            "type": "choropleth"
           }
          ],
          "contour": [
           {
            "colorbar": {
             "outlinewidth": 0,
             "ticks": ""
            },
            "colorscale": [
             [
              0,
              "#0d0887"
             ],
             [
              0.1111111111111111,
              "#46039f"
             ],
             [
              0.2222222222222222,
              "#7201a8"
             ],
             [
              0.3333333333333333,
              "#9c179e"
             ],
             [
              0.4444444444444444,
              "#bd3786"
             ],
             [
              0.5555555555555556,
              "#d8576b"
             ],
             [
              0.6666666666666666,
              "#ed7953"
             ],
             [
              0.7777777777777778,
              "#fb9f3a"
             ],
             [
              0.8888888888888888,
              "#fdca26"
             ],
             [
              1,
              "#f0f921"
             ]
            ],
            "type": "contour"
           }
          ],
          "contourcarpet": [
           {
            "colorbar": {
             "outlinewidth": 0,
             "ticks": ""
            },
            "type": "contourcarpet"
           }
          ],
          "heatmap": [
           {
            "colorbar": {
             "outlinewidth": 0,
             "ticks": ""
            },
            "colorscale": [
             [
              0,
              "#0d0887"
             ],
             [
              0.1111111111111111,
              "#46039f"
             ],
             [
              0.2222222222222222,
              "#7201a8"
             ],
             [
              0.3333333333333333,
              "#9c179e"
             ],
             [
              0.4444444444444444,
              "#bd3786"
             ],
             [
              0.5555555555555556,
              "#d8576b"
             ],
             [
              0.6666666666666666,
              "#ed7953"
             ],
             [
              0.7777777777777778,
              "#fb9f3a"
             ],
             [
              0.8888888888888888,
              "#fdca26"
             ],
             [
              1,
              "#f0f921"
             ]
            ],
            "type": "heatmap"
           }
          ],
          "heatmapgl": [
           {
            "colorbar": {
             "outlinewidth": 0,
             "ticks": ""
            },
            "colorscale": [
             [
              0,
              "#0d0887"
             ],
             [
              0.1111111111111111,
              "#46039f"
             ],
             [
              0.2222222222222222,
              "#7201a8"
             ],
             [
              0.3333333333333333,
              "#9c179e"
             ],
             [
              0.4444444444444444,
              "#bd3786"
             ],
             [
              0.5555555555555556,
              "#d8576b"
             ],
             [
              0.6666666666666666,
              "#ed7953"
             ],
             [
              0.7777777777777778,
              "#fb9f3a"
             ],
             [
              0.8888888888888888,
              "#fdca26"
             ],
             [
              1,
              "#f0f921"
             ]
            ],
            "type": "heatmapgl"
           }
          ],
          "histogram": [
           {
            "marker": {
             "pattern": {
              "fillmode": "overlay",
              "size": 10,
              "solidity": 0.2
             }
            },
            "type": "histogram"
           }
          ],
          "histogram2d": [
           {
            "colorbar": {
             "outlinewidth": 0,
             "ticks": ""
            },
            "colorscale": [
             [
              0,
              "#0d0887"
             ],
             [
              0.1111111111111111,
              "#46039f"
             ],
             [
              0.2222222222222222,
              "#7201a8"
             ],
             [
              0.3333333333333333,
              "#9c179e"
             ],
             [
              0.4444444444444444,
              "#bd3786"
             ],
             [
              0.5555555555555556,
              "#d8576b"
             ],
             [
              0.6666666666666666,
              "#ed7953"
             ],
             [
              0.7777777777777778,
              "#fb9f3a"
             ],
             [
              0.8888888888888888,
              "#fdca26"
             ],
             [
              1,
              "#f0f921"
             ]
            ],
            "type": "histogram2d"
           }
          ],
          "histogram2dcontour": [
           {
            "colorbar": {
             "outlinewidth": 0,
             "ticks": ""
            },
            "colorscale": [
             [
              0,
              "#0d0887"
             ],
             [
              0.1111111111111111,
              "#46039f"
             ],
             [
              0.2222222222222222,
              "#7201a8"
             ],
             [
              0.3333333333333333,
              "#9c179e"
             ],
             [
              0.4444444444444444,
              "#bd3786"
             ],
             [
              0.5555555555555556,
              "#d8576b"
             ],
             [
              0.6666666666666666,
              "#ed7953"
             ],
             [
              0.7777777777777778,
              "#fb9f3a"
             ],
             [
              0.8888888888888888,
              "#fdca26"
             ],
             [
              1,
              "#f0f921"
             ]
            ],
            "type": "histogram2dcontour"
           }
          ],
          "mesh3d": [
           {
            "colorbar": {
             "outlinewidth": 0,
             "ticks": ""
            },
            "type": "mesh3d"
           }
          ],
          "parcoords": [
           {
            "line": {
             "colorbar": {
              "outlinewidth": 0,
              "ticks": ""
             }
            },
            "type": "parcoords"
           }
          ],
          "pie": [
           {
            "automargin": true,
            "type": "pie"
           }
          ],
          "scatter": [
           {
            "fillpattern": {
             "fillmode": "overlay",
             "size": 10,
             "solidity": 0.2
            },
            "type": "scatter"
           }
          ],
          "scatter3d": [
           {
            "line": {
             "colorbar": {
              "outlinewidth": 0,
              "ticks": ""
             }
            },
            "marker": {
             "colorbar": {
              "outlinewidth": 0,
              "ticks": ""
             }
            },
            "type": "scatter3d"
           }
          ],
          "scattercarpet": [
           {
            "marker": {
             "colorbar": {
              "outlinewidth": 0,
              "ticks": ""
             }
            },
            "type": "scattercarpet"
           }
          ],
          "scattergeo": [
           {
            "marker": {
             "colorbar": {
              "outlinewidth": 0,
              "ticks": ""
             }
            },
            "type": "scattergeo"
           }
          ],
          "scattergl": [
           {
            "marker": {
             "colorbar": {
              "outlinewidth": 0,
              "ticks": ""
             }
            },
            "type": "scattergl"
           }
          ],
          "scattermapbox": [
           {
            "marker": {
             "colorbar": {
              "outlinewidth": 0,
              "ticks": ""
             }
            },
            "type": "scattermapbox"
           }
          ],
          "scatterpolar": [
           {
            "marker": {
             "colorbar": {
              "outlinewidth": 0,
              "ticks": ""
             }
            },
            "type": "scatterpolar"
           }
          ],
          "scatterpolargl": [
           {
            "marker": {
             "colorbar": {
              "outlinewidth": 0,
              "ticks": ""
             }
            },
            "type": "scatterpolargl"
           }
          ],
          "scatterternary": [
           {
            "marker": {
             "colorbar": {
              "outlinewidth": 0,
              "ticks": ""
             }
            },
            "type": "scatterternary"
           }
          ],
          "surface": [
           {
            "colorbar": {
             "outlinewidth": 0,
             "ticks": ""
            },
            "colorscale": [
             [
              0,
              "#0d0887"
             ],
             [
              0.1111111111111111,
              "#46039f"
             ],
             [
              0.2222222222222222,
              "#7201a8"
             ],
             [
              0.3333333333333333,
              "#9c179e"
             ],
             [
              0.4444444444444444,
              "#bd3786"
             ],
             [
              0.5555555555555556,
              "#d8576b"
             ],
             [
              0.6666666666666666,
              "#ed7953"
             ],
             [
              0.7777777777777778,
              "#fb9f3a"
             ],
             [
              0.8888888888888888,
              "#fdca26"
             ],
             [
              1,
              "#f0f921"
             ]
            ],
            "type": "surface"
           }
          ],
          "table": [
           {
            "cells": {
             "fill": {
              "color": "#EBF0F8"
             },
             "line": {
              "color": "white"
             }
            },
            "header": {
             "fill": {
              "color": "#C8D4E3"
             },
             "line": {
              "color": "white"
             }
            },
            "type": "table"
           }
          ]
         },
         "layout": {
          "annotationdefaults": {
           "arrowcolor": "#2a3f5f",
           "arrowhead": 0,
           "arrowwidth": 1
          },
          "autotypenumbers": "strict",
          "coloraxis": {
           "colorbar": {
            "outlinewidth": 0,
            "ticks": ""
           }
          },
          "colorscale": {
           "diverging": [
            [
             0,
             "#8e0152"
            ],
            [
             0.1,
             "#c51b7d"
            ],
            [
             0.2,
             "#de77ae"
            ],
            [
             0.3,
             "#f1b6da"
            ],
            [
             0.4,
             "#fde0ef"
            ],
            [
             0.5,
             "#f7f7f7"
            ],
            [
             0.6,
             "#e6f5d0"
            ],
            [
             0.7,
             "#b8e186"
            ],
            [
             0.8,
             "#7fbc41"
            ],
            [
             0.9,
             "#4d9221"
            ],
            [
             1,
             "#276419"
            ]
           ],
           "sequential": [
            [
             0,
             "#0d0887"
            ],
            [
             0.1111111111111111,
             "#46039f"
            ],
            [
             0.2222222222222222,
             "#7201a8"
            ],
            [
             0.3333333333333333,
             "#9c179e"
            ],
            [
             0.4444444444444444,
             "#bd3786"
            ],
            [
             0.5555555555555556,
             "#d8576b"
            ],
            [
             0.6666666666666666,
             "#ed7953"
            ],
            [
             0.7777777777777778,
             "#fb9f3a"
            ],
            [
             0.8888888888888888,
             "#fdca26"
            ],
            [
             1,
             "#f0f921"
            ]
           ],
           "sequentialminus": [
            [
             0,
             "#0d0887"
            ],
            [
             0.1111111111111111,
             "#46039f"
            ],
            [
             0.2222222222222222,
             "#7201a8"
            ],
            [
             0.3333333333333333,
             "#9c179e"
            ],
            [
             0.4444444444444444,
             "#bd3786"
            ],
            [
             0.5555555555555556,
             "#d8576b"
            ],
            [
             0.6666666666666666,
             "#ed7953"
            ],
            [
             0.7777777777777778,
             "#fb9f3a"
            ],
            [
             0.8888888888888888,
             "#fdca26"
            ],
            [
             1,
             "#f0f921"
            ]
           ]
          },
          "colorway": [
           "#636efa",
           "#EF553B",
           "#00cc96",
           "#ab63fa",
           "#FFA15A",
           "#19d3f3",
           "#FF6692",
           "#B6E880",
           "#FF97FF",
           "#FECB52"
          ],
          "font": {
           "color": "#2a3f5f"
          },
          "geo": {
           "bgcolor": "white",
           "lakecolor": "white",
           "landcolor": "#E5ECF6",
           "showlakes": true,
           "showland": true,
           "subunitcolor": "white"
          },
          "hoverlabel": {
           "align": "left"
          },
          "hovermode": "closest",
          "mapbox": {
           "style": "light"
          },
          "paper_bgcolor": "white",
          "plot_bgcolor": "#E5ECF6",
          "polar": {
           "angularaxis": {
            "gridcolor": "white",
            "linecolor": "white",
            "ticks": ""
           },
           "bgcolor": "#E5ECF6",
           "radialaxis": {
            "gridcolor": "white",
            "linecolor": "white",
            "ticks": ""
           }
          },
          "scene": {
           "xaxis": {
            "backgroundcolor": "#E5ECF6",
            "gridcolor": "white",
            "gridwidth": 2,
            "linecolor": "white",
            "showbackground": true,
            "ticks": "",
            "zerolinecolor": "white"
           },
           "yaxis": {
            "backgroundcolor": "#E5ECF6",
            "gridcolor": "white",
            "gridwidth": 2,
            "linecolor": "white",
            "showbackground": true,
            "ticks": "",
            "zerolinecolor": "white"
           },
           "zaxis": {
            "backgroundcolor": "#E5ECF6",
            "gridcolor": "white",
            "gridwidth": 2,
            "linecolor": "white",
            "showbackground": true,
            "ticks": "",
            "zerolinecolor": "white"
           }
          },
          "shapedefaults": {
           "line": {
            "color": "#2a3f5f"
           }
          },
          "ternary": {
           "aaxis": {
            "gridcolor": "white",
            "linecolor": "white",
            "ticks": ""
           },
           "baxis": {
            "gridcolor": "white",
            "linecolor": "white",
            "ticks": ""
           },
           "bgcolor": "#E5ECF6",
           "caxis": {
            "gridcolor": "white",
            "linecolor": "white",
            "ticks": ""
           }
          },
          "title": {
           "x": 0.05
          },
          "xaxis": {
           "automargin": true,
           "gridcolor": "white",
           "linecolor": "white",
           "ticks": "",
           "title": {
            "standoff": 15
           },
           "zerolinecolor": "white",
           "zerolinewidth": 2
          },
          "yaxis": {
           "automargin": true,
           "gridcolor": "white",
           "linecolor": "white",
           "ticks": "",
           "title": {
            "standoff": 15
           },
           "zerolinecolor": "white",
           "zerolinewidth": 2
          }
         }
        },
        "title": {
         "text": "Weighted Accuracy For Ablative Models"
        },
        "xaxis": {
         "title": {
          "text": "Epoch"
         }
        },
        "yaxis": {
         "title": {
          "text": "Loss"
         }
        }
       }
      },
      "text/html": [
       "<div>                            <div id=\"74c538d3-71ae-413a-b317-4c70da3a7067\" class=\"plotly-graph-div\" style=\"height:525px; width:100%;\"></div>            <script type=\"text/javascript\">                require([\"plotly\"], function(Plotly) {                    window.PLOTLYENV=window.PLOTLYENV || {};                                    if (document.getElementById(\"74c538d3-71ae-413a-b317-4c70da3a7067\")) {                    Plotly.newPlot(                        \"74c538d3-71ae-413a-b317-4c70da3a7067\",                        [{\"name\":\"Proportion=0.1\",\"x\":[0,1,2,3,4,5,6,7,8,9,10,11,12,13,14,15,16,17,18,19,20,21,22,23,24,25,26,27,28,29,30,31,32,33,34,35,36,37,38,39,40,41,42,43,44,45,46,47,48,49,50],\"y\":[0.005268703680485487,0.025289779528975487,0.026343518868088722,0.03477344661951065,0.10326659679412842,0.35827186703681946,0.3171759843826294,0.4320337176322937,0.4257112741470337,0.5964173078536987,0.6638566851615906,0.6944151520729065,0.754478394985199,0.7755532264709473,0.8071654438972473,0.8335089683532715,0.8925184607505798,0.9241306781768799,0.9452054500579834,0.9536353945732117,0.9525816440582275,0.9557428956031799,0.9620653390884399,0.9589040875434875,0.9494204521179199,0.9620653390884399,0.9589040875434875,0.9546891450881958,0.9578503966331482,0.9631190896034241,0.9620653390884399,0.9589040875434875,0.9652265310287476,0.9578503966331482,0.9494204521179199,0.9578503966331482,0.9610115885734558,0.9546891450881958,0.9483667016029358,0.9525816440582275,0.9599578380584717,0.9620653390884399,0.9599578380584717,0.9641728401184082,0.9652265310287476,0.9483667016029358,0.9652265310287476,0.9546891450881958,0.9525816440582275,0.9567966461181641,0.9557428956031799],\"type\":\"scatter\"},{\"name\":\"Proportion=0.2\",\"x\":[0,1,2,3,4,5,6,7,8,9,10,11,12,13,14,15,16,17,18,19,20,21,22,23,24,25,26,27,28,29,30,31,32,33,34,35,36,37,38,39,40,41,42,43,44,45,46,47,48,49,50],\"y\":[0.09641727805137634,0.03688092902302742,0.11275026202201843,0.5511064529418945,0.6043203473091125,0.713909387588501,0.7939936518669128,0.8714436292648315,0.8703898787498474,0.9357218146324158,0.934141218662262,0.9415174126625061,0.9436248540878296,0.9583772420883179,0.9589040875434875,0.965753436088562,0.9631190896034241,0.965753436088562,0.9615384340286255,0.9678608775138855,0.9615384340286255,0.9741833806037903,0.9673340320587158,0.9699683785438538,0.9636459350585938,0.9567966461181641,0.9694415330886841,0.9668071866035461,0.9562697410583496,0.9652265310287476,0.946786105632782,0.9578503966331482,0.9625921845436096,0.9689146280288696,0.9604847431182861,0.9641728401184082,0.9726027250289917,0.9704952836036682,0.9726027250289917,0.9604847431182861,0.9599578380584717,0.9699683785438538,0.9704952836036682,0.9641728401184082,0.9662802815437317,0.9610115885734558,0.9631190896034241,0.965753436088562,0.9615384340286255,0.9652265310287476,0.9662802815437317],\"type\":\"scatter\"},{\"name\":\"Proportion=0.3\",\"x\":[0,1,2,3,4,5,6,7,8,9,10,11,12,13,14,15,16,17,18,19,20,21,22,23,24,25,26,27,28,29,30,31,32,33,34,35,36,37,38,39,40,41,42,43,44,45,46,47,48,49,50],\"y\":[0.0224877018481493,0.0224877018481493,0.05938158929347992,0.05586788430809975,0.10997891426086426,0.12789881229400635,0.18973998725414276,0.5741391181945801,0.6201686859130859,0.639494001865387,0.6806043386459351,0.791988730430603,0.8134223222732544,0.847153902053833,0.9241040349006653,0.9346451163291931,0.9553759694099426,0.9553759694099426,0.9641602039337158,0.9609978795051575,0.9613492488861084,0.9627547264099121,0.9648629426956177,0.9578355550765991,0.9652143120765686,0.9669711589813232,0.9676739573478699,0.9673225283622742,0.9669711589813232,0.9701335430145264,0.9697821736335754,0.9669711589813232,0.9673225283622742,0.9652143120765686,0.9722417593002319,0.9683766961097717,0.9729444980621338,0.9690794348716736,0.9673225283622742,0.9701335430145264,0.9683766961097717,0.9680253267288208,0.9701335430145264,0.9701335430145264,0.9676739573478699,0.9711876511573792,0.9701335430145264,0.971890389919281,0.9743499755859375,0.9715390205383301,0.9669711589813232],\"type\":\"scatter\"},{\"name\":\"Proportion=0.4\",\"x\":[0,1,2,3,4,5,6,7,8,9,10,11,12,13,14,15,16,17,18,19,20,21,22,23,24,25,26,27,28,29,30,31,32,33,34,35,36,37,38,39,40,41,42,43,44,45,46,47,48,49,50],\"y\":[0.04795783758163452,0.679051399230957,0.7665349245071411,0.8329380750656128,0.9451910257339478,0.9652174115180969,0.9696969985961914,0.9638998508453369,0.9636363387107849,0.9720684885978699,0.9702239632606506,0.9720684885978699,0.9762845635414124,0.9747035503387451,0.9718050360679626,0.9694334864616394,0.9728590250015259,0.9768115878105164,0.9733860492706299,0.9725955128669739,0.9770750999450684,0.9741765260696411,0.9747035503387451,0.9731225371360779,0.9762845635414124,0.9704874753952026,0.9725955128669739,0.9728590250015259,0.9747035503387451,0.9628458619117737,0.9741765260696411,0.9715415239334106,0.9723320007324219,0.9720684885978699,0.9670619368553162,0.9694334864616394,0.9728590250015259,0.9718050360679626,0.9710144996643066,0.9720684885978699,0.9723320007324219,0.9760210514068604,0.9718050360679626,0.9696969985961914,0.9739130139350891,0.9662714004516602,0.9752305746078491,0.9757575988769531,0.9710144996643066,0.9707509875297546,0.9660078883171082],\"type\":\"scatter\"},{\"name\":\"Proportion=0.5\",\"x\":[0,1,2,3,4,5,6,7,8,9,10,11,12,13,14,15,16,17,18,19,20,21,22,23,24,25,26,27,28,29,30,31,32,33,34,35,36,37,38,39,40,41,42,43,44,45,46,47,48,49,50],\"y\":[0.3882799446582794,0.7778246402740479,0.9083052277565002,0.9576306939125061,0.9591062664985657,0.9658516049385071,0.9683811068534851,0.9698566794395447,0.9721753597259521,0.9717537760734558,0.9723861813545227,0.9622681140899658,0.9721753597259521,0.9734401106834412,0.97154301404953,0.9709106087684631,0.9753372669219971,0.9723861813545227,0.9761804342269897,0.9740725159645081,0.9725969433784485,0.9698566794395447,0.9730185270309448,0.972807765007019,0.9713321924209595,0.9732293486595154,0.975969672203064,0.9740725159645081,0.9742832779884338,0.9696458578109741,0.9725969433784485,0.9639544486999512,0.9711214303970337,0.972807765007019,0.9782883524894714,0.97154301404953,0.9738616943359375,0.9734401106834412,0.972807765007019,0.9732293486595154,0.9723861813545227,0.975969672203064,0.9747048616409302,0.9719645977020264,0.9736509323120117,0.9744940996170044,0.9692242741584778,0.97154301404953,0.9749156832695007,0.972807765007019,0.9740725159645081],\"type\":\"scatter\"},{\"name\":\"Proportion=0.6\",\"x\":[0,1,2,3,4,5,6,7,8,9,10,11,12,13,14,15,16,17,18,19,20,21,22,23,24,25,26,27,28,29,30,31,32,33,34,35,36,37,38,39,40,41,42,43,44,45,46,47,48,49,50],\"y\":[0.016865776851773262,0.046732254326343536,0.11542515456676483,0.22891777753829956,0.4541461765766144,0.8859803080558777,0.9525650143623352,0.9552002549171448,0.9717146754264832,0.9750527143478394,0.9780393242835999,0.9801476001739502,0.9787421226501465,0.9782150387763977,0.9766338467597961,0.980850338935852,0.9673225283622742,0.9787421226501465,0.9794448614120483,0.9796205163002014,0.9820801019668579,0.9829585552215576,0.9824314713478088,0.9815530776977539,0.9794448614120483,0.9796205163002014,0.9796205163002014,0.981728732585907,0.9769852161407471,0.9827828407287598,0.9803232550621033,0.9822558164596558,0.9778636693954468,0.9785664081573486,0.9794448614120483,0.981201708316803,0.9831342101097107,0.981728732585907,0.9824314713478088,0.9826071858406067,0.9789177775382996,0.9790934920310974,0.9801476001739502,0.9824314713478088,0.9757554531097412,0.9803232550621033,0.9792691469192505,0.9824314713478088,0.9797962307929993,0.9792691469192505,0.9752283692359924],\"type\":\"scatter\"},{\"name\":\"Proportion=0.7\",\"x\":[0,1,2,3,4,5,6,7,8,9,10,11,12,13,14,15,16,17,18,19,20,21,22,23,24,25,26,27,28,29,30,31,32,33,34,35,36,37,38,39,40,41,42,43,44,45,46,47,48,49,50],\"y\":[0.19665713608264923,0.8802891373634338,0.9581388235092163,0.9640114307403564,0.9715404510498047,0.9747025966644287,0.9727450609207153,0.9715404510498047,0.97184157371521,0.9763590097427368,0.9695829153060913,0.969733476638794,0.97214275598526,0.97184157371521,0.9772624373435974,0.9759072661399841,0.9643126130104065,0.9662701487541199,0.9676253795623779,0.9739497303962708,0.9674747586250305,0.9664207100868225,0.9741002917289734,0.9783165454864502,0.9759072661399841,0.9724439382553101,0.9688299894332886,0.9641620516777039,0.9739497303962708,0.969733476638794,0.9686794281005859,0.9759072661399841,0.97214275598526,0.9747025966644287,0.9750037789344788,0.9775636196136475,0.9733473658561707,0.9754555225372314,0.9741002917289734,0.9744014739990234,0.957837700843811,0.9736485481262207,0.9712392687797546,0.97184157371521,0.9780153632164001,0.9676253795623779,0.9754555225372314,0.9762083888053894,0.9734979867935181,0.975304901599884,0.9756060838699341],\"type\":\"scatter\"},{\"name\":\"Proportion=0.8\",\"x\":[0,1,2,3,4,5,6,7,8,9,10,11,12,13,14,15,16,17,18,19,20,21,22,23,24,25,26,27,28,29,30,31,32,33,34,35,36,37,38,39,40,41,42,43,44,45,46,47,48,49,50],\"y\":[0.250230610370636,0.9038081169128418,0.9579654932022095,0.9650810360908508,0.9689023494720459,0.9736460447311401,0.9685070514678955,0.972723662853241,0.9699565172195435,0.9728554487228394,0.9785215258598328,0.9719330668449402,0.9772038459777832,0.9741731286048889,0.9760178923606873,0.9747002124786377,0.9723283648490906,0.9735143184661865,0.972723662853241,0.9758861660957336,0.9736460447311401,0.9729872345924377,0.9781262278556824,0.9745684266090393,0.9741731286048889,0.9775991439819336,0.9735143184661865,0.9741731286048889,0.9757543802261353,0.9757543802261353,0.9798392653465271,0.9766767621040344,0.9747002124786377,0.9761496782302856,0.9769403338432312,0.9798392653465271,0.9781262278556824,0.9766767621040344,0.9775991439819336,0.9781262278556824,0.9750955104827881,0.9790486097335815,0.9802345633506775,0.9772038459777832,0.9760178923606873,0.9764132499694824,0.976544976234436,0.9785215258598328,0.9772038459777832,0.9640268683433533,0.9786533117294312],\"type\":\"scatter\"},{\"name\":\"Proportion=0.9\",\"x\":[0,1,2,3,4,5,6,7,8,9,10,11,12,13,14,15,16,17,18,19,20,21,22,23,24,25,26,27,28,29,30,31,32,33,34,35,36,37,38,39,40,41,42,43,44,45,46,47,48,49,50],\"y\":[0.37901148200035095,0.43499648571014404,0.7213633060455322,0.9100492000579834,0.956547200679779,0.9714218974113464,0.9734129905700684,0.9679082036018372,0.9750527143478394,0.9769266843795776,0.9785664081573486,0.9741157293319702,0.976809561252594,0.9758725762367249,0.9785664081573486,0.9779807925224304,0.9693136811256409,0.9765753149986267,0.9764581918716431,0.9741157293319702,0.9757554531097412,0.9739986062049866,0.9762239456176758,0.9739986062049866,0.9771609306335449,0.973530113697052,0.9742328524589539,0.9744670987129211,0.9798547625541687,0.9754040837287903,0.9762239456176758,0.9779807925224304,0.9771609306335449,0.9766924381256104,0.9770438075065613,0.9748184680938721,0.9734129905700684,0.9766924381256104,0.9763410687446594,0.9782150387763977,0.9778636693954468,0.9789177775382996,0.9764581918716431,0.9759896993637085,0.9743499755859375,0.9717732667922974,0.9773951768875122,0.9777465462684631,0.9750527143478394,0.9748184680938721,0.9731787443161011],\"type\":\"scatter\"}],                        {\"title\":{\"text\":\"Weighted Accuracy For Ablative Models\"},\"xaxis\":{\"title\":{\"text\":\"Epoch\"}},\"yaxis\":{\"title\":{\"text\":\"Loss\"}},\"template\":{\"data\":{\"histogram2dcontour\":[{\"type\":\"histogram2dcontour\",\"colorbar\":{\"outlinewidth\":0,\"ticks\":\"\"},\"colorscale\":[[0.0,\"#0d0887\"],[0.1111111111111111,\"#46039f\"],[0.2222222222222222,\"#7201a8\"],[0.3333333333333333,\"#9c179e\"],[0.4444444444444444,\"#bd3786\"],[0.5555555555555556,\"#d8576b\"],[0.6666666666666666,\"#ed7953\"],[0.7777777777777778,\"#fb9f3a\"],[0.8888888888888888,\"#fdca26\"],[1.0,\"#f0f921\"]]}],\"choropleth\":[{\"type\":\"choropleth\",\"colorbar\":{\"outlinewidth\":0,\"ticks\":\"\"}}],\"histogram2d\":[{\"type\":\"histogram2d\",\"colorbar\":{\"outlinewidth\":0,\"ticks\":\"\"},\"colorscale\":[[0.0,\"#0d0887\"],[0.1111111111111111,\"#46039f\"],[0.2222222222222222,\"#7201a8\"],[0.3333333333333333,\"#9c179e\"],[0.4444444444444444,\"#bd3786\"],[0.5555555555555556,\"#d8576b\"],[0.6666666666666666,\"#ed7953\"],[0.7777777777777778,\"#fb9f3a\"],[0.8888888888888888,\"#fdca26\"],[1.0,\"#f0f921\"]]}],\"heatmap\":[{\"type\":\"heatmap\",\"colorbar\":{\"outlinewidth\":0,\"ticks\":\"\"},\"colorscale\":[[0.0,\"#0d0887\"],[0.1111111111111111,\"#46039f\"],[0.2222222222222222,\"#7201a8\"],[0.3333333333333333,\"#9c179e\"],[0.4444444444444444,\"#bd3786\"],[0.5555555555555556,\"#d8576b\"],[0.6666666666666666,\"#ed7953\"],[0.7777777777777778,\"#fb9f3a\"],[0.8888888888888888,\"#fdca26\"],[1.0,\"#f0f921\"]]}],\"heatmapgl\":[{\"type\":\"heatmapgl\",\"colorbar\":{\"outlinewidth\":0,\"ticks\":\"\"},\"colorscale\":[[0.0,\"#0d0887\"],[0.1111111111111111,\"#46039f\"],[0.2222222222222222,\"#7201a8\"],[0.3333333333333333,\"#9c179e\"],[0.4444444444444444,\"#bd3786\"],[0.5555555555555556,\"#d8576b\"],[0.6666666666666666,\"#ed7953\"],[0.7777777777777778,\"#fb9f3a\"],[0.8888888888888888,\"#fdca26\"],[1.0,\"#f0f921\"]]}],\"contourcarpet\":[{\"type\":\"contourcarpet\",\"colorbar\":{\"outlinewidth\":0,\"ticks\":\"\"}}],\"contour\":[{\"type\":\"contour\",\"colorbar\":{\"outlinewidth\":0,\"ticks\":\"\"},\"colorscale\":[[0.0,\"#0d0887\"],[0.1111111111111111,\"#46039f\"],[0.2222222222222222,\"#7201a8\"],[0.3333333333333333,\"#9c179e\"],[0.4444444444444444,\"#bd3786\"],[0.5555555555555556,\"#d8576b\"],[0.6666666666666666,\"#ed7953\"],[0.7777777777777778,\"#fb9f3a\"],[0.8888888888888888,\"#fdca26\"],[1.0,\"#f0f921\"]]}],\"surface\":[{\"type\":\"surface\",\"colorbar\":{\"outlinewidth\":0,\"ticks\":\"\"},\"colorscale\":[[0.0,\"#0d0887\"],[0.1111111111111111,\"#46039f\"],[0.2222222222222222,\"#7201a8\"],[0.3333333333333333,\"#9c179e\"],[0.4444444444444444,\"#bd3786\"],[0.5555555555555556,\"#d8576b\"],[0.6666666666666666,\"#ed7953\"],[0.7777777777777778,\"#fb9f3a\"],[0.8888888888888888,\"#fdca26\"],[1.0,\"#f0f921\"]]}],\"mesh3d\":[{\"type\":\"mesh3d\",\"colorbar\":{\"outlinewidth\":0,\"ticks\":\"\"}}],\"scatter\":[{\"fillpattern\":{\"fillmode\":\"overlay\",\"size\":10,\"solidity\":0.2},\"type\":\"scatter\"}],\"parcoords\":[{\"type\":\"parcoords\",\"line\":{\"colorbar\":{\"outlinewidth\":0,\"ticks\":\"\"}}}],\"scatterpolargl\":[{\"type\":\"scatterpolargl\",\"marker\":{\"colorbar\":{\"outlinewidth\":0,\"ticks\":\"\"}}}],\"bar\":[{\"error_x\":{\"color\":\"#2a3f5f\"},\"error_y\":{\"color\":\"#2a3f5f\"},\"marker\":{\"line\":{\"color\":\"#E5ECF6\",\"width\":0.5},\"pattern\":{\"fillmode\":\"overlay\",\"size\":10,\"solidity\":0.2}},\"type\":\"bar\"}],\"scattergeo\":[{\"type\":\"scattergeo\",\"marker\":{\"colorbar\":{\"outlinewidth\":0,\"ticks\":\"\"}}}],\"scatterpolar\":[{\"type\":\"scatterpolar\",\"marker\":{\"colorbar\":{\"outlinewidth\":0,\"ticks\":\"\"}}}],\"histogram\":[{\"marker\":{\"pattern\":{\"fillmode\":\"overlay\",\"size\":10,\"solidity\":0.2}},\"type\":\"histogram\"}],\"scattergl\":[{\"type\":\"scattergl\",\"marker\":{\"colorbar\":{\"outlinewidth\":0,\"ticks\":\"\"}}}],\"scatter3d\":[{\"type\":\"scatter3d\",\"line\":{\"colorbar\":{\"outlinewidth\":0,\"ticks\":\"\"}},\"marker\":{\"colorbar\":{\"outlinewidth\":0,\"ticks\":\"\"}}}],\"scattermapbox\":[{\"type\":\"scattermapbox\",\"marker\":{\"colorbar\":{\"outlinewidth\":0,\"ticks\":\"\"}}}],\"scatterternary\":[{\"type\":\"scatterternary\",\"marker\":{\"colorbar\":{\"outlinewidth\":0,\"ticks\":\"\"}}}],\"scattercarpet\":[{\"type\":\"scattercarpet\",\"marker\":{\"colorbar\":{\"outlinewidth\":0,\"ticks\":\"\"}}}],\"carpet\":[{\"aaxis\":{\"endlinecolor\":\"#2a3f5f\",\"gridcolor\":\"white\",\"linecolor\":\"white\",\"minorgridcolor\":\"white\",\"startlinecolor\":\"#2a3f5f\"},\"baxis\":{\"endlinecolor\":\"#2a3f5f\",\"gridcolor\":\"white\",\"linecolor\":\"white\",\"minorgridcolor\":\"white\",\"startlinecolor\":\"#2a3f5f\"},\"type\":\"carpet\"}],\"table\":[{\"cells\":{\"fill\":{\"color\":\"#EBF0F8\"},\"line\":{\"color\":\"white\"}},\"header\":{\"fill\":{\"color\":\"#C8D4E3\"},\"line\":{\"color\":\"white\"}},\"type\":\"table\"}],\"barpolar\":[{\"marker\":{\"line\":{\"color\":\"#E5ECF6\",\"width\":0.5},\"pattern\":{\"fillmode\":\"overlay\",\"size\":10,\"solidity\":0.2}},\"type\":\"barpolar\"}],\"pie\":[{\"automargin\":true,\"type\":\"pie\"}]},\"layout\":{\"autotypenumbers\":\"strict\",\"colorway\":[\"#636efa\",\"#EF553B\",\"#00cc96\",\"#ab63fa\",\"#FFA15A\",\"#19d3f3\",\"#FF6692\",\"#B6E880\",\"#FF97FF\",\"#FECB52\"],\"font\":{\"color\":\"#2a3f5f\"},\"hovermode\":\"closest\",\"hoverlabel\":{\"align\":\"left\"},\"paper_bgcolor\":\"white\",\"plot_bgcolor\":\"#E5ECF6\",\"polar\":{\"bgcolor\":\"#E5ECF6\",\"angularaxis\":{\"gridcolor\":\"white\",\"linecolor\":\"white\",\"ticks\":\"\"},\"radialaxis\":{\"gridcolor\":\"white\",\"linecolor\":\"white\",\"ticks\":\"\"}},\"ternary\":{\"bgcolor\":\"#E5ECF6\",\"aaxis\":{\"gridcolor\":\"white\",\"linecolor\":\"white\",\"ticks\":\"\"},\"baxis\":{\"gridcolor\":\"white\",\"linecolor\":\"white\",\"ticks\":\"\"},\"caxis\":{\"gridcolor\":\"white\",\"linecolor\":\"white\",\"ticks\":\"\"}},\"coloraxis\":{\"colorbar\":{\"outlinewidth\":0,\"ticks\":\"\"}},\"colorscale\":{\"sequential\":[[0.0,\"#0d0887\"],[0.1111111111111111,\"#46039f\"],[0.2222222222222222,\"#7201a8\"],[0.3333333333333333,\"#9c179e\"],[0.4444444444444444,\"#bd3786\"],[0.5555555555555556,\"#d8576b\"],[0.6666666666666666,\"#ed7953\"],[0.7777777777777778,\"#fb9f3a\"],[0.8888888888888888,\"#fdca26\"],[1.0,\"#f0f921\"]],\"sequentialminus\":[[0.0,\"#0d0887\"],[0.1111111111111111,\"#46039f\"],[0.2222222222222222,\"#7201a8\"],[0.3333333333333333,\"#9c179e\"],[0.4444444444444444,\"#bd3786\"],[0.5555555555555556,\"#d8576b\"],[0.6666666666666666,\"#ed7953\"],[0.7777777777777778,\"#fb9f3a\"],[0.8888888888888888,\"#fdca26\"],[1.0,\"#f0f921\"]],\"diverging\":[[0,\"#8e0152\"],[0.1,\"#c51b7d\"],[0.2,\"#de77ae\"],[0.3,\"#f1b6da\"],[0.4,\"#fde0ef\"],[0.5,\"#f7f7f7\"],[0.6,\"#e6f5d0\"],[0.7,\"#b8e186\"],[0.8,\"#7fbc41\"],[0.9,\"#4d9221\"],[1,\"#276419\"]]},\"xaxis\":{\"gridcolor\":\"white\",\"linecolor\":\"white\",\"ticks\":\"\",\"title\":{\"standoff\":15},\"zerolinecolor\":\"white\",\"automargin\":true,\"zerolinewidth\":2},\"yaxis\":{\"gridcolor\":\"white\",\"linecolor\":\"white\",\"ticks\":\"\",\"title\":{\"standoff\":15},\"zerolinecolor\":\"white\",\"automargin\":true,\"zerolinewidth\":2},\"scene\":{\"xaxis\":{\"backgroundcolor\":\"#E5ECF6\",\"gridcolor\":\"white\",\"linecolor\":\"white\",\"showbackground\":true,\"ticks\":\"\",\"zerolinecolor\":\"white\",\"gridwidth\":2},\"yaxis\":{\"backgroundcolor\":\"#E5ECF6\",\"gridcolor\":\"white\",\"linecolor\":\"white\",\"showbackground\":true,\"ticks\":\"\",\"zerolinecolor\":\"white\",\"gridwidth\":2},\"zaxis\":{\"backgroundcolor\":\"#E5ECF6\",\"gridcolor\":\"white\",\"linecolor\":\"white\",\"showbackground\":true,\"ticks\":\"\",\"zerolinecolor\":\"white\",\"gridwidth\":2}},\"shapedefaults\":{\"line\":{\"color\":\"#2a3f5f\"}},\"annotationdefaults\":{\"arrowcolor\":\"#2a3f5f\",\"arrowhead\":0,\"arrowwidth\":1},\"geo\":{\"bgcolor\":\"white\",\"landcolor\":\"#E5ECF6\",\"subunitcolor\":\"white\",\"showland\":true,\"showlakes\":true,\"lakecolor\":\"white\"},\"title\":{\"x\":0.05},\"mapbox\":{\"style\":\"light\"}}}},                        {\"responsive\": true}                    ).then(function(){\n",
       "                            \n",
       "var gd = document.getElementById('74c538d3-71ae-413a-b317-4c70da3a7067');\n",
       "var x = new MutationObserver(function (mutations, observer) {{\n",
       "        var display = window.getComputedStyle(gd).display;\n",
       "        if (!display || display === 'none') {{\n",
       "            console.log([gd, 'removed!']);\n",
       "            Plotly.purge(gd);\n",
       "            observer.disconnect();\n",
       "        }}\n",
       "}});\n",
       "\n",
       "// Listen for the removal of the full notebook cells\n",
       "var notebookContainer = gd.closest('#notebook-container');\n",
       "if (notebookContainer) {{\n",
       "    x.observe(notebookContainer, {childList: true});\n",
       "}}\n",
       "\n",
       "// Listen for the clearing of the current output cell\n",
       "var outputEl = gd.closest('.output');\n",
       "if (outputEl) {{\n",
       "    x.observe(outputEl, {childList: true});\n",
       "}}\n",
       "\n",
       "                        })                };                });            </script>        </div>"
      ]
     },
     "metadata": {},
     "output_type": "display_data"
    }
   ],
   "source": [
    "fig = go.Figure(\n",
    "    layout=go.Layout(\n",
    "        title='Weighted Accuracy For Ablative Models',\n",
    "        xaxis=dict(title='Epoch'),\n",
    "        yaxis=dict(title='Loss')\n",
    "    )\n",
    ")\n",
    "\n",
    "for col in loss:\n",
    "    fig.add_trace(\n",
    "        go.Scatter(x=wacc.index, y=wacc[col], name=col)\n",
    "    )\n",
    "\n",
    "fig.show()"
   ]
  },
  {
   "cell_type": "code",
   "execution_count": 17,
   "id": "c9c3f876",
   "metadata": {
    "scrolled": true
   },
   "outputs": [
    {
     "name": "stderr",
     "output_type": "stream",
     "text": [
      "1it [00:00,  4.55it/s]"
     ]
    },
    {
     "name": "stdout",
     "output_type": "stream",
     "text": [
      "dict_keys(['trainer/global_step', '_step', '_runtime', 'lr-Adam', '_timestamp'])\n",
      "dict_keys(['trainer/global_step', '_step', '_runtime', 'train_loss_step', 'epoch', '_timestamp'])\n",
      "dict_keys(['trainer/global_step', '_step', '_runtime', 'train_loss_step', 'epoch', '_timestamp'])\n",
      "dict_keys(['trainer/global_step', '_step', '_runtime', 'train_loss_step', 'epoch', '_timestamp'])\n",
      "dict_keys(['trainer/global_step', '_step', '_runtime', 'train_loss_step', 'epoch', '_timestamp'])\n",
      "dict_keys(['trainer/global_step', '_step', '_runtime', 'train_loss_step', 'epoch', '_timestamp'])\n",
      "dict_keys(['trainer/global_step', '_step', '_runtime', 'train_loss_step', 'epoch', '_timestamp'])\n",
      "dict_keys(['trainer/global_step', '_step', '_runtime', 'train_loss_step', 'epoch', '_timestamp'])\n",
      "dict_keys(['trainer/global_step', '_step', '_runtime', 'train_loss_step', 'epoch', '_timestamp'])\n",
      "dict_keys(['trainer/global_step', '_step', '_runtime', 'train_loss_step', 'epoch', '_timestamp'])\n",
      "dict_keys(['trainer/global_step', '_step', '_runtime', 'train_loss_step', 'epoch', '_timestamp'])\n",
      "dict_keys(['trainer/global_step', '_step', '_runtime', 'train_loss_step', 'epoch', '_timestamp'])\n",
      "dict_keys(['trainer/global_step', '_step', '_runtime', 'train_loss_step', 'epoch', '_timestamp'])\n",
      "dict_keys(['trainer/global_step', '_step', '_runtime', 'train_loss_step', 'epoch', '_timestamp'])\n",
      "dict_keys(['trainer/global_step', '_step', '_runtime', 'train_loss_step', 'epoch', '_timestamp'])\n",
      "dict_keys(['trainer/global_step', '_step', '_runtime', 'train_loss_step', 'epoch', '_timestamp'])\n",
      "dict_keys(['trainer/global_step', '_step', '_runtime', 'train_loss_step', 'epoch', '_timestamp'])\n",
      "dict_keys(['trainer/global_step', '_step', '_runtime', 'train_loss_step', 'epoch', '_timestamp'])\n",
      "dict_keys(['trainer/global_step', '_step', '_runtime', 'train_loss_step', 'epoch', '_timestamp'])\n",
      "dict_keys(['trainer/global_step', '_step', '_runtime', 'val_loss_step', '_timestamp'])\n",
      "dict_keys(['trainer/global_step', '_step', '_runtime', 'val_loss_step', '_timestamp'])\n",
      "dict_keys(['trainer/global_step', '_step', '_runtime', 'val_loss_step', '_timestamp'])\n",
      "dict_keys(['trainer/global_step', '_step', '_runtime', 'val_loss_step', '_timestamp'])\n",
      "dict_keys(['trainer/global_step', '_step', '_runtime', 'val_loss_step', '_timestamp'])\n",
      "dict_keys(['trainer/global_step', '_step', '_runtime', 'val_loss_step', '_timestamp'])\n",
      "dict_keys(['trainer/global_step', '_step', '_runtime', 'val_loss_step', '_timestamp'])\n",
      "dict_keys(['trainer/global_step', '_step', '_runtime', 'val_loss_step', '_timestamp'])\n",
      "dict_keys(['trainer/global_step', '_step', '_runtime', 'val_loss_step', '_timestamp'])\n",
      "dict_keys(['trainer/global_step', '_step', '_runtime', 'val_loss_step', '_timestamp'])\n",
      "dict_keys(['trainer/global_step', '_step', '_runtime', 'val_loss_step', '_timestamp'])\n",
      "dict_keys(['trainer/global_step', '_step', '_runtime', 'val_loss_step', '_timestamp'])\n",
      "dict_keys(['trainer/global_step', '_step', '_runtime', 'val_loss_step', '_timestamp'])\n",
      "dict_keys(['trainer/global_step', '_step', '_runtime', 'val_loss_step', '_timestamp'])\n",
      "dict_keys(['trainer/global_step', '_step', '_runtime', 'val_loss_step', '_timestamp'])\n",
      "dict_keys(['trainer/global_step', '_step', '_runtime', 'val_loss_step', '_timestamp'])\n",
      "dict_keys(['trainer/global_step', '_step', '_runtime', 'val_loss_step', '_timestamp'])\n",
      "dict_keys(['trainer/global_step', '_step', '_runtime', 'val_loss_step', '_timestamp'])\n",
      "dict_keys(['trainer/global_step', '_step', '_runtime', 'val_loss_step', '_timestamp'])\n",
      "dict_keys(['trainer/global_step', '_step', '_runtime', 'val_loss_step', '_timestamp'])\n",
      "dict_keys(['trainer/global_step', '_step', '_runtime', 'val_loss_step', '_timestamp'])\n",
      "dict_keys(['trainer/global_step', '_step', '_runtime', 'val_loss_step', '_timestamp'])\n",
      "dict_keys(['trainer/global_step', '_step', '_runtime', 'val_loss_step', '_timestamp'])\n",
      "dict_keys(['trainer/global_step', '_step', '_runtime', 'val_loss_step', '_timestamp'])\n",
      "dict_keys(['trainer/global_step', '_step', '_runtime', 'val_loss_step', '_timestamp'])\n",
      "dict_keys(['trainer/global_step', '_step', '_runtime', 'val_loss_step', '_timestamp'])\n",
      "dict_keys(['trainer/global_step', '_step', '_runtime', 'val_loss_step', '_timestamp'])\n",
      "dict_keys(['trainer/global_step', '_step', '_runtime', 'val_loss_step', '_timestamp'])\n",
      "dict_keys(['trainer/global_step', '_step', '_runtime', 'val_loss_step', '_timestamp'])\n",
      "dict_keys(['trainer/global_step', '_step', '_runtime', 'val_loss_step', '_timestamp'])\n",
      "dict_keys(['trainer/global_step', '_step', '_runtime', 'val_loss_step', '_timestamp'])\n",
      "dict_keys(['trainer/global_step', '_step', '_runtime', 'val_loss_step', '_timestamp'])\n",
      "dict_keys(['trainer/global_step', '_step', '_runtime', 'val_loss_step', '_timestamp'])\n",
      "dict_keys(['trainer/global_step', '_step', '_runtime', 'val_loss_step', '_timestamp'])\n",
      "dict_keys(['trainer/global_step', '_step', '_runtime', 'val_loss_step', '_timestamp'])\n",
      "dict_keys(['trainer/global_step', '_step', '_runtime', 'val_loss_step', '_timestamp'])\n",
      "dict_keys(['trainer/global_step', '_step', '_runtime', 'val_loss_step', '_timestamp'])\n",
      "dict_keys(['trainer/global_step', '_step', '_runtime', 'val_loss_step', '_timestamp'])\n",
      "dict_keys(['trainer/global_step', '_step', '_runtime', 'val_loss_step', '_timestamp'])\n",
      "dict_keys(['trainer/global_step', '_step', '_runtime', 'val_loss_step', '_timestamp'])\n",
      "dict_keys(['trainer/global_step', '_step', '_runtime', 'val_loss_step', '_timestamp'])\n",
      "dict_keys(['trainer/global_step', '_step', '_runtime', 'val_loss_step', '_timestamp'])\n",
      "dict_keys(['trainer/global_step', '_step', '_runtime', 'val_loss_step', '_timestamp'])\n",
      "dict_keys(['trainer/global_step', '_step', '_runtime', 'val_loss_step', '_timestamp'])\n",
      "dict_keys(['trainer/global_step', '_step', '_runtime', 'val_loss_step', '_timestamp'])\n",
      "dict_keys(['trainer/global_step', '_step', '_runtime', 'val_loss_step', '_timestamp'])\n",
      "dict_keys(['trainer/global_step', '_step', '_runtime', 'val_loss_step', '_timestamp'])\n",
      "dict_keys(['trainer/global_step', '_step', '_runtime', 'val_loss_step', '_timestamp'])\n",
      "dict_keys(['trainer/global_step', '_step', '_runtime', 'val_loss_step', '_timestamp'])\n",
      "dict_keys(['trainer/global_step', '_step', '_runtime', 'val_loss_step', '_timestamp'])\n",
      "dict_keys(['trainer/global_step', '_step', '_runtime', 'val_loss_step', '_timestamp'])\n",
      "dict_keys(['trainer/global_step', '_step', '_runtime', 'val_loss_step', '_timestamp'])\n",
      "dict_keys(['trainer/global_step', '_step', '_runtime', 'val_loss_step', '_timestamp'])\n",
      "dict_keys(['trainer/global_step', '_step', '_runtime', 'val_loss_step', '_timestamp'])\n",
      "dict_keys(['trainer/global_step', '_step', '_runtime', 'val_loss_step', '_timestamp'])\n",
      "dict_keys(['trainer/global_step', '_step', '_runtime', 'val_loss_step', '_timestamp'])\n",
      "dict_keys(['trainer/global_step', '_step', '_runtime', 'val_loss_step', '_timestamp'])\n",
      "dict_keys(['trainer/global_step', '_step', '_runtime', 'val_loss_step', '_timestamp'])\n",
      "dict_keys(['trainer/global_step', '_step', '_runtime', 'val_loss_step', '_timestamp'])\n",
      "dict_keys(['trainer/global_step', '_step', '_runtime', 'val_loss_step', '_timestamp'])\n",
      "dict_keys(['trainer/global_step', '_step', '_runtime', 'val_loss_step', '_timestamp'])\n",
      "dict_keys(['trainer/global_step', '_step', '_runtime', 'val_loss_step', '_timestamp'])\n",
      "dict_keys(['trainer/global_step', '_step', '_runtime', 'val_loss_step', '_timestamp'])\n",
      "dict_keys(['trainer/global_step', '_step', '_runtime', 'val_loss_step', '_timestamp'])\n",
      "dict_keys(['trainer/global_step', '_step', '_runtime', 'val_loss_step', '_timestamp'])\n",
      "dict_keys(['trainer/global_step', '_step', '_runtime', 'val_loss_step', '_timestamp'])\n",
      "dict_keys(['trainer/global_step', '_step', '_runtime', 'val_loss_step', '_timestamp'])\n",
      "dict_keys(['trainer/global_step', '_step', '_runtime', 'val_loss_step', '_timestamp'])\n",
      "dict_keys(['trainer/global_step', '_step', '_runtime', 'val_loss_step', '_timestamp'])\n",
      "dict_keys(['trainer/global_step', '_step', '_runtime', 'val_loss_step', '_timestamp'])\n",
      "dict_keys(['trainer/global_step', '_step', '_runtime', 'val_loss_step', '_timestamp'])\n",
      "dict_keys(['trainer/global_step', '_step', '_runtime', 'val_loss_step', '_timestamp'])\n",
      "dict_keys(['trainer/global_step', '_step', '_runtime', 'val_loss_step', '_timestamp'])\n",
      "dict_keys(['trainer/global_step', '_step', '_runtime', 'val_loss_step', '_timestamp'])\n",
      "dict_keys(['trainer/global_step', '_step', '_runtime', 'val_loss_step', '_timestamp'])\n",
      "dict_keys(['trainer/global_step', '_step', '_runtime', 'val_loss_step', '_timestamp'])\n",
      "dict_keys(['trainer/global_step', '_step', '_runtime', 'val_loss_step', '_timestamp'])\n",
      "dict_keys(['trainer/global_step', '_step', '_runtime', 'val_loss_step', '_timestamp'])\n",
      "dict_keys(['trainer/global_step', '_step', '_runtime', 'val_loss_step', '_timestamp'])\n",
      "dict_keys(['trainer/global_step', '_step', '_runtime', 'val_loss_step', '_timestamp'])\n",
      "dict_keys(['trainer/global_step', '_step', '_runtime', 'val_loss_step', '_timestamp'])\n",
      "dict_keys(['trainer/global_step', '_step', '_runtime', 'val_loss_step', '_timestamp'])\n",
      "dict_keys(['trainer/global_step', '_step', '_runtime', 'val_loss_step', '_timestamp'])\n",
      "dict_keys(['trainer/global_step', '_step', '_runtime', 'val_loss_step', '_timestamp'])\n",
      "dict_keys(['trainer/global_step', '_step', '_runtime', 'val_loss_step', '_timestamp'])\n",
      "dict_keys(['trainer/global_step', '_step', '_runtime', 'val_loss_step', '_timestamp'])\n",
      "dict_keys(['trainer/global_step', '_step', '_runtime', 'val_loss_step', '_timestamp'])\n",
      "dict_keys(['trainer/global_step', '_step', '_runtime', 'val_loss_step', '_timestamp'])\n",
      "dict_keys(['trainer/global_step', '_step', '_runtime', 'val_loss_step', '_timestamp'])\n",
      "dict_keys(['trainer/global_step', '_step', '_runtime', 'val_loss_step', '_timestamp'])\n",
      "dict_keys(['trainer/global_step', '_step', '_runtime', 'val_loss_step', '_timestamp'])\n",
      "dict_keys(['trainer/global_step', '_step', '_runtime', 'val_loss_step', '_timestamp'])\n",
      "dict_keys(['trainer/global_step', '_step', '_runtime', 'val_loss_step', '_timestamp'])\n",
      "dict_keys(['trainer/global_step', '_step', '_runtime', 'val_loss_step', '_timestamp'])\n",
      "dict_keys(['trainer/global_step', '_step', '_runtime', 'val_loss_step', '_timestamp'])\n",
      "dict_keys(['trainer/global_step', '_step', '_runtime', 'val_loss_step', '_timestamp'])\n",
      "dict_keys(['trainer/global_step', '_step', '_runtime', 'val_loss_step', '_timestamp'])\n",
      "dict_keys(['trainer/global_step', '_step', '_runtime', 'val_loss_step', '_timestamp'])\n",
      "dict_keys(['trainer/global_step', '_step', '_runtime', 'val_loss_step', '_timestamp'])\n",
      "dict_keys(['trainer/global_step', '_step', '_runtime', 'val_loss_step', '_timestamp'])\n",
      "dict_keys(['trainer/global_step', '_step', '_runtime', 'val_loss_step', '_timestamp'])\n",
      "dict_keys(['trainer/global_step', '_step', '_runtime', 'val_loss_step', '_timestamp'])\n",
      "dict_keys(['trainer/global_step', '_step', '_runtime', 'val_loss_step', '_timestamp'])\n",
      "dict_keys(['trainer/global_step', '_step', '_runtime', 'val_loss_step', '_timestamp'])\n",
      "dict_keys(['trainer/global_step', '_step', '_runtime', 'val_loss_step', '_timestamp'])\n",
      "dict_keys(['trainer/global_step', '_step', '_runtime', 'val_loss_step', '_timestamp'])\n",
      "dict_keys(['trainer/global_step', '_step', '_runtime', 'val_loss_step', '_timestamp'])\n",
      "dict_keys(['trainer/global_step', '_step', '_runtime', 'val_loss_step', '_timestamp'])\n",
      "dict_keys(['trainer/global_step', '_step', '_runtime', 'val_loss_step', '_timestamp'])\n",
      "dict_keys(['trainer/global_step', '_step', '_runtime', 'val_loss_step', '_timestamp'])\n",
      "dict_keys(['trainer/global_step', '_step', '_runtime', 'val_loss_step', '_timestamp'])\n",
      "dict_keys(['trainer/global_step', '_step', '_runtime', 'val_loss_step', '_timestamp'])\n",
      "dict_keys(['trainer/global_step', '_step', '_runtime', 'val_loss_step', '_timestamp'])\n",
      "dict_keys(['trainer/global_step', '_step', '_runtime', 'val_loss_step', '_timestamp'])\n",
      "dict_keys(['trainer/global_step', '_step', '_runtime', 'val_loss_step', '_timestamp'])\n",
      "dict_keys(['trainer/global_step', '_step', '_runtime', 'val_loss_step', '_timestamp'])\n",
      "dict_keys(['trainer/global_step', '_step', '_runtime', 'val_loss_step', '_timestamp'])\n",
      "dict_keys(['trainer/global_step', '_step', '_runtime', 'val_loss_step', '_timestamp'])\n",
      "dict_keys(['trainer/global_step', '_step', '_runtime', 'val_loss_step', '_timestamp'])\n",
      "dict_keys(['trainer/global_step', '_step', '_runtime', 'val_loss_step', '_timestamp'])\n",
      "dict_keys(['trainer/global_step', '_step', '_runtime', 'val_loss_step', '_timestamp'])\n",
      "dict_keys(['trainer/global_step', '_step', '_runtime', 'val_loss_step', '_timestamp'])\n",
      "dict_keys(['trainer/global_step', '_step', '_runtime', 'val_loss_step', '_timestamp'])\n",
      "dict_keys(['trainer/global_step', '_step', '_runtime', 'val_loss_step', '_timestamp'])\n",
      "dict_keys(['trainer/global_step', '_step', '_runtime', 'val_loss_step', '_timestamp'])\n",
      "dict_keys(['trainer/global_step', '_step', '_runtime', 'val_loss_step', '_timestamp'])\n",
      "dict_keys(['trainer/global_step', '_step', '_runtime', 'val_loss_step', '_timestamp'])\n",
      "dict_keys(['trainer/global_step', '_step', '_runtime', 'val_loss_step', '_timestamp'])\n",
      "dict_keys(['trainer/global_step', '_step', '_runtime', 'val_loss_step', '_timestamp'])\n",
      "dict_keys(['trainer/global_step', '_step', '_runtime', 'val_loss_step', '_timestamp'])\n",
      "dict_keys(['trainer/global_step', '_step', '_runtime', 'val_loss_step', '_timestamp'])\n",
      "dict_keys(['trainer/global_step', '_step', '_runtime', 'val_loss_step', '_timestamp'])\n",
      "dict_keys(['trainer/global_step', '_step', '_runtime', 'val_loss_step', '_timestamp'])\n",
      "dict_keys(['trainer/global_step', '_step', '_runtime', 'val_loss_step', '_timestamp'])\n",
      "dict_keys(['trainer/global_step', '_step', '_runtime', 'val_loss_step', '_timestamp'])\n",
      "dict_keys(['trainer/global_step', '_step', '_runtime', 'val_loss_step', '_timestamp'])\n",
      "dict_keys(['trainer/global_step', '_step', '_runtime', 'val_loss_step', '_timestamp'])\n",
      "dict_keys(['trainer/global_step', '_step', '_runtime', 'val_loss_step', '_timestamp'])\n",
      "dict_keys(['trainer/global_step', '_step', '_runtime', 'val_loss_step', '_timestamp'])\n",
      "dict_keys(['trainer/global_step', '_step', '_runtime', 'val_loss_step', '_timestamp'])\n",
      "dict_keys(['trainer/global_step', '_step', '_runtime', 'val_loss_step', '_timestamp'])\n",
      "dict_keys(['trainer/global_step', '_step', '_runtime', 'val_loss_step', '_timestamp'])\n",
      "dict_keys(['trainer/global_step', '_step', '_runtime', 'val_loss_step', '_timestamp'])\n",
      "dict_keys(['trainer/global_step', '_step', '_runtime', 'val_loss_step', '_timestamp'])\n",
      "dict_keys(['trainer/global_step', '_step', '_runtime', 'val_loss_step', '_timestamp'])\n",
      "dict_keys(['trainer/global_step', '_step', '_runtime', 'val_loss_step', '_timestamp'])\n",
      "dict_keys(['trainer/global_step', '_step', '_runtime', 'val_loss_step', '_timestamp'])\n",
      "dict_keys(['trainer/global_step', '_step', '_runtime', 'val_loss_step', '_timestamp'])\n",
      "dict_keys(['trainer/global_step', '_step', '_runtime', 'val_loss_step', '_timestamp'])\n",
      "dict_keys(['trainer/global_step', '_step', '_runtime', 'val_loss_step', '_timestamp'])\n",
      "dict_keys(['trainer/global_step', '_step', '_runtime', 'val_loss_step', '_timestamp'])\n",
      "dict_keys(['trainer/global_step', '_step', '_runtime', 'val_loss_step', '_timestamp'])\n",
      "dict_keys(['trainer/global_step', '_step', '_runtime', 'val_loss_step', '_timestamp'])\n",
      "dict_keys(['trainer/global_step', '_step', '_runtime', 'val_loss_step', '_timestamp'])\n",
      "dict_keys(['trainer/global_step', '_step', '_runtime', 'val_loss_step', '_timestamp'])\n",
      "dict_keys(['trainer/global_step', '_step', '_runtime', 'val_loss_step', '_timestamp'])\n",
      "dict_keys(['trainer/global_step', '_step', '_runtime', 'val_loss_step', '_timestamp'])\n",
      "dict_keys(['trainer/global_step', '_step', '_runtime', 'val_loss_step', '_timestamp'])\n",
      "dict_keys(['trainer/global_step', '_step', '_runtime', 'val_loss_step', '_timestamp'])\n",
      "dict_keys(['trainer/global_step', '_step', '_runtime', 'val_loss_step', '_timestamp'])\n",
      "dict_keys(['trainer/global_step', '_step', '_runtime', 'val_loss_step', '_timestamp'])\n",
      "dict_keys(['trainer/global_step', '_step', '_runtime', 'val_loss_step', '_timestamp'])\n",
      "dict_keys(['trainer/global_step', '_step', '_runtime', 'val_loss_step', '_timestamp'])\n",
      "dict_keys(['trainer/global_step', '_step', '_runtime', 'val_loss_step', '_timestamp'])\n",
      "dict_keys(['trainer/global_step', '_step', '_runtime', 'val_loss_step', '_timestamp'])\n",
      "dict_keys(['trainer/global_step', '_step', '_runtime', 'val_loss_step', '_timestamp'])\n",
      "dict_keys(['trainer/global_step', '_step', '_runtime', 'val_loss_step', '_timestamp'])\n",
      "dict_keys(['trainer/global_step', '_step', '_runtime', 'val_loss_step', '_timestamp'])\n",
      "dict_keys(['trainer/global_step', '_step', '_runtime', 'val_loss_step', '_timestamp'])\n",
      "dict_keys(['trainer/global_step', '_step', '_runtime', 'val_loss_step', '_timestamp'])\n",
      "dict_keys(['trainer/global_step', '_step', '_runtime', 'val_loss_step', '_timestamp'])\n",
      "dict_keys(['trainer/global_step', '_step', '_runtime', 'val_loss_step', '_timestamp'])\n",
      "dict_keys(['trainer/global_step', '_step', '_runtime', 'val_loss_step', '_timestamp'])\n",
      "dict_keys(['trainer/global_step', '_step', '_runtime', 'val_loss_step', '_timestamp'])\n",
      "dict_keys(['trainer/global_step', '_step', '_runtime', 'val_loss_step', '_timestamp'])\n",
      "dict_keys(['trainer/global_step', '_step', '_runtime', 'val_loss_step', '_timestamp'])\n",
      "dict_keys(['trainer/global_step', '_step', '_runtime', 'val_loss_step', '_timestamp'])\n",
      "dict_keys(['trainer/global_step', '_step', '_runtime', 'val_loss_step', '_timestamp'])\n",
      "dict_keys(['trainer/global_step', '_step', '_runtime', 'val_loss_step', '_timestamp'])\n",
      "dict_keys(['trainer/global_step', '_step', '_runtime', 'val_loss_step', '_timestamp'])\n",
      "dict_keys(['trainer/global_step', '_step', '_runtime', 'val_loss_step', '_timestamp'])\n",
      "dict_keys(['trainer/global_step', '_step', '_runtime', 'val_loss_step', '_timestamp'])\n",
      "dict_keys(['trainer/global_step', '_step', '_runtime', 'val_loss_step', '_timestamp'])\n",
      "dict_keys(['trainer/global_step', '_step', '_runtime', 'val_loss_step', '_timestamp'])\n",
      "dict_keys(['trainer/global_step', '_step', '_runtime', 'val_loss_step', '_timestamp'])\n",
      "dict_keys(['trainer/global_step', '_step', '_runtime', 'val_loss_step', '_timestamp'])\n",
      "dict_keys(['trainer/global_step', '_step', '_runtime', 'val_loss_step', '_timestamp'])\n",
      "dict_keys(['trainer/global_step', '_step', '_runtime', 'val_loss_step', '_timestamp'])\n",
      "dict_keys(['trainer/global_step', '_step', '_runtime', 'val_loss_step', '_timestamp'])\n",
      "dict_keys(['trainer/global_step', '_step', '_runtime', 'val_loss_step', '_timestamp'])\n",
      "dict_keys(['trainer/global_step', '_step', '_runtime', 'val_loss_step', '_timestamp'])\n",
      "dict_keys(['trainer/global_step', '_step', '_runtime', 'val_loss_step', '_timestamp'])\n",
      "dict_keys(['trainer/global_step', '_step', '_runtime', 'val_loss_step', '_timestamp'])\n",
      "dict_keys(['trainer/global_step', '_step', '_runtime', 'val_loss_step', '_timestamp'])\n",
      "dict_keys(['trainer/global_step', '_step', '_runtime', 'val_loss_step', '_timestamp'])\n",
      "dict_keys(['trainer/global_step', '_step', '_runtime', 'val_loss_step', '_timestamp'])\n",
      "dict_keys(['trainer/global_step', '_step', '_runtime', 'val_loss_step', '_timestamp'])\n",
      "dict_keys(['trainer/global_step', '_step', '_runtime', 'val_loss_step', '_timestamp'])\n",
      "dict_keys(['trainer/global_step', '_step', '_runtime', 'val_loss_step', '_timestamp'])\n",
      "dict_keys(['trainer/global_step', '_step', '_runtime', 'val_loss_step', '_timestamp'])\n",
      "dict_keys(['trainer/global_step', '_step', '_runtime', 'val_loss_step', '_timestamp'])\n",
      "dict_keys(['trainer/global_step', '_step', '_runtime', 'val_loss_step', '_timestamp'])\n",
      "dict_keys(['trainer/global_step', '_step', '_runtime', 'val_loss_step', '_timestamp'])\n",
      "dict_keys(['trainer/global_step', '_step', '_runtime', 'val_loss_step', '_timestamp'])\n",
      "dict_keys(['trainer/global_step', '_step', '_runtime', 'val_loss_step', '_timestamp'])\n",
      "dict_keys(['trainer/global_step', '_step', '_runtime', 'val_loss_step', '_timestamp'])\n",
      "dict_keys(['trainer/global_step', '_step', '_runtime', 'val_loss_step', '_timestamp'])\n",
      "dict_keys(['trainer/global_step', '_step', '_runtime', 'val_loss_step', '_timestamp'])\n",
      "dict_keys(['trainer/global_step', '_step', '_runtime', 'val_loss_step', '_timestamp'])\n",
      "dict_keys(['trainer/global_step', '_step', '_runtime', 'val_loss_step', '_timestamp'])\n",
      "dict_keys(['trainer/global_step', '_step', '_runtime', 'val_loss_step', '_timestamp'])\n",
      "dict_keys(['trainer/global_step', '_step', '_runtime', 'val_loss_step', '_timestamp'])\n",
      "dict_keys(['trainer/global_step', '_step', '_runtime', 'val_loss_step', '_timestamp'])\n",
      "dict_keys(['trainer/global_step', '_step', '_runtime', 'val_loss_step', '_timestamp'])\n",
      "dict_keys(['trainer/global_step', '_step', '_runtime', 'val_loss_step', '_timestamp'])\n",
      "dict_keys(['trainer/global_step', '_step', '_runtime', 'val_loss_step', '_timestamp'])\n",
      "dict_keys(['trainer/global_step', '_step', '_runtime', 'val_loss_step', '_timestamp'])\n",
      "dict_keys(['trainer/global_step', '_step', '_runtime', 'val_loss_step', '_timestamp'])\n",
      "dict_keys(['trainer/global_step', '_step', '_runtime', 'val_loss_step', '_timestamp'])\n",
      "dict_keys(['trainer/global_step', '_step', '_runtime', 'val_loss_step', '_timestamp'])\n",
      "dict_keys(['trainer/global_step', '_step', '_runtime', 'val_loss_step', '_timestamp'])\n",
      "dict_keys(['trainer/global_step', '_step', '_runtime', 'val_loss_step', '_timestamp'])\n",
      "dict_keys(['trainer/global_step', '_step', '_runtime', 'val_loss_step', '_timestamp'])\n",
      "dict_keys(['trainer/global_step', '_step', '_runtime', 'val_loss_step', '_timestamp'])\n",
      "dict_keys(['trainer/global_step', '_step', '_runtime', 'val_loss_step', '_timestamp'])\n",
      "dict_keys(['trainer/global_step', '_step', '_runtime', 'val_loss_step', '_timestamp'])\n",
      "dict_keys(['trainer/global_step', '_step', '_runtime', 'val_loss_step', '_timestamp'])\n",
      "dict_keys(['trainer/global_step', '_step', '_runtime', 'val_loss_step', '_timestamp'])\n",
      "dict_keys(['trainer/global_step', '_step', '_runtime', 'val_loss_step', '_timestamp'])\n",
      "dict_keys(['trainer/global_step', '_step', '_runtime', 'val_loss_step', '_timestamp'])\n",
      "dict_keys(['trainer/global_step', '_step', '_runtime', 'val_loss_step', '_timestamp'])\n",
      "dict_keys(['trainer/global_step', '_step', '_runtime', 'val_loss_step', '_timestamp'])\n",
      "dict_keys(['trainer/global_step', '_step', '_runtime', 'val_loss_step', '_timestamp'])\n",
      "dict_keys(['trainer/global_step', '_step', '_runtime', 'val_loss_step', '_timestamp'])\n",
      "dict_keys(['trainer/global_step', '_step', '_runtime', 'val_loss_step', '_timestamp'])\n",
      "dict_keys(['trainer/global_step', '_step', '_runtime', 'val_loss_step', '_timestamp'])\n",
      "dict_keys(['trainer/global_step', '_step', '_runtime', 'val_loss_step', '_timestamp'])\n",
      "dict_keys(['trainer/global_step', '_step', '_runtime', 'val_loss_step', '_timestamp'])\n",
      "dict_keys(['trainer/global_step', '_step', '_runtime', 'val_loss_step', '_timestamp'])\n",
      "dict_keys(['trainer/global_step', '_step', '_runtime', 'val_loss_step', '_timestamp'])\n",
      "dict_keys(['trainer/global_step', '_step', '_runtime', 'val_loss_step', '_timestamp'])\n",
      "dict_keys(['trainer/global_step', '_step', '_runtime', 'val_loss_step', '_timestamp'])\n",
      "dict_keys(['trainer/global_step', '_step', '_runtime', 'val_loss_step', '_timestamp'])\n",
      "dict_keys(['trainer/global_step', '_step', '_runtime', 'val_loss_step', '_timestamp'])\n",
      "dict_keys(['trainer/global_step', '_step', '_runtime', 'val_loss_step', '_timestamp'])\n",
      "dict_keys(['trainer/global_step', '_step', '_runtime', 'val_loss_step', '_timestamp'])\n",
      "dict_keys(['trainer/global_step', '_step', '_runtime', 'val_loss_step', '_timestamp'])\n",
      "dict_keys(['trainer/global_step', '_step', '_runtime', 'val_loss_step', '_timestamp'])\n",
      "dict_keys(['trainer/global_step', '_step', '_runtime', 'val_loss_step', '_timestamp'])\n",
      "dict_keys(['trainer/global_step', '_step', '_runtime', 'val_loss_step', '_timestamp'])\n",
      "dict_keys(['trainer/global_step', '_step', '_runtime', 'val_loss_step', '_timestamp'])\n",
      "dict_keys(['trainer/global_step', '_step', '_runtime', 'val_loss_step', '_timestamp'])\n",
      "dict_keys(['trainer/global_step', '_step', '_runtime', 'val_loss_step', '_timestamp'])\n",
      "dict_keys(['trainer/global_step', '_step', '_runtime', 'val_loss_step', '_timestamp'])\n",
      "dict_keys(['trainer/global_step', '_step', '_runtime', 'val_loss_step', '_timestamp'])\n",
      "dict_keys(['trainer/global_step', '_step', '_runtime', 'val_loss_step', '_timestamp'])\n",
      "dict_keys(['trainer/global_step', '_step', '_runtime', 'val_loss_step', '_timestamp'])\n",
      "dict_keys(['trainer/global_step', '_step', '_runtime', 'val_loss_step', '_timestamp'])\n",
      "dict_keys(['trainer/global_step', '_step', '_runtime', 'val_loss_step', '_timestamp'])\n",
      "dict_keys(['trainer/global_step', '_step', '_runtime', 'val_loss_step', '_timestamp'])\n",
      "dict_keys(['trainer/global_step', '_step', '_runtime', 'val_loss_step', '_timestamp'])\n",
      "dict_keys(['trainer/global_step', '_step', '_runtime', 'val_loss_step', '_timestamp'])\n",
      "dict_keys(['trainer/global_step', '_step', '_runtime', 'val_loss_step', '_timestamp'])\n",
      "dict_keys(['trainer/global_step', '_step', '_runtime', 'val_loss_step', '_timestamp'])\n",
      "dict_keys(['trainer/global_step', '_step', '_runtime', 'val_loss_step', '_timestamp'])\n",
      "dict_keys(['trainer/global_step', '_step', '_runtime', 'val_loss_step', '_timestamp'])\n",
      "dict_keys(['trainer/global_step', '_step', '_runtime', 'val_loss_step', '_timestamp'])\n",
      "dict_keys(['trainer/global_step', '_step', '_runtime', 'val_loss_step', '_timestamp'])\n",
      "dict_keys(['trainer/global_step', '_step', '_runtime', 'val_loss_step', '_timestamp'])\n",
      "dict_keys(['trainer/global_step', '_step', '_runtime', 'val_loss_step', '_timestamp'])\n",
      "dict_keys(['trainer/global_step', '_step', '_runtime', 'val_loss_step', '_timestamp'])\n",
      "dict_keys(['trainer/global_step', '_step', '_runtime', 'val_loss_step', '_timestamp'])\n",
      "dict_keys(['trainer/global_step', '_step', '_runtime', 'val_loss_step', '_timestamp'])\n",
      "dict_keys(['trainer/global_step', '_step', '_runtime', 'val_loss_step', '_timestamp'])\n",
      "dict_keys(['trainer/global_step', '_step', '_runtime', 'val_loss_step', '_timestamp'])\n",
      "dict_keys(['trainer/global_step', '_step', '_runtime', 'val_loss_step', '_timestamp'])\n",
      "dict_keys(['trainer/global_step', '_step', '_runtime', 'val_loss_step', '_timestamp'])\n",
      "dict_keys(['trainer/global_step', '_step', '_runtime', 'val_loss_step', '_timestamp'])\n",
      "dict_keys(['trainer/global_step', '_step', '_runtime', 'val_loss_step', '_timestamp'])\n",
      "dict_keys(['trainer/global_step', '_step', '_runtime', 'val_loss_step', '_timestamp'])\n",
      "dict_keys(['trainer/global_step', '_step', '_runtime', 'val_loss_step', '_timestamp'])\n",
      "dict_keys(['trainer/global_step', '_step', '_runtime', 'val_loss_step', '_timestamp'])\n",
      "dict_keys(['trainer/global_step', '_step', '_runtime', 'val_loss_step', '_timestamp'])\n",
      "dict_keys(['trainer/global_step', '_step', '_runtime', 'val_loss_step', '_timestamp'])\n",
      "dict_keys(['trainer/global_step', '_step', '_runtime', 'val_loss_step', '_timestamp'])\n",
      "dict_keys(['trainer/global_step', '_step', '_runtime', 'val_loss_step', '_timestamp'])\n",
      "dict_keys(['trainer/global_step', '_step', '_runtime', 'val_loss_step', '_timestamp'])\n",
      "dict_keys(['trainer/global_step', '_step', '_runtime', 'val_loss_step', '_timestamp'])\n",
      "dict_keys(['trainer/global_step', '_step', '_runtime', 'val_loss_step', '_timestamp'])\n",
      "dict_keys(['trainer/global_step', '_step', '_runtime', 'val_loss_step', '_timestamp'])\n",
      "dict_keys(['trainer/global_step', '_step', '_runtime', 'val_loss_step', '_timestamp'])\n",
      "dict_keys(['trainer/global_step', '_step', '_runtime', 'val_loss_step', '_timestamp'])\n",
      "dict_keys(['trainer/global_step', '_step', '_runtime', 'val_loss_step', '_timestamp'])\n",
      "dict_keys(['trainer/global_step', '_step', '_runtime', 'val_loss_step', '_timestamp'])\n",
      "dict_keys(['trainer/global_step', '_step', '_runtime', 'val_loss_step', '_timestamp'])\n",
      "dict_keys(['trainer/global_step', '_step', '_runtime', 'val_loss_step', '_timestamp'])\n",
      "dict_keys(['trainer/global_step', '_step', '_runtime', 'val_loss_step', '_timestamp'])\n",
      "dict_keys(['val_median_f1', 'val_auroc', 'trainer/global_step', 'val_per_class_recall', '_step', 'val_confusion_matrix', 'val_f1', '_runtime', 'val_total_accuracy', 'val_recall', 'val_balanced_accuracy', 'val_weighted_accuracy', 'val_loss_epoch', 'epoch', 'val_per_class_f1', 'val_precision', 'val_per_class_precision', '_timestamp', 'val_specificity'])\n",
      "dict_keys(['train_precision', 'trainer/global_step', 'train_f1', '_step', 'train_auroc', 'train_specificity', '_runtime', 'train_loss_epoch', 'train_confusion_matrix', 'train_weighted_accuracy', 'train_balanced_accuracy', 'train_total_accuracy', 'train_per_class_recall', 'epoch', 'train_per_class_precision', 'train_recall', 'train_per_class_f1', '_timestamp'])\n",
      "dict_keys(['trainer/global_step', '_step', '_runtime', 'lr-Adam', '_timestamp'])\n",
      "dict_keys(['trainer/global_step', '_step', '_runtime', 'train_loss_step', 'epoch', '_timestamp'])\n",
      "dict_keys(['trainer/global_step', '_step', '_runtime', 'train_loss_step', 'epoch', '_timestamp'])\n",
      "dict_keys(['trainer/global_step', '_step', '_runtime', 'train_loss_step', 'epoch', '_timestamp'])\n",
      "dict_keys(['trainer/global_step', '_step', '_runtime', 'train_loss_step', 'epoch', '_timestamp'])\n",
      "dict_keys(['trainer/global_step', '_step', '_runtime', 'train_loss_step', 'epoch', '_timestamp'])\n",
      "dict_keys(['trainer/global_step', '_step', '_runtime', 'train_loss_step', 'epoch', '_timestamp'])\n",
      "dict_keys(['trainer/global_step', '_step', '_runtime', 'train_loss_step', 'epoch', '_timestamp'])\n",
      "dict_keys(['trainer/global_step', '_step', '_runtime', 'train_loss_step', 'epoch', '_timestamp'])\n",
      "dict_keys(['trainer/global_step', '_step', '_runtime', 'train_loss_step', 'epoch', '_timestamp'])\n",
      "dict_keys(['trainer/global_step', '_step', '_runtime', 'train_loss_step', 'epoch', '_timestamp'])\n",
      "dict_keys(['trainer/global_step', '_step', '_runtime', 'train_loss_step', 'epoch', '_timestamp'])\n",
      "dict_keys(['trainer/global_step', '_step', '_runtime', 'train_loss_step', 'epoch', '_timestamp'])\n",
      "dict_keys(['trainer/global_step', '_step', '_runtime', 'train_loss_step', 'epoch', '_timestamp'])\n",
      "dict_keys(['trainer/global_step', '_step', '_runtime', 'train_loss_step', 'epoch', '_timestamp'])\n",
      "dict_keys(['trainer/global_step', '_step', '_runtime', 'train_loss_step', 'epoch', '_timestamp'])\n",
      "dict_keys(['trainer/global_step', '_step', '_runtime', 'train_loss_step', 'epoch', '_timestamp'])\n",
      "dict_keys(['trainer/global_step', '_step', '_runtime', 'train_loss_step', 'epoch', '_timestamp'])\n",
      "dict_keys(['trainer/global_step', '_step', '_runtime', 'train_loss_step', 'epoch', '_timestamp'])\n",
      "dict_keys(['trainer/global_step', '_step', '_runtime', 'train_loss_step', 'epoch', '_timestamp'])\n",
      "dict_keys(['trainer/global_step', '_step', '_runtime', 'val_loss_step', '_timestamp'])\n",
      "dict_keys(['trainer/global_step', '_step', '_runtime', 'val_loss_step', '_timestamp'])\n",
      "dict_keys(['trainer/global_step', '_step', '_runtime', 'val_loss_step', '_timestamp'])\n",
      "dict_keys(['trainer/global_step', '_step', '_runtime', 'val_loss_step', '_timestamp'])\n",
      "dict_keys(['trainer/global_step', '_step', '_runtime', 'val_loss_step', '_timestamp'])\n",
      "dict_keys(['trainer/global_step', '_step', '_runtime', 'val_loss_step', '_timestamp'])\n",
      "dict_keys(['trainer/global_step', '_step', '_runtime', 'val_loss_step', '_timestamp'])\n",
      "dict_keys(['trainer/global_step', '_step', '_runtime', 'val_loss_step', '_timestamp'])\n",
      "dict_keys(['trainer/global_step', '_step', '_runtime', 'val_loss_step', '_timestamp'])\n",
      "dict_keys(['trainer/global_step', '_step', '_runtime', 'val_loss_step', '_timestamp'])\n",
      "dict_keys(['trainer/global_step', '_step', '_runtime', 'val_loss_step', '_timestamp'])\n",
      "dict_keys(['trainer/global_step', '_step', '_runtime', 'val_loss_step', '_timestamp'])\n",
      "dict_keys(['trainer/global_step', '_step', '_runtime', 'val_loss_step', '_timestamp'])\n",
      "dict_keys(['trainer/global_step', '_step', '_runtime', 'val_loss_step', '_timestamp'])\n",
      "dict_keys(['trainer/global_step', '_step', '_runtime', 'val_loss_step', '_timestamp'])\n",
      "dict_keys(['trainer/global_step', '_step', '_runtime', 'val_loss_step', '_timestamp'])\n",
      "dict_keys(['trainer/global_step', '_step', '_runtime', 'val_loss_step', '_timestamp'])\n",
      "dict_keys(['trainer/global_step', '_step', '_runtime', 'val_loss_step', '_timestamp'])\n",
      "dict_keys(['trainer/global_step', '_step', '_runtime', 'val_loss_step', '_timestamp'])\n",
      "dict_keys(['trainer/global_step', '_step', '_runtime', 'val_loss_step', '_timestamp'])\n",
      "dict_keys(['trainer/global_step', '_step', '_runtime', 'val_loss_step', '_timestamp'])\n",
      "dict_keys(['trainer/global_step', '_step', '_runtime', 'val_loss_step', '_timestamp'])\n",
      "dict_keys(['trainer/global_step', '_step', '_runtime', 'val_loss_step', '_timestamp'])\n",
      "dict_keys(['trainer/global_step', '_step', '_runtime', 'val_loss_step', '_timestamp'])\n",
      "dict_keys(['trainer/global_step', '_step', '_runtime', 'val_loss_step', '_timestamp'])\n",
      "dict_keys(['trainer/global_step', '_step', '_runtime', 'val_loss_step', '_timestamp'])\n",
      "dict_keys(['trainer/global_step', '_step', '_runtime', 'val_loss_step', '_timestamp'])\n",
      "dict_keys(['trainer/global_step', '_step', '_runtime', 'val_loss_step', '_timestamp'])\n",
      "dict_keys(['trainer/global_step', '_step', '_runtime', 'val_loss_step', '_timestamp'])\n",
      "dict_keys(['trainer/global_step', '_step', '_runtime', 'val_loss_step', '_timestamp'])\n",
      "dict_keys(['trainer/global_step', '_step', '_runtime', 'val_loss_step', '_timestamp'])\n",
      "dict_keys(['trainer/global_step', '_step', '_runtime', 'val_loss_step', '_timestamp'])\n",
      "dict_keys(['trainer/global_step', '_step', '_runtime', 'val_loss_step', '_timestamp'])\n",
      "dict_keys(['trainer/global_step', '_step', '_runtime', 'val_loss_step', '_timestamp'])\n",
      "dict_keys(['trainer/global_step', '_step', '_runtime', 'val_loss_step', '_timestamp'])\n",
      "dict_keys(['trainer/global_step', '_step', '_runtime', 'val_loss_step', '_timestamp'])\n",
      "dict_keys(['trainer/global_step', '_step', '_runtime', 'val_loss_step', '_timestamp'])\n",
      "dict_keys(['trainer/global_step', '_step', '_runtime', 'val_loss_step', '_timestamp'])\n",
      "dict_keys(['trainer/global_step', '_step', '_runtime', 'val_loss_step', '_timestamp'])\n",
      "dict_keys(['trainer/global_step', '_step', '_runtime', 'val_loss_step', '_timestamp'])\n",
      "dict_keys(['trainer/global_step', '_step', '_runtime', 'val_loss_step', '_timestamp'])\n",
      "dict_keys(['trainer/global_step', '_step', '_runtime', 'val_loss_step', '_timestamp'])\n",
      "dict_keys(['trainer/global_step', '_step', '_runtime', 'val_loss_step', '_timestamp'])\n",
      "dict_keys(['trainer/global_step', '_step', '_runtime', 'val_loss_step', '_timestamp'])\n",
      "dict_keys(['trainer/global_step', '_step', '_runtime', 'val_loss_step', '_timestamp'])\n",
      "dict_keys(['trainer/global_step', '_step', '_runtime', 'val_loss_step', '_timestamp'])\n",
      "dict_keys(['trainer/global_step', '_step', '_runtime', 'val_loss_step', '_timestamp'])\n",
      "dict_keys(['trainer/global_step', '_step', '_runtime', 'val_loss_step', '_timestamp'])\n",
      "dict_keys(['trainer/global_step', '_step', '_runtime', 'val_loss_step', '_timestamp'])\n",
      "dict_keys(['trainer/global_step', '_step', '_runtime', 'val_loss_step', '_timestamp'])\n",
      "dict_keys(['trainer/global_step', '_step', '_runtime', 'val_loss_step', '_timestamp'])\n",
      "dict_keys(['trainer/global_step', '_step', '_runtime', 'val_loss_step', '_timestamp'])\n",
      "dict_keys(['trainer/global_step', '_step', '_runtime', 'val_loss_step', '_timestamp'])\n",
      "dict_keys(['trainer/global_step', '_step', '_runtime', 'val_loss_step', '_timestamp'])\n",
      "dict_keys(['trainer/global_step', '_step', '_runtime', 'val_loss_step', '_timestamp'])\n",
      "dict_keys(['trainer/global_step', '_step', '_runtime', 'val_loss_step', '_timestamp'])\n",
      "dict_keys(['trainer/global_step', '_step', '_runtime', 'val_loss_step', '_timestamp'])\n",
      "dict_keys(['trainer/global_step', '_step', '_runtime', 'val_loss_step', '_timestamp'])\n",
      "dict_keys(['trainer/global_step', '_step', '_runtime', 'val_loss_step', '_timestamp'])\n",
      "dict_keys(['trainer/global_step', '_step', '_runtime', 'val_loss_step', '_timestamp'])\n",
      "dict_keys(['trainer/global_step', '_step', '_runtime', 'val_loss_step', '_timestamp'])\n",
      "dict_keys(['trainer/global_step', '_step', '_runtime', 'val_loss_step', '_timestamp'])\n",
      "dict_keys(['trainer/global_step', '_step', '_runtime', 'val_loss_step', '_timestamp'])\n",
      "dict_keys(['trainer/global_step', '_step', '_runtime', 'val_loss_step', '_timestamp'])\n",
      "dict_keys(['trainer/global_step', '_step', '_runtime', 'val_loss_step', '_timestamp'])\n",
      "dict_keys(['trainer/global_step', '_step', '_runtime', 'val_loss_step', '_timestamp'])\n",
      "dict_keys(['trainer/global_step', '_step', '_runtime', 'val_loss_step', '_timestamp'])\n",
      "dict_keys(['trainer/global_step', '_step', '_runtime', 'val_loss_step', '_timestamp'])\n",
      "dict_keys(['trainer/global_step', '_step', '_runtime', 'val_loss_step', '_timestamp'])\n",
      "dict_keys(['trainer/global_step', '_step', '_runtime', 'val_loss_step', '_timestamp'])\n",
      "dict_keys(['trainer/global_step', '_step', '_runtime', 'val_loss_step', '_timestamp'])\n",
      "dict_keys(['trainer/global_step', '_step', '_runtime', 'val_loss_step', '_timestamp'])\n",
      "dict_keys(['trainer/global_step', '_step', '_runtime', 'val_loss_step', '_timestamp'])\n",
      "dict_keys(['trainer/global_step', '_step', '_runtime', 'val_loss_step', '_timestamp'])\n",
      "dict_keys(['trainer/global_step', '_step', '_runtime', 'val_loss_step', '_timestamp'])\n",
      "dict_keys(['trainer/global_step', '_step', '_runtime', 'val_loss_step', '_timestamp'])\n",
      "dict_keys(['trainer/global_step', '_step', '_runtime', 'val_loss_step', '_timestamp'])\n",
      "dict_keys(['trainer/global_step', '_step', '_runtime', 'val_loss_step', '_timestamp'])\n",
      "dict_keys(['trainer/global_step', '_step', '_runtime', 'val_loss_step', '_timestamp'])\n",
      "dict_keys(['trainer/global_step', '_step', '_runtime', 'val_loss_step', '_timestamp'])\n",
      "dict_keys(['trainer/global_step', '_step', '_runtime', 'val_loss_step', '_timestamp'])\n",
      "dict_keys(['trainer/global_step', '_step', '_runtime', 'val_loss_step', '_timestamp'])\n",
      "dict_keys(['trainer/global_step', '_step', '_runtime', 'val_loss_step', '_timestamp'])\n",
      "dict_keys(['trainer/global_step', '_step', '_runtime', 'val_loss_step', '_timestamp'])\n",
      "dict_keys(['trainer/global_step', '_step', '_runtime', 'val_loss_step', '_timestamp'])\n",
      "dict_keys(['trainer/global_step', '_step', '_runtime', 'val_loss_step', '_timestamp'])\n",
      "dict_keys(['trainer/global_step', '_step', '_runtime', 'val_loss_step', '_timestamp'])\n",
      "dict_keys(['trainer/global_step', '_step', '_runtime', 'val_loss_step', '_timestamp'])\n",
      "dict_keys(['trainer/global_step', '_step', '_runtime', 'val_loss_step', '_timestamp'])\n",
      "dict_keys(['trainer/global_step', '_step', '_runtime', 'val_loss_step', '_timestamp'])\n",
      "dict_keys(['trainer/global_step', '_step', '_runtime', 'val_loss_step', '_timestamp'])\n",
      "dict_keys(['trainer/global_step', '_step', '_runtime', 'val_loss_step', '_timestamp'])\n",
      "dict_keys(['trainer/global_step', '_step', '_runtime', 'val_loss_step', '_timestamp'])\n",
      "dict_keys(['trainer/global_step', '_step', '_runtime', 'val_loss_step', '_timestamp'])\n",
      "dict_keys(['trainer/global_step', '_step', '_runtime', 'val_loss_step', '_timestamp'])\n",
      "dict_keys(['trainer/global_step', '_step', '_runtime', 'val_loss_step', '_timestamp'])\n",
      "dict_keys(['trainer/global_step', '_step', '_runtime', 'val_loss_step', '_timestamp'])\n",
      "dict_keys(['trainer/global_step', '_step', '_runtime', 'val_loss_step', '_timestamp'])\n",
      "dict_keys(['trainer/global_step', '_step', '_runtime', 'val_loss_step', '_timestamp'])\n",
      "dict_keys(['trainer/global_step', '_step', '_runtime', 'val_loss_step', '_timestamp'])\n",
      "dict_keys(['trainer/global_step', '_step', '_runtime', 'val_loss_step', '_timestamp'])\n",
      "dict_keys(['trainer/global_step', '_step', '_runtime', 'val_loss_step', '_timestamp'])\n",
      "dict_keys(['trainer/global_step', '_step', '_runtime', 'val_loss_step', '_timestamp'])\n",
      "dict_keys(['trainer/global_step', '_step', '_runtime', 'val_loss_step', '_timestamp'])\n",
      "dict_keys(['trainer/global_step', '_step', '_runtime', 'val_loss_step', '_timestamp'])\n",
      "dict_keys(['trainer/global_step', '_step', '_runtime', 'val_loss_step', '_timestamp'])\n",
      "dict_keys(['trainer/global_step', '_step', '_runtime', 'val_loss_step', '_timestamp'])\n",
      "dict_keys(['trainer/global_step', '_step', '_runtime', 'val_loss_step', '_timestamp'])\n",
      "dict_keys(['trainer/global_step', '_step', '_runtime', 'val_loss_step', '_timestamp'])\n",
      "dict_keys(['trainer/global_step', '_step', '_runtime', 'val_loss_step', '_timestamp'])\n",
      "dict_keys(['trainer/global_step', '_step', '_runtime', 'val_loss_step', '_timestamp'])\n",
      "dict_keys(['trainer/global_step', '_step', '_runtime', 'val_loss_step', '_timestamp'])\n",
      "dict_keys(['trainer/global_step', '_step', '_runtime', 'val_loss_step', '_timestamp'])\n",
      "dict_keys(['trainer/global_step', '_step', '_runtime', 'val_loss_step', '_timestamp'])\n",
      "dict_keys(['trainer/global_step', '_step', '_runtime', 'val_loss_step', '_timestamp'])\n",
      "dict_keys(['trainer/global_step', '_step', '_runtime', 'val_loss_step', '_timestamp'])\n",
      "dict_keys(['trainer/global_step', '_step', '_runtime', 'val_loss_step', '_timestamp'])\n",
      "dict_keys(['trainer/global_step', '_step', '_runtime', 'val_loss_step', '_timestamp'])\n",
      "dict_keys(['trainer/global_step', '_step', '_runtime', 'val_loss_step', '_timestamp'])\n",
      "dict_keys(['trainer/global_step', '_step', '_runtime', 'val_loss_step', '_timestamp'])\n",
      "dict_keys(['trainer/global_step', '_step', '_runtime', 'val_loss_step', '_timestamp'])\n",
      "dict_keys(['trainer/global_step', '_step', '_runtime', 'val_loss_step', '_timestamp'])\n",
      "dict_keys(['trainer/global_step', '_step', '_runtime', 'val_loss_step', '_timestamp'])\n",
      "dict_keys(['trainer/global_step', '_step', '_runtime', 'val_loss_step', '_timestamp'])\n",
      "dict_keys(['trainer/global_step', '_step', '_runtime', 'val_loss_step', '_timestamp'])\n",
      "dict_keys(['trainer/global_step', '_step', '_runtime', 'val_loss_step', '_timestamp'])\n",
      "dict_keys(['trainer/global_step', '_step', '_runtime', 'val_loss_step', '_timestamp'])\n",
      "dict_keys(['trainer/global_step', '_step', '_runtime', 'val_loss_step', '_timestamp'])\n",
      "dict_keys(['trainer/global_step', '_step', '_runtime', 'val_loss_step', '_timestamp'])\n",
      "dict_keys(['trainer/global_step', '_step', '_runtime', 'val_loss_step', '_timestamp'])\n",
      "dict_keys(['trainer/global_step', '_step', '_runtime', 'val_loss_step', '_timestamp'])\n",
      "dict_keys(['trainer/global_step', '_step', '_runtime', 'val_loss_step', '_timestamp'])\n",
      "dict_keys(['trainer/global_step', '_step', '_runtime', 'val_loss_step', '_timestamp'])\n",
      "dict_keys(['trainer/global_step', '_step', '_runtime', 'val_loss_step', '_timestamp'])\n",
      "dict_keys(['trainer/global_step', '_step', '_runtime', 'val_loss_step', '_timestamp'])\n",
      "dict_keys(['trainer/global_step', '_step', '_runtime', 'val_loss_step', '_timestamp'])\n",
      "dict_keys(['trainer/global_step', '_step', '_runtime', 'val_loss_step', '_timestamp'])\n",
      "dict_keys(['trainer/global_step', '_step', '_runtime', 'val_loss_step', '_timestamp'])\n",
      "dict_keys(['trainer/global_step', '_step', '_runtime', 'val_loss_step', '_timestamp'])\n",
      "dict_keys(['trainer/global_step', '_step', '_runtime', 'val_loss_step', '_timestamp'])\n",
      "dict_keys(['trainer/global_step', '_step', '_runtime', 'val_loss_step', '_timestamp'])\n",
      "dict_keys(['trainer/global_step', '_step', '_runtime', 'val_loss_step', '_timestamp'])\n",
      "dict_keys(['trainer/global_step', '_step', '_runtime', 'val_loss_step', '_timestamp'])\n",
      "dict_keys(['trainer/global_step', '_step', '_runtime', 'val_loss_step', '_timestamp'])\n",
      "dict_keys(['trainer/global_step', '_step', '_runtime', 'val_loss_step', '_timestamp'])\n",
      "dict_keys(['trainer/global_step', '_step', '_runtime', 'val_loss_step', '_timestamp'])\n",
      "dict_keys(['trainer/global_step', '_step', '_runtime', 'val_loss_step', '_timestamp'])\n",
      "dict_keys(['trainer/global_step', '_step', '_runtime', 'val_loss_step', '_timestamp'])\n",
      "dict_keys(['trainer/global_step', '_step', '_runtime', 'val_loss_step', '_timestamp'])\n",
      "dict_keys(['trainer/global_step', '_step', '_runtime', 'val_loss_step', '_timestamp'])\n",
      "dict_keys(['trainer/global_step', '_step', '_runtime', 'val_loss_step', '_timestamp'])\n",
      "dict_keys(['trainer/global_step', '_step', '_runtime', 'val_loss_step', '_timestamp'])\n",
      "dict_keys(['trainer/global_step', '_step', '_runtime', 'val_loss_step', '_timestamp'])\n",
      "dict_keys(['trainer/global_step', '_step', '_runtime', 'val_loss_step', '_timestamp'])\n",
      "dict_keys(['trainer/global_step', '_step', '_runtime', 'val_loss_step', '_timestamp'])\n",
      "dict_keys(['trainer/global_step', '_step', '_runtime', 'val_loss_step', '_timestamp'])\n",
      "dict_keys(['trainer/global_step', '_step', '_runtime', 'val_loss_step', '_timestamp'])\n",
      "dict_keys(['trainer/global_step', '_step', '_runtime', 'val_loss_step', '_timestamp'])\n",
      "dict_keys(['trainer/global_step', '_step', '_runtime', 'val_loss_step', '_timestamp'])\n",
      "dict_keys(['trainer/global_step', '_step', '_runtime', 'val_loss_step', '_timestamp'])\n",
      "dict_keys(['trainer/global_step', '_step', '_runtime', 'val_loss_step', '_timestamp'])\n",
      "dict_keys(['trainer/global_step', '_step', '_runtime', 'val_loss_step', '_timestamp'])\n",
      "dict_keys(['trainer/global_step', '_step', '_runtime', 'val_loss_step', '_timestamp'])\n",
      "dict_keys(['trainer/global_step', '_step', '_runtime', 'val_loss_step', '_timestamp'])\n",
      "dict_keys(['trainer/global_step', '_step', '_runtime', 'val_loss_step', '_timestamp'])\n",
      "dict_keys(['trainer/global_step', '_step', '_runtime', 'val_loss_step', '_timestamp'])\n",
      "dict_keys(['trainer/global_step', '_step', '_runtime', 'val_loss_step', '_timestamp'])\n",
      "dict_keys(['trainer/global_step', '_step', '_runtime', 'val_loss_step', '_timestamp'])\n",
      "dict_keys(['trainer/global_step', '_step', '_runtime', 'val_loss_step', '_timestamp'])\n",
      "dict_keys(['trainer/global_step', '_step', '_runtime', 'val_loss_step', '_timestamp'])\n",
      "dict_keys(['trainer/global_step', '_step', '_runtime', 'val_loss_step', '_timestamp'])\n",
      "dict_keys(['trainer/global_step', '_step', '_runtime', 'val_loss_step', '_timestamp'])\n",
      "dict_keys(['trainer/global_step', '_step', '_runtime', 'val_loss_step', '_timestamp'])\n",
      "dict_keys(['trainer/global_step', '_step', '_runtime', 'val_loss_step', '_timestamp'])\n",
      "dict_keys(['trainer/global_step', '_step', '_runtime', 'val_loss_step', '_timestamp'])\n",
      "dict_keys(['trainer/global_step', '_step', '_runtime', 'val_loss_step', '_timestamp'])\n",
      "dict_keys(['trainer/global_step', '_step', '_runtime', 'val_loss_step', '_timestamp'])\n",
      "dict_keys(['trainer/global_step', '_step', '_runtime', 'val_loss_step', '_timestamp'])\n",
      "dict_keys(['trainer/global_step', '_step', '_runtime', 'val_loss_step', '_timestamp'])\n",
      "dict_keys(['trainer/global_step', '_step', '_runtime', 'val_loss_step', '_timestamp'])\n",
      "dict_keys(['trainer/global_step', '_step', '_runtime', 'val_loss_step', '_timestamp'])\n",
      "dict_keys(['trainer/global_step', '_step', '_runtime', 'val_loss_step', '_timestamp'])\n",
      "dict_keys(['trainer/global_step', '_step', '_runtime', 'val_loss_step', '_timestamp'])\n",
      "dict_keys(['trainer/global_step', '_step', '_runtime', 'val_loss_step', '_timestamp'])\n",
      "dict_keys(['trainer/global_step', '_step', '_runtime', 'val_loss_step', '_timestamp'])\n",
      "dict_keys(['trainer/global_step', '_step', '_runtime', 'val_loss_step', '_timestamp'])\n",
      "dict_keys(['trainer/global_step', '_step', '_runtime', 'val_loss_step', '_timestamp'])\n",
      "dict_keys(['trainer/global_step', '_step', '_runtime', 'val_loss_step', '_timestamp'])\n",
      "dict_keys(['trainer/global_step', '_step', '_runtime', 'val_loss_step', '_timestamp'])\n",
      "dict_keys(['trainer/global_step', '_step', '_runtime', 'val_loss_step', '_timestamp'])\n",
      "dict_keys(['trainer/global_step', '_step', '_runtime', 'val_loss_step', '_timestamp'])\n",
      "dict_keys(['trainer/global_step', '_step', '_runtime', 'val_loss_step', '_timestamp'])\n",
      "dict_keys(['trainer/global_step', '_step', '_runtime', 'val_loss_step', '_timestamp'])\n",
      "dict_keys(['trainer/global_step', '_step', '_runtime', 'val_loss_step', '_timestamp'])\n",
      "dict_keys(['trainer/global_step', '_step', '_runtime', 'val_loss_step', '_timestamp'])\n",
      "dict_keys(['trainer/global_step', '_step', '_runtime', 'val_loss_step', '_timestamp'])\n",
      "dict_keys(['trainer/global_step', '_step', '_runtime', 'val_loss_step', '_timestamp'])\n",
      "dict_keys(['trainer/global_step', '_step', '_runtime', 'val_loss_step', '_timestamp'])\n",
      "dict_keys(['trainer/global_step', '_step', '_runtime', 'val_loss_step', '_timestamp'])\n",
      "dict_keys(['trainer/global_step', '_step', '_runtime', 'val_loss_step', '_timestamp'])\n",
      "dict_keys(['trainer/global_step', '_step', '_runtime', 'val_loss_step', '_timestamp'])\n",
      "dict_keys(['trainer/global_step', '_step', '_runtime', 'val_loss_step', '_timestamp'])\n",
      "dict_keys(['trainer/global_step', '_step', '_runtime', 'val_loss_step', '_timestamp'])\n",
      "dict_keys(['trainer/global_step', '_step', '_runtime', 'val_loss_step', '_timestamp'])\n",
      "dict_keys(['trainer/global_step', '_step', '_runtime', 'val_loss_step', '_timestamp'])\n",
      "dict_keys(['trainer/global_step', '_step', '_runtime', 'val_loss_step', '_timestamp'])\n",
      "dict_keys(['trainer/global_step', '_step', '_runtime', 'val_loss_step', '_timestamp'])\n",
      "dict_keys(['trainer/global_step', '_step', '_runtime', 'val_loss_step', '_timestamp'])\n",
      "dict_keys(['trainer/global_step', '_step', '_runtime', 'val_loss_step', '_timestamp'])\n",
      "dict_keys(['trainer/global_step', '_step', '_runtime', 'val_loss_step', '_timestamp'])\n",
      "dict_keys(['trainer/global_step', '_step', '_runtime', 'val_loss_step', '_timestamp'])\n",
      "dict_keys(['trainer/global_step', '_step', '_runtime', 'val_loss_step', '_timestamp'])\n",
      "dict_keys(['trainer/global_step', '_step', '_runtime', 'val_loss_step', '_timestamp'])\n",
      "dict_keys(['trainer/global_step', '_step', '_runtime', 'val_loss_step', '_timestamp'])\n",
      "dict_keys(['trainer/global_step', '_step', '_runtime', 'val_loss_step', '_timestamp'])\n",
      "dict_keys(['trainer/global_step', '_step', '_runtime', 'val_loss_step', '_timestamp'])\n",
      "dict_keys(['trainer/global_step', '_step', '_runtime', 'val_loss_step', '_timestamp'])\n",
      "dict_keys(['trainer/global_step', '_step', '_runtime', 'val_loss_step', '_timestamp'])\n",
      "dict_keys(['trainer/global_step', '_step', '_runtime', 'val_loss_step', '_timestamp'])\n",
      "dict_keys(['trainer/global_step', '_step', '_runtime', 'val_loss_step', '_timestamp'])\n",
      "dict_keys(['trainer/global_step', '_step', '_runtime', 'val_loss_step', '_timestamp'])\n",
      "dict_keys(['trainer/global_step', '_step', '_runtime', 'val_loss_step', '_timestamp'])\n",
      "dict_keys(['trainer/global_step', '_step', '_runtime', 'val_loss_step', '_timestamp'])\n",
      "dict_keys(['trainer/global_step', '_step', '_runtime', 'val_loss_step', '_timestamp'])\n",
      "dict_keys(['trainer/global_step', '_step', '_runtime', 'val_loss_step', '_timestamp'])\n",
      "dict_keys(['trainer/global_step', '_step', '_runtime', 'val_loss_step', '_timestamp'])\n",
      "dict_keys(['trainer/global_step', '_step', '_runtime', 'val_loss_step', '_timestamp'])\n",
      "dict_keys(['trainer/global_step', '_step', '_runtime', 'val_loss_step', '_timestamp'])\n",
      "dict_keys(['trainer/global_step', '_step', '_runtime', 'val_loss_step', '_timestamp'])\n",
      "dict_keys(['trainer/global_step', '_step', '_runtime', 'val_loss_step', '_timestamp'])\n",
      "dict_keys(['trainer/global_step', '_step', '_runtime', 'val_loss_step', '_timestamp'])\n",
      "dict_keys(['trainer/global_step', '_step', '_runtime', 'val_loss_step', '_timestamp'])\n",
      "dict_keys(['trainer/global_step', '_step', '_runtime', 'val_loss_step', '_timestamp'])\n",
      "dict_keys(['trainer/global_step', '_step', '_runtime', 'val_loss_step', '_timestamp'])\n",
      "dict_keys(['trainer/global_step', '_step', '_runtime', 'val_loss_step', '_timestamp'])\n",
      "dict_keys(['trainer/global_step', '_step', '_runtime', 'val_loss_step', '_timestamp'])\n",
      "dict_keys(['trainer/global_step', '_step', '_runtime', 'val_loss_step', '_timestamp'])\n",
      "dict_keys(['trainer/global_step', '_step', '_runtime', 'val_loss_step', '_timestamp'])\n",
      "dict_keys(['trainer/global_step', '_step', '_runtime', 'val_loss_step', '_timestamp'])\n",
      "dict_keys(['trainer/global_step', '_step', '_runtime', 'val_loss_step', '_timestamp'])\n",
      "dict_keys(['trainer/global_step', '_step', '_runtime', 'val_loss_step', '_timestamp'])\n",
      "dict_keys(['trainer/global_step', '_step', '_runtime', 'val_loss_step', '_timestamp'])\n",
      "dict_keys(['trainer/global_step', '_step', '_runtime', 'val_loss_step', '_timestamp'])\n",
      "dict_keys(['trainer/global_step', '_step', '_runtime', 'val_loss_step', '_timestamp'])\n",
      "dict_keys(['trainer/global_step', '_step', '_runtime', 'val_loss_step', '_timestamp'])\n",
      "dict_keys(['trainer/global_step', '_step', '_runtime', 'val_loss_step', '_timestamp'])\n",
      "dict_keys(['trainer/global_step', '_step', '_runtime', 'val_loss_step', '_timestamp'])\n",
      "dict_keys(['trainer/global_step', '_step', '_runtime', 'val_loss_step', '_timestamp'])\n",
      "dict_keys(['trainer/global_step', '_step', '_runtime', 'val_loss_step', '_timestamp'])\n",
      "dict_keys(['trainer/global_step', '_step', '_runtime', 'val_loss_step', '_timestamp'])\n",
      "dict_keys(['trainer/global_step', '_step', '_runtime', 'val_loss_step', '_timestamp'])\n",
      "dict_keys(['trainer/global_step', '_step', '_runtime', 'val_loss_step', '_timestamp'])\n",
      "dict_keys(['trainer/global_step', '_step', '_runtime', 'val_loss_step', '_timestamp'])\n",
      "dict_keys(['trainer/global_step', '_step', '_runtime', 'val_loss_step', '_timestamp'])\n",
      "dict_keys(['trainer/global_step', '_step', '_runtime', 'val_loss_step', '_timestamp'])\n",
      "dict_keys(['trainer/global_step', '_step', '_runtime', 'val_loss_step', '_timestamp'])\n",
      "dict_keys(['trainer/global_step', '_step', '_runtime', 'val_loss_step', '_timestamp'])\n",
      "dict_keys(['trainer/global_step', '_step', '_runtime', 'val_loss_step', '_timestamp'])\n",
      "dict_keys(['trainer/global_step', '_step', '_runtime', 'val_loss_step', '_timestamp'])\n",
      "dict_keys(['trainer/global_step', '_step', '_runtime', 'val_loss_step', '_timestamp'])\n",
      "dict_keys(['trainer/global_step', '_step', '_runtime', 'val_loss_step', '_timestamp'])\n",
      "dict_keys(['trainer/global_step', '_step', '_runtime', 'val_loss_step', '_timestamp'])\n",
      "dict_keys(['trainer/global_step', '_step', '_runtime', 'val_loss_step', '_timestamp'])\n",
      "dict_keys(['trainer/global_step', '_step', '_runtime', 'val_loss_step', '_timestamp'])\n",
      "dict_keys(['trainer/global_step', '_step', '_runtime', 'val_loss_step', '_timestamp'])\n",
      "dict_keys(['trainer/global_step', '_step', '_runtime', 'val_loss_step', '_timestamp'])\n",
      "dict_keys(['trainer/global_step', '_step', '_runtime', 'val_loss_step', '_timestamp'])\n",
      "dict_keys(['trainer/global_step', '_step', '_runtime', 'val_loss_step', '_timestamp'])\n",
      "dict_keys(['trainer/global_step', '_step', '_runtime', 'val_loss_step', '_timestamp'])\n",
      "dict_keys(['trainer/global_step', '_step', '_runtime', 'val_loss_step', '_timestamp'])\n",
      "dict_keys(['trainer/global_step', '_step', '_runtime', 'val_loss_step', '_timestamp'])\n",
      "dict_keys(['trainer/global_step', '_step', '_runtime', 'val_loss_step', '_timestamp'])\n",
      "dict_keys(['trainer/global_step', '_step', '_runtime', 'val_loss_step', '_timestamp'])\n",
      "dict_keys(['trainer/global_step', '_step', '_runtime', 'val_loss_step', '_timestamp'])\n",
      "dict_keys(['trainer/global_step', '_step', '_runtime', 'val_loss_step', '_timestamp'])\n",
      "dict_keys(['trainer/global_step', '_step', '_runtime', 'val_loss_step', '_timestamp'])\n",
      "dict_keys(['trainer/global_step', '_step', '_runtime', 'val_loss_step', '_timestamp'])\n",
      "dict_keys(['trainer/global_step', '_step', '_runtime', 'val_loss_step', '_timestamp'])\n",
      "dict_keys(['trainer/global_step', '_step', '_runtime', 'val_loss_step', '_timestamp'])\n",
      "dict_keys(['trainer/global_step', '_step', '_runtime', 'val_loss_step', '_timestamp'])\n",
      "dict_keys(['trainer/global_step', '_step', '_runtime', 'val_loss_step', '_timestamp'])\n",
      "dict_keys(['trainer/global_step', '_step', '_runtime', 'val_loss_step', '_timestamp'])\n",
      "dict_keys(['trainer/global_step', '_step', '_runtime', 'val_loss_step', '_timestamp'])\n",
      "dict_keys(['trainer/global_step', '_step', '_runtime', 'val_loss_step', '_timestamp'])\n",
      "dict_keys(['trainer/global_step', '_step', '_runtime', 'val_loss_step', '_timestamp'])\n",
      "dict_keys(['trainer/global_step', '_step', '_runtime', 'val_loss_step', '_timestamp'])\n",
      "dict_keys(['trainer/global_step', '_step', '_runtime', 'val_loss_step', '_timestamp'])\n",
      "dict_keys(['trainer/global_step', '_step', '_runtime', 'val_loss_step', '_timestamp'])\n",
      "dict_keys(['trainer/global_step', '_step', '_runtime', 'val_loss_step', '_timestamp'])\n",
      "dict_keys(['trainer/global_step', '_step', '_runtime', 'val_loss_step', '_timestamp'])\n",
      "dict_keys(['trainer/global_step', '_step', '_runtime', 'val_loss_step', '_timestamp'])\n",
      "dict_keys(['trainer/global_step', '_step', '_runtime', 'val_loss_step', '_timestamp'])\n",
      "dict_keys(['trainer/global_step', '_step', '_runtime', 'val_loss_step', '_timestamp'])\n",
      "dict_keys(['trainer/global_step', '_step', '_runtime', 'val_loss_step', '_timestamp'])\n",
      "dict_keys(['trainer/global_step', '_step', '_runtime', 'val_loss_step', '_timestamp'])\n",
      "dict_keys(['trainer/global_step', '_step', '_runtime', 'val_loss_step', '_timestamp'])\n",
      "dict_keys(['trainer/global_step', '_step', '_runtime', 'val_loss_step', '_timestamp'])\n",
      "dict_keys(['val_median_f1', 'val_auroc', 'trainer/global_step', 'val_per_class_recall', '_step', 'val_confusion_matrix', 'val_f1', '_runtime', 'val_total_accuracy', 'val_recall', 'val_balanced_accuracy', 'val_weighted_accuracy', 'val_loss_epoch', 'epoch', 'val_per_class_f1', 'val_precision', 'val_per_class_precision', '_timestamp', 'val_specificity'])\n",
      "dict_keys(['train_precision', 'trainer/global_step', 'train_f1', '_step', 'train_auroc', 'train_specificity', '_runtime', 'train_loss_epoch', 'train_confusion_matrix', 'train_weighted_accuracy', 'train_balanced_accuracy', 'train_total_accuracy', 'train_per_class_recall', 'epoch', 'train_per_class_precision', 'train_recall', 'train_per_class_f1', '_timestamp'])\n",
      "dict_keys(['trainer/global_step', '_step', '_runtime', 'lr-Adam', '_timestamp'])\n",
      "dict_keys(['trainer/global_step', '_step', '_runtime', 'train_loss_step', 'epoch', '_timestamp'])\n",
      "dict_keys(['trainer/global_step', '_step', '_runtime', 'train_loss_step', 'epoch', '_timestamp'])\n",
      "dict_keys(['trainer/global_step', '_step', '_runtime', 'train_loss_step', 'epoch', '_timestamp'])\n",
      "dict_keys(['trainer/global_step', '_step', '_runtime', 'train_loss_step', 'epoch', '_timestamp'])\n",
      "dict_keys(['trainer/global_step', '_step', '_runtime', 'train_loss_step', 'epoch', '_timestamp'])\n",
      "dict_keys(['trainer/global_step', '_step', '_runtime', 'train_loss_step', 'epoch', '_timestamp'])\n",
      "dict_keys(['trainer/global_step', '_step', '_runtime', 'train_loss_step', 'epoch', '_timestamp'])\n",
      "dict_keys(['trainer/global_step', '_step', '_runtime', 'train_loss_step', 'epoch', '_timestamp'])\n",
      "dict_keys(['trainer/global_step', '_step', '_runtime', 'train_loss_step', 'epoch', '_timestamp'])\n",
      "dict_keys(['trainer/global_step', '_step', '_runtime', 'train_loss_step', 'epoch', '_timestamp'])\n",
      "dict_keys(['trainer/global_step', '_step', '_runtime', 'train_loss_step', 'epoch', '_timestamp'])\n",
      "dict_keys(['trainer/global_step', '_step', '_runtime', 'train_loss_step', 'epoch', '_timestamp'])\n",
      "dict_keys(['trainer/global_step', '_step', '_runtime', 'train_loss_step', 'epoch', '_timestamp'])\n",
      "dict_keys(['trainer/global_step', '_step', '_runtime', 'train_loss_step', 'epoch', '_timestamp'])\n",
      "dict_keys(['trainer/global_step', '_step', '_runtime', 'train_loss_step', 'epoch', '_timestamp'])\n",
      "dict_keys(['trainer/global_step', '_step', '_runtime', 'train_loss_step', 'epoch', '_timestamp'])\n",
      "dict_keys(['trainer/global_step', '_step', '_runtime', 'train_loss_step', 'epoch', '_timestamp'])\n",
      "dict_keys(['trainer/global_step', '_step', '_runtime', 'train_loss_step', 'epoch', '_timestamp'])\n",
      "dict_keys(['trainer/global_step', '_step', '_runtime', 'train_loss_step', 'epoch', '_timestamp'])\n",
      "dict_keys(['trainer/global_step', '_step', '_runtime', 'val_loss_step', '_timestamp'])\n",
      "dict_keys(['trainer/global_step', '_step', '_runtime', 'val_loss_step', '_timestamp'])\n",
      "dict_keys(['trainer/global_step', '_step', '_runtime', 'val_loss_step', '_timestamp'])\n",
      "dict_keys(['trainer/global_step', '_step', '_runtime', 'val_loss_step', '_timestamp'])\n",
      "dict_keys(['trainer/global_step', '_step', '_runtime', 'val_loss_step', '_timestamp'])\n",
      "dict_keys(['trainer/global_step', '_step', '_runtime', 'val_loss_step', '_timestamp'])\n",
      "dict_keys(['trainer/global_step', '_step', '_runtime', 'val_loss_step', '_timestamp'])\n",
      "dict_keys(['trainer/global_step', '_step', '_runtime', 'val_loss_step', '_timestamp'])\n",
      "dict_keys(['trainer/global_step', '_step', '_runtime', 'val_loss_step', '_timestamp'])\n",
      "dict_keys(['trainer/global_step', '_step', '_runtime', 'val_loss_step', '_timestamp'])\n",
      "dict_keys(['trainer/global_step', '_step', '_runtime', 'val_loss_step', '_timestamp'])\n",
      "dict_keys(['trainer/global_step', '_step', '_runtime', 'val_loss_step', '_timestamp'])\n",
      "dict_keys(['trainer/global_step', '_step', '_runtime', 'val_loss_step', '_timestamp'])\n",
      "dict_keys(['trainer/global_step', '_step', '_runtime', 'val_loss_step', '_timestamp'])\n",
      "dict_keys(['trainer/global_step', '_step', '_runtime', 'val_loss_step', '_timestamp'])\n",
      "dict_keys(['trainer/global_step', '_step', '_runtime', 'val_loss_step', '_timestamp'])\n",
      "dict_keys(['trainer/global_step', '_step', '_runtime', 'val_loss_step', '_timestamp'])\n",
      "dict_keys(['trainer/global_step', '_step', '_runtime', 'val_loss_step', '_timestamp'])\n",
      "dict_keys(['trainer/global_step', '_step', '_runtime', 'val_loss_step', '_timestamp'])\n",
      "dict_keys(['trainer/global_step', '_step', '_runtime', 'val_loss_step', '_timestamp'])\n",
      "dict_keys(['trainer/global_step', '_step', '_runtime', 'val_loss_step', '_timestamp'])\n",
      "dict_keys(['trainer/global_step', '_step', '_runtime', 'val_loss_step', '_timestamp'])\n",
      "dict_keys(['trainer/global_step', '_step', '_runtime', 'val_loss_step', '_timestamp'])\n",
      "dict_keys(['trainer/global_step', '_step', '_runtime', 'val_loss_step', '_timestamp'])\n",
      "dict_keys(['trainer/global_step', '_step', '_runtime', 'val_loss_step', '_timestamp'])\n",
      "dict_keys(['trainer/global_step', '_step', '_runtime', 'val_loss_step', '_timestamp'])\n",
      "dict_keys(['trainer/global_step', '_step', '_runtime', 'val_loss_step', '_timestamp'])\n",
      "dict_keys(['trainer/global_step', '_step', '_runtime', 'val_loss_step', '_timestamp'])\n",
      "dict_keys(['trainer/global_step', '_step', '_runtime', 'val_loss_step', '_timestamp'])\n",
      "dict_keys(['trainer/global_step', '_step', '_runtime', 'val_loss_step', '_timestamp'])\n",
      "dict_keys(['trainer/global_step', '_step', '_runtime', 'val_loss_step', '_timestamp'])\n",
      "dict_keys(['trainer/global_step', '_step', '_runtime', 'val_loss_step', '_timestamp'])\n",
      "dict_keys(['trainer/global_step', '_step', '_runtime', 'val_loss_step', '_timestamp'])\n",
      "dict_keys(['trainer/global_step', '_step', '_runtime', 'val_loss_step', '_timestamp'])\n",
      "dict_keys(['trainer/global_step', '_step', '_runtime', 'val_loss_step', '_timestamp'])\n",
      "dict_keys(['trainer/global_step', '_step', '_runtime', 'val_loss_step', '_timestamp'])\n",
      "dict_keys(['trainer/global_step', '_step', '_runtime', 'val_loss_step', '_timestamp'])\n",
      "dict_keys(['trainer/global_step', '_step', '_runtime', 'val_loss_step', '_timestamp'])\n",
      "dict_keys(['trainer/global_step', '_step', '_runtime', 'val_loss_step', '_timestamp'])\n",
      "dict_keys(['trainer/global_step', '_step', '_runtime', 'val_loss_step', '_timestamp'])\n",
      "dict_keys(['trainer/global_step', '_step', '_runtime', 'val_loss_step', '_timestamp'])\n",
      "dict_keys(['trainer/global_step', '_step', '_runtime', 'val_loss_step', '_timestamp'])\n",
      "dict_keys(['trainer/global_step', '_step', '_runtime', 'val_loss_step', '_timestamp'])\n",
      "dict_keys(['trainer/global_step', '_step', '_runtime', 'val_loss_step', '_timestamp'])\n",
      "dict_keys(['trainer/global_step', '_step', '_runtime', 'val_loss_step', '_timestamp'])\n",
      "dict_keys(['trainer/global_step', '_step', '_runtime', 'val_loss_step', '_timestamp'])\n",
      "dict_keys(['trainer/global_step', '_step', '_runtime', 'val_loss_step', '_timestamp'])\n",
      "dict_keys(['trainer/global_step', '_step', '_runtime', 'val_loss_step', '_timestamp'])\n",
      "dict_keys(['trainer/global_step', '_step', '_runtime', 'val_loss_step', '_timestamp'])\n",
      "dict_keys(['trainer/global_step', '_step', '_runtime', 'val_loss_step', '_timestamp'])\n",
      "dict_keys(['trainer/global_step', '_step', '_runtime', 'val_loss_step', '_timestamp'])\n",
      "dict_keys(['trainer/global_step', '_step', '_runtime', 'val_loss_step', '_timestamp'])\n",
      "dict_keys(['trainer/global_step', '_step', '_runtime', 'val_loss_step', '_timestamp'])\n",
      "dict_keys(['trainer/global_step', '_step', '_runtime', 'val_loss_step', '_timestamp'])\n",
      "dict_keys(['trainer/global_step', '_step', '_runtime', 'val_loss_step', '_timestamp'])\n",
      "dict_keys(['trainer/global_step', '_step', '_runtime', 'val_loss_step', '_timestamp'])\n",
      "dict_keys(['trainer/global_step', '_step', '_runtime', 'val_loss_step', '_timestamp'])\n",
      "dict_keys(['trainer/global_step', '_step', '_runtime', 'val_loss_step', '_timestamp'])\n",
      "dict_keys(['trainer/global_step', '_step', '_runtime', 'val_loss_step', '_timestamp'])\n",
      "dict_keys(['trainer/global_step', '_step', '_runtime', 'val_loss_step', '_timestamp'])\n",
      "dict_keys(['trainer/global_step', '_step', '_runtime', 'val_loss_step', '_timestamp'])\n",
      "dict_keys(['trainer/global_step', '_step', '_runtime', 'val_loss_step', '_timestamp'])\n",
      "dict_keys(['trainer/global_step', '_step', '_runtime', 'val_loss_step', '_timestamp'])\n",
      "dict_keys(['trainer/global_step', '_step', '_runtime', 'val_loss_step', '_timestamp'])\n",
      "dict_keys(['trainer/global_step', '_step', '_runtime', 'val_loss_step', '_timestamp'])\n",
      "dict_keys(['trainer/global_step', '_step', '_runtime', 'val_loss_step', '_timestamp'])\n",
      "dict_keys(['trainer/global_step', '_step', '_runtime', 'val_loss_step', '_timestamp'])\n",
      "dict_keys(['trainer/global_step', '_step', '_runtime', 'val_loss_step', '_timestamp'])\n",
      "dict_keys(['trainer/global_step', '_step', '_runtime', 'val_loss_step', '_timestamp'])\n",
      "dict_keys(['trainer/global_step', '_step', '_runtime', 'val_loss_step', '_timestamp'])\n",
      "dict_keys(['trainer/global_step', '_step', '_runtime', 'val_loss_step', '_timestamp'])\n",
      "dict_keys(['trainer/global_step', '_step', '_runtime', 'val_loss_step', '_timestamp'])\n",
      "dict_keys(['trainer/global_step', '_step', '_runtime', 'val_loss_step', '_timestamp'])\n",
      "dict_keys(['trainer/global_step', '_step', '_runtime', 'val_loss_step', '_timestamp'])\n",
      "dict_keys(['trainer/global_step', '_step', '_runtime', 'val_loss_step', '_timestamp'])\n",
      "dict_keys(['trainer/global_step', '_step', '_runtime', 'val_loss_step', '_timestamp'])\n",
      "dict_keys(['trainer/global_step', '_step', '_runtime', 'val_loss_step', '_timestamp'])\n",
      "dict_keys(['trainer/global_step', '_step', '_runtime', 'val_loss_step', '_timestamp'])\n",
      "dict_keys(['trainer/global_step', '_step', '_runtime', 'val_loss_step', '_timestamp'])\n",
      "dict_keys(['trainer/global_step', '_step', '_runtime', 'val_loss_step', '_timestamp'])\n",
      "dict_keys(['trainer/global_step', '_step', '_runtime', 'val_loss_step', '_timestamp'])\n",
      "dict_keys(['trainer/global_step', '_step', '_runtime', 'val_loss_step', '_timestamp'])\n",
      "dict_keys(['trainer/global_step', '_step', '_runtime', 'val_loss_step', '_timestamp'])\n",
      "dict_keys(['trainer/global_step', '_step', '_runtime', 'val_loss_step', '_timestamp'])\n",
      "dict_keys(['trainer/global_step', '_step', '_runtime', 'val_loss_step', '_timestamp'])\n",
      "dict_keys(['trainer/global_step', '_step', '_runtime', 'val_loss_step', '_timestamp'])\n",
      "dict_keys(['trainer/global_step', '_step', '_runtime', 'val_loss_step', '_timestamp'])\n",
      "dict_keys(['trainer/global_step', '_step', '_runtime', 'val_loss_step', '_timestamp'])\n",
      "dict_keys(['trainer/global_step', '_step', '_runtime', 'val_loss_step', '_timestamp'])\n",
      "dict_keys(['trainer/global_step', '_step', '_runtime', 'val_loss_step', '_timestamp'])\n",
      "dict_keys(['trainer/global_step', '_step', '_runtime', 'val_loss_step', '_timestamp'])\n",
      "dict_keys(['trainer/global_step', '_step', '_runtime', 'val_loss_step', '_timestamp'])\n",
      "dict_keys(['trainer/global_step', '_step', '_runtime', 'val_loss_step', '_timestamp'])\n",
      "dict_keys(['trainer/global_step', '_step', '_runtime', 'val_loss_step', '_timestamp'])\n",
      "dict_keys(['trainer/global_step', '_step', '_runtime', 'val_loss_step', '_timestamp'])\n",
      "dict_keys(['trainer/global_step', '_step', '_runtime', 'val_loss_step', '_timestamp'])\n",
      "dict_keys(['trainer/global_step', '_step', '_runtime', 'val_loss_step', '_timestamp'])\n",
      "dict_keys(['trainer/global_step', '_step', '_runtime', 'val_loss_step', '_timestamp'])\n",
      "dict_keys(['trainer/global_step', '_step', '_runtime', 'val_loss_step', '_timestamp'])\n",
      "dict_keys(['trainer/global_step', '_step', '_runtime', 'val_loss_step', '_timestamp'])\n",
      "dict_keys(['trainer/global_step', '_step', '_runtime', 'val_loss_step', '_timestamp'])\n",
      "dict_keys(['trainer/global_step', '_step', '_runtime', 'val_loss_step', '_timestamp'])\n",
      "dict_keys(['trainer/global_step', '_step', '_runtime', 'val_loss_step', '_timestamp'])\n",
      "dict_keys(['trainer/global_step', '_step', '_runtime', 'val_loss_step', '_timestamp'])\n",
      "dict_keys(['trainer/global_step', '_step', '_runtime', 'val_loss_step', '_timestamp'])\n",
      "dict_keys(['trainer/global_step', '_step', '_runtime', 'val_loss_step', '_timestamp'])\n",
      "dict_keys(['trainer/global_step', '_step', '_runtime', 'val_loss_step', '_timestamp'])\n",
      "dict_keys(['trainer/global_step', '_step', '_runtime', 'val_loss_step', '_timestamp'])\n",
      "dict_keys(['trainer/global_step', '_step', '_runtime', 'val_loss_step', '_timestamp'])\n",
      "dict_keys(['trainer/global_step', '_step', '_runtime', 'val_loss_step', '_timestamp'])\n",
      "dict_keys(['trainer/global_step', '_step', '_runtime', 'val_loss_step', '_timestamp'])\n",
      "dict_keys(['trainer/global_step', '_step', '_runtime', 'val_loss_step', '_timestamp'])\n",
      "dict_keys(['trainer/global_step', '_step', '_runtime', 'val_loss_step', '_timestamp'])\n",
      "dict_keys(['trainer/global_step', '_step', '_runtime', 'val_loss_step', '_timestamp'])\n",
      "dict_keys(['trainer/global_step', '_step', '_runtime', 'val_loss_step', '_timestamp'])\n",
      "dict_keys(['trainer/global_step', '_step', '_runtime', 'val_loss_step', '_timestamp'])\n",
      "dict_keys(['trainer/global_step', '_step', '_runtime', 'val_loss_step', '_timestamp'])\n",
      "dict_keys(['trainer/global_step', '_step', '_runtime', 'val_loss_step', '_timestamp'])\n",
      "dict_keys(['trainer/global_step', '_step', '_runtime', 'val_loss_step', '_timestamp'])\n",
      "dict_keys(['trainer/global_step', '_step', '_runtime', 'val_loss_step', '_timestamp'])\n",
      "dict_keys(['trainer/global_step', '_step', '_runtime', 'val_loss_step', '_timestamp'])\n",
      "dict_keys(['trainer/global_step', '_step', '_runtime', 'val_loss_step', '_timestamp'])\n",
      "dict_keys(['trainer/global_step', '_step', '_runtime', 'val_loss_step', '_timestamp'])\n",
      "dict_keys(['trainer/global_step', '_step', '_runtime', 'val_loss_step', '_timestamp'])\n",
      "dict_keys(['trainer/global_step', '_step', '_runtime', 'val_loss_step', '_timestamp'])\n",
      "dict_keys(['trainer/global_step', '_step', '_runtime', 'val_loss_step', '_timestamp'])\n",
      "dict_keys(['trainer/global_step', '_step', '_runtime', 'val_loss_step', '_timestamp'])\n",
      "dict_keys(['trainer/global_step', '_step', '_runtime', 'val_loss_step', '_timestamp'])\n",
      "dict_keys(['trainer/global_step', '_step', '_runtime', 'val_loss_step', '_timestamp'])\n",
      "dict_keys(['trainer/global_step', '_step', '_runtime', 'val_loss_step', '_timestamp'])\n",
      "dict_keys(['trainer/global_step', '_step', '_runtime', 'val_loss_step', '_timestamp'])\n",
      "dict_keys(['trainer/global_step', '_step', '_runtime', 'val_loss_step', '_timestamp'])\n",
      "dict_keys(['trainer/global_step', '_step', '_runtime', 'val_loss_step', '_timestamp'])\n",
      "dict_keys(['trainer/global_step', '_step', '_runtime', 'val_loss_step', '_timestamp'])\n",
      "dict_keys(['trainer/global_step', '_step', '_runtime', 'val_loss_step', '_timestamp'])\n",
      "dict_keys(['trainer/global_step', '_step', '_runtime', 'val_loss_step', '_timestamp'])\n",
      "dict_keys(['trainer/global_step', '_step', '_runtime', 'val_loss_step', '_timestamp'])\n",
      "dict_keys(['trainer/global_step', '_step', '_runtime', 'val_loss_step', '_timestamp'])\n",
      "dict_keys(['trainer/global_step', '_step', '_runtime', 'val_loss_step', '_timestamp'])\n",
      "dict_keys(['trainer/global_step', '_step', '_runtime', 'val_loss_step', '_timestamp'])\n",
      "dict_keys(['trainer/global_step', '_step', '_runtime', 'val_loss_step', '_timestamp'])\n",
      "dict_keys(['trainer/global_step', '_step', '_runtime', 'val_loss_step', '_timestamp'])\n",
      "dict_keys(['trainer/global_step', '_step', '_runtime', 'val_loss_step', '_timestamp'])\n",
      "dict_keys(['trainer/global_step', '_step', '_runtime', 'val_loss_step', '_timestamp'])\n",
      "dict_keys(['trainer/global_step', '_step', '_runtime', 'val_loss_step', '_timestamp'])\n",
      "dict_keys(['trainer/global_step', '_step', '_runtime', 'val_loss_step', '_timestamp'])\n",
      "dict_keys(['trainer/global_step', '_step', '_runtime', 'val_loss_step', '_timestamp'])\n",
      "dict_keys(['trainer/global_step', '_step', '_runtime', 'val_loss_step', '_timestamp'])\n",
      "dict_keys(['trainer/global_step', '_step', '_runtime', 'val_loss_step', '_timestamp'])\n",
      "dict_keys(['trainer/global_step', '_step', '_runtime', 'val_loss_step', '_timestamp'])\n",
      "dict_keys(['trainer/global_step', '_step', '_runtime', 'val_loss_step', '_timestamp'])\n",
      "dict_keys(['trainer/global_step', '_step', '_runtime', 'val_loss_step', '_timestamp'])\n",
      "dict_keys(['trainer/global_step', '_step', '_runtime', 'val_loss_step', '_timestamp'])\n",
      "dict_keys(['trainer/global_step', '_step', '_runtime', 'val_loss_step', '_timestamp'])\n",
      "dict_keys(['trainer/global_step', '_step', '_runtime', 'val_loss_step', '_timestamp'])\n",
      "dict_keys(['trainer/global_step', '_step', '_runtime', 'val_loss_step', '_timestamp'])\n",
      "dict_keys(['trainer/global_step', '_step', '_runtime', 'val_loss_step', '_timestamp'])\n",
      "dict_keys(['trainer/global_step', '_step', '_runtime', 'val_loss_step', '_timestamp'])\n",
      "dict_keys(['trainer/global_step', '_step', '_runtime', 'val_loss_step', '_timestamp'])\n",
      "dict_keys(['trainer/global_step', '_step', '_runtime', 'val_loss_step', '_timestamp'])\n",
      "dict_keys(['trainer/global_step', '_step', '_runtime', 'val_loss_step', '_timestamp'])\n",
      "dict_keys(['trainer/global_step', '_step', '_runtime', 'val_loss_step', '_timestamp'])\n",
      "dict_keys(['trainer/global_step', '_step', '_runtime', 'val_loss_step', '_timestamp'])\n",
      "dict_keys(['trainer/global_step', '_step', '_runtime', 'val_loss_step', '_timestamp'])\n",
      "dict_keys(['trainer/global_step', '_step', '_runtime', 'val_loss_step', '_timestamp'])\n",
      "dict_keys(['trainer/global_step', '_step', '_runtime', 'val_loss_step', '_timestamp'])\n",
      "dict_keys(['trainer/global_step', '_step', '_runtime', 'val_loss_step', '_timestamp'])\n",
      "dict_keys(['trainer/global_step', '_step', '_runtime', 'val_loss_step', '_timestamp'])\n",
      "dict_keys(['trainer/global_step', '_step', '_runtime', 'val_loss_step', '_timestamp'])\n",
      "dict_keys(['trainer/global_step', '_step', '_runtime', 'val_loss_step', '_timestamp'])\n",
      "dict_keys(['trainer/global_step', '_step', '_runtime', 'val_loss_step', '_timestamp'])\n",
      "dict_keys(['trainer/global_step', '_step', '_runtime', 'val_loss_step', '_timestamp'])\n",
      "dict_keys(['trainer/global_step', '_step', '_runtime', 'val_loss_step', '_timestamp'])\n",
      "dict_keys(['trainer/global_step', '_step', '_runtime', 'val_loss_step', '_timestamp'])\n",
      "dict_keys(['trainer/global_step', '_step', '_runtime', 'val_loss_step', '_timestamp'])\n",
      "dict_keys(['trainer/global_step', '_step', '_runtime', 'val_loss_step', '_timestamp'])\n",
      "dict_keys(['trainer/global_step', '_step', '_runtime', 'val_loss_step', '_timestamp'])\n",
      "dict_keys(['trainer/global_step', '_step', '_runtime', 'val_loss_step', '_timestamp'])\n",
      "dict_keys(['trainer/global_step', '_step', '_runtime', 'val_loss_step', '_timestamp'])\n",
      "dict_keys(['trainer/global_step', '_step', '_runtime', 'val_loss_step', '_timestamp'])\n",
      "dict_keys(['trainer/global_step', '_step', '_runtime', 'val_loss_step', '_timestamp'])\n",
      "dict_keys(['trainer/global_step', '_step', '_runtime', 'val_loss_step', '_timestamp'])\n",
      "dict_keys(['trainer/global_step', '_step', '_runtime', 'val_loss_step', '_timestamp'])\n",
      "dict_keys(['trainer/global_step', '_step', '_runtime', 'val_loss_step', '_timestamp'])\n",
      "dict_keys(['trainer/global_step', '_step', '_runtime', 'val_loss_step', '_timestamp'])\n",
      "dict_keys(['trainer/global_step', '_step', '_runtime', 'val_loss_step', '_timestamp'])\n",
      "dict_keys(['trainer/global_step', '_step', '_runtime', 'val_loss_step', '_timestamp'])\n",
      "dict_keys(['trainer/global_step', '_step', '_runtime', 'val_loss_step', '_timestamp'])\n",
      "dict_keys(['trainer/global_step', '_step', '_runtime', 'val_loss_step', '_timestamp'])\n",
      "dict_keys(['trainer/global_step', '_step', '_runtime', 'val_loss_step', '_timestamp'])\n",
      "dict_keys(['trainer/global_step', '_step', '_runtime', 'val_loss_step', '_timestamp'])\n",
      "dict_keys(['trainer/global_step', '_step', '_runtime', 'val_loss_step', '_timestamp'])\n",
      "dict_keys(['trainer/global_step', '_step', '_runtime', 'val_loss_step', '_timestamp'])\n",
      "dict_keys(['trainer/global_step', '_step', '_runtime', 'val_loss_step', '_timestamp'])\n",
      "dict_keys(['trainer/global_step', '_step', '_runtime', 'val_loss_step', '_timestamp'])\n",
      "dict_keys(['trainer/global_step', '_step', '_runtime', 'val_loss_step', '_timestamp'])\n",
      "dict_keys(['trainer/global_step', '_step', '_runtime', 'val_loss_step', '_timestamp'])\n",
      "dict_keys(['trainer/global_step', '_step', '_runtime', 'val_loss_step', '_timestamp'])\n",
      "dict_keys(['trainer/global_step', '_step', '_runtime', 'val_loss_step', '_timestamp'])\n",
      "dict_keys(['trainer/global_step', '_step', '_runtime', 'val_loss_step', '_timestamp'])\n",
      "dict_keys(['trainer/global_step', '_step', '_runtime', 'val_loss_step', '_timestamp'])\n",
      "dict_keys(['trainer/global_step', '_step', '_runtime', 'val_loss_step', '_timestamp'])\n",
      "dict_keys(['trainer/global_step', '_step', '_runtime', 'val_loss_step', '_timestamp'])\n",
      "dict_keys(['trainer/global_step', '_step', '_runtime', 'val_loss_step', '_timestamp'])\n",
      "dict_keys(['trainer/global_step', '_step', '_runtime', 'val_loss_step', '_timestamp'])\n",
      "dict_keys(['trainer/global_step', '_step', '_runtime', 'val_loss_step', '_timestamp'])\n",
      "dict_keys(['trainer/global_step', '_step', '_runtime', 'val_loss_step', '_timestamp'])\n",
      "dict_keys(['trainer/global_step', '_step', '_runtime', 'val_loss_step', '_timestamp'])\n",
      "dict_keys(['trainer/global_step', '_step', '_runtime', 'val_loss_step', '_timestamp'])\n",
      "dict_keys(['trainer/global_step', '_step', '_runtime', 'val_loss_step', '_timestamp'])\n",
      "dict_keys(['trainer/global_step', '_step', '_runtime', 'val_loss_step', '_timestamp'])\n",
      "dict_keys(['trainer/global_step', '_step', '_runtime', 'val_loss_step', '_timestamp'])\n",
      "dict_keys(['trainer/global_step', '_step', '_runtime', 'val_loss_step', '_timestamp'])\n",
      "dict_keys(['trainer/global_step', '_step', '_runtime', 'val_loss_step', '_timestamp'])\n",
      "dict_keys(['trainer/global_step', '_step', '_runtime', 'val_loss_step', '_timestamp'])\n",
      "dict_keys(['trainer/global_step', '_step', '_runtime', 'val_loss_step', '_timestamp'])\n",
      "dict_keys(['trainer/global_step', '_step', '_runtime', 'val_loss_step', '_timestamp'])\n",
      "dict_keys(['trainer/global_step', '_step', '_runtime', 'val_loss_step', '_timestamp'])\n",
      "dict_keys(['trainer/global_step', '_step', '_runtime', 'val_loss_step', '_timestamp'])\n",
      "dict_keys(['trainer/global_step', '_step', '_runtime', 'val_loss_step', '_timestamp'])\n",
      "dict_keys(['trainer/global_step', '_step', '_runtime', 'val_loss_step', '_timestamp'])\n",
      "dict_keys(['trainer/global_step', '_step', '_runtime', 'val_loss_step', '_timestamp'])\n",
      "dict_keys(['trainer/global_step', '_step', '_runtime', 'val_loss_step', '_timestamp'])\n",
      "dict_keys(['trainer/global_step', '_step', '_runtime', 'val_loss_step', '_timestamp'])\n",
      "dict_keys(['trainer/global_step', '_step', '_runtime', 'val_loss_step', '_timestamp'])\n",
      "dict_keys(['trainer/global_step', '_step', '_runtime', 'val_loss_step', '_timestamp'])\n",
      "dict_keys(['trainer/global_step', '_step', '_runtime', 'val_loss_step', '_timestamp'])\n",
      "dict_keys(['trainer/global_step', '_step', '_runtime', 'val_loss_step', '_timestamp'])\n",
      "dict_keys(['trainer/global_step', '_step', '_runtime', 'val_loss_step', '_timestamp'])\n",
      "dict_keys(['trainer/global_step', '_step', '_runtime', 'val_loss_step', '_timestamp'])\n",
      "dict_keys(['trainer/global_step', '_step', '_runtime', 'val_loss_step', '_timestamp'])\n",
      "dict_keys(['trainer/global_step', '_step', '_runtime', 'val_loss_step', '_timestamp'])\n",
      "dict_keys(['trainer/global_step', '_step', '_runtime', 'val_loss_step', '_timestamp'])\n",
      "dict_keys(['trainer/global_step', '_step', '_runtime', 'val_loss_step', '_timestamp'])\n",
      "dict_keys(['trainer/global_step', '_step', '_runtime', 'val_loss_step', '_timestamp'])\n",
      "dict_keys(['trainer/global_step', '_step', '_runtime', 'val_loss_step', '_timestamp'])\n",
      "dict_keys(['trainer/global_step', '_step', '_runtime', 'val_loss_step', '_timestamp'])\n",
      "dict_keys(['trainer/global_step', '_step', '_runtime', 'val_loss_step', '_timestamp'])\n",
      "dict_keys(['trainer/global_step', '_step', '_runtime', 'val_loss_step', '_timestamp'])\n",
      "dict_keys(['trainer/global_step', '_step', '_runtime', 'val_loss_step', '_timestamp'])\n",
      "dict_keys(['trainer/global_step', '_step', '_runtime', 'val_loss_step', '_timestamp'])\n",
      "dict_keys(['trainer/global_step', '_step', '_runtime', 'val_loss_step', '_timestamp'])\n",
      "dict_keys(['trainer/global_step', '_step', '_runtime', 'val_loss_step', '_timestamp'])\n",
      "dict_keys(['trainer/global_step', '_step', '_runtime', 'val_loss_step', '_timestamp'])\n",
      "dict_keys(['trainer/global_step', '_step', '_runtime', 'val_loss_step', '_timestamp'])\n",
      "dict_keys(['trainer/global_step', '_step', '_runtime', 'val_loss_step', '_timestamp'])\n",
      "dict_keys(['trainer/global_step', '_step', '_runtime', 'val_loss_step', '_timestamp'])\n",
      "dict_keys(['trainer/global_step', '_step', '_runtime', 'val_loss_step', '_timestamp'])\n",
      "dict_keys(['trainer/global_step', '_step', '_runtime', 'val_loss_step', '_timestamp'])\n",
      "dict_keys(['trainer/global_step', '_step', '_runtime', 'val_loss_step', '_timestamp'])\n",
      "dict_keys(['trainer/global_step', '_step', '_runtime', 'val_loss_step', '_timestamp'])\n",
      "dict_keys(['trainer/global_step', '_step', '_runtime', 'val_loss_step', '_timestamp'])\n",
      "dict_keys(['trainer/global_step', '_step', '_runtime', 'val_loss_step', '_timestamp'])\n",
      "dict_keys(['trainer/global_step', '_step', '_runtime', 'val_loss_step', '_timestamp'])\n",
      "dict_keys(['trainer/global_step', '_step', '_runtime', 'val_loss_step', '_timestamp'])\n",
      "dict_keys(['trainer/global_step', '_step', '_runtime', 'val_loss_step', '_timestamp'])\n",
      "dict_keys(['trainer/global_step', '_step', '_runtime', 'val_loss_step', '_timestamp'])\n",
      "dict_keys(['trainer/global_step', '_step', '_runtime', 'val_loss_step', '_timestamp'])\n",
      "dict_keys(['trainer/global_step', '_step', '_runtime', 'val_loss_step', '_timestamp'])\n",
      "dict_keys(['trainer/global_step', '_step', '_runtime', 'val_loss_step', '_timestamp'])\n",
      "dict_keys(['trainer/global_step', '_step', '_runtime', 'val_loss_step', '_timestamp'])\n",
      "dict_keys(['trainer/global_step', '_step', '_runtime', 'val_loss_step', '_timestamp'])\n",
      "dict_keys(['trainer/global_step', '_step', '_runtime', 'val_loss_step', '_timestamp'])\n",
      "dict_keys(['trainer/global_step', '_step', '_runtime', 'val_loss_step', '_timestamp'])\n",
      "dict_keys(['trainer/global_step', '_step', '_runtime', 'val_loss_step', '_timestamp'])\n",
      "dict_keys(['trainer/global_step', '_step', '_runtime', 'val_loss_step', '_timestamp'])\n",
      "dict_keys(['trainer/global_step', '_step', '_runtime', 'val_loss_step', '_timestamp'])\n",
      "dict_keys(['trainer/global_step', '_step', '_runtime', 'val_loss_step', '_timestamp'])\n",
      "dict_keys(['trainer/global_step', '_step', '_runtime', 'val_loss_step', '_timestamp'])\n",
      "dict_keys(['trainer/global_step', '_step', '_runtime', 'val_loss_step', '_timestamp'])\n",
      "dict_keys(['trainer/global_step', '_step', '_runtime', 'val_loss_step', '_timestamp'])\n",
      "dict_keys(['trainer/global_step', '_step', '_runtime', 'val_loss_step', '_timestamp'])\n",
      "dict_keys(['trainer/global_step', '_step', '_runtime', 'val_loss_step', '_timestamp'])\n",
      "dict_keys(['trainer/global_step', '_step', '_runtime', 'val_loss_step', '_timestamp'])\n",
      "dict_keys(['trainer/global_step', '_step', '_runtime', 'val_loss_step', '_timestamp'])\n",
      "dict_keys(['trainer/global_step', '_step', '_runtime', 'val_loss_step', '_timestamp'])\n",
      "dict_keys(['trainer/global_step', '_step', '_runtime', 'val_loss_step', '_timestamp'])\n",
      "dict_keys(['trainer/global_step', '_step', '_runtime', 'val_loss_step', '_timestamp'])\n",
      "dict_keys(['trainer/global_step', '_step', '_runtime', 'val_loss_step', '_timestamp'])\n",
      "dict_keys(['trainer/global_step', '_step', '_runtime', 'val_loss_step', '_timestamp'])\n",
      "dict_keys(['trainer/global_step', '_step', '_runtime', 'val_loss_step', '_timestamp'])\n",
      "dict_keys(['trainer/global_step', '_step', '_runtime', 'val_loss_step', '_timestamp'])\n",
      "dict_keys(['trainer/global_step', '_step', '_runtime', 'val_loss_step', '_timestamp'])\n",
      "dict_keys(['trainer/global_step', '_step', '_runtime', 'val_loss_step', '_timestamp'])\n",
      "dict_keys(['trainer/global_step', '_step', '_runtime', 'val_loss_step', '_timestamp'])\n",
      "dict_keys(['trainer/global_step', '_step', '_runtime', 'val_loss_step', '_timestamp'])\n",
      "dict_keys(['trainer/global_step', '_step', '_runtime', 'val_loss_step', '_timestamp'])\n",
      "dict_keys(['trainer/global_step', '_step', '_runtime', 'val_loss_step', '_timestamp'])\n",
      "dict_keys(['trainer/global_step', '_step', '_runtime', 'val_loss_step', '_timestamp'])\n",
      "dict_keys(['trainer/global_step', '_step', '_runtime', 'val_loss_step', '_timestamp'])\n",
      "dict_keys(['trainer/global_step', '_step', '_runtime', 'val_loss_step', '_timestamp'])\n",
      "dict_keys(['trainer/global_step', '_step', '_runtime', 'val_loss_step', '_timestamp'])\n",
      "dict_keys(['trainer/global_step', '_step', '_runtime', 'val_loss_step', '_timestamp'])\n",
      "dict_keys(['trainer/global_step', '_step', '_runtime', 'val_loss_step', '_timestamp'])\n",
      "dict_keys(['trainer/global_step', '_step', '_runtime', 'val_loss_step', '_timestamp'])\n",
      "dict_keys(['trainer/global_step', '_step', '_runtime', 'val_loss_step', '_timestamp'])\n",
      "dict_keys(['trainer/global_step', '_step', '_runtime', 'val_loss_step', '_timestamp'])\n",
      "dict_keys(['val_median_f1', 'val_auroc', 'trainer/global_step', 'val_per_class_recall', '_step', 'val_confusion_matrix', 'val_f1', '_runtime', 'val_total_accuracy', 'val_recall', 'val_balanced_accuracy', 'val_weighted_accuracy', 'val_loss_epoch', 'epoch', 'val_per_class_f1', 'val_precision', 'val_per_class_precision', '_timestamp', 'val_specificity'])\n",
      "dict_keys(['train_precision', 'trainer/global_step', 'train_f1', '_step', 'train_auroc', 'train_specificity', '_runtime', 'train_loss_epoch', 'train_confusion_matrix', 'train_weighted_accuracy', 'train_balanced_accuracy', 'train_total_accuracy', 'train_per_class_recall', 'epoch', 'train_per_class_precision', 'train_recall', 'train_per_class_f1', '_timestamp'])\n",
      "dict_keys(['trainer/global_step', '_step', '_runtime', 'lr-Adam', '_timestamp'])\n",
      "dict_keys(['trainer/global_step', '_step', '_runtime', 'train_loss_step', 'epoch', '_timestamp'])\n",
      "dict_keys(['trainer/global_step', '_step', '_runtime', 'train_loss_step', 'epoch', '_timestamp'])\n",
      "dict_keys(['trainer/global_step', '_step', '_runtime', 'train_loss_step', 'epoch', '_timestamp'])\n",
      "dict_keys(['trainer/global_step', '_step', '_runtime', 'train_loss_step', 'epoch', '_timestamp'])\n",
      "dict_keys(['trainer/global_step', '_step', '_runtime', 'train_loss_step', 'epoch', '_timestamp'])\n",
      "dict_keys(['trainer/global_step', '_step', '_runtime', 'train_loss_step', 'epoch', '_timestamp'])\n",
      "dict_keys(['trainer/global_step', '_step', '_runtime', 'train_loss_step', 'epoch', '_timestamp'])\n",
      "dict_keys(['trainer/global_step', '_step', '_runtime', 'train_loss_step', 'epoch', '_timestamp'])\n",
      "dict_keys(['trainer/global_step', '_step', '_runtime', 'train_loss_step', 'epoch', '_timestamp'])\n",
      "dict_keys(['trainer/global_step', '_step', '_runtime', 'train_loss_step', 'epoch', '_timestamp'])\n",
      "dict_keys(['trainer/global_step', '_step', '_runtime', 'train_loss_step', 'epoch', '_timestamp'])\n",
      "dict_keys(['trainer/global_step', '_step', '_runtime', 'train_loss_step', 'epoch', '_timestamp'])\n",
      "dict_keys(['trainer/global_step', '_step', '_runtime', 'train_loss_step', 'epoch', '_timestamp'])\n",
      "dict_keys(['trainer/global_step', '_step', '_runtime', 'train_loss_step', 'epoch', '_timestamp'])\n",
      "dict_keys(['trainer/global_step', '_step', '_runtime', 'train_loss_step', 'epoch', '_timestamp'])\n",
      "dict_keys(['trainer/global_step', '_step', '_runtime', 'train_loss_step', 'epoch', '_timestamp'])\n",
      "dict_keys(['trainer/global_step', '_step', '_runtime', 'train_loss_step', 'epoch', '_timestamp'])\n",
      "dict_keys(['trainer/global_step', '_step', '_runtime', 'train_loss_step', 'epoch', '_timestamp'])\n",
      "dict_keys(['trainer/global_step', '_step', '_runtime', 'train_loss_step', 'epoch', '_timestamp'])\n",
      "dict_keys(['trainer/global_step', '_step', '_runtime', 'val_loss_step', '_timestamp'])\n",
      "dict_keys(['trainer/global_step', '_step', '_runtime', 'val_loss_step', '_timestamp'])\n",
      "dict_keys(['trainer/global_step', '_step', '_runtime', 'val_loss_step', '_timestamp'])\n",
      "dict_keys(['trainer/global_step', '_step', '_runtime', 'val_loss_step', '_timestamp'])\n",
      "dict_keys(['trainer/global_step', '_step', '_runtime', 'val_loss_step', '_timestamp'])\n",
      "dict_keys(['trainer/global_step', '_step', '_runtime', 'val_loss_step', '_timestamp'])\n",
      "dict_keys(['trainer/global_step', '_step', '_runtime', 'val_loss_step', '_timestamp'])\n",
      "dict_keys(['trainer/global_step', '_step', '_runtime', 'val_loss_step', '_timestamp'])\n",
      "dict_keys(['trainer/global_step', '_step', '_runtime', 'val_loss_step', '_timestamp'])\n",
      "dict_keys(['trainer/global_step', '_step', '_runtime', 'val_loss_step', '_timestamp'])\n",
      "dict_keys(['trainer/global_step', '_step', '_runtime', 'val_loss_step', '_timestamp'])\n",
      "dict_keys(['trainer/global_step', '_step', '_runtime', 'val_loss_step', '_timestamp'])\n",
      "dict_keys(['trainer/global_step', '_step', '_runtime', 'val_loss_step', '_timestamp'])\n",
      "dict_keys(['trainer/global_step', '_step', '_runtime', 'val_loss_step', '_timestamp'])\n",
      "dict_keys(['trainer/global_step', '_step', '_runtime', 'val_loss_step', '_timestamp'])\n",
      "dict_keys(['trainer/global_step', '_step', '_runtime', 'val_loss_step', '_timestamp'])\n",
      "dict_keys(['trainer/global_step', '_step', '_runtime', 'val_loss_step', '_timestamp'])\n",
      "dict_keys(['trainer/global_step', '_step', '_runtime', 'val_loss_step', '_timestamp'])\n",
      "dict_keys(['trainer/global_step', '_step', '_runtime', 'val_loss_step', '_timestamp'])\n",
      "dict_keys(['trainer/global_step', '_step', '_runtime', 'val_loss_step', '_timestamp'])\n",
      "dict_keys(['trainer/global_step', '_step', '_runtime', 'val_loss_step', '_timestamp'])\n",
      "dict_keys(['trainer/global_step', '_step', '_runtime', 'val_loss_step', '_timestamp'])\n",
      "dict_keys(['trainer/global_step', '_step', '_runtime', 'val_loss_step', '_timestamp'])\n",
      "dict_keys(['trainer/global_step', '_step', '_runtime', 'val_loss_step', '_timestamp'])\n"
     ]
    },
    {
     "name": "stderr",
     "output_type": "stream",
     "text": [
      "\r",
      "1001it [00:00, 2525.36it/s]"
     ]
    },
    {
     "name": "stdout",
     "output_type": "stream",
     "text": [
      "dict_keys(['trainer/global_step', '_step', '_runtime', 'val_loss_step', '_timestamp'])\n",
      "dict_keys(['trainer/global_step', '_step', '_runtime', 'val_loss_step', '_timestamp'])\n",
      "dict_keys(['trainer/global_step', '_step', '_runtime', 'val_loss_step', '_timestamp'])\n",
      "dict_keys(['trainer/global_step', '_step', '_runtime', 'val_loss_step', '_timestamp'])\n",
      "dict_keys(['trainer/global_step', '_step', '_runtime', 'val_loss_step', '_timestamp'])\n",
      "dict_keys(['trainer/global_step', '_step', '_runtime', 'val_loss_step', '_timestamp'])\n",
      "dict_keys(['trainer/global_step', '_step', '_runtime', 'val_loss_step', '_timestamp'])\n",
      "dict_keys(['trainer/global_step', '_step', '_runtime', 'val_loss_step', '_timestamp'])\n",
      "dict_keys(['trainer/global_step', '_step', '_runtime', 'val_loss_step', '_timestamp'])\n",
      "dict_keys(['trainer/global_step', '_step', '_runtime', 'val_loss_step', '_timestamp'])\n",
      "dict_keys(['trainer/global_step', '_step', '_runtime', 'val_loss_step', '_timestamp'])\n",
      "dict_keys(['trainer/global_step', '_step', '_runtime', 'val_loss_step', '_timestamp'])\n",
      "dict_keys(['trainer/global_step', '_step', '_runtime', 'val_loss_step', '_timestamp'])\n",
      "dict_keys(['trainer/global_step', '_step', '_runtime', 'val_loss_step', '_timestamp'])\n",
      "dict_keys(['trainer/global_step', '_step', '_runtime', 'val_loss_step', '_timestamp'])\n",
      "dict_keys(['trainer/global_step', '_step', '_runtime', 'val_loss_step', '_timestamp'])\n",
      "dict_keys(['trainer/global_step', '_step', '_runtime', 'val_loss_step', '_timestamp'])\n",
      "dict_keys(['trainer/global_step', '_step', '_runtime', 'val_loss_step', '_timestamp'])\n",
      "dict_keys(['trainer/global_step', '_step', '_runtime', 'val_loss_step', '_timestamp'])\n",
      "dict_keys(['trainer/global_step', '_step', '_runtime', 'val_loss_step', '_timestamp'])\n",
      "dict_keys(['trainer/global_step', '_step', '_runtime', 'val_loss_step', '_timestamp'])\n",
      "dict_keys(['trainer/global_step', '_step', '_runtime', 'val_loss_step', '_timestamp'])\n",
      "dict_keys(['trainer/global_step', '_step', '_runtime', 'val_loss_step', '_timestamp'])\n",
      "dict_keys(['trainer/global_step', '_step', '_runtime', 'val_loss_step', '_timestamp'])\n",
      "dict_keys(['trainer/global_step', '_step', '_runtime', 'val_loss_step', '_timestamp'])\n",
      "dict_keys(['trainer/global_step', '_step', '_runtime', 'val_loss_step', '_timestamp'])\n",
      "dict_keys(['trainer/global_step', '_step', '_runtime', 'val_loss_step', '_timestamp'])\n",
      "dict_keys(['trainer/global_step', '_step', '_runtime', 'val_loss_step', '_timestamp'])\n",
      "dict_keys(['trainer/global_step', '_step', '_runtime', 'val_loss_step', '_timestamp'])\n",
      "dict_keys(['trainer/global_step', '_step', '_runtime', 'val_loss_step', '_timestamp'])\n",
      "dict_keys(['trainer/global_step', '_step', '_runtime', 'val_loss_step', '_timestamp'])\n",
      "dict_keys(['trainer/global_step', '_step', '_runtime', 'val_loss_step', '_timestamp'])\n",
      "dict_keys(['trainer/global_step', '_step', '_runtime', 'val_loss_step', '_timestamp'])\n",
      "dict_keys(['trainer/global_step', '_step', '_runtime', 'val_loss_step', '_timestamp'])\n",
      "dict_keys(['trainer/global_step', '_step', '_runtime', 'val_loss_step', '_timestamp'])\n",
      "dict_keys(['trainer/global_step', '_step', '_runtime', 'val_loss_step', '_timestamp'])\n",
      "dict_keys(['trainer/global_step', '_step', '_runtime', 'val_loss_step', '_timestamp'])\n",
      "dict_keys(['trainer/global_step', '_step', '_runtime', 'val_loss_step', '_timestamp'])\n",
      "dict_keys(['trainer/global_step', '_step', '_runtime', 'val_loss_step', '_timestamp'])\n",
      "dict_keys(['trainer/global_step', '_step', '_runtime', 'val_loss_step', '_timestamp'])\n",
      "dict_keys(['trainer/global_step', '_step', '_runtime', 'val_loss_step', '_timestamp'])\n",
      "dict_keys(['trainer/global_step', '_step', '_runtime', 'val_loss_step', '_timestamp'])\n",
      "dict_keys(['trainer/global_step', '_step', '_runtime', 'val_loss_step', '_timestamp'])\n",
      "dict_keys(['trainer/global_step', '_step', '_runtime', 'val_loss_step', '_timestamp'])\n",
      "dict_keys(['trainer/global_step', '_step', '_runtime', 'val_loss_step', '_timestamp'])\n",
      "dict_keys(['trainer/global_step', '_step', '_runtime', 'val_loss_step', '_timestamp'])\n",
      "dict_keys(['trainer/global_step', '_step', '_runtime', 'val_loss_step', '_timestamp'])\n",
      "dict_keys(['trainer/global_step', '_step', '_runtime', 'val_loss_step', '_timestamp'])\n",
      "dict_keys(['trainer/global_step', '_step', '_runtime', 'val_loss_step', '_timestamp'])\n",
      "dict_keys(['trainer/global_step', '_step', '_runtime', 'val_loss_step', '_timestamp'])\n",
      "dict_keys(['trainer/global_step', '_step', '_runtime', 'val_loss_step', '_timestamp'])\n",
      "dict_keys(['trainer/global_step', '_step', '_runtime', 'val_loss_step', '_timestamp'])\n",
      "dict_keys(['trainer/global_step', '_step', '_runtime', 'val_loss_step', '_timestamp'])\n",
      "dict_keys(['trainer/global_step', '_step', '_runtime', 'val_loss_step', '_timestamp'])\n",
      "dict_keys(['trainer/global_step', '_step', '_runtime', 'val_loss_step', '_timestamp'])\n",
      "dict_keys(['trainer/global_step', '_step', '_runtime', 'val_loss_step', '_timestamp'])\n",
      "dict_keys(['trainer/global_step', '_step', '_runtime', 'val_loss_step', '_timestamp'])\n",
      "dict_keys(['trainer/global_step', '_step', '_runtime', 'val_loss_step', '_timestamp'])\n",
      "dict_keys(['trainer/global_step', '_step', '_runtime', 'val_loss_step', '_timestamp'])\n",
      "dict_keys(['trainer/global_step', '_step', '_runtime', 'val_loss_step', '_timestamp'])\n",
      "dict_keys(['trainer/global_step', '_step', '_runtime', 'val_loss_step', '_timestamp'])\n",
      "dict_keys(['trainer/global_step', '_step', '_runtime', 'val_loss_step', '_timestamp'])\n",
      "dict_keys(['trainer/global_step', '_step', '_runtime', 'val_loss_step', '_timestamp'])\n",
      "dict_keys(['trainer/global_step', '_step', '_runtime', 'val_loss_step', '_timestamp'])\n",
      "dict_keys(['trainer/global_step', '_step', '_runtime', 'val_loss_step', '_timestamp'])\n",
      "dict_keys(['trainer/global_step', '_step', '_runtime', 'val_loss_step', '_timestamp'])\n",
      "dict_keys(['trainer/global_step', '_step', '_runtime', 'val_loss_step', '_timestamp'])\n",
      "dict_keys(['trainer/global_step', '_step', '_runtime', 'val_loss_step', '_timestamp'])\n",
      "dict_keys(['trainer/global_step', '_step', '_runtime', 'val_loss_step', '_timestamp'])\n",
      "dict_keys(['trainer/global_step', '_step', '_runtime', 'val_loss_step', '_timestamp'])\n",
      "dict_keys(['trainer/global_step', '_step', '_runtime', 'val_loss_step', '_timestamp'])\n",
      "dict_keys(['trainer/global_step', '_step', '_runtime', 'val_loss_step', '_timestamp'])\n",
      "dict_keys(['trainer/global_step', '_step', '_runtime', 'val_loss_step', '_timestamp'])\n",
      "dict_keys(['trainer/global_step', '_step', '_runtime', 'val_loss_step', '_timestamp'])\n",
      "dict_keys(['trainer/global_step', '_step', '_runtime', 'val_loss_step', '_timestamp'])\n",
      "dict_keys(['trainer/global_step', '_step', '_runtime', 'val_loss_step', '_timestamp'])\n",
      "dict_keys(['trainer/global_step', '_step', '_runtime', 'val_loss_step', '_timestamp'])\n",
      "dict_keys(['trainer/global_step', '_step', '_runtime', 'val_loss_step', '_timestamp'])\n",
      "dict_keys(['trainer/global_step', '_step', '_runtime', 'val_loss_step', '_timestamp'])\n",
      "dict_keys(['trainer/global_step', '_step', '_runtime', 'val_loss_step', '_timestamp'])\n",
      "dict_keys(['trainer/global_step', '_step', '_runtime', 'val_loss_step', '_timestamp'])\n",
      "dict_keys(['trainer/global_step', '_step', '_runtime', 'val_loss_step', '_timestamp'])\n",
      "dict_keys(['trainer/global_step', '_step', '_runtime', 'val_loss_step', '_timestamp'])\n",
      "dict_keys(['trainer/global_step', '_step', '_runtime', 'val_loss_step', '_timestamp'])\n",
      "dict_keys(['trainer/global_step', '_step', '_runtime', 'val_loss_step', '_timestamp'])\n",
      "dict_keys(['trainer/global_step', '_step', '_runtime', 'val_loss_step', '_timestamp'])\n",
      "dict_keys(['trainer/global_step', '_step', '_runtime', 'val_loss_step', '_timestamp'])\n",
      "dict_keys(['trainer/global_step', '_step', '_runtime', 'val_loss_step', '_timestamp'])\n",
      "dict_keys(['trainer/global_step', '_step', '_runtime', 'val_loss_step', '_timestamp'])\n",
      "dict_keys(['trainer/global_step', '_step', '_runtime', 'val_loss_step', '_timestamp'])\n",
      "dict_keys(['trainer/global_step', '_step', '_runtime', 'val_loss_step', '_timestamp'])\n",
      "dict_keys(['trainer/global_step', '_step', '_runtime', 'val_loss_step', '_timestamp'])\n",
      "dict_keys(['trainer/global_step', '_step', '_runtime', 'val_loss_step', '_timestamp'])\n",
      "dict_keys(['trainer/global_step', '_step', '_runtime', 'val_loss_step', '_timestamp'])\n",
      "dict_keys(['trainer/global_step', '_step', '_runtime', 'val_loss_step', '_timestamp'])\n",
      "dict_keys(['trainer/global_step', '_step', '_runtime', 'val_loss_step', '_timestamp'])\n",
      "dict_keys(['trainer/global_step', '_step', '_runtime', 'val_loss_step', '_timestamp'])\n",
      "dict_keys(['trainer/global_step', '_step', '_runtime', 'val_loss_step', '_timestamp'])\n",
      "dict_keys(['trainer/global_step', '_step', '_runtime', 'val_loss_step', '_timestamp'])\n",
      "dict_keys(['trainer/global_step', '_step', '_runtime', 'val_loss_step', '_timestamp'])\n",
      "dict_keys(['trainer/global_step', '_step', '_runtime', 'val_loss_step', '_timestamp'])\n",
      "dict_keys(['trainer/global_step', '_step', '_runtime', 'val_loss_step', '_timestamp'])\n",
      "dict_keys(['trainer/global_step', '_step', '_runtime', 'val_loss_step', '_timestamp'])\n",
      "dict_keys(['trainer/global_step', '_step', '_runtime', 'val_loss_step', '_timestamp'])\n",
      "dict_keys(['trainer/global_step', '_step', '_runtime', 'val_loss_step', '_timestamp'])\n",
      "dict_keys(['trainer/global_step', '_step', '_runtime', 'val_loss_step', '_timestamp'])\n",
      "dict_keys(['trainer/global_step', '_step', '_runtime', 'val_loss_step', '_timestamp'])\n",
      "dict_keys(['trainer/global_step', '_step', '_runtime', 'val_loss_step', '_timestamp'])\n",
      "dict_keys(['trainer/global_step', '_step', '_runtime', 'val_loss_step', '_timestamp'])\n",
      "dict_keys(['trainer/global_step', '_step', '_runtime', 'val_loss_step', '_timestamp'])\n",
      "dict_keys(['trainer/global_step', '_step', '_runtime', 'val_loss_step', '_timestamp'])\n",
      "dict_keys(['trainer/global_step', '_step', '_runtime', 'val_loss_step', '_timestamp'])\n",
      "dict_keys(['trainer/global_step', '_step', '_runtime', 'val_loss_step', '_timestamp'])\n",
      "dict_keys(['trainer/global_step', '_step', '_runtime', 'val_loss_step', '_timestamp'])\n",
      "dict_keys(['trainer/global_step', '_step', '_runtime', 'val_loss_step', '_timestamp'])\n",
      "dict_keys(['trainer/global_step', '_step', '_runtime', 'val_loss_step', '_timestamp'])\n",
      "dict_keys(['trainer/global_step', '_step', '_runtime', 'val_loss_step', '_timestamp'])\n",
      "dict_keys(['trainer/global_step', '_step', '_runtime', 'val_loss_step', '_timestamp'])\n",
      "dict_keys(['trainer/global_step', '_step', '_runtime', 'val_loss_step', '_timestamp'])\n",
      "dict_keys(['trainer/global_step', '_step', '_runtime', 'val_loss_step', '_timestamp'])\n",
      "dict_keys(['trainer/global_step', '_step', '_runtime', 'val_loss_step', '_timestamp'])\n",
      "dict_keys(['trainer/global_step', '_step', '_runtime', 'val_loss_step', '_timestamp'])\n",
      "dict_keys(['trainer/global_step', '_step', '_runtime', 'val_loss_step', '_timestamp'])\n",
      "dict_keys(['trainer/global_step', '_step', '_runtime', 'val_loss_step', '_timestamp'])\n",
      "dict_keys(['trainer/global_step', '_step', '_runtime', 'val_loss_step', '_timestamp'])\n",
      "dict_keys(['trainer/global_step', '_step', '_runtime', 'val_loss_step', '_timestamp'])\n",
      "dict_keys(['trainer/global_step', '_step', '_runtime', 'val_loss_step', '_timestamp'])\n",
      "dict_keys(['trainer/global_step', '_step', '_runtime', 'val_loss_step', '_timestamp'])\n",
      "dict_keys(['trainer/global_step', '_step', '_runtime', 'val_loss_step', '_timestamp'])\n",
      "dict_keys(['trainer/global_step', '_step', '_runtime', 'val_loss_step', '_timestamp'])\n",
      "dict_keys(['trainer/global_step', '_step', '_runtime', 'val_loss_step', '_timestamp'])\n",
      "dict_keys(['trainer/global_step', '_step', '_runtime', 'val_loss_step', '_timestamp'])\n",
      "dict_keys(['trainer/global_step', '_step', '_runtime', 'val_loss_step', '_timestamp'])\n",
      "dict_keys(['trainer/global_step', '_step', '_runtime', 'val_loss_step', '_timestamp'])\n",
      "dict_keys(['trainer/global_step', '_step', '_runtime', 'val_loss_step', '_timestamp'])\n",
      "dict_keys(['trainer/global_step', '_step', '_runtime', 'val_loss_step', '_timestamp'])\n",
      "dict_keys(['trainer/global_step', '_step', '_runtime', 'val_loss_step', '_timestamp'])\n",
      "dict_keys(['trainer/global_step', '_step', '_runtime', 'val_loss_step', '_timestamp'])\n",
      "dict_keys(['trainer/global_step', '_step', '_runtime', 'val_loss_step', '_timestamp'])\n",
      "dict_keys(['trainer/global_step', '_step', '_runtime', 'val_loss_step', '_timestamp'])\n",
      "dict_keys(['trainer/global_step', '_step', '_runtime', 'val_loss_step', '_timestamp'])\n",
      "dict_keys(['trainer/global_step', '_step', '_runtime', 'val_loss_step', '_timestamp'])\n",
      "dict_keys(['trainer/global_step', '_step', '_runtime', 'val_loss_step', '_timestamp'])\n",
      "dict_keys(['trainer/global_step', '_step', '_runtime', 'val_loss_step', '_timestamp'])\n",
      "dict_keys(['trainer/global_step', '_step', '_runtime', 'val_loss_step', '_timestamp'])\n",
      "dict_keys(['trainer/global_step', '_step', '_runtime', 'val_loss_step', '_timestamp'])\n",
      "dict_keys(['trainer/global_step', '_step', '_runtime', 'val_loss_step', '_timestamp'])\n",
      "dict_keys(['trainer/global_step', '_step', '_runtime', 'val_loss_step', '_timestamp'])\n",
      "dict_keys(['trainer/global_step', '_step', '_runtime', 'val_loss_step', '_timestamp'])\n",
      "dict_keys(['trainer/global_step', '_step', '_runtime', 'val_loss_step', '_timestamp'])\n",
      "dict_keys(['trainer/global_step', '_step', '_runtime', 'val_loss_step', '_timestamp'])\n",
      "dict_keys(['trainer/global_step', '_step', '_runtime', 'val_loss_step', '_timestamp'])\n",
      "dict_keys(['trainer/global_step', '_step', '_runtime', 'val_loss_step', '_timestamp'])\n",
      "dict_keys(['trainer/global_step', '_step', '_runtime', 'val_loss_step', '_timestamp'])\n",
      "dict_keys(['trainer/global_step', '_step', '_runtime', 'val_loss_step', '_timestamp'])\n",
      "dict_keys(['trainer/global_step', '_step', '_runtime', 'val_loss_step', '_timestamp'])\n",
      "dict_keys(['trainer/global_step', '_step', '_runtime', 'val_loss_step', '_timestamp'])\n",
      "dict_keys(['trainer/global_step', '_step', '_runtime', 'val_loss_step', '_timestamp'])\n",
      "dict_keys(['trainer/global_step', '_step', '_runtime', 'val_loss_step', '_timestamp'])\n",
      "dict_keys(['trainer/global_step', '_step', '_runtime', 'val_loss_step', '_timestamp'])\n",
      "dict_keys(['trainer/global_step', '_step', '_runtime', 'val_loss_step', '_timestamp'])\n",
      "dict_keys(['trainer/global_step', '_step', '_runtime', 'val_loss_step', '_timestamp'])\n",
      "dict_keys(['trainer/global_step', '_step', '_runtime', 'val_loss_step', '_timestamp'])\n",
      "dict_keys(['trainer/global_step', '_step', '_runtime', 'val_loss_step', '_timestamp'])\n",
      "dict_keys(['trainer/global_step', '_step', '_runtime', 'val_loss_step', '_timestamp'])\n",
      "dict_keys(['trainer/global_step', '_step', '_runtime', 'val_loss_step', '_timestamp'])\n",
      "dict_keys(['trainer/global_step', '_step', '_runtime', 'val_loss_step', '_timestamp'])\n",
      "dict_keys(['trainer/global_step', '_step', '_runtime', 'val_loss_step', '_timestamp'])\n",
      "dict_keys(['trainer/global_step', '_step', '_runtime', 'val_loss_step', '_timestamp'])\n",
      "dict_keys(['trainer/global_step', '_step', '_runtime', 'val_loss_step', '_timestamp'])\n",
      "dict_keys(['trainer/global_step', '_step', '_runtime', 'val_loss_step', '_timestamp'])\n",
      "dict_keys(['trainer/global_step', '_step', '_runtime', 'val_loss_step', '_timestamp'])\n",
      "dict_keys(['trainer/global_step', '_step', '_runtime', 'val_loss_step', '_timestamp'])\n",
      "dict_keys(['trainer/global_step', '_step', '_runtime', 'val_loss_step', '_timestamp'])\n",
      "dict_keys(['trainer/global_step', '_step', '_runtime', 'val_loss_step', '_timestamp'])\n",
      "dict_keys(['trainer/global_step', '_step', '_runtime', 'val_loss_step', '_timestamp'])\n",
      "dict_keys(['trainer/global_step', '_step', '_runtime', 'val_loss_step', '_timestamp'])\n",
      "dict_keys(['trainer/global_step', '_step', '_runtime', 'val_loss_step', '_timestamp'])\n",
      "dict_keys(['trainer/global_step', '_step', '_runtime', 'val_loss_step', '_timestamp'])\n",
      "dict_keys(['trainer/global_step', '_step', '_runtime', 'val_loss_step', '_timestamp'])\n",
      "dict_keys(['trainer/global_step', '_step', '_runtime', 'val_loss_step', '_timestamp'])\n",
      "dict_keys(['trainer/global_step', '_step', '_runtime', 'val_loss_step', '_timestamp'])\n",
      "dict_keys(['trainer/global_step', '_step', '_runtime', 'val_loss_step', '_timestamp'])\n",
      "dict_keys(['trainer/global_step', '_step', '_runtime', 'val_loss_step', '_timestamp'])\n",
      "dict_keys(['trainer/global_step', '_step', '_runtime', 'val_loss_step', '_timestamp'])\n",
      "dict_keys(['trainer/global_step', '_step', '_runtime', 'val_loss_step', '_timestamp'])\n",
      "dict_keys(['trainer/global_step', '_step', '_runtime', 'val_loss_step', '_timestamp'])\n",
      "dict_keys(['trainer/global_step', '_step', '_runtime', 'val_loss_step', '_timestamp'])\n",
      "dict_keys(['trainer/global_step', '_step', '_runtime', 'val_loss_step', '_timestamp'])\n",
      "dict_keys(['trainer/global_step', '_step', '_runtime', 'val_loss_step', '_timestamp'])\n",
      "dict_keys(['trainer/global_step', '_step', '_runtime', 'val_loss_step', '_timestamp'])\n",
      "dict_keys(['trainer/global_step', '_step', '_runtime', 'val_loss_step', '_timestamp'])\n",
      "dict_keys(['trainer/global_step', '_step', '_runtime', 'val_loss_step', '_timestamp'])\n",
      "dict_keys(['trainer/global_step', '_step', '_runtime', 'val_loss_step', '_timestamp'])\n",
      "dict_keys(['trainer/global_step', '_step', '_runtime', 'val_loss_step', '_timestamp'])\n",
      "dict_keys(['trainer/global_step', '_step', '_runtime', 'val_loss_step', '_timestamp'])\n",
      "dict_keys(['trainer/global_step', '_step', '_runtime', 'val_loss_step', '_timestamp'])\n",
      "dict_keys(['trainer/global_step', '_step', '_runtime', 'val_loss_step', '_timestamp'])\n",
      "dict_keys(['trainer/global_step', '_step', '_runtime', 'val_loss_step', '_timestamp'])\n",
      "dict_keys(['trainer/global_step', '_step', '_runtime', 'val_loss_step', '_timestamp'])\n",
      "dict_keys(['trainer/global_step', '_step', '_runtime', 'val_loss_step', '_timestamp'])\n",
      "dict_keys(['trainer/global_step', '_step', '_runtime', 'val_loss_step', '_timestamp'])\n",
      "dict_keys(['trainer/global_step', '_step', '_runtime', 'val_loss_step', '_timestamp'])\n",
      "dict_keys(['trainer/global_step', '_step', '_runtime', 'val_loss_step', '_timestamp'])\n",
      "dict_keys(['trainer/global_step', '_step', '_runtime', 'val_loss_step', '_timestamp'])\n",
      "dict_keys(['trainer/global_step', '_step', '_runtime', 'val_loss_step', '_timestamp'])\n",
      "dict_keys(['trainer/global_step', '_step', '_runtime', 'val_loss_step', '_timestamp'])\n",
      "dict_keys(['trainer/global_step', '_step', '_runtime', 'val_loss_step', '_timestamp'])\n",
      "dict_keys(['trainer/global_step', '_step', '_runtime', 'val_loss_step', '_timestamp'])\n",
      "dict_keys(['trainer/global_step', '_step', '_runtime', 'val_loss_step', '_timestamp'])\n",
      "dict_keys(['trainer/global_step', '_step', '_runtime', 'val_loss_step', '_timestamp'])\n",
      "dict_keys(['trainer/global_step', '_step', '_runtime', 'val_loss_step', '_timestamp'])\n",
      "dict_keys(['trainer/global_step', '_step', '_runtime', 'val_loss_step', '_timestamp'])\n",
      "dict_keys(['trainer/global_step', '_step', '_runtime', 'val_loss_step', '_timestamp'])\n",
      "dict_keys(['trainer/global_step', '_step', '_runtime', 'val_loss_step', '_timestamp'])\n",
      "dict_keys(['trainer/global_step', '_step', '_runtime', 'val_loss_step', '_timestamp'])\n",
      "dict_keys(['trainer/global_step', '_step', '_runtime', 'val_loss_step', '_timestamp'])\n",
      "dict_keys(['trainer/global_step', '_step', '_runtime', 'val_loss_step', '_timestamp'])\n",
      "dict_keys(['trainer/global_step', '_step', '_runtime', 'val_loss_step', '_timestamp'])\n",
      "dict_keys(['trainer/global_step', '_step', '_runtime', 'val_loss_step', '_timestamp'])\n",
      "dict_keys(['trainer/global_step', '_step', '_runtime', 'val_loss_step', '_timestamp'])\n",
      "dict_keys(['trainer/global_step', '_step', '_runtime', 'val_loss_step', '_timestamp'])\n",
      "dict_keys(['trainer/global_step', '_step', '_runtime', 'val_loss_step', '_timestamp'])\n",
      "dict_keys(['trainer/global_step', '_step', '_runtime', 'val_loss_step', '_timestamp'])\n",
      "dict_keys(['trainer/global_step', '_step', '_runtime', 'val_loss_step', '_timestamp'])\n",
      "dict_keys(['trainer/global_step', '_step', '_runtime', 'val_loss_step', '_timestamp'])\n",
      "dict_keys(['trainer/global_step', '_step', '_runtime', 'val_loss_step', '_timestamp'])\n",
      "dict_keys(['trainer/global_step', '_step', '_runtime', 'val_loss_step', '_timestamp'])\n",
      "dict_keys(['trainer/global_step', '_step', '_runtime', 'val_loss_step', '_timestamp'])\n",
      "dict_keys(['trainer/global_step', '_step', '_runtime', 'val_loss_step', '_timestamp'])\n",
      "dict_keys(['trainer/global_step', '_step', '_runtime', 'val_loss_step', '_timestamp'])\n",
      "dict_keys(['trainer/global_step', '_step', '_runtime', 'val_loss_step', '_timestamp'])\n",
      "dict_keys(['trainer/global_step', '_step', '_runtime', 'val_loss_step', '_timestamp'])\n",
      "dict_keys(['trainer/global_step', '_step', '_runtime', 'val_loss_step', '_timestamp'])\n",
      "dict_keys(['trainer/global_step', '_step', '_runtime', 'val_loss_step', '_timestamp'])\n",
      "dict_keys(['trainer/global_step', '_step', '_runtime', 'val_loss_step', '_timestamp'])\n",
      "dict_keys(['trainer/global_step', '_step', '_runtime', 'val_loss_step', '_timestamp'])\n",
      "dict_keys(['trainer/global_step', '_step', '_runtime', 'val_loss_step', '_timestamp'])\n",
      "dict_keys(['trainer/global_step', '_step', '_runtime', 'val_loss_step', '_timestamp'])\n",
      "dict_keys(['trainer/global_step', '_step', '_runtime', 'val_loss_step', '_timestamp'])\n",
      "dict_keys(['trainer/global_step', '_step', '_runtime', 'val_loss_step', '_timestamp'])\n",
      "dict_keys(['trainer/global_step', '_step', '_runtime', 'val_loss_step', '_timestamp'])\n",
      "dict_keys(['trainer/global_step', '_step', '_runtime', 'val_loss_step', '_timestamp'])\n",
      "dict_keys(['trainer/global_step', '_step', '_runtime', 'val_loss_step', '_timestamp'])\n",
      "dict_keys(['trainer/global_step', '_step', '_runtime', 'val_loss_step', '_timestamp'])\n",
      "dict_keys(['trainer/global_step', '_step', '_runtime', 'val_loss_step', '_timestamp'])\n",
      "dict_keys(['trainer/global_step', '_step', '_runtime', 'val_loss_step', '_timestamp'])\n",
      "dict_keys(['trainer/global_step', '_step', '_runtime', 'val_loss_step', '_timestamp'])\n",
      "dict_keys(['trainer/global_step', '_step', '_runtime', 'val_loss_step', '_timestamp'])\n",
      "dict_keys(['trainer/global_step', '_step', '_runtime', 'val_loss_step', '_timestamp'])\n",
      "dict_keys(['trainer/global_step', '_step', '_runtime', 'val_loss_step', '_timestamp'])\n",
      "dict_keys(['trainer/global_step', '_step', '_runtime', 'val_loss_step', '_timestamp'])\n",
      "dict_keys(['trainer/global_step', '_step', '_runtime', 'val_loss_step', '_timestamp'])\n",
      "dict_keys(['trainer/global_step', '_step', '_runtime', 'val_loss_step', '_timestamp'])\n",
      "dict_keys(['trainer/global_step', '_step', '_runtime', 'val_loss_step', '_timestamp'])\n",
      "dict_keys(['trainer/global_step', '_step', '_runtime', 'val_loss_step', '_timestamp'])\n",
      "dict_keys(['trainer/global_step', '_step', '_runtime', 'val_loss_step', '_timestamp'])\n",
      "dict_keys(['trainer/global_step', '_step', '_runtime', 'val_loss_step', '_timestamp'])\n",
      "dict_keys(['trainer/global_step', '_step', '_runtime', 'val_loss_step', '_timestamp'])\n",
      "dict_keys(['trainer/global_step', '_step', '_runtime', 'val_loss_step', '_timestamp'])\n",
      "dict_keys(['trainer/global_step', '_step', '_runtime', 'val_loss_step', '_timestamp'])\n",
      "dict_keys(['trainer/global_step', '_step', '_runtime', 'val_loss_step', '_timestamp'])\n",
      "dict_keys(['trainer/global_step', '_step', '_runtime', 'val_loss_step', '_timestamp'])\n",
      "dict_keys(['trainer/global_step', '_step', '_runtime', 'val_loss_step', '_timestamp'])\n",
      "dict_keys(['trainer/global_step', '_step', '_runtime', 'val_loss_step', '_timestamp'])\n",
      "dict_keys(['trainer/global_step', '_step', '_runtime', 'val_loss_step', '_timestamp'])\n",
      "dict_keys(['trainer/global_step', '_step', '_runtime', 'val_loss_step', '_timestamp'])\n",
      "dict_keys(['trainer/global_step', '_step', '_runtime', 'val_loss_step', '_timestamp'])\n",
      "dict_keys(['trainer/global_step', '_step', '_runtime', 'val_loss_step', '_timestamp'])\n",
      "dict_keys(['trainer/global_step', '_step', '_runtime', 'val_loss_step', '_timestamp'])\n",
      "dict_keys(['trainer/global_step', '_step', '_runtime', 'val_loss_step', '_timestamp'])\n",
      "dict_keys(['trainer/global_step', '_step', '_runtime', 'val_loss_step', '_timestamp'])\n",
      "dict_keys(['trainer/global_step', '_step', '_runtime', 'val_loss_step', '_timestamp'])\n",
      "dict_keys(['val_median_f1', 'val_auroc', 'trainer/global_step', 'val_per_class_recall', '_step', 'val_confusion_matrix', 'val_f1', '_runtime', 'val_total_accuracy', 'val_recall', 'val_balanced_accuracy', 'val_weighted_accuracy', 'val_loss_epoch', 'epoch', 'val_per_class_f1', 'val_precision', 'val_per_class_precision', '_timestamp', 'val_specificity'])\n",
      "dict_keys(['train_precision', 'trainer/global_step', 'train_f1', '_step', 'train_auroc', 'train_specificity', '_runtime', 'train_loss_epoch', 'train_confusion_matrix', 'train_weighted_accuracy', 'train_balanced_accuracy', 'train_total_accuracy', 'train_per_class_recall', 'epoch', 'train_per_class_precision', 'train_recall', 'train_per_class_f1', '_timestamp'])\n",
      "dict_keys(['trainer/global_step', '_step', '_runtime', 'lr-Adam', '_timestamp'])\n",
      "dict_keys(['trainer/global_step', '_step', '_runtime', 'train_loss_step', 'epoch', '_timestamp'])\n",
      "dict_keys(['trainer/global_step', '_step', '_runtime', 'train_loss_step', 'epoch', '_timestamp'])\n",
      "dict_keys(['trainer/global_step', '_step', '_runtime', 'train_loss_step', 'epoch', '_timestamp'])\n",
      "dict_keys(['trainer/global_step', '_step', '_runtime', 'train_loss_step', 'epoch', '_timestamp'])\n",
      "dict_keys(['trainer/global_step', '_step', '_runtime', 'train_loss_step', 'epoch', '_timestamp'])\n",
      "dict_keys(['trainer/global_step', '_step', '_runtime', 'train_loss_step', 'epoch', '_timestamp'])\n",
      "dict_keys(['trainer/global_step', '_step', '_runtime', 'train_loss_step', 'epoch', '_timestamp'])\n",
      "dict_keys(['trainer/global_step', '_step', '_runtime', 'train_loss_step', 'epoch', '_timestamp'])\n",
      "dict_keys(['trainer/global_step', '_step', '_runtime', 'train_loss_step', 'epoch', '_timestamp'])\n",
      "dict_keys(['trainer/global_step', '_step', '_runtime', 'train_loss_step', 'epoch', '_timestamp'])\n",
      "dict_keys(['trainer/global_step', '_step', '_runtime', 'train_loss_step', 'epoch', '_timestamp'])\n",
      "dict_keys(['trainer/global_step', '_step', '_runtime', 'train_loss_step', 'epoch', '_timestamp'])\n",
      "dict_keys(['trainer/global_step', '_step', '_runtime', 'train_loss_step', 'epoch', '_timestamp'])\n",
      "dict_keys(['trainer/global_step', '_step', '_runtime', 'train_loss_step', 'epoch', '_timestamp'])\n",
      "dict_keys(['trainer/global_step', '_step', '_runtime', 'train_loss_step', 'epoch', '_timestamp'])\n",
      "dict_keys(['trainer/global_step', '_step', '_runtime', 'train_loss_step', 'epoch', '_timestamp'])\n",
      "dict_keys(['trainer/global_step', '_step', '_runtime', 'train_loss_step', 'epoch', '_timestamp'])\n",
      "dict_keys(['trainer/global_step', '_step', '_runtime', 'train_loss_step', 'epoch', '_timestamp'])\n",
      "dict_keys(['trainer/global_step', '_step', '_runtime', 'train_loss_step', 'epoch', '_timestamp'])\n",
      "dict_keys(['trainer/global_step', '_step', '_runtime', 'val_loss_step', '_timestamp'])\n",
      "dict_keys(['trainer/global_step', '_step', '_runtime', 'val_loss_step', '_timestamp'])\n",
      "dict_keys(['trainer/global_step', '_step', '_runtime', 'val_loss_step', '_timestamp'])\n",
      "dict_keys(['trainer/global_step', '_step', '_runtime', 'val_loss_step', '_timestamp'])\n",
      "dict_keys(['trainer/global_step', '_step', '_runtime', 'val_loss_step', '_timestamp'])\n",
      "dict_keys(['trainer/global_step', '_step', '_runtime', 'val_loss_step', '_timestamp'])\n",
      "dict_keys(['trainer/global_step', '_step', '_runtime', 'val_loss_step', '_timestamp'])\n",
      "dict_keys(['trainer/global_step', '_step', '_runtime', 'val_loss_step', '_timestamp'])\n",
      "dict_keys(['trainer/global_step', '_step', '_runtime', 'val_loss_step', '_timestamp'])\n",
      "dict_keys(['trainer/global_step', '_step', '_runtime', 'val_loss_step', '_timestamp'])\n",
      "dict_keys(['trainer/global_step', '_step', '_runtime', 'val_loss_step', '_timestamp'])\n",
      "dict_keys(['trainer/global_step', '_step', '_runtime', 'val_loss_step', '_timestamp'])\n",
      "dict_keys(['trainer/global_step', '_step', '_runtime', 'val_loss_step', '_timestamp'])\n",
      "dict_keys(['trainer/global_step', '_step', '_runtime', 'val_loss_step', '_timestamp'])\n",
      "dict_keys(['trainer/global_step', '_step', '_runtime', 'val_loss_step', '_timestamp'])\n",
      "dict_keys(['trainer/global_step', '_step', '_runtime', 'val_loss_step', '_timestamp'])\n",
      "dict_keys(['trainer/global_step', '_step', '_runtime', 'val_loss_step', '_timestamp'])\n",
      "dict_keys(['trainer/global_step', '_step', '_runtime', 'val_loss_step', '_timestamp'])\n",
      "dict_keys(['trainer/global_step', '_step', '_runtime', 'val_loss_step', '_timestamp'])\n",
      "dict_keys(['trainer/global_step', '_step', '_runtime', 'val_loss_step', '_timestamp'])\n",
      "dict_keys(['trainer/global_step', '_step', '_runtime', 'val_loss_step', '_timestamp'])\n",
      "dict_keys(['trainer/global_step', '_step', '_runtime', 'val_loss_step', '_timestamp'])\n",
      "dict_keys(['trainer/global_step', '_step', '_runtime', 'val_loss_step', '_timestamp'])\n",
      "dict_keys(['trainer/global_step', '_step', '_runtime', 'val_loss_step', '_timestamp'])\n",
      "dict_keys(['trainer/global_step', '_step', '_runtime', 'val_loss_step', '_timestamp'])\n",
      "dict_keys(['trainer/global_step', '_step', '_runtime', 'val_loss_step', '_timestamp'])\n",
      "dict_keys(['trainer/global_step', '_step', '_runtime', 'val_loss_step', '_timestamp'])\n",
      "dict_keys(['trainer/global_step', '_step', '_runtime', 'val_loss_step', '_timestamp'])\n",
      "dict_keys(['trainer/global_step', '_step', '_runtime', 'val_loss_step', '_timestamp'])\n",
      "dict_keys(['trainer/global_step', '_step', '_runtime', 'val_loss_step', '_timestamp'])\n",
      "dict_keys(['trainer/global_step', '_step', '_runtime', 'val_loss_step', '_timestamp'])\n",
      "dict_keys(['trainer/global_step', '_step', '_runtime', 'val_loss_step', '_timestamp'])\n",
      "dict_keys(['trainer/global_step', '_step', '_runtime', 'val_loss_step', '_timestamp'])\n",
      "dict_keys(['trainer/global_step', '_step', '_runtime', 'val_loss_step', '_timestamp'])\n",
      "dict_keys(['trainer/global_step', '_step', '_runtime', 'val_loss_step', '_timestamp'])\n",
      "dict_keys(['trainer/global_step', '_step', '_runtime', 'val_loss_step', '_timestamp'])\n",
      "dict_keys(['trainer/global_step', '_step', '_runtime', 'val_loss_step', '_timestamp'])\n",
      "dict_keys(['trainer/global_step', '_step', '_runtime', 'val_loss_step', '_timestamp'])\n",
      "dict_keys(['trainer/global_step', '_step', '_runtime', 'val_loss_step', '_timestamp'])\n",
      "dict_keys(['trainer/global_step', '_step', '_runtime', 'val_loss_step', '_timestamp'])\n",
      "dict_keys(['trainer/global_step', '_step', '_runtime', 'val_loss_step', '_timestamp'])\n",
      "dict_keys(['trainer/global_step', '_step', '_runtime', 'val_loss_step', '_timestamp'])\n",
      "dict_keys(['trainer/global_step', '_step', '_runtime', 'val_loss_step', '_timestamp'])\n",
      "dict_keys(['trainer/global_step', '_step', '_runtime', 'val_loss_step', '_timestamp'])\n",
      "dict_keys(['trainer/global_step', '_step', '_runtime', 'val_loss_step', '_timestamp'])\n",
      "dict_keys(['trainer/global_step', '_step', '_runtime', 'val_loss_step', '_timestamp'])\n",
      "dict_keys(['trainer/global_step', '_step', '_runtime', 'val_loss_step', '_timestamp'])\n",
      "dict_keys(['trainer/global_step', '_step', '_runtime', 'val_loss_step', '_timestamp'])\n",
      "dict_keys(['trainer/global_step', '_step', '_runtime', 'val_loss_step', '_timestamp'])\n",
      "dict_keys(['trainer/global_step', '_step', '_runtime', 'val_loss_step', '_timestamp'])\n",
      "dict_keys(['trainer/global_step', '_step', '_runtime', 'val_loss_step', '_timestamp'])\n",
      "dict_keys(['trainer/global_step', '_step', '_runtime', 'val_loss_step', '_timestamp'])\n",
      "dict_keys(['trainer/global_step', '_step', '_runtime', 'val_loss_step', '_timestamp'])\n",
      "dict_keys(['trainer/global_step', '_step', '_runtime', 'val_loss_step', '_timestamp'])\n",
      "dict_keys(['trainer/global_step', '_step', '_runtime', 'val_loss_step', '_timestamp'])\n",
      "dict_keys(['trainer/global_step', '_step', '_runtime', 'val_loss_step', '_timestamp'])\n",
      "dict_keys(['trainer/global_step', '_step', '_runtime', 'val_loss_step', '_timestamp'])\n",
      "dict_keys(['trainer/global_step', '_step', '_runtime', 'val_loss_step', '_timestamp'])\n",
      "dict_keys(['trainer/global_step', '_step', '_runtime', 'val_loss_step', '_timestamp'])\n",
      "dict_keys(['trainer/global_step', '_step', '_runtime', 'val_loss_step', '_timestamp'])\n",
      "dict_keys(['trainer/global_step', '_step', '_runtime', 'val_loss_step', '_timestamp'])\n",
      "dict_keys(['trainer/global_step', '_step', '_runtime', 'val_loss_step', '_timestamp'])\n",
      "dict_keys(['trainer/global_step', '_step', '_runtime', 'val_loss_step', '_timestamp'])\n",
      "dict_keys(['trainer/global_step', '_step', '_runtime', 'val_loss_step', '_timestamp'])\n",
      "dict_keys(['trainer/global_step', '_step', '_runtime', 'val_loss_step', '_timestamp'])\n",
      "dict_keys(['trainer/global_step', '_step', '_runtime', 'val_loss_step', '_timestamp'])\n",
      "dict_keys(['trainer/global_step', '_step', '_runtime', 'val_loss_step', '_timestamp'])\n",
      "dict_keys(['trainer/global_step', '_step', '_runtime', 'val_loss_step', '_timestamp'])\n",
      "dict_keys(['trainer/global_step', '_step', '_runtime', 'val_loss_step', '_timestamp'])\n",
      "dict_keys(['trainer/global_step', '_step', '_runtime', 'val_loss_step', '_timestamp'])\n",
      "dict_keys(['trainer/global_step', '_step', '_runtime', 'val_loss_step', '_timestamp'])\n",
      "dict_keys(['trainer/global_step', '_step', '_runtime', 'val_loss_step', '_timestamp'])\n",
      "dict_keys(['trainer/global_step', '_step', '_runtime', 'val_loss_step', '_timestamp'])\n",
      "dict_keys(['trainer/global_step', '_step', '_runtime', 'val_loss_step', '_timestamp'])\n",
      "dict_keys(['trainer/global_step', '_step', '_runtime', 'val_loss_step', '_timestamp'])\n",
      "dict_keys(['trainer/global_step', '_step', '_runtime', 'val_loss_step', '_timestamp'])\n",
      "dict_keys(['trainer/global_step', '_step', '_runtime', 'val_loss_step', '_timestamp'])\n",
      "dict_keys(['trainer/global_step', '_step', '_runtime', 'val_loss_step', '_timestamp'])\n",
      "dict_keys(['trainer/global_step', '_step', '_runtime', 'val_loss_step', '_timestamp'])\n",
      "dict_keys(['trainer/global_step', '_step', '_runtime', 'val_loss_step', '_timestamp'])\n",
      "dict_keys(['trainer/global_step', '_step', '_runtime', 'val_loss_step', '_timestamp'])\n",
      "dict_keys(['trainer/global_step', '_step', '_runtime', 'val_loss_step', '_timestamp'])\n",
      "dict_keys(['trainer/global_step', '_step', '_runtime', 'val_loss_step', '_timestamp'])\n",
      "dict_keys(['trainer/global_step', '_step', '_runtime', 'val_loss_step', '_timestamp'])\n",
      "dict_keys(['trainer/global_step', '_step', '_runtime', 'val_loss_step', '_timestamp'])\n",
      "dict_keys(['trainer/global_step', '_step', '_runtime', 'val_loss_step', '_timestamp'])\n",
      "dict_keys(['trainer/global_step', '_step', '_runtime', 'val_loss_step', '_timestamp'])\n",
      "dict_keys(['trainer/global_step', '_step', '_runtime', 'val_loss_step', '_timestamp'])\n",
      "dict_keys(['trainer/global_step', '_step', '_runtime', 'val_loss_step', '_timestamp'])\n",
      "dict_keys(['trainer/global_step', '_step', '_runtime', 'val_loss_step', '_timestamp'])\n",
      "dict_keys(['trainer/global_step', '_step', '_runtime', 'val_loss_step', '_timestamp'])\n",
      "dict_keys(['trainer/global_step', '_step', '_runtime', 'val_loss_step', '_timestamp'])\n",
      "dict_keys(['trainer/global_step', '_step', '_runtime', 'val_loss_step', '_timestamp'])\n",
      "dict_keys(['trainer/global_step', '_step', '_runtime', 'val_loss_step', '_timestamp'])\n",
      "dict_keys(['trainer/global_step', '_step', '_runtime', 'val_loss_step', '_timestamp'])\n",
      "dict_keys(['trainer/global_step', '_step', '_runtime', 'val_loss_step', '_timestamp'])\n",
      "dict_keys(['trainer/global_step', '_step', '_runtime', 'val_loss_step', '_timestamp'])\n",
      "dict_keys(['trainer/global_step', '_step', '_runtime', 'val_loss_step', '_timestamp'])\n",
      "dict_keys(['trainer/global_step', '_step', '_runtime', 'val_loss_step', '_timestamp'])\n",
      "dict_keys(['trainer/global_step', '_step', '_runtime', 'val_loss_step', '_timestamp'])\n",
      "dict_keys(['trainer/global_step', '_step', '_runtime', 'val_loss_step', '_timestamp'])\n",
      "dict_keys(['trainer/global_step', '_step', '_runtime', 'val_loss_step', '_timestamp'])\n",
      "dict_keys(['trainer/global_step', '_step', '_runtime', 'val_loss_step', '_timestamp'])\n",
      "dict_keys(['trainer/global_step', '_step', '_runtime', 'val_loss_step', '_timestamp'])\n",
      "dict_keys(['trainer/global_step', '_step', '_runtime', 'val_loss_step', '_timestamp'])\n",
      "dict_keys(['trainer/global_step', '_step', '_runtime', 'val_loss_step', '_timestamp'])\n",
      "dict_keys(['trainer/global_step', '_step', '_runtime', 'val_loss_step', '_timestamp'])\n",
      "dict_keys(['trainer/global_step', '_step', '_runtime', 'val_loss_step', '_timestamp'])\n",
      "dict_keys(['trainer/global_step', '_step', '_runtime', 'val_loss_step', '_timestamp'])\n",
      "dict_keys(['trainer/global_step', '_step', '_runtime', 'val_loss_step', '_timestamp'])\n",
      "dict_keys(['trainer/global_step', '_step', '_runtime', 'val_loss_step', '_timestamp'])\n",
      "dict_keys(['trainer/global_step', '_step', '_runtime', 'val_loss_step', '_timestamp'])\n",
      "dict_keys(['trainer/global_step', '_step', '_runtime', 'val_loss_step', '_timestamp'])\n",
      "dict_keys(['trainer/global_step', '_step', '_runtime', 'val_loss_step', '_timestamp'])\n",
      "dict_keys(['trainer/global_step', '_step', '_runtime', 'val_loss_step', '_timestamp'])\n",
      "dict_keys(['trainer/global_step', '_step', '_runtime', 'val_loss_step', '_timestamp'])\n",
      "dict_keys(['trainer/global_step', '_step', '_runtime', 'val_loss_step', '_timestamp'])\n",
      "dict_keys(['trainer/global_step', '_step', '_runtime', 'val_loss_step', '_timestamp'])\n",
      "dict_keys(['trainer/global_step', '_step', '_runtime', 'val_loss_step', '_timestamp'])\n",
      "dict_keys(['trainer/global_step', '_step', '_runtime', 'val_loss_step', '_timestamp'])\n",
      "dict_keys(['trainer/global_step', '_step', '_runtime', 'val_loss_step', '_timestamp'])\n",
      "dict_keys(['trainer/global_step', '_step', '_runtime', 'val_loss_step', '_timestamp'])\n",
      "dict_keys(['trainer/global_step', '_step', '_runtime', 'val_loss_step', '_timestamp'])\n",
      "dict_keys(['trainer/global_step', '_step', '_runtime', 'val_loss_step', '_timestamp'])\n",
      "dict_keys(['trainer/global_step', '_step', '_runtime', 'val_loss_step', '_timestamp'])\n",
      "dict_keys(['trainer/global_step', '_step', '_runtime', 'val_loss_step', '_timestamp'])\n",
      "dict_keys(['trainer/global_step', '_step', '_runtime', 'val_loss_step', '_timestamp'])\n",
      "dict_keys(['trainer/global_step', '_step', '_runtime', 'val_loss_step', '_timestamp'])\n",
      "dict_keys(['trainer/global_step', '_step', '_runtime', 'val_loss_step', '_timestamp'])\n",
      "dict_keys(['trainer/global_step', '_step', '_runtime', 'val_loss_step', '_timestamp'])\n",
      "dict_keys(['trainer/global_step', '_step', '_runtime', 'val_loss_step', '_timestamp'])\n",
      "dict_keys(['trainer/global_step', '_step', '_runtime', 'val_loss_step', '_timestamp'])\n",
      "dict_keys(['trainer/global_step', '_step', '_runtime', 'val_loss_step', '_timestamp'])\n",
      "dict_keys(['trainer/global_step', '_step', '_runtime', 'val_loss_step', '_timestamp'])\n",
      "dict_keys(['trainer/global_step', '_step', '_runtime', 'val_loss_step', '_timestamp'])\n",
      "dict_keys(['trainer/global_step', '_step', '_runtime', 'val_loss_step', '_timestamp'])\n",
      "dict_keys(['trainer/global_step', '_step', '_runtime', 'val_loss_step', '_timestamp'])\n",
      "dict_keys(['trainer/global_step', '_step', '_runtime', 'val_loss_step', '_timestamp'])\n",
      "dict_keys(['trainer/global_step', '_step', '_runtime', 'val_loss_step', '_timestamp'])\n",
      "dict_keys(['trainer/global_step', '_step', '_runtime', 'val_loss_step', '_timestamp'])\n",
      "dict_keys(['trainer/global_step', '_step', '_runtime', 'val_loss_step', '_timestamp'])\n",
      "dict_keys(['trainer/global_step', '_step', '_runtime', 'val_loss_step', '_timestamp'])\n",
      "dict_keys(['trainer/global_step', '_step', '_runtime', 'val_loss_step', '_timestamp'])\n",
      "dict_keys(['trainer/global_step', '_step', '_runtime', 'val_loss_step', '_timestamp'])\n",
      "dict_keys(['trainer/global_step', '_step', '_runtime', 'val_loss_step', '_timestamp'])\n",
      "dict_keys(['trainer/global_step', '_step', '_runtime', 'val_loss_step', '_timestamp'])\n",
      "dict_keys(['trainer/global_step', '_step', '_runtime', 'val_loss_step', '_timestamp'])\n",
      "dict_keys(['trainer/global_step', '_step', '_runtime', 'val_loss_step', '_timestamp'])\n",
      "dict_keys(['trainer/global_step', '_step', '_runtime', 'val_loss_step', '_timestamp'])\n",
      "dict_keys(['trainer/global_step', '_step', '_runtime', 'val_loss_step', '_timestamp'])\n",
      "dict_keys(['trainer/global_step', '_step', '_runtime', 'val_loss_step', '_timestamp'])\n",
      "dict_keys(['trainer/global_step', '_step', '_runtime', 'val_loss_step', '_timestamp'])\n",
      "dict_keys(['trainer/global_step', '_step', '_runtime', 'val_loss_step', '_timestamp'])\n",
      "dict_keys(['trainer/global_step', '_step', '_runtime', 'val_loss_step', '_timestamp'])\n",
      "dict_keys(['trainer/global_step', '_step', '_runtime', 'val_loss_step', '_timestamp'])\n",
      "dict_keys(['trainer/global_step', '_step', '_runtime', 'val_loss_step', '_timestamp'])\n",
      "dict_keys(['trainer/global_step', '_step', '_runtime', 'val_loss_step', '_timestamp'])\n",
      "dict_keys(['trainer/global_step', '_step', '_runtime', 'val_loss_step', '_timestamp'])\n",
      "dict_keys(['trainer/global_step', '_step', '_runtime', 'val_loss_step', '_timestamp'])\n",
      "dict_keys(['trainer/global_step', '_step', '_runtime', 'val_loss_step', '_timestamp'])\n",
      "dict_keys(['trainer/global_step', '_step', '_runtime', 'val_loss_step', '_timestamp'])\n",
      "dict_keys(['trainer/global_step', '_step', '_runtime', 'val_loss_step', '_timestamp'])\n",
      "dict_keys(['trainer/global_step', '_step', '_runtime', 'val_loss_step', '_timestamp'])\n",
      "dict_keys(['trainer/global_step', '_step', '_runtime', 'val_loss_step', '_timestamp'])\n",
      "dict_keys(['trainer/global_step', '_step', '_runtime', 'val_loss_step', '_timestamp'])\n",
      "dict_keys(['trainer/global_step', '_step', '_runtime', 'val_loss_step', '_timestamp'])\n",
      "dict_keys(['trainer/global_step', '_step', '_runtime', 'val_loss_step', '_timestamp'])\n",
      "dict_keys(['trainer/global_step', '_step', '_runtime', 'val_loss_step', '_timestamp'])\n",
      "dict_keys(['trainer/global_step', '_step', '_runtime', 'val_loss_step', '_timestamp'])\n",
      "dict_keys(['trainer/global_step', '_step', '_runtime', 'val_loss_step', '_timestamp'])\n",
      "dict_keys(['trainer/global_step', '_step', '_runtime', 'val_loss_step', '_timestamp'])\n",
      "dict_keys(['trainer/global_step', '_step', '_runtime', 'val_loss_step', '_timestamp'])\n",
      "dict_keys(['trainer/global_step', '_step', '_runtime', 'val_loss_step', '_timestamp'])\n",
      "dict_keys(['trainer/global_step', '_step', '_runtime', 'val_loss_step', '_timestamp'])\n",
      "dict_keys(['trainer/global_step', '_step', '_runtime', 'val_loss_step', '_timestamp'])\n",
      "dict_keys(['trainer/global_step', '_step', '_runtime', 'val_loss_step', '_timestamp'])\n",
      "dict_keys(['trainer/global_step', '_step', '_runtime', 'val_loss_step', '_timestamp'])\n",
      "dict_keys(['trainer/global_step', '_step', '_runtime', 'val_loss_step', '_timestamp'])\n",
      "dict_keys(['trainer/global_step', '_step', '_runtime', 'val_loss_step', '_timestamp'])\n",
      "dict_keys(['trainer/global_step', '_step', '_runtime', 'val_loss_step', '_timestamp'])\n",
      "dict_keys(['trainer/global_step', '_step', '_runtime', 'val_loss_step', '_timestamp'])\n",
      "dict_keys(['trainer/global_step', '_step', '_runtime', 'val_loss_step', '_timestamp'])\n",
      "dict_keys(['trainer/global_step', '_step', '_runtime', 'val_loss_step', '_timestamp'])\n",
      "dict_keys(['trainer/global_step', '_step', '_runtime', 'val_loss_step', '_timestamp'])\n",
      "dict_keys(['trainer/global_step', '_step', '_runtime', 'val_loss_step', '_timestamp'])\n",
      "dict_keys(['trainer/global_step', '_step', '_runtime', 'val_loss_step', '_timestamp'])\n",
      "dict_keys(['trainer/global_step', '_step', '_runtime', 'val_loss_step', '_timestamp'])\n",
      "dict_keys(['trainer/global_step', '_step', '_runtime', 'val_loss_step', '_timestamp'])\n",
      "dict_keys(['trainer/global_step', '_step', '_runtime', 'val_loss_step', '_timestamp'])\n",
      "dict_keys(['trainer/global_step', '_step', '_runtime', 'val_loss_step', '_timestamp'])\n",
      "dict_keys(['trainer/global_step', '_step', '_runtime', 'val_loss_step', '_timestamp'])\n",
      "dict_keys(['trainer/global_step', '_step', '_runtime', 'val_loss_step', '_timestamp'])\n",
      "dict_keys(['trainer/global_step', '_step', '_runtime', 'val_loss_step', '_timestamp'])\n",
      "dict_keys(['trainer/global_step', '_step', '_runtime', 'val_loss_step', '_timestamp'])\n",
      "dict_keys(['trainer/global_step', '_step', '_runtime', 'val_loss_step', '_timestamp'])\n",
      "dict_keys(['trainer/global_step', '_step', '_runtime', 'val_loss_step', '_timestamp'])\n",
      "dict_keys(['trainer/global_step', '_step', '_runtime', 'val_loss_step', '_timestamp'])\n",
      "dict_keys(['trainer/global_step', '_step', '_runtime', 'val_loss_step', '_timestamp'])\n",
      "dict_keys(['trainer/global_step', '_step', '_runtime', 'val_loss_step', '_timestamp'])\n",
      "dict_keys(['trainer/global_step', '_step', '_runtime', 'val_loss_step', '_timestamp'])\n",
      "dict_keys(['trainer/global_step', '_step', '_runtime', 'val_loss_step', '_timestamp'])\n",
      "dict_keys(['trainer/global_step', '_step', '_runtime', 'val_loss_step', '_timestamp'])\n",
      "dict_keys(['trainer/global_step', '_step', '_runtime', 'val_loss_step', '_timestamp'])\n",
      "dict_keys(['trainer/global_step', '_step', '_runtime', 'val_loss_step', '_timestamp'])\n",
      "dict_keys(['trainer/global_step', '_step', '_runtime', 'val_loss_step', '_timestamp'])\n",
      "dict_keys(['trainer/global_step', '_step', '_runtime', 'val_loss_step', '_timestamp'])\n",
      "dict_keys(['trainer/global_step', '_step', '_runtime', 'val_loss_step', '_timestamp'])\n",
      "dict_keys(['trainer/global_step', '_step', '_runtime', 'val_loss_step', '_timestamp'])\n",
      "dict_keys(['trainer/global_step', '_step', '_runtime', 'val_loss_step', '_timestamp'])\n",
      "dict_keys(['trainer/global_step', '_step', '_runtime', 'val_loss_step', '_timestamp'])\n",
      "dict_keys(['trainer/global_step', '_step', '_runtime', 'val_loss_step', '_timestamp'])\n",
      "dict_keys(['trainer/global_step', '_step', '_runtime', 'val_loss_step', '_timestamp'])\n",
      "dict_keys(['trainer/global_step', '_step', '_runtime', 'val_loss_step', '_timestamp'])\n",
      "dict_keys(['trainer/global_step', '_step', '_runtime', 'val_loss_step', '_timestamp'])\n",
      "dict_keys(['trainer/global_step', '_step', '_runtime', 'val_loss_step', '_timestamp'])\n",
      "dict_keys(['trainer/global_step', '_step', '_runtime', 'val_loss_step', '_timestamp'])\n",
      "dict_keys(['trainer/global_step', '_step', '_runtime', 'val_loss_step', '_timestamp'])\n",
      "dict_keys(['trainer/global_step', '_step', '_runtime', 'val_loss_step', '_timestamp'])\n",
      "dict_keys(['trainer/global_step', '_step', '_runtime', 'val_loss_step', '_timestamp'])\n",
      "dict_keys(['trainer/global_step', '_step', '_runtime', 'val_loss_step', '_timestamp'])\n",
      "dict_keys(['trainer/global_step', '_step', '_runtime', 'val_loss_step', '_timestamp'])\n",
      "dict_keys(['trainer/global_step', '_step', '_runtime', 'val_loss_step', '_timestamp'])\n",
      "dict_keys(['trainer/global_step', '_step', '_runtime', 'val_loss_step', '_timestamp'])\n",
      "dict_keys(['trainer/global_step', '_step', '_runtime', 'val_loss_step', '_timestamp'])\n",
      "dict_keys(['trainer/global_step', '_step', '_runtime', 'val_loss_step', '_timestamp'])\n",
      "dict_keys(['trainer/global_step', '_step', '_runtime', 'val_loss_step', '_timestamp'])\n",
      "dict_keys(['trainer/global_step', '_step', '_runtime', 'val_loss_step', '_timestamp'])\n",
      "dict_keys(['trainer/global_step', '_step', '_runtime', 'val_loss_step', '_timestamp'])\n",
      "dict_keys(['trainer/global_step', '_step', '_runtime', 'val_loss_step', '_timestamp'])\n",
      "dict_keys(['trainer/global_step', '_step', '_runtime', 'val_loss_step', '_timestamp'])\n",
      "dict_keys(['trainer/global_step', '_step', '_runtime', 'val_loss_step', '_timestamp'])\n",
      "dict_keys(['trainer/global_step', '_step', '_runtime', 'val_loss_step', '_timestamp'])\n",
      "dict_keys(['trainer/global_step', '_step', '_runtime', 'val_loss_step', '_timestamp'])\n",
      "dict_keys(['trainer/global_step', '_step', '_runtime', 'val_loss_step', '_timestamp'])\n",
      "dict_keys(['trainer/global_step', '_step', '_runtime', 'val_loss_step', '_timestamp'])\n",
      "dict_keys(['trainer/global_step', '_step', '_runtime', 'val_loss_step', '_timestamp'])\n",
      "dict_keys(['trainer/global_step', '_step', '_runtime', 'val_loss_step', '_timestamp'])\n",
      "dict_keys(['trainer/global_step', '_step', '_runtime', 'val_loss_step', '_timestamp'])\n",
      "dict_keys(['trainer/global_step', '_step', '_runtime', 'val_loss_step', '_timestamp'])\n",
      "dict_keys(['trainer/global_step', '_step', '_runtime', 'val_loss_step', '_timestamp'])\n",
      "dict_keys(['trainer/global_step', '_step', '_runtime', 'val_loss_step', '_timestamp'])\n",
      "dict_keys(['trainer/global_step', '_step', '_runtime', 'val_loss_step', '_timestamp'])\n",
      "dict_keys(['trainer/global_step', '_step', '_runtime', 'val_loss_step', '_timestamp'])\n",
      "dict_keys(['trainer/global_step', '_step', '_runtime', 'val_loss_step', '_timestamp'])\n",
      "dict_keys(['trainer/global_step', '_step', '_runtime', 'val_loss_step', '_timestamp'])\n",
      "dict_keys(['trainer/global_step', '_step', '_runtime', 'val_loss_step', '_timestamp'])\n",
      "dict_keys(['trainer/global_step', '_step', '_runtime', 'val_loss_step', '_timestamp'])\n",
      "dict_keys(['trainer/global_step', '_step', '_runtime', 'val_loss_step', '_timestamp'])\n",
      "dict_keys(['trainer/global_step', '_step', '_runtime', 'val_loss_step', '_timestamp'])\n",
      "dict_keys(['trainer/global_step', '_step', '_runtime', 'val_loss_step', '_timestamp'])\n",
      "dict_keys(['trainer/global_step', '_step', '_runtime', 'val_loss_step', '_timestamp'])\n",
      "dict_keys(['trainer/global_step', '_step', '_runtime', 'val_loss_step', '_timestamp'])\n",
      "dict_keys(['trainer/global_step', '_step', '_runtime', 'val_loss_step', '_timestamp'])\n",
      "dict_keys(['trainer/global_step', '_step', '_runtime', 'val_loss_step', '_timestamp'])\n",
      "dict_keys(['trainer/global_step', '_step', '_runtime', 'val_loss_step', '_timestamp'])\n",
      "dict_keys(['trainer/global_step', '_step', '_runtime', 'val_loss_step', '_timestamp'])\n",
      "dict_keys(['trainer/global_step', '_step', '_runtime', 'val_loss_step', '_timestamp'])\n",
      "dict_keys(['trainer/global_step', '_step', '_runtime', 'val_loss_step', '_timestamp'])\n",
      "dict_keys(['trainer/global_step', '_step', '_runtime', 'val_loss_step', '_timestamp'])\n",
      "dict_keys(['trainer/global_step', '_step', '_runtime', 'val_loss_step', '_timestamp'])\n",
      "dict_keys(['trainer/global_step', '_step', '_runtime', 'val_loss_step', '_timestamp'])\n",
      "dict_keys(['trainer/global_step', '_step', '_runtime', 'val_loss_step', '_timestamp'])\n",
      "dict_keys(['trainer/global_step', '_step', '_runtime', 'val_loss_step', '_timestamp'])\n",
      "dict_keys(['trainer/global_step', '_step', '_runtime', 'val_loss_step', '_timestamp'])\n",
      "dict_keys(['trainer/global_step', '_step', '_runtime', 'val_loss_step', '_timestamp'])\n",
      "dict_keys(['trainer/global_step', '_step', '_runtime', 'val_loss_step', '_timestamp'])\n",
      "dict_keys(['trainer/global_step', '_step', '_runtime', 'val_loss_step', '_timestamp'])\n",
      "dict_keys(['trainer/global_step', '_step', '_runtime', 'val_loss_step', '_timestamp'])\n",
      "dict_keys(['trainer/global_step', '_step', '_runtime', 'val_loss_step', '_timestamp'])\n",
      "dict_keys(['trainer/global_step', '_step', '_runtime', 'val_loss_step', '_timestamp'])\n",
      "dict_keys(['trainer/global_step', '_step', '_runtime', 'val_loss_step', '_timestamp'])\n",
      "dict_keys(['trainer/global_step', '_step', '_runtime', 'val_loss_step', '_timestamp'])\n",
      "dict_keys(['trainer/global_step', '_step', '_runtime', 'val_loss_step', '_timestamp'])\n",
      "dict_keys(['trainer/global_step', '_step', '_runtime', 'val_loss_step', '_timestamp'])\n",
      "dict_keys(['trainer/global_step', '_step', '_runtime', 'val_loss_step', '_timestamp'])\n",
      "dict_keys(['trainer/global_step', '_step', '_runtime', 'val_loss_step', '_timestamp'])\n",
      "dict_keys(['trainer/global_step', '_step', '_runtime', 'val_loss_step', '_timestamp'])\n",
      "dict_keys(['trainer/global_step', '_step', '_runtime', 'val_loss_step', '_timestamp'])\n",
      "dict_keys(['trainer/global_step', '_step', '_runtime', 'val_loss_step', '_timestamp'])\n",
      "dict_keys(['trainer/global_step', '_step', '_runtime', 'val_loss_step', '_timestamp'])\n",
      "dict_keys(['trainer/global_step', '_step', '_runtime', 'val_loss_step', '_timestamp'])\n",
      "dict_keys(['trainer/global_step', '_step', '_runtime', 'val_loss_step', '_timestamp'])\n",
      "dict_keys(['trainer/global_step', '_step', '_runtime', 'val_loss_step', '_timestamp'])\n",
      "dict_keys(['trainer/global_step', '_step', '_runtime', 'val_loss_step', '_timestamp'])\n",
      "dict_keys(['trainer/global_step', '_step', '_runtime', 'val_loss_step', '_timestamp'])\n",
      "dict_keys(['trainer/global_step', '_step', '_runtime', 'val_loss_step', '_timestamp'])\n",
      "dict_keys(['trainer/global_step', '_step', '_runtime', 'val_loss_step', '_timestamp'])\n",
      "dict_keys(['trainer/global_step', '_step', '_runtime', 'val_loss_step', '_timestamp'])\n",
      "dict_keys(['trainer/global_step', '_step', '_runtime', 'val_loss_step', '_timestamp'])\n",
      "dict_keys(['trainer/global_step', '_step', '_runtime', 'val_loss_step', '_timestamp'])\n",
      "dict_keys(['trainer/global_step', '_step', '_runtime', 'val_loss_step', '_timestamp'])\n",
      "dict_keys(['trainer/global_step', '_step', '_runtime', 'val_loss_step', '_timestamp'])\n",
      "dict_keys(['trainer/global_step', '_step', '_runtime', 'val_loss_step', '_timestamp'])\n",
      "dict_keys(['trainer/global_step', '_step', '_runtime', 'val_loss_step', '_timestamp'])\n",
      "dict_keys(['trainer/global_step', '_step', '_runtime', 'val_loss_step', '_timestamp'])\n",
      "dict_keys(['trainer/global_step', '_step', '_runtime', 'val_loss_step', '_timestamp'])\n",
      "dict_keys(['trainer/global_step', '_step', '_runtime', 'val_loss_step', '_timestamp'])\n",
      "dict_keys(['val_median_f1', 'val_auroc', 'trainer/global_step', 'val_per_class_recall', '_step', 'val_confusion_matrix', 'val_f1', '_runtime', 'val_total_accuracy', 'val_recall', 'val_balanced_accuracy', 'val_weighted_accuracy', 'val_loss_epoch', 'epoch', 'val_per_class_f1', 'val_precision', 'val_per_class_precision', '_timestamp', 'val_specificity'])\n",
      "dict_keys(['train_precision', 'trainer/global_step', 'train_f1', '_step', 'train_auroc', 'train_specificity', '_runtime', 'train_loss_epoch', 'train_confusion_matrix', 'train_weighted_accuracy', 'train_balanced_accuracy', 'train_total_accuracy', 'train_per_class_recall', 'epoch', 'train_per_class_precision', 'train_recall', 'train_per_class_f1', '_timestamp'])\n",
      "dict_keys(['trainer/global_step', '_step', '_runtime', 'lr-Adam', '_timestamp'])\n",
      "dict_keys(['trainer/global_step', '_step', '_runtime', 'train_loss_step', 'epoch', '_timestamp'])\n",
      "dict_keys(['trainer/global_step', '_step', '_runtime', 'train_loss_step', 'epoch', '_timestamp'])\n",
      "dict_keys(['trainer/global_step', '_step', '_runtime', 'train_loss_step', 'epoch', '_timestamp'])\n",
      "dict_keys(['trainer/global_step', '_step', '_runtime', 'train_loss_step', 'epoch', '_timestamp'])\n",
      "dict_keys(['trainer/global_step', '_step', '_runtime', 'train_loss_step', 'epoch', '_timestamp'])\n",
      "dict_keys(['trainer/global_step', '_step', '_runtime', 'train_loss_step', 'epoch', '_timestamp'])\n",
      "dict_keys(['trainer/global_step', '_step', '_runtime', 'train_loss_step', 'epoch', '_timestamp'])\n",
      "dict_keys(['trainer/global_step', '_step', '_runtime', 'train_loss_step', 'epoch', '_timestamp'])\n",
      "dict_keys(['trainer/global_step', '_step', '_runtime', 'train_loss_step', 'epoch', '_timestamp'])\n",
      "dict_keys(['trainer/global_step', '_step', '_runtime', 'train_loss_step', 'epoch', '_timestamp'])\n",
      "dict_keys(['trainer/global_step', '_step', '_runtime', 'train_loss_step', 'epoch', '_timestamp'])\n",
      "dict_keys(['trainer/global_step', '_step', '_runtime', 'train_loss_step', 'epoch', '_timestamp'])\n",
      "dict_keys(['trainer/global_step', '_step', '_runtime', 'train_loss_step', 'epoch', '_timestamp'])\n",
      "dict_keys(['trainer/global_step', '_step', '_runtime', 'train_loss_step', 'epoch', '_timestamp'])\n",
      "dict_keys(['trainer/global_step', '_step', '_runtime', 'train_loss_step', 'epoch', '_timestamp'])\n",
      "dict_keys(['trainer/global_step', '_step', '_runtime', 'train_loss_step', 'epoch', '_timestamp'])\n",
      "dict_keys(['trainer/global_step', '_step', '_runtime', 'train_loss_step', 'epoch', '_timestamp'])\n",
      "dict_keys(['trainer/global_step', '_step', '_runtime', 'train_loss_step', 'epoch', '_timestamp'])\n",
      "dict_keys(['trainer/global_step', '_step', '_runtime', 'train_loss_step', 'epoch', '_timestamp'])\n",
      "dict_keys(['trainer/global_step', '_step', '_runtime', 'val_loss_step', '_timestamp'])\n",
      "dict_keys(['trainer/global_step', '_step', '_runtime', 'val_loss_step', '_timestamp'])\n",
      "dict_keys(['trainer/global_step', '_step', '_runtime', 'val_loss_step', '_timestamp'])\n",
      "dict_keys(['trainer/global_step', '_step', '_runtime', 'val_loss_step', '_timestamp'])\n",
      "dict_keys(['trainer/global_step', '_step', '_runtime', 'val_loss_step', '_timestamp'])\n",
      "dict_keys(['trainer/global_step', '_step', '_runtime', 'val_loss_step', '_timestamp'])\n",
      "dict_keys(['trainer/global_step', '_step', '_runtime', 'val_loss_step', '_timestamp'])\n",
      "dict_keys(['trainer/global_step', '_step', '_runtime', 'val_loss_step', '_timestamp'])\n",
      "dict_keys(['trainer/global_step', '_step', '_runtime', 'val_loss_step', '_timestamp'])\n",
      "dict_keys(['trainer/global_step', '_step', '_runtime', 'val_loss_step', '_timestamp'])\n",
      "dict_keys(['trainer/global_step', '_step', '_runtime', 'val_loss_step', '_timestamp'])\n",
      "dict_keys(['trainer/global_step', '_step', '_runtime', 'val_loss_step', '_timestamp'])\n",
      "dict_keys(['trainer/global_step', '_step', '_runtime', 'val_loss_step', '_timestamp'])\n",
      "dict_keys(['trainer/global_step', '_step', '_runtime', 'val_loss_step', '_timestamp'])\n",
      "dict_keys(['trainer/global_step', '_step', '_runtime', 'val_loss_step', '_timestamp'])\n",
      "dict_keys(['trainer/global_step', '_step', '_runtime', 'val_loss_step', '_timestamp'])\n",
      "dict_keys(['trainer/global_step', '_step', '_runtime', 'val_loss_step', '_timestamp'])\n",
      "dict_keys(['trainer/global_step', '_step', '_runtime', 'val_loss_step', '_timestamp'])\n",
      "dict_keys(['trainer/global_step', '_step', '_runtime', 'val_loss_step', '_timestamp'])\n",
      "dict_keys(['trainer/global_step', '_step', '_runtime', 'val_loss_step', '_timestamp'])\n",
      "dict_keys(['trainer/global_step', '_step', '_runtime', 'val_loss_step', '_timestamp'])\n",
      "dict_keys(['trainer/global_step', '_step', '_runtime', 'val_loss_step', '_timestamp'])\n",
      "dict_keys(['trainer/global_step', '_step', '_runtime', 'val_loss_step', '_timestamp'])\n",
      "dict_keys(['trainer/global_step', '_step', '_runtime', 'val_loss_step', '_timestamp'])\n",
      "dict_keys(['trainer/global_step', '_step', '_runtime', 'val_loss_step', '_timestamp'])\n",
      "dict_keys(['trainer/global_step', '_step', '_runtime', 'val_loss_step', '_timestamp'])\n",
      "dict_keys(['trainer/global_step', '_step', '_runtime', 'val_loss_step', '_timestamp'])\n",
      "dict_keys(['trainer/global_step', '_step', '_runtime', 'val_loss_step', '_timestamp'])\n",
      "dict_keys(['trainer/global_step', '_step', '_runtime', 'val_loss_step', '_timestamp'])\n",
      "dict_keys(['trainer/global_step', '_step', '_runtime', 'val_loss_step', '_timestamp'])\n",
      "dict_keys(['trainer/global_step', '_step', '_runtime', 'val_loss_step', '_timestamp'])\n",
      "dict_keys(['trainer/global_step', '_step', '_runtime', 'val_loss_step', '_timestamp'])\n",
      "dict_keys(['trainer/global_step', '_step', '_runtime', 'val_loss_step', '_timestamp'])\n",
      "dict_keys(['trainer/global_step', '_step', '_runtime', 'val_loss_step', '_timestamp'])\n",
      "dict_keys(['trainer/global_step', '_step', '_runtime', 'val_loss_step', '_timestamp'])\n",
      "dict_keys(['trainer/global_step', '_step', '_runtime', 'val_loss_step', '_timestamp'])\n",
      "dict_keys(['trainer/global_step', '_step', '_runtime', 'val_loss_step', '_timestamp'])\n",
      "dict_keys(['trainer/global_step', '_step', '_runtime', 'val_loss_step', '_timestamp'])\n",
      "dict_keys(['trainer/global_step', '_step', '_runtime', 'val_loss_step', '_timestamp'])\n",
      "dict_keys(['trainer/global_step', '_step', '_runtime', 'val_loss_step', '_timestamp'])\n",
      "dict_keys(['trainer/global_step', '_step', '_runtime', 'val_loss_step', '_timestamp'])\n",
      "dict_keys(['trainer/global_step', '_step', '_runtime', 'val_loss_step', '_timestamp'])\n",
      "dict_keys(['trainer/global_step', '_step', '_runtime', 'val_loss_step', '_timestamp'])\n",
      "dict_keys(['trainer/global_step', '_step', '_runtime', 'val_loss_step', '_timestamp'])\n",
      "dict_keys(['trainer/global_step', '_step', '_runtime', 'val_loss_step', '_timestamp'])\n",
      "dict_keys(['trainer/global_step', '_step', '_runtime', 'val_loss_step', '_timestamp'])\n",
      "dict_keys(['trainer/global_step', '_step', '_runtime', 'val_loss_step', '_timestamp'])\n",
      "dict_keys(['trainer/global_step', '_step', '_runtime', 'val_loss_step', '_timestamp'])\n",
      "dict_keys(['trainer/global_step', '_step', '_runtime', 'val_loss_step', '_timestamp'])\n",
      "dict_keys(['trainer/global_step', '_step', '_runtime', 'val_loss_step', '_timestamp'])\n",
      "dict_keys(['trainer/global_step', '_step', '_runtime', 'val_loss_step', '_timestamp'])\n",
      "dict_keys(['trainer/global_step', '_step', '_runtime', 'val_loss_step', '_timestamp'])\n",
      "dict_keys(['trainer/global_step', '_step', '_runtime', 'val_loss_step', '_timestamp'])\n",
      "dict_keys(['trainer/global_step', '_step', '_runtime', 'val_loss_step', '_timestamp'])\n",
      "dict_keys(['trainer/global_step', '_step', '_runtime', 'val_loss_step', '_timestamp'])\n",
      "dict_keys(['trainer/global_step', '_step', '_runtime', 'val_loss_step', '_timestamp'])\n",
      "dict_keys(['trainer/global_step', '_step', '_runtime', 'val_loss_step', '_timestamp'])\n",
      "dict_keys(['trainer/global_step', '_step', '_runtime', 'val_loss_step', '_timestamp'])\n",
      "dict_keys(['trainer/global_step', '_step', '_runtime', 'val_loss_step', '_timestamp'])\n",
      "dict_keys(['trainer/global_step', '_step', '_runtime', 'val_loss_step', '_timestamp'])\n",
      "dict_keys(['trainer/global_step', '_step', '_runtime', 'val_loss_step', '_timestamp'])\n",
      "dict_keys(['trainer/global_step', '_step', '_runtime', 'val_loss_step', '_timestamp'])\n",
      "dict_keys(['trainer/global_step', '_step', '_runtime', 'val_loss_step', '_timestamp'])\n",
      "dict_keys(['trainer/global_step', '_step', '_runtime', 'val_loss_step', '_timestamp'])\n",
      "dict_keys(['trainer/global_step', '_step', '_runtime', 'val_loss_step', '_timestamp'])\n",
      "dict_keys(['trainer/global_step', '_step', '_runtime', 'val_loss_step', '_timestamp'])\n",
      "dict_keys(['trainer/global_step', '_step', '_runtime', 'val_loss_step', '_timestamp'])\n",
      "dict_keys(['trainer/global_step', '_step', '_runtime', 'val_loss_step', '_timestamp'])\n",
      "dict_keys(['trainer/global_step', '_step', '_runtime', 'val_loss_step', '_timestamp'])\n",
      "dict_keys(['trainer/global_step', '_step', '_runtime', 'val_loss_step', '_timestamp'])\n",
      "dict_keys(['trainer/global_step', '_step', '_runtime', 'val_loss_step', '_timestamp'])\n",
      "dict_keys(['trainer/global_step', '_step', '_runtime', 'val_loss_step', '_timestamp'])\n",
      "dict_keys(['trainer/global_step', '_step', '_runtime', 'val_loss_step', '_timestamp'])\n",
      "dict_keys(['trainer/global_step', '_step', '_runtime', 'val_loss_step', '_timestamp'])\n",
      "dict_keys(['trainer/global_step', '_step', '_runtime', 'val_loss_step', '_timestamp'])\n",
      "dict_keys(['trainer/global_step', '_step', '_runtime', 'val_loss_step', '_timestamp'])\n",
      "dict_keys(['trainer/global_step', '_step', '_runtime', 'val_loss_step', '_timestamp'])\n",
      "dict_keys(['trainer/global_step', '_step', '_runtime', 'val_loss_step', '_timestamp'])\n",
      "dict_keys(['trainer/global_step', '_step', '_runtime', 'val_loss_step', '_timestamp'])\n",
      "dict_keys(['trainer/global_step', '_step', '_runtime', 'val_loss_step', '_timestamp'])\n",
      "dict_keys(['trainer/global_step', '_step', '_runtime', 'val_loss_step', '_timestamp'])\n",
      "dict_keys(['trainer/global_step', '_step', '_runtime', 'val_loss_step', '_timestamp'])\n",
      "dict_keys(['trainer/global_step', '_step', '_runtime', 'val_loss_step', '_timestamp'])\n",
      "dict_keys(['trainer/global_step', '_step', '_runtime', 'val_loss_step', '_timestamp'])\n",
      "dict_keys(['trainer/global_step', '_step', '_runtime', 'val_loss_step', '_timestamp'])\n",
      "dict_keys(['trainer/global_step', '_step', '_runtime', 'val_loss_step', '_timestamp'])\n",
      "dict_keys(['trainer/global_step', '_step', '_runtime', 'val_loss_step', '_timestamp'])\n",
      "dict_keys(['trainer/global_step', '_step', '_runtime', 'val_loss_step', '_timestamp'])\n",
      "dict_keys(['trainer/global_step', '_step', '_runtime', 'val_loss_step', '_timestamp'])\n",
      "dict_keys(['trainer/global_step', '_step', '_runtime', 'val_loss_step', '_timestamp'])\n",
      "dict_keys(['trainer/global_step', '_step', '_runtime', 'val_loss_step', '_timestamp'])\n",
      "dict_keys(['trainer/global_step', '_step', '_runtime', 'val_loss_step', '_timestamp'])\n",
      "dict_keys(['trainer/global_step', '_step', '_runtime', 'val_loss_step', '_timestamp'])\n",
      "dict_keys(['trainer/global_step', '_step', '_runtime', 'val_loss_step', '_timestamp'])\n",
      "dict_keys(['trainer/global_step', '_step', '_runtime', 'val_loss_step', '_timestamp'])\n",
      "dict_keys(['trainer/global_step', '_step', '_runtime', 'val_loss_step', '_timestamp'])\n",
      "dict_keys(['trainer/global_step', '_step', '_runtime', 'val_loss_step', '_timestamp'])\n",
      "dict_keys(['trainer/global_step', '_step', '_runtime', 'val_loss_step', '_timestamp'])\n",
      "dict_keys(['trainer/global_step', '_step', '_runtime', 'val_loss_step', '_timestamp'])\n",
      "dict_keys(['trainer/global_step', '_step', '_runtime', 'val_loss_step', '_timestamp'])\n",
      "dict_keys(['trainer/global_step', '_step', '_runtime', 'val_loss_step', '_timestamp'])\n",
      "dict_keys(['trainer/global_step', '_step', '_runtime', 'val_loss_step', '_timestamp'])\n",
      "dict_keys(['trainer/global_step', '_step', '_runtime', 'val_loss_step', '_timestamp'])\n",
      "dict_keys(['trainer/global_step', '_step', '_runtime', 'val_loss_step', '_timestamp'])\n",
      "dict_keys(['trainer/global_step', '_step', '_runtime', 'val_loss_step', '_timestamp'])\n",
      "dict_keys(['trainer/global_step', '_step', '_runtime', 'val_loss_step', '_timestamp'])\n",
      "dict_keys(['trainer/global_step', '_step', '_runtime', 'val_loss_step', '_timestamp'])\n",
      "dict_keys(['trainer/global_step', '_step', '_runtime', 'val_loss_step', '_timestamp'])\n",
      "dict_keys(['trainer/global_step', '_step', '_runtime', 'val_loss_step', '_timestamp'])\n",
      "dict_keys(['trainer/global_step', '_step', '_runtime', 'val_loss_step', '_timestamp'])\n",
      "dict_keys(['trainer/global_step', '_step', '_runtime', 'val_loss_step', '_timestamp'])\n",
      "dict_keys(['trainer/global_step', '_step', '_runtime', 'val_loss_step', '_timestamp'])\n",
      "dict_keys(['trainer/global_step', '_step', '_runtime', 'val_loss_step', '_timestamp'])\n",
      "dict_keys(['trainer/global_step', '_step', '_runtime', 'val_loss_step', '_timestamp'])\n",
      "dict_keys(['trainer/global_step', '_step', '_runtime', 'val_loss_step', '_timestamp'])\n",
      "dict_keys(['trainer/global_step', '_step', '_runtime', 'val_loss_step', '_timestamp'])\n",
      "dict_keys(['trainer/global_step', '_step', '_runtime', 'val_loss_step', '_timestamp'])\n",
      "dict_keys(['trainer/global_step', '_step', '_runtime', 'val_loss_step', '_timestamp'])\n",
      "dict_keys(['trainer/global_step', '_step', '_runtime', 'val_loss_step', '_timestamp'])\n",
      "dict_keys(['trainer/global_step', '_step', '_runtime', 'val_loss_step', '_timestamp'])\n",
      "dict_keys(['trainer/global_step', '_step', '_runtime', 'val_loss_step', '_timestamp'])\n",
      "dict_keys(['trainer/global_step', '_step', '_runtime', 'val_loss_step', '_timestamp'])\n",
      "dict_keys(['trainer/global_step', '_step', '_runtime', 'val_loss_step', '_timestamp'])\n",
      "dict_keys(['trainer/global_step', '_step', '_runtime', 'val_loss_step', '_timestamp'])\n",
      "dict_keys(['trainer/global_step', '_step', '_runtime', 'val_loss_step', '_timestamp'])\n",
      "dict_keys(['trainer/global_step', '_step', '_runtime', 'val_loss_step', '_timestamp'])\n",
      "dict_keys(['trainer/global_step', '_step', '_runtime', 'val_loss_step', '_timestamp'])\n",
      "dict_keys(['trainer/global_step', '_step', '_runtime', 'val_loss_step', '_timestamp'])\n",
      "dict_keys(['trainer/global_step', '_step', '_runtime', 'val_loss_step', '_timestamp'])\n",
      "dict_keys(['trainer/global_step', '_step', '_runtime', 'val_loss_step', '_timestamp'])\n",
      "dict_keys(['trainer/global_step', '_step', '_runtime', 'val_loss_step', '_timestamp'])\n",
      "dict_keys(['trainer/global_step', '_step', '_runtime', 'val_loss_step', '_timestamp'])\n",
      "dict_keys(['trainer/global_step', '_step', '_runtime', 'val_loss_step', '_timestamp'])\n",
      "dict_keys(['trainer/global_step', '_step', '_runtime', 'val_loss_step', '_timestamp'])\n",
      "dict_keys(['trainer/global_step', '_step', '_runtime', 'val_loss_step', '_timestamp'])\n",
      "dict_keys(['trainer/global_step', '_step', '_runtime', 'val_loss_step', '_timestamp'])\n",
      "dict_keys(['trainer/global_step', '_step', '_runtime', 'val_loss_step', '_timestamp'])\n",
      "dict_keys(['trainer/global_step', '_step', '_runtime', 'val_loss_step', '_timestamp'])\n",
      "dict_keys(['trainer/global_step', '_step', '_runtime', 'val_loss_step', '_timestamp'])\n",
      "dict_keys(['trainer/global_step', '_step', '_runtime', 'val_loss_step', '_timestamp'])\n",
      "dict_keys(['trainer/global_step', '_step', '_runtime', 'val_loss_step', '_timestamp'])\n",
      "dict_keys(['trainer/global_step', '_step', '_runtime', 'val_loss_step', '_timestamp'])\n",
      "dict_keys(['trainer/global_step', '_step', '_runtime', 'val_loss_step', '_timestamp'])\n",
      "dict_keys(['trainer/global_step', '_step', '_runtime', 'val_loss_step', '_timestamp'])\n",
      "dict_keys(['trainer/global_step', '_step', '_runtime', 'val_loss_step', '_timestamp'])\n",
      "dict_keys(['trainer/global_step', '_step', '_runtime', 'val_loss_step', '_timestamp'])\n",
      "dict_keys(['trainer/global_step', '_step', '_runtime', 'val_loss_step', '_timestamp'])\n",
      "dict_keys(['trainer/global_step', '_step', '_runtime', 'val_loss_step', '_timestamp'])\n",
      "dict_keys(['trainer/global_step', '_step', '_runtime', 'val_loss_step', '_timestamp'])\n",
      "dict_keys(['trainer/global_step', '_step', '_runtime', 'val_loss_step', '_timestamp'])\n",
      "dict_keys(['trainer/global_step', '_step', '_runtime', 'val_loss_step', '_timestamp'])\n",
      "dict_keys(['trainer/global_step', '_step', '_runtime', 'val_loss_step', '_timestamp'])\n",
      "dict_keys(['trainer/global_step', '_step', '_runtime', 'val_loss_step', '_timestamp'])\n",
      "dict_keys(['trainer/global_step', '_step', '_runtime', 'val_loss_step', '_timestamp'])\n",
      "dict_keys(['trainer/global_step', '_step', '_runtime', 'val_loss_step', '_timestamp'])\n",
      "dict_keys(['trainer/global_step', '_step', '_runtime', 'val_loss_step', '_timestamp'])\n",
      "dict_keys(['trainer/global_step', '_step', '_runtime', 'val_loss_step', '_timestamp'])\n",
      "dict_keys(['trainer/global_step', '_step', '_runtime', 'val_loss_step', '_timestamp'])\n",
      "dict_keys(['trainer/global_step', '_step', '_runtime', 'val_loss_step', '_timestamp'])\n",
      "dict_keys(['trainer/global_step', '_step', '_runtime', 'val_loss_step', '_timestamp'])\n",
      "dict_keys(['trainer/global_step', '_step', '_runtime', 'val_loss_step', '_timestamp'])\n",
      "dict_keys(['trainer/global_step', '_step', '_runtime', 'val_loss_step', '_timestamp'])\n",
      "dict_keys(['trainer/global_step', '_step', '_runtime', 'val_loss_step', '_timestamp'])\n",
      "dict_keys(['trainer/global_step', '_step', '_runtime', 'val_loss_step', '_timestamp'])\n",
      "dict_keys(['trainer/global_step', '_step', '_runtime', 'val_loss_step', '_timestamp'])\n",
      "dict_keys(['trainer/global_step', '_step', '_runtime', 'val_loss_step', '_timestamp'])\n",
      "dict_keys(['trainer/global_step', '_step', '_runtime', 'val_loss_step', '_timestamp'])\n",
      "dict_keys(['trainer/global_step', '_step', '_runtime', 'val_loss_step', '_timestamp'])\n",
      "dict_keys(['trainer/global_step', '_step', '_runtime', 'val_loss_step', '_timestamp'])\n",
      "dict_keys(['trainer/global_step', '_step', '_runtime', 'val_loss_step', '_timestamp'])\n",
      "dict_keys(['trainer/global_step', '_step', '_runtime', 'val_loss_step', '_timestamp'])\n",
      "dict_keys(['trainer/global_step', '_step', '_runtime', 'val_loss_step', '_timestamp'])\n",
      "dict_keys(['trainer/global_step', '_step', '_runtime', 'val_loss_step', '_timestamp'])\n",
      "dict_keys(['trainer/global_step', '_step', '_runtime', 'val_loss_step', '_timestamp'])\n",
      "dict_keys(['trainer/global_step', '_step', '_runtime', 'val_loss_step', '_timestamp'])\n",
      "dict_keys(['trainer/global_step', '_step', '_runtime', 'val_loss_step', '_timestamp'])\n",
      "dict_keys(['trainer/global_step', '_step', '_runtime', 'val_loss_step', '_timestamp'])\n",
      "dict_keys(['trainer/global_step', '_step', '_runtime', 'val_loss_step', '_timestamp'])\n",
      "dict_keys(['trainer/global_step', '_step', '_runtime', 'val_loss_step', '_timestamp'])\n",
      "dict_keys(['trainer/global_step', '_step', '_runtime', 'val_loss_step', '_timestamp'])\n",
      "dict_keys(['trainer/global_step', '_step', '_runtime', 'val_loss_step', '_timestamp'])\n",
      "dict_keys(['trainer/global_step', '_step', '_runtime', 'val_loss_step', '_timestamp'])\n",
      "dict_keys(['trainer/global_step', '_step', '_runtime', 'val_loss_step', '_timestamp'])\n",
      "dict_keys(['trainer/global_step', '_step', '_runtime', 'val_loss_step', '_timestamp'])\n",
      "dict_keys(['trainer/global_step', '_step', '_runtime', 'val_loss_step', '_timestamp'])\n",
      "dict_keys(['trainer/global_step', '_step', '_runtime', 'val_loss_step', '_timestamp'])\n",
      "dict_keys(['trainer/global_step', '_step', '_runtime', 'val_loss_step', '_timestamp'])\n",
      "dict_keys(['trainer/global_step', '_step', '_runtime', 'val_loss_step', '_timestamp'])\n",
      "dict_keys(['trainer/global_step', '_step', '_runtime', 'val_loss_step', '_timestamp'])\n",
      "dict_keys(['trainer/global_step', '_step', '_runtime', 'val_loss_step', '_timestamp'])\n",
      "dict_keys(['trainer/global_step', '_step', '_runtime', 'val_loss_step', '_timestamp'])\n",
      "dict_keys(['trainer/global_step', '_step', '_runtime', 'val_loss_step', '_timestamp'])\n",
      "dict_keys(['trainer/global_step', '_step', '_runtime', 'val_loss_step', '_timestamp'])\n",
      "dict_keys(['trainer/global_step', '_step', '_runtime', 'val_loss_step', '_timestamp'])\n",
      "dict_keys(['trainer/global_step', '_step', '_runtime', 'val_loss_step', '_timestamp'])\n",
      "dict_keys(['trainer/global_step', '_step', '_runtime', 'val_loss_step', '_timestamp'])\n",
      "dict_keys(['trainer/global_step', '_step', '_runtime', 'val_loss_step', '_timestamp'])\n",
      "dict_keys(['trainer/global_step', '_step', '_runtime', 'val_loss_step', '_timestamp'])\n",
      "dict_keys(['trainer/global_step', '_step', '_runtime', 'val_loss_step', '_timestamp'])\n",
      "dict_keys(['trainer/global_step', '_step', '_runtime', 'val_loss_step', '_timestamp'])\n",
      "dict_keys(['trainer/global_step', '_step', '_runtime', 'val_loss_step', '_timestamp'])\n",
      "dict_keys(['trainer/global_step', '_step', '_runtime', 'val_loss_step', '_timestamp'])\n",
      "dict_keys(['trainer/global_step', '_step', '_runtime', 'val_loss_step', '_timestamp'])\n",
      "dict_keys(['trainer/global_step', '_step', '_runtime', 'val_loss_step', '_timestamp'])\n",
      "dict_keys(['trainer/global_step', '_step', '_runtime', 'val_loss_step', '_timestamp'])\n",
      "dict_keys(['trainer/global_step', '_step', '_runtime', 'val_loss_step', '_timestamp'])\n",
      "dict_keys(['trainer/global_step', '_step', '_runtime', 'val_loss_step', '_timestamp'])\n",
      "dict_keys(['trainer/global_step', '_step', '_runtime', 'val_loss_step', '_timestamp'])\n",
      "dict_keys(['trainer/global_step', '_step', '_runtime', 'val_loss_step', '_timestamp'])\n",
      "dict_keys(['trainer/global_step', '_step', '_runtime', 'val_loss_step', '_timestamp'])\n",
      "dict_keys(['trainer/global_step', '_step', '_runtime', 'val_loss_step', '_timestamp'])\n",
      "dict_keys(['trainer/global_step', '_step', '_runtime', 'val_loss_step', '_timestamp'])\n",
      "dict_keys(['trainer/global_step', '_step', '_runtime', 'val_loss_step', '_timestamp'])\n",
      "dict_keys(['trainer/global_step', '_step', '_runtime', 'val_loss_step', '_timestamp'])\n",
      "dict_keys(['trainer/global_step', '_step', '_runtime', 'val_loss_step', '_timestamp'])\n",
      "dict_keys(['trainer/global_step', '_step', '_runtime', 'val_loss_step', '_timestamp'])\n",
      "dict_keys(['trainer/global_step', '_step', '_runtime', 'val_loss_step', '_timestamp'])\n",
      "dict_keys(['trainer/global_step', '_step', '_runtime', 'val_loss_step', '_timestamp'])\n",
      "dict_keys(['trainer/global_step', '_step', '_runtime', 'val_loss_step', '_timestamp'])\n",
      "dict_keys(['trainer/global_step', '_step', '_runtime', 'val_loss_step', '_timestamp'])\n",
      "dict_keys(['trainer/global_step', '_step', '_runtime', 'val_loss_step', '_timestamp'])\n",
      "dict_keys(['trainer/global_step', '_step', '_runtime', 'val_loss_step', '_timestamp'])\n",
      "dict_keys(['trainer/global_step', '_step', '_runtime', 'val_loss_step', '_timestamp'])\n",
      "dict_keys(['trainer/global_step', '_step', '_runtime', 'val_loss_step', '_timestamp'])\n",
      "dict_keys(['trainer/global_step', '_step', '_runtime', 'val_loss_step', '_timestamp'])\n",
      "dict_keys(['trainer/global_step', '_step', '_runtime', 'val_loss_step', '_timestamp'])\n",
      "dict_keys(['trainer/global_step', '_step', '_runtime', 'val_loss_step', '_timestamp'])\n",
      "dict_keys(['trainer/global_step', '_step', '_runtime', 'val_loss_step', '_timestamp'])\n",
      "dict_keys(['trainer/global_step', '_step', '_runtime', 'val_loss_step', '_timestamp'])\n",
      "dict_keys(['trainer/global_step', '_step', '_runtime', 'val_loss_step', '_timestamp'])\n",
      "dict_keys(['trainer/global_step', '_step', '_runtime', 'val_loss_step', '_timestamp'])\n",
      "dict_keys(['trainer/global_step', '_step', '_runtime', 'val_loss_step', '_timestamp'])\n",
      "dict_keys(['trainer/global_step', '_step', '_runtime', 'val_loss_step', '_timestamp'])\n",
      "dict_keys(['trainer/global_step', '_step', '_runtime', 'val_loss_step', '_timestamp'])\n",
      "dict_keys(['trainer/global_step', '_step', '_runtime', 'val_loss_step', '_timestamp'])\n",
      "dict_keys(['trainer/global_step', '_step', '_runtime', 'val_loss_step', '_timestamp'])\n",
      "dict_keys(['trainer/global_step', '_step', '_runtime', 'val_loss_step', '_timestamp'])\n",
      "dict_keys(['trainer/global_step', '_step', '_runtime', 'val_loss_step', '_timestamp'])\n",
      "dict_keys(['trainer/global_step', '_step', '_runtime', 'val_loss_step', '_timestamp'])\n",
      "dict_keys(['trainer/global_step', '_step', '_runtime', 'val_loss_step', '_timestamp'])\n",
      "dict_keys(['trainer/global_step', '_step', '_runtime', 'val_loss_step', '_timestamp'])\n",
      "dict_keys(['trainer/global_step', '_step', '_runtime', 'val_loss_step', '_timestamp'])\n",
      "dict_keys(['trainer/global_step', '_step', '_runtime', 'val_loss_step', '_timestamp'])\n",
      "dict_keys(['trainer/global_step', '_step', '_runtime', 'val_loss_step', '_timestamp'])\n",
      "dict_keys(['trainer/global_step', '_step', '_runtime', 'val_loss_step', '_timestamp'])\n",
      "dict_keys(['trainer/global_step', '_step', '_runtime', 'val_loss_step', '_timestamp'])\n",
      "dict_keys(['trainer/global_step', '_step', '_runtime', 'val_loss_step', '_timestamp'])\n",
      "dict_keys(['trainer/global_step', '_step', '_runtime', 'val_loss_step', '_timestamp'])\n",
      "dict_keys(['trainer/global_step', '_step', '_runtime', 'val_loss_step', '_timestamp'])\n",
      "dict_keys(['trainer/global_step', '_step', '_runtime', 'val_loss_step', '_timestamp'])\n",
      "dict_keys(['trainer/global_step', '_step', '_runtime', 'val_loss_step', '_timestamp'])\n",
      "dict_keys(['trainer/global_step', '_step', '_runtime', 'val_loss_step', '_timestamp'])\n",
      "dict_keys(['trainer/global_step', '_step', '_runtime', 'val_loss_step', '_timestamp'])\n",
      "dict_keys(['trainer/global_step', '_step', '_runtime', 'val_loss_step', '_timestamp'])\n",
      "dict_keys(['trainer/global_step', '_step', '_runtime', 'val_loss_step', '_timestamp'])\n",
      "dict_keys(['trainer/global_step', '_step', '_runtime', 'val_loss_step', '_timestamp'])\n",
      "dict_keys(['trainer/global_step', '_step', '_runtime', 'val_loss_step', '_timestamp'])\n",
      "dict_keys(['trainer/global_step', '_step', '_runtime', 'val_loss_step', '_timestamp'])\n",
      "dict_keys(['trainer/global_step', '_step', '_runtime', 'val_loss_step', '_timestamp'])\n",
      "dict_keys(['trainer/global_step', '_step', '_runtime', 'val_loss_step', '_timestamp'])\n",
      "dict_keys(['trainer/global_step', '_step', '_runtime', 'val_loss_step', '_timestamp'])\n",
      "dict_keys(['trainer/global_step', '_step', '_runtime', 'val_loss_step', '_timestamp'])\n",
      "dict_keys(['trainer/global_step', '_step', '_runtime', 'val_loss_step', '_timestamp'])\n",
      "dict_keys(['trainer/global_step', '_step', '_runtime', 'val_loss_step', '_timestamp'])\n",
      "dict_keys(['trainer/global_step', '_step', '_runtime', 'val_loss_step', '_timestamp'])\n",
      "dict_keys(['trainer/global_step', '_step', '_runtime', 'val_loss_step', '_timestamp'])\n",
      "dict_keys(['trainer/global_step', '_step', '_runtime', 'val_loss_step', '_timestamp'])\n",
      "dict_keys(['trainer/global_step', '_step', '_runtime', 'val_loss_step', '_timestamp'])\n",
      "dict_keys(['trainer/global_step', '_step', '_runtime', 'val_loss_step', '_timestamp'])\n",
      "dict_keys(['trainer/global_step', '_step', '_runtime', 'val_loss_step', '_timestamp'])\n",
      "dict_keys(['trainer/global_step', '_step', '_runtime', 'val_loss_step', '_timestamp'])\n",
      "dict_keys(['trainer/global_step', '_step', '_runtime', 'val_loss_step', '_timestamp'])\n",
      "dict_keys(['trainer/global_step', '_step', '_runtime', 'val_loss_step', '_timestamp'])\n",
      "dict_keys(['trainer/global_step', '_step', '_runtime', 'val_loss_step', '_timestamp'])\n",
      "dict_keys(['trainer/global_step', '_step', '_runtime', 'val_loss_step', '_timestamp'])\n",
      "dict_keys(['trainer/global_step', '_step', '_runtime', 'val_loss_step', '_timestamp'])\n",
      "dict_keys(['trainer/global_step', '_step', '_runtime', 'val_loss_step', '_timestamp'])\n",
      "dict_keys(['trainer/global_step', '_step', '_runtime', 'val_loss_step', '_timestamp'])\n",
      "dict_keys(['trainer/global_step', '_step', '_runtime', 'val_loss_step', '_timestamp'])\n",
      "dict_keys(['trainer/global_step', '_step', '_runtime', 'val_loss_step', '_timestamp'])\n",
      "dict_keys(['trainer/global_step', '_step', '_runtime', 'val_loss_step', '_timestamp'])\n",
      "dict_keys(['trainer/global_step', '_step', '_runtime', 'val_loss_step', '_timestamp'])\n",
      "dict_keys(['trainer/global_step', '_step', '_runtime', 'val_loss_step', '_timestamp'])\n",
      "dict_keys(['trainer/global_step', '_step', '_runtime', 'val_loss_step', '_timestamp'])\n",
      "dict_keys(['trainer/global_step', '_step', '_runtime', 'val_loss_step', '_timestamp'])\n",
      "dict_keys(['trainer/global_step', '_step', '_runtime', 'val_loss_step', '_timestamp'])\n",
      "dict_keys(['trainer/global_step', '_step', '_runtime', 'val_loss_step', '_timestamp'])\n",
      "dict_keys(['trainer/global_step', '_step', '_runtime', 'val_loss_step', '_timestamp'])\n",
      "dict_keys(['trainer/global_step', '_step', '_runtime', 'val_loss_step', '_timestamp'])\n",
      "dict_keys(['trainer/global_step', '_step', '_runtime', 'val_loss_step', '_timestamp'])\n",
      "dict_keys(['trainer/global_step', '_step', '_runtime', 'val_loss_step', '_timestamp'])\n",
      "dict_keys(['trainer/global_step', '_step', '_runtime', 'val_loss_step', '_timestamp'])\n",
      "dict_keys(['trainer/global_step', '_step', '_runtime', 'val_loss_step', '_timestamp'])\n",
      "dict_keys(['trainer/global_step', '_step', '_runtime', 'val_loss_step', '_timestamp'])\n",
      "dict_keys(['trainer/global_step', '_step', '_runtime', 'val_loss_step', '_timestamp'])\n",
      "dict_keys(['trainer/global_step', '_step', '_runtime', 'val_loss_step', '_timestamp'])\n",
      "dict_keys(['trainer/global_step', '_step', '_runtime', 'val_loss_step', '_timestamp'])\n",
      "dict_keys(['val_median_f1', 'val_auroc', 'trainer/global_step', 'val_per_class_recall', '_step', 'val_confusion_matrix', 'val_f1', '_runtime', 'val_total_accuracy', 'val_recall', 'val_balanced_accuracy', 'val_weighted_accuracy', 'val_loss_epoch', 'epoch', 'val_per_class_f1', 'val_precision', 'val_per_class_precision', '_timestamp', 'val_specificity'])\n",
      "dict_keys(['train_precision', 'trainer/global_step', 'train_f1', '_step', 'train_auroc', 'train_specificity', '_runtime', 'train_loss_epoch', 'train_confusion_matrix', 'train_weighted_accuracy', 'train_balanced_accuracy', 'train_total_accuracy', 'train_per_class_recall', 'epoch', 'train_per_class_precision', 'train_recall', 'train_per_class_f1', '_timestamp'])\n",
      "dict_keys(['trainer/global_step', '_step', '_runtime', 'lr-Adam', '_timestamp'])\n",
      "dict_keys(['trainer/global_step', '_step', '_runtime', 'train_loss_step', 'epoch', '_timestamp'])\n",
      "dict_keys(['trainer/global_step', '_step', '_runtime', 'train_loss_step', 'epoch', '_timestamp'])\n",
      "dict_keys(['trainer/global_step', '_step', '_runtime', 'train_loss_step', 'epoch', '_timestamp'])\n",
      "dict_keys(['trainer/global_step', '_step', '_runtime', 'train_loss_step', 'epoch', '_timestamp'])\n",
      "dict_keys(['trainer/global_step', '_step', '_runtime', 'train_loss_step', 'epoch', '_timestamp'])\n",
      "dict_keys(['trainer/global_step', '_step', '_runtime', 'train_loss_step', 'epoch', '_timestamp'])\n",
      "dict_keys(['trainer/global_step', '_step', '_runtime', 'train_loss_step', 'epoch', '_timestamp'])\n",
      "dict_keys(['trainer/global_step', '_step', '_runtime', 'train_loss_step', 'epoch', '_timestamp'])\n",
      "dict_keys(['trainer/global_step', '_step', '_runtime', 'train_loss_step', 'epoch', '_timestamp'])\n",
      "dict_keys(['trainer/global_step', '_step', '_runtime', 'train_loss_step', 'epoch', '_timestamp'])\n",
      "dict_keys(['trainer/global_step', '_step', '_runtime', 'train_loss_step', 'epoch', '_timestamp'])\n",
      "dict_keys(['trainer/global_step', '_step', '_runtime', 'train_loss_step', 'epoch', '_timestamp'])\n",
      "dict_keys(['trainer/global_step', '_step', '_runtime', 'train_loss_step', 'epoch', '_timestamp'])\n",
      "dict_keys(['trainer/global_step', '_step', '_runtime', 'train_loss_step', 'epoch', '_timestamp'])\n",
      "dict_keys(['trainer/global_step', '_step', '_runtime', 'train_loss_step', 'epoch', '_timestamp'])\n",
      "dict_keys(['trainer/global_step', '_step', '_runtime', 'train_loss_step', 'epoch', '_timestamp'])\n",
      "dict_keys(['trainer/global_step', '_step', '_runtime', 'train_loss_step', 'epoch', '_timestamp'])\n",
      "dict_keys(['trainer/global_step', '_step', '_runtime', 'train_loss_step', 'epoch', '_timestamp'])\n",
      "dict_keys(['trainer/global_step', '_step', '_runtime', 'train_loss_step', 'epoch', '_timestamp'])\n",
      "dict_keys(['trainer/global_step', '_step', '_runtime', 'val_loss_step', '_timestamp'])\n",
      "dict_keys(['trainer/global_step', '_step', '_runtime', 'val_loss_step', '_timestamp'])\n",
      "dict_keys(['trainer/global_step', '_step', '_runtime', 'val_loss_step', '_timestamp'])\n",
      "dict_keys(['trainer/global_step', '_step', '_runtime', 'val_loss_step', '_timestamp'])\n",
      "dict_keys(['trainer/global_step', '_step', '_runtime', 'val_loss_step', '_timestamp'])\n",
      "dict_keys(['trainer/global_step', '_step', '_runtime', 'val_loss_step', '_timestamp'])\n",
      "dict_keys(['trainer/global_step', '_step', '_runtime', 'val_loss_step', '_timestamp'])\n",
      "dict_keys(['trainer/global_step', '_step', '_runtime', 'val_loss_step', '_timestamp'])\n",
      "dict_keys(['trainer/global_step', '_step', '_runtime', 'val_loss_step', '_timestamp'])\n",
      "dict_keys(['trainer/global_step', '_step', '_runtime', 'val_loss_step', '_timestamp'])\n",
      "dict_keys(['trainer/global_step', '_step', '_runtime', 'val_loss_step', '_timestamp'])\n",
      "dict_keys(['trainer/global_step', '_step', '_runtime', 'val_loss_step', '_timestamp'])\n",
      "dict_keys(['trainer/global_step', '_step', '_runtime', 'val_loss_step', '_timestamp'])\n",
      "dict_keys(['trainer/global_step', '_step', '_runtime', 'val_loss_step', '_timestamp'])\n",
      "dict_keys(['trainer/global_step', '_step', '_runtime', 'val_loss_step', '_timestamp'])\n",
      "dict_keys(['trainer/global_step', '_step', '_runtime', 'val_loss_step', '_timestamp'])\n",
      "dict_keys(['trainer/global_step', '_step', '_runtime', 'val_loss_step', '_timestamp'])\n",
      "dict_keys(['trainer/global_step', '_step', '_runtime', 'val_loss_step', '_timestamp'])\n",
      "dict_keys(['trainer/global_step', '_step', '_runtime', 'val_loss_step', '_timestamp'])\n",
      "dict_keys(['trainer/global_step', '_step', '_runtime', 'val_loss_step', '_timestamp'])\n",
      "dict_keys(['trainer/global_step', '_step', '_runtime', 'val_loss_step', '_timestamp'])\n",
      "dict_keys(['trainer/global_step', '_step', '_runtime', 'val_loss_step', '_timestamp'])\n",
      "dict_keys(['trainer/global_step', '_step', '_runtime', 'val_loss_step', '_timestamp'])\n",
      "dict_keys(['trainer/global_step', '_step', '_runtime', 'val_loss_step', '_timestamp'])\n",
      "dict_keys(['trainer/global_step', '_step', '_runtime', 'val_loss_step', '_timestamp'])\n",
      "dict_keys(['trainer/global_step', '_step', '_runtime', 'val_loss_step', '_timestamp'])\n",
      "dict_keys(['trainer/global_step', '_step', '_runtime', 'val_loss_step', '_timestamp'])\n",
      "dict_keys(['trainer/global_step', '_step', '_runtime', 'val_loss_step', '_timestamp'])\n",
      "dict_keys(['trainer/global_step', '_step', '_runtime', 'val_loss_step', '_timestamp'])\n",
      "dict_keys(['trainer/global_step', '_step', '_runtime', 'val_loss_step', '_timestamp'])\n",
      "dict_keys(['trainer/global_step', '_step', '_runtime', 'val_loss_step', '_timestamp'])\n",
      "dict_keys(['trainer/global_step', '_step', '_runtime', 'val_loss_step', '_timestamp'])\n",
      "dict_keys(['trainer/global_step', '_step', '_runtime', 'val_loss_step', '_timestamp'])\n",
      "dict_keys(['trainer/global_step', '_step', '_runtime', 'val_loss_step', '_timestamp'])\n",
      "dict_keys(['trainer/global_step', '_step', '_runtime', 'val_loss_step', '_timestamp'])\n",
      "dict_keys(['trainer/global_step', '_step', '_runtime', 'val_loss_step', '_timestamp'])\n",
      "dict_keys(['trainer/global_step', '_step', '_runtime', 'val_loss_step', '_timestamp'])\n",
      "dict_keys(['trainer/global_step', '_step', '_runtime', 'val_loss_step', '_timestamp'])\n",
      "dict_keys(['trainer/global_step', '_step', '_runtime', 'val_loss_step', '_timestamp'])\n",
      "dict_keys(['trainer/global_step', '_step', '_runtime', 'val_loss_step', '_timestamp'])\n",
      "dict_keys(['trainer/global_step', '_step', '_runtime', 'val_loss_step', '_timestamp'])\n",
      "dict_keys(['trainer/global_step', '_step', '_runtime', 'val_loss_step', '_timestamp'])\n",
      "dict_keys(['trainer/global_step', '_step', '_runtime', 'val_loss_step', '_timestamp'])\n",
      "dict_keys(['trainer/global_step', '_step', '_runtime', 'val_loss_step', '_timestamp'])\n",
      "dict_keys(['trainer/global_step', '_step', '_runtime', 'val_loss_step', '_timestamp'])\n",
      "dict_keys(['trainer/global_step', '_step', '_runtime', 'val_loss_step', '_timestamp'])\n",
      "dict_keys(['trainer/global_step', '_step', '_runtime', 'val_loss_step', '_timestamp'])\n",
      "dict_keys(['trainer/global_step', '_step', '_runtime', 'val_loss_step', '_timestamp'])\n",
      "dict_keys(['trainer/global_step', '_step', '_runtime', 'val_loss_step', '_timestamp'])\n",
      "dict_keys(['trainer/global_step', '_step', '_runtime', 'val_loss_step', '_timestamp'])\n",
      "dict_keys(['trainer/global_step', '_step', '_runtime', 'val_loss_step', '_timestamp'])\n",
      "dict_keys(['trainer/global_step', '_step', '_runtime', 'val_loss_step', '_timestamp'])\n",
      "dict_keys(['trainer/global_step', '_step', '_runtime', 'val_loss_step', '_timestamp'])\n",
      "dict_keys(['trainer/global_step', '_step', '_runtime', 'val_loss_step', '_timestamp'])\n",
      "dict_keys(['trainer/global_step', '_step', '_runtime', 'val_loss_step', '_timestamp'])\n",
      "dict_keys(['trainer/global_step', '_step', '_runtime', 'val_loss_step', '_timestamp'])\n",
      "dict_keys(['trainer/global_step', '_step', '_runtime', 'val_loss_step', '_timestamp'])\n",
      "dict_keys(['trainer/global_step', '_step', '_runtime', 'val_loss_step', '_timestamp'])\n",
      "dict_keys(['trainer/global_step', '_step', '_runtime', 'val_loss_step', '_timestamp'])\n",
      "dict_keys(['trainer/global_step', '_step', '_runtime', 'val_loss_step', '_timestamp'])\n",
      "dict_keys(['trainer/global_step', '_step', '_runtime', 'val_loss_step', '_timestamp'])\n",
      "dict_keys(['trainer/global_step', '_step', '_runtime', 'val_loss_step', '_timestamp'])\n",
      "dict_keys(['trainer/global_step', '_step', '_runtime', 'val_loss_step', '_timestamp'])\n",
      "dict_keys(['trainer/global_step', '_step', '_runtime', 'val_loss_step', '_timestamp'])\n",
      "dict_keys(['trainer/global_step', '_step', '_runtime', 'val_loss_step', '_timestamp'])\n",
      "dict_keys(['trainer/global_step', '_step', '_runtime', 'val_loss_step', '_timestamp'])\n",
      "dict_keys(['trainer/global_step', '_step', '_runtime', 'val_loss_step', '_timestamp'])\n"
     ]
    },
    {
     "name": "stderr",
     "output_type": "stream",
     "text": [
      "2790it [00:00, 3988.04it/s]"
     ]
    },
    {
     "name": "stdout",
     "output_type": "stream",
     "text": [
      "dict_keys(['trainer/global_step', '_step', '_runtime', 'val_loss_step', '_timestamp'])\n",
      "dict_keys(['trainer/global_step', '_step', '_runtime', 'val_loss_step', '_timestamp'])\n",
      "dict_keys(['trainer/global_step', '_step', '_runtime', 'val_loss_step', '_timestamp'])\n",
      "dict_keys(['trainer/global_step', '_step', '_runtime', 'val_loss_step', '_timestamp'])\n",
      "dict_keys(['trainer/global_step', '_step', '_runtime', 'val_loss_step', '_timestamp'])\n",
      "dict_keys(['trainer/global_step', '_step', '_runtime', 'val_loss_step', '_timestamp'])\n",
      "dict_keys(['trainer/global_step', '_step', '_runtime', 'val_loss_step', '_timestamp'])\n",
      "dict_keys(['trainer/global_step', '_step', '_runtime', 'val_loss_step', '_timestamp'])\n",
      "dict_keys(['trainer/global_step', '_step', '_runtime', 'val_loss_step', '_timestamp'])\n",
      "dict_keys(['trainer/global_step', '_step', '_runtime', 'val_loss_step', '_timestamp'])\n",
      "dict_keys(['trainer/global_step', '_step', '_runtime', 'val_loss_step', '_timestamp'])\n",
      "dict_keys(['trainer/global_step', '_step', '_runtime', 'val_loss_step', '_timestamp'])\n",
      "dict_keys(['trainer/global_step', '_step', '_runtime', 'val_loss_step', '_timestamp'])\n",
      "dict_keys(['trainer/global_step', '_step', '_runtime', 'val_loss_step', '_timestamp'])\n",
      "dict_keys(['trainer/global_step', '_step', '_runtime', 'val_loss_step', '_timestamp'])\n",
      "dict_keys(['trainer/global_step', '_step', '_runtime', 'val_loss_step', '_timestamp'])\n",
      "dict_keys(['trainer/global_step', '_step', '_runtime', 'val_loss_step', '_timestamp'])\n",
      "dict_keys(['trainer/global_step', '_step', '_runtime', 'val_loss_step', '_timestamp'])\n",
      "dict_keys(['trainer/global_step', '_step', '_runtime', 'val_loss_step', '_timestamp'])\n",
      "dict_keys(['trainer/global_step', '_step', '_runtime', 'val_loss_step', '_timestamp'])\n",
      "dict_keys(['trainer/global_step', '_step', '_runtime', 'val_loss_step', '_timestamp'])\n",
      "dict_keys(['trainer/global_step', '_step', '_runtime', 'val_loss_step', '_timestamp'])\n",
      "dict_keys(['trainer/global_step', '_step', '_runtime', 'val_loss_step', '_timestamp'])\n",
      "dict_keys(['trainer/global_step', '_step', '_runtime', 'val_loss_step', '_timestamp'])\n",
      "dict_keys(['trainer/global_step', '_step', '_runtime', 'val_loss_step', '_timestamp'])\n",
      "dict_keys(['trainer/global_step', '_step', '_runtime', 'val_loss_step', '_timestamp'])\n",
      "dict_keys(['trainer/global_step', '_step', '_runtime', 'val_loss_step', '_timestamp'])\n",
      "dict_keys(['trainer/global_step', '_step', '_runtime', 'val_loss_step', '_timestamp'])\n",
      "dict_keys(['trainer/global_step', '_step', '_runtime', 'val_loss_step', '_timestamp'])\n",
      "dict_keys(['trainer/global_step', '_step', '_runtime', 'val_loss_step', '_timestamp'])\n",
      "dict_keys(['trainer/global_step', '_step', '_runtime', 'val_loss_step', '_timestamp'])\n",
      "dict_keys(['trainer/global_step', '_step', '_runtime', 'val_loss_step', '_timestamp'])\n",
      "dict_keys(['trainer/global_step', '_step', '_runtime', 'val_loss_step', '_timestamp'])\n",
      "dict_keys(['trainer/global_step', '_step', '_runtime', 'val_loss_step', '_timestamp'])\n",
      "dict_keys(['trainer/global_step', '_step', '_runtime', 'val_loss_step', '_timestamp'])\n",
      "dict_keys(['trainer/global_step', '_step', '_runtime', 'val_loss_step', '_timestamp'])\n",
      "dict_keys(['trainer/global_step', '_step', '_runtime', 'val_loss_step', '_timestamp'])\n",
      "dict_keys(['trainer/global_step', '_step', '_runtime', 'val_loss_step', '_timestamp'])\n",
      "dict_keys(['trainer/global_step', '_step', '_runtime', 'val_loss_step', '_timestamp'])\n",
      "dict_keys(['trainer/global_step', '_step', '_runtime', 'val_loss_step', '_timestamp'])\n",
      "dict_keys(['trainer/global_step', '_step', '_runtime', 'val_loss_step', '_timestamp'])\n",
      "dict_keys(['trainer/global_step', '_step', '_runtime', 'val_loss_step', '_timestamp'])\n",
      "dict_keys(['trainer/global_step', '_step', '_runtime', 'val_loss_step', '_timestamp'])\n",
      "dict_keys(['trainer/global_step', '_step', '_runtime', 'val_loss_step', '_timestamp'])\n",
      "dict_keys(['trainer/global_step', '_step', '_runtime', 'val_loss_step', '_timestamp'])\n",
      "dict_keys(['trainer/global_step', '_step', '_runtime', 'val_loss_step', '_timestamp'])\n",
      "dict_keys(['trainer/global_step', '_step', '_runtime', 'val_loss_step', '_timestamp'])\n",
      "dict_keys(['trainer/global_step', '_step', '_runtime', 'val_loss_step', '_timestamp'])\n",
      "dict_keys(['trainer/global_step', '_step', '_runtime', 'val_loss_step', '_timestamp'])\n",
      "dict_keys(['trainer/global_step', '_step', '_runtime', 'val_loss_step', '_timestamp'])\n",
      "dict_keys(['trainer/global_step', '_step', '_runtime', 'val_loss_step', '_timestamp'])\n",
      "dict_keys(['trainer/global_step', '_step', '_runtime', 'val_loss_step', '_timestamp'])\n",
      "dict_keys(['trainer/global_step', '_step', '_runtime', 'val_loss_step', '_timestamp'])\n",
      "dict_keys(['trainer/global_step', '_step', '_runtime', 'val_loss_step', '_timestamp'])\n",
      "dict_keys(['trainer/global_step', '_step', '_runtime', 'val_loss_step', '_timestamp'])\n",
      "dict_keys(['trainer/global_step', '_step', '_runtime', 'val_loss_step', '_timestamp'])\n",
      "dict_keys(['trainer/global_step', '_step', '_runtime', 'val_loss_step', '_timestamp'])\n",
      "dict_keys(['trainer/global_step', '_step', '_runtime', 'val_loss_step', '_timestamp'])\n",
      "dict_keys(['trainer/global_step', '_step', '_runtime', 'val_loss_step', '_timestamp'])\n",
      "dict_keys(['trainer/global_step', '_step', '_runtime', 'val_loss_step', '_timestamp'])\n",
      "dict_keys(['trainer/global_step', '_step', '_runtime', 'val_loss_step', '_timestamp'])\n",
      "dict_keys(['trainer/global_step', '_step', '_runtime', 'val_loss_step', '_timestamp'])\n",
      "dict_keys(['trainer/global_step', '_step', '_runtime', 'val_loss_step', '_timestamp'])\n",
      "dict_keys(['trainer/global_step', '_step', '_runtime', 'val_loss_step', '_timestamp'])\n",
      "dict_keys(['trainer/global_step', '_step', '_runtime', 'val_loss_step', '_timestamp'])\n",
      "dict_keys(['trainer/global_step', '_step', '_runtime', 'val_loss_step', '_timestamp'])\n",
      "dict_keys(['trainer/global_step', '_step', '_runtime', 'val_loss_step', '_timestamp'])\n",
      "dict_keys(['trainer/global_step', '_step', '_runtime', 'val_loss_step', '_timestamp'])\n",
      "dict_keys(['trainer/global_step', '_step', '_runtime', 'val_loss_step', '_timestamp'])\n",
      "dict_keys(['trainer/global_step', '_step', '_runtime', 'val_loss_step', '_timestamp'])\n",
      "dict_keys(['trainer/global_step', '_step', '_runtime', 'val_loss_step', '_timestamp'])\n",
      "dict_keys(['trainer/global_step', '_step', '_runtime', 'val_loss_step', '_timestamp'])\n",
      "dict_keys(['trainer/global_step', '_step', '_runtime', 'val_loss_step', '_timestamp'])\n",
      "dict_keys(['trainer/global_step', '_step', '_runtime', 'val_loss_step', '_timestamp'])\n",
      "dict_keys(['trainer/global_step', '_step', '_runtime', 'val_loss_step', '_timestamp'])\n",
      "dict_keys(['trainer/global_step', '_step', '_runtime', 'val_loss_step', '_timestamp'])\n",
      "dict_keys(['trainer/global_step', '_step', '_runtime', 'val_loss_step', '_timestamp'])\n",
      "dict_keys(['trainer/global_step', '_step', '_runtime', 'val_loss_step', '_timestamp'])\n",
      "dict_keys(['trainer/global_step', '_step', '_runtime', 'val_loss_step', '_timestamp'])\n",
      "dict_keys(['trainer/global_step', '_step', '_runtime', 'val_loss_step', '_timestamp'])\n",
      "dict_keys(['trainer/global_step', '_step', '_runtime', 'val_loss_step', '_timestamp'])\n",
      "dict_keys(['trainer/global_step', '_step', '_runtime', 'val_loss_step', '_timestamp'])\n",
      "dict_keys(['trainer/global_step', '_step', '_runtime', 'val_loss_step', '_timestamp'])\n",
      "dict_keys(['trainer/global_step', '_step', '_runtime', 'val_loss_step', '_timestamp'])\n",
      "dict_keys(['trainer/global_step', '_step', '_runtime', 'val_loss_step', '_timestamp'])\n",
      "dict_keys(['trainer/global_step', '_step', '_runtime', 'val_loss_step', '_timestamp'])\n",
      "dict_keys(['trainer/global_step', '_step', '_runtime', 'val_loss_step', '_timestamp'])\n",
      "dict_keys(['trainer/global_step', '_step', '_runtime', 'val_loss_step', '_timestamp'])\n",
      "dict_keys(['trainer/global_step', '_step', '_runtime', 'val_loss_step', '_timestamp'])\n",
      "dict_keys(['trainer/global_step', '_step', '_runtime', 'val_loss_step', '_timestamp'])\n",
      "dict_keys(['trainer/global_step', '_step', '_runtime', 'val_loss_step', '_timestamp'])\n",
      "dict_keys(['trainer/global_step', '_step', '_runtime', 'val_loss_step', '_timestamp'])\n",
      "dict_keys(['trainer/global_step', '_step', '_runtime', 'val_loss_step', '_timestamp'])\n",
      "dict_keys(['trainer/global_step', '_step', '_runtime', 'val_loss_step', '_timestamp'])\n",
      "dict_keys(['trainer/global_step', '_step', '_runtime', 'val_loss_step', '_timestamp'])\n",
      "dict_keys(['trainer/global_step', '_step', '_runtime', 'val_loss_step', '_timestamp'])\n",
      "dict_keys(['trainer/global_step', '_step', '_runtime', 'val_loss_step', '_timestamp'])\n",
      "dict_keys(['trainer/global_step', '_step', '_runtime', 'val_loss_step', '_timestamp'])\n",
      "dict_keys(['trainer/global_step', '_step', '_runtime', 'val_loss_step', '_timestamp'])\n",
      "dict_keys(['trainer/global_step', '_step', '_runtime', 'val_loss_step', '_timestamp'])\n",
      "dict_keys(['trainer/global_step', '_step', '_runtime', 'val_loss_step', '_timestamp'])\n",
      "dict_keys(['trainer/global_step', '_step', '_runtime', 'val_loss_step', '_timestamp'])\n",
      "dict_keys(['trainer/global_step', '_step', '_runtime', 'val_loss_step', '_timestamp'])\n",
      "dict_keys(['trainer/global_step', '_step', '_runtime', 'val_loss_step', '_timestamp'])\n",
      "dict_keys(['trainer/global_step', '_step', '_runtime', 'val_loss_step', '_timestamp'])\n",
      "dict_keys(['trainer/global_step', '_step', '_runtime', 'val_loss_step', '_timestamp'])\n",
      "dict_keys(['trainer/global_step', '_step', '_runtime', 'val_loss_step', '_timestamp'])\n",
      "dict_keys(['trainer/global_step', '_step', '_runtime', 'val_loss_step', '_timestamp'])\n",
      "dict_keys(['trainer/global_step', '_step', '_runtime', 'val_loss_step', '_timestamp'])\n",
      "dict_keys(['trainer/global_step', '_step', '_runtime', 'val_loss_step', '_timestamp'])\n",
      "dict_keys(['trainer/global_step', '_step', '_runtime', 'val_loss_step', '_timestamp'])\n",
      "dict_keys(['trainer/global_step', '_step', '_runtime', 'val_loss_step', '_timestamp'])\n",
      "dict_keys(['trainer/global_step', '_step', '_runtime', 'val_loss_step', '_timestamp'])\n",
      "dict_keys(['trainer/global_step', '_step', '_runtime', 'val_loss_step', '_timestamp'])\n",
      "dict_keys(['trainer/global_step', '_step', '_runtime', 'val_loss_step', '_timestamp'])\n",
      "dict_keys(['trainer/global_step', '_step', '_runtime', 'val_loss_step', '_timestamp'])\n",
      "dict_keys(['trainer/global_step', '_step', '_runtime', 'val_loss_step', '_timestamp'])\n",
      "dict_keys(['trainer/global_step', '_step', '_runtime', 'val_loss_step', '_timestamp'])\n",
      "dict_keys(['trainer/global_step', '_step', '_runtime', 'val_loss_step', '_timestamp'])\n",
      "dict_keys(['trainer/global_step', '_step', '_runtime', 'val_loss_step', '_timestamp'])\n",
      "dict_keys(['trainer/global_step', '_step', '_runtime', 'val_loss_step', '_timestamp'])\n",
      "dict_keys(['trainer/global_step', '_step', '_runtime', 'val_loss_step', '_timestamp'])\n",
      "dict_keys(['trainer/global_step', '_step', '_runtime', 'val_loss_step', '_timestamp'])\n",
      "dict_keys(['trainer/global_step', '_step', '_runtime', 'val_loss_step', '_timestamp'])\n",
      "dict_keys(['trainer/global_step', '_step', '_runtime', 'val_loss_step', '_timestamp'])\n",
      "dict_keys(['trainer/global_step', '_step', '_runtime', 'val_loss_step', '_timestamp'])\n",
      "dict_keys(['trainer/global_step', '_step', '_runtime', 'val_loss_step', '_timestamp'])\n",
      "dict_keys(['trainer/global_step', '_step', '_runtime', 'val_loss_step', '_timestamp'])\n",
      "dict_keys(['trainer/global_step', '_step', '_runtime', 'val_loss_step', '_timestamp'])\n",
      "dict_keys(['trainer/global_step', '_step', '_runtime', 'val_loss_step', '_timestamp'])\n",
      "dict_keys(['trainer/global_step', '_step', '_runtime', 'val_loss_step', '_timestamp'])\n",
      "dict_keys(['trainer/global_step', '_step', '_runtime', 'val_loss_step', '_timestamp'])\n",
      "dict_keys(['trainer/global_step', '_step', '_runtime', 'val_loss_step', '_timestamp'])\n",
      "dict_keys(['trainer/global_step', '_step', '_runtime', 'val_loss_step', '_timestamp'])\n",
      "dict_keys(['trainer/global_step', '_step', '_runtime', 'val_loss_step', '_timestamp'])\n",
      "dict_keys(['trainer/global_step', '_step', '_runtime', 'val_loss_step', '_timestamp'])\n",
      "dict_keys(['trainer/global_step', '_step', '_runtime', 'val_loss_step', '_timestamp'])\n",
      "dict_keys(['trainer/global_step', '_step', '_runtime', 'val_loss_step', '_timestamp'])\n",
      "dict_keys(['trainer/global_step', '_step', '_runtime', 'val_loss_step', '_timestamp'])\n",
      "dict_keys(['trainer/global_step', '_step', '_runtime', 'val_loss_step', '_timestamp'])\n",
      "dict_keys(['trainer/global_step', '_step', '_runtime', 'val_loss_step', '_timestamp'])\n",
      "dict_keys(['trainer/global_step', '_step', '_runtime', 'val_loss_step', '_timestamp'])\n",
      "dict_keys(['trainer/global_step', '_step', '_runtime', 'val_loss_step', '_timestamp'])\n",
      "dict_keys(['trainer/global_step', '_step', '_runtime', 'val_loss_step', '_timestamp'])\n",
      "dict_keys(['trainer/global_step', '_step', '_runtime', 'val_loss_step', '_timestamp'])\n",
      "dict_keys(['trainer/global_step', '_step', '_runtime', 'val_loss_step', '_timestamp'])\n",
      "dict_keys(['trainer/global_step', '_step', '_runtime', 'val_loss_step', '_timestamp'])\n",
      "dict_keys(['trainer/global_step', '_step', '_runtime', 'val_loss_step', '_timestamp'])\n",
      "dict_keys(['trainer/global_step', '_step', '_runtime', 'val_loss_step', '_timestamp'])\n",
      "dict_keys(['trainer/global_step', '_step', '_runtime', 'val_loss_step', '_timestamp'])\n",
      "dict_keys(['trainer/global_step', '_step', '_runtime', 'val_loss_step', '_timestamp'])\n",
      "dict_keys(['trainer/global_step', '_step', '_runtime', 'val_loss_step', '_timestamp'])\n",
      "dict_keys(['trainer/global_step', '_step', '_runtime', 'val_loss_step', '_timestamp'])\n",
      "dict_keys(['trainer/global_step', '_step', '_runtime', 'val_loss_step', '_timestamp'])\n",
      "dict_keys(['trainer/global_step', '_step', '_runtime', 'val_loss_step', '_timestamp'])\n",
      "dict_keys(['trainer/global_step', '_step', '_runtime', 'val_loss_step', '_timestamp'])\n",
      "dict_keys(['trainer/global_step', '_step', '_runtime', 'val_loss_step', '_timestamp'])\n",
      "dict_keys(['trainer/global_step', '_step', '_runtime', 'val_loss_step', '_timestamp'])\n",
      "dict_keys(['trainer/global_step', '_step', '_runtime', 'val_loss_step', '_timestamp'])\n",
      "dict_keys(['trainer/global_step', '_step', '_runtime', 'val_loss_step', '_timestamp'])\n",
      "dict_keys(['trainer/global_step', '_step', '_runtime', 'val_loss_step', '_timestamp'])\n",
      "dict_keys(['trainer/global_step', '_step', '_runtime', 'val_loss_step', '_timestamp'])\n",
      "dict_keys(['trainer/global_step', '_step', '_runtime', 'val_loss_step', '_timestamp'])\n",
      "dict_keys(['trainer/global_step', '_step', '_runtime', 'val_loss_step', '_timestamp'])\n",
      "dict_keys(['trainer/global_step', '_step', '_runtime', 'val_loss_step', '_timestamp'])\n",
      "dict_keys(['trainer/global_step', '_step', '_runtime', 'val_loss_step', '_timestamp'])\n",
      "dict_keys(['trainer/global_step', '_step', '_runtime', 'val_loss_step', '_timestamp'])\n",
      "dict_keys(['trainer/global_step', '_step', '_runtime', 'val_loss_step', '_timestamp'])\n",
      "dict_keys(['trainer/global_step', '_step', '_runtime', 'val_loss_step', '_timestamp'])\n",
      "dict_keys(['trainer/global_step', '_step', '_runtime', 'val_loss_step', '_timestamp'])\n",
      "dict_keys(['trainer/global_step', '_step', '_runtime', 'val_loss_step', '_timestamp'])\n",
      "dict_keys(['trainer/global_step', '_step', '_runtime', 'val_loss_step', '_timestamp'])\n",
      "dict_keys(['trainer/global_step', '_step', '_runtime', 'val_loss_step', '_timestamp'])\n",
      "dict_keys(['trainer/global_step', '_step', '_runtime', 'val_loss_step', '_timestamp'])\n",
      "dict_keys(['trainer/global_step', '_step', '_runtime', 'val_loss_step', '_timestamp'])\n",
      "dict_keys(['trainer/global_step', '_step', '_runtime', 'val_loss_step', '_timestamp'])\n",
      "dict_keys(['trainer/global_step', '_step', '_runtime', 'val_loss_step', '_timestamp'])\n",
      "dict_keys(['trainer/global_step', '_step', '_runtime', 'val_loss_step', '_timestamp'])\n",
      "dict_keys(['trainer/global_step', '_step', '_runtime', 'val_loss_step', '_timestamp'])\n",
      "dict_keys(['trainer/global_step', '_step', '_runtime', 'val_loss_step', '_timestamp'])\n",
      "dict_keys(['trainer/global_step', '_step', '_runtime', 'val_loss_step', '_timestamp'])\n",
      "dict_keys(['trainer/global_step', '_step', '_runtime', 'val_loss_step', '_timestamp'])\n",
      "dict_keys(['trainer/global_step', '_step', '_runtime', 'val_loss_step', '_timestamp'])\n",
      "dict_keys(['trainer/global_step', '_step', '_runtime', 'val_loss_step', '_timestamp'])\n",
      "dict_keys(['trainer/global_step', '_step', '_runtime', 'val_loss_step', '_timestamp'])\n",
      "dict_keys(['trainer/global_step', '_step', '_runtime', 'val_loss_step', '_timestamp'])\n",
      "dict_keys(['trainer/global_step', '_step', '_runtime', 'val_loss_step', '_timestamp'])\n",
      "dict_keys(['trainer/global_step', '_step', '_runtime', 'val_loss_step', '_timestamp'])\n",
      "dict_keys(['trainer/global_step', '_step', '_runtime', 'val_loss_step', '_timestamp'])\n",
      "dict_keys(['trainer/global_step', '_step', '_runtime', 'val_loss_step', '_timestamp'])\n",
      "dict_keys(['trainer/global_step', '_step', '_runtime', 'val_loss_step', '_timestamp'])\n",
      "dict_keys(['trainer/global_step', '_step', '_runtime', 'val_loss_step', '_timestamp'])\n",
      "dict_keys(['trainer/global_step', '_step', '_runtime', 'val_loss_step', '_timestamp'])\n",
      "dict_keys(['trainer/global_step', '_step', '_runtime', 'val_loss_step', '_timestamp'])\n",
      "dict_keys(['trainer/global_step', '_step', '_runtime', 'val_loss_step', '_timestamp'])\n",
      "dict_keys(['trainer/global_step', '_step', '_runtime', 'val_loss_step', '_timestamp'])\n",
      "dict_keys(['trainer/global_step', '_step', '_runtime', 'val_loss_step', '_timestamp'])\n",
      "dict_keys(['trainer/global_step', '_step', '_runtime', 'val_loss_step', '_timestamp'])\n",
      "dict_keys(['trainer/global_step', '_step', '_runtime', 'val_loss_step', '_timestamp'])\n",
      "dict_keys(['trainer/global_step', '_step', '_runtime', 'val_loss_step', '_timestamp'])\n",
      "dict_keys(['trainer/global_step', '_step', '_runtime', 'val_loss_step', '_timestamp'])\n",
      "dict_keys(['trainer/global_step', '_step', '_runtime', 'val_loss_step', '_timestamp'])\n",
      "dict_keys(['trainer/global_step', '_step', '_runtime', 'val_loss_step', '_timestamp'])\n",
      "dict_keys(['trainer/global_step', '_step', '_runtime', 'val_loss_step', '_timestamp'])\n",
      "dict_keys(['trainer/global_step', '_step', '_runtime', 'val_loss_step', '_timestamp'])\n",
      "dict_keys(['trainer/global_step', '_step', '_runtime', 'val_loss_step', '_timestamp'])\n",
      "dict_keys(['trainer/global_step', '_step', '_runtime', 'val_loss_step', '_timestamp'])\n",
      "dict_keys(['trainer/global_step', '_step', '_runtime', 'val_loss_step', '_timestamp'])\n",
      "dict_keys(['trainer/global_step', '_step', '_runtime', 'val_loss_step', '_timestamp'])\n",
      "dict_keys(['trainer/global_step', '_step', '_runtime', 'val_loss_step', '_timestamp'])\n",
      "dict_keys(['trainer/global_step', '_step', '_runtime', 'val_loss_step', '_timestamp'])\n",
      "dict_keys(['trainer/global_step', '_step', '_runtime', 'val_loss_step', '_timestamp'])\n",
      "dict_keys(['trainer/global_step', '_step', '_runtime', 'val_loss_step', '_timestamp'])\n",
      "dict_keys(['trainer/global_step', '_step', '_runtime', 'val_loss_step', '_timestamp'])\n",
      "dict_keys(['trainer/global_step', '_step', '_runtime', 'val_loss_step', '_timestamp'])\n",
      "dict_keys(['trainer/global_step', '_step', '_runtime', 'val_loss_step', '_timestamp'])\n",
      "dict_keys(['trainer/global_step', '_step', '_runtime', 'val_loss_step', '_timestamp'])\n",
      "dict_keys(['trainer/global_step', '_step', '_runtime', 'val_loss_step', '_timestamp'])\n",
      "dict_keys(['trainer/global_step', '_step', '_runtime', 'val_loss_step', '_timestamp'])\n",
      "dict_keys(['trainer/global_step', '_step', '_runtime', 'val_loss_step', '_timestamp'])\n",
      "dict_keys(['trainer/global_step', '_step', '_runtime', 'val_loss_step', '_timestamp'])\n",
      "dict_keys(['trainer/global_step', '_step', '_runtime', 'val_loss_step', '_timestamp'])\n",
      "dict_keys(['trainer/global_step', '_step', '_runtime', 'val_loss_step', '_timestamp'])\n",
      "dict_keys(['trainer/global_step', '_step', '_runtime', 'val_loss_step', '_timestamp'])\n",
      "dict_keys(['trainer/global_step', '_step', '_runtime', 'val_loss_step', '_timestamp'])\n",
      "dict_keys(['trainer/global_step', '_step', '_runtime', 'val_loss_step', '_timestamp'])\n",
      "dict_keys(['trainer/global_step', '_step', '_runtime', 'val_loss_step', '_timestamp'])\n",
      "dict_keys(['trainer/global_step', '_step', '_runtime', 'val_loss_step', '_timestamp'])\n",
      "dict_keys(['trainer/global_step', '_step', '_runtime', 'val_loss_step', '_timestamp'])\n",
      "dict_keys(['trainer/global_step', '_step', '_runtime', 'val_loss_step', '_timestamp'])\n",
      "dict_keys(['val_median_f1', 'val_auroc', 'trainer/global_step', 'val_per_class_recall', '_step', 'val_confusion_matrix', 'val_f1', '_runtime', 'val_total_accuracy', 'val_recall', 'val_balanced_accuracy', 'val_weighted_accuracy', 'val_loss_epoch', 'epoch', 'val_per_class_f1', 'val_precision', 'val_per_class_precision', '_timestamp', 'val_specificity'])\n",
      "dict_keys(['train_precision', 'trainer/global_step', 'train_f1', '_step', 'train_auroc', 'train_specificity', '_runtime', 'train_loss_epoch', 'train_confusion_matrix', 'train_weighted_accuracy', 'train_balanced_accuracy', 'train_total_accuracy', 'train_per_class_recall', 'epoch', 'train_per_class_precision', 'train_recall', 'train_per_class_f1', '_timestamp'])\n",
      "dict_keys(['trainer/global_step', '_step', '_runtime', 'lr-Adam', '_timestamp'])\n",
      "dict_keys(['trainer/global_step', '_step', '_runtime', 'train_loss_step', 'epoch', '_timestamp'])\n",
      "dict_keys(['trainer/global_step', '_step', '_runtime', 'train_loss_step', 'epoch', '_timestamp'])\n",
      "dict_keys(['trainer/global_step', '_step', '_runtime', 'train_loss_step', 'epoch', '_timestamp'])\n",
      "dict_keys(['trainer/global_step', '_step', '_runtime', 'train_loss_step', 'epoch', '_timestamp'])\n",
      "dict_keys(['trainer/global_step', '_step', '_runtime', 'train_loss_step', 'epoch', '_timestamp'])\n",
      "dict_keys(['trainer/global_step', '_step', '_runtime', 'train_loss_step', 'epoch', '_timestamp'])\n",
      "dict_keys(['trainer/global_step', '_step', '_runtime', 'train_loss_step', 'epoch', '_timestamp'])\n",
      "dict_keys(['trainer/global_step', '_step', '_runtime', 'train_loss_step', 'epoch', '_timestamp'])\n",
      "dict_keys(['trainer/global_step', '_step', '_runtime', 'train_loss_step', 'epoch', '_timestamp'])\n",
      "dict_keys(['trainer/global_step', '_step', '_runtime', 'train_loss_step', 'epoch', '_timestamp'])\n",
      "dict_keys(['trainer/global_step', '_step', '_runtime', 'train_loss_step', 'epoch', '_timestamp'])\n",
      "dict_keys(['trainer/global_step', '_step', '_runtime', 'train_loss_step', 'epoch', '_timestamp'])\n",
      "dict_keys(['trainer/global_step', '_step', '_runtime', 'train_loss_step', 'epoch', '_timestamp'])\n",
      "dict_keys(['trainer/global_step', '_step', '_runtime', 'train_loss_step', 'epoch', '_timestamp'])\n",
      "dict_keys(['trainer/global_step', '_step', '_runtime', 'train_loss_step', 'epoch', '_timestamp'])\n",
      "dict_keys(['trainer/global_step', '_step', '_runtime', 'train_loss_step', 'epoch', '_timestamp'])\n",
      "dict_keys(['trainer/global_step', '_step', '_runtime', 'train_loss_step', 'epoch', '_timestamp'])\n",
      "dict_keys(['trainer/global_step', '_step', '_runtime', 'train_loss_step', 'epoch', '_timestamp'])\n",
      "dict_keys(['trainer/global_step', '_step', '_runtime', 'train_loss_step', 'epoch', '_timestamp'])\n",
      "dict_keys(['trainer/global_step', '_step', '_runtime', 'val_loss_step', '_timestamp'])\n",
      "dict_keys(['trainer/global_step', '_step', '_runtime', 'val_loss_step', '_timestamp'])\n",
      "dict_keys(['trainer/global_step', '_step', '_runtime', 'val_loss_step', '_timestamp'])\n",
      "dict_keys(['trainer/global_step', '_step', '_runtime', 'val_loss_step', '_timestamp'])\n",
      "dict_keys(['trainer/global_step', '_step', '_runtime', 'val_loss_step', '_timestamp'])\n",
      "dict_keys(['trainer/global_step', '_step', '_runtime', 'val_loss_step', '_timestamp'])\n",
      "dict_keys(['trainer/global_step', '_step', '_runtime', 'val_loss_step', '_timestamp'])\n",
      "dict_keys(['trainer/global_step', '_step', '_runtime', 'val_loss_step', '_timestamp'])\n",
      "dict_keys(['trainer/global_step', '_step', '_runtime', 'val_loss_step', '_timestamp'])\n",
      "dict_keys(['trainer/global_step', '_step', '_runtime', 'val_loss_step', '_timestamp'])\n",
      "dict_keys(['trainer/global_step', '_step', '_runtime', 'val_loss_step', '_timestamp'])\n",
      "dict_keys(['trainer/global_step', '_step', '_runtime', 'val_loss_step', '_timestamp'])\n",
      "dict_keys(['trainer/global_step', '_step', '_runtime', 'val_loss_step', '_timestamp'])\n",
      "dict_keys(['trainer/global_step', '_step', '_runtime', 'val_loss_step', '_timestamp'])\n",
      "dict_keys(['trainer/global_step', '_step', '_runtime', 'val_loss_step', '_timestamp'])\n",
      "dict_keys(['trainer/global_step', '_step', '_runtime', 'val_loss_step', '_timestamp'])\n",
      "dict_keys(['trainer/global_step', '_step', '_runtime', 'val_loss_step', '_timestamp'])\n",
      "dict_keys(['trainer/global_step', '_step', '_runtime', 'val_loss_step', '_timestamp'])\n",
      "dict_keys(['trainer/global_step', '_step', '_runtime', 'val_loss_step', '_timestamp'])\n",
      "dict_keys(['trainer/global_step', '_step', '_runtime', 'val_loss_step', '_timestamp'])\n",
      "dict_keys(['trainer/global_step', '_step', '_runtime', 'val_loss_step', '_timestamp'])\n",
      "dict_keys(['trainer/global_step', '_step', '_runtime', 'val_loss_step', '_timestamp'])\n",
      "dict_keys(['trainer/global_step', '_step', '_runtime', 'val_loss_step', '_timestamp'])\n",
      "dict_keys(['trainer/global_step', '_step', '_runtime', 'val_loss_step', '_timestamp'])\n",
      "dict_keys(['trainer/global_step', '_step', '_runtime', 'val_loss_step', '_timestamp'])\n",
      "dict_keys(['trainer/global_step', '_step', '_runtime', 'val_loss_step', '_timestamp'])\n",
      "dict_keys(['trainer/global_step', '_step', '_runtime', 'val_loss_step', '_timestamp'])\n",
      "dict_keys(['trainer/global_step', '_step', '_runtime', 'val_loss_step', '_timestamp'])\n",
      "dict_keys(['trainer/global_step', '_step', '_runtime', 'val_loss_step', '_timestamp'])\n",
      "dict_keys(['trainer/global_step', '_step', '_runtime', 'val_loss_step', '_timestamp'])\n",
      "dict_keys(['trainer/global_step', '_step', '_runtime', 'val_loss_step', '_timestamp'])\n",
      "dict_keys(['trainer/global_step', '_step', '_runtime', 'val_loss_step', '_timestamp'])\n",
      "dict_keys(['trainer/global_step', '_step', '_runtime', 'val_loss_step', '_timestamp'])\n",
      "dict_keys(['trainer/global_step', '_step', '_runtime', 'val_loss_step', '_timestamp'])\n",
      "dict_keys(['trainer/global_step', '_step', '_runtime', 'val_loss_step', '_timestamp'])\n",
      "dict_keys(['trainer/global_step', '_step', '_runtime', 'val_loss_step', '_timestamp'])\n",
      "dict_keys(['trainer/global_step', '_step', '_runtime', 'val_loss_step', '_timestamp'])\n",
      "dict_keys(['trainer/global_step', '_step', '_runtime', 'val_loss_step', '_timestamp'])\n",
      "dict_keys(['trainer/global_step', '_step', '_runtime', 'val_loss_step', '_timestamp'])\n",
      "dict_keys(['trainer/global_step', '_step', '_runtime', 'val_loss_step', '_timestamp'])\n",
      "dict_keys(['trainer/global_step', '_step', '_runtime', 'val_loss_step', '_timestamp'])\n",
      "dict_keys(['trainer/global_step', '_step', '_runtime', 'val_loss_step', '_timestamp'])\n",
      "dict_keys(['trainer/global_step', '_step', '_runtime', 'val_loss_step', '_timestamp'])\n",
      "dict_keys(['trainer/global_step', '_step', '_runtime', 'val_loss_step', '_timestamp'])\n",
      "dict_keys(['trainer/global_step', '_step', '_runtime', 'val_loss_step', '_timestamp'])\n",
      "dict_keys(['trainer/global_step', '_step', '_runtime', 'val_loss_step', '_timestamp'])\n",
      "dict_keys(['trainer/global_step', '_step', '_runtime', 'val_loss_step', '_timestamp'])\n",
      "dict_keys(['trainer/global_step', '_step', '_runtime', 'val_loss_step', '_timestamp'])\n",
      "dict_keys(['trainer/global_step', '_step', '_runtime', 'val_loss_step', '_timestamp'])\n",
      "dict_keys(['trainer/global_step', '_step', '_runtime', 'val_loss_step', '_timestamp'])\n",
      "dict_keys(['trainer/global_step', '_step', '_runtime', 'val_loss_step', '_timestamp'])\n",
      "dict_keys(['trainer/global_step', '_step', '_runtime', 'val_loss_step', '_timestamp'])\n",
      "dict_keys(['trainer/global_step', '_step', '_runtime', 'val_loss_step', '_timestamp'])\n",
      "dict_keys(['trainer/global_step', '_step', '_runtime', 'val_loss_step', '_timestamp'])\n",
      "dict_keys(['trainer/global_step', '_step', '_runtime', 'val_loss_step', '_timestamp'])\n",
      "dict_keys(['trainer/global_step', '_step', '_runtime', 'val_loss_step', '_timestamp'])\n",
      "dict_keys(['trainer/global_step', '_step', '_runtime', 'val_loss_step', '_timestamp'])\n",
      "dict_keys(['trainer/global_step', '_step', '_runtime', 'val_loss_step', '_timestamp'])\n",
      "dict_keys(['trainer/global_step', '_step', '_runtime', 'val_loss_step', '_timestamp'])\n",
      "dict_keys(['trainer/global_step', '_step', '_runtime', 'val_loss_step', '_timestamp'])\n",
      "dict_keys(['trainer/global_step', '_step', '_runtime', 'val_loss_step', '_timestamp'])\n",
      "dict_keys(['trainer/global_step', '_step', '_runtime', 'val_loss_step', '_timestamp'])\n",
      "dict_keys(['trainer/global_step', '_step', '_runtime', 'val_loss_step', '_timestamp'])\n",
      "dict_keys(['trainer/global_step', '_step', '_runtime', 'val_loss_step', '_timestamp'])\n",
      "dict_keys(['trainer/global_step', '_step', '_runtime', 'val_loss_step', '_timestamp'])\n",
      "dict_keys(['trainer/global_step', '_step', '_runtime', 'val_loss_step', '_timestamp'])\n",
      "dict_keys(['trainer/global_step', '_step', '_runtime', 'val_loss_step', '_timestamp'])\n",
      "dict_keys(['trainer/global_step', '_step', '_runtime', 'val_loss_step', '_timestamp'])\n",
      "dict_keys(['trainer/global_step', '_step', '_runtime', 'val_loss_step', '_timestamp'])\n",
      "dict_keys(['trainer/global_step', '_step', '_runtime', 'val_loss_step', '_timestamp'])\n",
      "dict_keys(['trainer/global_step', '_step', '_runtime', 'val_loss_step', '_timestamp'])\n",
      "dict_keys(['trainer/global_step', '_step', '_runtime', 'val_loss_step', '_timestamp'])\n",
      "dict_keys(['trainer/global_step', '_step', '_runtime', 'val_loss_step', '_timestamp'])\n",
      "dict_keys(['trainer/global_step', '_step', '_runtime', 'val_loss_step', '_timestamp'])\n",
      "dict_keys(['trainer/global_step', '_step', '_runtime', 'val_loss_step', '_timestamp'])\n",
      "dict_keys(['trainer/global_step', '_step', '_runtime', 'val_loss_step', '_timestamp'])\n",
      "dict_keys(['trainer/global_step', '_step', '_runtime', 'val_loss_step', '_timestamp'])\n",
      "dict_keys(['trainer/global_step', '_step', '_runtime', 'val_loss_step', '_timestamp'])\n",
      "dict_keys(['trainer/global_step', '_step', '_runtime', 'val_loss_step', '_timestamp'])\n",
      "dict_keys(['trainer/global_step', '_step', '_runtime', 'val_loss_step', '_timestamp'])\n",
      "dict_keys(['trainer/global_step', '_step', '_runtime', 'val_loss_step', '_timestamp'])\n",
      "dict_keys(['trainer/global_step', '_step', '_runtime', 'val_loss_step', '_timestamp'])\n",
      "dict_keys(['trainer/global_step', '_step', '_runtime', 'val_loss_step', '_timestamp'])\n",
      "dict_keys(['trainer/global_step', '_step', '_runtime', 'val_loss_step', '_timestamp'])\n",
      "dict_keys(['trainer/global_step', '_step', '_runtime', 'val_loss_step', '_timestamp'])\n",
      "dict_keys(['trainer/global_step', '_step', '_runtime', 'val_loss_step', '_timestamp'])\n",
      "dict_keys(['trainer/global_step', '_step', '_runtime', 'val_loss_step', '_timestamp'])\n",
      "dict_keys(['trainer/global_step', '_step', '_runtime', 'val_loss_step', '_timestamp'])\n",
      "dict_keys(['trainer/global_step', '_step', '_runtime', 'val_loss_step', '_timestamp'])\n",
      "dict_keys(['trainer/global_step', '_step', '_runtime', 'val_loss_step', '_timestamp'])\n",
      "dict_keys(['trainer/global_step', '_step', '_runtime', 'val_loss_step', '_timestamp'])\n",
      "dict_keys(['trainer/global_step', '_step', '_runtime', 'val_loss_step', '_timestamp'])\n",
      "dict_keys(['trainer/global_step', '_step', '_runtime', 'val_loss_step', '_timestamp'])\n",
      "dict_keys(['trainer/global_step', '_step', '_runtime', 'val_loss_step', '_timestamp'])\n",
      "dict_keys(['trainer/global_step', '_step', '_runtime', 'val_loss_step', '_timestamp'])\n",
      "dict_keys(['trainer/global_step', '_step', '_runtime', 'val_loss_step', '_timestamp'])\n",
      "dict_keys(['trainer/global_step', '_step', '_runtime', 'val_loss_step', '_timestamp'])\n",
      "dict_keys(['trainer/global_step', '_step', '_runtime', 'val_loss_step', '_timestamp'])\n",
      "dict_keys(['trainer/global_step', '_step', '_runtime', 'val_loss_step', '_timestamp'])\n",
      "dict_keys(['trainer/global_step', '_step', '_runtime', 'val_loss_step', '_timestamp'])\n",
      "dict_keys(['trainer/global_step', '_step', '_runtime', 'val_loss_step', '_timestamp'])\n",
      "dict_keys(['trainer/global_step', '_step', '_runtime', 'val_loss_step', '_timestamp'])\n",
      "dict_keys(['trainer/global_step', '_step', '_runtime', 'val_loss_step', '_timestamp'])\n",
      "dict_keys(['trainer/global_step', '_step', '_runtime', 'val_loss_step', '_timestamp'])\n",
      "dict_keys(['trainer/global_step', '_step', '_runtime', 'val_loss_step', '_timestamp'])\n",
      "dict_keys(['trainer/global_step', '_step', '_runtime', 'val_loss_step', '_timestamp'])\n",
      "dict_keys(['trainer/global_step', '_step', '_runtime', 'val_loss_step', '_timestamp'])\n",
      "dict_keys(['trainer/global_step', '_step', '_runtime', 'val_loss_step', '_timestamp'])\n",
      "dict_keys(['trainer/global_step', '_step', '_runtime', 'val_loss_step', '_timestamp'])\n",
      "dict_keys(['trainer/global_step', '_step', '_runtime', 'val_loss_step', '_timestamp'])\n",
      "dict_keys(['trainer/global_step', '_step', '_runtime', 'val_loss_step', '_timestamp'])\n",
      "dict_keys(['trainer/global_step', '_step', '_runtime', 'val_loss_step', '_timestamp'])\n",
      "dict_keys(['trainer/global_step', '_step', '_runtime', 'val_loss_step', '_timestamp'])\n",
      "dict_keys(['trainer/global_step', '_step', '_runtime', 'val_loss_step', '_timestamp'])\n",
      "dict_keys(['trainer/global_step', '_step', '_runtime', 'val_loss_step', '_timestamp'])\n",
      "dict_keys(['trainer/global_step', '_step', '_runtime', 'val_loss_step', '_timestamp'])\n",
      "dict_keys(['trainer/global_step', '_step', '_runtime', 'val_loss_step', '_timestamp'])\n",
      "dict_keys(['trainer/global_step', '_step', '_runtime', 'val_loss_step', '_timestamp'])\n",
      "dict_keys(['trainer/global_step', '_step', '_runtime', 'val_loss_step', '_timestamp'])\n",
      "dict_keys(['trainer/global_step', '_step', '_runtime', 'val_loss_step', '_timestamp'])\n",
      "dict_keys(['trainer/global_step', '_step', '_runtime', 'val_loss_step', '_timestamp'])\n",
      "dict_keys(['trainer/global_step', '_step', '_runtime', 'val_loss_step', '_timestamp'])\n",
      "dict_keys(['trainer/global_step', '_step', '_runtime', 'val_loss_step', '_timestamp'])\n",
      "dict_keys(['trainer/global_step', '_step', '_runtime', 'val_loss_step', '_timestamp'])\n",
      "dict_keys(['trainer/global_step', '_step', '_runtime', 'val_loss_step', '_timestamp'])\n",
      "dict_keys(['trainer/global_step', '_step', '_runtime', 'val_loss_step', '_timestamp'])\n",
      "dict_keys(['trainer/global_step', '_step', '_runtime', 'val_loss_step', '_timestamp'])\n",
      "dict_keys(['trainer/global_step', '_step', '_runtime', 'val_loss_step', '_timestamp'])\n",
      "dict_keys(['trainer/global_step', '_step', '_runtime', 'val_loss_step', '_timestamp'])\n",
      "dict_keys(['trainer/global_step', '_step', '_runtime', 'val_loss_step', '_timestamp'])\n",
      "dict_keys(['trainer/global_step', '_step', '_runtime', 'val_loss_step', '_timestamp'])\n",
      "dict_keys(['trainer/global_step', '_step', '_runtime', 'val_loss_step', '_timestamp'])\n",
      "dict_keys(['trainer/global_step', '_step', '_runtime', 'val_loss_step', '_timestamp'])\n",
      "dict_keys(['trainer/global_step', '_step', '_runtime', 'val_loss_step', '_timestamp'])\n",
      "dict_keys(['trainer/global_step', '_step', '_runtime', 'val_loss_step', '_timestamp'])\n",
      "dict_keys(['trainer/global_step', '_step', '_runtime', 'val_loss_step', '_timestamp'])\n",
      "dict_keys(['trainer/global_step', '_step', '_runtime', 'val_loss_step', '_timestamp'])\n",
      "dict_keys(['trainer/global_step', '_step', '_runtime', 'val_loss_step', '_timestamp'])\n",
      "dict_keys(['trainer/global_step', '_step', '_runtime', 'val_loss_step', '_timestamp'])\n",
      "dict_keys(['trainer/global_step', '_step', '_runtime', 'val_loss_step', '_timestamp'])\n",
      "dict_keys(['trainer/global_step', '_step', '_runtime', 'val_loss_step', '_timestamp'])\n",
      "dict_keys(['trainer/global_step', '_step', '_runtime', 'val_loss_step', '_timestamp'])\n",
      "dict_keys(['trainer/global_step', '_step', '_runtime', 'val_loss_step', '_timestamp'])\n",
      "dict_keys(['trainer/global_step', '_step', '_runtime', 'val_loss_step', '_timestamp'])\n",
      "dict_keys(['trainer/global_step', '_step', '_runtime', 'val_loss_step', '_timestamp'])\n",
      "dict_keys(['trainer/global_step', '_step', '_runtime', 'val_loss_step', '_timestamp'])\n",
      "dict_keys(['trainer/global_step', '_step', '_runtime', 'val_loss_step', '_timestamp'])\n",
      "dict_keys(['trainer/global_step', '_step', '_runtime', 'val_loss_step', '_timestamp'])\n",
      "dict_keys(['trainer/global_step', '_step', '_runtime', 'val_loss_step', '_timestamp'])\n",
      "dict_keys(['trainer/global_step', '_step', '_runtime', 'val_loss_step', '_timestamp'])\n",
      "dict_keys(['trainer/global_step', '_step', '_runtime', 'val_loss_step', '_timestamp'])\n",
      "dict_keys(['trainer/global_step', '_step', '_runtime', 'val_loss_step', '_timestamp'])\n",
      "dict_keys(['trainer/global_step', '_step', '_runtime', 'val_loss_step', '_timestamp'])\n",
      "dict_keys(['trainer/global_step', '_step', '_runtime', 'val_loss_step', '_timestamp'])\n",
      "dict_keys(['trainer/global_step', '_step', '_runtime', 'val_loss_step', '_timestamp'])\n",
      "dict_keys(['trainer/global_step', '_step', '_runtime', 'val_loss_step', '_timestamp'])\n",
      "dict_keys(['trainer/global_step', '_step', '_runtime', 'val_loss_step', '_timestamp'])\n",
      "dict_keys(['trainer/global_step', '_step', '_runtime', 'val_loss_step', '_timestamp'])\n",
      "dict_keys(['trainer/global_step', '_step', '_runtime', 'val_loss_step', '_timestamp'])\n",
      "dict_keys(['trainer/global_step', '_step', '_runtime', 'val_loss_step', '_timestamp'])\n",
      "dict_keys(['trainer/global_step', '_step', '_runtime', 'val_loss_step', '_timestamp'])\n",
      "dict_keys(['trainer/global_step', '_step', '_runtime', 'val_loss_step', '_timestamp'])\n",
      "dict_keys(['trainer/global_step', '_step', '_runtime', 'val_loss_step', '_timestamp'])\n",
      "dict_keys(['trainer/global_step', '_step', '_runtime', 'val_loss_step', '_timestamp'])\n",
      "dict_keys(['trainer/global_step', '_step', '_runtime', 'val_loss_step', '_timestamp'])\n",
      "dict_keys(['trainer/global_step', '_step', '_runtime', 'val_loss_step', '_timestamp'])\n",
      "dict_keys(['trainer/global_step', '_step', '_runtime', 'val_loss_step', '_timestamp'])\n",
      "dict_keys(['trainer/global_step', '_step', '_runtime', 'val_loss_step', '_timestamp'])\n",
      "dict_keys(['trainer/global_step', '_step', '_runtime', 'val_loss_step', '_timestamp'])\n",
      "dict_keys(['trainer/global_step', '_step', '_runtime', 'val_loss_step', '_timestamp'])\n",
      "dict_keys(['trainer/global_step', '_step', '_runtime', 'val_loss_step', '_timestamp'])\n",
      "dict_keys(['trainer/global_step', '_step', '_runtime', 'val_loss_step', '_timestamp'])\n",
      "dict_keys(['trainer/global_step', '_step', '_runtime', 'val_loss_step', '_timestamp'])\n",
      "dict_keys(['trainer/global_step', '_step', '_runtime', 'val_loss_step', '_timestamp'])\n",
      "dict_keys(['trainer/global_step', '_step', '_runtime', 'val_loss_step', '_timestamp'])\n",
      "dict_keys(['trainer/global_step', '_step', '_runtime', 'val_loss_step', '_timestamp'])\n",
      "dict_keys(['trainer/global_step', '_step', '_runtime', 'val_loss_step', '_timestamp'])\n",
      "dict_keys(['trainer/global_step', '_step', '_runtime', 'val_loss_step', '_timestamp'])\n",
      "dict_keys(['trainer/global_step', '_step', '_runtime', 'val_loss_step', '_timestamp'])\n",
      "dict_keys(['trainer/global_step', '_step', '_runtime', 'val_loss_step', '_timestamp'])\n",
      "dict_keys(['trainer/global_step', '_step', '_runtime', 'val_loss_step', '_timestamp'])\n",
      "dict_keys(['trainer/global_step', '_step', '_runtime', 'val_loss_step', '_timestamp'])\n",
      "dict_keys(['trainer/global_step', '_step', '_runtime', 'val_loss_step', '_timestamp'])\n",
      "dict_keys(['trainer/global_step', '_step', '_runtime', 'val_loss_step', '_timestamp'])\n",
      "dict_keys(['trainer/global_step', '_step', '_runtime', 'val_loss_step', '_timestamp'])\n",
      "dict_keys(['trainer/global_step', '_step', '_runtime', 'val_loss_step', '_timestamp'])\n",
      "dict_keys(['trainer/global_step', '_step', '_runtime', 'val_loss_step', '_timestamp'])\n",
      "dict_keys(['trainer/global_step', '_step', '_runtime', 'val_loss_step', '_timestamp'])\n",
      "dict_keys(['trainer/global_step', '_step', '_runtime', 'val_loss_step', '_timestamp'])\n",
      "dict_keys(['trainer/global_step', '_step', '_runtime', 'val_loss_step', '_timestamp'])\n",
      "dict_keys(['trainer/global_step', '_step', '_runtime', 'val_loss_step', '_timestamp'])\n",
      "dict_keys(['trainer/global_step', '_step', '_runtime', 'val_loss_step', '_timestamp'])\n",
      "dict_keys(['trainer/global_step', '_step', '_runtime', 'val_loss_step', '_timestamp'])\n",
      "dict_keys(['trainer/global_step', '_step', '_runtime', 'val_loss_step', '_timestamp'])\n",
      "dict_keys(['trainer/global_step', '_step', '_runtime', 'val_loss_step', '_timestamp'])\n",
      "dict_keys(['trainer/global_step', '_step', '_runtime', 'val_loss_step', '_timestamp'])\n",
      "dict_keys(['trainer/global_step', '_step', '_runtime', 'val_loss_step', '_timestamp'])\n",
      "dict_keys(['trainer/global_step', '_step', '_runtime', 'val_loss_step', '_timestamp'])\n",
      "dict_keys(['trainer/global_step', '_step', '_runtime', 'val_loss_step', '_timestamp'])\n",
      "dict_keys(['trainer/global_step', '_step', '_runtime', 'val_loss_step', '_timestamp'])\n",
      "dict_keys(['trainer/global_step', '_step', '_runtime', 'val_loss_step', '_timestamp'])\n",
      "dict_keys(['trainer/global_step', '_step', '_runtime', 'val_loss_step', '_timestamp'])\n",
      "dict_keys(['trainer/global_step', '_step', '_runtime', 'val_loss_step', '_timestamp'])\n",
      "dict_keys(['trainer/global_step', '_step', '_runtime', 'val_loss_step', '_timestamp'])\n",
      "dict_keys(['trainer/global_step', '_step', '_runtime', 'val_loss_step', '_timestamp'])\n",
      "dict_keys(['trainer/global_step', '_step', '_runtime', 'val_loss_step', '_timestamp'])\n",
      "dict_keys(['trainer/global_step', '_step', '_runtime', 'val_loss_step', '_timestamp'])\n",
      "dict_keys(['trainer/global_step', '_step', '_runtime', 'val_loss_step', '_timestamp'])\n",
      "dict_keys(['trainer/global_step', '_step', '_runtime', 'val_loss_step', '_timestamp'])\n",
      "dict_keys(['trainer/global_step', '_step', '_runtime', 'val_loss_step', '_timestamp'])\n",
      "dict_keys(['trainer/global_step', '_step', '_runtime', 'val_loss_step', '_timestamp'])\n",
      "dict_keys(['trainer/global_step', '_step', '_runtime', 'val_loss_step', '_timestamp'])\n",
      "dict_keys(['trainer/global_step', '_step', '_runtime', 'val_loss_step', '_timestamp'])\n",
      "dict_keys(['trainer/global_step', '_step', '_runtime', 'val_loss_step', '_timestamp'])\n",
      "dict_keys(['trainer/global_step', '_step', '_runtime', 'val_loss_step', '_timestamp'])\n",
      "dict_keys(['trainer/global_step', '_step', '_runtime', 'val_loss_step', '_timestamp'])\n",
      "dict_keys(['trainer/global_step', '_step', '_runtime', 'val_loss_step', '_timestamp'])\n",
      "dict_keys(['trainer/global_step', '_step', '_runtime', 'val_loss_step', '_timestamp'])\n",
      "dict_keys(['trainer/global_step', '_step', '_runtime', 'val_loss_step', '_timestamp'])\n",
      "dict_keys(['trainer/global_step', '_step', '_runtime', 'val_loss_step', '_timestamp'])\n",
      "dict_keys(['trainer/global_step', '_step', '_runtime', 'val_loss_step', '_timestamp'])\n",
      "dict_keys(['trainer/global_step', '_step', '_runtime', 'val_loss_step', '_timestamp'])\n",
      "dict_keys(['trainer/global_step', '_step', '_runtime', 'val_loss_step', '_timestamp'])\n",
      "dict_keys(['trainer/global_step', '_step', '_runtime', 'val_loss_step', '_timestamp'])\n",
      "dict_keys(['trainer/global_step', '_step', '_runtime', 'val_loss_step', '_timestamp'])\n",
      "dict_keys(['trainer/global_step', '_step', '_runtime', 'val_loss_step', '_timestamp'])\n",
      "dict_keys(['trainer/global_step', '_step', '_runtime', 'val_loss_step', '_timestamp'])\n",
      "dict_keys(['trainer/global_step', '_step', '_runtime', 'val_loss_step', '_timestamp'])\n",
      "dict_keys(['trainer/global_step', '_step', '_runtime', 'val_loss_step', '_timestamp'])\n",
      "dict_keys(['trainer/global_step', '_step', '_runtime', 'val_loss_step', '_timestamp'])\n",
      "dict_keys(['trainer/global_step', '_step', '_runtime', 'val_loss_step', '_timestamp'])\n",
      "dict_keys(['trainer/global_step', '_step', '_runtime', 'val_loss_step', '_timestamp'])\n",
      "dict_keys(['trainer/global_step', '_step', '_runtime', 'val_loss_step', '_timestamp'])\n",
      "dict_keys(['trainer/global_step', '_step', '_runtime', 'val_loss_step', '_timestamp'])\n",
      "dict_keys(['trainer/global_step', '_step', '_runtime', 'val_loss_step', '_timestamp'])\n",
      "dict_keys(['trainer/global_step', '_step', '_runtime', 'val_loss_step', '_timestamp'])\n",
      "dict_keys(['trainer/global_step', '_step', '_runtime', 'val_loss_step', '_timestamp'])\n",
      "dict_keys(['trainer/global_step', '_step', '_runtime', 'val_loss_step', '_timestamp'])\n",
      "dict_keys(['trainer/global_step', '_step', '_runtime', 'val_loss_step', '_timestamp'])\n",
      "dict_keys(['trainer/global_step', '_step', '_runtime', 'val_loss_step', '_timestamp'])\n",
      "dict_keys(['trainer/global_step', '_step', '_runtime', 'val_loss_step', '_timestamp'])\n",
      "dict_keys(['trainer/global_step', '_step', '_runtime', 'val_loss_step', '_timestamp'])\n",
      "dict_keys(['trainer/global_step', '_step', '_runtime', 'val_loss_step', '_timestamp'])\n",
      "dict_keys(['trainer/global_step', '_step', '_runtime', 'val_loss_step', '_timestamp'])\n",
      "dict_keys(['trainer/global_step', '_step', '_runtime', 'val_loss_step', '_timestamp'])\n",
      "dict_keys(['trainer/global_step', '_step', '_runtime', 'val_loss_step', '_timestamp'])\n",
      "dict_keys(['trainer/global_step', '_step', '_runtime', 'val_loss_step', '_timestamp'])\n",
      "dict_keys(['trainer/global_step', '_step', '_runtime', 'val_loss_step', '_timestamp'])\n",
      "dict_keys(['trainer/global_step', '_step', '_runtime', 'val_loss_step', '_timestamp'])\n",
      "dict_keys(['trainer/global_step', '_step', '_runtime', 'val_loss_step', '_timestamp'])\n",
      "dict_keys(['trainer/global_step', '_step', '_runtime', 'val_loss_step', '_timestamp'])\n",
      "dict_keys(['trainer/global_step', '_step', '_runtime', 'val_loss_step', '_timestamp'])\n",
      "dict_keys(['trainer/global_step', '_step', '_runtime', 'val_loss_step', '_timestamp'])\n",
      "dict_keys(['trainer/global_step', '_step', '_runtime', 'val_loss_step', '_timestamp'])\n",
      "dict_keys(['trainer/global_step', '_step', '_runtime', 'val_loss_step', '_timestamp'])\n",
      "dict_keys(['trainer/global_step', '_step', '_runtime', 'val_loss_step', '_timestamp'])\n",
      "dict_keys(['trainer/global_step', '_step', '_runtime', 'val_loss_step', '_timestamp'])\n",
      "dict_keys(['trainer/global_step', '_step', '_runtime', 'val_loss_step', '_timestamp'])\n",
      "dict_keys(['trainer/global_step', '_step', '_runtime', 'val_loss_step', '_timestamp'])\n",
      "dict_keys(['trainer/global_step', '_step', '_runtime', 'val_loss_step', '_timestamp'])\n",
      "dict_keys(['trainer/global_step', '_step', '_runtime', 'val_loss_step', '_timestamp'])\n",
      "dict_keys(['trainer/global_step', '_step', '_runtime', 'val_loss_step', '_timestamp'])\n",
      "dict_keys(['trainer/global_step', '_step', '_runtime', 'val_loss_step', '_timestamp'])\n",
      "dict_keys(['trainer/global_step', '_step', '_runtime', 'val_loss_step', '_timestamp'])\n",
      "dict_keys(['trainer/global_step', '_step', '_runtime', 'val_loss_step', '_timestamp'])\n",
      "dict_keys(['trainer/global_step', '_step', '_runtime', 'val_loss_step', '_timestamp'])\n",
      "dict_keys(['trainer/global_step', '_step', '_runtime', 'val_loss_step', '_timestamp'])\n",
      "dict_keys(['trainer/global_step', '_step', '_runtime', 'val_loss_step', '_timestamp'])\n",
      "dict_keys(['trainer/global_step', '_step', '_runtime', 'val_loss_step', '_timestamp'])\n",
      "dict_keys(['trainer/global_step', '_step', '_runtime', 'val_loss_step', '_timestamp'])\n",
      "dict_keys(['trainer/global_step', '_step', '_runtime', 'val_loss_step', '_timestamp'])\n",
      "dict_keys(['trainer/global_step', '_step', '_runtime', 'val_loss_step', '_timestamp'])\n",
      "dict_keys(['trainer/global_step', '_step', '_runtime', 'val_loss_step', '_timestamp'])\n",
      "dict_keys(['trainer/global_step', '_step', '_runtime', 'val_loss_step', '_timestamp'])\n",
      "dict_keys(['trainer/global_step', '_step', '_runtime', 'val_loss_step', '_timestamp'])\n",
      "dict_keys(['trainer/global_step', '_step', '_runtime', 'val_loss_step', '_timestamp'])\n",
      "dict_keys(['trainer/global_step', '_step', '_runtime', 'val_loss_step', '_timestamp'])\n",
      "dict_keys(['trainer/global_step', '_step', '_runtime', 'val_loss_step', '_timestamp'])\n",
      "dict_keys(['trainer/global_step', '_step', '_runtime', 'val_loss_step', '_timestamp'])\n",
      "dict_keys(['trainer/global_step', '_step', '_runtime', 'val_loss_step', '_timestamp'])\n",
      "dict_keys(['trainer/global_step', '_step', '_runtime', 'val_loss_step', '_timestamp'])\n",
      "dict_keys(['trainer/global_step', '_step', '_runtime', 'val_loss_step', '_timestamp'])\n",
      "dict_keys(['trainer/global_step', '_step', '_runtime', 'val_loss_step', '_timestamp'])\n",
      "dict_keys(['trainer/global_step', '_step', '_runtime', 'val_loss_step', '_timestamp'])\n",
      "dict_keys(['trainer/global_step', '_step', '_runtime', 'val_loss_step', '_timestamp'])\n",
      "dict_keys(['trainer/global_step', '_step', '_runtime', 'val_loss_step', '_timestamp'])\n",
      "dict_keys(['trainer/global_step', '_step', '_runtime', 'val_loss_step', '_timestamp'])\n",
      "dict_keys(['trainer/global_step', '_step', '_runtime', 'val_loss_step', '_timestamp'])\n",
      "dict_keys(['trainer/global_step', '_step', '_runtime', 'val_loss_step', '_timestamp'])\n",
      "dict_keys(['trainer/global_step', '_step', '_runtime', 'val_loss_step', '_timestamp'])\n",
      "dict_keys(['trainer/global_step', '_step', '_runtime', 'val_loss_step', '_timestamp'])\n",
      "dict_keys(['trainer/global_step', '_step', '_runtime', 'val_loss_step', '_timestamp'])\n",
      "dict_keys(['trainer/global_step', '_step', '_runtime', 'val_loss_step', '_timestamp'])\n",
      "dict_keys(['trainer/global_step', '_step', '_runtime', 'val_loss_step', '_timestamp'])\n",
      "dict_keys(['trainer/global_step', '_step', '_runtime', 'val_loss_step', '_timestamp'])\n",
      "dict_keys(['trainer/global_step', '_step', '_runtime', 'val_loss_step', '_timestamp'])\n",
      "dict_keys(['trainer/global_step', '_step', '_runtime', 'val_loss_step', '_timestamp'])\n",
      "dict_keys(['val_median_f1', 'val_auroc', 'trainer/global_step', 'val_per_class_recall', '_step', 'val_confusion_matrix', 'val_f1', '_runtime', 'val_total_accuracy', 'val_recall', 'val_balanced_accuracy', 'val_weighted_accuracy', 'val_loss_epoch', 'epoch', 'val_per_class_f1', 'val_precision', 'val_per_class_precision', '_timestamp', 'val_specificity'])\n",
      "dict_keys(['train_precision', 'trainer/global_step', 'train_f1', '_step', 'train_auroc', 'train_specificity', '_runtime', 'train_loss_epoch', 'train_confusion_matrix', 'train_weighted_accuracy', 'train_balanced_accuracy', 'train_total_accuracy', 'train_per_class_recall', 'epoch', 'train_per_class_precision', 'train_recall', 'train_per_class_f1', '_timestamp'])\n",
      "dict_keys(['trainer/global_step', '_step', '_runtime', 'test_loss_step', '_timestamp'])\n",
      "dict_keys(['trainer/global_step', '_step', '_runtime', 'test_loss_step', '_timestamp'])\n",
      "dict_keys(['trainer/global_step', '_step', '_runtime', 'test_loss_step', '_timestamp'])\n",
      "dict_keys(['trainer/global_step', '_step', '_runtime', 'test_loss_step', '_timestamp'])\n",
      "dict_keys(['trainer/global_step', '_step', '_runtime', 'test_loss_step', '_timestamp'])\n",
      "dict_keys(['trainer/global_step', '_step', '_runtime', 'test_loss_step', '_timestamp'])\n",
      "dict_keys(['trainer/global_step', '_step', '_runtime', 'test_loss_step', '_timestamp'])\n",
      "dict_keys(['trainer/global_step', '_step', '_runtime', 'test_loss_step', '_timestamp'])\n",
      "dict_keys(['trainer/global_step', '_step', '_runtime', 'test_loss_step', '_timestamp'])\n",
      "dict_keys(['trainer/global_step', '_step', '_runtime', 'test_loss_step', '_timestamp'])\n",
      "dict_keys(['trainer/global_step', '_step', '_runtime', 'test_loss_step', '_timestamp'])\n",
      "dict_keys(['trainer/global_step', '_step', '_runtime', 'test_loss_step', '_timestamp'])\n",
      "dict_keys(['trainer/global_step', '_step', '_runtime', 'test_loss_step', '_timestamp'])\n",
      "dict_keys(['trainer/global_step', '_step', '_runtime', 'test_loss_step', '_timestamp'])\n",
      "dict_keys(['trainer/global_step', '_step', '_runtime', 'test_loss_step', '_timestamp'])\n",
      "dict_keys(['trainer/global_step', '_step', '_runtime', 'test_loss_step', '_timestamp'])\n",
      "dict_keys(['trainer/global_step', '_step', '_runtime', 'test_loss_step', '_timestamp'])\n",
      "dict_keys(['trainer/global_step', '_step', '_runtime', 'test_loss_step', '_timestamp'])\n",
      "dict_keys(['trainer/global_step', '_step', '_runtime', 'test_loss_step', '_timestamp'])\n",
      "dict_keys(['trainer/global_step', '_step', '_runtime', 'test_loss_step', '_timestamp'])\n",
      "dict_keys(['trainer/global_step', '_step', '_runtime', 'test_loss_step', '_timestamp'])\n",
      "dict_keys(['trainer/global_step', '_step', '_runtime', 'test_loss_step', '_timestamp'])\n",
      "dict_keys(['trainer/global_step', '_step', '_runtime', 'test_loss_step', '_timestamp'])\n",
      "dict_keys(['trainer/global_step', '_step', '_runtime', 'test_loss_step', '_timestamp'])\n",
      "dict_keys(['trainer/global_step', '_step', '_runtime', 'test_loss_step', '_timestamp'])\n",
      "dict_keys(['trainer/global_step', '_step', '_runtime', 'test_loss_step', '_timestamp'])\n",
      "dict_keys(['trainer/global_step', '_step', '_runtime', 'test_loss_step', '_timestamp'])\n",
      "dict_keys(['trainer/global_step', '_step', '_runtime', 'test_loss_step', '_timestamp'])\n",
      "dict_keys(['trainer/global_step', '_step', '_runtime', 'test_loss_step', '_timestamp'])\n",
      "dict_keys(['trainer/global_step', '_step', '_runtime', 'test_loss_step', '_timestamp'])\n",
      "dict_keys(['trainer/global_step', '_step', '_runtime', 'test_loss_step', '_timestamp'])\n",
      "dict_keys(['trainer/global_step', '_step', '_runtime', 'test_loss_step', '_timestamp'])\n",
      "dict_keys(['trainer/global_step', '_step', '_runtime', 'test_loss_step', '_timestamp'])\n",
      "dict_keys(['trainer/global_step', '_step', '_runtime', 'test_loss_step', '_timestamp'])\n",
      "dict_keys(['trainer/global_step', '_step', '_runtime', 'test_loss_step', '_timestamp'])\n",
      "dict_keys(['trainer/global_step', '_step', '_runtime', 'test_loss_step', '_timestamp'])\n",
      "dict_keys(['trainer/global_step', '_step', '_runtime', 'test_loss_step', '_timestamp'])\n",
      "dict_keys(['trainer/global_step', '_step', '_runtime', 'test_loss_step', '_timestamp'])\n",
      "dict_keys(['trainer/global_step', '_step', '_runtime', 'test_loss_step', '_timestamp'])\n",
      "dict_keys(['trainer/global_step', '_step', '_runtime', 'test_loss_step', '_timestamp'])\n",
      "dict_keys(['trainer/global_step', '_step', '_runtime', 'test_loss_step', '_timestamp'])\n",
      "dict_keys(['trainer/global_step', '_step', '_runtime', 'test_loss_step', '_timestamp'])\n",
      "dict_keys(['trainer/global_step', '_step', '_runtime', 'test_loss_step', '_timestamp'])\n",
      "dict_keys(['trainer/global_step', '_step', '_runtime', 'test_loss_step', '_timestamp'])\n",
      "dict_keys(['trainer/global_step', '_step', '_runtime', 'test_loss_step', '_timestamp'])\n",
      "dict_keys(['trainer/global_step', '_step', '_runtime', 'test_loss_step', '_timestamp'])\n",
      "dict_keys(['trainer/global_step', '_step', '_runtime', 'test_loss_step', '_timestamp'])\n",
      "dict_keys(['trainer/global_step', '_step', '_runtime', 'test_loss_step', '_timestamp'])\n",
      "dict_keys(['trainer/global_step', '_step', '_runtime', 'test_loss_step', '_timestamp'])\n",
      "dict_keys(['trainer/global_step', '_step', '_runtime', 'test_loss_step', '_timestamp'])\n",
      "dict_keys(['trainer/global_step', '_step', '_runtime', 'test_loss_step', '_timestamp'])\n",
      "dict_keys(['trainer/global_step', '_step', '_runtime', 'test_loss_step', '_timestamp'])\n",
      "dict_keys(['trainer/global_step', '_step', '_runtime', 'test_loss_step', '_timestamp'])\n",
      "dict_keys(['trainer/global_step', '_step', '_runtime', 'test_loss_step', '_timestamp'])\n",
      "dict_keys(['trainer/global_step', '_step', '_runtime', 'test_loss_step', '_timestamp'])\n",
      "dict_keys(['trainer/global_step', '_step', '_runtime', 'test_loss_step', '_timestamp'])\n",
      "dict_keys(['trainer/global_step', '_step', '_runtime', 'test_loss_step', '_timestamp'])\n",
      "dict_keys(['trainer/global_step', '_step', '_runtime', 'test_loss_step', '_timestamp'])\n",
      "dict_keys(['trainer/global_step', '_step', '_runtime', 'test_loss_step', '_timestamp'])\n",
      "dict_keys(['trainer/global_step', '_step', '_runtime', 'test_loss_step', '_timestamp'])\n",
      "dict_keys(['trainer/global_step', '_step', '_runtime', 'test_loss_step', '_timestamp'])\n",
      "dict_keys(['trainer/global_step', '_step', '_runtime', 'test_loss_step', '_timestamp'])\n",
      "dict_keys(['trainer/global_step', '_step', '_runtime', 'test_loss_step', '_timestamp'])\n",
      "dict_keys(['trainer/global_step', '_step', '_runtime', 'test_loss_step', '_timestamp'])\n",
      "dict_keys(['trainer/global_step', '_step', '_runtime', 'test_loss_step', '_timestamp'])\n",
      "dict_keys(['trainer/global_step', '_step', '_runtime', 'test_loss_step', '_timestamp'])\n",
      "dict_keys(['trainer/global_step', '_step', '_runtime', 'test_loss_step', '_timestamp'])\n",
      "dict_keys(['trainer/global_step', '_step', '_runtime', 'test_loss_step', '_timestamp'])\n",
      "dict_keys(['trainer/global_step', '_step', '_runtime', 'test_loss_step', '_timestamp'])\n",
      "dict_keys(['trainer/global_step', '_step', '_runtime', 'test_loss_step', '_timestamp'])\n",
      "dict_keys(['trainer/global_step', '_step', '_runtime', 'test_loss_step', '_timestamp'])\n",
      "dict_keys(['trainer/global_step', '_step', '_runtime', 'test_loss_step', '_timestamp'])\n",
      "dict_keys(['trainer/global_step', '_step', '_runtime', 'test_loss_step', '_timestamp'])\n",
      "dict_keys(['trainer/global_step', '_step', '_runtime', 'test_loss_step', '_timestamp'])\n",
      "dict_keys(['trainer/global_step', '_step', '_runtime', 'test_loss_step', '_timestamp'])\n",
      "dict_keys(['trainer/global_step', '_step', '_runtime', 'test_loss_step', '_timestamp'])\n",
      "dict_keys(['trainer/global_step', '_step', '_runtime', 'test_loss_step', '_timestamp'])\n",
      "dict_keys(['trainer/global_step', '_step', '_runtime', 'test_loss_step', '_timestamp'])\n",
      "dict_keys(['trainer/global_step', '_step', '_runtime', 'test_loss_step', '_timestamp'])\n",
      "dict_keys(['trainer/global_step', '_step', '_runtime', 'test_loss_step', '_timestamp'])\n",
      "dict_keys(['trainer/global_step', '_step', '_runtime', 'test_loss_step', '_timestamp'])\n",
      "dict_keys(['trainer/global_step', '_step', '_runtime', 'test_loss_step', '_timestamp'])\n",
      "dict_keys(['trainer/global_step', '_step', '_runtime', 'test_loss_step', '_timestamp'])\n",
      "dict_keys(['trainer/global_step', '_step', '_runtime', 'test_loss_step', '_timestamp'])\n",
      "dict_keys(['trainer/global_step', '_step', '_runtime', 'test_loss_step', '_timestamp'])\n",
      "dict_keys(['trainer/global_step', '_step', '_runtime', 'test_loss_step', '_timestamp'])\n",
      "dict_keys(['trainer/global_step', '_step', '_runtime', 'test_loss_step', '_timestamp'])\n",
      "dict_keys(['trainer/global_step', '_step', '_runtime', 'test_loss_step', '_timestamp'])\n",
      "dict_keys(['trainer/global_step', '_step', '_runtime', 'test_loss_step', '_timestamp'])\n",
      "dict_keys(['trainer/global_step', '_step', '_runtime', 'test_loss_step', '_timestamp'])\n",
      "dict_keys(['trainer/global_step', '_step', '_runtime', 'test_loss_step', '_timestamp'])\n",
      "dict_keys(['trainer/global_step', '_step', '_runtime', 'test_loss_step', '_timestamp'])\n",
      "dict_keys(['trainer/global_step', '_step', '_runtime', 'test_loss_step', '_timestamp'])\n",
      "dict_keys(['trainer/global_step', '_step', '_runtime', 'test_loss_step', '_timestamp'])\n",
      "dict_keys(['trainer/global_step', '_step', '_runtime', 'test_loss_step', '_timestamp'])\n",
      "dict_keys(['trainer/global_step', '_step', '_runtime', 'test_loss_step', '_timestamp'])\n",
      "dict_keys(['trainer/global_step', '_step', '_runtime', 'test_loss_step', '_timestamp'])\n",
      "dict_keys(['trainer/global_step', '_step', '_runtime', 'test_loss_step', '_timestamp'])\n",
      "dict_keys(['trainer/global_step', '_step', '_runtime', 'test_loss_step', '_timestamp'])\n",
      "dict_keys(['trainer/global_step', '_step', '_runtime', 'test_loss_step', '_timestamp'])\n",
      "dict_keys(['trainer/global_step', '_step', '_runtime', 'test_loss_step', '_timestamp'])\n",
      "dict_keys(['trainer/global_step', '_step', '_runtime', 'test_loss_step', '_timestamp'])\n",
      "dict_keys(['trainer/global_step', '_step', '_runtime', 'test_loss_step', '_timestamp'])\n",
      "dict_keys(['trainer/global_step', '_step', '_runtime', 'test_loss_step', '_timestamp'])\n",
      "dict_keys(['trainer/global_step', '_step', '_runtime', 'test_loss_step', '_timestamp'])\n",
      "dict_keys(['trainer/global_step', '_step', '_runtime', 'test_loss_step', '_timestamp'])\n",
      "dict_keys(['trainer/global_step', '_step', '_runtime', 'test_loss_step', '_timestamp'])\n",
      "dict_keys(['trainer/global_step', '_step', '_runtime', 'test_loss_step', '_timestamp'])\n",
      "dict_keys(['trainer/global_step', '_step', '_runtime', 'test_loss_step', '_timestamp'])\n",
      "dict_keys(['trainer/global_step', '_step', '_runtime', 'test_loss_step', '_timestamp'])\n",
      "dict_keys(['trainer/global_step', '_step', '_runtime', 'test_loss_step', '_timestamp'])\n",
      "dict_keys(['trainer/global_step', '_step', '_runtime', 'test_loss_step', '_timestamp'])\n",
      "dict_keys(['trainer/global_step', '_step', '_runtime', 'test_loss_step', '_timestamp'])\n",
      "dict_keys(['trainer/global_step', '_step', '_runtime', 'test_loss_step', '_timestamp'])\n",
      "dict_keys(['trainer/global_step', '_step', '_runtime', 'test_loss_step', '_timestamp'])\n",
      "dict_keys(['trainer/global_step', '_step', '_runtime', 'test_loss_step', '_timestamp'])\n",
      "dict_keys(['trainer/global_step', '_step', '_runtime', 'test_loss_step', '_timestamp'])\n",
      "dict_keys(['trainer/global_step', '_step', '_runtime', 'test_loss_step', '_timestamp'])\n",
      "dict_keys(['trainer/global_step', '_step', '_runtime', 'test_loss_step', '_timestamp'])\n",
      "dict_keys(['trainer/global_step', '_step', '_runtime', 'test_loss_step', '_timestamp'])\n",
      "dict_keys(['trainer/global_step', '_step', '_runtime', 'test_loss_step', '_timestamp'])\n",
      "dict_keys(['trainer/global_step', '_step', '_runtime', 'test_loss_step', '_timestamp'])\n",
      "dict_keys(['trainer/global_step', '_step', '_runtime', 'test_loss_step', '_timestamp'])\n",
      "dict_keys(['trainer/global_step', '_step', '_runtime', 'test_loss_step', '_timestamp'])\n",
      "dict_keys(['trainer/global_step', '_step', '_runtime', 'test_loss_step', '_timestamp'])\n",
      "dict_keys(['trainer/global_step', '_step', '_runtime', 'test_loss_step', '_timestamp'])\n",
      "dict_keys(['trainer/global_step', '_step', '_runtime', 'test_loss_step', '_timestamp'])\n",
      "dict_keys(['trainer/global_step', '_step', '_runtime', 'test_loss_step', '_timestamp'])\n",
      "dict_keys(['trainer/global_step', '_step', '_runtime', 'test_loss_step', '_timestamp'])\n",
      "dict_keys(['trainer/global_step', '_step', '_runtime', 'test_loss_step', '_timestamp'])\n",
      "dict_keys(['trainer/global_step', '_step', '_runtime', 'test_loss_step', '_timestamp'])\n",
      "dict_keys(['trainer/global_step', '_step', '_runtime', 'test_loss_step', '_timestamp'])\n",
      "dict_keys(['trainer/global_step', '_step', '_runtime', 'test_loss_step', '_timestamp'])\n",
      "dict_keys(['trainer/global_step', '_step', '_runtime', 'test_loss_step', '_timestamp'])\n",
      "dict_keys(['trainer/global_step', '_step', '_runtime', 'test_loss_step', '_timestamp'])\n",
      "dict_keys(['trainer/global_step', '_step', '_runtime', 'test_loss_step', '_timestamp'])\n",
      "dict_keys(['trainer/global_step', '_step', '_runtime', 'test_loss_step', '_timestamp'])\n",
      "dict_keys(['trainer/global_step', '_step', '_runtime', 'test_loss_step', '_timestamp'])\n",
      "dict_keys(['trainer/global_step', '_step', '_runtime', 'test_loss_step', '_timestamp'])\n",
      "dict_keys(['trainer/global_step', '_step', '_runtime', 'test_loss_step', '_timestamp'])\n",
      "dict_keys(['trainer/global_step', '_step', '_runtime', 'test_loss_step', '_timestamp'])\n",
      "dict_keys(['trainer/global_step', '_step', '_runtime', 'test_loss_step', '_timestamp'])\n",
      "dict_keys(['trainer/global_step', '_step', '_runtime', 'test_loss_step', '_timestamp'])\n",
      "dict_keys(['trainer/global_step', '_step', '_runtime', 'test_loss_step', '_timestamp'])\n",
      "dict_keys(['trainer/global_step', '_step', '_runtime', 'test_loss_step', '_timestamp'])\n",
      "dict_keys(['trainer/global_step', '_step', '_runtime', 'test_loss_step', '_timestamp'])\n",
      "dict_keys(['trainer/global_step', '_step', '_runtime', 'test_loss_step', '_timestamp'])\n",
      "dict_keys(['trainer/global_step', '_step', '_runtime', 'test_loss_step', '_timestamp'])\n",
      "dict_keys(['trainer/global_step', '_step', '_runtime', 'test_loss_step', '_timestamp'])\n",
      "dict_keys(['trainer/global_step', '_step', '_runtime', 'test_loss_step', '_timestamp'])\n",
      "dict_keys(['trainer/global_step', '_step', '_runtime', 'test_loss_step', '_timestamp'])\n",
      "dict_keys(['trainer/global_step', '_step', '_runtime', 'test_loss_step', '_timestamp'])\n",
      "dict_keys(['trainer/global_step', '_step', '_runtime', 'test_loss_step', '_timestamp'])\n",
      "dict_keys(['trainer/global_step', '_step', '_runtime', 'test_loss_step', '_timestamp'])\n",
      "dict_keys(['trainer/global_step', '_step', '_runtime', 'test_loss_step', '_timestamp'])\n",
      "dict_keys(['trainer/global_step', '_step', '_runtime', 'test_loss_step', '_timestamp'])\n",
      "dict_keys(['trainer/global_step', '_step', '_runtime', 'test_loss_step', '_timestamp'])\n",
      "dict_keys(['trainer/global_step', '_step', '_runtime', 'test_loss_step', '_timestamp'])\n",
      "dict_keys(['trainer/global_step', '_step', '_runtime', 'test_loss_step', '_timestamp'])\n",
      "dict_keys(['trainer/global_step', '_step', '_runtime', 'test_loss_step', '_timestamp'])\n",
      "dict_keys(['trainer/global_step', '_step', '_runtime', 'test_loss_step', '_timestamp'])\n",
      "dict_keys(['trainer/global_step', '_step', '_runtime', 'test_loss_step', '_timestamp'])\n",
      "dict_keys(['trainer/global_step', '_step', '_runtime', 'test_loss_step', '_timestamp'])\n",
      "dict_keys(['trainer/global_step', '_step', '_runtime', 'test_loss_step', '_timestamp'])\n",
      "dict_keys(['trainer/global_step', '_step', '_runtime', 'test_loss_step', '_timestamp'])\n",
      "dict_keys(['trainer/global_step', '_step', '_runtime', 'test_loss_step', '_timestamp'])\n",
      "dict_keys(['trainer/global_step', '_step', '_runtime', 'test_loss_step', '_timestamp'])\n",
      "dict_keys(['trainer/global_step', '_step', '_runtime', 'test_loss_step', '_timestamp'])\n",
      "dict_keys(['trainer/global_step', '_step', '_runtime', 'test_loss_step', '_timestamp'])\n",
      "dict_keys(['trainer/global_step', '_step', '_runtime', 'test_loss_step', '_timestamp'])\n",
      "dict_keys(['trainer/global_step', '_step', '_runtime', 'test_loss_step', '_timestamp'])\n",
      "dict_keys(['trainer/global_step', '_step', '_runtime', 'test_loss_step', '_timestamp'])\n",
      "dict_keys(['trainer/global_step', '_step', '_runtime', 'test_loss_step', '_timestamp'])\n",
      "dict_keys(['trainer/global_step', '_step', '_runtime', 'test_loss_step', '_timestamp'])\n",
      "dict_keys(['trainer/global_step', '_step', '_runtime', 'test_loss_step', '_timestamp'])\n",
      "dict_keys(['trainer/global_step', '_step', '_runtime', 'test_loss_step', '_timestamp'])\n",
      "dict_keys(['trainer/global_step', '_step', '_runtime', 'test_loss_step', '_timestamp'])\n",
      "dict_keys(['trainer/global_step', '_step', '_runtime', 'test_loss_step', '_timestamp'])\n",
      "dict_keys(['trainer/global_step', '_step', '_runtime', 'test_loss_step', '_timestamp'])\n",
      "dict_keys(['trainer/global_step', '_step', '_runtime', 'test_loss_step', '_timestamp'])\n",
      "dict_keys(['trainer/global_step', '_step', '_runtime', 'test_loss_step', '_timestamp'])\n",
      "dict_keys(['trainer/global_step', '_step', '_runtime', 'test_loss_step', '_timestamp'])\n",
      "dict_keys(['trainer/global_step', '_step', '_runtime', 'test_loss_step', '_timestamp'])\n",
      "dict_keys(['trainer/global_step', '_step', '_runtime', 'test_loss_step', '_timestamp'])\n",
      "dict_keys(['trainer/global_step', '_step', '_runtime', 'test_loss_step', '_timestamp'])\n",
      "dict_keys(['trainer/global_step', '_step', '_runtime', 'test_loss_step', '_timestamp'])\n",
      "dict_keys(['trainer/global_step', '_step', '_runtime', 'test_loss_step', '_timestamp'])\n",
      "dict_keys(['trainer/global_step', '_step', '_runtime', 'test_loss_step', '_timestamp'])\n",
      "dict_keys(['trainer/global_step', '_step', '_runtime', 'test_loss_step', '_timestamp'])\n",
      "dict_keys(['trainer/global_step', '_step', '_runtime', 'test_loss_step', '_timestamp'])\n",
      "dict_keys(['trainer/global_step', '_step', '_runtime', 'test_loss_step', '_timestamp'])\n",
      "dict_keys(['trainer/global_step', '_step', '_runtime', 'test_loss_step', '_timestamp'])\n",
      "dict_keys(['trainer/global_step', '_step', '_runtime', 'test_loss_step', '_timestamp'])\n",
      "dict_keys(['trainer/global_step', '_step', '_runtime', 'test_loss_step', '_timestamp'])\n",
      "dict_keys(['trainer/global_step', '_step', '_runtime', 'test_loss_step', '_timestamp'])\n",
      "dict_keys(['trainer/global_step', '_step', '_runtime', 'test_loss_step', '_timestamp'])\n",
      "dict_keys(['trainer/global_step', '_step', '_runtime', 'test_loss_step', '_timestamp'])\n",
      "dict_keys(['trainer/global_step', '_step', '_runtime', 'test_loss_step', '_timestamp'])\n",
      "dict_keys(['trainer/global_step', '_step', '_runtime', 'test_loss_step', '_timestamp'])\n",
      "dict_keys(['trainer/global_step', '_step', '_runtime', 'test_loss_step', '_timestamp'])\n",
      "dict_keys(['trainer/global_step', '_step', '_runtime', 'test_loss_step', '_timestamp'])\n",
      "dict_keys(['trainer/global_step', '_step', '_runtime', 'test_loss_step', '_timestamp'])\n",
      "dict_keys(['trainer/global_step', '_step', '_runtime', 'test_loss_step', '_timestamp'])\n",
      "dict_keys(['trainer/global_step', '_step', '_runtime', 'test_loss_step', '_timestamp'])\n",
      "dict_keys(['trainer/global_step', '_step', '_runtime', 'test_loss_step', '_timestamp'])\n",
      "dict_keys(['trainer/global_step', '_step', '_runtime', 'test_loss_step', '_timestamp'])\n",
      "dict_keys(['trainer/global_step', '_step', '_runtime', 'test_loss_step', '_timestamp'])\n",
      "dict_keys(['trainer/global_step', '_step', '_runtime', 'test_loss_step', '_timestamp'])\n",
      "dict_keys(['trainer/global_step', '_step', '_runtime', 'test_loss_step', '_timestamp'])\n",
      "dict_keys(['trainer/global_step', '_step', '_runtime', 'test_loss_step', '_timestamp'])\n",
      "dict_keys(['trainer/global_step', '_step', '_runtime', 'test_loss_step', '_timestamp'])\n",
      "dict_keys(['trainer/global_step', '_step', '_runtime', 'test_loss_step', '_timestamp'])\n",
      "dict_keys(['trainer/global_step', '_step', '_runtime', 'test_loss_step', '_timestamp'])\n",
      "dict_keys(['trainer/global_step', '_step', '_runtime', 'test_loss_step', '_timestamp'])\n",
      "dict_keys(['trainer/global_step', '_step', '_runtime', 'test_loss_step', '_timestamp'])\n",
      "dict_keys(['trainer/global_step', '_step', '_runtime', 'test_loss_step', '_timestamp'])\n",
      "dict_keys(['trainer/global_step', '_step', '_runtime', 'test_loss_step', '_timestamp'])\n",
      "dict_keys(['trainer/global_step', '_step', '_runtime', 'test_loss_step', '_timestamp'])\n",
      "dict_keys(['trainer/global_step', '_step', '_runtime', 'test_loss_step', '_timestamp'])\n",
      "dict_keys(['trainer/global_step', '_step', '_runtime', 'test_loss_step', '_timestamp'])\n",
      "dict_keys(['trainer/global_step', '_step', '_runtime', 'test_loss_step', '_timestamp'])\n",
      "dict_keys(['trainer/global_step', '_step', '_runtime', 'test_loss_step', '_timestamp'])\n",
      "dict_keys(['trainer/global_step', '_step', '_runtime', 'test_loss_step', '_timestamp'])\n",
      "dict_keys(['trainer/global_step', '_step', '_runtime', 'test_loss_step', '_timestamp'])\n",
      "dict_keys(['trainer/global_step', '_step', '_runtime', 'test_loss_step', '_timestamp'])\n",
      "dict_keys(['trainer/global_step', '_step', '_runtime', 'test_loss_step', '_timestamp'])\n",
      "dict_keys(['trainer/global_step', '_step', '_runtime', 'test_loss_step', '_timestamp'])\n",
      "dict_keys(['trainer/global_step', '_step', '_runtime', 'test_loss_step', '_timestamp'])\n",
      "dict_keys(['trainer/global_step', '_step', '_runtime', 'test_loss_step', '_timestamp'])\n",
      "dict_keys(['trainer/global_step', '_step', '_runtime', 'test_loss_step', '_timestamp'])\n",
      "dict_keys(['trainer/global_step', '_step', '_runtime', 'test_loss_step', '_timestamp'])\n",
      "dict_keys(['trainer/global_step', '_step', '_runtime', 'test_loss_step', '_timestamp'])\n",
      "dict_keys(['trainer/global_step', '_step', '_runtime', 'test_loss_step', '_timestamp'])\n",
      "dict_keys(['trainer/global_step', '_step', '_runtime', 'test_loss_step', '_timestamp'])\n",
      "dict_keys(['trainer/global_step', '_step', '_runtime', 'test_loss_step', '_timestamp'])\n",
      "dict_keys(['trainer/global_step', '_step', '_runtime', 'test_loss_step', '_timestamp'])\n",
      "dict_keys(['trainer/global_step', '_step', '_runtime', 'test_loss_step', '_timestamp'])\n",
      "dict_keys(['trainer/global_step', '_step', '_runtime', 'test_loss_step', '_timestamp'])\n",
      "dict_keys(['test_auroc', 'trainer/global_step', 'test_per_class_recall', '_step', 'test_specificity', '_runtime', 'test_total_accuracy', 'test_confusion_matrix', 'test_per_class_precision', 'test_median_f1', 'epoch', 'test_f1', 'test_weighted_accuracy', 'test_per_class_f1', 'test_recall', 'test_balanced_accuracy', 'test_precision', 'test_loss_epoch', '_timestamp'])\n"
     ]
    },
    {
     "name": "stderr",
     "output_type": "stream",
     "text": [
      "\n"
     ]
    }
   ],
   "source": [
    "train_loss = []\n",
    "val_loss = []\n",
    "for x in tqdm(df):\n",
    "    print(x.keys())\n",
    "    if 'train_loss_step' in x:\n",
    "        train_loss.append(x['train_loss_step'])\n",
    "    \n",
    "    if 'val_loss_step' in x:\n",
    "        val_loss.append(x['val_loss_step'])"
   ]
  },
  {
   "cell_type": "code",
   "execution_count": 15,
   "id": "c6ff48fb",
   "metadata": {},
   "outputs": [
    {
     "data": {
      "text/plain": [
       "(151, 2376)"
      ]
     },
     "execution_count": 15,
     "metadata": {},
     "output_type": "execute_result"
    }
   ],
   "source": [
    "len(train_loss), len(val_loss)"
   ]
  },
  {
   "cell_type": "code",
   "execution_count": 9,
   "id": "b0a646ad",
   "metadata": {
    "scrolled": true
   },
   "outputs": [
    {
     "data": {
      "application/vnd.plotly.v1+json": {
       "config": {
        "plotlyServerURL": "https://plot.ly"
       },
       "data": [
        {
         "hovertemplate": "variable=0<br>index=%{x}<br>value=%{y}<extra></extra>",
         "legendgroup": "0",
         "line": {
          "color": "#636efa",
          "dash": "solid"
         },
         "marker": {
          "symbol": "circle"
         },
         "mode": "lines",
         "name": "0",
         "showlegend": true,
         "type": "scattergl",
         "x": [
          0,
          1,
          2,
          3,
          4,
          5,
          6,
          7,
          8,
          9,
          10,
          11,
          12,
          13,
          14,
          15,
          16,
          17,
          18,
          19,
          20,
          21,
          22,
          23,
          24,
          25,
          26,
          27,
          28,
          29,
          30,
          31,
          32,
          33,
          34,
          35,
          36,
          37,
          38,
          39,
          40,
          41,
          42,
          43,
          44,
          45,
          46,
          47,
          48,
          49,
          50,
          51,
          52,
          53,
          54,
          55,
          56,
          57,
          58,
          59,
          60,
          61,
          62,
          63,
          64,
          65,
          66,
          67,
          68,
          69,
          70,
          71,
          72,
          73,
          74,
          75,
          76,
          77,
          78,
          79,
          80,
          81,
          82,
          83,
          84,
          85,
          86,
          87,
          88,
          89,
          90,
          91,
          92,
          93,
          94,
          95,
          96,
          97,
          98,
          99,
          100,
          101,
          102,
          103,
          104,
          105,
          106,
          107,
          108,
          109,
          110,
          111,
          112,
          113,
          114,
          115,
          116,
          117,
          118,
          119,
          120,
          121,
          122,
          123,
          124,
          125,
          126,
          127,
          128,
          129,
          130,
          131,
          132,
          133,
          134,
          135,
          136,
          137,
          138,
          139,
          140,
          141,
          142,
          143,
          144,
          145,
          146,
          147,
          148,
          149,
          150,
          151,
          152,
          153,
          154,
          155,
          156,
          157,
          158,
          159,
          160,
          161,
          162,
          163,
          164,
          165,
          166,
          167,
          168,
          169,
          170,
          171,
          172,
          173,
          174,
          175,
          176,
          177,
          178,
          179,
          180,
          181,
          182,
          183,
          184,
          185,
          186,
          187,
          188,
          189,
          190,
          191,
          192,
          193,
          194,
          195,
          196,
          197,
          198,
          199,
          200,
          201,
          202,
          203,
          204,
          205,
          206,
          207,
          208,
          209,
          210,
          211,
          212,
          213,
          214,
          215,
          216,
          217,
          218,
          219,
          220,
          221,
          222,
          223,
          224,
          225,
          226,
          227,
          228,
          229,
          230,
          231,
          232,
          233,
          234,
          235,
          236,
          237,
          238,
          239,
          240,
          241,
          242,
          243,
          244,
          245,
          246,
          247,
          248,
          249,
          250,
          251,
          252,
          253,
          254,
          255,
          256,
          257,
          258,
          259,
          260,
          261,
          262,
          263,
          264,
          265,
          266,
          267,
          268,
          269,
          270,
          271,
          272,
          273,
          274,
          275,
          276,
          277,
          278,
          279,
          280,
          281,
          282,
          283,
          284,
          285,
          286,
          287,
          288,
          289,
          290,
          291,
          292,
          293,
          294,
          295,
          296,
          297,
          298,
          299,
          300,
          301,
          302,
          303,
          304,
          305,
          306,
          307,
          308,
          309,
          310,
          311,
          312,
          313,
          314,
          315,
          316,
          317,
          318,
          319,
          320,
          321,
          322,
          323,
          324,
          325,
          326,
          327,
          328,
          329,
          330,
          331,
          332,
          333,
          334,
          335,
          336,
          337,
          338,
          339,
          340,
          341,
          342,
          343,
          344,
          345,
          346,
          347,
          348,
          349,
          350,
          351,
          352,
          353,
          354,
          355,
          356,
          357,
          358,
          359,
          360,
          361,
          362,
          363,
          364,
          365,
          366,
          367,
          368,
          369,
          370,
          371,
          372,
          373,
          374,
          375,
          376,
          377,
          378,
          379,
          380,
          381,
          382,
          383,
          384,
          385,
          386,
          387,
          388,
          389,
          390,
          391,
          392,
          393,
          394,
          395,
          396,
          397,
          398,
          399,
          400,
          401,
          402,
          403,
          404,
          405,
          406,
          407,
          408,
          409,
          410,
          411,
          412,
          413,
          414,
          415,
          416,
          417,
          418,
          419,
          420,
          421,
          422,
          423,
          424,
          425,
          426,
          427,
          428,
          429,
          430,
          431,
          432,
          433,
          434,
          435,
          436,
          437,
          438,
          439,
          440,
          441,
          442,
          443,
          444,
          445,
          446,
          447,
          448,
          449,
          450,
          451,
          452,
          453,
          454,
          455,
          456,
          457,
          458,
          459,
          460,
          461,
          462,
          463,
          464,
          465,
          466,
          467,
          468,
          469,
          470,
          471,
          472,
          473,
          474,
          475,
          476,
          477,
          478,
          479,
          480,
          481,
          482,
          483,
          484,
          485,
          486,
          487,
          488,
          489,
          490,
          491,
          492,
          493,
          494,
          495,
          496,
          497,
          498,
          499,
          500,
          501,
          502,
          503,
          504,
          505,
          506,
          507,
          508,
          509,
          510,
          511,
          512,
          513,
          514,
          515,
          516,
          517,
          518,
          519,
          520,
          521,
          522,
          523,
          524,
          525,
          526,
          527,
          528,
          529,
          530,
          531,
          532,
          533,
          534,
          535,
          536,
          537,
          538,
          539,
          540,
          541,
          542,
          543,
          544,
          545,
          546,
          547,
          548,
          549,
          550,
          551,
          552,
          553,
          554,
          555,
          556,
          557,
          558,
          559,
          560,
          561,
          562,
          563,
          564,
          565,
          566,
          567,
          568,
          569,
          570,
          571,
          572,
          573,
          574,
          575,
          576,
          577,
          578,
          579,
          580,
          581,
          582,
          583,
          584,
          585,
          586,
          587,
          588,
          589,
          590,
          591,
          592,
          593,
          594,
          595,
          596,
          597,
          598,
          599,
          600,
          601,
          602,
          603,
          604,
          605,
          606,
          607,
          608,
          609,
          610,
          611,
          612,
          613,
          614,
          615,
          616,
          617,
          618,
          619,
          620,
          621,
          622,
          623,
          624,
          625,
          626,
          627,
          628,
          629,
          630,
          631,
          632,
          633,
          634,
          635,
          636,
          637,
          638,
          639,
          640,
          641,
          642,
          643,
          644,
          645,
          646,
          647,
          648,
          649,
          650,
          651,
          652,
          653,
          654,
          655,
          656,
          657,
          658,
          659,
          660,
          661,
          662,
          663,
          664,
          665,
          666,
          667,
          668,
          669,
          670,
          671,
          672,
          673,
          674,
          675,
          676,
          677,
          678,
          679,
          680,
          681,
          682,
          683,
          684,
          685,
          686,
          687,
          688,
          689,
          690,
          691,
          692,
          693,
          694,
          695,
          696,
          697,
          698,
          699,
          700,
          701,
          702,
          703,
          704,
          705,
          706,
          707,
          708,
          709,
          710,
          711,
          712,
          713,
          714,
          715,
          716,
          717,
          718,
          719,
          720,
          721,
          722,
          723,
          724,
          725,
          726,
          727,
          728,
          729,
          730,
          731,
          732,
          733,
          734,
          735,
          736,
          737,
          738,
          739,
          740,
          741,
          742,
          743,
          744,
          745,
          746,
          747,
          748,
          749,
          750,
          751,
          752,
          753,
          754,
          755,
          756,
          757,
          758,
          759,
          760,
          761,
          762,
          763,
          764,
          765,
          766,
          767,
          768,
          769,
          770,
          771,
          772,
          773,
          774,
          775,
          776,
          777,
          778,
          779,
          780,
          781,
          782,
          783,
          784,
          785,
          786,
          787,
          788,
          789,
          790,
          791,
          792,
          793,
          794,
          795,
          796,
          797,
          798,
          799,
          800,
          801,
          802,
          803,
          804,
          805,
          806,
          807,
          808,
          809,
          810,
          811,
          812,
          813,
          814,
          815,
          816,
          817,
          818,
          819,
          820,
          821,
          822,
          823,
          824,
          825,
          826,
          827,
          828,
          829,
          830,
          831,
          832,
          833,
          834,
          835,
          836,
          837,
          838,
          839,
          840,
          841,
          842,
          843,
          844,
          845,
          846,
          847,
          848,
          849,
          850,
          851,
          852,
          853,
          854,
          855,
          856,
          857,
          858,
          859,
          860,
          861,
          862,
          863,
          864,
          865,
          866,
          867,
          868,
          869,
          870,
          871,
          872,
          873,
          874,
          875,
          876,
          877,
          878,
          879,
          880,
          881,
          882,
          883,
          884,
          885,
          886,
          887,
          888,
          889,
          890,
          891,
          892,
          893,
          894,
          895,
          896,
          897,
          898,
          899,
          900,
          901,
          902,
          903,
          904,
          905,
          906,
          907,
          908,
          909,
          910,
          911,
          912,
          913,
          914,
          915,
          916,
          917,
          918,
          919,
          920,
          921,
          922,
          923,
          924,
          925,
          926,
          927,
          928,
          929,
          930,
          931,
          932,
          933,
          934,
          935,
          936,
          937,
          938,
          939,
          940,
          941,
          942,
          943,
          944,
          945,
          946,
          947,
          948,
          949,
          950,
          951,
          952,
          953,
          954,
          955,
          956,
          957,
          958,
          959,
          960,
          961,
          962,
          963,
          964,
          965,
          966,
          967,
          968,
          969,
          970,
          971,
          972,
          973,
          974,
          975,
          976,
          977,
          978,
          979,
          980,
          981,
          982,
          983,
          984,
          985,
          986,
          987,
          988,
          989,
          990,
          991,
          992,
          993,
          994,
          995,
          996,
          997,
          998,
          999,
          1000,
          1001,
          1002,
          1003,
          1004,
          1005,
          1006,
          1007,
          1008,
          1009,
          1010,
          1011,
          1012,
          1013,
          1014,
          1015,
          1016,
          1017,
          1018,
          1019,
          1020,
          1021,
          1022,
          1023,
          1024,
          1025,
          1026,
          1027,
          1028,
          1029,
          1030,
          1031,
          1032,
          1033,
          1034,
          1035,
          1036,
          1037,
          1038,
          1039,
          1040,
          1041,
          1042,
          1043,
          1044,
          1045,
          1046,
          1047,
          1048,
          1049,
          1050,
          1051,
          1052,
          1053,
          1054,
          1055,
          1056,
          1057,
          1058,
          1059,
          1060,
          1061,
          1062,
          1063,
          1064,
          1065,
          1066,
          1067,
          1068,
          1069,
          1070,
          1071,
          1072,
          1073,
          1074,
          1075,
          1076,
          1077,
          1078,
          1079,
          1080,
          1081,
          1082,
          1083,
          1084,
          1085,
          1086,
          1087,
          1088,
          1089,
          1090,
          1091,
          1092,
          1093,
          1094,
          1095,
          1096,
          1097,
          1098,
          1099,
          1100,
          1101,
          1102,
          1103,
          1104,
          1105,
          1106,
          1107,
          1108,
          1109,
          1110,
          1111,
          1112,
          1113,
          1114,
          1115,
          1116,
          1117,
          1118,
          1119,
          1120,
          1121,
          1122,
          1123,
          1124,
          1125,
          1126,
          1127,
          1128,
          1129,
          1130,
          1131,
          1132,
          1133,
          1134,
          1135,
          1136,
          1137,
          1138,
          1139,
          1140,
          1141,
          1142,
          1143,
          1144,
          1145,
          1146,
          1147,
          1148,
          1149,
          1150,
          1151,
          1152,
          1153,
          1154,
          1155,
          1156,
          1157,
          1158,
          1159,
          1160,
          1161,
          1162,
          1163,
          1164,
          1165,
          1166,
          1167,
          1168,
          1169,
          1170,
          1171,
          1172,
          1173,
          1174,
          1175,
          1176,
          1177,
          1178,
          1179,
          1180,
          1181,
          1182,
          1183,
          1184,
          1185,
          1186,
          1187,
          1188,
          1189,
          1190,
          1191,
          1192,
          1193,
          1194,
          1195,
          1196,
          1197,
          1198,
          1199,
          1200,
          1201,
          1202,
          1203,
          1204,
          1205,
          1206,
          1207,
          1208,
          1209,
          1210,
          1211,
          1212,
          1213,
          1214,
          1215,
          1216,
          1217,
          1218,
          1219,
          1220,
          1221,
          1222,
          1223,
          1224,
          1225,
          1226,
          1227,
          1228,
          1229
         ],
         "xaxis": "x",
         "y": [
          1.7767517566680908,
          0.5431824922561646,
          0.8305211663246155,
          0.9204249978065491,
          2.4237568378448486,
          1.0569312572479248,
          0.8022876977920532,
          1.6813393831253052,
          0.6651206612586975,
          0.8683801889419556,
          1.3983043432235718,
          0.9296869039535522,
          1.5696594715118408,
          1.5675296783447266,
          0.7062617540359497,
          1.1217221021652222,
          0.7724927067756653,
          1.0487669706344604,
          1.1709299087524414,
          1.3148571252822876,
          1.3755769729614258,
          1.4078052043914795,
          0.6913492679595947,
          1.008406639099121,
          1.1962226629257202,
          0.488627165555954,
          0.8891465663909912,
          1.2797316312789917,
          1.209012508392334,
          1.318319320678711,
          0.8892802596092224,
          0.9195309281349182,
          1.646140456199646,
          1.5393251180648804,
          0.7551418542861938,
          0.8989849090576172,
          0.7126063108444214,
          0.6599089503288269,
          1.5129265785217285,
          1.0416926145553589,
          1.6840629577636719,
          1.2253233194351196,
          2.2844388484954834,
          0.9722183346748352,
          1.0079702138900757,
          1.162859559059143,
          1.4246271848678589,
          1.5007120370864868,
          1.000631332397461,
          1.1083678007125854,
          0.6702307462692261,
          1.0498449802398682,
          0.8465757369995117,
          0.6684308648109436,
          1.7931623458862305,
          1.4100650548934937,
          0.5364658832550049,
          0.92461758852005,
          1.1436734199523926,
          1.1657640933990479,
          1.6148194074630737,
          0.9379689693450928,
          0.7857852578163147,
          1.3122276067733765,
          0.535000205039978,
          0.4540065824985504,
          1.0280518531799316,
          1.5939298868179321,
          0.7849178314208984,
          1.1513100862503052,
          0.8785298466682434,
          1.2562073469161987,
          1.2751811742782593,
          0.8337172865867615,
          1.1887178421020508,
          0.8555492162704468,
          1.827194333076477,
          0.7480109333992004,
          0.5416222810745239,
          0.47888004779815674,
          0.3450639545917511,
          1.3772298097610474,
          0.9604801535606384,
          0.3936452865600586,
          0.664417028427124,
          0.9993841648101807,
          1.2289949655532837,
          1.6485458612442017,
          0.8122627139091492,
          0.6981812715530396,
          1.3500887155532837,
          1.9884536266326904,
          1.1908118724822998,
          0.7431210279464722,
          0.5423528552055359,
          0.8318047523498535,
          0.5999104380607605,
          1.2023820877075195,
          1.4107506275177002,
          1.236398696899414,
          1.026726484298706,
          1.1606255769729614,
          1.390195369720459,
          0.6489028334617615,
          0.9758209586143494,
          1.564224123954773,
          1.10558021068573,
          1.3869496583938599,
          0.7899687886238098,
          0.9645675420761108,
          1.0566074848175049,
          0.6148941516876221,
          0.7861307263374329,
          0.6084064245223999,
          2.8988723754882812,
          0.7929084300994873,
          0.5125632286071777,
          0.792904257774353,
          0.9000007510185242,
          1.3646035194396973,
          1.5494500398635864,
          1.0996897220611572,
          1.0716547966003418,
          0.8789745569229126,
          1.5702630281448364,
          1.8012570142745972,
          1.781622290611267,
          0.7354037165641785,
          0.9193161725997925,
          0.34105420112609863,
          0.8616001605987549,
          1.2668992280960083,
          0.6315167546272278,
          1.002486228942871,
          1.7036916017532349,
          1.3432362079620361,
          0.5572606325149536,
          1.2172974348068237,
          0.8578685522079468,
          0.7035332322120667,
          0.839445173740387,
          1.9846608638763428,
          1.1326974630355835,
          0.9779791235923767,
          1.294376015663147,
          1.7170161008834839,
          0.6921724081039429,
          1.087266206741333,
          1.0462751388549805,
          1.1487845182418823,
          1.3021091222763062,
          1.4991449117660522,
          0.648941159248352,
          1.0304570198059082,
          0.8165585398674011,
          1.098510503768921,
          1.0516078472137451,
          0.7461140751838684,
          0.7994675040245056,
          0.9624630808830261,
          0.937670886516571,
          1.1080950498580933,
          1.7273461818695068,
          1.0014114379882812,
          1.0210318565368652,
          0.7562521696090698,
          1.0458307266235352,
          0.7910557389259338,
          0.7769280672073364,
          2.0849475860595703,
          0.8740536570549011,
          0.7616195678710938,
          1.0293586254119873,
          0.8920642733573914,
          1.154755711555481,
          0.8251464366912842,
          0.8731338381767273,
          1.0004173517227173,
          1.1079264879226685,
          1.1310577392578125,
          1.7231684923171997,
          0.7293016910552979,
          1.0365654230117798,
          2.058265209197998,
          1.6975542306900024,
          1.3122704029083252,
          1.1283797025680542,
          0.41897639632225037,
          0.36218059062957764,
          0.7389108538627625,
          1.1851844787597656,
          1.1955053806304932,
          0.6949364542961121,
          0.8722071051597595,
          1.2445831298828125,
          1.3280720710754395,
          1.073220133781433,
          0.9958663582801819,
          0.8845441937446594,
          1.2834442853927612,
          1.0558415651321411,
          0.40246525406837463,
          0.9549562335014343,
          1.5307685136795044,
          1.1000467538833618,
          1.5080615282058716,
          0.42937761545181274,
          1.1832046508789062,
          0.7728002071380615,
          0.6952701807022095,
          0.6601471304893494,
          0.2990410029888153,
          0.4975225031375885,
          1.0803619623184204,
          0.9877575039863586,
          0.274738073348999,
          0.614543616771698,
          0.6083575487136841,
          0.6026009321212769,
          0.31767040491104126,
          0.7848874926567078,
          1.3415896892547607,
          0.27630454301834106,
          0.7990238070487976,
          0.637614369392395,
          0.8269641399383545,
          0.1691552847623825,
          0.6591325402259827,
          0.4968978762626648,
          0.534760594367981,
          0.4969785213470459,
          0.4587835967540741,
          0.6615763306617737,
          0.22120995819568634,
          0.7976114749908447,
          0.4166794419288635,
          0.3125033676624298,
          1.0474750995635986,
          0.45614877343177795,
          0.5399804711341858,
          0.940778374671936,
          1.2304130792617798,
          1.1231745481491089,
          1.7684882879257202,
          0.4456864297389984,
          1.2284564971923828,
          0.30846619606018066,
          0.8102331757545471,
          0.626737654209137,
          1.0035024881362915,
          0.32045596837997437,
          0.5489805340766907,
          0.8349888920783997,
          0.19965434074401855,
          0.5785946846008301,
          0.8009275197982788,
          1.4577590227127075,
          0.9332211017608643,
          0.37086597084999084,
          0.9264585375785828,
          0.5018158555030823,
          0.21165651082992554,
          0.48944324254989624,
          0.29210373759269714,
          0.6668795943260193,
          0.3135867714881897,
          0.5576677322387695,
          0.32518085837364197,
          0.5333942770957947,
          0.9253718256950378,
          0.8553668856620789,
          0.5931264758110046,
          0.9534451365470886,
          0.5446321964263916,
          0.41580888628959656,
          1.1361366510391235,
          0.6668544411659241,
          0.6334379315376282,
          0.3964148461818695,
          0.6161043047904968,
          0.7159463763237,
          0.6704489588737488,
          1.087103009223938,
          0.506807804107666,
          0.5774101614952087,
          0.5758576989173889,
          1.0388412475585938,
          1.1817429065704346,
          0.713367760181427,
          1.2299188375473022,
          0.7641847729682922,
          0.3440483808517456,
          0.8608332872390747,
          0.34346792101860046,
          1.0280864238739014,
          0.5569160580635071,
          0.31647926568984985,
          0.8114806413650513,
          0.5293458700180054,
          0.7358998656272888,
          0.6499207615852356,
          0.350424587726593,
          1.1406577825546265,
          0.7416351437568665,
          0.41153690218925476,
          0.5973374843597412,
          0.7509828805923462,
          0.6451889276504517,
          0.6766391396522522,
          0.30262258648872375,
          0.5887634754180908,
          0.36907973885536194,
          0.9254881739616394,
          1.579851508140564,
          0.9851936101913452,
          0.5905295014381409,
          0.33388930559158325,
          0.1267247051000595,
          0.4154641032218933,
          0.9574099779129028,
          0.8529862761497498,
          0.5597451329231262,
          0.8594486117362976,
          0.6819272637367249,
          0.48087140917778015,
          0.5654955506324768,
          0.5746035575866699,
          1.0778824090957642,
          0.7172491550445557,
          0.49766138195991516,
          0.8813103437423706,
          0.2792309820652008,
          0.29282844066619873,
          1.1202867031097412,
          1.0424264669418335,
          0.2164921909570694,
          0.5082004070281982,
          0.48681026697158813,
          1.1523854732513428,
          0.7725425362586975,
          0.933754026889801,
          1.3463656902313232,
          0.27947577834129333,
          1.0134379863739014,
          0.6650145649909973,
          0.5558212995529175,
          1.4702730178833008,
          0.36032161116600037,
          0.9833669662475586,
          1.1313503980636597,
          0.8692071437835693,
          0.831455647945404,
          0.26003023982048035,
          0.5589531064033508,
          0.4162675738334656,
          0.37878909707069397,
          0.9527680277824402,
          0.3246999680995941,
          0.8241586089134216,
          0.31631597876548767,
          0.3058210015296936,
          0.603342592716217,
          1.2615658044815063,
          1.1842299699783325,
          0.32475006580352783,
          0.3725370466709137,
          0.4023383855819702,
          1.275015950202942,
          0.4211691915988922,
          1.143249750137329,
          0.649821400642395,
          0.827284574508667,
          0.5295886397361755,
          0.478002667427063,
          1.371945858001709,
          0.34070852398872375,
          0.3728947937488556,
          0.4433997571468353,
          0.23601073026657104,
          0.7173961997032166,
          0.4515498876571655,
          0.6569928526878357,
          0.6699692010879517,
          0.25486090779304504,
          1.6831027269363403,
          0.30080446600914,
          0.4120809733867645,
          0.6392513513565063,
          0.5287458300590515,
          0.4137662351131439,
          0.782276451587677,
          0.6485975384712219,
          0.6481965780258179,
          0.6811129450798035,
          0.9620602130889893,
          0.6274937987327576,
          0.49715274572372437,
          0.7231969833374023,
          0.8227791786193848,
          0.5960607528686523,
          0.5809193849563599,
          0.36322546005249023,
          0.6705579161643982,
          1.55841064453125,
          0.7984291911125183,
          1.0730290412902832,
          0.356477826833725,
          0.7373749017715454,
          0.7074585556983948,
          0.6101805567741394,
          0.6499989032745361,
          0.9963210821151733,
          1.0289137363433838,
          1.5117666721343994,
          0.613260805606842,
          1.3412116765975952,
          0.8974171876907349,
          0.6014898419380188,
          1.4558215141296387,
          0.5845685601234436,
          0.6252310872077942,
          0.6934337615966797,
          1.0648808479309082,
          0.8657927513122559,
          0.8995389342308044,
          0.4779670536518097,
          1.1900416612625122,
          0.8243028521537781,
          0.6490824818611145,
          0.3809143900871277,
          0.5561106204986572,
          0.74107426404953,
          0.7504148483276367,
          1.106749415397644,
          0.8829966187477112,
          0.9314606189727783,
          0.9582280516624451,
          0.6807722449302673,
          1.3494924306869507,
          0.9405366778373718,
          0.5760190486907959,
          0.544633686542511,
          1.2291871309280396,
          0.5848381519317627,
          1.263211965560913,
          0.6975676417350769,
          2.015160083770752,
          0.7744713425636292,
          2.3835346698760986,
          0.9578619599342346,
          0.8184080719947815,
          0.9114681482315063,
          0.5318089127540588,
          1.0098047256469727,
          0.5229999423027039,
          0.6138511896133423,
          0.74314945936203,
          0.9414201974868774,
          1.1051841974258423,
          0.864267885684967,
          0.7921675443649292,
          0.7340067625045776,
          0.9796867370605469,
          1.2329641580581665,
          0.8550477027893066,
          1.0678431987762451,
          0.7920347452163696,
          0.5169724822044373,
          1.0029174089431763,
          1.0542387962341309,
          1.0850920677185059,
          0.6758102774620056,
          1.064917802810669,
          0.7132471799850464,
          1.0356078147888184,
          0.4271782338619232,
          0.8300681114196777,
          0.43340402841567993,
          0.7161851525306702,
          0.9356003403663635,
          0.7674452066421509,
          0.8368542790412903,
          0.8691850304603577,
          0.7212668657302856,
          0.6428302526473999,
          0.7978805303573608,
          1.5064088106155396,
          1.006079912185669,
          0.7293428778648376,
          1.0831754207611084,
          0.5978227853775024,
          0.751327633857727,
          1.0646246671676636,
          1.1240079402923584,
          1.030801773071289,
          0.5800496339797974,
          1.1595566272735596,
          0.357940137386322,
          1.0106383562088013,
          0.7916876077651978,
          0.802506148815155,
          1.4381343126296997,
          1.039506196975708,
          0.8039495944976807,
          1.0925031900405884,
          0.7981852293014526,
          0.49561774730682373,
          0.9301350116729736,
          0.6922886967658997,
          0.7992240786552429,
          0.8803994059562683,
          1.0722802877426147,
          0.5565012097358704,
          0.623438835144043,
          0.5022198557853699,
          0.9384092688560486,
          0.5998446345329285,
          0.6461660265922546,
          0.8460084795951843,
          0.7188284397125244,
          0.692437469959259,
          0.5059595704078674,
          1.103479266166687,
          0.9289083480834961,
          0.981388509273529,
          0.8379706740379333,
          0.5321958065032959,
          1.0064430236816406,
          0.7881101965904236,
          0.771934449672699,
          0.6731853485107422,
          1.1349501609802246,
          0.9368069767951965,
          0.970950722694397,
          0.4312111735343933,
          0.5367516875267029,
          0.6841760873794556,
          1.1687512397766113,
          0.8803172707557678,
          0.9797310829162598,
          0.7335572838783264,
          0.7333996891975403,
          0.8800684213638306,
          1.039111614227295,
          0.8160708546638489,
          1.1706856489181519,
          0.39596617221832275,
          0.8842248916625977,
          1.0600312948226929,
          0.46468180418014526,
          0.703140914440155,
          0.8696643710136414,
          0.572014570236206,
          0.970137894153595,
          0.7622979283332825,
          0.571571946144104,
          0.6286591291427612,
          0.5837138295173645,
          1.082602620124817,
          1.2743690013885498,
          0.57673180103302,
          0.5873336791992188,
          0.4435979425907135,
          1.1146196126937866,
          0.6043515801429749,
          1.1150588989257812,
          1.167401909828186,
          0.9697039723396301,
          0.7196035981178284,
          0.8466022610664368,
          1.0689889192581177,
          0.7030216455459595,
          0.7525702714920044,
          0.6915435194969177,
          1.1509181261062622,
          0.5604265928268433,
          1.0366169214248657,
          1.330075979232788,
          1.34464430809021,
          1.7193957567214966,
          1.06195867061615,
          1.337702751159668,
          0.7242527604103088,
          0.49634015560150146,
          0.5460638999938965,
          0.7899836301803589,
          0.9717366099357605,
          0.7321105599403381,
          0.9183335304260254,
          0.7585839629173279,
          0.38518425822257996,
          0.6188382506370544,
          0.7276700139045715,
          1.2598025798797607,
          0.4114466905593872,
          0.810151219367981,
          0.7422773241996765,
          1.0519495010375977,
          0.9800538420677185,
          0.44298040866851807,
          0.7810899615287781,
          0.806484580039978,
          0.5907678604125977,
          1.1666388511657715,
          1.1855558156967163,
          1.0611896514892578,
          0.22195781767368317,
          0.6707661151885986,
          0.8055130839347839,
          0.9055037498474121,
          1.2186752557754517,
          1.2768644094467163,
          0.6564119458198547,
          0.857517659664154,
          0.6248742341995239,
          1.2808842658996582,
          0.5314295887947083,
          0.465373694896698,
          0.7638072967529297,
          0.9905802011489868,
          0.8815049529075623,
          0.5048084259033203,
          0.7319878339767456,
          0.8637444972991943,
          0.8111715316772461,
          0.6264656782150269,
          0.5739702582359314,
          0.9738714694976807,
          1.3533457517623901,
          0.8443760871887207,
          0.48080548644065857,
          0.5141030550003052,
          0.7071589231491089,
          0.8437397480010986,
          1.0630168914794922,
          1.1410174369812012,
          0.34284141659736633,
          0.543344259262085,
          1.0144569873809814,
          0.7074233889579773,
          0.7490872144699097,
          0.3246280550956726,
          0.44863778352737427,
          0.3608165681362152,
          0.76642906665802,
          0.8743883371353149,
          0.9342591762542725,
          0.7051647305488586,
          0.6904105544090271,
          0.8947060704231262,
          0.80828857421875,
          0.7318475842475891,
          1.0531785488128662,
          0.7418830990791321,
          0.5487240552902222,
          1.032647967338562,
          0.492902934551239,
          0.933106005191803,
          0.7383201718330383,
          0.236599400639534,
          0.5556393265724182,
          0.7272622585296631,
          0.7641878724098206,
          0.7853546738624573,
          0.44921064376831055,
          1.0264911651611328,
          0.46782776713371277,
          1.0017828941345215,
          0.9157902002334595,
          0.5903348326683044,
          1.0155577659606934,
          0.47934189438819885,
          0.42451608180999756,
          0.5364757776260376,
          0.8343671560287476,
          0.5098016858100891,
          0.6717600226402283,
          0.7868616580963135,
          0.9891924262046814,
          0.7150036692619324,
          0.8419679403305054,
          0.4599488079547882,
          0.5583364963531494,
          0.8514574766159058,
          0.9753805994987488,
          0.7593812346458435,
          0.8222717642784119,
          0.4202454388141632,
          0.9693885445594788,
          0.7911495566368103,
          0.684766411781311,
          0.46011218428611755,
          0.8547148108482361,
          0.5740624666213989,
          0.35158413648605347,
          0.5640245079994202,
          1.156323790550232,
          0.6195836067199707,
          0.8591116070747375,
          0.8962200880050659,
          0.4275742769241333,
          0.9776060581207275,
          0.40853941440582275,
          1.1106353998184204,
          0.632021963596344,
          0.4779598116874695,
          1.0004544258117676,
          0.8006625771522522,
          0.6106541752815247,
          0.6637520790100098,
          0.4535943269729614,
          0.4557238519191742,
          0.8902891278266907,
          1.008836030960083,
          0.6569831371307373,
          0.6866108775138855,
          0.6379966139793396,
          0.6464886665344238,
          0.6885197162628174,
          0.8263294100761414,
          0.49865344166755676,
          0.9275389909744263,
          1.298083782196045,
          0.5955155491828918,
          1.310721516609192,
          0.7857667803764343,
          0.6786988973617554,
          0.6744316816329956,
          0.9938806891441345,
          0.23400163650512695,
          0.8792195320129395,
          0.8613516092300415,
          0.9585050344467163,
          0.8935319185256958,
          1.2688931226730347,
          0.7359158396720886,
          0.8857375383377075,
          0.9545535445213318,
          0.5949012637138367,
          0.8266022205352783,
          1.0053508281707764,
          0.5430795550346375,
          0.5889421105384827,
          0.8514060378074646,
          1.1197447776794434,
          0.6133195757865906,
          0.56856769323349,
          0.6801571846008301,
          1.7115963697433472,
          0.5990872383117676,
          0.4749462902545929,
          0.9884876012802124,
          0.7772446870803833,
          0.8577190041542053,
          0.5595785975456238,
          0.5730283856391907,
          0.631918728351593,
          0.7209086418151855,
          1.1430699825286865,
          0.5932586789131165,
          0.8646752238273621,
          0.41848230361938477,
          1.2712458372116089,
          0.808038055896759,
          0.463604211807251,
          0.7222340106964111,
          0.611924946308136,
          0.5313040018081665,
          0.5077769756317139,
          0.7740614414215088,
          0.6691800355911255,
          0.5090071558952332,
          0.8428268432617188,
          0.9891931414604187,
          0.6295810341835022,
          0.7991086840629578,
          0.7435006499290466,
          0.4824424982070923,
          0.8582211136817932,
          1.0195614099502563,
          0.73408442735672,
          0.605608344078064,
          1.3225512504577637,
          0.6686978340148926,
          0.6173483729362488,
          0.650881826877594,
          0.6228920817375183,
          0.6611565947532654,
          0.7246655225753784,
          0.4294184148311615,
          0.1959024965763092,
          0.3539227843284607,
          0.9150381088256836,
          0.9564306735992432,
          0.574834942817688,
          0.9032379388809204,
          0.7658638954162598,
          0.6477723717689514,
          0.5396339297294617,
          0.695525050163269,
          0.5886436700820923,
          1.0145463943481445,
          0.8094261288642883,
          0.44350722432136536,
          0.7452828884124756,
          1.0467971563339233,
          0.5392633676528931,
          0.5088894963264465,
          0.4421362578868866,
          0.5237266421318054,
          0.41263970732688904,
          0.3970835208892822,
          1.7150304317474365,
          0.7857107520103455,
          0.38591161370277405,
          0.9586641192436218,
          0.7588154673576355,
          0.6414846777915955,
          1.3293744325637817,
          1.4306449890136719,
          0.5910188555717468,
          0.43522122502326965,
          0.5395178198814392,
          0.3934958279132843,
          0.6767870783805847,
          0.45216265320777893,
          0.6585991382598877,
          0.7610167860984802,
          0.2608301341533661,
          0.5875794887542725,
          0.5194793343544006,
          1.1479805707931519,
          0.9007742404937744,
          0.6312656998634338,
          0.8148912191390991,
          0.9414951205253601,
          0.6441386342048645,
          0.555898129940033,
          0.25465717911720276,
          0.7934772372245789,
          0.3460416793823242,
          0.7645614743232727,
          1.253556251525879,
          0.5902687907218933,
          0.40991663932800293,
          0.9416519999504089,
          0.6625372767448425,
          0.880569577217102,
          0.6308767795562744,
          1.7274210453033447,
          0.7865285873413086,
          1.0516895055770874,
          0.3501777946949005,
          1.162092685699463,
          0.5960441827774048,
          0.9147432446479797,
          0.6493796110153198,
          0.7062810063362122,
          0.6602936387062073,
          0.4730147123336792,
          0.6904820203781128,
          1.335529088973999,
          0.3333868086338043,
          0.5270769000053406,
          0.9620755910873413,
          1.0765538215637207,
          0.8308321237564087,
          0.6012301445007324,
          1.0242412090301514,
          0.7097799777984619,
          0.9782969355583191,
          0.4268900752067566,
          0.9905386567115784,
          1.888919711112976,
          0.32230517268180847,
          0.8182799816131592,
          1.1601808071136475,
          0.5881937742233276,
          0.7925359010696411,
          0.8761180639266968,
          1.194517970085144,
          0.3308315575122833,
          0.8165523409843445,
          1.2684468030929565,
          0.9484493732452393,
          0.7553684115409851,
          0.7600134611129761,
          0.7680944204330444,
          1.1055907011032104,
          1.0767040252685547,
          0.989768385887146,
          0.9825049638748169,
          1.0671879053115845,
          0.42416369915008545,
          0.8727366328239441,
          0.4242759048938751,
          1.652418613433838,
          0.8991744518280029,
          0.8345290422439575,
          0.5373476147651672,
          0.804684042930603,
          0.6795934438705444,
          1.3074395656585693,
          0.7759215831756592,
          1.2457834482192993,
          0.6630108952522278,
          0.655509889125824,
          0.4596426486968994,
          0.7021673917770386,
          0.7220432162284851,
          1.6246949434280396,
          1.0195114612579346,
          0.9152710437774658,
          0.8204643130302429,
          0.5530226826667786,
          0.6782854795455933,
          0.9044961333274841,
          0.9440222382545471,
          1.1916379928588867,
          1.0737595558166504,
          0.4875182509422302,
          0.5424897074699402,
          1.0544884204864502,
          1.266654372215271,
          0.4833080470561981,
          0.9771499633789062,
          0.8354699015617371,
          0.7345152497291565,
          1.3383030891418457,
          1.5328056812286377,
          0.4797939360141754,
          0.4444001317024231,
          0.917204737663269,
          0.766951322555542,
          0.8984408974647522,
          0.7388027906417847,
          0.36273565888404846,
          0.45784640312194824,
          0.9287667870521545,
          0.5918500423431396,
          0.24722187221050262,
          0.4798629879951477,
          0.5632588863372803,
          1.2518070936203003,
          1.0329445600509644,
          1.145478367805481,
          0.4261023998260498,
          0.7308866381645203,
          0.7932388186454773,
          0.8603650331497192,
          0.5699328780174255,
          0.7744443416595459,
          0.8822028636932373,
          0.5925434827804565,
          0.5910677313804626,
          0.7415072917938232,
          0.3717389702796936,
          1.0757319927215576,
          0.5170533657073975,
          0.7575699090957642,
          0.5571998953819275,
          0.6733661890029907,
          0.5577037334442139,
          0.4565584361553192,
          0.7991144061088562,
          0.7235989570617676,
          0.6898161172866821,
          1.0966944694519043,
          0.5657836198806763,
          1.0463896989822388,
          1.0209256410598755,
          0.9017353057861328,
          0.9127903580665588,
          0.9164673089981079,
          1.0798563957214355,
          0.6796659827232361,
          1.0508372783660889,
          0.9853795170783997,
          0.8541725277900696,
          0.5935221910476685,
          1.0574322938919067,
          0.8009412884712219,
          0.671653151512146,
          0.6432671546936035,
          0.6390199661254883,
          0.8031502366065979,
          0.5826282501220703,
          1.1721872091293335,
          0.6474578976631165,
          0.5452308058738708,
          0.8150292634963989,
          0.5036455392837524,
          0.9007799625396729,
          0.41609740257263184,
          0.9933342337608337,
          0.5001122951507568,
          0.8719649314880371,
          0.403181254863739,
          0.9164227843284607,
          0.5391137003898621,
          0.4540913701057434,
          0.7516474723815918,
          0.6184151768684387,
          0.7581796646118164,
          1.4531426429748535,
          1.0248171091079712,
          0.8216577768325806,
          0.6979817748069763,
          0.2843157649040222,
          0.8703331351280212,
          0.3471631407737732,
          1.168473482131958,
          0.5886019468307495,
          0.5736345648765564,
          0.8274316787719727,
          1.3213194608688354,
          1.1624916791915894,
          0.9919211864471436,
          0.8077095746994019,
          0.6821010112762451,
          1.0870178937911987,
          0.5378454923629761,
          1.098897933959961,
          0.837907075881958,
          0.6139243841171265,
          1.3887442350387573,
          1.3727308511734009,
          1.0895869731903076,
          0.8611463308334351,
          0.8818013668060303,
          0.8312287330627441,
          1.0402345657348633,
          0.8871132135391235,
          0.8223724365234375,
          0.823239266872406,
          1.1505632400512695,
          0.737736165523529,
          0.6660687327384949,
          0.5216507911682129,
          0.7943457961082458,
          1.0827751159667969,
          0.9160457849502563,
          1.0290899276733398,
          0.8124098181724548,
          0.6357839107513428,
          0.9710270762443542,
          1.0615646839141846,
          1.1449378728866577,
          1.0756334066390991,
          1.0940139293670654,
          1.0775707960128784,
          0.9249232411384583,
          0.8305463194847107,
          0.5063212513923645,
          0.9016697406768799,
          0.9772992730140686,
          1.3392378091812134,
          0.8918741345405579,
          0.8054929971694946,
          1.0017054080963135,
          0.8821738362312317,
          0.6273892521858215,
          0.7112635970115662,
          1.006484866142273,
          0.6659724712371826,
          1.3363926410675049,
          0.5230923891067505,
          0.6500697731971741,
          1.119057297706604,
          0.8209343552589417,
          0.9321165084838867,
          0.9096541404724121,
          0.733820915222168,
          1.254696249961853,
          0.6525256633758545,
          0.9602749347686768,
          1.1833969354629517,
          1.076380968093872,
          0.598207950592041,
          0.7310875654220581,
          0.44550713896751404,
          1.1754450798034668,
          1.1917272806167603,
          0.809207022190094,
          0.8836444020271301,
          0.8871902227401733,
          0.8801061511039734,
          0.790500819683075,
          0.962022066116333,
          0.5743387341499329,
          0.5703399777412415,
          0.6333796977996826,
          1.2846015691757202,
          0.6169644594192505,
          0.606692373752594,
          0.7483633756637573,
          0.8528667688369751,
          0.7555028796195984,
          0.4394782483577728,
          0.5793472528457642,
          0.6420984864234924,
          0.5253158211708069,
          0.8388001918792725,
          0.45512303709983826,
          0.9001990556716919,
          0.8858342170715332,
          0.5355563759803772,
          0.8865916728973389,
          1.1031745672225952,
          0.8655914068222046,
          0.8042893409729004,
          0.6368616223335266,
          0.6535260677337646,
          0.5982574820518494,
          0.8674483299255371,
          0.884848952293396,
          0.9286187887191772,
          0.6855714917182922,
          0.6600215435028076,
          1.0221220254898071,
          1.1356050968170166,
          0.7590779066085815,
          0.7088848948478699,
          0.5226756930351257,
          0.9368389248847961,
          0.8178242444992065,
          0.4636644423007965,
          1.0549139976501465,
          0.8053179979324341,
          1.0066136121749878,
          0.647331953048706,
          0.9709379076957703,
          0.6022985577583313,
          0.7456374168395996,
          0.8955564498901367,
          1.0153623819351196,
          0.4754575490951538,
          0.808340311050415,
          1.188219428062439,
          0.7582325339317322,
          0.9532076120376587,
          0.9764382243156433,
          0.8146801590919495,
          1.1330093145370483,
          1.1119710206985474,
          0.9966292381286621,
          0.6634911894798279,
          1.2349839210510254,
          1.037627100944519,
          0.8694068789482117,
          1.3491439819335938,
          1.1135296821594238,
          0.505889356136322,
          1.18378484249115,
          0.9729933142662048,
          1.2687873840332031,
          0.9098220467567444,
          0.7804794907569885,
          0.7498826384544373,
          1.1048200130462646,
          1.1315531730651855,
          1.3158373832702637,
          1.1172218322753906,
          0.5158844590187073,
          0.5769232511520386,
          0.9194021821022034,
          0.8865005373954773,
          0.9687817692756653,
          0.7476077675819397,
          1.1708579063415527,
          0.9248949885368347,
          1.1521635055541992,
          0.49189019203186035,
          1.1319036483764648,
          1.2520323991775513,
          0.893044114112854,
          0.7287826538085938,
          1.3268768787384033,
          0.8687331080436707,
          1.1794198751449585,
          0.6666263937950134,
          1.1929917335510254,
          0.5766841173171997,
          0.8377939462661743,
          1.2540181875228882,
          1.0866731405258179,
          1.5678257942199707,
          1.1547404527664185,
          0.7296034693717957,
          1.1728568077087402,
          1.1257225275039673,
          1.064048409461975,
          1.2546526193618774,
          1.0191384553909302,
          0.8627414107322693,
          1.0107502937316895,
          0.9619185924530029,
          1.0148839950561523,
          0.9514203667640686,
          1.1177704334259033,
          1.164724349975586,
          0.8025274872779846,
          0.9212782979011536,
          1.2286969423294067,
          1.1327183246612549,
          0.8226237297058105,
          1.26692795753479,
          0.6583203077316284,
          1.0278239250183105,
          0.9522627592086792,
          1.007906198501587,
          1.1921145915985107,
          1.171865463256836,
          1.4450855255126953,
          0.790535032749176,
          1.0834681987762451,
          0.9019405245780945,
          1.2838835716247559,
          1.192016839981079,
          0.915742039680481,
          0.9302131533622742,
          0.6283085346221924,
          0.6751716136932373,
          1.3820600509643555,
          1.1462019681930542,
          1.3325573205947876,
          1.010563611984253,
          1.0370841026306152,
          1.4843825101852417,
          0.9791331887245178
         ],
         "yaxis": "y"
        }
       ],
       "layout": {
        "legend": {
         "title": {
          "text": "variable"
         },
         "tracegroupgap": 0
        },
        "margin": {
         "t": 60
        },
        "template": {
         "data": {
          "bar": [
           {
            "error_x": {
             "color": "#2a3f5f"
            },
            "error_y": {
             "color": "#2a3f5f"
            },
            "marker": {
             "line": {
              "color": "#E5ECF6",
              "width": 0.5
             },
             "pattern": {
              "fillmode": "overlay",
              "size": 10,
              "solidity": 0.2
             }
            },
            "type": "bar"
           }
          ],
          "barpolar": [
           {
            "marker": {
             "line": {
              "color": "#E5ECF6",
              "width": 0.5
             },
             "pattern": {
              "fillmode": "overlay",
              "size": 10,
              "solidity": 0.2
             }
            },
            "type": "barpolar"
           }
          ],
          "carpet": [
           {
            "aaxis": {
             "endlinecolor": "#2a3f5f",
             "gridcolor": "white",
             "linecolor": "white",
             "minorgridcolor": "white",
             "startlinecolor": "#2a3f5f"
            },
            "baxis": {
             "endlinecolor": "#2a3f5f",
             "gridcolor": "white",
             "linecolor": "white",
             "minorgridcolor": "white",
             "startlinecolor": "#2a3f5f"
            },
            "type": "carpet"
           }
          ],
          "choropleth": [
           {
            "colorbar": {
             "outlinewidth": 0,
             "ticks": ""
            },
            "type": "choropleth"
           }
          ],
          "contour": [
           {
            "colorbar": {
             "outlinewidth": 0,
             "ticks": ""
            },
            "colorscale": [
             [
              0,
              "#0d0887"
             ],
             [
              0.1111111111111111,
              "#46039f"
             ],
             [
              0.2222222222222222,
              "#7201a8"
             ],
             [
              0.3333333333333333,
              "#9c179e"
             ],
             [
              0.4444444444444444,
              "#bd3786"
             ],
             [
              0.5555555555555556,
              "#d8576b"
             ],
             [
              0.6666666666666666,
              "#ed7953"
             ],
             [
              0.7777777777777778,
              "#fb9f3a"
             ],
             [
              0.8888888888888888,
              "#fdca26"
             ],
             [
              1,
              "#f0f921"
             ]
            ],
            "type": "contour"
           }
          ],
          "contourcarpet": [
           {
            "colorbar": {
             "outlinewidth": 0,
             "ticks": ""
            },
            "type": "contourcarpet"
           }
          ],
          "heatmap": [
           {
            "colorbar": {
             "outlinewidth": 0,
             "ticks": ""
            },
            "colorscale": [
             [
              0,
              "#0d0887"
             ],
             [
              0.1111111111111111,
              "#46039f"
             ],
             [
              0.2222222222222222,
              "#7201a8"
             ],
             [
              0.3333333333333333,
              "#9c179e"
             ],
             [
              0.4444444444444444,
              "#bd3786"
             ],
             [
              0.5555555555555556,
              "#d8576b"
             ],
             [
              0.6666666666666666,
              "#ed7953"
             ],
             [
              0.7777777777777778,
              "#fb9f3a"
             ],
             [
              0.8888888888888888,
              "#fdca26"
             ],
             [
              1,
              "#f0f921"
             ]
            ],
            "type": "heatmap"
           }
          ],
          "heatmapgl": [
           {
            "colorbar": {
             "outlinewidth": 0,
             "ticks": ""
            },
            "colorscale": [
             [
              0,
              "#0d0887"
             ],
             [
              0.1111111111111111,
              "#46039f"
             ],
             [
              0.2222222222222222,
              "#7201a8"
             ],
             [
              0.3333333333333333,
              "#9c179e"
             ],
             [
              0.4444444444444444,
              "#bd3786"
             ],
             [
              0.5555555555555556,
              "#d8576b"
             ],
             [
              0.6666666666666666,
              "#ed7953"
             ],
             [
              0.7777777777777778,
              "#fb9f3a"
             ],
             [
              0.8888888888888888,
              "#fdca26"
             ],
             [
              1,
              "#f0f921"
             ]
            ],
            "type": "heatmapgl"
           }
          ],
          "histogram": [
           {
            "marker": {
             "pattern": {
              "fillmode": "overlay",
              "size": 10,
              "solidity": 0.2
             }
            },
            "type": "histogram"
           }
          ],
          "histogram2d": [
           {
            "colorbar": {
             "outlinewidth": 0,
             "ticks": ""
            },
            "colorscale": [
             [
              0,
              "#0d0887"
             ],
             [
              0.1111111111111111,
              "#46039f"
             ],
             [
              0.2222222222222222,
              "#7201a8"
             ],
             [
              0.3333333333333333,
              "#9c179e"
             ],
             [
              0.4444444444444444,
              "#bd3786"
             ],
             [
              0.5555555555555556,
              "#d8576b"
             ],
             [
              0.6666666666666666,
              "#ed7953"
             ],
             [
              0.7777777777777778,
              "#fb9f3a"
             ],
             [
              0.8888888888888888,
              "#fdca26"
             ],
             [
              1,
              "#f0f921"
             ]
            ],
            "type": "histogram2d"
           }
          ],
          "histogram2dcontour": [
           {
            "colorbar": {
             "outlinewidth": 0,
             "ticks": ""
            },
            "colorscale": [
             [
              0,
              "#0d0887"
             ],
             [
              0.1111111111111111,
              "#46039f"
             ],
             [
              0.2222222222222222,
              "#7201a8"
             ],
             [
              0.3333333333333333,
              "#9c179e"
             ],
             [
              0.4444444444444444,
              "#bd3786"
             ],
             [
              0.5555555555555556,
              "#d8576b"
             ],
             [
              0.6666666666666666,
              "#ed7953"
             ],
             [
              0.7777777777777778,
              "#fb9f3a"
             ],
             [
              0.8888888888888888,
              "#fdca26"
             ],
             [
              1,
              "#f0f921"
             ]
            ],
            "type": "histogram2dcontour"
           }
          ],
          "mesh3d": [
           {
            "colorbar": {
             "outlinewidth": 0,
             "ticks": ""
            },
            "type": "mesh3d"
           }
          ],
          "parcoords": [
           {
            "line": {
             "colorbar": {
              "outlinewidth": 0,
              "ticks": ""
             }
            },
            "type": "parcoords"
           }
          ],
          "pie": [
           {
            "automargin": true,
            "type": "pie"
           }
          ],
          "scatter": [
           {
            "marker": {
             "colorbar": {
              "outlinewidth": 0,
              "ticks": ""
             }
            },
            "type": "scatter"
           }
          ],
          "scatter3d": [
           {
            "line": {
             "colorbar": {
              "outlinewidth": 0,
              "ticks": ""
             }
            },
            "marker": {
             "colorbar": {
              "outlinewidth": 0,
              "ticks": ""
             }
            },
            "type": "scatter3d"
           }
          ],
          "scattercarpet": [
           {
            "marker": {
             "colorbar": {
              "outlinewidth": 0,
              "ticks": ""
             }
            },
            "type": "scattercarpet"
           }
          ],
          "scattergeo": [
           {
            "marker": {
             "colorbar": {
              "outlinewidth": 0,
              "ticks": ""
             }
            },
            "type": "scattergeo"
           }
          ],
          "scattergl": [
           {
            "marker": {
             "colorbar": {
              "outlinewidth": 0,
              "ticks": ""
             }
            },
            "type": "scattergl"
           }
          ],
          "scattermapbox": [
           {
            "marker": {
             "colorbar": {
              "outlinewidth": 0,
              "ticks": ""
             }
            },
            "type": "scattermapbox"
           }
          ],
          "scatterpolar": [
           {
            "marker": {
             "colorbar": {
              "outlinewidth": 0,
              "ticks": ""
             }
            },
            "type": "scatterpolar"
           }
          ],
          "scatterpolargl": [
           {
            "marker": {
             "colorbar": {
              "outlinewidth": 0,
              "ticks": ""
             }
            },
            "type": "scatterpolargl"
           }
          ],
          "scatterternary": [
           {
            "marker": {
             "colorbar": {
              "outlinewidth": 0,
              "ticks": ""
             }
            },
            "type": "scatterternary"
           }
          ],
          "surface": [
           {
            "colorbar": {
             "outlinewidth": 0,
             "ticks": ""
            },
            "colorscale": [
             [
              0,
              "#0d0887"
             ],
             [
              0.1111111111111111,
              "#46039f"
             ],
             [
              0.2222222222222222,
              "#7201a8"
             ],
             [
              0.3333333333333333,
              "#9c179e"
             ],
             [
              0.4444444444444444,
              "#bd3786"
             ],
             [
              0.5555555555555556,
              "#d8576b"
             ],
             [
              0.6666666666666666,
              "#ed7953"
             ],
             [
              0.7777777777777778,
              "#fb9f3a"
             ],
             [
              0.8888888888888888,
              "#fdca26"
             ],
             [
              1,
              "#f0f921"
             ]
            ],
            "type": "surface"
           }
          ],
          "table": [
           {
            "cells": {
             "fill": {
              "color": "#EBF0F8"
             },
             "line": {
              "color": "white"
             }
            },
            "header": {
             "fill": {
              "color": "#C8D4E3"
             },
             "line": {
              "color": "white"
             }
            },
            "type": "table"
           }
          ]
         },
         "layout": {
          "annotationdefaults": {
           "arrowcolor": "#2a3f5f",
           "arrowhead": 0,
           "arrowwidth": 1
          },
          "autotypenumbers": "strict",
          "coloraxis": {
           "colorbar": {
            "outlinewidth": 0,
            "ticks": ""
           }
          },
          "colorscale": {
           "diverging": [
            [
             0,
             "#8e0152"
            ],
            [
             0.1,
             "#c51b7d"
            ],
            [
             0.2,
             "#de77ae"
            ],
            [
             0.3,
             "#f1b6da"
            ],
            [
             0.4,
             "#fde0ef"
            ],
            [
             0.5,
             "#f7f7f7"
            ],
            [
             0.6,
             "#e6f5d0"
            ],
            [
             0.7,
             "#b8e186"
            ],
            [
             0.8,
             "#7fbc41"
            ],
            [
             0.9,
             "#4d9221"
            ],
            [
             1,
             "#276419"
            ]
           ],
           "sequential": [
            [
             0,
             "#0d0887"
            ],
            [
             0.1111111111111111,
             "#46039f"
            ],
            [
             0.2222222222222222,
             "#7201a8"
            ],
            [
             0.3333333333333333,
             "#9c179e"
            ],
            [
             0.4444444444444444,
             "#bd3786"
            ],
            [
             0.5555555555555556,
             "#d8576b"
            ],
            [
             0.6666666666666666,
             "#ed7953"
            ],
            [
             0.7777777777777778,
             "#fb9f3a"
            ],
            [
             0.8888888888888888,
             "#fdca26"
            ],
            [
             1,
             "#f0f921"
            ]
           ],
           "sequentialminus": [
            [
             0,
             "#0d0887"
            ],
            [
             0.1111111111111111,
             "#46039f"
            ],
            [
             0.2222222222222222,
             "#7201a8"
            ],
            [
             0.3333333333333333,
             "#9c179e"
            ],
            [
             0.4444444444444444,
             "#bd3786"
            ],
            [
             0.5555555555555556,
             "#d8576b"
            ],
            [
             0.6666666666666666,
             "#ed7953"
            ],
            [
             0.7777777777777778,
             "#fb9f3a"
            ],
            [
             0.8888888888888888,
             "#fdca26"
            ],
            [
             1,
             "#f0f921"
            ]
           ]
          },
          "colorway": [
           "#636efa",
           "#EF553B",
           "#00cc96",
           "#ab63fa",
           "#FFA15A",
           "#19d3f3",
           "#FF6692",
           "#B6E880",
           "#FF97FF",
           "#FECB52"
          ],
          "font": {
           "color": "#2a3f5f"
          },
          "geo": {
           "bgcolor": "white",
           "lakecolor": "white",
           "landcolor": "#E5ECF6",
           "showlakes": true,
           "showland": true,
           "subunitcolor": "white"
          },
          "hoverlabel": {
           "align": "left"
          },
          "hovermode": "closest",
          "mapbox": {
           "style": "light"
          },
          "paper_bgcolor": "white",
          "plot_bgcolor": "#E5ECF6",
          "polar": {
           "angularaxis": {
            "gridcolor": "white",
            "linecolor": "white",
            "ticks": ""
           },
           "bgcolor": "#E5ECF6",
           "radialaxis": {
            "gridcolor": "white",
            "linecolor": "white",
            "ticks": ""
           }
          },
          "scene": {
           "xaxis": {
            "backgroundcolor": "#E5ECF6",
            "gridcolor": "white",
            "gridwidth": 2,
            "linecolor": "white",
            "showbackground": true,
            "ticks": "",
            "zerolinecolor": "white"
           },
           "yaxis": {
            "backgroundcolor": "#E5ECF6",
            "gridcolor": "white",
            "gridwidth": 2,
            "linecolor": "white",
            "showbackground": true,
            "ticks": "",
            "zerolinecolor": "white"
           },
           "zaxis": {
            "backgroundcolor": "#E5ECF6",
            "gridcolor": "white",
            "gridwidth": 2,
            "linecolor": "white",
            "showbackground": true,
            "ticks": "",
            "zerolinecolor": "white"
           }
          },
          "shapedefaults": {
           "line": {
            "color": "#2a3f5f"
           }
          },
          "ternary": {
           "aaxis": {
            "gridcolor": "white",
            "linecolor": "white",
            "ticks": ""
           },
           "baxis": {
            "gridcolor": "white",
            "linecolor": "white",
            "ticks": ""
           },
           "bgcolor": "#E5ECF6",
           "caxis": {
            "gridcolor": "white",
            "linecolor": "white",
            "ticks": ""
           }
          },
          "title": {
           "x": 0.05
          },
          "xaxis": {
           "automargin": true,
           "gridcolor": "white",
           "linecolor": "white",
           "ticks": "",
           "title": {
            "standoff": 15
           },
           "zerolinecolor": "white",
           "zerolinewidth": 2
          },
          "yaxis": {
           "automargin": true,
           "gridcolor": "white",
           "linecolor": "white",
           "ticks": "",
           "title": {
            "standoff": 15
           },
           "zerolinecolor": "white",
           "zerolinewidth": 2
          }
         }
        },
        "xaxis": {
         "anchor": "y",
         "domain": [
          0,
          1
         ],
         "title": {
          "text": "index"
         }
        },
        "yaxis": {
         "anchor": "x",
         "domain": [
          0,
          1
         ],
         "title": {
          "text": "value"
         }
        }
       }
      },
      "text/html": [
       "<div>                            <div id=\"ecf2ff8c-c74f-4c27-b9d5-78caa5a904d5\" class=\"plotly-graph-div\" style=\"height:525px; width:100%;\"></div>            <script type=\"text/javascript\">                require([\"plotly\"], function(Plotly) {                    window.PLOTLYENV=window.PLOTLYENV || {};                                    if (document.getElementById(\"ecf2ff8c-c74f-4c27-b9d5-78caa5a904d5\")) {                    Plotly.newPlot(                        \"ecf2ff8c-c74f-4c27-b9d5-78caa5a904d5\",                        [{\"hovertemplate\":\"variable=0<br>index=%{x}<br>value=%{y}<extra></extra>\",\"legendgroup\":\"0\",\"line\":{\"color\":\"#636efa\",\"dash\":\"solid\"},\"marker\":{\"symbol\":\"circle\"},\"mode\":\"lines\",\"name\":\"0\",\"showlegend\":true,\"x\":[0,1,2,3,4,5,6,7,8,9,10,11,12,13,14,15,16,17,18,19,20,21,22,23,24,25,26,27,28,29,30,31,32,33,34,35,36,37,38,39,40,41,42,43,44,45,46,47,48,49,50,51,52,53,54,55,56,57,58,59,60,61,62,63,64,65,66,67,68,69,70,71,72,73,74,75,76,77,78,79,80,81,82,83,84,85,86,87,88,89,90,91,92,93,94,95,96,97,98,99,100,101,102,103,104,105,106,107,108,109,110,111,112,113,114,115,116,117,118,119,120,121,122,123,124,125,126,127,128,129,130,131,132,133,134,135,136,137,138,139,140,141,142,143,144,145,146,147,148,149,150,151,152,153,154,155,156,157,158,159,160,161,162,163,164,165,166,167,168,169,170,171,172,173,174,175,176,177,178,179,180,181,182,183,184,185,186,187,188,189,190,191,192,193,194,195,196,197,198,199,200,201,202,203,204,205,206,207,208,209,210,211,212,213,214,215,216,217,218,219,220,221,222,223,224,225,226,227,228,229,230,231,232,233,234,235,236,237,238,239,240,241,242,243,244,245,246,247,248,249,250,251,252,253,254,255,256,257,258,259,260,261,262,263,264,265,266,267,268,269,270,271,272,273,274,275,276,277,278,279,280,281,282,283,284,285,286,287,288,289,290,291,292,293,294,295,296,297,298,299,300,301,302,303,304,305,306,307,308,309,310,311,312,313,314,315,316,317,318,319,320,321,322,323,324,325,326,327,328,329,330,331,332,333,334,335,336,337,338,339,340,341,342,343,344,345,346,347,348,349,350,351,352,353,354,355,356,357,358,359,360,361,362,363,364,365,366,367,368,369,370,371,372,373,374,375,376,377,378,379,380,381,382,383,384,385,386,387,388,389,390,391,392,393,394,395,396,397,398,399,400,401,402,403,404,405,406,407,408,409,410,411,412,413,414,415,416,417,418,419,420,421,422,423,424,425,426,427,428,429,430,431,432,433,434,435,436,437,438,439,440,441,442,443,444,445,446,447,448,449,450,451,452,453,454,455,456,457,458,459,460,461,462,463,464,465,466,467,468,469,470,471,472,473,474,475,476,477,478,479,480,481,482,483,484,485,486,487,488,489,490,491,492,493,494,495,496,497,498,499,500,501,502,503,504,505,506,507,508,509,510,511,512,513,514,515,516,517,518,519,520,521,522,523,524,525,526,527,528,529,530,531,532,533,534,535,536,537,538,539,540,541,542,543,544,545,546,547,548,549,550,551,552,553,554,555,556,557,558,559,560,561,562,563,564,565,566,567,568,569,570,571,572,573,574,575,576,577,578,579,580,581,582,583,584,585,586,587,588,589,590,591,592,593,594,595,596,597,598,599,600,601,602,603,604,605,606,607,608,609,610,611,612,613,614,615,616,617,618,619,620,621,622,623,624,625,626,627,628,629,630,631,632,633,634,635,636,637,638,639,640,641,642,643,644,645,646,647,648,649,650,651,652,653,654,655,656,657,658,659,660,661,662,663,664,665,666,667,668,669,670,671,672,673,674,675,676,677,678,679,680,681,682,683,684,685,686,687,688,689,690,691,692,693,694,695,696,697,698,699,700,701,702,703,704,705,706,707,708,709,710,711,712,713,714,715,716,717,718,719,720,721,722,723,724,725,726,727,728,729,730,731,732,733,734,735,736,737,738,739,740,741,742,743,744,745,746,747,748,749,750,751,752,753,754,755,756,757,758,759,760,761,762,763,764,765,766,767,768,769,770,771,772,773,774,775,776,777,778,779,780,781,782,783,784,785,786,787,788,789,790,791,792,793,794,795,796,797,798,799,800,801,802,803,804,805,806,807,808,809,810,811,812,813,814,815,816,817,818,819,820,821,822,823,824,825,826,827,828,829,830,831,832,833,834,835,836,837,838,839,840,841,842,843,844,845,846,847,848,849,850,851,852,853,854,855,856,857,858,859,860,861,862,863,864,865,866,867,868,869,870,871,872,873,874,875,876,877,878,879,880,881,882,883,884,885,886,887,888,889,890,891,892,893,894,895,896,897,898,899,900,901,902,903,904,905,906,907,908,909,910,911,912,913,914,915,916,917,918,919,920,921,922,923,924,925,926,927,928,929,930,931,932,933,934,935,936,937,938,939,940,941,942,943,944,945,946,947,948,949,950,951,952,953,954,955,956,957,958,959,960,961,962,963,964,965,966,967,968,969,970,971,972,973,974,975,976,977,978,979,980,981,982,983,984,985,986,987,988,989,990,991,992,993,994,995,996,997,998,999,1000,1001,1002,1003,1004,1005,1006,1007,1008,1009,1010,1011,1012,1013,1014,1015,1016,1017,1018,1019,1020,1021,1022,1023,1024,1025,1026,1027,1028,1029,1030,1031,1032,1033,1034,1035,1036,1037,1038,1039,1040,1041,1042,1043,1044,1045,1046,1047,1048,1049,1050,1051,1052,1053,1054,1055,1056,1057,1058,1059,1060,1061,1062,1063,1064,1065,1066,1067,1068,1069,1070,1071,1072,1073,1074,1075,1076,1077,1078,1079,1080,1081,1082,1083,1084,1085,1086,1087,1088,1089,1090,1091,1092,1093,1094,1095,1096,1097,1098,1099,1100,1101,1102,1103,1104,1105,1106,1107,1108,1109,1110,1111,1112,1113,1114,1115,1116,1117,1118,1119,1120,1121,1122,1123,1124,1125,1126,1127,1128,1129,1130,1131,1132,1133,1134,1135,1136,1137,1138,1139,1140,1141,1142,1143,1144,1145,1146,1147,1148,1149,1150,1151,1152,1153,1154,1155,1156,1157,1158,1159,1160,1161,1162,1163,1164,1165,1166,1167,1168,1169,1170,1171,1172,1173,1174,1175,1176,1177,1178,1179,1180,1181,1182,1183,1184,1185,1186,1187,1188,1189,1190,1191,1192,1193,1194,1195,1196,1197,1198,1199,1200,1201,1202,1203,1204,1205,1206,1207,1208,1209,1210,1211,1212,1213,1214,1215,1216,1217,1218,1219,1220,1221,1222,1223,1224,1225,1226,1227,1228,1229],\"xaxis\":\"x\",\"y\":[1.7767517566680908,0.5431824922561646,0.8305211663246155,0.9204249978065491,2.4237568378448486,1.0569312572479248,0.8022876977920532,1.6813393831253052,0.6651206612586975,0.8683801889419556,1.3983043432235718,0.9296869039535522,1.5696594715118408,1.5675296783447266,0.7062617540359497,1.1217221021652222,0.7724927067756653,1.0487669706344604,1.1709299087524414,1.3148571252822876,1.3755769729614258,1.4078052043914795,0.6913492679595947,1.008406639099121,1.1962226629257202,0.488627165555954,0.8891465663909912,1.2797316312789917,1.209012508392334,1.318319320678711,0.8892802596092224,0.9195309281349182,1.646140456199646,1.5393251180648804,0.7551418542861938,0.8989849090576172,0.7126063108444214,0.6599089503288269,1.5129265785217285,1.0416926145553589,1.6840629577636719,1.2253233194351196,2.2844388484954834,0.9722183346748352,1.0079702138900757,1.162859559059143,1.4246271848678589,1.5007120370864868,1.000631332397461,1.1083678007125854,0.6702307462692261,1.0498449802398682,0.8465757369995117,0.6684308648109436,1.7931623458862305,1.4100650548934937,0.5364658832550049,0.92461758852005,1.1436734199523926,1.1657640933990479,1.6148194074630737,0.9379689693450928,0.7857852578163147,1.3122276067733765,0.535000205039978,0.4540065824985504,1.0280518531799316,1.5939298868179321,0.7849178314208984,1.1513100862503052,0.8785298466682434,1.2562073469161987,1.2751811742782593,0.8337172865867615,1.1887178421020508,0.8555492162704468,1.827194333076477,0.7480109333992004,0.5416222810745239,0.47888004779815674,0.3450639545917511,1.3772298097610474,0.9604801535606384,0.3936452865600586,0.664417028427124,0.9993841648101807,1.2289949655532837,1.6485458612442017,0.8122627139091492,0.6981812715530396,1.3500887155532837,1.9884536266326904,1.1908118724822998,0.7431210279464722,0.5423528552055359,0.8318047523498535,0.5999104380607605,1.2023820877075195,1.4107506275177002,1.236398696899414,1.026726484298706,1.1606255769729614,1.390195369720459,0.6489028334617615,0.9758209586143494,1.564224123954773,1.10558021068573,1.3869496583938599,0.7899687886238098,0.9645675420761108,1.0566074848175049,0.6148941516876221,0.7861307263374329,0.6084064245223999,2.8988723754882812,0.7929084300994873,0.5125632286071777,0.792904257774353,0.9000007510185242,1.3646035194396973,1.5494500398635864,1.0996897220611572,1.0716547966003418,0.8789745569229126,1.5702630281448364,1.8012570142745972,1.781622290611267,0.7354037165641785,0.9193161725997925,0.34105420112609863,0.8616001605987549,1.2668992280960083,0.6315167546272278,1.002486228942871,1.7036916017532349,1.3432362079620361,0.5572606325149536,1.2172974348068237,0.8578685522079468,0.7035332322120667,0.839445173740387,1.9846608638763428,1.1326974630355835,0.9779791235923767,1.294376015663147,1.7170161008834839,0.6921724081039429,1.087266206741333,1.0462751388549805,1.1487845182418823,1.3021091222763062,1.4991449117660522,0.648941159248352,1.0304570198059082,0.8165585398674011,1.098510503768921,1.0516078472137451,0.7461140751838684,0.7994675040245056,0.9624630808830261,0.937670886516571,1.1080950498580933,1.7273461818695068,1.0014114379882812,1.0210318565368652,0.7562521696090698,1.0458307266235352,0.7910557389259338,0.7769280672073364,2.0849475860595703,0.8740536570549011,0.7616195678710938,1.0293586254119873,0.8920642733573914,1.154755711555481,0.8251464366912842,0.8731338381767273,1.0004173517227173,1.1079264879226685,1.1310577392578125,1.7231684923171997,0.7293016910552979,1.0365654230117798,2.058265209197998,1.6975542306900024,1.3122704029083252,1.1283797025680542,0.41897639632225037,0.36218059062957764,0.7389108538627625,1.1851844787597656,1.1955053806304932,0.6949364542961121,0.8722071051597595,1.2445831298828125,1.3280720710754395,1.073220133781433,0.9958663582801819,0.8845441937446594,1.2834442853927612,1.0558415651321411,0.40246525406837463,0.9549562335014343,1.5307685136795044,1.1000467538833618,1.5080615282058716,0.42937761545181274,1.1832046508789062,0.7728002071380615,0.6952701807022095,0.6601471304893494,0.2990410029888153,0.4975225031375885,1.0803619623184204,0.9877575039863586,0.274738073348999,0.614543616771698,0.6083575487136841,0.6026009321212769,0.31767040491104126,0.7848874926567078,1.3415896892547607,0.27630454301834106,0.7990238070487976,0.637614369392395,0.8269641399383545,0.1691552847623825,0.6591325402259827,0.4968978762626648,0.534760594367981,0.4969785213470459,0.4587835967540741,0.6615763306617737,0.22120995819568634,0.7976114749908447,0.4166794419288635,0.3125033676624298,1.0474750995635986,0.45614877343177795,0.5399804711341858,0.940778374671936,1.2304130792617798,1.1231745481491089,1.7684882879257202,0.4456864297389984,1.2284564971923828,0.30846619606018066,0.8102331757545471,0.626737654209137,1.0035024881362915,0.32045596837997437,0.5489805340766907,0.8349888920783997,0.19965434074401855,0.5785946846008301,0.8009275197982788,1.4577590227127075,0.9332211017608643,0.37086597084999084,0.9264585375785828,0.5018158555030823,0.21165651082992554,0.48944324254989624,0.29210373759269714,0.6668795943260193,0.3135867714881897,0.5576677322387695,0.32518085837364197,0.5333942770957947,0.9253718256950378,0.8553668856620789,0.5931264758110046,0.9534451365470886,0.5446321964263916,0.41580888628959656,1.1361366510391235,0.6668544411659241,0.6334379315376282,0.3964148461818695,0.6161043047904968,0.7159463763237,0.6704489588737488,1.087103009223938,0.506807804107666,0.5774101614952087,0.5758576989173889,1.0388412475585938,1.1817429065704346,0.713367760181427,1.2299188375473022,0.7641847729682922,0.3440483808517456,0.8608332872390747,0.34346792101860046,1.0280864238739014,0.5569160580635071,0.31647926568984985,0.8114806413650513,0.5293458700180054,0.7358998656272888,0.6499207615852356,0.350424587726593,1.1406577825546265,0.7416351437568665,0.41153690218925476,0.5973374843597412,0.7509828805923462,0.6451889276504517,0.6766391396522522,0.30262258648872375,0.5887634754180908,0.36907973885536194,0.9254881739616394,1.579851508140564,0.9851936101913452,0.5905295014381409,0.33388930559158325,0.1267247051000595,0.4154641032218933,0.9574099779129028,0.8529862761497498,0.5597451329231262,0.8594486117362976,0.6819272637367249,0.48087140917778015,0.5654955506324768,0.5746035575866699,1.0778824090957642,0.7172491550445557,0.49766138195991516,0.8813103437423706,0.2792309820652008,0.29282844066619873,1.1202867031097412,1.0424264669418335,0.2164921909570694,0.5082004070281982,0.48681026697158813,1.1523854732513428,0.7725425362586975,0.933754026889801,1.3463656902313232,0.27947577834129333,1.0134379863739014,0.6650145649909973,0.5558212995529175,1.4702730178833008,0.36032161116600037,0.9833669662475586,1.1313503980636597,0.8692071437835693,0.831455647945404,0.26003023982048035,0.5589531064033508,0.4162675738334656,0.37878909707069397,0.9527680277824402,0.3246999680995941,0.8241586089134216,0.31631597876548767,0.3058210015296936,0.603342592716217,1.2615658044815063,1.1842299699783325,0.32475006580352783,0.3725370466709137,0.4023383855819702,1.275015950202942,0.4211691915988922,1.143249750137329,0.649821400642395,0.827284574508667,0.5295886397361755,0.478002667427063,1.371945858001709,0.34070852398872375,0.3728947937488556,0.4433997571468353,0.23601073026657104,0.7173961997032166,0.4515498876571655,0.6569928526878357,0.6699692010879517,0.25486090779304504,1.6831027269363403,0.30080446600914,0.4120809733867645,0.6392513513565063,0.5287458300590515,0.4137662351131439,0.782276451587677,0.6485975384712219,0.6481965780258179,0.6811129450798035,0.9620602130889893,0.6274937987327576,0.49715274572372437,0.7231969833374023,0.8227791786193848,0.5960607528686523,0.5809193849563599,0.36322546005249023,0.6705579161643982,1.55841064453125,0.7984291911125183,1.0730290412902832,0.356477826833725,0.7373749017715454,0.7074585556983948,0.6101805567741394,0.6499989032745361,0.9963210821151733,1.0289137363433838,1.5117666721343994,0.613260805606842,1.3412116765975952,0.8974171876907349,0.6014898419380188,1.4558215141296387,0.5845685601234436,0.6252310872077942,0.6934337615966797,1.0648808479309082,0.8657927513122559,0.8995389342308044,0.4779670536518097,1.1900416612625122,0.8243028521537781,0.6490824818611145,0.3809143900871277,0.5561106204986572,0.74107426404953,0.7504148483276367,1.106749415397644,0.8829966187477112,0.9314606189727783,0.9582280516624451,0.6807722449302673,1.3494924306869507,0.9405366778373718,0.5760190486907959,0.544633686542511,1.2291871309280396,0.5848381519317627,1.263211965560913,0.6975676417350769,2.015160083770752,0.7744713425636292,2.3835346698760986,0.9578619599342346,0.8184080719947815,0.9114681482315063,0.5318089127540588,1.0098047256469727,0.5229999423027039,0.6138511896133423,0.74314945936203,0.9414201974868774,1.1051841974258423,0.864267885684967,0.7921675443649292,0.7340067625045776,0.9796867370605469,1.2329641580581665,0.8550477027893066,1.0678431987762451,0.7920347452163696,0.5169724822044373,1.0029174089431763,1.0542387962341309,1.0850920677185059,0.6758102774620056,1.064917802810669,0.7132471799850464,1.0356078147888184,0.4271782338619232,0.8300681114196777,0.43340402841567993,0.7161851525306702,0.9356003403663635,0.7674452066421509,0.8368542790412903,0.8691850304603577,0.7212668657302856,0.6428302526473999,0.7978805303573608,1.5064088106155396,1.006079912185669,0.7293428778648376,1.0831754207611084,0.5978227853775024,0.751327633857727,1.0646246671676636,1.1240079402923584,1.030801773071289,0.5800496339797974,1.1595566272735596,0.357940137386322,1.0106383562088013,0.7916876077651978,0.802506148815155,1.4381343126296997,1.039506196975708,0.8039495944976807,1.0925031900405884,0.7981852293014526,0.49561774730682373,0.9301350116729736,0.6922886967658997,0.7992240786552429,0.8803994059562683,1.0722802877426147,0.5565012097358704,0.623438835144043,0.5022198557853699,0.9384092688560486,0.5998446345329285,0.6461660265922546,0.8460084795951843,0.7188284397125244,0.692437469959259,0.5059595704078674,1.103479266166687,0.9289083480834961,0.981388509273529,0.8379706740379333,0.5321958065032959,1.0064430236816406,0.7881101965904236,0.771934449672699,0.6731853485107422,1.1349501609802246,0.9368069767951965,0.970950722694397,0.4312111735343933,0.5367516875267029,0.6841760873794556,1.1687512397766113,0.8803172707557678,0.9797310829162598,0.7335572838783264,0.7333996891975403,0.8800684213638306,1.039111614227295,0.8160708546638489,1.1706856489181519,0.39596617221832275,0.8842248916625977,1.0600312948226929,0.46468180418014526,0.703140914440155,0.8696643710136414,0.572014570236206,0.970137894153595,0.7622979283332825,0.571571946144104,0.6286591291427612,0.5837138295173645,1.082602620124817,1.2743690013885498,0.57673180103302,0.5873336791992188,0.4435979425907135,1.1146196126937866,0.6043515801429749,1.1150588989257812,1.167401909828186,0.9697039723396301,0.7196035981178284,0.8466022610664368,1.0689889192581177,0.7030216455459595,0.7525702714920044,0.6915435194969177,1.1509181261062622,0.5604265928268433,1.0366169214248657,1.330075979232788,1.34464430809021,1.7193957567214966,1.06195867061615,1.337702751159668,0.7242527604103088,0.49634015560150146,0.5460638999938965,0.7899836301803589,0.9717366099357605,0.7321105599403381,0.9183335304260254,0.7585839629173279,0.38518425822257996,0.6188382506370544,0.7276700139045715,1.2598025798797607,0.4114466905593872,0.810151219367981,0.7422773241996765,1.0519495010375977,0.9800538420677185,0.44298040866851807,0.7810899615287781,0.806484580039978,0.5907678604125977,1.1666388511657715,1.1855558156967163,1.0611896514892578,0.22195781767368317,0.6707661151885986,0.8055130839347839,0.9055037498474121,1.2186752557754517,1.2768644094467163,0.6564119458198547,0.857517659664154,0.6248742341995239,1.2808842658996582,0.5314295887947083,0.465373694896698,0.7638072967529297,0.9905802011489868,0.8815049529075623,0.5048084259033203,0.7319878339767456,0.8637444972991943,0.8111715316772461,0.6264656782150269,0.5739702582359314,0.9738714694976807,1.3533457517623901,0.8443760871887207,0.48080548644065857,0.5141030550003052,0.7071589231491089,0.8437397480010986,1.0630168914794922,1.1410174369812012,0.34284141659736633,0.543344259262085,1.0144569873809814,0.7074233889579773,0.7490872144699097,0.3246280550956726,0.44863778352737427,0.3608165681362152,0.76642906665802,0.8743883371353149,0.9342591762542725,0.7051647305488586,0.6904105544090271,0.8947060704231262,0.80828857421875,0.7318475842475891,1.0531785488128662,0.7418830990791321,0.5487240552902222,1.032647967338562,0.492902934551239,0.933106005191803,0.7383201718330383,0.236599400639534,0.5556393265724182,0.7272622585296631,0.7641878724098206,0.7853546738624573,0.44921064376831055,1.0264911651611328,0.46782776713371277,1.0017828941345215,0.9157902002334595,0.5903348326683044,1.0155577659606934,0.47934189438819885,0.42451608180999756,0.5364757776260376,0.8343671560287476,0.5098016858100891,0.6717600226402283,0.7868616580963135,0.9891924262046814,0.7150036692619324,0.8419679403305054,0.4599488079547882,0.5583364963531494,0.8514574766159058,0.9753805994987488,0.7593812346458435,0.8222717642784119,0.4202454388141632,0.9693885445594788,0.7911495566368103,0.684766411781311,0.46011218428611755,0.8547148108482361,0.5740624666213989,0.35158413648605347,0.5640245079994202,1.156323790550232,0.6195836067199707,0.8591116070747375,0.8962200880050659,0.4275742769241333,0.9776060581207275,0.40853941440582275,1.1106353998184204,0.632021963596344,0.4779598116874695,1.0004544258117676,0.8006625771522522,0.6106541752815247,0.6637520790100098,0.4535943269729614,0.4557238519191742,0.8902891278266907,1.008836030960083,0.6569831371307373,0.6866108775138855,0.6379966139793396,0.6464886665344238,0.6885197162628174,0.8263294100761414,0.49865344166755676,0.9275389909744263,1.298083782196045,0.5955155491828918,1.310721516609192,0.7857667803764343,0.6786988973617554,0.6744316816329956,0.9938806891441345,0.23400163650512695,0.8792195320129395,0.8613516092300415,0.9585050344467163,0.8935319185256958,1.2688931226730347,0.7359158396720886,0.8857375383377075,0.9545535445213318,0.5949012637138367,0.8266022205352783,1.0053508281707764,0.5430795550346375,0.5889421105384827,0.8514060378074646,1.1197447776794434,0.6133195757865906,0.56856769323349,0.6801571846008301,1.7115963697433472,0.5990872383117676,0.4749462902545929,0.9884876012802124,0.7772446870803833,0.8577190041542053,0.5595785975456238,0.5730283856391907,0.631918728351593,0.7209086418151855,1.1430699825286865,0.5932586789131165,0.8646752238273621,0.41848230361938477,1.2712458372116089,0.808038055896759,0.463604211807251,0.7222340106964111,0.611924946308136,0.5313040018081665,0.5077769756317139,0.7740614414215088,0.6691800355911255,0.5090071558952332,0.8428268432617188,0.9891931414604187,0.6295810341835022,0.7991086840629578,0.7435006499290466,0.4824424982070923,0.8582211136817932,1.0195614099502563,0.73408442735672,0.605608344078064,1.3225512504577637,0.6686978340148926,0.6173483729362488,0.650881826877594,0.6228920817375183,0.6611565947532654,0.7246655225753784,0.4294184148311615,0.1959024965763092,0.3539227843284607,0.9150381088256836,0.9564306735992432,0.574834942817688,0.9032379388809204,0.7658638954162598,0.6477723717689514,0.5396339297294617,0.695525050163269,0.5886436700820923,1.0145463943481445,0.8094261288642883,0.44350722432136536,0.7452828884124756,1.0467971563339233,0.5392633676528931,0.5088894963264465,0.4421362578868866,0.5237266421318054,0.41263970732688904,0.3970835208892822,1.7150304317474365,0.7857107520103455,0.38591161370277405,0.9586641192436218,0.7588154673576355,0.6414846777915955,1.3293744325637817,1.4306449890136719,0.5910188555717468,0.43522122502326965,0.5395178198814392,0.3934958279132843,0.6767870783805847,0.45216265320777893,0.6585991382598877,0.7610167860984802,0.2608301341533661,0.5875794887542725,0.5194793343544006,1.1479805707931519,0.9007742404937744,0.6312656998634338,0.8148912191390991,0.9414951205253601,0.6441386342048645,0.555898129940033,0.25465717911720276,0.7934772372245789,0.3460416793823242,0.7645614743232727,1.253556251525879,0.5902687907218933,0.40991663932800293,0.9416519999504089,0.6625372767448425,0.880569577217102,0.6308767795562744,1.7274210453033447,0.7865285873413086,1.0516895055770874,0.3501777946949005,1.162092685699463,0.5960441827774048,0.9147432446479797,0.6493796110153198,0.7062810063362122,0.6602936387062073,0.4730147123336792,0.6904820203781128,1.335529088973999,0.3333868086338043,0.5270769000053406,0.9620755910873413,1.0765538215637207,0.8308321237564087,0.6012301445007324,1.0242412090301514,0.7097799777984619,0.9782969355583191,0.4268900752067566,0.9905386567115784,1.888919711112976,0.32230517268180847,0.8182799816131592,1.1601808071136475,0.5881937742233276,0.7925359010696411,0.8761180639266968,1.194517970085144,0.3308315575122833,0.8165523409843445,1.2684468030929565,0.9484493732452393,0.7553684115409851,0.7600134611129761,0.7680944204330444,1.1055907011032104,1.0767040252685547,0.989768385887146,0.9825049638748169,1.0671879053115845,0.42416369915008545,0.8727366328239441,0.4242759048938751,1.652418613433838,0.8991744518280029,0.8345290422439575,0.5373476147651672,0.804684042930603,0.6795934438705444,1.3074395656585693,0.7759215831756592,1.2457834482192993,0.6630108952522278,0.655509889125824,0.4596426486968994,0.7021673917770386,0.7220432162284851,1.6246949434280396,1.0195114612579346,0.9152710437774658,0.8204643130302429,0.5530226826667786,0.6782854795455933,0.9044961333274841,0.9440222382545471,1.1916379928588867,1.0737595558166504,0.4875182509422302,0.5424897074699402,1.0544884204864502,1.266654372215271,0.4833080470561981,0.9771499633789062,0.8354699015617371,0.7345152497291565,1.3383030891418457,1.5328056812286377,0.4797939360141754,0.4444001317024231,0.917204737663269,0.766951322555542,0.8984408974647522,0.7388027906417847,0.36273565888404846,0.45784640312194824,0.9287667870521545,0.5918500423431396,0.24722187221050262,0.4798629879951477,0.5632588863372803,1.2518070936203003,1.0329445600509644,1.145478367805481,0.4261023998260498,0.7308866381645203,0.7932388186454773,0.8603650331497192,0.5699328780174255,0.7744443416595459,0.8822028636932373,0.5925434827804565,0.5910677313804626,0.7415072917938232,0.3717389702796936,1.0757319927215576,0.5170533657073975,0.7575699090957642,0.5571998953819275,0.6733661890029907,0.5577037334442139,0.4565584361553192,0.7991144061088562,0.7235989570617676,0.6898161172866821,1.0966944694519043,0.5657836198806763,1.0463896989822388,1.0209256410598755,0.9017353057861328,0.9127903580665588,0.9164673089981079,1.0798563957214355,0.6796659827232361,1.0508372783660889,0.9853795170783997,0.8541725277900696,0.5935221910476685,1.0574322938919067,0.8009412884712219,0.671653151512146,0.6432671546936035,0.6390199661254883,0.8031502366065979,0.5826282501220703,1.1721872091293335,0.6474578976631165,0.5452308058738708,0.8150292634963989,0.5036455392837524,0.9007799625396729,0.41609740257263184,0.9933342337608337,0.5001122951507568,0.8719649314880371,0.403181254863739,0.9164227843284607,0.5391137003898621,0.4540913701057434,0.7516474723815918,0.6184151768684387,0.7581796646118164,1.4531426429748535,1.0248171091079712,0.8216577768325806,0.6979817748069763,0.2843157649040222,0.8703331351280212,0.3471631407737732,1.168473482131958,0.5886019468307495,0.5736345648765564,0.8274316787719727,1.3213194608688354,1.1624916791915894,0.9919211864471436,0.8077095746994019,0.6821010112762451,1.0870178937911987,0.5378454923629761,1.098897933959961,0.837907075881958,0.6139243841171265,1.3887442350387573,1.3727308511734009,1.0895869731903076,0.8611463308334351,0.8818013668060303,0.8312287330627441,1.0402345657348633,0.8871132135391235,0.8223724365234375,0.823239266872406,1.1505632400512695,0.737736165523529,0.6660687327384949,0.5216507911682129,0.7943457961082458,1.0827751159667969,0.9160457849502563,1.0290899276733398,0.8124098181724548,0.6357839107513428,0.9710270762443542,1.0615646839141846,1.1449378728866577,1.0756334066390991,1.0940139293670654,1.0775707960128784,0.9249232411384583,0.8305463194847107,0.5063212513923645,0.9016697406768799,0.9772992730140686,1.3392378091812134,0.8918741345405579,0.8054929971694946,1.0017054080963135,0.8821738362312317,0.6273892521858215,0.7112635970115662,1.006484866142273,0.6659724712371826,1.3363926410675049,0.5230923891067505,0.6500697731971741,1.119057297706604,0.8209343552589417,0.9321165084838867,0.9096541404724121,0.733820915222168,1.254696249961853,0.6525256633758545,0.9602749347686768,1.1833969354629517,1.076380968093872,0.598207950592041,0.7310875654220581,0.44550713896751404,1.1754450798034668,1.1917272806167603,0.809207022190094,0.8836444020271301,0.8871902227401733,0.8801061511039734,0.790500819683075,0.962022066116333,0.5743387341499329,0.5703399777412415,0.6333796977996826,1.2846015691757202,0.6169644594192505,0.606692373752594,0.7483633756637573,0.8528667688369751,0.7555028796195984,0.4394782483577728,0.5793472528457642,0.6420984864234924,0.5253158211708069,0.8388001918792725,0.45512303709983826,0.9001990556716919,0.8858342170715332,0.5355563759803772,0.8865916728973389,1.1031745672225952,0.8655914068222046,0.8042893409729004,0.6368616223335266,0.6535260677337646,0.5982574820518494,0.8674483299255371,0.884848952293396,0.9286187887191772,0.6855714917182922,0.6600215435028076,1.0221220254898071,1.1356050968170166,0.7590779066085815,0.7088848948478699,0.5226756930351257,0.9368389248847961,0.8178242444992065,0.4636644423007965,1.0549139976501465,0.8053179979324341,1.0066136121749878,0.647331953048706,0.9709379076957703,0.6022985577583313,0.7456374168395996,0.8955564498901367,1.0153623819351196,0.4754575490951538,0.808340311050415,1.188219428062439,0.7582325339317322,0.9532076120376587,0.9764382243156433,0.8146801590919495,1.1330093145370483,1.1119710206985474,0.9966292381286621,0.6634911894798279,1.2349839210510254,1.037627100944519,0.8694068789482117,1.3491439819335938,1.1135296821594238,0.505889356136322,1.18378484249115,0.9729933142662048,1.2687873840332031,0.9098220467567444,0.7804794907569885,0.7498826384544373,1.1048200130462646,1.1315531730651855,1.3158373832702637,1.1172218322753906,0.5158844590187073,0.5769232511520386,0.9194021821022034,0.8865005373954773,0.9687817692756653,0.7476077675819397,1.1708579063415527,0.9248949885368347,1.1521635055541992,0.49189019203186035,1.1319036483764648,1.2520323991775513,0.893044114112854,0.7287826538085938,1.3268768787384033,0.8687331080436707,1.1794198751449585,0.6666263937950134,1.1929917335510254,0.5766841173171997,0.8377939462661743,1.2540181875228882,1.0866731405258179,1.5678257942199707,1.1547404527664185,0.7296034693717957,1.1728568077087402,1.1257225275039673,1.064048409461975,1.2546526193618774,1.0191384553909302,0.8627414107322693,1.0107502937316895,0.9619185924530029,1.0148839950561523,0.9514203667640686,1.1177704334259033,1.164724349975586,0.8025274872779846,0.9212782979011536,1.2286969423294067,1.1327183246612549,0.8226237297058105,1.26692795753479,0.6583203077316284,1.0278239250183105,0.9522627592086792,1.007906198501587,1.1921145915985107,1.171865463256836,1.4450855255126953,0.790535032749176,1.0834681987762451,0.9019405245780945,1.2838835716247559,1.192016839981079,0.915742039680481,0.9302131533622742,0.6283085346221924,0.6751716136932373,1.3820600509643555,1.1462019681930542,1.3325573205947876,1.010563611984253,1.0370841026306152,1.4843825101852417,0.9791331887245178],\"yaxis\":\"y\",\"type\":\"scattergl\"}],                        {\"template\":{\"data\":{\"bar\":[{\"error_x\":{\"color\":\"#2a3f5f\"},\"error_y\":{\"color\":\"#2a3f5f\"},\"marker\":{\"line\":{\"color\":\"#E5ECF6\",\"width\":0.5},\"pattern\":{\"fillmode\":\"overlay\",\"size\":10,\"solidity\":0.2}},\"type\":\"bar\"}],\"barpolar\":[{\"marker\":{\"line\":{\"color\":\"#E5ECF6\",\"width\":0.5},\"pattern\":{\"fillmode\":\"overlay\",\"size\":10,\"solidity\":0.2}},\"type\":\"barpolar\"}],\"carpet\":[{\"aaxis\":{\"endlinecolor\":\"#2a3f5f\",\"gridcolor\":\"white\",\"linecolor\":\"white\",\"minorgridcolor\":\"white\",\"startlinecolor\":\"#2a3f5f\"},\"baxis\":{\"endlinecolor\":\"#2a3f5f\",\"gridcolor\":\"white\",\"linecolor\":\"white\",\"minorgridcolor\":\"white\",\"startlinecolor\":\"#2a3f5f\"},\"type\":\"carpet\"}],\"choropleth\":[{\"colorbar\":{\"outlinewidth\":0,\"ticks\":\"\"},\"type\":\"choropleth\"}],\"contour\":[{\"colorbar\":{\"outlinewidth\":0,\"ticks\":\"\"},\"colorscale\":[[0.0,\"#0d0887\"],[0.1111111111111111,\"#46039f\"],[0.2222222222222222,\"#7201a8\"],[0.3333333333333333,\"#9c179e\"],[0.4444444444444444,\"#bd3786\"],[0.5555555555555556,\"#d8576b\"],[0.6666666666666666,\"#ed7953\"],[0.7777777777777778,\"#fb9f3a\"],[0.8888888888888888,\"#fdca26\"],[1.0,\"#f0f921\"]],\"type\":\"contour\"}],\"contourcarpet\":[{\"colorbar\":{\"outlinewidth\":0,\"ticks\":\"\"},\"type\":\"contourcarpet\"}],\"heatmap\":[{\"colorbar\":{\"outlinewidth\":0,\"ticks\":\"\"},\"colorscale\":[[0.0,\"#0d0887\"],[0.1111111111111111,\"#46039f\"],[0.2222222222222222,\"#7201a8\"],[0.3333333333333333,\"#9c179e\"],[0.4444444444444444,\"#bd3786\"],[0.5555555555555556,\"#d8576b\"],[0.6666666666666666,\"#ed7953\"],[0.7777777777777778,\"#fb9f3a\"],[0.8888888888888888,\"#fdca26\"],[1.0,\"#f0f921\"]],\"type\":\"heatmap\"}],\"heatmapgl\":[{\"colorbar\":{\"outlinewidth\":0,\"ticks\":\"\"},\"colorscale\":[[0.0,\"#0d0887\"],[0.1111111111111111,\"#46039f\"],[0.2222222222222222,\"#7201a8\"],[0.3333333333333333,\"#9c179e\"],[0.4444444444444444,\"#bd3786\"],[0.5555555555555556,\"#d8576b\"],[0.6666666666666666,\"#ed7953\"],[0.7777777777777778,\"#fb9f3a\"],[0.8888888888888888,\"#fdca26\"],[1.0,\"#f0f921\"]],\"type\":\"heatmapgl\"}],\"histogram\":[{\"marker\":{\"pattern\":{\"fillmode\":\"overlay\",\"size\":10,\"solidity\":0.2}},\"type\":\"histogram\"}],\"histogram2d\":[{\"colorbar\":{\"outlinewidth\":0,\"ticks\":\"\"},\"colorscale\":[[0.0,\"#0d0887\"],[0.1111111111111111,\"#46039f\"],[0.2222222222222222,\"#7201a8\"],[0.3333333333333333,\"#9c179e\"],[0.4444444444444444,\"#bd3786\"],[0.5555555555555556,\"#d8576b\"],[0.6666666666666666,\"#ed7953\"],[0.7777777777777778,\"#fb9f3a\"],[0.8888888888888888,\"#fdca26\"],[1.0,\"#f0f921\"]],\"type\":\"histogram2d\"}],\"histogram2dcontour\":[{\"colorbar\":{\"outlinewidth\":0,\"ticks\":\"\"},\"colorscale\":[[0.0,\"#0d0887\"],[0.1111111111111111,\"#46039f\"],[0.2222222222222222,\"#7201a8\"],[0.3333333333333333,\"#9c179e\"],[0.4444444444444444,\"#bd3786\"],[0.5555555555555556,\"#d8576b\"],[0.6666666666666666,\"#ed7953\"],[0.7777777777777778,\"#fb9f3a\"],[0.8888888888888888,\"#fdca26\"],[1.0,\"#f0f921\"]],\"type\":\"histogram2dcontour\"}],\"mesh3d\":[{\"colorbar\":{\"outlinewidth\":0,\"ticks\":\"\"},\"type\":\"mesh3d\"}],\"parcoords\":[{\"line\":{\"colorbar\":{\"outlinewidth\":0,\"ticks\":\"\"}},\"type\":\"parcoords\"}],\"pie\":[{\"automargin\":true,\"type\":\"pie\"}],\"scatter\":[{\"marker\":{\"colorbar\":{\"outlinewidth\":0,\"ticks\":\"\"}},\"type\":\"scatter\"}],\"scatter3d\":[{\"line\":{\"colorbar\":{\"outlinewidth\":0,\"ticks\":\"\"}},\"marker\":{\"colorbar\":{\"outlinewidth\":0,\"ticks\":\"\"}},\"type\":\"scatter3d\"}],\"scattercarpet\":[{\"marker\":{\"colorbar\":{\"outlinewidth\":0,\"ticks\":\"\"}},\"type\":\"scattercarpet\"}],\"scattergeo\":[{\"marker\":{\"colorbar\":{\"outlinewidth\":0,\"ticks\":\"\"}},\"type\":\"scattergeo\"}],\"scattergl\":[{\"marker\":{\"colorbar\":{\"outlinewidth\":0,\"ticks\":\"\"}},\"type\":\"scattergl\"}],\"scattermapbox\":[{\"marker\":{\"colorbar\":{\"outlinewidth\":0,\"ticks\":\"\"}},\"type\":\"scattermapbox\"}],\"scatterpolar\":[{\"marker\":{\"colorbar\":{\"outlinewidth\":0,\"ticks\":\"\"}},\"type\":\"scatterpolar\"}],\"scatterpolargl\":[{\"marker\":{\"colorbar\":{\"outlinewidth\":0,\"ticks\":\"\"}},\"type\":\"scatterpolargl\"}],\"scatterternary\":[{\"marker\":{\"colorbar\":{\"outlinewidth\":0,\"ticks\":\"\"}},\"type\":\"scatterternary\"}],\"surface\":[{\"colorbar\":{\"outlinewidth\":0,\"ticks\":\"\"},\"colorscale\":[[0.0,\"#0d0887\"],[0.1111111111111111,\"#46039f\"],[0.2222222222222222,\"#7201a8\"],[0.3333333333333333,\"#9c179e\"],[0.4444444444444444,\"#bd3786\"],[0.5555555555555556,\"#d8576b\"],[0.6666666666666666,\"#ed7953\"],[0.7777777777777778,\"#fb9f3a\"],[0.8888888888888888,\"#fdca26\"],[1.0,\"#f0f921\"]],\"type\":\"surface\"}],\"table\":[{\"cells\":{\"fill\":{\"color\":\"#EBF0F8\"},\"line\":{\"color\":\"white\"}},\"header\":{\"fill\":{\"color\":\"#C8D4E3\"},\"line\":{\"color\":\"white\"}},\"type\":\"table\"}]},\"layout\":{\"annotationdefaults\":{\"arrowcolor\":\"#2a3f5f\",\"arrowhead\":0,\"arrowwidth\":1},\"autotypenumbers\":\"strict\",\"coloraxis\":{\"colorbar\":{\"outlinewidth\":0,\"ticks\":\"\"}},\"colorscale\":{\"diverging\":[[0,\"#8e0152\"],[0.1,\"#c51b7d\"],[0.2,\"#de77ae\"],[0.3,\"#f1b6da\"],[0.4,\"#fde0ef\"],[0.5,\"#f7f7f7\"],[0.6,\"#e6f5d0\"],[0.7,\"#b8e186\"],[0.8,\"#7fbc41\"],[0.9,\"#4d9221\"],[1,\"#276419\"]],\"sequential\":[[0.0,\"#0d0887\"],[0.1111111111111111,\"#46039f\"],[0.2222222222222222,\"#7201a8\"],[0.3333333333333333,\"#9c179e\"],[0.4444444444444444,\"#bd3786\"],[0.5555555555555556,\"#d8576b\"],[0.6666666666666666,\"#ed7953\"],[0.7777777777777778,\"#fb9f3a\"],[0.8888888888888888,\"#fdca26\"],[1.0,\"#f0f921\"]],\"sequentialminus\":[[0.0,\"#0d0887\"],[0.1111111111111111,\"#46039f\"],[0.2222222222222222,\"#7201a8\"],[0.3333333333333333,\"#9c179e\"],[0.4444444444444444,\"#bd3786\"],[0.5555555555555556,\"#d8576b\"],[0.6666666666666666,\"#ed7953\"],[0.7777777777777778,\"#fb9f3a\"],[0.8888888888888888,\"#fdca26\"],[1.0,\"#f0f921\"]]},\"colorway\":[\"#636efa\",\"#EF553B\",\"#00cc96\",\"#ab63fa\",\"#FFA15A\",\"#19d3f3\",\"#FF6692\",\"#B6E880\",\"#FF97FF\",\"#FECB52\"],\"font\":{\"color\":\"#2a3f5f\"},\"geo\":{\"bgcolor\":\"white\",\"lakecolor\":\"white\",\"landcolor\":\"#E5ECF6\",\"showlakes\":true,\"showland\":true,\"subunitcolor\":\"white\"},\"hoverlabel\":{\"align\":\"left\"},\"hovermode\":\"closest\",\"mapbox\":{\"style\":\"light\"},\"paper_bgcolor\":\"white\",\"plot_bgcolor\":\"#E5ECF6\",\"polar\":{\"angularaxis\":{\"gridcolor\":\"white\",\"linecolor\":\"white\",\"ticks\":\"\"},\"bgcolor\":\"#E5ECF6\",\"radialaxis\":{\"gridcolor\":\"white\",\"linecolor\":\"white\",\"ticks\":\"\"}},\"scene\":{\"xaxis\":{\"backgroundcolor\":\"#E5ECF6\",\"gridcolor\":\"white\",\"gridwidth\":2,\"linecolor\":\"white\",\"showbackground\":true,\"ticks\":\"\",\"zerolinecolor\":\"white\"},\"yaxis\":{\"backgroundcolor\":\"#E5ECF6\",\"gridcolor\":\"white\",\"gridwidth\":2,\"linecolor\":\"white\",\"showbackground\":true,\"ticks\":\"\",\"zerolinecolor\":\"white\"},\"zaxis\":{\"backgroundcolor\":\"#E5ECF6\",\"gridcolor\":\"white\",\"gridwidth\":2,\"linecolor\":\"white\",\"showbackground\":true,\"ticks\":\"\",\"zerolinecolor\":\"white\"}},\"shapedefaults\":{\"line\":{\"color\":\"#2a3f5f\"}},\"ternary\":{\"aaxis\":{\"gridcolor\":\"white\",\"linecolor\":\"white\",\"ticks\":\"\"},\"baxis\":{\"gridcolor\":\"white\",\"linecolor\":\"white\",\"ticks\":\"\"},\"bgcolor\":\"#E5ECF6\",\"caxis\":{\"gridcolor\":\"white\",\"linecolor\":\"white\",\"ticks\":\"\"}},\"title\":{\"x\":0.05},\"xaxis\":{\"automargin\":true,\"gridcolor\":\"white\",\"linecolor\":\"white\",\"ticks\":\"\",\"title\":{\"standoff\":15},\"zerolinecolor\":\"white\",\"zerolinewidth\":2},\"yaxis\":{\"automargin\":true,\"gridcolor\":\"white\",\"linecolor\":\"white\",\"ticks\":\"\",\"title\":{\"standoff\":15},\"zerolinecolor\":\"white\",\"zerolinewidth\":2}}},\"xaxis\":{\"anchor\":\"y\",\"domain\":[0.0,1.0],\"title\":{\"text\":\"index\"}},\"yaxis\":{\"anchor\":\"x\",\"domain\":[0.0,1.0],\"title\":{\"text\":\"value\"}},\"legend\":{\"title\":{\"text\":\"variable\"},\"tracegroupgap\":0},\"margin\":{\"t\":60}},                        {\"responsive\": true}                    ).then(function(){\n",
       "                            \n",
       "var gd = document.getElementById('ecf2ff8c-c74f-4c27-b9d5-78caa5a904d5');\n",
       "var x = new MutationObserver(function (mutations, observer) {{\n",
       "        var display = window.getComputedStyle(gd).display;\n",
       "        if (!display || display === 'none') {{\n",
       "            console.log([gd, 'removed!']);\n",
       "            Plotly.purge(gd);\n",
       "            observer.disconnect();\n",
       "        }}\n",
       "}});\n",
       "\n",
       "// Listen for the removal of the full notebook cells\n",
       "var notebookContainer = gd.closest('#notebook-container');\n",
       "if (notebookContainer) {{\n",
       "    x.observe(notebookContainer, {childList: true});\n",
       "}}\n",
       "\n",
       "// Listen for the clearing of the current output cell\n",
       "var outputEl = gd.closest('.output');\n",
       "if (outputEl) {{\n",
       "    x.observe(outputEl, {childList: true});\n",
       "}}\n",
       "\n",
       "                        })                };                });            </script>        </div>"
      ]
     },
     "metadata": {},
     "output_type": "display_data"
    }
   ],
   "source": [
    "px.line(val_loss)"
   ]
  },
  {
   "cell_type": "code",
   "execution_count": 54,
   "id": "c3c2e807",
   "metadata": {},
   "outputs": [
    {
     "data": {
      "text/plain": [
       "(1491, 50)"
      ]
     },
     "execution_count": 54,
     "metadata": {},
     "output_type": "execute_result"
    }
   ],
   "source": [
    "run.history(samples=10000).shape"
   ]
  },
  {
   "cell_type": "code",
   "execution_count": 59,
   "id": "0ea1519f",
   "metadata": {
    "scrolled": true
   },
   "outputs": [
    {
     "name": "stdout",
     "output_type": "stream",
     "text": [
      "(472, 21)\n",
      "trainer/global_step            0\n",
      "_step                          0\n",
      "_runtime                       0\n",
      "val_loss_step                 40\n",
      "_timestamp                     0\n",
      "train_loss_step              440\n",
      "epoch                        438\n",
      "train_precision              470\n",
      "train_f1                     470\n",
      "train_auroc                  470\n",
      "train_specificity            470\n",
      "train_loss_epoch             470\n",
      "train_confusion_matrix       470\n",
      "train_weighted_accuracy      470\n",
      "train_balanced_accuracy      470\n",
      "train_total_accuracy         470\n",
      "train_per_class_recall       470\n",
      "train_per_class_precision    470\n",
      "train_recall                 470\n",
      "train_per_class_f1           470\n",
      "test_loss_step               466\n",
      "dtype: int64\n",
      "(511, 22)\n",
      "trainer/global_step          0\n",
      "_step                        0\n",
      "_runtime                     0\n",
      "train_loss_step            474\n",
      "epoch                      472\n",
      "_timestamp                   0\n",
      "val_loss_step               41\n",
      "val_median_f1              509\n",
      "val_auroc                  509\n",
      "val_per_class_recall       509\n",
      "val_confusion_matrix       509\n",
      "val_f1                     509\n",
      "val_total_accuracy         509\n",
      "val_recall                 509\n",
      "val_balanced_accuracy      509\n",
      "val_weighted_accuracy      509\n",
      "val_loss_epoch             509\n",
      "val_per_class_f1           509\n",
      "val_precision              509\n",
      "val_per_class_precision    509\n",
      "val_specificity            509\n",
      "lr-Adam                    509\n",
      "dtype: int64\n",
      "(496, 35)\n",
      "trainer/global_step            0\n",
      "_step                          0\n",
      "_runtime                       0\n",
      "lr-Adam                      494\n",
      "_timestamp                     0\n",
      "train_loss_step              452\n",
      "epoch                        450\n",
      "val_loss_step                 48\n",
      "val_median_f1                495\n",
      "val_auroc                    495\n",
      "val_per_class_recall         495\n",
      "val_confusion_matrix         495\n",
      "val_f1                       495\n",
      "val_total_accuracy           495\n",
      "val_recall                   495\n",
      "val_balanced_accuracy        495\n",
      "val_weighted_accuracy        495\n",
      "val_loss_epoch               495\n",
      "val_per_class_f1             495\n",
      "val_precision                495\n",
      "val_per_class_precision      495\n",
      "val_specificity              495\n",
      "train_precision              495\n",
      "train_f1                     495\n",
      "train_auroc                  495\n",
      "train_specificity            495\n",
      "train_loss_epoch             495\n",
      "train_confusion_matrix       495\n",
      "train_weighted_accuracy      495\n",
      "train_balanced_accuracy      495\n",
      "train_total_accuracy         495\n",
      "train_per_class_recall       495\n",
      "train_per_class_precision    495\n",
      "train_recall                 495\n",
      "train_per_class_f1           495\n",
      "dtype: int64\n",
      "(485, 9)\n",
      "trainer/global_step      0\n",
      "_step                    0\n",
      "_runtime                 0\n",
      "lr-Adam                483\n",
      "_timestamp               0\n",
      "train_loss_step        449\n",
      "epoch                  449\n",
      "val_loss_step           55\n",
      "test_loss_step         468\n",
      "dtype: int64\n",
      "(512, 8)\n",
      "trainer/global_step      0\n",
      "_step                    0\n",
      "_runtime                 0\n",
      "train_loss_step        474\n",
      "epoch                  474\n",
      "_timestamp               0\n",
      "val_loss_step           39\n",
      "lr-Adam                511\n",
      "dtype: int64\n",
      "(5, 7)\n",
      "trainer/global_step    0\n",
      "_step                  0\n",
      "_runtime               0\n",
      "lr-Adam                4\n",
      "_timestamp             0\n",
      "train_loss_step        1\n",
      "epoch                  1\n",
      "dtype: int64\n",
      "(7, 7)\n",
      "trainer/global_step    0\n",
      "_step                  0\n",
      "_runtime               0\n",
      "lr-Adam                6\n",
      "_timestamp             0\n",
      "train_loss_step        1\n",
      "epoch                  1\n",
      "dtype: int64\n"
     ]
    }
   ],
   "source": [
    "runs = api.runs('jlehrer1/mouse_data Cortical Model')\n",
    "\n",
    "for run in runs:\n",
    "    df = run.history()\n",
    "    print(df.shape)\n",
    "    print(df.isna().sum())\n",
    "#     fig = px.line(df, x=df.index, y='train_loss_step')\n",
    "#     fig.show()\n",
    "        "
   ]
  },
  {
   "cell_type": "code",
   "execution_count": 72,
   "id": "dfb3aa33",
   "metadata": {},
   "outputs": [
    {
     "data": {
      "text/plain": [
       "array([[5., 5., 5., 1., 1.],\n",
       "       [1., 1., 1., 1., 1.],\n",
       "       [1., 1., 1., 1., 1.],\n",
       "       [1., 1., 1., 1., 1.],\n",
       "       [1., 1., 1., 1., 1.]])"
      ]
     },
     "execution_count": 72,
     "metadata": {},
     "output_type": "execute_result"
    }
   ],
   "source": [
    "d = np.ones([5, 5])\n",
    "d[0, 0:3] = [5,5, 5]\n",
    "\n",
    "d"
   ]
  },
  {
   "cell_type": "code",
   "execution_count": 37,
   "id": "b36eea31",
   "metadata": {
    "scrolled": true
   },
   "outputs": [
    {
     "data": {
      "application/vnd.plotly.v1+json": {
       "config": {
        "plotlyServerURL": "https://plot.ly"
       },
       "data": [
        {
         "hovertemplate": "trainer/global_step=%{x}<br>train_loss_step=%{y}<extra></extra>",
         "legendgroup": "",
         "marker": {
          "color": "#636efa",
          "symbol": "circle"
         },
         "mode": "markers",
         "name": "",
         "orientation": "v",
         "showlegend": false,
         "type": "scatter",
         "x": [
          0,
          16,
          25,
          27,
          34,
          36,
          37,
          49,
          58,
          59,
          66,
          71,
          73,
          76,
          97,
          98,
          100,
          101,
          102,
          116,
          126,
          145,
          149,
          157,
          160,
          162,
          166,
          171,
          178,
          180,
          182,
          183,
          656,
          215,
          216,
          218,
          225,
          227,
          242,
          244,
          247,
          249,
          255,
          262,
          263,
          286,
          288,
          296,
          303,
          312,
          315,
          316,
          323,
          324,
          333,
          335,
          349,
          358,
          359,
          361,
          369,
          375,
          377,
          387,
          392,
          394,
          395,
          406,
          1313,
          1549,
          1799,
          412,
          415,
          419,
          444,
          453,
          454,
          463,
          466,
          475,
          481,
          492,
          494,
          495,
          498,
          511,
          513,
          514,
          516,
          522,
          525,
          534,
          548,
          550,
          564,
          586,
          591,
          593,
          606,
          1970,
          2549,
          620,
          621,
          624,
          641,
          654,
          655,
          659,
          669,
          678,
          681,
          690,
          693,
          710,
          714,
          720,
          723,
          724,
          726,
          727,
          729,
          740,
          741,
          749,
          753,
          765,
          774,
          793,
          801,
          813,
          3199,
          822,
          826,
          835,
          837,
          841,
          844,
          855,
          872,
          874,
          877,
          879,
          885,
          888,
          896,
          897,
          908,
          912,
          914,
          915,
          921,
          937,
          938,
          943,
          953,
          958,
          959,
          965,
          975,
          979,
          983,
          991,
          995,
          1008,
          1010,
          1011,
          3349,
          1027,
          1029,
          1030,
          1041,
          1055,
          1060,
          1061,
          1065,
          1068,
          1076,
          1081,
          1082,
          1091,
          1094,
          1102,
          1107,
          1108,
          1109,
          1117,
          1120,
          1130,
          1138,
          1140,
          1146,
          1190,
          1195,
          1198,
          1202,
          3949,
          4099,
          1230,
          1247,
          1270,
          1279,
          1295,
          1296,
          1309,
          1311,
          1324,
          1329,
          1332,
          1337,
          1340,
          1342,
          1349,
          1354,
          1361,
          1365,
          1369,
          1377,
          1379,
          1385,
          1427,
          4598,
          5149,
          1436,
          1440,
          1441,
          1442,
          1443,
          1452,
          1462,
          1471,
          1476,
          1477,
          1479,
          1488,
          1491,
          1496,
          1497,
          1498,
          1511,
          1520,
          1521,
          1530,
          1535,
          1541,
          1556,
          1558,
          1561,
          1564,
          1575,
          1585,
          1589,
          1601,
          1621,
          1623,
          1627,
          1628,
          1633,
          1639,
          1640,
          1661,
          1667,
          1669,
          1670,
          1675,
          1678,
          1683,
          1689,
          1690,
          1705,
          1724,
          1732,
          1737,
          1738,
          1749,
          1754,
          1762,
          1763,
          1764,
          1777,
          1784,
          1791,
          1794,
          1803,
          1812,
          1814,
          1819,
          1820,
          1823,
          1825,
          1831,
          1835,
          1838,
          1844,
          6199,
          6249,
          6499,
          1846,
          1847,
          1857,
          1858,
          1866,
          1871,
          1876,
          1882,
          1893,
          1894,
          1900,
          1916,
          1922,
          1924,
          1926,
          1929,
          1944,
          1945,
          1957,
          1958,
          1971,
          1977,
          1979,
          1980,
          1984,
          1990,
          2000,
          2014,
          2016,
          2026,
          2034,
          2036,
          2048,
          6569,
          6749,
          2052,
          2055,
          2061,
          2065,
          2069,
          2070,
          2071,
          2076,
          2083,
          2087,
          2088,
          2097,
          2105,
          2108,
          2115,
          2119,
          2139,
          2148,
          2150,
          2152,
          2164,
          2177,
          2189,
          2203,
          2204,
          2210,
          2219,
          2232,
          2247,
          2250,
          2251,
          7226,
          7449,
          7549,
          2267,
          2271,
          2297,
          2300,
          2304,
          2319,
          2333,
          2345,
          2359,
          2369,
          2385,
          2386,
          2389,
          2391,
          2415,
          2420,
          2438,
          2439,
          2454,
          2456,
          2459,
          8199,
          8299,
          8349,
          2465,
          2470,
          2479,
          2485,
          2489,
          2518,
          2531,
          2532,
          2539,
          2546,
          2563,
          2573,
          2578,
          2594,
          2595,
          2608,
          2610,
          2612,
          2613,
          2628,
          2635,
          2648,
          2653,
          2657,
          8549,
          8699,
          8849,
          2665,
          2683,
          2688,
          2692,
          2701,
          2736,
          2741,
          2753,
          2769,
          2783,
          2786,
          2819,
          2831,
          2837,
          2843,
          2849,
          2854,
          2856,
          2857,
          2858,
          2863,
          2866,
          2867,
          2868,
          2872,
          2876,
          2879,
          2885,
          2889,
          2893,
          2894,
          2896,
          2897,
          2898,
          2904,
          2908,
          2909,
          2924,
          2933,
          2934,
          2936,
          2937,
          2940,
          2945,
          2947,
          2962,
          2979,
          2993,
          2999,
          3002,
          3010,
          3013,
          3015,
          3022,
          3023,
          3045,
          3051,
          3059,
          3067,
          9899,
          9949,
          10299,
          10399,
          3075,
          3101,
          3126,
          3128,
          3133,
          3135,
          3142,
          3143,
          3147,
          3157,
          3172,
          3174,
          3175,
          3194,
          3203,
          3220,
          3237,
          3238,
          3241,
          3246,
          3249,
          3250,
          3258,
          3261,
          3266,
          3267,
          3274,
          3278,
          3279,
          10511,
          7,
          9,
          24,
          36,
          38,
          52,
          62,
          79,
          83,
          101,
          110,
          124,
          126,
          131,
          152,
          155,
          157
         ],
         "xaxis": "x",
         "y": [
          null,
          null,
          null,
          null,
          null,
          null,
          null,
          null,
          null,
          null,
          null,
          null,
          null,
          null,
          null,
          null,
          null,
          null,
          null,
          null,
          null,
          null,
          null,
          null,
          null,
          null,
          null,
          null,
          null,
          null,
          null,
          null,
          null,
          null,
          null,
          null,
          null,
          null,
          null,
          null,
          null,
          null,
          null,
          null,
          null,
          null,
          null,
          null,
          null,
          null,
          null,
          null,
          null,
          null,
          null,
          null,
          null,
          null,
          null,
          null,
          null,
          null,
          null,
          null,
          null,
          null,
          null,
          null,
          null,
          0.9844886660575867,
          0.5344173312187195,
          null,
          null,
          null,
          null,
          null,
          null,
          null,
          null,
          null,
          null,
          null,
          null,
          null,
          null,
          null,
          null,
          null,
          null,
          null,
          null,
          null,
          null,
          null,
          null,
          null,
          null,
          null,
          null,
          null,
          0.3181164860725403,
          null,
          null,
          null,
          null,
          null,
          null,
          null,
          null,
          null,
          null,
          null,
          null,
          null,
          null,
          null,
          null,
          null,
          null,
          null,
          null,
          null,
          null,
          null,
          null,
          null,
          null,
          null,
          null,
          null,
          0.37761086225509644,
          null,
          null,
          null,
          null,
          null,
          null,
          null,
          null,
          null,
          null,
          null,
          null,
          null,
          null,
          null,
          null,
          null,
          null,
          null,
          null,
          null,
          null,
          null,
          null,
          null,
          null,
          null,
          null,
          null,
          null,
          null,
          null,
          null,
          null,
          null,
          0.3908075988292694,
          null,
          null,
          null,
          null,
          null,
          null,
          null,
          null,
          null,
          null,
          null,
          null,
          null,
          null,
          null,
          null,
          null,
          null,
          null,
          null,
          null,
          null,
          null,
          null,
          null,
          null,
          null,
          null,
          0.6821295022964478,
          0.6631123423576355,
          null,
          null,
          null,
          null,
          null,
          null,
          null,
          null,
          null,
          null,
          null,
          null,
          null,
          null,
          null,
          null,
          null,
          null,
          null,
          null,
          null,
          null,
          null,
          null,
          0.3858831524848938,
          null,
          null,
          null,
          null,
          null,
          null,
          null,
          null,
          null,
          null,
          null,
          null,
          null,
          null,
          null,
          null,
          null,
          null,
          null,
          null,
          null,
          null,
          null,
          null,
          null,
          null,
          null,
          null,
          null,
          null,
          null,
          null,
          null,
          null,
          null,
          null,
          null,
          null,
          null,
          null,
          null,
          null,
          null,
          null,
          null,
          null,
          null,
          null,
          null,
          null,
          null,
          null,
          null,
          null,
          null,
          null,
          null,
          null,
          null,
          null,
          null,
          null,
          null,
          null,
          null,
          null,
          null,
          null,
          null,
          null,
          null,
          0.43110978603363037,
          0.30939120054244995,
          0.2044636607170105,
          null,
          null,
          null,
          null,
          null,
          null,
          null,
          null,
          null,
          null,
          null,
          null,
          null,
          null,
          null,
          null,
          null,
          null,
          null,
          null,
          null,
          null,
          null,
          null,
          null,
          null,
          null,
          null,
          null,
          null,
          null,
          null,
          null,
          null,
          0.229448139667511,
          null,
          null,
          null,
          null,
          null,
          null,
          null,
          null,
          null,
          null,
          null,
          null,
          null,
          null,
          null,
          null,
          null,
          null,
          null,
          null,
          null,
          null,
          null,
          null,
          null,
          null,
          null,
          null,
          null,
          null,
          null,
          null,
          0.2083977907896042,
          0.4563733637332916,
          null,
          null,
          null,
          null,
          null,
          null,
          null,
          null,
          null,
          null,
          null,
          null,
          null,
          null,
          null,
          null,
          null,
          null,
          null,
          null,
          null,
          0.3928055763244629,
          0.8027065396308899,
          0.774526059627533,
          null,
          null,
          null,
          null,
          null,
          null,
          null,
          null,
          null,
          null,
          null,
          null,
          null,
          null,
          null,
          null,
          null,
          null,
          null,
          null,
          null,
          null,
          null,
          null,
          0.5690001249313354,
          0.33578062057495117,
          0.2166694700717926,
          null,
          null,
          null,
          null,
          null,
          null,
          null,
          null,
          null,
          null,
          null,
          null,
          null,
          null,
          null,
          null,
          null,
          null,
          null,
          null,
          null,
          null,
          null,
          null,
          null,
          null,
          null,
          null,
          null,
          null,
          null,
          null,
          null,
          null,
          null,
          null,
          null,
          null,
          null,
          null,
          null,
          null,
          null,
          null,
          null,
          null,
          null,
          null,
          null,
          null,
          null,
          null,
          null,
          null,
          null,
          null,
          null,
          null,
          null,
          0.42376047372817993,
          0.7322878241539001,
          0.27945971488952637,
          0.4303280711174011,
          null,
          null,
          null,
          null,
          null,
          null,
          null,
          null,
          null,
          null,
          null,
          null,
          null,
          null,
          null,
          null,
          null,
          null,
          null,
          null,
          null,
          null,
          null,
          null,
          null,
          null,
          null,
          null,
          null,
          null,
          null,
          null,
          null,
          null,
          null,
          null,
          null,
          null,
          null,
          null,
          null,
          null,
          null,
          null,
          null,
          null,
          null
         ],
         "yaxis": "y"
        }
       ],
       "layout": {
        "legend": {
         "tracegroupgap": 0
        },
        "margin": {
         "t": 60
        },
        "template": {
         "data": {
          "bar": [
           {
            "error_x": {
             "color": "#2a3f5f"
            },
            "error_y": {
             "color": "#2a3f5f"
            },
            "marker": {
             "line": {
              "color": "#E5ECF6",
              "width": 0.5
             },
             "pattern": {
              "fillmode": "overlay",
              "size": 10,
              "solidity": 0.2
             }
            },
            "type": "bar"
           }
          ],
          "barpolar": [
           {
            "marker": {
             "line": {
              "color": "#E5ECF6",
              "width": 0.5
             },
             "pattern": {
              "fillmode": "overlay",
              "size": 10,
              "solidity": 0.2
             }
            },
            "type": "barpolar"
           }
          ],
          "carpet": [
           {
            "aaxis": {
             "endlinecolor": "#2a3f5f",
             "gridcolor": "white",
             "linecolor": "white",
             "minorgridcolor": "white",
             "startlinecolor": "#2a3f5f"
            },
            "baxis": {
             "endlinecolor": "#2a3f5f",
             "gridcolor": "white",
             "linecolor": "white",
             "minorgridcolor": "white",
             "startlinecolor": "#2a3f5f"
            },
            "type": "carpet"
           }
          ],
          "choropleth": [
           {
            "colorbar": {
             "outlinewidth": 0,
             "ticks": ""
            },
            "type": "choropleth"
           }
          ],
          "contour": [
           {
            "colorbar": {
             "outlinewidth": 0,
             "ticks": ""
            },
            "colorscale": [
             [
              0,
              "#0d0887"
             ],
             [
              0.1111111111111111,
              "#46039f"
             ],
             [
              0.2222222222222222,
              "#7201a8"
             ],
             [
              0.3333333333333333,
              "#9c179e"
             ],
             [
              0.4444444444444444,
              "#bd3786"
             ],
             [
              0.5555555555555556,
              "#d8576b"
             ],
             [
              0.6666666666666666,
              "#ed7953"
             ],
             [
              0.7777777777777778,
              "#fb9f3a"
             ],
             [
              0.8888888888888888,
              "#fdca26"
             ],
             [
              1,
              "#f0f921"
             ]
            ],
            "type": "contour"
           }
          ],
          "contourcarpet": [
           {
            "colorbar": {
             "outlinewidth": 0,
             "ticks": ""
            },
            "type": "contourcarpet"
           }
          ],
          "heatmap": [
           {
            "colorbar": {
             "outlinewidth": 0,
             "ticks": ""
            },
            "colorscale": [
             [
              0,
              "#0d0887"
             ],
             [
              0.1111111111111111,
              "#46039f"
             ],
             [
              0.2222222222222222,
              "#7201a8"
             ],
             [
              0.3333333333333333,
              "#9c179e"
             ],
             [
              0.4444444444444444,
              "#bd3786"
             ],
             [
              0.5555555555555556,
              "#d8576b"
             ],
             [
              0.6666666666666666,
              "#ed7953"
             ],
             [
              0.7777777777777778,
              "#fb9f3a"
             ],
             [
              0.8888888888888888,
              "#fdca26"
             ],
             [
              1,
              "#f0f921"
             ]
            ],
            "type": "heatmap"
           }
          ],
          "heatmapgl": [
           {
            "colorbar": {
             "outlinewidth": 0,
             "ticks": ""
            },
            "colorscale": [
             [
              0,
              "#0d0887"
             ],
             [
              0.1111111111111111,
              "#46039f"
             ],
             [
              0.2222222222222222,
              "#7201a8"
             ],
             [
              0.3333333333333333,
              "#9c179e"
             ],
             [
              0.4444444444444444,
              "#bd3786"
             ],
             [
              0.5555555555555556,
              "#d8576b"
             ],
             [
              0.6666666666666666,
              "#ed7953"
             ],
             [
              0.7777777777777778,
              "#fb9f3a"
             ],
             [
              0.8888888888888888,
              "#fdca26"
             ],
             [
              1,
              "#f0f921"
             ]
            ],
            "type": "heatmapgl"
           }
          ],
          "histogram": [
           {
            "marker": {
             "pattern": {
              "fillmode": "overlay",
              "size": 10,
              "solidity": 0.2
             }
            },
            "type": "histogram"
           }
          ],
          "histogram2d": [
           {
            "colorbar": {
             "outlinewidth": 0,
             "ticks": ""
            },
            "colorscale": [
             [
              0,
              "#0d0887"
             ],
             [
              0.1111111111111111,
              "#46039f"
             ],
             [
              0.2222222222222222,
              "#7201a8"
             ],
             [
              0.3333333333333333,
              "#9c179e"
             ],
             [
              0.4444444444444444,
              "#bd3786"
             ],
             [
              0.5555555555555556,
              "#d8576b"
             ],
             [
              0.6666666666666666,
              "#ed7953"
             ],
             [
              0.7777777777777778,
              "#fb9f3a"
             ],
             [
              0.8888888888888888,
              "#fdca26"
             ],
             [
              1,
              "#f0f921"
             ]
            ],
            "type": "histogram2d"
           }
          ],
          "histogram2dcontour": [
           {
            "colorbar": {
             "outlinewidth": 0,
             "ticks": ""
            },
            "colorscale": [
             [
              0,
              "#0d0887"
             ],
             [
              0.1111111111111111,
              "#46039f"
             ],
             [
              0.2222222222222222,
              "#7201a8"
             ],
             [
              0.3333333333333333,
              "#9c179e"
             ],
             [
              0.4444444444444444,
              "#bd3786"
             ],
             [
              0.5555555555555556,
              "#d8576b"
             ],
             [
              0.6666666666666666,
              "#ed7953"
             ],
             [
              0.7777777777777778,
              "#fb9f3a"
             ],
             [
              0.8888888888888888,
              "#fdca26"
             ],
             [
              1,
              "#f0f921"
             ]
            ],
            "type": "histogram2dcontour"
           }
          ],
          "mesh3d": [
           {
            "colorbar": {
             "outlinewidth": 0,
             "ticks": ""
            },
            "type": "mesh3d"
           }
          ],
          "parcoords": [
           {
            "line": {
             "colorbar": {
              "outlinewidth": 0,
              "ticks": ""
             }
            },
            "type": "parcoords"
           }
          ],
          "pie": [
           {
            "automargin": true,
            "type": "pie"
           }
          ],
          "scatter": [
           {
            "marker": {
             "colorbar": {
              "outlinewidth": 0,
              "ticks": ""
             }
            },
            "type": "scatter"
           }
          ],
          "scatter3d": [
           {
            "line": {
             "colorbar": {
              "outlinewidth": 0,
              "ticks": ""
             }
            },
            "marker": {
             "colorbar": {
              "outlinewidth": 0,
              "ticks": ""
             }
            },
            "type": "scatter3d"
           }
          ],
          "scattercarpet": [
           {
            "marker": {
             "colorbar": {
              "outlinewidth": 0,
              "ticks": ""
             }
            },
            "type": "scattercarpet"
           }
          ],
          "scattergeo": [
           {
            "marker": {
             "colorbar": {
              "outlinewidth": 0,
              "ticks": ""
             }
            },
            "type": "scattergeo"
           }
          ],
          "scattergl": [
           {
            "marker": {
             "colorbar": {
              "outlinewidth": 0,
              "ticks": ""
             }
            },
            "type": "scattergl"
           }
          ],
          "scattermapbox": [
           {
            "marker": {
             "colorbar": {
              "outlinewidth": 0,
              "ticks": ""
             }
            },
            "type": "scattermapbox"
           }
          ],
          "scatterpolar": [
           {
            "marker": {
             "colorbar": {
              "outlinewidth": 0,
              "ticks": ""
             }
            },
            "type": "scatterpolar"
           }
          ],
          "scatterpolargl": [
           {
            "marker": {
             "colorbar": {
              "outlinewidth": 0,
              "ticks": ""
             }
            },
            "type": "scatterpolargl"
           }
          ],
          "scatterternary": [
           {
            "marker": {
             "colorbar": {
              "outlinewidth": 0,
              "ticks": ""
             }
            },
            "type": "scatterternary"
           }
          ],
          "surface": [
           {
            "colorbar": {
             "outlinewidth": 0,
             "ticks": ""
            },
            "colorscale": [
             [
              0,
              "#0d0887"
             ],
             [
              0.1111111111111111,
              "#46039f"
             ],
             [
              0.2222222222222222,
              "#7201a8"
             ],
             [
              0.3333333333333333,
              "#9c179e"
             ],
             [
              0.4444444444444444,
              "#bd3786"
             ],
             [
              0.5555555555555556,
              "#d8576b"
             ],
             [
              0.6666666666666666,
              "#ed7953"
             ],
             [
              0.7777777777777778,
              "#fb9f3a"
             ],
             [
              0.8888888888888888,
              "#fdca26"
             ],
             [
              1,
              "#f0f921"
             ]
            ],
            "type": "surface"
           }
          ],
          "table": [
           {
            "cells": {
             "fill": {
              "color": "#EBF0F8"
             },
             "line": {
              "color": "white"
             }
            },
            "header": {
             "fill": {
              "color": "#C8D4E3"
             },
             "line": {
              "color": "white"
             }
            },
            "type": "table"
           }
          ]
         },
         "layout": {
          "annotationdefaults": {
           "arrowcolor": "#2a3f5f",
           "arrowhead": 0,
           "arrowwidth": 1
          },
          "autotypenumbers": "strict",
          "coloraxis": {
           "colorbar": {
            "outlinewidth": 0,
            "ticks": ""
           }
          },
          "colorscale": {
           "diverging": [
            [
             0,
             "#8e0152"
            ],
            [
             0.1,
             "#c51b7d"
            ],
            [
             0.2,
             "#de77ae"
            ],
            [
             0.3,
             "#f1b6da"
            ],
            [
             0.4,
             "#fde0ef"
            ],
            [
             0.5,
             "#f7f7f7"
            ],
            [
             0.6,
             "#e6f5d0"
            ],
            [
             0.7,
             "#b8e186"
            ],
            [
             0.8,
             "#7fbc41"
            ],
            [
             0.9,
             "#4d9221"
            ],
            [
             1,
             "#276419"
            ]
           ],
           "sequential": [
            [
             0,
             "#0d0887"
            ],
            [
             0.1111111111111111,
             "#46039f"
            ],
            [
             0.2222222222222222,
             "#7201a8"
            ],
            [
             0.3333333333333333,
             "#9c179e"
            ],
            [
             0.4444444444444444,
             "#bd3786"
            ],
            [
             0.5555555555555556,
             "#d8576b"
            ],
            [
             0.6666666666666666,
             "#ed7953"
            ],
            [
             0.7777777777777778,
             "#fb9f3a"
            ],
            [
             0.8888888888888888,
             "#fdca26"
            ],
            [
             1,
             "#f0f921"
            ]
           ],
           "sequentialminus": [
            [
             0,
             "#0d0887"
            ],
            [
             0.1111111111111111,
             "#46039f"
            ],
            [
             0.2222222222222222,
             "#7201a8"
            ],
            [
             0.3333333333333333,
             "#9c179e"
            ],
            [
             0.4444444444444444,
             "#bd3786"
            ],
            [
             0.5555555555555556,
             "#d8576b"
            ],
            [
             0.6666666666666666,
             "#ed7953"
            ],
            [
             0.7777777777777778,
             "#fb9f3a"
            ],
            [
             0.8888888888888888,
             "#fdca26"
            ],
            [
             1,
             "#f0f921"
            ]
           ]
          },
          "colorway": [
           "#636efa",
           "#EF553B",
           "#00cc96",
           "#ab63fa",
           "#FFA15A",
           "#19d3f3",
           "#FF6692",
           "#B6E880",
           "#FF97FF",
           "#FECB52"
          ],
          "font": {
           "color": "#2a3f5f"
          },
          "geo": {
           "bgcolor": "white",
           "lakecolor": "white",
           "landcolor": "#E5ECF6",
           "showlakes": true,
           "showland": true,
           "subunitcolor": "white"
          },
          "hoverlabel": {
           "align": "left"
          },
          "hovermode": "closest",
          "mapbox": {
           "style": "light"
          },
          "paper_bgcolor": "white",
          "plot_bgcolor": "#E5ECF6",
          "polar": {
           "angularaxis": {
            "gridcolor": "white",
            "linecolor": "white",
            "ticks": ""
           },
           "bgcolor": "#E5ECF6",
           "radialaxis": {
            "gridcolor": "white",
            "linecolor": "white",
            "ticks": ""
           }
          },
          "scene": {
           "xaxis": {
            "backgroundcolor": "#E5ECF6",
            "gridcolor": "white",
            "gridwidth": 2,
            "linecolor": "white",
            "showbackground": true,
            "ticks": "",
            "zerolinecolor": "white"
           },
           "yaxis": {
            "backgroundcolor": "#E5ECF6",
            "gridcolor": "white",
            "gridwidth": 2,
            "linecolor": "white",
            "showbackground": true,
            "ticks": "",
            "zerolinecolor": "white"
           },
           "zaxis": {
            "backgroundcolor": "#E5ECF6",
            "gridcolor": "white",
            "gridwidth": 2,
            "linecolor": "white",
            "showbackground": true,
            "ticks": "",
            "zerolinecolor": "white"
           }
          },
          "shapedefaults": {
           "line": {
            "color": "#2a3f5f"
           }
          },
          "ternary": {
           "aaxis": {
            "gridcolor": "white",
            "linecolor": "white",
            "ticks": ""
           },
           "baxis": {
            "gridcolor": "white",
            "linecolor": "white",
            "ticks": ""
           },
           "bgcolor": "#E5ECF6",
           "caxis": {
            "gridcolor": "white",
            "linecolor": "white",
            "ticks": ""
           }
          },
          "title": {
           "x": 0.05
          },
          "xaxis": {
           "automargin": true,
           "gridcolor": "white",
           "linecolor": "white",
           "ticks": "",
           "title": {
            "standoff": 15
           },
           "zerolinecolor": "white",
           "zerolinewidth": 2
          },
          "yaxis": {
           "automargin": true,
           "gridcolor": "white",
           "linecolor": "white",
           "ticks": "",
           "title": {
            "standoff": 15
           },
           "zerolinecolor": "white",
           "zerolinewidth": 2
          }
         }
        },
        "xaxis": {
         "anchor": "y",
         "domain": [
          0,
          1
         ],
         "title": {
          "text": "trainer/global_step"
         }
        },
        "yaxis": {
         "anchor": "x",
         "domain": [
          0,
          1
         ],
         "title": {
          "text": "train_loss_step"
         }
        }
       }
      },
      "text/html": [
       "<div>                            <div id=\"7142dc2f-ac83-4590-ae94-3691ca05ec1a\" class=\"plotly-graph-div\" style=\"height:525px; width:100%;\"></div>            <script type=\"text/javascript\">                require([\"plotly\"], function(Plotly) {                    window.PLOTLYENV=window.PLOTLYENV || {};                                    if (document.getElementById(\"7142dc2f-ac83-4590-ae94-3691ca05ec1a\")) {                    Plotly.newPlot(                        \"7142dc2f-ac83-4590-ae94-3691ca05ec1a\",                        [{\"hovertemplate\":\"trainer/global_step=%{x}<br>train_loss_step=%{y}<extra></extra>\",\"legendgroup\":\"\",\"marker\":{\"color\":\"#636efa\",\"symbol\":\"circle\"},\"mode\":\"markers\",\"name\":\"\",\"orientation\":\"v\",\"showlegend\":false,\"x\":[0,16,25,27,34,36,37,49,58,59,66,71,73,76,97,98,100,101,102,116,126,145,149,157,160,162,166,171,178,180,182,183,656,215,216,218,225,227,242,244,247,249,255,262,263,286,288,296,303,312,315,316,323,324,333,335,349,358,359,361,369,375,377,387,392,394,395,406,1313,1549,1799,412,415,419,444,453,454,463,466,475,481,492,494,495,498,511,513,514,516,522,525,534,548,550,564,586,591,593,606,1970,2549,620,621,624,641,654,655,659,669,678,681,690,693,710,714,720,723,724,726,727,729,740,741,749,753,765,774,793,801,813,3199,822,826,835,837,841,844,855,872,874,877,879,885,888,896,897,908,912,914,915,921,937,938,943,953,958,959,965,975,979,983,991,995,1008,1010,1011,3349,1027,1029,1030,1041,1055,1060,1061,1065,1068,1076,1081,1082,1091,1094,1102,1107,1108,1109,1117,1120,1130,1138,1140,1146,1190,1195,1198,1202,3949,4099,1230,1247,1270,1279,1295,1296,1309,1311,1324,1329,1332,1337,1340,1342,1349,1354,1361,1365,1369,1377,1379,1385,1427,4598,5149,1436,1440,1441,1442,1443,1452,1462,1471,1476,1477,1479,1488,1491,1496,1497,1498,1511,1520,1521,1530,1535,1541,1556,1558,1561,1564,1575,1585,1589,1601,1621,1623,1627,1628,1633,1639,1640,1661,1667,1669,1670,1675,1678,1683,1689,1690,1705,1724,1732,1737,1738,1749,1754,1762,1763,1764,1777,1784,1791,1794,1803,1812,1814,1819,1820,1823,1825,1831,1835,1838,1844,6199,6249,6499,1846,1847,1857,1858,1866,1871,1876,1882,1893,1894,1900,1916,1922,1924,1926,1929,1944,1945,1957,1958,1971,1977,1979,1980,1984,1990,2000,2014,2016,2026,2034,2036,2048,6569,6749,2052,2055,2061,2065,2069,2070,2071,2076,2083,2087,2088,2097,2105,2108,2115,2119,2139,2148,2150,2152,2164,2177,2189,2203,2204,2210,2219,2232,2247,2250,2251,7226,7449,7549,2267,2271,2297,2300,2304,2319,2333,2345,2359,2369,2385,2386,2389,2391,2415,2420,2438,2439,2454,2456,2459,8199,8299,8349,2465,2470,2479,2485,2489,2518,2531,2532,2539,2546,2563,2573,2578,2594,2595,2608,2610,2612,2613,2628,2635,2648,2653,2657,8549,8699,8849,2665,2683,2688,2692,2701,2736,2741,2753,2769,2783,2786,2819,2831,2837,2843,2849,2854,2856,2857,2858,2863,2866,2867,2868,2872,2876,2879,2885,2889,2893,2894,2896,2897,2898,2904,2908,2909,2924,2933,2934,2936,2937,2940,2945,2947,2962,2979,2993,2999,3002,3010,3013,3015,3022,3023,3045,3051,3059,3067,9899,9949,10299,10399,3075,3101,3126,3128,3133,3135,3142,3143,3147,3157,3172,3174,3175,3194,3203,3220,3237,3238,3241,3246,3249,3250,3258,3261,3266,3267,3274,3278,3279,10511,7,9,24,36,38,52,62,79,83,101,110,124,126,131,152,155,157],\"xaxis\":\"x\",\"y\":[null,null,null,null,null,null,null,null,null,null,null,null,null,null,null,null,null,null,null,null,null,null,null,null,null,null,null,null,null,null,null,null,null,null,null,null,null,null,null,null,null,null,null,null,null,null,null,null,null,null,null,null,null,null,null,null,null,null,null,null,null,null,null,null,null,null,null,null,null,0.9844886660575867,0.5344173312187195,null,null,null,null,null,null,null,null,null,null,null,null,null,null,null,null,null,null,null,null,null,null,null,null,null,null,null,null,null,0.3181164860725403,null,null,null,null,null,null,null,null,null,null,null,null,null,null,null,null,null,null,null,null,null,null,null,null,null,null,null,null,null,0.37761086225509644,null,null,null,null,null,null,null,null,null,null,null,null,null,null,null,null,null,null,null,null,null,null,null,null,null,null,null,null,null,null,null,null,null,null,null,0.3908075988292694,null,null,null,null,null,null,null,null,null,null,null,null,null,null,null,null,null,null,null,null,null,null,null,null,null,null,null,null,0.6821295022964478,0.6631123423576355,null,null,null,null,null,null,null,null,null,null,null,null,null,null,null,null,null,null,null,null,null,null,null,null,0.3858831524848938,null,null,null,null,null,null,null,null,null,null,null,null,null,null,null,null,null,null,null,null,null,null,null,null,null,null,null,null,null,null,null,null,null,null,null,null,null,null,null,null,null,null,null,null,null,null,null,null,null,null,null,null,null,null,null,null,null,null,null,null,null,null,null,null,null,null,null,null,null,null,null,0.43110978603363037,0.30939120054244995,0.2044636607170105,null,null,null,null,null,null,null,null,null,null,null,null,null,null,null,null,null,null,null,null,null,null,null,null,null,null,null,null,null,null,null,null,null,null,0.229448139667511,null,null,null,null,null,null,null,null,null,null,null,null,null,null,null,null,null,null,null,null,null,null,null,null,null,null,null,null,null,null,null,null,0.2083977907896042,0.4563733637332916,null,null,null,null,null,null,null,null,null,null,null,null,null,null,null,null,null,null,null,null,null,0.3928055763244629,0.8027065396308899,0.774526059627533,null,null,null,null,null,null,null,null,null,null,null,null,null,null,null,null,null,null,null,null,null,null,null,null,0.5690001249313354,0.33578062057495117,0.2166694700717926,null,null,null,null,null,null,null,null,null,null,null,null,null,null,null,null,null,null,null,null,null,null,null,null,null,null,null,null,null,null,null,null,null,null,null,null,null,null,null,null,null,null,null,null,null,null,null,null,null,null,null,null,null,null,null,null,null,null,null,0.42376047372817993,0.7322878241539001,0.27945971488952637,0.4303280711174011,null,null,null,null,null,null,null,null,null,null,null,null,null,null,null,null,null,null,null,null,null,null,null,null,null,null,null,null,null,null,null,null,null,null,null,null,null,null,null,null,null,null,null,null,null,null,null],\"yaxis\":\"y\",\"type\":\"scatter\"}],                        {\"template\":{\"data\":{\"bar\":[{\"error_x\":{\"color\":\"#2a3f5f\"},\"error_y\":{\"color\":\"#2a3f5f\"},\"marker\":{\"line\":{\"color\":\"#E5ECF6\",\"width\":0.5},\"pattern\":{\"fillmode\":\"overlay\",\"size\":10,\"solidity\":0.2}},\"type\":\"bar\"}],\"barpolar\":[{\"marker\":{\"line\":{\"color\":\"#E5ECF6\",\"width\":0.5},\"pattern\":{\"fillmode\":\"overlay\",\"size\":10,\"solidity\":0.2}},\"type\":\"barpolar\"}],\"carpet\":[{\"aaxis\":{\"endlinecolor\":\"#2a3f5f\",\"gridcolor\":\"white\",\"linecolor\":\"white\",\"minorgridcolor\":\"white\",\"startlinecolor\":\"#2a3f5f\"},\"baxis\":{\"endlinecolor\":\"#2a3f5f\",\"gridcolor\":\"white\",\"linecolor\":\"white\",\"minorgridcolor\":\"white\",\"startlinecolor\":\"#2a3f5f\"},\"type\":\"carpet\"}],\"choropleth\":[{\"colorbar\":{\"outlinewidth\":0,\"ticks\":\"\"},\"type\":\"choropleth\"}],\"contour\":[{\"colorbar\":{\"outlinewidth\":0,\"ticks\":\"\"},\"colorscale\":[[0.0,\"#0d0887\"],[0.1111111111111111,\"#46039f\"],[0.2222222222222222,\"#7201a8\"],[0.3333333333333333,\"#9c179e\"],[0.4444444444444444,\"#bd3786\"],[0.5555555555555556,\"#d8576b\"],[0.6666666666666666,\"#ed7953\"],[0.7777777777777778,\"#fb9f3a\"],[0.8888888888888888,\"#fdca26\"],[1.0,\"#f0f921\"]],\"type\":\"contour\"}],\"contourcarpet\":[{\"colorbar\":{\"outlinewidth\":0,\"ticks\":\"\"},\"type\":\"contourcarpet\"}],\"heatmap\":[{\"colorbar\":{\"outlinewidth\":0,\"ticks\":\"\"},\"colorscale\":[[0.0,\"#0d0887\"],[0.1111111111111111,\"#46039f\"],[0.2222222222222222,\"#7201a8\"],[0.3333333333333333,\"#9c179e\"],[0.4444444444444444,\"#bd3786\"],[0.5555555555555556,\"#d8576b\"],[0.6666666666666666,\"#ed7953\"],[0.7777777777777778,\"#fb9f3a\"],[0.8888888888888888,\"#fdca26\"],[1.0,\"#f0f921\"]],\"type\":\"heatmap\"}],\"heatmapgl\":[{\"colorbar\":{\"outlinewidth\":0,\"ticks\":\"\"},\"colorscale\":[[0.0,\"#0d0887\"],[0.1111111111111111,\"#46039f\"],[0.2222222222222222,\"#7201a8\"],[0.3333333333333333,\"#9c179e\"],[0.4444444444444444,\"#bd3786\"],[0.5555555555555556,\"#d8576b\"],[0.6666666666666666,\"#ed7953\"],[0.7777777777777778,\"#fb9f3a\"],[0.8888888888888888,\"#fdca26\"],[1.0,\"#f0f921\"]],\"type\":\"heatmapgl\"}],\"histogram\":[{\"marker\":{\"pattern\":{\"fillmode\":\"overlay\",\"size\":10,\"solidity\":0.2}},\"type\":\"histogram\"}],\"histogram2d\":[{\"colorbar\":{\"outlinewidth\":0,\"ticks\":\"\"},\"colorscale\":[[0.0,\"#0d0887\"],[0.1111111111111111,\"#46039f\"],[0.2222222222222222,\"#7201a8\"],[0.3333333333333333,\"#9c179e\"],[0.4444444444444444,\"#bd3786\"],[0.5555555555555556,\"#d8576b\"],[0.6666666666666666,\"#ed7953\"],[0.7777777777777778,\"#fb9f3a\"],[0.8888888888888888,\"#fdca26\"],[1.0,\"#f0f921\"]],\"type\":\"histogram2d\"}],\"histogram2dcontour\":[{\"colorbar\":{\"outlinewidth\":0,\"ticks\":\"\"},\"colorscale\":[[0.0,\"#0d0887\"],[0.1111111111111111,\"#46039f\"],[0.2222222222222222,\"#7201a8\"],[0.3333333333333333,\"#9c179e\"],[0.4444444444444444,\"#bd3786\"],[0.5555555555555556,\"#d8576b\"],[0.6666666666666666,\"#ed7953\"],[0.7777777777777778,\"#fb9f3a\"],[0.8888888888888888,\"#fdca26\"],[1.0,\"#f0f921\"]],\"type\":\"histogram2dcontour\"}],\"mesh3d\":[{\"colorbar\":{\"outlinewidth\":0,\"ticks\":\"\"},\"type\":\"mesh3d\"}],\"parcoords\":[{\"line\":{\"colorbar\":{\"outlinewidth\":0,\"ticks\":\"\"}},\"type\":\"parcoords\"}],\"pie\":[{\"automargin\":true,\"type\":\"pie\"}],\"scatter\":[{\"marker\":{\"colorbar\":{\"outlinewidth\":0,\"ticks\":\"\"}},\"type\":\"scatter\"}],\"scatter3d\":[{\"line\":{\"colorbar\":{\"outlinewidth\":0,\"ticks\":\"\"}},\"marker\":{\"colorbar\":{\"outlinewidth\":0,\"ticks\":\"\"}},\"type\":\"scatter3d\"}],\"scattercarpet\":[{\"marker\":{\"colorbar\":{\"outlinewidth\":0,\"ticks\":\"\"}},\"type\":\"scattercarpet\"}],\"scattergeo\":[{\"marker\":{\"colorbar\":{\"outlinewidth\":0,\"ticks\":\"\"}},\"type\":\"scattergeo\"}],\"scattergl\":[{\"marker\":{\"colorbar\":{\"outlinewidth\":0,\"ticks\":\"\"}},\"type\":\"scattergl\"}],\"scattermapbox\":[{\"marker\":{\"colorbar\":{\"outlinewidth\":0,\"ticks\":\"\"}},\"type\":\"scattermapbox\"}],\"scatterpolar\":[{\"marker\":{\"colorbar\":{\"outlinewidth\":0,\"ticks\":\"\"}},\"type\":\"scatterpolar\"}],\"scatterpolargl\":[{\"marker\":{\"colorbar\":{\"outlinewidth\":0,\"ticks\":\"\"}},\"type\":\"scatterpolargl\"}],\"scatterternary\":[{\"marker\":{\"colorbar\":{\"outlinewidth\":0,\"ticks\":\"\"}},\"type\":\"scatterternary\"}],\"surface\":[{\"colorbar\":{\"outlinewidth\":0,\"ticks\":\"\"},\"colorscale\":[[0.0,\"#0d0887\"],[0.1111111111111111,\"#46039f\"],[0.2222222222222222,\"#7201a8\"],[0.3333333333333333,\"#9c179e\"],[0.4444444444444444,\"#bd3786\"],[0.5555555555555556,\"#d8576b\"],[0.6666666666666666,\"#ed7953\"],[0.7777777777777778,\"#fb9f3a\"],[0.8888888888888888,\"#fdca26\"],[1.0,\"#f0f921\"]],\"type\":\"surface\"}],\"table\":[{\"cells\":{\"fill\":{\"color\":\"#EBF0F8\"},\"line\":{\"color\":\"white\"}},\"header\":{\"fill\":{\"color\":\"#C8D4E3\"},\"line\":{\"color\":\"white\"}},\"type\":\"table\"}]},\"layout\":{\"annotationdefaults\":{\"arrowcolor\":\"#2a3f5f\",\"arrowhead\":0,\"arrowwidth\":1},\"autotypenumbers\":\"strict\",\"coloraxis\":{\"colorbar\":{\"outlinewidth\":0,\"ticks\":\"\"}},\"colorscale\":{\"diverging\":[[0,\"#8e0152\"],[0.1,\"#c51b7d\"],[0.2,\"#de77ae\"],[0.3,\"#f1b6da\"],[0.4,\"#fde0ef\"],[0.5,\"#f7f7f7\"],[0.6,\"#e6f5d0\"],[0.7,\"#b8e186\"],[0.8,\"#7fbc41\"],[0.9,\"#4d9221\"],[1,\"#276419\"]],\"sequential\":[[0.0,\"#0d0887\"],[0.1111111111111111,\"#46039f\"],[0.2222222222222222,\"#7201a8\"],[0.3333333333333333,\"#9c179e\"],[0.4444444444444444,\"#bd3786\"],[0.5555555555555556,\"#d8576b\"],[0.6666666666666666,\"#ed7953\"],[0.7777777777777778,\"#fb9f3a\"],[0.8888888888888888,\"#fdca26\"],[1.0,\"#f0f921\"]],\"sequentialminus\":[[0.0,\"#0d0887\"],[0.1111111111111111,\"#46039f\"],[0.2222222222222222,\"#7201a8\"],[0.3333333333333333,\"#9c179e\"],[0.4444444444444444,\"#bd3786\"],[0.5555555555555556,\"#d8576b\"],[0.6666666666666666,\"#ed7953\"],[0.7777777777777778,\"#fb9f3a\"],[0.8888888888888888,\"#fdca26\"],[1.0,\"#f0f921\"]]},\"colorway\":[\"#636efa\",\"#EF553B\",\"#00cc96\",\"#ab63fa\",\"#FFA15A\",\"#19d3f3\",\"#FF6692\",\"#B6E880\",\"#FF97FF\",\"#FECB52\"],\"font\":{\"color\":\"#2a3f5f\"},\"geo\":{\"bgcolor\":\"white\",\"lakecolor\":\"white\",\"landcolor\":\"#E5ECF6\",\"showlakes\":true,\"showland\":true,\"subunitcolor\":\"white\"},\"hoverlabel\":{\"align\":\"left\"},\"hovermode\":\"closest\",\"mapbox\":{\"style\":\"light\"},\"paper_bgcolor\":\"white\",\"plot_bgcolor\":\"#E5ECF6\",\"polar\":{\"angularaxis\":{\"gridcolor\":\"white\",\"linecolor\":\"white\",\"ticks\":\"\"},\"bgcolor\":\"#E5ECF6\",\"radialaxis\":{\"gridcolor\":\"white\",\"linecolor\":\"white\",\"ticks\":\"\"}},\"scene\":{\"xaxis\":{\"backgroundcolor\":\"#E5ECF6\",\"gridcolor\":\"white\",\"gridwidth\":2,\"linecolor\":\"white\",\"showbackground\":true,\"ticks\":\"\",\"zerolinecolor\":\"white\"},\"yaxis\":{\"backgroundcolor\":\"#E5ECF6\",\"gridcolor\":\"white\",\"gridwidth\":2,\"linecolor\":\"white\",\"showbackground\":true,\"ticks\":\"\",\"zerolinecolor\":\"white\"},\"zaxis\":{\"backgroundcolor\":\"#E5ECF6\",\"gridcolor\":\"white\",\"gridwidth\":2,\"linecolor\":\"white\",\"showbackground\":true,\"ticks\":\"\",\"zerolinecolor\":\"white\"}},\"shapedefaults\":{\"line\":{\"color\":\"#2a3f5f\"}},\"ternary\":{\"aaxis\":{\"gridcolor\":\"white\",\"linecolor\":\"white\",\"ticks\":\"\"},\"baxis\":{\"gridcolor\":\"white\",\"linecolor\":\"white\",\"ticks\":\"\"},\"bgcolor\":\"#E5ECF6\",\"caxis\":{\"gridcolor\":\"white\",\"linecolor\":\"white\",\"ticks\":\"\"}},\"title\":{\"x\":0.05},\"xaxis\":{\"automargin\":true,\"gridcolor\":\"white\",\"linecolor\":\"white\",\"ticks\":\"\",\"title\":{\"standoff\":15},\"zerolinecolor\":\"white\",\"zerolinewidth\":2},\"yaxis\":{\"automargin\":true,\"gridcolor\":\"white\",\"linecolor\":\"white\",\"ticks\":\"\",\"title\":{\"standoff\":15},\"zerolinecolor\":\"white\",\"zerolinewidth\":2}}},\"xaxis\":{\"anchor\":\"y\",\"domain\":[0.0,1.0],\"title\":{\"text\":\"trainer/global_step\"}},\"yaxis\":{\"anchor\":\"x\",\"domain\":[0.0,1.0],\"title\":{\"text\":\"train_loss_step\"}},\"legend\":{\"tracegroupgap\":0},\"margin\":{\"t\":60}},                        {\"responsive\": true}                    ).then(function(){\n",
       "                            \n",
       "var gd = document.getElementById('7142dc2f-ac83-4590-ae94-3691ca05ec1a');\n",
       "var x = new MutationObserver(function (mutations, observer) {{\n",
       "        var display = window.getComputedStyle(gd).display;\n",
       "        if (!display || display === 'none') {{\n",
       "            console.log([gd, 'removed!']);\n",
       "            Plotly.purge(gd);\n",
       "            observer.disconnect();\n",
       "        }}\n",
       "}});\n",
       "\n",
       "// Listen for the removal of the full notebook cells\n",
       "var notebookContainer = gd.closest('#notebook-container');\n",
       "if (notebookContainer) {{\n",
       "    x.observe(notebookContainer, {childList: true});\n",
       "}}\n",
       "\n",
       "// Listen for the clearing of the current output cell\n",
       "var outputEl = gd.closest('.output');\n",
       "if (outputEl) {{\n",
       "    x.observe(outputEl, {childList: true});\n",
       "}}\n",
       "\n",
       "                        })                };                });            </script>        </div>"
      ]
     },
     "metadata": {},
     "output_type": "display_data"
    },
    {
     "data": {
      "application/vnd.plotly.v1+json": {
       "config": {
        "plotlyServerURL": "https://plot.ly"
       },
       "data": [
        {
         "hovertemplate": "trainer/global_step=%{x}<br>train_loss_step=%{y}<extra></extra>",
         "legendgroup": "",
         "marker": {
          "color": "#636efa",
          "symbol": "circle"
         },
         "mode": "markers",
         "name": "",
         "orientation": "v",
         "showlegend": false,
         "type": "scatter",
         "x": [
          49,
          99,
          299,
          499,
          649,
          1,
          8,
          10,
          18,
          20,
          24,
          26,
          31,
          34,
          37,
          39,
          42,
          46,
          48,
          53,
          56,
          57,
          58,
          59,
          60,
          64,
          65,
          69,
          73,
          79,
          82,
          88,
          90,
          95,
          103,
          104,
          108,
          111,
          120,
          121,
          129,
          132,
          136,
          137,
          138,
          145,
          147,
          151,
          157,
          163,
          167,
          171,
          173,
          174,
          175,
          177,
          178,
          181,
          183,
          185,
          190,
          193,
          194,
          195,
          197,
          200,
          204,
          656,
          1049,
          1099,
          1149,
          1199,
          1249,
          210,
          213,
          214,
          219,
          223,
          224,
          225,
          226,
          228,
          230,
          232,
          233,
          237,
          238,
          243,
          245,
          246,
          253,
          256,
          258,
          259,
          263,
          264,
          267,
          269,
          272,
          276,
          277,
          279,
          287,
          289,
          301,
          304,
          313,
          315,
          317,
          318,
          323,
          327,
          329,
          339,
          341,
          342,
          344,
          346,
          348,
          350,
          353,
          355,
          359,
          363,
          364,
          365,
          366,
          369,
          371,
          374,
          382,
          385,
          388,
          390,
          393,
          395,
          397,
          398,
          400,
          403,
          407,
          1313,
          1549,
          414,
          415,
          420,
          422,
          431,
          436,
          437,
          438,
          439,
          441,
          443,
          444,
          452,
          453,
          455,
          457,
          458,
          459,
          461,
          466,
          473,
          479,
          480,
          482,
          484,
          487,
          488,
          490,
          492,
          493,
          495,
          499,
          506,
          507,
          510,
          514,
          524,
          525,
          528,
          530,
          534,
          535,
          537,
          538,
          540,
          541,
          543,
          544,
          552,
          553,
          555,
          558,
          559,
          562,
          564,
          566,
          567,
          568,
          576,
          577,
          580,
          589,
          592,
          593,
          594,
          595,
          601,
          608,
          610,
          613,
          2049,
          2249,
          2399,
          2449,
          2499,
          2599,
          615,
          622,
          625,
          627,
          630,
          631,
          637,
          638,
          641,
          642,
          644,
          646,
          650,
          651,
          653,
          659,
          660,
          662,
          664,
          665,
          669,
          672,
          682,
          683,
          686,
          690,
          692,
          695,
          713,
          714,
          715,
          717,
          718,
          725,
          726,
          727,
          730,
          732,
          738,
          741,
          747,
          748,
          750,
          753,
          754,
          756,
          760,
          763,
          767,
          770,
          773,
          780,
          783,
          785,
          789,
          791,
          793,
          796,
          800,
          801,
          803,
          804,
          805,
          806,
          815,
          2799,
          2849,
          2999,
          3099,
          3149,
          3199,
          821,
          825,
          826,
          828,
          829,
          831,
          832,
          833,
          837,
          840,
          846,
          849,
          851,
          852,
          857,
          861,
          862,
          870,
          874,
          880,
          881,
          884,
          887,
          897,
          902,
          904,
          905,
          906,
          908,
          909,
          911,
          913,
          916,
          919,
          920,
          923,
          924,
          926,
          928,
          932,
          936,
          943,
          944,
          946,
          949,
          952,
          958,
          961,
          965,
          966,
          967,
          968,
          970,
          971,
          976,
          978,
          979,
          980,
          981,
          990,
          993,
          994,
          999,
          1002,
          1005,
          1006,
          1007,
          1008,
          1009,
          1010,
          1012,
          1016,
          1022,
          1024,
          3284,
          3399,
          3449,
          1029,
          1033,
          1034,
          1035,
          1036,
          1040,
          1043,
          1045,
          1046,
          1050,
          1051,
          1052,
          1060,
          1063,
          1067,
          1069,
          1070,
          1072,
          1073,
          1077,
          1078,
          1081,
          1084,
          1088,
          1089,
          1091,
          1092,
          1095,
          1096,
          1100,
          1103,
          1104,
          1105,
          1109,
          1113,
          1114,
          1116,
          1117,
          1121,
          1122,
          1130,
          1132,
          1140,
          1141,
          1144,
          1148,
          1151,
          1154,
          1158,
          1168,
          1169,
          1170,
          1172,
          1174,
          1178,
          1181,
          1182,
          1183,
          1185,
          1194,
          1198,
          1199,
          1200,
          1202,
          1203,
          1209,
          1215,
          1217,
          1219,
          1222,
          1223,
          1228,
          1229,
          3941,
          0,
          2,
          3,
          4,
          6,
          12,
          16,
          17,
          34,
          38,
          39,
          40,
          42,
          43,
          45,
          46,
          51,
          53,
          56,
          59,
          60,
          62,
          64,
          65,
          69,
          70,
          73,
          74,
          76,
          77,
          79,
          80,
          83,
          85,
          90,
          102,
          108,
          112,
          113,
          115,
          123,
          128,
          129,
          134,
          139,
          143,
          144,
          151,
          152,
          157,
          158,
          159,
          160,
          3942
         ],
         "xaxis": "x",
         "y": [
          1.6593432426452637,
          1.5779824256896973,
          0.750460147857666,
          1.0017304420471191,
          0.7193082571029663,
          null,
          null,
          null,
          null,
          null,
          null,
          null,
          null,
          null,
          null,
          null,
          null,
          null,
          null,
          null,
          null,
          null,
          null,
          null,
          null,
          null,
          null,
          null,
          null,
          null,
          null,
          null,
          null,
          null,
          null,
          null,
          null,
          null,
          null,
          null,
          null,
          null,
          null,
          null,
          null,
          null,
          null,
          null,
          null,
          null,
          null,
          null,
          null,
          null,
          null,
          null,
          null,
          null,
          null,
          null,
          null,
          null,
          null,
          null,
          null,
          null,
          null,
          null,
          0.7081016898155212,
          0.7148829102516174,
          0.9435492157936096,
          0.4688456356525421,
          0.9214981198310852,
          null,
          null,
          null,
          null,
          null,
          null,
          null,
          null,
          null,
          null,
          null,
          null,
          null,
          null,
          null,
          null,
          null,
          null,
          null,
          null,
          null,
          null,
          null,
          null,
          null,
          null,
          null,
          null,
          null,
          null,
          null,
          null,
          null,
          null,
          null,
          null,
          null,
          null,
          null,
          null,
          null,
          null,
          null,
          null,
          null,
          null,
          null,
          null,
          null,
          null,
          null,
          null,
          null,
          null,
          null,
          null,
          null,
          null,
          null,
          null,
          null,
          null,
          null,
          null,
          null,
          null,
          null,
          null,
          null,
          0.8743521571159363,
          null,
          null,
          null,
          null,
          null,
          null,
          null,
          null,
          null,
          null,
          null,
          null,
          null,
          null,
          null,
          null,
          null,
          null,
          null,
          null,
          null,
          null,
          null,
          null,
          null,
          null,
          null,
          null,
          null,
          null,
          null,
          null,
          null,
          null,
          null,
          null,
          null,
          null,
          null,
          null,
          null,
          null,
          null,
          null,
          null,
          null,
          null,
          null,
          null,
          null,
          null,
          null,
          null,
          null,
          null,
          null,
          null,
          null,
          null,
          null,
          null,
          null,
          null,
          null,
          null,
          null,
          null,
          null,
          null,
          null,
          0.5542468428611755,
          0.45011967420578003,
          0.9667571187019348,
          0.6391748189926147,
          0.5578127503395081,
          0.7205201983451843,
          null,
          null,
          null,
          null,
          null,
          null,
          null,
          null,
          null,
          null,
          null,
          null,
          null,
          null,
          null,
          null,
          null,
          null,
          null,
          null,
          null,
          null,
          null,
          null,
          null,
          null,
          null,
          null,
          null,
          null,
          null,
          null,
          null,
          null,
          null,
          null,
          null,
          null,
          null,
          null,
          null,
          null,
          null,
          null,
          null,
          null,
          null,
          null,
          null,
          null,
          null,
          null,
          null,
          null,
          null,
          null,
          null,
          null,
          null,
          null,
          null,
          null,
          null,
          null,
          null,
          0.58575040102005,
          1.3669248819351196,
          0.46693331003189087,
          0.8427391648292542,
          0.6834672689437866,
          1.1303678750991821,
          null,
          null,
          null,
          null,
          null,
          null,
          null,
          null,
          null,
          null,
          null,
          null,
          null,
          null,
          null,
          null,
          null,
          null,
          null,
          null,
          null,
          null,
          null,
          null,
          null,
          null,
          null,
          null,
          null,
          null,
          null,
          null,
          null,
          null,
          null,
          null,
          null,
          null,
          null,
          null,
          null,
          null,
          null,
          null,
          null,
          null,
          null,
          null,
          null,
          null,
          null,
          null,
          null,
          null,
          null,
          null,
          null,
          null,
          null,
          null,
          null,
          null,
          null,
          null,
          null,
          null,
          null,
          null,
          null,
          null,
          null,
          null,
          null,
          null,
          null,
          0.6707468032836914,
          0.7630820274353027,
          null,
          null,
          null,
          null,
          null,
          null,
          null,
          null,
          null,
          null,
          null,
          null,
          null,
          null,
          null,
          null,
          null,
          null,
          null,
          null,
          null,
          null,
          null,
          null,
          null,
          null,
          null,
          null,
          null,
          null,
          null,
          null,
          null,
          null,
          null,
          null,
          null,
          null,
          null,
          null,
          null,
          null,
          null,
          null,
          null,
          null,
          null,
          null,
          null,
          null,
          null,
          null,
          null,
          null,
          null,
          null,
          null,
          null,
          null,
          null,
          null,
          null,
          null,
          null,
          null,
          null,
          null,
          null,
          null,
          null,
          null,
          null,
          null,
          null,
          null,
          null,
          null,
          null,
          null,
          null,
          null,
          null,
          null,
          null,
          null,
          null,
          null,
          null,
          null,
          null,
          null,
          null,
          null,
          null,
          null,
          null,
          null,
          null,
          null,
          null,
          null,
          null,
          null,
          null,
          null,
          null,
          null,
          null,
          null,
          null,
          null,
          null,
          null,
          null,
          null,
          null,
          null,
          null,
          null,
          null,
          null,
          null,
          null,
          null,
          null,
          null,
          null,
          null
         ],
         "yaxis": "y"
        }
       ],
       "layout": {
        "legend": {
         "tracegroupgap": 0
        },
        "margin": {
         "t": 60
        },
        "template": {
         "data": {
          "bar": [
           {
            "error_x": {
             "color": "#2a3f5f"
            },
            "error_y": {
             "color": "#2a3f5f"
            },
            "marker": {
             "line": {
              "color": "#E5ECF6",
              "width": 0.5
             },
             "pattern": {
              "fillmode": "overlay",
              "size": 10,
              "solidity": 0.2
             }
            },
            "type": "bar"
           }
          ],
          "barpolar": [
           {
            "marker": {
             "line": {
              "color": "#E5ECF6",
              "width": 0.5
             },
             "pattern": {
              "fillmode": "overlay",
              "size": 10,
              "solidity": 0.2
             }
            },
            "type": "barpolar"
           }
          ],
          "carpet": [
           {
            "aaxis": {
             "endlinecolor": "#2a3f5f",
             "gridcolor": "white",
             "linecolor": "white",
             "minorgridcolor": "white",
             "startlinecolor": "#2a3f5f"
            },
            "baxis": {
             "endlinecolor": "#2a3f5f",
             "gridcolor": "white",
             "linecolor": "white",
             "minorgridcolor": "white",
             "startlinecolor": "#2a3f5f"
            },
            "type": "carpet"
           }
          ],
          "choropleth": [
           {
            "colorbar": {
             "outlinewidth": 0,
             "ticks": ""
            },
            "type": "choropleth"
           }
          ],
          "contour": [
           {
            "colorbar": {
             "outlinewidth": 0,
             "ticks": ""
            },
            "colorscale": [
             [
              0,
              "#0d0887"
             ],
             [
              0.1111111111111111,
              "#46039f"
             ],
             [
              0.2222222222222222,
              "#7201a8"
             ],
             [
              0.3333333333333333,
              "#9c179e"
             ],
             [
              0.4444444444444444,
              "#bd3786"
             ],
             [
              0.5555555555555556,
              "#d8576b"
             ],
             [
              0.6666666666666666,
              "#ed7953"
             ],
             [
              0.7777777777777778,
              "#fb9f3a"
             ],
             [
              0.8888888888888888,
              "#fdca26"
             ],
             [
              1,
              "#f0f921"
             ]
            ],
            "type": "contour"
           }
          ],
          "contourcarpet": [
           {
            "colorbar": {
             "outlinewidth": 0,
             "ticks": ""
            },
            "type": "contourcarpet"
           }
          ],
          "heatmap": [
           {
            "colorbar": {
             "outlinewidth": 0,
             "ticks": ""
            },
            "colorscale": [
             [
              0,
              "#0d0887"
             ],
             [
              0.1111111111111111,
              "#46039f"
             ],
             [
              0.2222222222222222,
              "#7201a8"
             ],
             [
              0.3333333333333333,
              "#9c179e"
             ],
             [
              0.4444444444444444,
              "#bd3786"
             ],
             [
              0.5555555555555556,
              "#d8576b"
             ],
             [
              0.6666666666666666,
              "#ed7953"
             ],
             [
              0.7777777777777778,
              "#fb9f3a"
             ],
             [
              0.8888888888888888,
              "#fdca26"
             ],
             [
              1,
              "#f0f921"
             ]
            ],
            "type": "heatmap"
           }
          ],
          "heatmapgl": [
           {
            "colorbar": {
             "outlinewidth": 0,
             "ticks": ""
            },
            "colorscale": [
             [
              0,
              "#0d0887"
             ],
             [
              0.1111111111111111,
              "#46039f"
             ],
             [
              0.2222222222222222,
              "#7201a8"
             ],
             [
              0.3333333333333333,
              "#9c179e"
             ],
             [
              0.4444444444444444,
              "#bd3786"
             ],
             [
              0.5555555555555556,
              "#d8576b"
             ],
             [
              0.6666666666666666,
              "#ed7953"
             ],
             [
              0.7777777777777778,
              "#fb9f3a"
             ],
             [
              0.8888888888888888,
              "#fdca26"
             ],
             [
              1,
              "#f0f921"
             ]
            ],
            "type": "heatmapgl"
           }
          ],
          "histogram": [
           {
            "marker": {
             "pattern": {
              "fillmode": "overlay",
              "size": 10,
              "solidity": 0.2
             }
            },
            "type": "histogram"
           }
          ],
          "histogram2d": [
           {
            "colorbar": {
             "outlinewidth": 0,
             "ticks": ""
            },
            "colorscale": [
             [
              0,
              "#0d0887"
             ],
             [
              0.1111111111111111,
              "#46039f"
             ],
             [
              0.2222222222222222,
              "#7201a8"
             ],
             [
              0.3333333333333333,
              "#9c179e"
             ],
             [
              0.4444444444444444,
              "#bd3786"
             ],
             [
              0.5555555555555556,
              "#d8576b"
             ],
             [
              0.6666666666666666,
              "#ed7953"
             ],
             [
              0.7777777777777778,
              "#fb9f3a"
             ],
             [
              0.8888888888888888,
              "#fdca26"
             ],
             [
              1,
              "#f0f921"
             ]
            ],
            "type": "histogram2d"
           }
          ],
          "histogram2dcontour": [
           {
            "colorbar": {
             "outlinewidth": 0,
             "ticks": ""
            },
            "colorscale": [
             [
              0,
              "#0d0887"
             ],
             [
              0.1111111111111111,
              "#46039f"
             ],
             [
              0.2222222222222222,
              "#7201a8"
             ],
             [
              0.3333333333333333,
              "#9c179e"
             ],
             [
              0.4444444444444444,
              "#bd3786"
             ],
             [
              0.5555555555555556,
              "#d8576b"
             ],
             [
              0.6666666666666666,
              "#ed7953"
             ],
             [
              0.7777777777777778,
              "#fb9f3a"
             ],
             [
              0.8888888888888888,
              "#fdca26"
             ],
             [
              1,
              "#f0f921"
             ]
            ],
            "type": "histogram2dcontour"
           }
          ],
          "mesh3d": [
           {
            "colorbar": {
             "outlinewidth": 0,
             "ticks": ""
            },
            "type": "mesh3d"
           }
          ],
          "parcoords": [
           {
            "line": {
             "colorbar": {
              "outlinewidth": 0,
              "ticks": ""
             }
            },
            "type": "parcoords"
           }
          ],
          "pie": [
           {
            "automargin": true,
            "type": "pie"
           }
          ],
          "scatter": [
           {
            "marker": {
             "colorbar": {
              "outlinewidth": 0,
              "ticks": ""
             }
            },
            "type": "scatter"
           }
          ],
          "scatter3d": [
           {
            "line": {
             "colorbar": {
              "outlinewidth": 0,
              "ticks": ""
             }
            },
            "marker": {
             "colorbar": {
              "outlinewidth": 0,
              "ticks": ""
             }
            },
            "type": "scatter3d"
           }
          ],
          "scattercarpet": [
           {
            "marker": {
             "colorbar": {
              "outlinewidth": 0,
              "ticks": ""
             }
            },
            "type": "scattercarpet"
           }
          ],
          "scattergeo": [
           {
            "marker": {
             "colorbar": {
              "outlinewidth": 0,
              "ticks": ""
             }
            },
            "type": "scattergeo"
           }
          ],
          "scattergl": [
           {
            "marker": {
             "colorbar": {
              "outlinewidth": 0,
              "ticks": ""
             }
            },
            "type": "scattergl"
           }
          ],
          "scattermapbox": [
           {
            "marker": {
             "colorbar": {
              "outlinewidth": 0,
              "ticks": ""
             }
            },
            "type": "scattermapbox"
           }
          ],
          "scatterpolar": [
           {
            "marker": {
             "colorbar": {
              "outlinewidth": 0,
              "ticks": ""
             }
            },
            "type": "scatterpolar"
           }
          ],
          "scatterpolargl": [
           {
            "marker": {
             "colorbar": {
              "outlinewidth": 0,
              "ticks": ""
             }
            },
            "type": "scatterpolargl"
           }
          ],
          "scatterternary": [
           {
            "marker": {
             "colorbar": {
              "outlinewidth": 0,
              "ticks": ""
             }
            },
            "type": "scatterternary"
           }
          ],
          "surface": [
           {
            "colorbar": {
             "outlinewidth": 0,
             "ticks": ""
            },
            "colorscale": [
             [
              0,
              "#0d0887"
             ],
             [
              0.1111111111111111,
              "#46039f"
             ],
             [
              0.2222222222222222,
              "#7201a8"
             ],
             [
              0.3333333333333333,
              "#9c179e"
             ],
             [
              0.4444444444444444,
              "#bd3786"
             ],
             [
              0.5555555555555556,
              "#d8576b"
             ],
             [
              0.6666666666666666,
              "#ed7953"
             ],
             [
              0.7777777777777778,
              "#fb9f3a"
             ],
             [
              0.8888888888888888,
              "#fdca26"
             ],
             [
              1,
              "#f0f921"
             ]
            ],
            "type": "surface"
           }
          ],
          "table": [
           {
            "cells": {
             "fill": {
              "color": "#EBF0F8"
             },
             "line": {
              "color": "white"
             }
            },
            "header": {
             "fill": {
              "color": "#C8D4E3"
             },
             "line": {
              "color": "white"
             }
            },
            "type": "table"
           }
          ]
         },
         "layout": {
          "annotationdefaults": {
           "arrowcolor": "#2a3f5f",
           "arrowhead": 0,
           "arrowwidth": 1
          },
          "autotypenumbers": "strict",
          "coloraxis": {
           "colorbar": {
            "outlinewidth": 0,
            "ticks": ""
           }
          },
          "colorscale": {
           "diverging": [
            [
             0,
             "#8e0152"
            ],
            [
             0.1,
             "#c51b7d"
            ],
            [
             0.2,
             "#de77ae"
            ],
            [
             0.3,
             "#f1b6da"
            ],
            [
             0.4,
             "#fde0ef"
            ],
            [
             0.5,
             "#f7f7f7"
            ],
            [
             0.6,
             "#e6f5d0"
            ],
            [
             0.7,
             "#b8e186"
            ],
            [
             0.8,
             "#7fbc41"
            ],
            [
             0.9,
             "#4d9221"
            ],
            [
             1,
             "#276419"
            ]
           ],
           "sequential": [
            [
             0,
             "#0d0887"
            ],
            [
             0.1111111111111111,
             "#46039f"
            ],
            [
             0.2222222222222222,
             "#7201a8"
            ],
            [
             0.3333333333333333,
             "#9c179e"
            ],
            [
             0.4444444444444444,
             "#bd3786"
            ],
            [
             0.5555555555555556,
             "#d8576b"
            ],
            [
             0.6666666666666666,
             "#ed7953"
            ],
            [
             0.7777777777777778,
             "#fb9f3a"
            ],
            [
             0.8888888888888888,
             "#fdca26"
            ],
            [
             1,
             "#f0f921"
            ]
           ],
           "sequentialminus": [
            [
             0,
             "#0d0887"
            ],
            [
             0.1111111111111111,
             "#46039f"
            ],
            [
             0.2222222222222222,
             "#7201a8"
            ],
            [
             0.3333333333333333,
             "#9c179e"
            ],
            [
             0.4444444444444444,
             "#bd3786"
            ],
            [
             0.5555555555555556,
             "#d8576b"
            ],
            [
             0.6666666666666666,
             "#ed7953"
            ],
            [
             0.7777777777777778,
             "#fb9f3a"
            ],
            [
             0.8888888888888888,
             "#fdca26"
            ],
            [
             1,
             "#f0f921"
            ]
           ]
          },
          "colorway": [
           "#636efa",
           "#EF553B",
           "#00cc96",
           "#ab63fa",
           "#FFA15A",
           "#19d3f3",
           "#FF6692",
           "#B6E880",
           "#FF97FF",
           "#FECB52"
          ],
          "font": {
           "color": "#2a3f5f"
          },
          "geo": {
           "bgcolor": "white",
           "lakecolor": "white",
           "landcolor": "#E5ECF6",
           "showlakes": true,
           "showland": true,
           "subunitcolor": "white"
          },
          "hoverlabel": {
           "align": "left"
          },
          "hovermode": "closest",
          "mapbox": {
           "style": "light"
          },
          "paper_bgcolor": "white",
          "plot_bgcolor": "#E5ECF6",
          "polar": {
           "angularaxis": {
            "gridcolor": "white",
            "linecolor": "white",
            "ticks": ""
           },
           "bgcolor": "#E5ECF6",
           "radialaxis": {
            "gridcolor": "white",
            "linecolor": "white",
            "ticks": ""
           }
          },
          "scene": {
           "xaxis": {
            "backgroundcolor": "#E5ECF6",
            "gridcolor": "white",
            "gridwidth": 2,
            "linecolor": "white",
            "showbackground": true,
            "ticks": "",
            "zerolinecolor": "white"
           },
           "yaxis": {
            "backgroundcolor": "#E5ECF6",
            "gridcolor": "white",
            "gridwidth": 2,
            "linecolor": "white",
            "showbackground": true,
            "ticks": "",
            "zerolinecolor": "white"
           },
           "zaxis": {
            "backgroundcolor": "#E5ECF6",
            "gridcolor": "white",
            "gridwidth": 2,
            "linecolor": "white",
            "showbackground": true,
            "ticks": "",
            "zerolinecolor": "white"
           }
          },
          "shapedefaults": {
           "line": {
            "color": "#2a3f5f"
           }
          },
          "ternary": {
           "aaxis": {
            "gridcolor": "white",
            "linecolor": "white",
            "ticks": ""
           },
           "baxis": {
            "gridcolor": "white",
            "linecolor": "white",
            "ticks": ""
           },
           "bgcolor": "#E5ECF6",
           "caxis": {
            "gridcolor": "white",
            "linecolor": "white",
            "ticks": ""
           }
          },
          "title": {
           "x": 0.05
          },
          "xaxis": {
           "automargin": true,
           "gridcolor": "white",
           "linecolor": "white",
           "ticks": "",
           "title": {
            "standoff": 15
           },
           "zerolinecolor": "white",
           "zerolinewidth": 2
          },
          "yaxis": {
           "automargin": true,
           "gridcolor": "white",
           "linecolor": "white",
           "ticks": "",
           "title": {
            "standoff": 15
           },
           "zerolinecolor": "white",
           "zerolinewidth": 2
          }
         }
        },
        "xaxis": {
         "anchor": "y",
         "domain": [
          0,
          1
         ],
         "title": {
          "text": "trainer/global_step"
         }
        },
        "yaxis": {
         "anchor": "x",
         "domain": [
          0,
          1
         ],
         "title": {
          "text": "train_loss_step"
         }
        }
       }
      },
      "text/html": [
       "<div>                            <div id=\"9caa30ff-1600-48fe-bb8b-4f7a3737be52\" class=\"plotly-graph-div\" style=\"height:525px; width:100%;\"></div>            <script type=\"text/javascript\">                require([\"plotly\"], function(Plotly) {                    window.PLOTLYENV=window.PLOTLYENV || {};                                    if (document.getElementById(\"9caa30ff-1600-48fe-bb8b-4f7a3737be52\")) {                    Plotly.newPlot(                        \"9caa30ff-1600-48fe-bb8b-4f7a3737be52\",                        [{\"hovertemplate\":\"trainer/global_step=%{x}<br>train_loss_step=%{y}<extra></extra>\",\"legendgroup\":\"\",\"marker\":{\"color\":\"#636efa\",\"symbol\":\"circle\"},\"mode\":\"markers\",\"name\":\"\",\"orientation\":\"v\",\"showlegend\":false,\"x\":[49,99,299,499,649,1,8,10,18,20,24,26,31,34,37,39,42,46,48,53,56,57,58,59,60,64,65,69,73,79,82,88,90,95,103,104,108,111,120,121,129,132,136,137,138,145,147,151,157,163,167,171,173,174,175,177,178,181,183,185,190,193,194,195,197,200,204,656,1049,1099,1149,1199,1249,210,213,214,219,223,224,225,226,228,230,232,233,237,238,243,245,246,253,256,258,259,263,264,267,269,272,276,277,279,287,289,301,304,313,315,317,318,323,327,329,339,341,342,344,346,348,350,353,355,359,363,364,365,366,369,371,374,382,385,388,390,393,395,397,398,400,403,407,1313,1549,414,415,420,422,431,436,437,438,439,441,443,444,452,453,455,457,458,459,461,466,473,479,480,482,484,487,488,490,492,493,495,499,506,507,510,514,524,525,528,530,534,535,537,538,540,541,543,544,552,553,555,558,559,562,564,566,567,568,576,577,580,589,592,593,594,595,601,608,610,613,2049,2249,2399,2449,2499,2599,615,622,625,627,630,631,637,638,641,642,644,646,650,651,653,659,660,662,664,665,669,672,682,683,686,690,692,695,713,714,715,717,718,725,726,727,730,732,738,741,747,748,750,753,754,756,760,763,767,770,773,780,783,785,789,791,793,796,800,801,803,804,805,806,815,2799,2849,2999,3099,3149,3199,821,825,826,828,829,831,832,833,837,840,846,849,851,852,857,861,862,870,874,880,881,884,887,897,902,904,905,906,908,909,911,913,916,919,920,923,924,926,928,932,936,943,944,946,949,952,958,961,965,966,967,968,970,971,976,978,979,980,981,990,993,994,999,1002,1005,1006,1007,1008,1009,1010,1012,1016,1022,1024,3284,3399,3449,1029,1033,1034,1035,1036,1040,1043,1045,1046,1050,1051,1052,1060,1063,1067,1069,1070,1072,1073,1077,1078,1081,1084,1088,1089,1091,1092,1095,1096,1100,1103,1104,1105,1109,1113,1114,1116,1117,1121,1122,1130,1132,1140,1141,1144,1148,1151,1154,1158,1168,1169,1170,1172,1174,1178,1181,1182,1183,1185,1194,1198,1199,1200,1202,1203,1209,1215,1217,1219,1222,1223,1228,1229,3941,0,2,3,4,6,12,16,17,34,38,39,40,42,43,45,46,51,53,56,59,60,62,64,65,69,70,73,74,76,77,79,80,83,85,90,102,108,112,113,115,123,128,129,134,139,143,144,151,152,157,158,159,160,3942],\"xaxis\":\"x\",\"y\":[1.6593432426452637,1.5779824256896973,0.750460147857666,1.0017304420471191,0.7193082571029663,null,null,null,null,null,null,null,null,null,null,null,null,null,null,null,null,null,null,null,null,null,null,null,null,null,null,null,null,null,null,null,null,null,null,null,null,null,null,null,null,null,null,null,null,null,null,null,null,null,null,null,null,null,null,null,null,null,null,null,null,null,null,null,0.7081016898155212,0.7148829102516174,0.9435492157936096,0.4688456356525421,0.9214981198310852,null,null,null,null,null,null,null,null,null,null,null,null,null,null,null,null,null,null,null,null,null,null,null,null,null,null,null,null,null,null,null,null,null,null,null,null,null,null,null,null,null,null,null,null,null,null,null,null,null,null,null,null,null,null,null,null,null,null,null,null,null,null,null,null,null,null,null,null,null,0.8743521571159363,null,null,null,null,null,null,null,null,null,null,null,null,null,null,null,null,null,null,null,null,null,null,null,null,null,null,null,null,null,null,null,null,null,null,null,null,null,null,null,null,null,null,null,null,null,null,null,null,null,null,null,null,null,null,null,null,null,null,null,null,null,null,null,null,null,null,null,null,null,null,0.5542468428611755,0.45011967420578003,0.9667571187019348,0.6391748189926147,0.5578127503395081,0.7205201983451843,null,null,null,null,null,null,null,null,null,null,null,null,null,null,null,null,null,null,null,null,null,null,null,null,null,null,null,null,null,null,null,null,null,null,null,null,null,null,null,null,null,null,null,null,null,null,null,null,null,null,null,null,null,null,null,null,null,null,null,null,null,null,null,null,null,0.58575040102005,1.3669248819351196,0.46693331003189087,0.8427391648292542,0.6834672689437866,1.1303678750991821,null,null,null,null,null,null,null,null,null,null,null,null,null,null,null,null,null,null,null,null,null,null,null,null,null,null,null,null,null,null,null,null,null,null,null,null,null,null,null,null,null,null,null,null,null,null,null,null,null,null,null,null,null,null,null,null,null,null,null,null,null,null,null,null,null,null,null,null,null,null,null,null,null,null,null,0.6707468032836914,0.7630820274353027,null,null,null,null,null,null,null,null,null,null,null,null,null,null,null,null,null,null,null,null,null,null,null,null,null,null,null,null,null,null,null,null,null,null,null,null,null,null,null,null,null,null,null,null,null,null,null,null,null,null,null,null,null,null,null,null,null,null,null,null,null,null,null,null,null,null,null,null,null,null,null,null,null,null,null,null,null,null,null,null,null,null,null,null,null,null,null,null,null,null,null,null,null,null,null,null,null,null,null,null,null,null,null,null,null,null,null,null,null,null,null,null,null,null,null,null,null,null,null,null,null,null,null,null,null,null,null,null],\"yaxis\":\"y\",\"type\":\"scatter\"}],                        {\"template\":{\"data\":{\"bar\":[{\"error_x\":{\"color\":\"#2a3f5f\"},\"error_y\":{\"color\":\"#2a3f5f\"},\"marker\":{\"line\":{\"color\":\"#E5ECF6\",\"width\":0.5},\"pattern\":{\"fillmode\":\"overlay\",\"size\":10,\"solidity\":0.2}},\"type\":\"bar\"}],\"barpolar\":[{\"marker\":{\"line\":{\"color\":\"#E5ECF6\",\"width\":0.5},\"pattern\":{\"fillmode\":\"overlay\",\"size\":10,\"solidity\":0.2}},\"type\":\"barpolar\"}],\"carpet\":[{\"aaxis\":{\"endlinecolor\":\"#2a3f5f\",\"gridcolor\":\"white\",\"linecolor\":\"white\",\"minorgridcolor\":\"white\",\"startlinecolor\":\"#2a3f5f\"},\"baxis\":{\"endlinecolor\":\"#2a3f5f\",\"gridcolor\":\"white\",\"linecolor\":\"white\",\"minorgridcolor\":\"white\",\"startlinecolor\":\"#2a3f5f\"},\"type\":\"carpet\"}],\"choropleth\":[{\"colorbar\":{\"outlinewidth\":0,\"ticks\":\"\"},\"type\":\"choropleth\"}],\"contour\":[{\"colorbar\":{\"outlinewidth\":0,\"ticks\":\"\"},\"colorscale\":[[0.0,\"#0d0887\"],[0.1111111111111111,\"#46039f\"],[0.2222222222222222,\"#7201a8\"],[0.3333333333333333,\"#9c179e\"],[0.4444444444444444,\"#bd3786\"],[0.5555555555555556,\"#d8576b\"],[0.6666666666666666,\"#ed7953\"],[0.7777777777777778,\"#fb9f3a\"],[0.8888888888888888,\"#fdca26\"],[1.0,\"#f0f921\"]],\"type\":\"contour\"}],\"contourcarpet\":[{\"colorbar\":{\"outlinewidth\":0,\"ticks\":\"\"},\"type\":\"contourcarpet\"}],\"heatmap\":[{\"colorbar\":{\"outlinewidth\":0,\"ticks\":\"\"},\"colorscale\":[[0.0,\"#0d0887\"],[0.1111111111111111,\"#46039f\"],[0.2222222222222222,\"#7201a8\"],[0.3333333333333333,\"#9c179e\"],[0.4444444444444444,\"#bd3786\"],[0.5555555555555556,\"#d8576b\"],[0.6666666666666666,\"#ed7953\"],[0.7777777777777778,\"#fb9f3a\"],[0.8888888888888888,\"#fdca26\"],[1.0,\"#f0f921\"]],\"type\":\"heatmap\"}],\"heatmapgl\":[{\"colorbar\":{\"outlinewidth\":0,\"ticks\":\"\"},\"colorscale\":[[0.0,\"#0d0887\"],[0.1111111111111111,\"#46039f\"],[0.2222222222222222,\"#7201a8\"],[0.3333333333333333,\"#9c179e\"],[0.4444444444444444,\"#bd3786\"],[0.5555555555555556,\"#d8576b\"],[0.6666666666666666,\"#ed7953\"],[0.7777777777777778,\"#fb9f3a\"],[0.8888888888888888,\"#fdca26\"],[1.0,\"#f0f921\"]],\"type\":\"heatmapgl\"}],\"histogram\":[{\"marker\":{\"pattern\":{\"fillmode\":\"overlay\",\"size\":10,\"solidity\":0.2}},\"type\":\"histogram\"}],\"histogram2d\":[{\"colorbar\":{\"outlinewidth\":0,\"ticks\":\"\"},\"colorscale\":[[0.0,\"#0d0887\"],[0.1111111111111111,\"#46039f\"],[0.2222222222222222,\"#7201a8\"],[0.3333333333333333,\"#9c179e\"],[0.4444444444444444,\"#bd3786\"],[0.5555555555555556,\"#d8576b\"],[0.6666666666666666,\"#ed7953\"],[0.7777777777777778,\"#fb9f3a\"],[0.8888888888888888,\"#fdca26\"],[1.0,\"#f0f921\"]],\"type\":\"histogram2d\"}],\"histogram2dcontour\":[{\"colorbar\":{\"outlinewidth\":0,\"ticks\":\"\"},\"colorscale\":[[0.0,\"#0d0887\"],[0.1111111111111111,\"#46039f\"],[0.2222222222222222,\"#7201a8\"],[0.3333333333333333,\"#9c179e\"],[0.4444444444444444,\"#bd3786\"],[0.5555555555555556,\"#d8576b\"],[0.6666666666666666,\"#ed7953\"],[0.7777777777777778,\"#fb9f3a\"],[0.8888888888888888,\"#fdca26\"],[1.0,\"#f0f921\"]],\"type\":\"histogram2dcontour\"}],\"mesh3d\":[{\"colorbar\":{\"outlinewidth\":0,\"ticks\":\"\"},\"type\":\"mesh3d\"}],\"parcoords\":[{\"line\":{\"colorbar\":{\"outlinewidth\":0,\"ticks\":\"\"}},\"type\":\"parcoords\"}],\"pie\":[{\"automargin\":true,\"type\":\"pie\"}],\"scatter\":[{\"marker\":{\"colorbar\":{\"outlinewidth\":0,\"ticks\":\"\"}},\"type\":\"scatter\"}],\"scatter3d\":[{\"line\":{\"colorbar\":{\"outlinewidth\":0,\"ticks\":\"\"}},\"marker\":{\"colorbar\":{\"outlinewidth\":0,\"ticks\":\"\"}},\"type\":\"scatter3d\"}],\"scattercarpet\":[{\"marker\":{\"colorbar\":{\"outlinewidth\":0,\"ticks\":\"\"}},\"type\":\"scattercarpet\"}],\"scattergeo\":[{\"marker\":{\"colorbar\":{\"outlinewidth\":0,\"ticks\":\"\"}},\"type\":\"scattergeo\"}],\"scattergl\":[{\"marker\":{\"colorbar\":{\"outlinewidth\":0,\"ticks\":\"\"}},\"type\":\"scattergl\"}],\"scattermapbox\":[{\"marker\":{\"colorbar\":{\"outlinewidth\":0,\"ticks\":\"\"}},\"type\":\"scattermapbox\"}],\"scatterpolar\":[{\"marker\":{\"colorbar\":{\"outlinewidth\":0,\"ticks\":\"\"}},\"type\":\"scatterpolar\"}],\"scatterpolargl\":[{\"marker\":{\"colorbar\":{\"outlinewidth\":0,\"ticks\":\"\"}},\"type\":\"scatterpolargl\"}],\"scatterternary\":[{\"marker\":{\"colorbar\":{\"outlinewidth\":0,\"ticks\":\"\"}},\"type\":\"scatterternary\"}],\"surface\":[{\"colorbar\":{\"outlinewidth\":0,\"ticks\":\"\"},\"colorscale\":[[0.0,\"#0d0887\"],[0.1111111111111111,\"#46039f\"],[0.2222222222222222,\"#7201a8\"],[0.3333333333333333,\"#9c179e\"],[0.4444444444444444,\"#bd3786\"],[0.5555555555555556,\"#d8576b\"],[0.6666666666666666,\"#ed7953\"],[0.7777777777777778,\"#fb9f3a\"],[0.8888888888888888,\"#fdca26\"],[1.0,\"#f0f921\"]],\"type\":\"surface\"}],\"table\":[{\"cells\":{\"fill\":{\"color\":\"#EBF0F8\"},\"line\":{\"color\":\"white\"}},\"header\":{\"fill\":{\"color\":\"#C8D4E3\"},\"line\":{\"color\":\"white\"}},\"type\":\"table\"}]},\"layout\":{\"annotationdefaults\":{\"arrowcolor\":\"#2a3f5f\",\"arrowhead\":0,\"arrowwidth\":1},\"autotypenumbers\":\"strict\",\"coloraxis\":{\"colorbar\":{\"outlinewidth\":0,\"ticks\":\"\"}},\"colorscale\":{\"diverging\":[[0,\"#8e0152\"],[0.1,\"#c51b7d\"],[0.2,\"#de77ae\"],[0.3,\"#f1b6da\"],[0.4,\"#fde0ef\"],[0.5,\"#f7f7f7\"],[0.6,\"#e6f5d0\"],[0.7,\"#b8e186\"],[0.8,\"#7fbc41\"],[0.9,\"#4d9221\"],[1,\"#276419\"]],\"sequential\":[[0.0,\"#0d0887\"],[0.1111111111111111,\"#46039f\"],[0.2222222222222222,\"#7201a8\"],[0.3333333333333333,\"#9c179e\"],[0.4444444444444444,\"#bd3786\"],[0.5555555555555556,\"#d8576b\"],[0.6666666666666666,\"#ed7953\"],[0.7777777777777778,\"#fb9f3a\"],[0.8888888888888888,\"#fdca26\"],[1.0,\"#f0f921\"]],\"sequentialminus\":[[0.0,\"#0d0887\"],[0.1111111111111111,\"#46039f\"],[0.2222222222222222,\"#7201a8\"],[0.3333333333333333,\"#9c179e\"],[0.4444444444444444,\"#bd3786\"],[0.5555555555555556,\"#d8576b\"],[0.6666666666666666,\"#ed7953\"],[0.7777777777777778,\"#fb9f3a\"],[0.8888888888888888,\"#fdca26\"],[1.0,\"#f0f921\"]]},\"colorway\":[\"#636efa\",\"#EF553B\",\"#00cc96\",\"#ab63fa\",\"#FFA15A\",\"#19d3f3\",\"#FF6692\",\"#B6E880\",\"#FF97FF\",\"#FECB52\"],\"font\":{\"color\":\"#2a3f5f\"},\"geo\":{\"bgcolor\":\"white\",\"lakecolor\":\"white\",\"landcolor\":\"#E5ECF6\",\"showlakes\":true,\"showland\":true,\"subunitcolor\":\"white\"},\"hoverlabel\":{\"align\":\"left\"},\"hovermode\":\"closest\",\"mapbox\":{\"style\":\"light\"},\"paper_bgcolor\":\"white\",\"plot_bgcolor\":\"#E5ECF6\",\"polar\":{\"angularaxis\":{\"gridcolor\":\"white\",\"linecolor\":\"white\",\"ticks\":\"\"},\"bgcolor\":\"#E5ECF6\",\"radialaxis\":{\"gridcolor\":\"white\",\"linecolor\":\"white\",\"ticks\":\"\"}},\"scene\":{\"xaxis\":{\"backgroundcolor\":\"#E5ECF6\",\"gridcolor\":\"white\",\"gridwidth\":2,\"linecolor\":\"white\",\"showbackground\":true,\"ticks\":\"\",\"zerolinecolor\":\"white\"},\"yaxis\":{\"backgroundcolor\":\"#E5ECF6\",\"gridcolor\":\"white\",\"gridwidth\":2,\"linecolor\":\"white\",\"showbackground\":true,\"ticks\":\"\",\"zerolinecolor\":\"white\"},\"zaxis\":{\"backgroundcolor\":\"#E5ECF6\",\"gridcolor\":\"white\",\"gridwidth\":2,\"linecolor\":\"white\",\"showbackground\":true,\"ticks\":\"\",\"zerolinecolor\":\"white\"}},\"shapedefaults\":{\"line\":{\"color\":\"#2a3f5f\"}},\"ternary\":{\"aaxis\":{\"gridcolor\":\"white\",\"linecolor\":\"white\",\"ticks\":\"\"},\"baxis\":{\"gridcolor\":\"white\",\"linecolor\":\"white\",\"ticks\":\"\"},\"bgcolor\":\"#E5ECF6\",\"caxis\":{\"gridcolor\":\"white\",\"linecolor\":\"white\",\"ticks\":\"\"}},\"title\":{\"x\":0.05},\"xaxis\":{\"automargin\":true,\"gridcolor\":\"white\",\"linecolor\":\"white\",\"ticks\":\"\",\"title\":{\"standoff\":15},\"zerolinecolor\":\"white\",\"zerolinewidth\":2},\"yaxis\":{\"automargin\":true,\"gridcolor\":\"white\",\"linecolor\":\"white\",\"ticks\":\"\",\"title\":{\"standoff\":15},\"zerolinecolor\":\"white\",\"zerolinewidth\":2}}},\"xaxis\":{\"anchor\":\"y\",\"domain\":[0.0,1.0],\"title\":{\"text\":\"trainer/global_step\"}},\"yaxis\":{\"anchor\":\"x\",\"domain\":[0.0,1.0],\"title\":{\"text\":\"train_loss_step\"}},\"legend\":{\"tracegroupgap\":0},\"margin\":{\"t\":60}},                        {\"responsive\": true}                    ).then(function(){\n",
       "                            \n",
       "var gd = document.getElementById('9caa30ff-1600-48fe-bb8b-4f7a3737be52');\n",
       "var x = new MutationObserver(function (mutations, observer) {{\n",
       "        var display = window.getComputedStyle(gd).display;\n",
       "        if (!display || display === 'none') {{\n",
       "            console.log([gd, 'removed!']);\n",
       "            Plotly.purge(gd);\n",
       "            observer.disconnect();\n",
       "        }}\n",
       "}});\n",
       "\n",
       "// Listen for the removal of the full notebook cells\n",
       "var notebookContainer = gd.closest('#notebook-container');\n",
       "if (notebookContainer) {{\n",
       "    x.observe(notebookContainer, {childList: true});\n",
       "}}\n",
       "\n",
       "// Listen for the clearing of the current output cell\n",
       "var outputEl = gd.closest('.output');\n",
       "if (outputEl) {{\n",
       "    x.observe(outputEl, {childList: true});\n",
       "}}\n",
       "\n",
       "                        })                };                });            </script>        </div>"
      ]
     },
     "metadata": {},
     "output_type": "display_data"
    },
    {
     "data": {
      "application/vnd.plotly.v1+json": {
       "config": {
        "plotlyServerURL": "https://plot.ly"
       },
       "data": [
        {
         "hovertemplate": "trainer/global_step=%{x}<br>train_loss_step=%{y}<extra></extra>",
         "legendgroup": "",
         "marker": {
          "color": "#636efa",
          "symbol": "circle"
         },
         "mode": "markers",
         "name": "",
         "orientation": "v",
         "showlegend": false,
         "type": "scatter",
         "x": [
          99,
          299,
          12,
          20,
          29,
          41,
          82,
          85,
          88,
          89,
          92,
          104,
          110,
          113,
          115,
          116,
          121,
          134,
          149,
          154,
          166,
          171,
          188,
          192,
          699,
          208,
          229,
          235,
          253,
          266,
          267,
          304,
          305,
          323,
          329,
          331,
          333,
          339,
          354,
          393,
          394,
          403,
          1313,
          1449,
          1699,
          1899,
          412,
          413,
          414,
          431,
          440,
          448,
          450,
          471,
          474,
          479,
          489,
          492,
          496,
          506,
          518,
          538,
          542,
          546,
          566,
          571,
          574,
          578,
          585,
          596,
          2099,
          2249,
          619,
          625,
          628,
          635,
          636,
          668,
          703,
          706,
          724,
          738,
          740,
          741,
          742,
          744,
          749,
          751,
          752,
          759,
          772,
          791,
          793,
          815,
          816,
          2749,
          2999,
          3149,
          827,
          831,
          833,
          852,
          856,
          871,
          891,
          892,
          924,
          932,
          944,
          946,
          965,
          1004,
          1007,
          1020,
          3299,
          3399,
          1029,
          1030,
          1032,
          1044,
          1052,
          1061,
          1087,
          1090,
          1094,
          1099,
          1104,
          1108,
          1117,
          1129,
          1137,
          1142,
          1157,
          1168,
          1178,
          1180,
          1186,
          1200,
          3941,
          4299,
          1231,
          1242,
          1243,
          1246,
          1262,
          1263,
          1299,
          1309,
          1329,
          1330,
          1331,
          1332,
          1334,
          1358,
          1361,
          1380,
          1385,
          1386,
          1387,
          1395,
          1406,
          1417,
          1420,
          1429,
          5249,
          1440,
          1447,
          1461,
          1463,
          1488,
          1496,
          1533,
          1536,
          1554,
          1557,
          1561,
          1570,
          1581,
          1583,
          1585,
          1600,
          1607,
          1634,
          1641,
          1661,
          1666,
          1667,
          1684,
          1701,
          1705,
          1716,
          1720,
          1729,
          1752,
          1765,
          1769,
          1772,
          1774,
          1787,
          1793,
          1810,
          5913,
          6149,
          1849,
          1857,
          1864,
          1865,
          1887,
          1896,
          1897,
          1908,
          1916,
          1932,
          1958,
          1991,
          1993,
          1996,
          2002,
          2018,
          2029,
          2030,
          2031,
          2033,
          7199,
          2050,
          2079,
          2081,
          2107,
          2110,
          2116,
          2130,
          2142,
          2145,
          2157,
          2168,
          2169,
          2189,
          2191,
          2200,
          2202,
          2204,
          2205,
          2208,
          2209,
          2220,
          2225,
          2229,
          2235,
          2237,
          2241,
          2242,
          2252,
          2253,
          2262,
          2272,
          2298,
          2299,
          2304,
          2317,
          2320,
          2330,
          2347,
          2350,
          2352,
          2353,
          2375,
          2390,
          2412,
          2415,
          2420,
          2446,
          2454,
          2456,
          2480,
          2489,
          2506,
          2510,
          2516,
          2524,
          2535,
          2541,
          2575,
          2577,
          2583,
          2587,
          2591,
          2607,
          2610,
          2623,
          2634,
          2647,
          8540,
          8541,
          8549,
          2703,
          2707,
          2716,
          2717,
          2728,
          2742,
          2755,
          2782,
          2787,
          2793,
          2794,
          2797,
          2832,
          2834,
          2860,
          2868,
          9599,
          2873,
          2881,
          2884,
          2885,
          2895,
          2901,
          2924,
          2940,
          2943,
          2952,
          2954,
          2969,
          2971,
          2981,
          2991,
          2995,
          2996,
          2997,
          2998,
          3017,
          3018,
          3024,
          3028,
          3051,
          3056,
          3058,
          3061,
          3068,
          9854,
          9899,
          10149,
          10449,
          3082,
          3084,
          3094,
          3146,
          3178,
          3183,
          3185,
          3198,
          3203,
          3223,
          3228,
          3234,
          3237,
          3261,
          3267,
          10511,
          10512,
          10899,
          10949,
          3281,
          3295,
          3328,
          3330,
          3332,
          3347,
          3354,
          3361,
          3366,
          3375,
          3379,
          3385,
          3393,
          3395,
          3412,
          3425,
          3426,
          3432,
          3436,
          3437,
          3448,
          3455,
          3456,
          3458,
          3459,
          3470,
          3471,
          3472,
          3484,
          11168,
          11249,
          3486,
          3491,
          3496,
          3516,
          3517,
          3535,
          3536,
          3558,
          3574,
          3590,
          3591,
          3592,
          3600,
          3604,
          3610,
          3616,
          3623,
          3634,
          3639,
          3661,
          3673,
          3678,
          3695,
          3699,
          3707,
          3727,
          3740,
          3749,
          3773,
          3778,
          3783,
          3785,
          3796,
          3821,
          3828,
          3831,
          3832,
          3854,
          3867,
          3873,
          3878,
          12649,
          3899,
          3906,
          3908,
          3911,
          3917,
          3918,
          3929,
          3930,
          3938,
          3943,
          3952,
          3963,
          3972,
          3978,
          3991,
          3998,
          3999,
          4029,
          4039,
          4042,
          4049,
          4099,
          13499,
          13599,
          4101,
          4109,
          4132,
          4139,
          4144,
          4154,
          4162,
          4165,
          4167,
          4172,
          4183,
          4187,
          4204,
          4221,
          4256,
          4260,
          4261,
          4278,
          4282,
          4287,
          4,
          5,
          18,
          28,
          49,
          59,
          70,
          72,
          73,
          82,
          92,
          93,
          97,
          98,
          109,
          124,
          127,
          146,
          159
         ],
         "xaxis": "x",
         "y": [
          1.301340103149414,
          0.5692501068115234,
          null,
          null,
          null,
          null,
          null,
          null,
          null,
          null,
          null,
          null,
          null,
          null,
          null,
          null,
          null,
          null,
          null,
          null,
          null,
          null,
          null,
          null,
          0.8391812443733215,
          null,
          null,
          null,
          null,
          null,
          null,
          null,
          null,
          null,
          null,
          null,
          null,
          null,
          null,
          null,
          null,
          null,
          null,
          0.5849694013595581,
          0.4970085620880127,
          0.6228019595146179,
          null,
          null,
          null,
          null,
          null,
          null,
          null,
          null,
          null,
          null,
          null,
          null,
          null,
          null,
          null,
          null,
          null,
          null,
          null,
          null,
          null,
          null,
          null,
          null,
          0.6474609971046448,
          1.0114059448242188,
          null,
          null,
          null,
          null,
          null,
          null,
          null,
          null,
          null,
          null,
          null,
          null,
          null,
          null,
          null,
          null,
          null,
          null,
          null,
          null,
          null,
          null,
          null,
          0.5824311971664429,
          0.30969664454460144,
          0.543681263923645,
          null,
          null,
          null,
          null,
          null,
          null,
          null,
          null,
          null,
          null,
          null,
          null,
          null,
          null,
          null,
          null,
          0.19028443098068237,
          0.13927419483661652,
          null,
          null,
          null,
          null,
          null,
          null,
          null,
          null,
          null,
          null,
          null,
          null,
          null,
          null,
          null,
          null,
          null,
          null,
          null,
          null,
          null,
          null,
          null,
          0.5338520407676697,
          null,
          null,
          null,
          null,
          null,
          null,
          null,
          null,
          null,
          null,
          null,
          null,
          null,
          null,
          null,
          null,
          null,
          null,
          null,
          null,
          null,
          null,
          null,
          null,
          0.21595461666584015,
          null,
          null,
          null,
          null,
          null,
          null,
          null,
          null,
          null,
          null,
          null,
          null,
          null,
          null,
          null,
          null,
          null,
          null,
          null,
          null,
          null,
          null,
          null,
          null,
          null,
          null,
          null,
          null,
          null,
          null,
          null,
          null,
          null,
          null,
          null,
          null,
          null,
          0.6766757369041443,
          null,
          null,
          null,
          null,
          null,
          null,
          null,
          null,
          null,
          null,
          null,
          null,
          null,
          null,
          null,
          null,
          null,
          null,
          null,
          null,
          0.05386791378259659,
          null,
          null,
          null,
          null,
          null,
          null,
          null,
          null,
          null,
          null,
          null,
          null,
          null,
          null,
          null,
          null,
          null,
          null,
          null,
          null,
          null,
          null,
          null,
          null,
          null,
          null,
          null,
          null,
          null,
          null,
          null,
          null,
          null,
          null,
          null,
          null,
          null,
          null,
          null,
          null,
          null,
          null,
          null,
          null,
          null,
          null,
          null,
          null,
          null,
          null,
          null,
          null,
          null,
          null,
          null,
          null,
          null,
          null,
          null,
          null,
          null,
          null,
          null,
          null,
          null,
          null,
          null,
          null,
          null,
          0.07995178550481796,
          null,
          null,
          null,
          null,
          null,
          null,
          null,
          null,
          null,
          null,
          null,
          null,
          null,
          null,
          null,
          null,
          0.2683113217353821,
          null,
          null,
          null,
          null,
          null,
          null,
          null,
          null,
          null,
          null,
          null,
          null,
          null,
          null,
          null,
          null,
          null,
          null,
          null,
          null,
          null,
          null,
          null,
          null,
          null,
          null,
          null,
          null,
          null,
          0.4762154519557953,
          0.6865678429603577,
          0.12426763772964478,
          null,
          null,
          null,
          null,
          null,
          null,
          null,
          null,
          null,
          null,
          null,
          null,
          null,
          null,
          null,
          null,
          null,
          0.03853045031428337,
          0.5920117497444153,
          null,
          null,
          null,
          null,
          null,
          null,
          null,
          null,
          null,
          null,
          null,
          null,
          null,
          null,
          null,
          null,
          null,
          null,
          null,
          null,
          null,
          null,
          null,
          null,
          null,
          null,
          null,
          null,
          null,
          null,
          0.3314623534679413,
          null,
          null,
          null,
          null,
          null,
          null,
          null,
          null,
          null,
          null,
          null,
          null,
          null,
          null,
          null,
          null,
          null,
          null,
          null,
          null,
          null,
          null,
          null,
          null,
          null,
          null,
          null,
          null,
          null,
          null,
          null,
          null,
          null,
          null,
          null,
          null,
          null,
          null,
          null,
          null,
          null,
          0.505365788936615,
          null,
          null,
          null,
          null,
          null,
          null,
          null,
          null,
          null,
          null,
          null,
          null,
          null,
          null,
          null,
          null,
          null,
          null,
          null,
          null,
          null,
          null,
          0.5546149611473083,
          0.19572502374649048,
          null,
          null,
          null,
          null,
          null,
          null,
          null,
          null,
          null,
          null,
          null,
          null,
          null,
          null,
          null,
          null,
          null,
          null,
          null,
          null,
          null,
          null,
          null,
          null,
          null,
          null,
          null,
          null,
          null,
          null,
          null,
          null,
          null,
          null,
          null,
          null,
          null,
          null,
          null
         ],
         "yaxis": "y"
        }
       ],
       "layout": {
        "legend": {
         "tracegroupgap": 0
        },
        "margin": {
         "t": 60
        },
        "template": {
         "data": {
          "bar": [
           {
            "error_x": {
             "color": "#2a3f5f"
            },
            "error_y": {
             "color": "#2a3f5f"
            },
            "marker": {
             "line": {
              "color": "#E5ECF6",
              "width": 0.5
             },
             "pattern": {
              "fillmode": "overlay",
              "size": 10,
              "solidity": 0.2
             }
            },
            "type": "bar"
           }
          ],
          "barpolar": [
           {
            "marker": {
             "line": {
              "color": "#E5ECF6",
              "width": 0.5
             },
             "pattern": {
              "fillmode": "overlay",
              "size": 10,
              "solidity": 0.2
             }
            },
            "type": "barpolar"
           }
          ],
          "carpet": [
           {
            "aaxis": {
             "endlinecolor": "#2a3f5f",
             "gridcolor": "white",
             "linecolor": "white",
             "minorgridcolor": "white",
             "startlinecolor": "#2a3f5f"
            },
            "baxis": {
             "endlinecolor": "#2a3f5f",
             "gridcolor": "white",
             "linecolor": "white",
             "minorgridcolor": "white",
             "startlinecolor": "#2a3f5f"
            },
            "type": "carpet"
           }
          ],
          "choropleth": [
           {
            "colorbar": {
             "outlinewidth": 0,
             "ticks": ""
            },
            "type": "choropleth"
           }
          ],
          "contour": [
           {
            "colorbar": {
             "outlinewidth": 0,
             "ticks": ""
            },
            "colorscale": [
             [
              0,
              "#0d0887"
             ],
             [
              0.1111111111111111,
              "#46039f"
             ],
             [
              0.2222222222222222,
              "#7201a8"
             ],
             [
              0.3333333333333333,
              "#9c179e"
             ],
             [
              0.4444444444444444,
              "#bd3786"
             ],
             [
              0.5555555555555556,
              "#d8576b"
             ],
             [
              0.6666666666666666,
              "#ed7953"
             ],
             [
              0.7777777777777778,
              "#fb9f3a"
             ],
             [
              0.8888888888888888,
              "#fdca26"
             ],
             [
              1,
              "#f0f921"
             ]
            ],
            "type": "contour"
           }
          ],
          "contourcarpet": [
           {
            "colorbar": {
             "outlinewidth": 0,
             "ticks": ""
            },
            "type": "contourcarpet"
           }
          ],
          "heatmap": [
           {
            "colorbar": {
             "outlinewidth": 0,
             "ticks": ""
            },
            "colorscale": [
             [
              0,
              "#0d0887"
             ],
             [
              0.1111111111111111,
              "#46039f"
             ],
             [
              0.2222222222222222,
              "#7201a8"
             ],
             [
              0.3333333333333333,
              "#9c179e"
             ],
             [
              0.4444444444444444,
              "#bd3786"
             ],
             [
              0.5555555555555556,
              "#d8576b"
             ],
             [
              0.6666666666666666,
              "#ed7953"
             ],
             [
              0.7777777777777778,
              "#fb9f3a"
             ],
             [
              0.8888888888888888,
              "#fdca26"
             ],
             [
              1,
              "#f0f921"
             ]
            ],
            "type": "heatmap"
           }
          ],
          "heatmapgl": [
           {
            "colorbar": {
             "outlinewidth": 0,
             "ticks": ""
            },
            "colorscale": [
             [
              0,
              "#0d0887"
             ],
             [
              0.1111111111111111,
              "#46039f"
             ],
             [
              0.2222222222222222,
              "#7201a8"
             ],
             [
              0.3333333333333333,
              "#9c179e"
             ],
             [
              0.4444444444444444,
              "#bd3786"
             ],
             [
              0.5555555555555556,
              "#d8576b"
             ],
             [
              0.6666666666666666,
              "#ed7953"
             ],
             [
              0.7777777777777778,
              "#fb9f3a"
             ],
             [
              0.8888888888888888,
              "#fdca26"
             ],
             [
              1,
              "#f0f921"
             ]
            ],
            "type": "heatmapgl"
           }
          ],
          "histogram": [
           {
            "marker": {
             "pattern": {
              "fillmode": "overlay",
              "size": 10,
              "solidity": 0.2
             }
            },
            "type": "histogram"
           }
          ],
          "histogram2d": [
           {
            "colorbar": {
             "outlinewidth": 0,
             "ticks": ""
            },
            "colorscale": [
             [
              0,
              "#0d0887"
             ],
             [
              0.1111111111111111,
              "#46039f"
             ],
             [
              0.2222222222222222,
              "#7201a8"
             ],
             [
              0.3333333333333333,
              "#9c179e"
             ],
             [
              0.4444444444444444,
              "#bd3786"
             ],
             [
              0.5555555555555556,
              "#d8576b"
             ],
             [
              0.6666666666666666,
              "#ed7953"
             ],
             [
              0.7777777777777778,
              "#fb9f3a"
             ],
             [
              0.8888888888888888,
              "#fdca26"
             ],
             [
              1,
              "#f0f921"
             ]
            ],
            "type": "histogram2d"
           }
          ],
          "histogram2dcontour": [
           {
            "colorbar": {
             "outlinewidth": 0,
             "ticks": ""
            },
            "colorscale": [
             [
              0,
              "#0d0887"
             ],
             [
              0.1111111111111111,
              "#46039f"
             ],
             [
              0.2222222222222222,
              "#7201a8"
             ],
             [
              0.3333333333333333,
              "#9c179e"
             ],
             [
              0.4444444444444444,
              "#bd3786"
             ],
             [
              0.5555555555555556,
              "#d8576b"
             ],
             [
              0.6666666666666666,
              "#ed7953"
             ],
             [
              0.7777777777777778,
              "#fb9f3a"
             ],
             [
              0.8888888888888888,
              "#fdca26"
             ],
             [
              1,
              "#f0f921"
             ]
            ],
            "type": "histogram2dcontour"
           }
          ],
          "mesh3d": [
           {
            "colorbar": {
             "outlinewidth": 0,
             "ticks": ""
            },
            "type": "mesh3d"
           }
          ],
          "parcoords": [
           {
            "line": {
             "colorbar": {
              "outlinewidth": 0,
              "ticks": ""
             }
            },
            "type": "parcoords"
           }
          ],
          "pie": [
           {
            "automargin": true,
            "type": "pie"
           }
          ],
          "scatter": [
           {
            "marker": {
             "colorbar": {
              "outlinewidth": 0,
              "ticks": ""
             }
            },
            "type": "scatter"
           }
          ],
          "scatter3d": [
           {
            "line": {
             "colorbar": {
              "outlinewidth": 0,
              "ticks": ""
             }
            },
            "marker": {
             "colorbar": {
              "outlinewidth": 0,
              "ticks": ""
             }
            },
            "type": "scatter3d"
           }
          ],
          "scattercarpet": [
           {
            "marker": {
             "colorbar": {
              "outlinewidth": 0,
              "ticks": ""
             }
            },
            "type": "scattercarpet"
           }
          ],
          "scattergeo": [
           {
            "marker": {
             "colorbar": {
              "outlinewidth": 0,
              "ticks": ""
             }
            },
            "type": "scattergeo"
           }
          ],
          "scattergl": [
           {
            "marker": {
             "colorbar": {
              "outlinewidth": 0,
              "ticks": ""
             }
            },
            "type": "scattergl"
           }
          ],
          "scattermapbox": [
           {
            "marker": {
             "colorbar": {
              "outlinewidth": 0,
              "ticks": ""
             }
            },
            "type": "scattermapbox"
           }
          ],
          "scatterpolar": [
           {
            "marker": {
             "colorbar": {
              "outlinewidth": 0,
              "ticks": ""
             }
            },
            "type": "scatterpolar"
           }
          ],
          "scatterpolargl": [
           {
            "marker": {
             "colorbar": {
              "outlinewidth": 0,
              "ticks": ""
             }
            },
            "type": "scatterpolargl"
           }
          ],
          "scatterternary": [
           {
            "marker": {
             "colorbar": {
              "outlinewidth": 0,
              "ticks": ""
             }
            },
            "type": "scatterternary"
           }
          ],
          "surface": [
           {
            "colorbar": {
             "outlinewidth": 0,
             "ticks": ""
            },
            "colorscale": [
             [
              0,
              "#0d0887"
             ],
             [
              0.1111111111111111,
              "#46039f"
             ],
             [
              0.2222222222222222,
              "#7201a8"
             ],
             [
              0.3333333333333333,
              "#9c179e"
             ],
             [
              0.4444444444444444,
              "#bd3786"
             ],
             [
              0.5555555555555556,
              "#d8576b"
             ],
             [
              0.6666666666666666,
              "#ed7953"
             ],
             [
              0.7777777777777778,
              "#fb9f3a"
             ],
             [
              0.8888888888888888,
              "#fdca26"
             ],
             [
              1,
              "#f0f921"
             ]
            ],
            "type": "surface"
           }
          ],
          "table": [
           {
            "cells": {
             "fill": {
              "color": "#EBF0F8"
             },
             "line": {
              "color": "white"
             }
            },
            "header": {
             "fill": {
              "color": "#C8D4E3"
             },
             "line": {
              "color": "white"
             }
            },
            "type": "table"
           }
          ]
         },
         "layout": {
          "annotationdefaults": {
           "arrowcolor": "#2a3f5f",
           "arrowhead": 0,
           "arrowwidth": 1
          },
          "autotypenumbers": "strict",
          "coloraxis": {
           "colorbar": {
            "outlinewidth": 0,
            "ticks": ""
           }
          },
          "colorscale": {
           "diverging": [
            [
             0,
             "#8e0152"
            ],
            [
             0.1,
             "#c51b7d"
            ],
            [
             0.2,
             "#de77ae"
            ],
            [
             0.3,
             "#f1b6da"
            ],
            [
             0.4,
             "#fde0ef"
            ],
            [
             0.5,
             "#f7f7f7"
            ],
            [
             0.6,
             "#e6f5d0"
            ],
            [
             0.7,
             "#b8e186"
            ],
            [
             0.8,
             "#7fbc41"
            ],
            [
             0.9,
             "#4d9221"
            ],
            [
             1,
             "#276419"
            ]
           ],
           "sequential": [
            [
             0,
             "#0d0887"
            ],
            [
             0.1111111111111111,
             "#46039f"
            ],
            [
             0.2222222222222222,
             "#7201a8"
            ],
            [
             0.3333333333333333,
             "#9c179e"
            ],
            [
             0.4444444444444444,
             "#bd3786"
            ],
            [
             0.5555555555555556,
             "#d8576b"
            ],
            [
             0.6666666666666666,
             "#ed7953"
            ],
            [
             0.7777777777777778,
             "#fb9f3a"
            ],
            [
             0.8888888888888888,
             "#fdca26"
            ],
            [
             1,
             "#f0f921"
            ]
           ],
           "sequentialminus": [
            [
             0,
             "#0d0887"
            ],
            [
             0.1111111111111111,
             "#46039f"
            ],
            [
             0.2222222222222222,
             "#7201a8"
            ],
            [
             0.3333333333333333,
             "#9c179e"
            ],
            [
             0.4444444444444444,
             "#bd3786"
            ],
            [
             0.5555555555555556,
             "#d8576b"
            ],
            [
             0.6666666666666666,
             "#ed7953"
            ],
            [
             0.7777777777777778,
             "#fb9f3a"
            ],
            [
             0.8888888888888888,
             "#fdca26"
            ],
            [
             1,
             "#f0f921"
            ]
           ]
          },
          "colorway": [
           "#636efa",
           "#EF553B",
           "#00cc96",
           "#ab63fa",
           "#FFA15A",
           "#19d3f3",
           "#FF6692",
           "#B6E880",
           "#FF97FF",
           "#FECB52"
          ],
          "font": {
           "color": "#2a3f5f"
          },
          "geo": {
           "bgcolor": "white",
           "lakecolor": "white",
           "landcolor": "#E5ECF6",
           "showlakes": true,
           "showland": true,
           "subunitcolor": "white"
          },
          "hoverlabel": {
           "align": "left"
          },
          "hovermode": "closest",
          "mapbox": {
           "style": "light"
          },
          "paper_bgcolor": "white",
          "plot_bgcolor": "#E5ECF6",
          "polar": {
           "angularaxis": {
            "gridcolor": "white",
            "linecolor": "white",
            "ticks": ""
           },
           "bgcolor": "#E5ECF6",
           "radialaxis": {
            "gridcolor": "white",
            "linecolor": "white",
            "ticks": ""
           }
          },
          "scene": {
           "xaxis": {
            "backgroundcolor": "#E5ECF6",
            "gridcolor": "white",
            "gridwidth": 2,
            "linecolor": "white",
            "showbackground": true,
            "ticks": "",
            "zerolinecolor": "white"
           },
           "yaxis": {
            "backgroundcolor": "#E5ECF6",
            "gridcolor": "white",
            "gridwidth": 2,
            "linecolor": "white",
            "showbackground": true,
            "ticks": "",
            "zerolinecolor": "white"
           },
           "zaxis": {
            "backgroundcolor": "#E5ECF6",
            "gridcolor": "white",
            "gridwidth": 2,
            "linecolor": "white",
            "showbackground": true,
            "ticks": "",
            "zerolinecolor": "white"
           }
          },
          "shapedefaults": {
           "line": {
            "color": "#2a3f5f"
           }
          },
          "ternary": {
           "aaxis": {
            "gridcolor": "white",
            "linecolor": "white",
            "ticks": ""
           },
           "baxis": {
            "gridcolor": "white",
            "linecolor": "white",
            "ticks": ""
           },
           "bgcolor": "#E5ECF6",
           "caxis": {
            "gridcolor": "white",
            "linecolor": "white",
            "ticks": ""
           }
          },
          "title": {
           "x": 0.05
          },
          "xaxis": {
           "automargin": true,
           "gridcolor": "white",
           "linecolor": "white",
           "ticks": "",
           "title": {
            "standoff": 15
           },
           "zerolinecolor": "white",
           "zerolinewidth": 2
          },
          "yaxis": {
           "automargin": true,
           "gridcolor": "white",
           "linecolor": "white",
           "ticks": "",
           "title": {
            "standoff": 15
           },
           "zerolinecolor": "white",
           "zerolinewidth": 2
          }
         }
        },
        "xaxis": {
         "anchor": "y",
         "domain": [
          0,
          1
         ],
         "title": {
          "text": "trainer/global_step"
         }
        },
        "yaxis": {
         "anchor": "x",
         "domain": [
          0,
          1
         ],
         "title": {
          "text": "train_loss_step"
         }
        }
       }
      },
      "text/html": [
       "<div>                            <div id=\"04bbcc1d-9c21-46c5-a6d5-4bf5d901c8cd\" class=\"plotly-graph-div\" style=\"height:525px; width:100%;\"></div>            <script type=\"text/javascript\">                require([\"plotly\"], function(Plotly) {                    window.PLOTLYENV=window.PLOTLYENV || {};                                    if (document.getElementById(\"04bbcc1d-9c21-46c5-a6d5-4bf5d901c8cd\")) {                    Plotly.newPlot(                        \"04bbcc1d-9c21-46c5-a6d5-4bf5d901c8cd\",                        [{\"hovertemplate\":\"trainer/global_step=%{x}<br>train_loss_step=%{y}<extra></extra>\",\"legendgroup\":\"\",\"marker\":{\"color\":\"#636efa\",\"symbol\":\"circle\"},\"mode\":\"markers\",\"name\":\"\",\"orientation\":\"v\",\"showlegend\":false,\"x\":[99,299,12,20,29,41,82,85,88,89,92,104,110,113,115,116,121,134,149,154,166,171,188,192,699,208,229,235,253,266,267,304,305,323,329,331,333,339,354,393,394,403,1313,1449,1699,1899,412,413,414,431,440,448,450,471,474,479,489,492,496,506,518,538,542,546,566,571,574,578,585,596,2099,2249,619,625,628,635,636,668,703,706,724,738,740,741,742,744,749,751,752,759,772,791,793,815,816,2749,2999,3149,827,831,833,852,856,871,891,892,924,932,944,946,965,1004,1007,1020,3299,3399,1029,1030,1032,1044,1052,1061,1087,1090,1094,1099,1104,1108,1117,1129,1137,1142,1157,1168,1178,1180,1186,1200,3941,4299,1231,1242,1243,1246,1262,1263,1299,1309,1329,1330,1331,1332,1334,1358,1361,1380,1385,1386,1387,1395,1406,1417,1420,1429,5249,1440,1447,1461,1463,1488,1496,1533,1536,1554,1557,1561,1570,1581,1583,1585,1600,1607,1634,1641,1661,1666,1667,1684,1701,1705,1716,1720,1729,1752,1765,1769,1772,1774,1787,1793,1810,5913,6149,1849,1857,1864,1865,1887,1896,1897,1908,1916,1932,1958,1991,1993,1996,2002,2018,2029,2030,2031,2033,7199,2050,2079,2081,2107,2110,2116,2130,2142,2145,2157,2168,2169,2189,2191,2200,2202,2204,2205,2208,2209,2220,2225,2229,2235,2237,2241,2242,2252,2253,2262,2272,2298,2299,2304,2317,2320,2330,2347,2350,2352,2353,2375,2390,2412,2415,2420,2446,2454,2456,2480,2489,2506,2510,2516,2524,2535,2541,2575,2577,2583,2587,2591,2607,2610,2623,2634,2647,8540,8541,8549,2703,2707,2716,2717,2728,2742,2755,2782,2787,2793,2794,2797,2832,2834,2860,2868,9599,2873,2881,2884,2885,2895,2901,2924,2940,2943,2952,2954,2969,2971,2981,2991,2995,2996,2997,2998,3017,3018,3024,3028,3051,3056,3058,3061,3068,9854,9899,10149,10449,3082,3084,3094,3146,3178,3183,3185,3198,3203,3223,3228,3234,3237,3261,3267,10511,10512,10899,10949,3281,3295,3328,3330,3332,3347,3354,3361,3366,3375,3379,3385,3393,3395,3412,3425,3426,3432,3436,3437,3448,3455,3456,3458,3459,3470,3471,3472,3484,11168,11249,3486,3491,3496,3516,3517,3535,3536,3558,3574,3590,3591,3592,3600,3604,3610,3616,3623,3634,3639,3661,3673,3678,3695,3699,3707,3727,3740,3749,3773,3778,3783,3785,3796,3821,3828,3831,3832,3854,3867,3873,3878,12649,3899,3906,3908,3911,3917,3918,3929,3930,3938,3943,3952,3963,3972,3978,3991,3998,3999,4029,4039,4042,4049,4099,13499,13599,4101,4109,4132,4139,4144,4154,4162,4165,4167,4172,4183,4187,4204,4221,4256,4260,4261,4278,4282,4287,4,5,18,28,49,59,70,72,73,82,92,93,97,98,109,124,127,146,159],\"xaxis\":\"x\",\"y\":[1.301340103149414,0.5692501068115234,null,null,null,null,null,null,null,null,null,null,null,null,null,null,null,null,null,null,null,null,null,null,0.8391812443733215,null,null,null,null,null,null,null,null,null,null,null,null,null,null,null,null,null,null,0.5849694013595581,0.4970085620880127,0.6228019595146179,null,null,null,null,null,null,null,null,null,null,null,null,null,null,null,null,null,null,null,null,null,null,null,null,0.6474609971046448,1.0114059448242188,null,null,null,null,null,null,null,null,null,null,null,null,null,null,null,null,null,null,null,null,null,null,null,0.5824311971664429,0.30969664454460144,0.543681263923645,null,null,null,null,null,null,null,null,null,null,null,null,null,null,null,null,0.19028443098068237,0.13927419483661652,null,null,null,null,null,null,null,null,null,null,null,null,null,null,null,null,null,null,null,null,null,null,null,0.5338520407676697,null,null,null,null,null,null,null,null,null,null,null,null,null,null,null,null,null,null,null,null,null,null,null,null,0.21595461666584015,null,null,null,null,null,null,null,null,null,null,null,null,null,null,null,null,null,null,null,null,null,null,null,null,null,null,null,null,null,null,null,null,null,null,null,null,null,0.6766757369041443,null,null,null,null,null,null,null,null,null,null,null,null,null,null,null,null,null,null,null,null,0.05386791378259659,null,null,null,null,null,null,null,null,null,null,null,null,null,null,null,null,null,null,null,null,null,null,null,null,null,null,null,null,null,null,null,null,null,null,null,null,null,null,null,null,null,null,null,null,null,null,null,null,null,null,null,null,null,null,null,null,null,null,null,null,null,null,null,null,null,null,null,null,null,0.07995178550481796,null,null,null,null,null,null,null,null,null,null,null,null,null,null,null,null,0.2683113217353821,null,null,null,null,null,null,null,null,null,null,null,null,null,null,null,null,null,null,null,null,null,null,null,null,null,null,null,null,null,0.4762154519557953,0.6865678429603577,0.12426763772964478,null,null,null,null,null,null,null,null,null,null,null,null,null,null,null,null,null,0.03853045031428337,0.5920117497444153,null,null,null,null,null,null,null,null,null,null,null,null,null,null,null,null,null,null,null,null,null,null,null,null,null,null,null,null,null,null,0.3314623534679413,null,null,null,null,null,null,null,null,null,null,null,null,null,null,null,null,null,null,null,null,null,null,null,null,null,null,null,null,null,null,null,null,null,null,null,null,null,null,null,null,null,0.505365788936615,null,null,null,null,null,null,null,null,null,null,null,null,null,null,null,null,null,null,null,null,null,null,0.5546149611473083,0.19572502374649048,null,null,null,null,null,null,null,null,null,null,null,null,null,null,null,null,null,null,null,null,null,null,null,null,null,null,null,null,null,null,null,null,null,null,null,null,null,null,null],\"yaxis\":\"y\",\"type\":\"scatter\"}],                        {\"template\":{\"data\":{\"bar\":[{\"error_x\":{\"color\":\"#2a3f5f\"},\"error_y\":{\"color\":\"#2a3f5f\"},\"marker\":{\"line\":{\"color\":\"#E5ECF6\",\"width\":0.5},\"pattern\":{\"fillmode\":\"overlay\",\"size\":10,\"solidity\":0.2}},\"type\":\"bar\"}],\"barpolar\":[{\"marker\":{\"line\":{\"color\":\"#E5ECF6\",\"width\":0.5},\"pattern\":{\"fillmode\":\"overlay\",\"size\":10,\"solidity\":0.2}},\"type\":\"barpolar\"}],\"carpet\":[{\"aaxis\":{\"endlinecolor\":\"#2a3f5f\",\"gridcolor\":\"white\",\"linecolor\":\"white\",\"minorgridcolor\":\"white\",\"startlinecolor\":\"#2a3f5f\"},\"baxis\":{\"endlinecolor\":\"#2a3f5f\",\"gridcolor\":\"white\",\"linecolor\":\"white\",\"minorgridcolor\":\"white\",\"startlinecolor\":\"#2a3f5f\"},\"type\":\"carpet\"}],\"choropleth\":[{\"colorbar\":{\"outlinewidth\":0,\"ticks\":\"\"},\"type\":\"choropleth\"}],\"contour\":[{\"colorbar\":{\"outlinewidth\":0,\"ticks\":\"\"},\"colorscale\":[[0.0,\"#0d0887\"],[0.1111111111111111,\"#46039f\"],[0.2222222222222222,\"#7201a8\"],[0.3333333333333333,\"#9c179e\"],[0.4444444444444444,\"#bd3786\"],[0.5555555555555556,\"#d8576b\"],[0.6666666666666666,\"#ed7953\"],[0.7777777777777778,\"#fb9f3a\"],[0.8888888888888888,\"#fdca26\"],[1.0,\"#f0f921\"]],\"type\":\"contour\"}],\"contourcarpet\":[{\"colorbar\":{\"outlinewidth\":0,\"ticks\":\"\"},\"type\":\"contourcarpet\"}],\"heatmap\":[{\"colorbar\":{\"outlinewidth\":0,\"ticks\":\"\"},\"colorscale\":[[0.0,\"#0d0887\"],[0.1111111111111111,\"#46039f\"],[0.2222222222222222,\"#7201a8\"],[0.3333333333333333,\"#9c179e\"],[0.4444444444444444,\"#bd3786\"],[0.5555555555555556,\"#d8576b\"],[0.6666666666666666,\"#ed7953\"],[0.7777777777777778,\"#fb9f3a\"],[0.8888888888888888,\"#fdca26\"],[1.0,\"#f0f921\"]],\"type\":\"heatmap\"}],\"heatmapgl\":[{\"colorbar\":{\"outlinewidth\":0,\"ticks\":\"\"},\"colorscale\":[[0.0,\"#0d0887\"],[0.1111111111111111,\"#46039f\"],[0.2222222222222222,\"#7201a8\"],[0.3333333333333333,\"#9c179e\"],[0.4444444444444444,\"#bd3786\"],[0.5555555555555556,\"#d8576b\"],[0.6666666666666666,\"#ed7953\"],[0.7777777777777778,\"#fb9f3a\"],[0.8888888888888888,\"#fdca26\"],[1.0,\"#f0f921\"]],\"type\":\"heatmapgl\"}],\"histogram\":[{\"marker\":{\"pattern\":{\"fillmode\":\"overlay\",\"size\":10,\"solidity\":0.2}},\"type\":\"histogram\"}],\"histogram2d\":[{\"colorbar\":{\"outlinewidth\":0,\"ticks\":\"\"},\"colorscale\":[[0.0,\"#0d0887\"],[0.1111111111111111,\"#46039f\"],[0.2222222222222222,\"#7201a8\"],[0.3333333333333333,\"#9c179e\"],[0.4444444444444444,\"#bd3786\"],[0.5555555555555556,\"#d8576b\"],[0.6666666666666666,\"#ed7953\"],[0.7777777777777778,\"#fb9f3a\"],[0.8888888888888888,\"#fdca26\"],[1.0,\"#f0f921\"]],\"type\":\"histogram2d\"}],\"histogram2dcontour\":[{\"colorbar\":{\"outlinewidth\":0,\"ticks\":\"\"},\"colorscale\":[[0.0,\"#0d0887\"],[0.1111111111111111,\"#46039f\"],[0.2222222222222222,\"#7201a8\"],[0.3333333333333333,\"#9c179e\"],[0.4444444444444444,\"#bd3786\"],[0.5555555555555556,\"#d8576b\"],[0.6666666666666666,\"#ed7953\"],[0.7777777777777778,\"#fb9f3a\"],[0.8888888888888888,\"#fdca26\"],[1.0,\"#f0f921\"]],\"type\":\"histogram2dcontour\"}],\"mesh3d\":[{\"colorbar\":{\"outlinewidth\":0,\"ticks\":\"\"},\"type\":\"mesh3d\"}],\"parcoords\":[{\"line\":{\"colorbar\":{\"outlinewidth\":0,\"ticks\":\"\"}},\"type\":\"parcoords\"}],\"pie\":[{\"automargin\":true,\"type\":\"pie\"}],\"scatter\":[{\"marker\":{\"colorbar\":{\"outlinewidth\":0,\"ticks\":\"\"}},\"type\":\"scatter\"}],\"scatter3d\":[{\"line\":{\"colorbar\":{\"outlinewidth\":0,\"ticks\":\"\"}},\"marker\":{\"colorbar\":{\"outlinewidth\":0,\"ticks\":\"\"}},\"type\":\"scatter3d\"}],\"scattercarpet\":[{\"marker\":{\"colorbar\":{\"outlinewidth\":0,\"ticks\":\"\"}},\"type\":\"scattercarpet\"}],\"scattergeo\":[{\"marker\":{\"colorbar\":{\"outlinewidth\":0,\"ticks\":\"\"}},\"type\":\"scattergeo\"}],\"scattergl\":[{\"marker\":{\"colorbar\":{\"outlinewidth\":0,\"ticks\":\"\"}},\"type\":\"scattergl\"}],\"scattermapbox\":[{\"marker\":{\"colorbar\":{\"outlinewidth\":0,\"ticks\":\"\"}},\"type\":\"scattermapbox\"}],\"scatterpolar\":[{\"marker\":{\"colorbar\":{\"outlinewidth\":0,\"ticks\":\"\"}},\"type\":\"scatterpolar\"}],\"scatterpolargl\":[{\"marker\":{\"colorbar\":{\"outlinewidth\":0,\"ticks\":\"\"}},\"type\":\"scatterpolargl\"}],\"scatterternary\":[{\"marker\":{\"colorbar\":{\"outlinewidth\":0,\"ticks\":\"\"}},\"type\":\"scatterternary\"}],\"surface\":[{\"colorbar\":{\"outlinewidth\":0,\"ticks\":\"\"},\"colorscale\":[[0.0,\"#0d0887\"],[0.1111111111111111,\"#46039f\"],[0.2222222222222222,\"#7201a8\"],[0.3333333333333333,\"#9c179e\"],[0.4444444444444444,\"#bd3786\"],[0.5555555555555556,\"#d8576b\"],[0.6666666666666666,\"#ed7953\"],[0.7777777777777778,\"#fb9f3a\"],[0.8888888888888888,\"#fdca26\"],[1.0,\"#f0f921\"]],\"type\":\"surface\"}],\"table\":[{\"cells\":{\"fill\":{\"color\":\"#EBF0F8\"},\"line\":{\"color\":\"white\"}},\"header\":{\"fill\":{\"color\":\"#C8D4E3\"},\"line\":{\"color\":\"white\"}},\"type\":\"table\"}]},\"layout\":{\"annotationdefaults\":{\"arrowcolor\":\"#2a3f5f\",\"arrowhead\":0,\"arrowwidth\":1},\"autotypenumbers\":\"strict\",\"coloraxis\":{\"colorbar\":{\"outlinewidth\":0,\"ticks\":\"\"}},\"colorscale\":{\"diverging\":[[0,\"#8e0152\"],[0.1,\"#c51b7d\"],[0.2,\"#de77ae\"],[0.3,\"#f1b6da\"],[0.4,\"#fde0ef\"],[0.5,\"#f7f7f7\"],[0.6,\"#e6f5d0\"],[0.7,\"#b8e186\"],[0.8,\"#7fbc41\"],[0.9,\"#4d9221\"],[1,\"#276419\"]],\"sequential\":[[0.0,\"#0d0887\"],[0.1111111111111111,\"#46039f\"],[0.2222222222222222,\"#7201a8\"],[0.3333333333333333,\"#9c179e\"],[0.4444444444444444,\"#bd3786\"],[0.5555555555555556,\"#d8576b\"],[0.6666666666666666,\"#ed7953\"],[0.7777777777777778,\"#fb9f3a\"],[0.8888888888888888,\"#fdca26\"],[1.0,\"#f0f921\"]],\"sequentialminus\":[[0.0,\"#0d0887\"],[0.1111111111111111,\"#46039f\"],[0.2222222222222222,\"#7201a8\"],[0.3333333333333333,\"#9c179e\"],[0.4444444444444444,\"#bd3786\"],[0.5555555555555556,\"#d8576b\"],[0.6666666666666666,\"#ed7953\"],[0.7777777777777778,\"#fb9f3a\"],[0.8888888888888888,\"#fdca26\"],[1.0,\"#f0f921\"]]},\"colorway\":[\"#636efa\",\"#EF553B\",\"#00cc96\",\"#ab63fa\",\"#FFA15A\",\"#19d3f3\",\"#FF6692\",\"#B6E880\",\"#FF97FF\",\"#FECB52\"],\"font\":{\"color\":\"#2a3f5f\"},\"geo\":{\"bgcolor\":\"white\",\"lakecolor\":\"white\",\"landcolor\":\"#E5ECF6\",\"showlakes\":true,\"showland\":true,\"subunitcolor\":\"white\"},\"hoverlabel\":{\"align\":\"left\"},\"hovermode\":\"closest\",\"mapbox\":{\"style\":\"light\"},\"paper_bgcolor\":\"white\",\"plot_bgcolor\":\"#E5ECF6\",\"polar\":{\"angularaxis\":{\"gridcolor\":\"white\",\"linecolor\":\"white\",\"ticks\":\"\"},\"bgcolor\":\"#E5ECF6\",\"radialaxis\":{\"gridcolor\":\"white\",\"linecolor\":\"white\",\"ticks\":\"\"}},\"scene\":{\"xaxis\":{\"backgroundcolor\":\"#E5ECF6\",\"gridcolor\":\"white\",\"gridwidth\":2,\"linecolor\":\"white\",\"showbackground\":true,\"ticks\":\"\",\"zerolinecolor\":\"white\"},\"yaxis\":{\"backgroundcolor\":\"#E5ECF6\",\"gridcolor\":\"white\",\"gridwidth\":2,\"linecolor\":\"white\",\"showbackground\":true,\"ticks\":\"\",\"zerolinecolor\":\"white\"},\"zaxis\":{\"backgroundcolor\":\"#E5ECF6\",\"gridcolor\":\"white\",\"gridwidth\":2,\"linecolor\":\"white\",\"showbackground\":true,\"ticks\":\"\",\"zerolinecolor\":\"white\"}},\"shapedefaults\":{\"line\":{\"color\":\"#2a3f5f\"}},\"ternary\":{\"aaxis\":{\"gridcolor\":\"white\",\"linecolor\":\"white\",\"ticks\":\"\"},\"baxis\":{\"gridcolor\":\"white\",\"linecolor\":\"white\",\"ticks\":\"\"},\"bgcolor\":\"#E5ECF6\",\"caxis\":{\"gridcolor\":\"white\",\"linecolor\":\"white\",\"ticks\":\"\"}},\"title\":{\"x\":0.05},\"xaxis\":{\"automargin\":true,\"gridcolor\":\"white\",\"linecolor\":\"white\",\"ticks\":\"\",\"title\":{\"standoff\":15},\"zerolinecolor\":\"white\",\"zerolinewidth\":2},\"yaxis\":{\"automargin\":true,\"gridcolor\":\"white\",\"linecolor\":\"white\",\"ticks\":\"\",\"title\":{\"standoff\":15},\"zerolinecolor\":\"white\",\"zerolinewidth\":2}}},\"xaxis\":{\"anchor\":\"y\",\"domain\":[0.0,1.0],\"title\":{\"text\":\"trainer/global_step\"}},\"yaxis\":{\"anchor\":\"x\",\"domain\":[0.0,1.0],\"title\":{\"text\":\"train_loss_step\"}},\"legend\":{\"tracegroupgap\":0},\"margin\":{\"t\":60}},                        {\"responsive\": true}                    ).then(function(){\n",
       "                            \n",
       "var gd = document.getElementById('04bbcc1d-9c21-46c5-a6d5-4bf5d901c8cd');\n",
       "var x = new MutationObserver(function (mutations, observer) {{\n",
       "        var display = window.getComputedStyle(gd).display;\n",
       "        if (!display || display === 'none') {{\n",
       "            console.log([gd, 'removed!']);\n",
       "            Plotly.purge(gd);\n",
       "            observer.disconnect();\n",
       "        }}\n",
       "}});\n",
       "\n",
       "// Listen for the removal of the full notebook cells\n",
       "var notebookContainer = gd.closest('#notebook-container');\n",
       "if (notebookContainer) {{\n",
       "    x.observe(notebookContainer, {childList: true});\n",
       "}}\n",
       "\n",
       "// Listen for the clearing of the current output cell\n",
       "var outputEl = gd.closest('.output');\n",
       "if (outputEl) {{\n",
       "    x.observe(outputEl, {childList: true});\n",
       "}}\n",
       "\n",
       "                        })                };                });            </script>        </div>"
      ]
     },
     "metadata": {},
     "output_type": "display_data"
    },
    {
     "data": {
      "application/vnd.plotly.v1+json": {
       "config": {
        "plotlyServerURL": "https://plot.ly"
       },
       "data": [
        {
         "hovertemplate": "trainer/global_step=%{x}<br>train_loss_step=%{y}<extra></extra>",
         "legendgroup": "",
         "marker": {
          "color": "#636efa",
          "symbol": "circle"
         },
         "mode": "markers",
         "name": "",
         "orientation": "v",
         "showlegend": false,
         "type": "scatter",
         "x": [
          0,
          3,
          4,
          14,
          20,
          23,
          24,
          56,
          62,
          66,
          91,
          93,
          99,
          109,
          110,
          112,
          114,
          131,
          134,
          137,
          151,
          156,
          166,
          182,
          196,
          699,
          949,
          1149,
          1199,
          206,
          210,
          214,
          217,
          231,
          239,
          253,
          268,
          274,
          287,
          291,
          293,
          299,
          310,
          323,
          331,
          337,
          364,
          367,
          384,
          401,
          407,
          1313,
          1449,
          1549,
          1699,
          1949,
          413,
          416,
          432,
          455,
          467,
          481,
          494,
          497,
          499,
          507,
          528,
          529,
          535,
          554,
          559,
          561,
          574,
          580,
          581,
          598,
          1970,
          649,
          653,
          672,
          678,
          690,
          708,
          714,
          723,
          725,
          727,
          737,
          753,
          760,
          768,
          785,
          792,
          805,
          811,
          2627,
          2949,
          3149,
          829,
          856,
          865,
          869,
          882,
          886,
          894,
          895,
          899,
          903,
          912,
          916,
          917,
          938,
          940,
          941,
          947,
          962,
          964,
          965,
          970,
          975,
          982,
          983,
          984,
          996,
          1003,
          1009,
          1010,
          1015,
          3284,
          1026,
          1054,
          1057,
          1081,
          1085,
          1113,
          1117,
          1144,
          1159,
          1169,
          1185,
          1208,
          1213,
          1227,
          4099,
          4299,
          1230,
          1234,
          1239,
          1247,
          1251,
          1254,
          1275,
          1278,
          1280,
          1283,
          1291,
          1294,
          1304,
          1311,
          1326,
          1337,
          1338,
          1339,
          1340,
          1343,
          1345,
          1346,
          1350,
          1358,
          1369,
          1373,
          1374,
          1378,
          1380,
          1382,
          1392,
          1427,
          1433,
          1434,
          1437,
          1452,
          1462,
          1466,
          1473,
          1491,
          1498,
          1511,
          1512,
          1520,
          1522,
          1563,
          1568,
          1581,
          1604,
          1623,
          1631,
          1633,
          1636,
          5749,
          1660,
          1661,
          1666,
          1672,
          1673,
          1679,
          1682,
          1698,
          1699,
          1708,
          1718,
          1723,
          1746,
          1787,
          1823,
          1834,
          1835,
          6149,
          6199,
          6399,
          1856,
          1861,
          1875,
          1880,
          1906,
          1919,
          1935,
          1936,
          1948,
          1951,
          1963,
          1982,
          1985,
          1990,
          2003,
          2009,
          2021,
          2024,
          2031,
          2035,
          6899,
          7099,
          7199,
          2059,
          2069,
          2078,
          2080,
          2083,
          2085,
          2089,
          2130,
          2139,
          2141,
          2144,
          2146,
          2155,
          2160,
          2163,
          2170,
          2171,
          2177,
          2179,
          2180,
          2196,
          2202,
          2238,
          2249,
          2250,
          2253,
          7349,
          7399,
          7449,
          7849,
          2255,
          2256,
          2294,
          2297,
          2304,
          2307,
          2309,
          2320,
          2325,
          2326,
          2345,
          2356,
          2358,
          2359,
          2375,
          2377,
          2380,
          2383,
          2387,
          2444,
          8049,
          8099,
          2470,
          2475,
          2495,
          2500,
          2502,
          2517,
          2518,
          2525,
          2526,
          2527,
          2541,
          2550,
          2563,
          2564,
          2570,
          2584,
          2589,
          2592,
          2598,
          2622,
          2626,
          2633,
          2636,
          2646,
          2649,
          2650,
          2654,
          2664,
          8949,
          2670,
          2672,
          2699,
          2709,
          2711,
          2720,
          2723,
          2746,
          2748,
          2751,
          2766,
          2769,
          2774,
          2785,
          2788,
          2789,
          2812,
          2822,
          2826,
          2833,
          2836,
          2844,
          2850,
          2858,
          2860,
          9299,
          9399,
          9449,
          9549,
          9699,
          2880,
          2881,
          2905,
          2935,
          2952,
          2955,
          2963,
          2971,
          2980,
          3001,
          3004,
          3008,
          3014,
          3017,
          3019,
          3025,
          3026,
          3043,
          3065,
          3070,
          9949,
          9999,
          10199,
          3078,
          3082,
          3089,
          3115,
          3116,
          3121,
          3128,
          3142,
          3176,
          3177,
          3180,
          3181,
          3185,
          3190,
          3199,
          3200,
          3207,
          3209,
          3216,
          3225,
          3230,
          3235,
          3253,
          3262,
          3265,
          3277,
          10511,
          10649,
          11149,
          3287,
          3311,
          3316,
          3318,
          3319,
          3322,
          3328,
          3335,
          3344,
          3345,
          3348,
          3350,
          3360,
          3372,
          3383,
          3385,
          3388,
          3399,
          3418,
          3429,
          3430,
          3456,
          3458,
          3463,
          3477,
          3484,
          11249,
          11349,
          11749,
          3490,
          3498,
          3508,
          3512,
          3515,
          3527,
          3541,
          3548,
          3550,
          3560,
          3563,
          3566,
          3570,
          3580,
          3593,
          3595,
          3596,
          3600,
          3607,
          3608,
          3609,
          3612,
          3616,
          3620,
          3622,
          3625,
          3633,
          3642,
          3657,
          3658,
          3659,
          3672,
          3693,
          3700,
          3707,
          3716,
          3723,
          3725,
          3726,
          3735,
          3736,
          3747,
          3755,
          3766,
          3769,
          3775,
          3794,
          3804,
          3812,
          3831,
          3832,
          3833,
          3838,
          3845,
          3868,
          3873,
          12,
          22,
          39,
          41,
          43,
          46,
          49,
          52,
          68,
          86,
          87,
          98,
          123,
          125,
          131,
          135,
          145,
          148,
          150,
          154
         ],
         "xaxis": "x",
         "y": [
          null,
          null,
          null,
          null,
          null,
          null,
          null,
          null,
          null,
          null,
          null,
          null,
          null,
          null,
          null,
          null,
          null,
          null,
          null,
          null,
          null,
          null,
          null,
          null,
          null,
          1.1111007928848267,
          1.2956551313400269,
          0.868956983089447,
          0.18966057896614075,
          null,
          null,
          null,
          null,
          null,
          null,
          null,
          null,
          null,
          null,
          null,
          null,
          null,
          null,
          null,
          null,
          null,
          null,
          null,
          null,
          null,
          null,
          null,
          0.3659224510192871,
          0.14082071185112,
          0.4839799106121063,
          0.6144283413887024,
          null,
          null,
          null,
          null,
          null,
          null,
          null,
          null,
          null,
          null,
          null,
          null,
          null,
          null,
          null,
          null,
          null,
          null,
          null,
          null,
          null,
          null,
          null,
          null,
          null,
          null,
          null,
          null,
          null,
          null,
          null,
          null,
          null,
          null,
          null,
          null,
          null,
          null,
          null,
          null,
          0.132229745388031,
          0.9570707082748413,
          null,
          null,
          null,
          null,
          null,
          null,
          null,
          null,
          null,
          null,
          null,
          null,
          null,
          null,
          null,
          null,
          null,
          null,
          null,
          null,
          null,
          null,
          null,
          null,
          null,
          null,
          null,
          null,
          null,
          null,
          null,
          null,
          null,
          null,
          null,
          null,
          null,
          null,
          null,
          null,
          null,
          null,
          null,
          null,
          null,
          0.27274608612060547,
          1.6542490720748901,
          null,
          null,
          null,
          null,
          null,
          null,
          null,
          null,
          null,
          null,
          null,
          null,
          null,
          null,
          null,
          null,
          null,
          null,
          null,
          null,
          null,
          null,
          null,
          null,
          null,
          null,
          null,
          null,
          null,
          null,
          null,
          null,
          null,
          null,
          null,
          null,
          null,
          null,
          null,
          null,
          null,
          null,
          null,
          null,
          null,
          null,
          null,
          null,
          null,
          null,
          null,
          null,
          null,
          0.36139753460884094,
          null,
          null,
          null,
          null,
          null,
          null,
          null,
          null,
          null,
          null,
          null,
          null,
          null,
          null,
          null,
          null,
          null,
          0.6697036623954773,
          1.1580675840377808,
          1.2092609405517578,
          null,
          null,
          null,
          null,
          null,
          null,
          null,
          null,
          null,
          null,
          null,
          null,
          null,
          null,
          null,
          null,
          null,
          null,
          null,
          null,
          0.561983585357666,
          0.6879286766052246,
          0.6108837127685547,
          null,
          null,
          null,
          null,
          null,
          null,
          null,
          null,
          null,
          null,
          null,
          null,
          null,
          null,
          null,
          null,
          null,
          null,
          null,
          null,
          null,
          null,
          null,
          null,
          null,
          null,
          1.3773313760757446,
          0.08365803211927414,
          0.5415244102478027,
          0.23903802037239075,
          null,
          null,
          null,
          null,
          null,
          null,
          null,
          null,
          null,
          null,
          null,
          null,
          null,
          null,
          null,
          null,
          null,
          null,
          null,
          null,
          0.07992283254861832,
          0.7325466275215149,
          null,
          null,
          null,
          null,
          null,
          null,
          null,
          null,
          null,
          null,
          null,
          null,
          null,
          null,
          null,
          null,
          null,
          null,
          null,
          null,
          null,
          null,
          null,
          null,
          null,
          null,
          null,
          null,
          0.3618561029434204,
          null,
          null,
          null,
          null,
          null,
          null,
          null,
          null,
          null,
          null,
          null,
          null,
          null,
          null,
          null,
          null,
          null,
          null,
          null,
          null,
          null,
          null,
          null,
          null,
          null,
          0.03325900435447693,
          0.36192336678504944,
          0.2156955599784851,
          0.5175647139549255,
          0.3736937940120697,
          null,
          null,
          null,
          null,
          null,
          null,
          null,
          null,
          null,
          null,
          null,
          null,
          null,
          null,
          null,
          null,
          null,
          null,
          null,
          null,
          0.45289984345436096,
          0.97804194688797,
          0.18848581612110138,
          null,
          null,
          null,
          null,
          null,
          null,
          null,
          null,
          null,
          null,
          null,
          null,
          null,
          null,
          null,
          null,
          null,
          null,
          null,
          null,
          null,
          null,
          null,
          null,
          null,
          null,
          null,
          0.07912039011716843,
          0.9710080027580261,
          null,
          null,
          null,
          null,
          null,
          null,
          null,
          null,
          null,
          null,
          null,
          null,
          null,
          null,
          null,
          null,
          null,
          null,
          null,
          null,
          null,
          null,
          null,
          null,
          null,
          null,
          0.4432762861251831,
          0.1404860019683838,
          0.35177189111709595,
          null,
          null,
          null,
          null,
          null,
          null,
          null,
          null,
          null,
          null,
          null,
          null,
          null,
          null,
          null,
          null,
          null,
          null,
          null,
          null,
          null,
          null,
          null,
          null,
          null,
          null,
          null,
          null,
          null,
          null,
          null,
          null,
          null,
          null,
          null,
          null,
          null,
          null,
          null,
          null,
          null,
          null,
          null,
          null,
          null,
          null,
          null,
          null,
          null,
          null,
          null,
          null,
          null,
          null,
          null,
          null,
          null,
          null,
          null,
          null,
          null,
          null,
          null,
          null,
          null,
          null,
          null,
          null,
          null,
          null,
          null,
          null,
          null,
          null,
          null,
          null
         ],
         "yaxis": "y"
        }
       ],
       "layout": {
        "legend": {
         "tracegroupgap": 0
        },
        "margin": {
         "t": 60
        },
        "template": {
         "data": {
          "bar": [
           {
            "error_x": {
             "color": "#2a3f5f"
            },
            "error_y": {
             "color": "#2a3f5f"
            },
            "marker": {
             "line": {
              "color": "#E5ECF6",
              "width": 0.5
             },
             "pattern": {
              "fillmode": "overlay",
              "size": 10,
              "solidity": 0.2
             }
            },
            "type": "bar"
           }
          ],
          "barpolar": [
           {
            "marker": {
             "line": {
              "color": "#E5ECF6",
              "width": 0.5
             },
             "pattern": {
              "fillmode": "overlay",
              "size": 10,
              "solidity": 0.2
             }
            },
            "type": "barpolar"
           }
          ],
          "carpet": [
           {
            "aaxis": {
             "endlinecolor": "#2a3f5f",
             "gridcolor": "white",
             "linecolor": "white",
             "minorgridcolor": "white",
             "startlinecolor": "#2a3f5f"
            },
            "baxis": {
             "endlinecolor": "#2a3f5f",
             "gridcolor": "white",
             "linecolor": "white",
             "minorgridcolor": "white",
             "startlinecolor": "#2a3f5f"
            },
            "type": "carpet"
           }
          ],
          "choropleth": [
           {
            "colorbar": {
             "outlinewidth": 0,
             "ticks": ""
            },
            "type": "choropleth"
           }
          ],
          "contour": [
           {
            "colorbar": {
             "outlinewidth": 0,
             "ticks": ""
            },
            "colorscale": [
             [
              0,
              "#0d0887"
             ],
             [
              0.1111111111111111,
              "#46039f"
             ],
             [
              0.2222222222222222,
              "#7201a8"
             ],
             [
              0.3333333333333333,
              "#9c179e"
             ],
             [
              0.4444444444444444,
              "#bd3786"
             ],
             [
              0.5555555555555556,
              "#d8576b"
             ],
             [
              0.6666666666666666,
              "#ed7953"
             ],
             [
              0.7777777777777778,
              "#fb9f3a"
             ],
             [
              0.8888888888888888,
              "#fdca26"
             ],
             [
              1,
              "#f0f921"
             ]
            ],
            "type": "contour"
           }
          ],
          "contourcarpet": [
           {
            "colorbar": {
             "outlinewidth": 0,
             "ticks": ""
            },
            "type": "contourcarpet"
           }
          ],
          "heatmap": [
           {
            "colorbar": {
             "outlinewidth": 0,
             "ticks": ""
            },
            "colorscale": [
             [
              0,
              "#0d0887"
             ],
             [
              0.1111111111111111,
              "#46039f"
             ],
             [
              0.2222222222222222,
              "#7201a8"
             ],
             [
              0.3333333333333333,
              "#9c179e"
             ],
             [
              0.4444444444444444,
              "#bd3786"
             ],
             [
              0.5555555555555556,
              "#d8576b"
             ],
             [
              0.6666666666666666,
              "#ed7953"
             ],
             [
              0.7777777777777778,
              "#fb9f3a"
             ],
             [
              0.8888888888888888,
              "#fdca26"
             ],
             [
              1,
              "#f0f921"
             ]
            ],
            "type": "heatmap"
           }
          ],
          "heatmapgl": [
           {
            "colorbar": {
             "outlinewidth": 0,
             "ticks": ""
            },
            "colorscale": [
             [
              0,
              "#0d0887"
             ],
             [
              0.1111111111111111,
              "#46039f"
             ],
             [
              0.2222222222222222,
              "#7201a8"
             ],
             [
              0.3333333333333333,
              "#9c179e"
             ],
             [
              0.4444444444444444,
              "#bd3786"
             ],
             [
              0.5555555555555556,
              "#d8576b"
             ],
             [
              0.6666666666666666,
              "#ed7953"
             ],
             [
              0.7777777777777778,
              "#fb9f3a"
             ],
             [
              0.8888888888888888,
              "#fdca26"
             ],
             [
              1,
              "#f0f921"
             ]
            ],
            "type": "heatmapgl"
           }
          ],
          "histogram": [
           {
            "marker": {
             "pattern": {
              "fillmode": "overlay",
              "size": 10,
              "solidity": 0.2
             }
            },
            "type": "histogram"
           }
          ],
          "histogram2d": [
           {
            "colorbar": {
             "outlinewidth": 0,
             "ticks": ""
            },
            "colorscale": [
             [
              0,
              "#0d0887"
             ],
             [
              0.1111111111111111,
              "#46039f"
             ],
             [
              0.2222222222222222,
              "#7201a8"
             ],
             [
              0.3333333333333333,
              "#9c179e"
             ],
             [
              0.4444444444444444,
              "#bd3786"
             ],
             [
              0.5555555555555556,
              "#d8576b"
             ],
             [
              0.6666666666666666,
              "#ed7953"
             ],
             [
              0.7777777777777778,
              "#fb9f3a"
             ],
             [
              0.8888888888888888,
              "#fdca26"
             ],
             [
              1,
              "#f0f921"
             ]
            ],
            "type": "histogram2d"
           }
          ],
          "histogram2dcontour": [
           {
            "colorbar": {
             "outlinewidth": 0,
             "ticks": ""
            },
            "colorscale": [
             [
              0,
              "#0d0887"
             ],
             [
              0.1111111111111111,
              "#46039f"
             ],
             [
              0.2222222222222222,
              "#7201a8"
             ],
             [
              0.3333333333333333,
              "#9c179e"
             ],
             [
              0.4444444444444444,
              "#bd3786"
             ],
             [
              0.5555555555555556,
              "#d8576b"
             ],
             [
              0.6666666666666666,
              "#ed7953"
             ],
             [
              0.7777777777777778,
              "#fb9f3a"
             ],
             [
              0.8888888888888888,
              "#fdca26"
             ],
             [
              1,
              "#f0f921"
             ]
            ],
            "type": "histogram2dcontour"
           }
          ],
          "mesh3d": [
           {
            "colorbar": {
             "outlinewidth": 0,
             "ticks": ""
            },
            "type": "mesh3d"
           }
          ],
          "parcoords": [
           {
            "line": {
             "colorbar": {
              "outlinewidth": 0,
              "ticks": ""
             }
            },
            "type": "parcoords"
           }
          ],
          "pie": [
           {
            "automargin": true,
            "type": "pie"
           }
          ],
          "scatter": [
           {
            "marker": {
             "colorbar": {
              "outlinewidth": 0,
              "ticks": ""
             }
            },
            "type": "scatter"
           }
          ],
          "scatter3d": [
           {
            "line": {
             "colorbar": {
              "outlinewidth": 0,
              "ticks": ""
             }
            },
            "marker": {
             "colorbar": {
              "outlinewidth": 0,
              "ticks": ""
             }
            },
            "type": "scatter3d"
           }
          ],
          "scattercarpet": [
           {
            "marker": {
             "colorbar": {
              "outlinewidth": 0,
              "ticks": ""
             }
            },
            "type": "scattercarpet"
           }
          ],
          "scattergeo": [
           {
            "marker": {
             "colorbar": {
              "outlinewidth": 0,
              "ticks": ""
             }
            },
            "type": "scattergeo"
           }
          ],
          "scattergl": [
           {
            "marker": {
             "colorbar": {
              "outlinewidth": 0,
              "ticks": ""
             }
            },
            "type": "scattergl"
           }
          ],
          "scattermapbox": [
           {
            "marker": {
             "colorbar": {
              "outlinewidth": 0,
              "ticks": ""
             }
            },
            "type": "scattermapbox"
           }
          ],
          "scatterpolar": [
           {
            "marker": {
             "colorbar": {
              "outlinewidth": 0,
              "ticks": ""
             }
            },
            "type": "scatterpolar"
           }
          ],
          "scatterpolargl": [
           {
            "marker": {
             "colorbar": {
              "outlinewidth": 0,
              "ticks": ""
             }
            },
            "type": "scatterpolargl"
           }
          ],
          "scatterternary": [
           {
            "marker": {
             "colorbar": {
              "outlinewidth": 0,
              "ticks": ""
             }
            },
            "type": "scatterternary"
           }
          ],
          "surface": [
           {
            "colorbar": {
             "outlinewidth": 0,
             "ticks": ""
            },
            "colorscale": [
             [
              0,
              "#0d0887"
             ],
             [
              0.1111111111111111,
              "#46039f"
             ],
             [
              0.2222222222222222,
              "#7201a8"
             ],
             [
              0.3333333333333333,
              "#9c179e"
             ],
             [
              0.4444444444444444,
              "#bd3786"
             ],
             [
              0.5555555555555556,
              "#d8576b"
             ],
             [
              0.6666666666666666,
              "#ed7953"
             ],
             [
              0.7777777777777778,
              "#fb9f3a"
             ],
             [
              0.8888888888888888,
              "#fdca26"
             ],
             [
              1,
              "#f0f921"
             ]
            ],
            "type": "surface"
           }
          ],
          "table": [
           {
            "cells": {
             "fill": {
              "color": "#EBF0F8"
             },
             "line": {
              "color": "white"
             }
            },
            "header": {
             "fill": {
              "color": "#C8D4E3"
             },
             "line": {
              "color": "white"
             }
            },
            "type": "table"
           }
          ]
         },
         "layout": {
          "annotationdefaults": {
           "arrowcolor": "#2a3f5f",
           "arrowhead": 0,
           "arrowwidth": 1
          },
          "autotypenumbers": "strict",
          "coloraxis": {
           "colorbar": {
            "outlinewidth": 0,
            "ticks": ""
           }
          },
          "colorscale": {
           "diverging": [
            [
             0,
             "#8e0152"
            ],
            [
             0.1,
             "#c51b7d"
            ],
            [
             0.2,
             "#de77ae"
            ],
            [
             0.3,
             "#f1b6da"
            ],
            [
             0.4,
             "#fde0ef"
            ],
            [
             0.5,
             "#f7f7f7"
            ],
            [
             0.6,
             "#e6f5d0"
            ],
            [
             0.7,
             "#b8e186"
            ],
            [
             0.8,
             "#7fbc41"
            ],
            [
             0.9,
             "#4d9221"
            ],
            [
             1,
             "#276419"
            ]
           ],
           "sequential": [
            [
             0,
             "#0d0887"
            ],
            [
             0.1111111111111111,
             "#46039f"
            ],
            [
             0.2222222222222222,
             "#7201a8"
            ],
            [
             0.3333333333333333,
             "#9c179e"
            ],
            [
             0.4444444444444444,
             "#bd3786"
            ],
            [
             0.5555555555555556,
             "#d8576b"
            ],
            [
             0.6666666666666666,
             "#ed7953"
            ],
            [
             0.7777777777777778,
             "#fb9f3a"
            ],
            [
             0.8888888888888888,
             "#fdca26"
            ],
            [
             1,
             "#f0f921"
            ]
           ],
           "sequentialminus": [
            [
             0,
             "#0d0887"
            ],
            [
             0.1111111111111111,
             "#46039f"
            ],
            [
             0.2222222222222222,
             "#7201a8"
            ],
            [
             0.3333333333333333,
             "#9c179e"
            ],
            [
             0.4444444444444444,
             "#bd3786"
            ],
            [
             0.5555555555555556,
             "#d8576b"
            ],
            [
             0.6666666666666666,
             "#ed7953"
            ],
            [
             0.7777777777777778,
             "#fb9f3a"
            ],
            [
             0.8888888888888888,
             "#fdca26"
            ],
            [
             1,
             "#f0f921"
            ]
           ]
          },
          "colorway": [
           "#636efa",
           "#EF553B",
           "#00cc96",
           "#ab63fa",
           "#FFA15A",
           "#19d3f3",
           "#FF6692",
           "#B6E880",
           "#FF97FF",
           "#FECB52"
          ],
          "font": {
           "color": "#2a3f5f"
          },
          "geo": {
           "bgcolor": "white",
           "lakecolor": "white",
           "landcolor": "#E5ECF6",
           "showlakes": true,
           "showland": true,
           "subunitcolor": "white"
          },
          "hoverlabel": {
           "align": "left"
          },
          "hovermode": "closest",
          "mapbox": {
           "style": "light"
          },
          "paper_bgcolor": "white",
          "plot_bgcolor": "#E5ECF6",
          "polar": {
           "angularaxis": {
            "gridcolor": "white",
            "linecolor": "white",
            "ticks": ""
           },
           "bgcolor": "#E5ECF6",
           "radialaxis": {
            "gridcolor": "white",
            "linecolor": "white",
            "ticks": ""
           }
          },
          "scene": {
           "xaxis": {
            "backgroundcolor": "#E5ECF6",
            "gridcolor": "white",
            "gridwidth": 2,
            "linecolor": "white",
            "showbackground": true,
            "ticks": "",
            "zerolinecolor": "white"
           },
           "yaxis": {
            "backgroundcolor": "#E5ECF6",
            "gridcolor": "white",
            "gridwidth": 2,
            "linecolor": "white",
            "showbackground": true,
            "ticks": "",
            "zerolinecolor": "white"
           },
           "zaxis": {
            "backgroundcolor": "#E5ECF6",
            "gridcolor": "white",
            "gridwidth": 2,
            "linecolor": "white",
            "showbackground": true,
            "ticks": "",
            "zerolinecolor": "white"
           }
          },
          "shapedefaults": {
           "line": {
            "color": "#2a3f5f"
           }
          },
          "ternary": {
           "aaxis": {
            "gridcolor": "white",
            "linecolor": "white",
            "ticks": ""
           },
           "baxis": {
            "gridcolor": "white",
            "linecolor": "white",
            "ticks": ""
           },
           "bgcolor": "#E5ECF6",
           "caxis": {
            "gridcolor": "white",
            "linecolor": "white",
            "ticks": ""
           }
          },
          "title": {
           "x": 0.05
          },
          "xaxis": {
           "automargin": true,
           "gridcolor": "white",
           "linecolor": "white",
           "ticks": "",
           "title": {
            "standoff": 15
           },
           "zerolinecolor": "white",
           "zerolinewidth": 2
          },
          "yaxis": {
           "automargin": true,
           "gridcolor": "white",
           "linecolor": "white",
           "ticks": "",
           "title": {
            "standoff": 15
           },
           "zerolinecolor": "white",
           "zerolinewidth": 2
          }
         }
        },
        "xaxis": {
         "anchor": "y",
         "domain": [
          0,
          1
         ],
         "title": {
          "text": "trainer/global_step"
         }
        },
        "yaxis": {
         "anchor": "x",
         "domain": [
          0,
          1
         ],
         "title": {
          "text": "train_loss_step"
         }
        }
       }
      },
      "text/html": [
       "<div>                            <div id=\"971bd087-9adc-4c98-a3b4-fb1780817c02\" class=\"plotly-graph-div\" style=\"height:525px; width:100%;\"></div>            <script type=\"text/javascript\">                require([\"plotly\"], function(Plotly) {                    window.PLOTLYENV=window.PLOTLYENV || {};                                    if (document.getElementById(\"971bd087-9adc-4c98-a3b4-fb1780817c02\")) {                    Plotly.newPlot(                        \"971bd087-9adc-4c98-a3b4-fb1780817c02\",                        [{\"hovertemplate\":\"trainer/global_step=%{x}<br>train_loss_step=%{y}<extra></extra>\",\"legendgroup\":\"\",\"marker\":{\"color\":\"#636efa\",\"symbol\":\"circle\"},\"mode\":\"markers\",\"name\":\"\",\"orientation\":\"v\",\"showlegend\":false,\"x\":[0,3,4,14,20,23,24,56,62,66,91,93,99,109,110,112,114,131,134,137,151,156,166,182,196,699,949,1149,1199,206,210,214,217,231,239,253,268,274,287,291,293,299,310,323,331,337,364,367,384,401,407,1313,1449,1549,1699,1949,413,416,432,455,467,481,494,497,499,507,528,529,535,554,559,561,574,580,581,598,1970,649,653,672,678,690,708,714,723,725,727,737,753,760,768,785,792,805,811,2627,2949,3149,829,856,865,869,882,886,894,895,899,903,912,916,917,938,940,941,947,962,964,965,970,975,982,983,984,996,1003,1009,1010,1015,3284,1026,1054,1057,1081,1085,1113,1117,1144,1159,1169,1185,1208,1213,1227,4099,4299,1230,1234,1239,1247,1251,1254,1275,1278,1280,1283,1291,1294,1304,1311,1326,1337,1338,1339,1340,1343,1345,1346,1350,1358,1369,1373,1374,1378,1380,1382,1392,1427,1433,1434,1437,1452,1462,1466,1473,1491,1498,1511,1512,1520,1522,1563,1568,1581,1604,1623,1631,1633,1636,5749,1660,1661,1666,1672,1673,1679,1682,1698,1699,1708,1718,1723,1746,1787,1823,1834,1835,6149,6199,6399,1856,1861,1875,1880,1906,1919,1935,1936,1948,1951,1963,1982,1985,1990,2003,2009,2021,2024,2031,2035,6899,7099,7199,2059,2069,2078,2080,2083,2085,2089,2130,2139,2141,2144,2146,2155,2160,2163,2170,2171,2177,2179,2180,2196,2202,2238,2249,2250,2253,7349,7399,7449,7849,2255,2256,2294,2297,2304,2307,2309,2320,2325,2326,2345,2356,2358,2359,2375,2377,2380,2383,2387,2444,8049,8099,2470,2475,2495,2500,2502,2517,2518,2525,2526,2527,2541,2550,2563,2564,2570,2584,2589,2592,2598,2622,2626,2633,2636,2646,2649,2650,2654,2664,8949,2670,2672,2699,2709,2711,2720,2723,2746,2748,2751,2766,2769,2774,2785,2788,2789,2812,2822,2826,2833,2836,2844,2850,2858,2860,9299,9399,9449,9549,9699,2880,2881,2905,2935,2952,2955,2963,2971,2980,3001,3004,3008,3014,3017,3019,3025,3026,3043,3065,3070,9949,9999,10199,3078,3082,3089,3115,3116,3121,3128,3142,3176,3177,3180,3181,3185,3190,3199,3200,3207,3209,3216,3225,3230,3235,3253,3262,3265,3277,10511,10649,11149,3287,3311,3316,3318,3319,3322,3328,3335,3344,3345,3348,3350,3360,3372,3383,3385,3388,3399,3418,3429,3430,3456,3458,3463,3477,3484,11249,11349,11749,3490,3498,3508,3512,3515,3527,3541,3548,3550,3560,3563,3566,3570,3580,3593,3595,3596,3600,3607,3608,3609,3612,3616,3620,3622,3625,3633,3642,3657,3658,3659,3672,3693,3700,3707,3716,3723,3725,3726,3735,3736,3747,3755,3766,3769,3775,3794,3804,3812,3831,3832,3833,3838,3845,3868,3873,12,22,39,41,43,46,49,52,68,86,87,98,123,125,131,135,145,148,150,154],\"xaxis\":\"x\",\"y\":[null,null,null,null,null,null,null,null,null,null,null,null,null,null,null,null,null,null,null,null,null,null,null,null,null,1.1111007928848267,1.2956551313400269,0.868956983089447,0.18966057896614075,null,null,null,null,null,null,null,null,null,null,null,null,null,null,null,null,null,null,null,null,null,null,null,0.3659224510192871,0.14082071185112,0.4839799106121063,0.6144283413887024,null,null,null,null,null,null,null,null,null,null,null,null,null,null,null,null,null,null,null,null,null,null,null,null,null,null,null,null,null,null,null,null,null,null,null,null,null,null,null,null,0.132229745388031,0.9570707082748413,null,null,null,null,null,null,null,null,null,null,null,null,null,null,null,null,null,null,null,null,null,null,null,null,null,null,null,null,null,null,null,null,null,null,null,null,null,null,null,null,null,null,null,null,null,0.27274608612060547,1.6542490720748901,null,null,null,null,null,null,null,null,null,null,null,null,null,null,null,null,null,null,null,null,null,null,null,null,null,null,null,null,null,null,null,null,null,null,null,null,null,null,null,null,null,null,null,null,null,null,null,null,null,null,null,null,null,0.36139753460884094,null,null,null,null,null,null,null,null,null,null,null,null,null,null,null,null,null,0.6697036623954773,1.1580675840377808,1.2092609405517578,null,null,null,null,null,null,null,null,null,null,null,null,null,null,null,null,null,null,null,null,0.561983585357666,0.6879286766052246,0.6108837127685547,null,null,null,null,null,null,null,null,null,null,null,null,null,null,null,null,null,null,null,null,null,null,null,null,null,null,1.3773313760757446,0.08365803211927414,0.5415244102478027,0.23903802037239075,null,null,null,null,null,null,null,null,null,null,null,null,null,null,null,null,null,null,null,null,0.07992283254861832,0.7325466275215149,null,null,null,null,null,null,null,null,null,null,null,null,null,null,null,null,null,null,null,null,null,null,null,null,null,null,null,null,0.3618561029434204,null,null,null,null,null,null,null,null,null,null,null,null,null,null,null,null,null,null,null,null,null,null,null,null,null,0.03325900435447693,0.36192336678504944,0.2156955599784851,0.5175647139549255,0.3736937940120697,null,null,null,null,null,null,null,null,null,null,null,null,null,null,null,null,null,null,null,null,0.45289984345436096,0.97804194688797,0.18848581612110138,null,null,null,null,null,null,null,null,null,null,null,null,null,null,null,null,null,null,null,null,null,null,null,null,null,null,null,0.07912039011716843,0.9710080027580261,null,null,null,null,null,null,null,null,null,null,null,null,null,null,null,null,null,null,null,null,null,null,null,null,null,null,0.4432762861251831,0.1404860019683838,0.35177189111709595,null,null,null,null,null,null,null,null,null,null,null,null,null,null,null,null,null,null,null,null,null,null,null,null,null,null,null,null,null,null,null,null,null,null,null,null,null,null,null,null,null,null,null,null,null,null,null,null,null,null,null,null,null,null,null,null,null,null,null,null,null,null,null,null,null,null,null,null,null,null,null,null,null,null,null,null],\"yaxis\":\"y\",\"type\":\"scatter\"}],                        {\"template\":{\"data\":{\"bar\":[{\"error_x\":{\"color\":\"#2a3f5f\"},\"error_y\":{\"color\":\"#2a3f5f\"},\"marker\":{\"line\":{\"color\":\"#E5ECF6\",\"width\":0.5},\"pattern\":{\"fillmode\":\"overlay\",\"size\":10,\"solidity\":0.2}},\"type\":\"bar\"}],\"barpolar\":[{\"marker\":{\"line\":{\"color\":\"#E5ECF6\",\"width\":0.5},\"pattern\":{\"fillmode\":\"overlay\",\"size\":10,\"solidity\":0.2}},\"type\":\"barpolar\"}],\"carpet\":[{\"aaxis\":{\"endlinecolor\":\"#2a3f5f\",\"gridcolor\":\"white\",\"linecolor\":\"white\",\"minorgridcolor\":\"white\",\"startlinecolor\":\"#2a3f5f\"},\"baxis\":{\"endlinecolor\":\"#2a3f5f\",\"gridcolor\":\"white\",\"linecolor\":\"white\",\"minorgridcolor\":\"white\",\"startlinecolor\":\"#2a3f5f\"},\"type\":\"carpet\"}],\"choropleth\":[{\"colorbar\":{\"outlinewidth\":0,\"ticks\":\"\"},\"type\":\"choropleth\"}],\"contour\":[{\"colorbar\":{\"outlinewidth\":0,\"ticks\":\"\"},\"colorscale\":[[0.0,\"#0d0887\"],[0.1111111111111111,\"#46039f\"],[0.2222222222222222,\"#7201a8\"],[0.3333333333333333,\"#9c179e\"],[0.4444444444444444,\"#bd3786\"],[0.5555555555555556,\"#d8576b\"],[0.6666666666666666,\"#ed7953\"],[0.7777777777777778,\"#fb9f3a\"],[0.8888888888888888,\"#fdca26\"],[1.0,\"#f0f921\"]],\"type\":\"contour\"}],\"contourcarpet\":[{\"colorbar\":{\"outlinewidth\":0,\"ticks\":\"\"},\"type\":\"contourcarpet\"}],\"heatmap\":[{\"colorbar\":{\"outlinewidth\":0,\"ticks\":\"\"},\"colorscale\":[[0.0,\"#0d0887\"],[0.1111111111111111,\"#46039f\"],[0.2222222222222222,\"#7201a8\"],[0.3333333333333333,\"#9c179e\"],[0.4444444444444444,\"#bd3786\"],[0.5555555555555556,\"#d8576b\"],[0.6666666666666666,\"#ed7953\"],[0.7777777777777778,\"#fb9f3a\"],[0.8888888888888888,\"#fdca26\"],[1.0,\"#f0f921\"]],\"type\":\"heatmap\"}],\"heatmapgl\":[{\"colorbar\":{\"outlinewidth\":0,\"ticks\":\"\"},\"colorscale\":[[0.0,\"#0d0887\"],[0.1111111111111111,\"#46039f\"],[0.2222222222222222,\"#7201a8\"],[0.3333333333333333,\"#9c179e\"],[0.4444444444444444,\"#bd3786\"],[0.5555555555555556,\"#d8576b\"],[0.6666666666666666,\"#ed7953\"],[0.7777777777777778,\"#fb9f3a\"],[0.8888888888888888,\"#fdca26\"],[1.0,\"#f0f921\"]],\"type\":\"heatmapgl\"}],\"histogram\":[{\"marker\":{\"pattern\":{\"fillmode\":\"overlay\",\"size\":10,\"solidity\":0.2}},\"type\":\"histogram\"}],\"histogram2d\":[{\"colorbar\":{\"outlinewidth\":0,\"ticks\":\"\"},\"colorscale\":[[0.0,\"#0d0887\"],[0.1111111111111111,\"#46039f\"],[0.2222222222222222,\"#7201a8\"],[0.3333333333333333,\"#9c179e\"],[0.4444444444444444,\"#bd3786\"],[0.5555555555555556,\"#d8576b\"],[0.6666666666666666,\"#ed7953\"],[0.7777777777777778,\"#fb9f3a\"],[0.8888888888888888,\"#fdca26\"],[1.0,\"#f0f921\"]],\"type\":\"histogram2d\"}],\"histogram2dcontour\":[{\"colorbar\":{\"outlinewidth\":0,\"ticks\":\"\"},\"colorscale\":[[0.0,\"#0d0887\"],[0.1111111111111111,\"#46039f\"],[0.2222222222222222,\"#7201a8\"],[0.3333333333333333,\"#9c179e\"],[0.4444444444444444,\"#bd3786\"],[0.5555555555555556,\"#d8576b\"],[0.6666666666666666,\"#ed7953\"],[0.7777777777777778,\"#fb9f3a\"],[0.8888888888888888,\"#fdca26\"],[1.0,\"#f0f921\"]],\"type\":\"histogram2dcontour\"}],\"mesh3d\":[{\"colorbar\":{\"outlinewidth\":0,\"ticks\":\"\"},\"type\":\"mesh3d\"}],\"parcoords\":[{\"line\":{\"colorbar\":{\"outlinewidth\":0,\"ticks\":\"\"}},\"type\":\"parcoords\"}],\"pie\":[{\"automargin\":true,\"type\":\"pie\"}],\"scatter\":[{\"marker\":{\"colorbar\":{\"outlinewidth\":0,\"ticks\":\"\"}},\"type\":\"scatter\"}],\"scatter3d\":[{\"line\":{\"colorbar\":{\"outlinewidth\":0,\"ticks\":\"\"}},\"marker\":{\"colorbar\":{\"outlinewidth\":0,\"ticks\":\"\"}},\"type\":\"scatter3d\"}],\"scattercarpet\":[{\"marker\":{\"colorbar\":{\"outlinewidth\":0,\"ticks\":\"\"}},\"type\":\"scattercarpet\"}],\"scattergeo\":[{\"marker\":{\"colorbar\":{\"outlinewidth\":0,\"ticks\":\"\"}},\"type\":\"scattergeo\"}],\"scattergl\":[{\"marker\":{\"colorbar\":{\"outlinewidth\":0,\"ticks\":\"\"}},\"type\":\"scattergl\"}],\"scattermapbox\":[{\"marker\":{\"colorbar\":{\"outlinewidth\":0,\"ticks\":\"\"}},\"type\":\"scattermapbox\"}],\"scatterpolar\":[{\"marker\":{\"colorbar\":{\"outlinewidth\":0,\"ticks\":\"\"}},\"type\":\"scatterpolar\"}],\"scatterpolargl\":[{\"marker\":{\"colorbar\":{\"outlinewidth\":0,\"ticks\":\"\"}},\"type\":\"scatterpolargl\"}],\"scatterternary\":[{\"marker\":{\"colorbar\":{\"outlinewidth\":0,\"ticks\":\"\"}},\"type\":\"scatterternary\"}],\"surface\":[{\"colorbar\":{\"outlinewidth\":0,\"ticks\":\"\"},\"colorscale\":[[0.0,\"#0d0887\"],[0.1111111111111111,\"#46039f\"],[0.2222222222222222,\"#7201a8\"],[0.3333333333333333,\"#9c179e\"],[0.4444444444444444,\"#bd3786\"],[0.5555555555555556,\"#d8576b\"],[0.6666666666666666,\"#ed7953\"],[0.7777777777777778,\"#fb9f3a\"],[0.8888888888888888,\"#fdca26\"],[1.0,\"#f0f921\"]],\"type\":\"surface\"}],\"table\":[{\"cells\":{\"fill\":{\"color\":\"#EBF0F8\"},\"line\":{\"color\":\"white\"}},\"header\":{\"fill\":{\"color\":\"#C8D4E3\"},\"line\":{\"color\":\"white\"}},\"type\":\"table\"}]},\"layout\":{\"annotationdefaults\":{\"arrowcolor\":\"#2a3f5f\",\"arrowhead\":0,\"arrowwidth\":1},\"autotypenumbers\":\"strict\",\"coloraxis\":{\"colorbar\":{\"outlinewidth\":0,\"ticks\":\"\"}},\"colorscale\":{\"diverging\":[[0,\"#8e0152\"],[0.1,\"#c51b7d\"],[0.2,\"#de77ae\"],[0.3,\"#f1b6da\"],[0.4,\"#fde0ef\"],[0.5,\"#f7f7f7\"],[0.6,\"#e6f5d0\"],[0.7,\"#b8e186\"],[0.8,\"#7fbc41\"],[0.9,\"#4d9221\"],[1,\"#276419\"]],\"sequential\":[[0.0,\"#0d0887\"],[0.1111111111111111,\"#46039f\"],[0.2222222222222222,\"#7201a8\"],[0.3333333333333333,\"#9c179e\"],[0.4444444444444444,\"#bd3786\"],[0.5555555555555556,\"#d8576b\"],[0.6666666666666666,\"#ed7953\"],[0.7777777777777778,\"#fb9f3a\"],[0.8888888888888888,\"#fdca26\"],[1.0,\"#f0f921\"]],\"sequentialminus\":[[0.0,\"#0d0887\"],[0.1111111111111111,\"#46039f\"],[0.2222222222222222,\"#7201a8\"],[0.3333333333333333,\"#9c179e\"],[0.4444444444444444,\"#bd3786\"],[0.5555555555555556,\"#d8576b\"],[0.6666666666666666,\"#ed7953\"],[0.7777777777777778,\"#fb9f3a\"],[0.8888888888888888,\"#fdca26\"],[1.0,\"#f0f921\"]]},\"colorway\":[\"#636efa\",\"#EF553B\",\"#00cc96\",\"#ab63fa\",\"#FFA15A\",\"#19d3f3\",\"#FF6692\",\"#B6E880\",\"#FF97FF\",\"#FECB52\"],\"font\":{\"color\":\"#2a3f5f\"},\"geo\":{\"bgcolor\":\"white\",\"lakecolor\":\"white\",\"landcolor\":\"#E5ECF6\",\"showlakes\":true,\"showland\":true,\"subunitcolor\":\"white\"},\"hoverlabel\":{\"align\":\"left\"},\"hovermode\":\"closest\",\"mapbox\":{\"style\":\"light\"},\"paper_bgcolor\":\"white\",\"plot_bgcolor\":\"#E5ECF6\",\"polar\":{\"angularaxis\":{\"gridcolor\":\"white\",\"linecolor\":\"white\",\"ticks\":\"\"},\"bgcolor\":\"#E5ECF6\",\"radialaxis\":{\"gridcolor\":\"white\",\"linecolor\":\"white\",\"ticks\":\"\"}},\"scene\":{\"xaxis\":{\"backgroundcolor\":\"#E5ECF6\",\"gridcolor\":\"white\",\"gridwidth\":2,\"linecolor\":\"white\",\"showbackground\":true,\"ticks\":\"\",\"zerolinecolor\":\"white\"},\"yaxis\":{\"backgroundcolor\":\"#E5ECF6\",\"gridcolor\":\"white\",\"gridwidth\":2,\"linecolor\":\"white\",\"showbackground\":true,\"ticks\":\"\",\"zerolinecolor\":\"white\"},\"zaxis\":{\"backgroundcolor\":\"#E5ECF6\",\"gridcolor\":\"white\",\"gridwidth\":2,\"linecolor\":\"white\",\"showbackground\":true,\"ticks\":\"\",\"zerolinecolor\":\"white\"}},\"shapedefaults\":{\"line\":{\"color\":\"#2a3f5f\"}},\"ternary\":{\"aaxis\":{\"gridcolor\":\"white\",\"linecolor\":\"white\",\"ticks\":\"\"},\"baxis\":{\"gridcolor\":\"white\",\"linecolor\":\"white\",\"ticks\":\"\"},\"bgcolor\":\"#E5ECF6\",\"caxis\":{\"gridcolor\":\"white\",\"linecolor\":\"white\",\"ticks\":\"\"}},\"title\":{\"x\":0.05},\"xaxis\":{\"automargin\":true,\"gridcolor\":\"white\",\"linecolor\":\"white\",\"ticks\":\"\",\"title\":{\"standoff\":15},\"zerolinecolor\":\"white\",\"zerolinewidth\":2},\"yaxis\":{\"automargin\":true,\"gridcolor\":\"white\",\"linecolor\":\"white\",\"ticks\":\"\",\"title\":{\"standoff\":15},\"zerolinecolor\":\"white\",\"zerolinewidth\":2}}},\"xaxis\":{\"anchor\":\"y\",\"domain\":[0.0,1.0],\"title\":{\"text\":\"trainer/global_step\"}},\"yaxis\":{\"anchor\":\"x\",\"domain\":[0.0,1.0],\"title\":{\"text\":\"train_loss_step\"}},\"legend\":{\"tracegroupgap\":0},\"margin\":{\"t\":60}},                        {\"responsive\": true}                    ).then(function(){\n",
       "                            \n",
       "var gd = document.getElementById('971bd087-9adc-4c98-a3b4-fb1780817c02');\n",
       "var x = new MutationObserver(function (mutations, observer) {{\n",
       "        var display = window.getComputedStyle(gd).display;\n",
       "        if (!display || display === 'none') {{\n",
       "            console.log([gd, 'removed!']);\n",
       "            Plotly.purge(gd);\n",
       "            observer.disconnect();\n",
       "        }}\n",
       "}});\n",
       "\n",
       "// Listen for the removal of the full notebook cells\n",
       "var notebookContainer = gd.closest('#notebook-container');\n",
       "if (notebookContainer) {{\n",
       "    x.observe(notebookContainer, {childList: true});\n",
       "}}\n",
       "\n",
       "// Listen for the clearing of the current output cell\n",
       "var outputEl = gd.closest('.output');\n",
       "if (outputEl) {{\n",
       "    x.observe(outputEl, {childList: true});\n",
       "}}\n",
       "\n",
       "                        })                };                });            </script>        </div>"
      ]
     },
     "metadata": {},
     "output_type": "display_data"
    },
    {
     "ename": "ValueError",
     "evalue": "Value of 'y' is not the name of a column in 'data_frame'. Expected one of ['trainer/global_step', '_step', '_runtime', 'test_loss_step', '_timestamp', 'test_auroc', 'test_per_class_recall', 'test_specificity', 'test_total_accuracy', 'test_confusion_matrix', 'test_per_class_precision', 'test_median_f1', 'epoch', 'test_f1', 'test_weighted_accuracy', 'test_per_class_f1', 'test_recall', 'test_balanced_accuracy', 'test_precision', 'test_loss_epoch'] but received: train_loss_step",
     "output_type": "error",
     "traceback": [
      "\u001b[0;31m---------------------------------------------------------------------------\u001b[0m",
      "\u001b[0;31mValueError\u001b[0m                                Traceback (most recent call last)",
      "Input \u001b[0;32mIn [37]\u001b[0m, in \u001b[0;36m<cell line: 2>\u001b[0;34m()\u001b[0m\n\u001b[1;32m      3\u001b[0m \u001b[38;5;28;01mif\u001b[39;00m run\u001b[38;5;241m.\u001b[39mstate \u001b[38;5;241m==\u001b[39m \u001b[38;5;124m'\u001b[39m\u001b[38;5;124mfinished\u001b[39m\u001b[38;5;124m'\u001b[39m:\n\u001b[1;32m      4\u001b[0m     df \u001b[38;5;241m=\u001b[39m run\u001b[38;5;241m.\u001b[39mhistory()\n\u001b[0;32m----> 6\u001b[0m     \u001b[43mpx\u001b[49m\u001b[38;5;241;43m.\u001b[39;49m\u001b[43mscatter\u001b[49m\u001b[43m(\u001b[49m\u001b[43mdf\u001b[49m\u001b[43m,\u001b[49m\u001b[43m \u001b[49m\u001b[43mx\u001b[49m\u001b[38;5;241;43m=\u001b[39;49m\u001b[38;5;124;43m'\u001b[39;49m\u001b[38;5;124;43mtrainer/global_step\u001b[39;49m\u001b[38;5;124;43m'\u001b[39;49m\u001b[43m,\u001b[49m\u001b[43m \u001b[49m\u001b[43my\u001b[49m\u001b[38;5;241;43m=\u001b[39;49m\u001b[38;5;124;43m'\u001b[39;49m\u001b[38;5;124;43mtrain_loss_step\u001b[39;49m\u001b[38;5;124;43m'\u001b[39;49m\u001b[43m)\u001b[49m\u001b[38;5;241m.\u001b[39mshow()\n",
      "File \u001b[0;32m~/miniconda3/envs/base-data-science/lib/python3.9/site-packages/plotly/express/_chart_types.py:66\u001b[0m, in \u001b[0;36mscatter\u001b[0;34m(data_frame, x, y, color, symbol, size, hover_name, hover_data, custom_data, text, facet_row, facet_col, facet_col_wrap, facet_row_spacing, facet_col_spacing, error_x, error_x_minus, error_y, error_y_minus, animation_frame, animation_group, category_orders, labels, orientation, color_discrete_sequence, color_discrete_map, color_continuous_scale, range_color, color_continuous_midpoint, symbol_sequence, symbol_map, opacity, size_max, marginal_x, marginal_y, trendline, trendline_options, trendline_color_override, trendline_scope, log_x, log_y, range_x, range_y, render_mode, title, template, width, height)\u001b[0m\n\u001b[1;32m     12\u001b[0m \u001b[38;5;28;01mdef\u001b[39;00m \u001b[38;5;21mscatter\u001b[39m(\n\u001b[1;32m     13\u001b[0m     data_frame\u001b[38;5;241m=\u001b[39m\u001b[38;5;28;01mNone\u001b[39;00m,\n\u001b[1;32m     14\u001b[0m     x\u001b[38;5;241m=\u001b[39m\u001b[38;5;28;01mNone\u001b[39;00m,\n\u001b[0;32m   (...)\u001b[0m\n\u001b[1;32m     60\u001b[0m     height\u001b[38;5;241m=\u001b[39m\u001b[38;5;28;01mNone\u001b[39;00m,\n\u001b[1;32m     61\u001b[0m ):\n\u001b[1;32m     62\u001b[0m     \u001b[38;5;124;03m\"\"\"\u001b[39;00m\n\u001b[1;32m     63\u001b[0m \u001b[38;5;124;03m    In a scatter plot, each row of `data_frame` is represented by a symbol\u001b[39;00m\n\u001b[1;32m     64\u001b[0m \u001b[38;5;124;03m    mark in 2D space.\u001b[39;00m\n\u001b[1;32m     65\u001b[0m \u001b[38;5;124;03m    \"\"\"\u001b[39;00m\n\u001b[0;32m---> 66\u001b[0m     \u001b[38;5;28;01mreturn\u001b[39;00m \u001b[43mmake_figure\u001b[49m\u001b[43m(\u001b[49m\u001b[43margs\u001b[49m\u001b[38;5;241;43m=\u001b[39;49m\u001b[38;5;28;43mlocals\u001b[39;49m\u001b[43m(\u001b[49m\u001b[43m)\u001b[49m\u001b[43m,\u001b[49m\u001b[43m \u001b[49m\u001b[43mconstructor\u001b[49m\u001b[38;5;241;43m=\u001b[39;49m\u001b[43mgo\u001b[49m\u001b[38;5;241;43m.\u001b[39;49m\u001b[43mScatter\u001b[49m\u001b[43m)\u001b[49m\n",
      "File \u001b[0;32m~/miniconda3/envs/base-data-science/lib/python3.9/site-packages/plotly/express/_core.py:1933\u001b[0m, in \u001b[0;36mmake_figure\u001b[0;34m(args, constructor, trace_patch, layout_patch)\u001b[0m\n\u001b[1;32m   1930\u001b[0m layout_patch \u001b[38;5;241m=\u001b[39m layout_patch \u001b[38;5;129;01mor\u001b[39;00m {}\n\u001b[1;32m   1931\u001b[0m apply_default_cascade(args)\n\u001b[0;32m-> 1933\u001b[0m args \u001b[38;5;241m=\u001b[39m \u001b[43mbuild_dataframe\u001b[49m\u001b[43m(\u001b[49m\u001b[43margs\u001b[49m\u001b[43m,\u001b[49m\u001b[43m \u001b[49m\u001b[43mconstructor\u001b[49m\u001b[43m)\u001b[49m\n\u001b[1;32m   1934\u001b[0m \u001b[38;5;28;01mif\u001b[39;00m constructor \u001b[38;5;129;01min\u001b[39;00m [go\u001b[38;5;241m.\u001b[39mTreemap, go\u001b[38;5;241m.\u001b[39mSunburst, go\u001b[38;5;241m.\u001b[39mIcicle] \u001b[38;5;129;01mand\u001b[39;00m args[\u001b[38;5;124m\"\u001b[39m\u001b[38;5;124mpath\u001b[39m\u001b[38;5;124m\"\u001b[39m] \u001b[38;5;129;01mis\u001b[39;00m \u001b[38;5;129;01mnot\u001b[39;00m \u001b[38;5;28;01mNone\u001b[39;00m:\n\u001b[1;32m   1935\u001b[0m     args \u001b[38;5;241m=\u001b[39m process_dataframe_hierarchy(args)\n",
      "File \u001b[0;32m~/miniconda3/envs/base-data-science/lib/python3.9/site-packages/plotly/express/_core.py:1405\u001b[0m, in \u001b[0;36mbuild_dataframe\u001b[0;34m(args, constructor)\u001b[0m\n\u001b[1;32m   1402\u001b[0m     args[\u001b[38;5;124m\"\u001b[39m\u001b[38;5;124mcolor\u001b[39m\u001b[38;5;124m\"\u001b[39m] \u001b[38;5;241m=\u001b[39m \u001b[38;5;28;01mNone\u001b[39;00m\n\u001b[1;32m   1403\u001b[0m \u001b[38;5;66;03m# now that things have been prepped, we do the systematic rewriting of `args`\u001b[39;00m\n\u001b[0;32m-> 1405\u001b[0m df_output, wide_id_vars \u001b[38;5;241m=\u001b[39m \u001b[43mprocess_args_into_dataframe\u001b[49m\u001b[43m(\u001b[49m\n\u001b[1;32m   1406\u001b[0m \u001b[43m    \u001b[49m\u001b[43margs\u001b[49m\u001b[43m,\u001b[49m\u001b[43m \u001b[49m\u001b[43mwide_mode\u001b[49m\u001b[43m,\u001b[49m\u001b[43m \u001b[49m\u001b[43mvar_name\u001b[49m\u001b[43m,\u001b[49m\u001b[43m \u001b[49m\u001b[43mvalue_name\u001b[49m\n\u001b[1;32m   1407\u001b[0m \u001b[43m\u001b[49m\u001b[43m)\u001b[49m\n\u001b[1;32m   1409\u001b[0m \u001b[38;5;66;03m# now that `df_output` exists and `args` contains only references, we complete\u001b[39;00m\n\u001b[1;32m   1410\u001b[0m \u001b[38;5;66;03m# the special-case and wide-mode handling by further rewriting args and/or mutating\u001b[39;00m\n\u001b[1;32m   1411\u001b[0m \u001b[38;5;66;03m# df_output\u001b[39;00m\n\u001b[1;32m   1413\u001b[0m count_name \u001b[38;5;241m=\u001b[39m _escape_col_name(df_output, \u001b[38;5;124m\"\u001b[39m\u001b[38;5;124mcount\u001b[39m\u001b[38;5;124m\"\u001b[39m, [var_name, value_name])\n",
      "File \u001b[0;32m~/miniconda3/envs/base-data-science/lib/python3.9/site-packages/plotly/express/_core.py:1207\u001b[0m, in \u001b[0;36mprocess_args_into_dataframe\u001b[0;34m(args, wide_mode, var_name, value_name)\u001b[0m\n\u001b[1;32m   1205\u001b[0m         \u001b[38;5;28;01mif\u001b[39;00m argument \u001b[38;5;241m==\u001b[39m \u001b[38;5;124m\"\u001b[39m\u001b[38;5;124mindex\u001b[39m\u001b[38;5;124m\"\u001b[39m:\n\u001b[1;32m   1206\u001b[0m             err_msg \u001b[38;5;241m+\u001b[39m\u001b[38;5;241m=\u001b[39m \u001b[38;5;124m\"\u001b[39m\u001b[38;5;130;01m\\n\u001b[39;00m\u001b[38;5;124m To use the index, pass it in directly as `df.index`.\u001b[39m\u001b[38;5;124m\"\u001b[39m\n\u001b[0;32m-> 1207\u001b[0m         \u001b[38;5;28;01mraise\u001b[39;00m \u001b[38;5;167;01mValueError\u001b[39;00m(err_msg)\n\u001b[1;32m   1208\u001b[0m \u001b[38;5;28;01melif\u001b[39;00m length \u001b[38;5;129;01mand\u001b[39;00m \u001b[38;5;28mlen\u001b[39m(df_input[argument]) \u001b[38;5;241m!=\u001b[39m length:\n\u001b[1;32m   1209\u001b[0m     \u001b[38;5;28;01mraise\u001b[39;00m \u001b[38;5;167;01mValueError\u001b[39;00m(\n\u001b[1;32m   1210\u001b[0m         \u001b[38;5;124m\"\u001b[39m\u001b[38;5;124mAll arguments should have the same length. \u001b[39m\u001b[38;5;124m\"\u001b[39m\n\u001b[1;32m   1211\u001b[0m         \u001b[38;5;124m\"\u001b[39m\u001b[38;5;124mThe length of column argument `df[\u001b[39m\u001b[38;5;132;01m%s\u001b[39;00m\u001b[38;5;124m]` is \u001b[39m\u001b[38;5;132;01m%d\u001b[39;00m\u001b[38;5;124m, whereas the \u001b[39m\u001b[38;5;124m\"\u001b[39m\n\u001b[0;32m   (...)\u001b[0m\n\u001b[1;32m   1218\u001b[0m         )\n\u001b[1;32m   1219\u001b[0m     )\n",
      "\u001b[0;31mValueError\u001b[0m: Value of 'y' is not the name of a column in 'data_frame'. Expected one of ['trainer/global_step', '_step', '_runtime', 'test_loss_step', '_timestamp', 'test_auroc', 'test_per_class_recall', 'test_specificity', 'test_total_accuracy', 'test_confusion_matrix', 'test_per_class_precision', 'test_median_f1', 'epoch', 'test_f1', 'test_weighted_accuracy', 'test_per_class_f1', 'test_recall', 'test_balanced_accuracy', 'test_precision', 'test_loss_epoch'] but received: train_loss_step"
     ]
    }
   ],
   "source": [
    "summary_list, config_list, name_list = [], [], []\n",
    "for run in runs:\n",
    "    if run.state == 'finished':\n",
    "        df = run.history()\n",
    "        \n",
    "        px.scatter(df, x='trainer/global_step', y='train_loss_step').show()"
   ]
  },
  {
   "cell_type": "code",
   "execution_count": 20,
   "id": "f8f46153",
   "metadata": {},
   "outputs": [
    {
     "data": {
      "text/plain": [
       "[{}, {}, {}, {}, {}, {}, {}, {}, {}, {}, {}, {}, {}, {}, {}, {}]"
      ]
     },
     "execution_count": 20,
     "metadata": {},
     "output_type": "execute_result"
    }
   ],
   "source": [
    "config_list"
   ]
  },
  {
   "cell_type": "code",
   "execution_count": 17,
   "id": "c766b36f",
   "metadata": {},
   "outputs": [
    {
     "name": "stdout",
     "output_type": "stream",
     "text": [
      "Help on Run in module wandb.apis.public object:\n",
      "\n",
      "q9wg97g0 = class Run(Attrs)\n",
      " |  q9wg97g0(client, entity, project, run_id, attrs={})\n",
      " |  \n",
      " |  A single run associated with an entity and project.\n",
      " |  \n",
      " |  Attributes:\n",
      " |      tags ([str]): a list of tags associated with the run\n",
      " |      url (str): the url of this run\n",
      " |      id (str): unique identifier for the run (defaults to eight characters)\n",
      " |      name (str): the name of the run\n",
      " |      state (str): one of: running, finished, crashed, killed, preempting, preempted\n",
      " |      config (dict): a dict of hyperparameters associated with the run\n",
      " |      created_at (str): ISO timestamp when the run was started\n",
      " |      system_metrics (dict): the latest system metrics recorded for the run\n",
      " |      summary (dict): A mutable dict-like property that holds the current summary.\n",
      " |                  Calling update will persist any changes.\n",
      " |      project (str): the project associated with the run\n",
      " |      entity (str): the name of the entity associated with the run\n",
      " |      user (str): the name of the user who created the run\n",
      " |      path (str): Unique identifier [entity]/[project]/[run_id]\n",
      " |      notes (str): Notes about the run\n",
      " |      read_only (boolean): Whether the run is editable\n",
      " |      history_keys (str): Keys of the history metrics that have been logged\n",
      " |          with `wandb.log({key: value})`\n",
      " |  \n",
      " |  Method resolution order:\n",
      " |      Run\n",
      " |      Attrs\n",
      " |      builtins.object\n",
      " |  \n",
      " |  Methods defined here:\n",
      " |  \n",
      " |  __init__(self, client, entity, project, run_id, attrs={})\n",
      " |      Run is always initialized by calling api.runs() where api is an instance of wandb.Api\n",
      " |  \n",
      " |  __repr__(self)\n",
      " |      Return repr(self).\n",
      " |  \n",
      " |  delete(self, delete_artifacts=False)\n",
      " |      Deletes the given run from the wandb backend.\n",
      " |  \n",
      " |  file(self, name)\n",
      " |      Arguments:\n",
      " |          name (str): name of requested file.\n",
      " |      \n",
      " |      Returns:\n",
      " |          A `File` matching the name argument.\n",
      " |  \n",
      " |  files(self, names=[], per_page=50)\n",
      " |      Arguments:\n",
      " |          names (list): names of the requested files, if empty returns all files\n",
      " |          per_page (int): number of results per page\n",
      " |      \n",
      " |      Returns:\n",
      " |          A `Files` object, which is an iterator over `File` obejcts.\n",
      " |  \n",
      " |  history(self, samples=500, keys=None, x_axis='_step', pandas=True, stream='default')\n",
      " |      Returns sampled history metrics for a run.  This is simpler and faster if you are ok with\n",
      " |      the history records being sampled.\n",
      " |      \n",
      " |      Arguments:\n",
      " |          samples (int, optional): The number of samples to return\n",
      " |          pandas (bool, optional): Return a pandas dataframe\n",
      " |          keys (list, optional): Only return metrics for specific keys\n",
      " |          x_axis (str, optional): Use this metric as the xAxis defaults to _step\n",
      " |          stream (str, optional): \"default\" for metrics, \"system\" for machine metrics\n",
      " |      \n",
      " |      Returns:\n",
      " |          If pandas=True returns a `pandas.DataFrame` of history metrics.\n",
      " |          If pandas=False returns a list of dicts of history metrics.\n",
      " |  \n",
      " |  load(self, force=False)\n",
      " |  \n",
      " |  log_artifact(self, artifact, aliases=None)\n",
      " |      Declare an artifact as output of a run.\n",
      " |      \n",
      " |      Arguments:\n",
      " |          artifact (`Artifact`): An artifact returned from\n",
      " |              `wandb.Api().artifact(name)`\n",
      " |          aliases (list, optional): Aliases to apply to this artifact\n",
      " |      Returns:\n",
      " |          A `Artifact` object.\n",
      " |  \n",
      " |  logged_artifacts(self, per_page=100)\n",
      " |  \n",
      " |  save(self)\n",
      " |  \n",
      " |  scan_history(self, keys=None, page_size=1000, min_step=None, max_step=None)\n",
      " |      Returns an iterable collection of all history records for a run.\n",
      " |      \n",
      " |      Example:\n",
      " |          Export all the loss values for an example run\n",
      " |      \n",
      " |          ```python\n",
      " |          run = api.run(\"l2k2/examples-numpy-boston/i0wt6xua\")\n",
      " |          history = run.scan_history(keys=[\"Loss\"])\n",
      " |          losses = [row[\"Loss\"] for row in history]\n",
      " |          ```\n",
      " |      \n",
      " |      \n",
      " |      Arguments:\n",
      " |          keys ([str], optional): only fetch these keys, and only fetch rows that have all of keys defined.\n",
      " |          page_size (int, optional): size of pages to fetch from the api\n",
      " |      \n",
      " |      Returns:\n",
      " |          An iterable collection over history records (dict).\n",
      " |  \n",
      " |  to_html(self, height=420, hidden=False)\n",
      " |      Generate HTML containing an iframe displaying this run\n",
      " |  \n",
      " |  update(self)\n",
      " |      Persists changes to the run object to the wandb backend.\n",
      " |  \n",
      " |  upload_file(self, path, root='.')\n",
      " |      Arguments:\n",
      " |          path (str): name of file to upload.\n",
      " |          root (str): the root path to save the file relative to.  i.e.\n",
      " |              If you want to have the file saved in the run as \"my_dir/file.txt\"\n",
      " |              and you're currently in \"my_dir\" you would set root to \"../\"\n",
      " |      \n",
      " |      Returns:\n",
      " |          A `File` matching the name argument.\n",
      " |  \n",
      " |  use_artifact(self, artifact, use_as=None)\n",
      " |      Declare an artifact as an input to a run.\n",
      " |      \n",
      " |      Arguments:\n",
      " |          artifact (`Artifact`): An artifact returned from\n",
      " |              `wandb.Api().artifact(name)`\n",
      " |          use_as (string, optional): A string identifying\n",
      " |              how the artifact is used in the script. Used\n",
      " |              to easily differentiate artifacts used in a\n",
      " |              run, when using the beta wandb launch\n",
      " |              feature's artifact swapping functionality.\n",
      " |      Returns:\n",
      " |          A `Artifact` object.\n",
      " |  \n",
      " |  used_artifacts(self, per_page=100)\n",
      " |  \n",
      " |  wait_until_finished(self)\n",
      " |  \n",
      " |  ----------------------------------------------------------------------\n",
      " |  Class methods defined here:\n",
      " |  \n",
      " |  create(api, run_id=None, project=None, entity=None) from builtins.type\n",
      " |      Create a run for the given project\n",
      " |  \n",
      " |  ----------------------------------------------------------------------\n",
      " |  Readonly properties defined here:\n",
      " |  \n",
      " |  entity\n",
      " |  \n",
      " |  json_config\n",
      " |  \n",
      " |  lastHistoryStep\n",
      " |  \n",
      " |  path\n",
      " |  \n",
      " |  state\n",
      " |  \n",
      " |  storage_id\n",
      " |  \n",
      " |  summary\n",
      " |  \n",
      " |  url\n",
      " |  \n",
      " |  username\n",
      " |  \n",
      " |  ----------------------------------------------------------------------\n",
      " |  Data descriptors defined here:\n",
      " |  \n",
      " |  id\n",
      " |  \n",
      " |  name\n",
      " |  \n",
      " |  ----------------------------------------------------------------------\n",
      " |  Methods inherited from Attrs:\n",
      " |  \n",
      " |  __getattr__(self, name)\n",
      " |  \n",
      " |  display(self, height=420, hidden=False) -> bool\n",
      " |      Display this object in jupyter\n",
      " |  \n",
      " |  snake_to_camel(self, string)\n",
      " |  \n",
      " |  ----------------------------------------------------------------------\n",
      " |  Data descriptors inherited from Attrs:\n",
      " |  \n",
      " |  __dict__\n",
      " |      dictionary for instance variables (if defined)\n",
      " |  \n",
      " |  __weakref__\n",
      " |      list of weak references to the object (if defined)\n",
      "\n"
     ]
    }
   ],
   "source": [
    "import pandas as pd \n",
    "import wandb\n",
    "\n",
    "api = wandb.Api()\n",
    "entity, project = \"<entity>\", \"<project>\"  # set to your entity and project \n",
    "runs = api.runs(entity + \"/\" + project) \n",
    "\n",
    "summary_list, config_list, name_list = [], [], []\n",
    "for run in runs: \n",
    "    # .summary contains the output keys/values for metrics like accuracy.\n",
    "    #  We call ._json_dict to omit large files \n",
    "    summary_list.append(run.summary._json_dict)\n",
    "\n",
    "    # .config contains the hyperparameters.\n",
    "    #  We remove special values that start with _.\n",
    "\n",
    "runs_df = pd.DataFrame({\n",
    "    \"summary\": summary_list,\n",
    "    \"config\": config_list,\n",
    "    \"name\": name_list\n",
    "    })\n",
    "\n",
    "runs_df.to_csv(\"project.csv\")"
   ]
  },
  {
   "cell_type": "code",
   "execution_count": null,
   "id": "94dd2895",
   "metadata": {},
   "outputs": [],
   "source": []
  }
 ],
 "metadata": {
  "kernelspec": {
   "display_name": "sims",
   "language": "python",
   "name": "sims"
  },
  "language_info": {
   "codemirror_mode": {
    "name": "ipython",
    "version": 3
   },
   "file_extension": ".py",
   "mimetype": "text/x-python",
   "name": "python",
   "nbconvert_exporter": "python",
   "pygments_lexer": "ipython3",
   "version": "3.9.12"
  }
 },
 "nbformat": 4,
 "nbformat_minor": 5
}
