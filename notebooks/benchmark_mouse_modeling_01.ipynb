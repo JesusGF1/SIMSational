{
 "cells": [
  {
   "cell_type": "markdown",
   "id": "bbe5da99",
   "metadata": {},
   "source": [
    "# Benchmark Modeling 02\n",
    "\n",
    "Now that we've fixed the bug with calculating gene intersection"
   ]
  },
  {
   "cell_type": "code",
   "execution_count": null,
   "id": "6d8cd976",
   "metadata": {},
   "outputs": [],
   "source": [
    "import pandas as pd \n",
    "import numpy as np\n",
    "\n",
    "import sys, os \n",
    "sys.path.append('../src')\n",
    "\n",
    "from model import *\n",
    "from lightning_train import *"
   ]
  },
  {
   "cell_type": "code",
   "execution_count": null,
   "id": "361188da",
   "metadata": {},
   "outputs": [],
   "source": [
    "human_data = an.read_h5ad('../data/benchmark/human.h5ad', backed='r+')\n",
    "mouse_data = an.read_h5ad('../data/benchmark/mouse_clipped.h5ad', backed='r+')"
   ]
  },
  {
   "cell_type": "code",
   "execution_count": null,
   "id": "6c786f30",
   "metadata": {},
   "outputs": [],
   "source": [
    "human_cols = [x.strip().upper() for x in human_data.var.index.values]\n",
    "mouse_cols = [x.strip().upper() for x in mouse_data.var.index.values]\n",
    "refgenes = list(set(human_cols).intersection(mouse_cols))\n"
   ]
  },
  {
   "cell_type": "code",
   "execution_count": null,
   "id": "2ddda2b3",
   "metadata": {},
   "outputs": [],
   "source": []
  }
 ],
 "metadata": {
  "kernelspec": {
   "display_name": "Python [conda env:single-cell]",
   "language": "python",
   "name": "conda-env-single-cell-py"
  },
  "language_info": {
   "codemirror_mode": {
    "name": "ipython",
    "version": 3
   },
   "file_extension": ".py",
   "mimetype": "text/x-python",
   "name": "python",
   "nbconvert_exporter": "python",
   "pygments_lexer": "ipython3",
   "version": "3.9.7"
  }
 },
 "nbformat": 4,
 "nbformat_minor": 5
}
