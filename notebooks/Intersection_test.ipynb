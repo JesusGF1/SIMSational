{
 "cells": [
  {
   "cell_type": "code",
   "execution_count": 29,
   "id": "045c4c2b",
   "metadata": {},
   "outputs": [],
   "source": [
    "import numpy as np \n",
    "import torch\n",
    "import anndata as an\n",
    "\n",
    "from typing import List"
   ]
  },
  {
   "cell_type": "code",
   "execution_count": 32,
   "id": "03f03d71",
   "metadata": {},
   "outputs": [
    {
     "name": "stderr",
     "output_type": "stream",
     "text": [
      "/Users/julian/miniconda3/envs/base-data-science/lib/python3.9/site-packages/anndata/compat/__init__.py:180: FutureWarning: Moving element from .uns['neighbors']['distances'] to .obsp['distances'].\n",
      "\n",
      "This is where adjacency matrices should go now.\n",
      "  warn(\n",
      "/Users/julian/miniconda3/envs/base-data-science/lib/python3.9/site-packages/anndata/compat/__init__.py:180: FutureWarning: Moving element from .uns['neighbors']['connectivities'] to .obsp['connectivities'].\n",
      "\n",
      "This is where adjacency matrices should go now.\n",
      "  warn(\n"
     ]
    }
   ],
   "source": [
    "data = an.read_h5ad('../data/pancreas/pancreas.h5ad', backed='r+')"
   ]
  },
  {
   "cell_type": "code",
   "execution_count": 38,
   "id": "24f03a91",
   "metadata": {},
   "outputs": [],
   "source": [
    "currgenes = data.var.index\n",
    "refgenes = currgenes[1:]"
   ]
  },
  {
   "cell_type": "code",
   "execution_count": 39,
   "id": "91988326",
   "metadata": {},
   "outputs": [
    {
     "data": {
      "text/plain": [
       "array([[ 1.2636875 , -0.27988526, -0.08080115, ..., -0.17193557,\n",
       "         2.4617705 , -0.22981071],\n",
       "       [-0.41321668, -0.27988526, -0.08080115, ..., -0.17193557,\n",
       "        -0.14446081, -0.22981071],\n",
       "       [-0.41321668, -0.27988526,  5.5823755 , ..., -0.17193557,\n",
       "        -0.14446081, -0.22981071],\n",
       "       ...,\n",
       "       [ 2.9582937 , -0.23932047, -0.0678516 , ..., -0.16555843,\n",
       "        -0.13694999, -0.22630794],\n",
       "       [-0.19474961,  0.43301603, -0.07221387, ..., -0.16770668,\n",
       "        -0.13948013, -0.2274879 ],\n",
       "       [-0.4107381 , -0.24773662, -0.06931861, ..., -0.16628088,\n",
       "        -0.13780086, -0.22670473]], dtype=float32)"
      ]
     },
     "execution_count": 39,
     "metadata": {},
     "output_type": "execute_result"
    }
   ],
   "source": [
    "clean_sample(\n",
    "    data.X,\n",
    "    refgenes,\n",
    "    currgenes\n",
    ")"
   ]
  },
  {
   "cell_type": "code",
   "execution_count": 3,
   "id": "cc887af6",
   "metadata": {},
   "outputs": [],
   "source": [
    "def clean_sample(\n",
    "    sample: torch.Tensor,\n",
    "    refgenes: List[str],\n",
    "    currgenes: List[str],\n",
    ") -> torch.Tensor:\n",
    "\n",
    "    intersection = np.intersect1d(currgenes, refgenes, return_indices=True)\n",
    "    indices = intersection[1] # List of indices in sorted(currgenes) that equal sorted(refgenes)\n",
    "    \n",
    "    axis = (1 if sample.ndim == 2 else 0)\n",
    "    sample = np.take(sample, indices, axis=axis)\n",
    "    \n",
    "    return sample\n"
   ]
  },
  {
   "cell_type": "code",
   "execution_count": 26,
   "id": "ecae9ae7",
   "metadata": {},
   "outputs": [],
   "source": [
    "currgenes = ['a', 'c', 'd', 'b', 'e']\n",
    "refgenes =  ['d', 'e', 'a', 'f']\n",
    "\n",
    "data = np.array(\n",
    "            [[4,   3,   2,   1,   0],\n",
    "             [0,   1,   2,   3,   4]]\n",
    ")"
   ]
  },
  {
   "cell_type": "code",
   "execution_count": 27,
   "id": "6a0e8ef4",
   "metadata": {},
   "outputs": [
    {
     "data": {
      "text/plain": [
       "array([[4, 2, 0],\n",
       "       [0, 2, 4]])"
      ]
     },
     "execution_count": 27,
     "metadata": {},
     "output_type": "execute_result"
    }
   ],
   "source": [
    "clean_sample(data, refgenes, currgenes)"
   ]
  },
  {
   "cell_type": "code",
   "execution_count": 18,
   "id": "2e29d575",
   "metadata": {},
   "outputs": [],
   "source": [
    "intersection = np.intersect1d(currgenes, refgenes, return_indices=True)\n",
    "indices = intersection[1] # List of indices in sorted(currgenes) that equal sorted(refgenes)"
   ]
  },
  {
   "cell_type": "code",
   "execution_count": 19,
   "id": "270f6395",
   "metadata": {},
   "outputs": [
    {
     "data": {
      "text/plain": [
       "array([0, 2])"
      ]
     },
     "execution_count": 19,
     "metadata": {},
     "output_type": "execute_result"
    }
   ],
   "source": [
    "indices"
   ]
  },
  {
   "cell_type": "code",
   "execution_count": null,
   "id": "911c16ff",
   "metadata": {},
   "outputs": [],
   "source": []
  }
 ],
 "metadata": {
  "kernelspec": {
   "display_name": "Python [conda env:base-data-science] *",
   "language": "python",
   "name": "conda-env-base-data-science-py"
  },
  "language_info": {
   "codemirror_mode": {
    "name": "ipython",
    "version": 3
   },
   "file_extension": ".py",
   "mimetype": "text/x-python",
   "name": "python",
   "nbconvert_exporter": "python",
   "pygments_lexer": "ipython3",
   "version": "3.9.7"
  }
 },
 "nbformat": 4,
 "nbformat_minor": 5
}
