{
 "cells": [
  {
   "cell_type": "code",
   "execution_count": 1,
   "id": "045c4c2b",
   "metadata": {
    "scrolled": true
   },
   "outputs": [
    {
     "name": "stdout",
     "output_type": "stream",
     "text": [
      "Error processing line 1 of /Users/julian/miniconda3/envs/single-cell/lib/python3.9/site-packages/google_auth-2.6.6-py3.10-nspkg.pth:\n",
      "\n",
      "  Traceback (most recent call last):\n",
      "    File \"/Users/julian/miniconda3/envs/single-cell/lib/python3.9/site.py\", line 169, in addpackage\n",
      "      exec(line)\n",
      "    File \"<string>\", line 1, in <module>\n",
      "    File \"<frozen importlib._bootstrap>\", line 562, in module_from_spec\n",
      "  AttributeError: 'NoneType' object has no attribute 'loader'\n",
      "\n",
      "Remainder of file ignored\n",
      "Requirement already satisfied: anndata in /Users/julian/miniconda3/envs/single-cell/lib/python3.9/site-packages (0.8.0)\n",
      "Requirement already satisfied: h5py>=3 in /Users/julian/miniconda3/envs/single-cell/lib/python3.9/site-packages (from anndata) (3.6.0)\n",
      "Requirement already satisfied: scipy>1.4 in /Users/julian/miniconda3/envs/single-cell/lib/python3.9/site-packages (from anndata) (1.8.0)\n",
      "Requirement already satisfied: pandas>=1.1.1 in /Users/julian/miniconda3/envs/single-cell/lib/python3.9/site-packages (from anndata) (1.4.2)\n",
      "Requirement already satisfied: numpy>=1.16.5 in /Users/julian/miniconda3/envs/single-cell/lib/python3.9/site-packages (from anndata) (1.21.5)\n",
      "Requirement already satisfied: packaging>=20 in /Users/julian/miniconda3/envs/single-cell/lib/python3.9/site-packages (from anndata) (21.3)\n",
      "Requirement already satisfied: natsort in /Users/julian/miniconda3/envs/single-cell/lib/python3.9/site-packages (from anndata) (8.1.0)\n",
      "Requirement already satisfied: pyparsing!=3.0.5,>=2.0.2 in /Users/julian/miniconda3/envs/single-cell/lib/python3.9/site-packages (from packaging>=20->anndata) (3.0.8)\n",
      "Requirement already satisfied: python-dateutil>=2.8.1 in /Users/julian/miniconda3/envs/single-cell/lib/python3.9/site-packages (from pandas>=1.1.1->anndata) (2.8.2)\n",
      "Requirement already satisfied: pytz>=2020.1 in /Users/julian/miniconda3/envs/single-cell/lib/python3.9/site-packages (from pandas>=1.1.1->anndata) (2022.1)\n",
      "Requirement already satisfied: six>=1.5 in /Users/julian/miniconda3/envs/single-cell/lib/python3.9/site-packages (from python-dateutil>=2.8.1->pandas>=1.1.1->anndata) (1.16.0)\n",
      "\u001b[33mWARNING: Error parsing requirements for pyro-api: [Errno 2] No such file or directory: '/Users/julian/miniconda3/envs/single-cell/lib/python3.9/site-packages/pyro_api-0.1.2.dist-info/METADATA'\u001b[0m\n"
     ]
    },
    {
     "ename": "ModuleNotFoundError",
     "evalue": "No module named 'pandas'",
     "output_type": "error",
     "traceback": [
      "\u001b[0;31m---------------------------------------------------------------------------\u001b[0m",
      "\u001b[0;31mModuleNotFoundError\u001b[0m                       Traceback (most recent call last)",
      "Input \u001b[0;32mIn [1]\u001b[0m, in \u001b[0;36m<cell line: 5>\u001b[0;34m()\u001b[0m\n\u001b[1;32m      3\u001b[0m \u001b[38;5;28;01mimport\u001b[39;00m \u001b[38;5;21;01mnumpy\u001b[39;00m \u001b[38;5;28;01mas\u001b[39;00m \u001b[38;5;21;01mnp\u001b[39;00m \n\u001b[1;32m      4\u001b[0m \u001b[38;5;28;01mimport\u001b[39;00m \u001b[38;5;21;01mtorch\u001b[39;00m\n\u001b[0;32m----> 5\u001b[0m \u001b[38;5;28;01mimport\u001b[39;00m \u001b[38;5;21;01manndata\u001b[39;00m \u001b[38;5;28;01mas\u001b[39;00m \u001b[38;5;21;01man\u001b[39;00m\n\u001b[1;32m      7\u001b[0m \u001b[38;5;28;01mimport\u001b[39;00m \u001b[38;5;21;01msys\u001b[39;00m\n\u001b[1;32m      8\u001b[0m sys\u001b[38;5;241m.\u001b[39mpath\u001b[38;5;241m.\u001b[39mappend(\u001b[38;5;124m'\u001b[39m\u001b[38;5;124m../src\u001b[39m\u001b[38;5;124m'\u001b[39m)\n",
      "File \u001b[0;32m~/miniconda3/envs/single-cell/lib/python3.9/site-packages/anndata/__init__.py:7\u001b[0m, in \u001b[0;36m<module>\u001b[0;34m\u001b[0m\n\u001b[1;32m      5\u001b[0m \u001b[38;5;28;01mif\u001b[39;00m \u001b[38;5;129;01mnot\u001b[39;00m within_flit():\n\u001b[1;32m      6\u001b[0m     \u001b[38;5;28;01mdel\u001b[39;00m within_flit\n\u001b[0;32m----> 7\u001b[0m     \u001b[38;5;28;01mfrom\u001b[39;00m \u001b[38;5;21;01m.\u001b[39;00m\u001b[38;5;21;01m_core\u001b[39;00m\u001b[38;5;21;01m.\u001b[39;00m\u001b[38;5;21;01manndata\u001b[39;00m \u001b[38;5;28;01mimport\u001b[39;00m AnnData\n\u001b[1;32m      8\u001b[0m     \u001b[38;5;28;01mfrom\u001b[39;00m \u001b[38;5;21;01m.\u001b[39;00m\u001b[38;5;21;01m_core\u001b[39;00m\u001b[38;5;21;01m.\u001b[39;00m\u001b[38;5;21;01mmerge\u001b[39;00m \u001b[38;5;28;01mimport\u001b[39;00m concat\n\u001b[1;32m      9\u001b[0m     \u001b[38;5;28;01mfrom\u001b[39;00m \u001b[38;5;21;01m.\u001b[39;00m\u001b[38;5;21;01m_core\u001b[39;00m\u001b[38;5;21;01m.\u001b[39;00m\u001b[38;5;21;01mraw\u001b[39;00m \u001b[38;5;28;01mimport\u001b[39;00m Raw\n",
      "File \u001b[0;32m~/miniconda3/envs/single-cell/lib/python3.9/site-packages/anndata/_core/anndata.py:21\u001b[0m, in \u001b[0;36m<module>\u001b[0;34m\u001b[0m\n\u001b[1;32m     19\u001b[0m \u001b[38;5;28;01mimport\u001b[39;00m \u001b[38;5;21;01mnumpy\u001b[39;00m \u001b[38;5;28;01mas\u001b[39;00m \u001b[38;5;21;01mnp\u001b[39;00m\n\u001b[1;32m     20\u001b[0m \u001b[38;5;28;01mfrom\u001b[39;00m \u001b[38;5;21;01mnumpy\u001b[39;00m \u001b[38;5;28;01mimport\u001b[39;00m ma\n\u001b[0;32m---> 21\u001b[0m \u001b[38;5;28;01mimport\u001b[39;00m \u001b[38;5;21;01mpandas\u001b[39;00m \u001b[38;5;28;01mas\u001b[39;00m \u001b[38;5;21;01mpd\u001b[39;00m\n\u001b[1;32m     22\u001b[0m \u001b[38;5;28;01mfrom\u001b[39;00m \u001b[38;5;21;01mpandas\u001b[39;00m\u001b[38;5;21;01m.\u001b[39;00m\u001b[38;5;21;01mapi\u001b[39;00m\u001b[38;5;21;01m.\u001b[39;00m\u001b[38;5;21;01mtypes\u001b[39;00m \u001b[38;5;28;01mimport\u001b[39;00m infer_dtype, is_string_dtype, is_categorical_dtype\n\u001b[1;32m     23\u001b[0m \u001b[38;5;28;01mfrom\u001b[39;00m \u001b[38;5;21;01mscipy\u001b[39;00m \u001b[38;5;28;01mimport\u001b[39;00m sparse\n",
      "\u001b[0;31mModuleNotFoundError\u001b[0m: No module named 'pandas'"
     ]
    }
   ],
   "source": [
    "!pip install anndata \n",
    "\n",
    "import numpy as np \n",
    "import torch\n",
    "import anndata as an\n",
    "\n",
    "import sys\n",
    "sys.path.append('../src')\n",
    "\n",
    "from data import clean_sample\n",
    "from lightning_train import DataModule\n",
    "from typing import List"
   ]
  },
  {
   "cell_type": "code",
   "execution_count": 2,
   "id": "03f03d71",
   "metadata": {
    "scrolled": true
   },
   "outputs": [
    {
     "name": "stderr",
     "output_type": "stream",
     "text": [
      "/Users/julian/miniconda3/envs/single-cell/lib/python3.9/site-packages/anndata/_core/anndata.py:1830: UserWarning: Variable names are not unique. To make them unique, call `.var_names_make_unique`.\n",
      "  utils.warn_names_duplicates(\"var\")\n"
     ]
    }
   ],
   "source": [
    "data = an.read_h5ad('../data/retina/retina_T.h5ad')"
   ]
  },
  {
   "cell_type": "code",
   "execution_count": 3,
   "id": "b356d35d",
   "metadata": {},
   "outputs": [
    {
     "data": {
      "text/plain": [
       "(19694, 37475)"
      ]
     },
     "execution_count": 3,
     "metadata": {},
     "output_type": "execute_result"
    }
   ],
   "source": [
    "data.X.shape"
   ]
  },
  {
   "cell_type": "code",
   "execution_count": 7,
   "id": "24f03a91",
   "metadata": {},
   "outputs": [],
   "source": [
    "currgenes = data.var['gene'].values\n",
    "refgenes = currgenes[1:]\n",
    "\n",
    "indices = np.intersect1d(currgenes, refgenes, return_indices=True)[1]"
   ]
  },
  {
   "cell_type": "code",
   "execution_count": 8,
   "id": "18d6fb1c",
   "metadata": {},
   "outputs": [
    {
     "data": {
      "text/plain": [
       "37474"
      ]
     },
     "execution_count": 8,
     "metadata": {},
     "output_type": "execute_result"
    }
   ],
   "source": [
    "len(set(currgenes).intersection(refgenes))"
   ]
  },
  {
   "cell_type": "code",
   "execution_count": 13,
   "id": "c66e92d9",
   "metadata": {},
   "outputs": [],
   "source": [
    "arr = torch.from_numpy(np.array(\n",
    "    [[3,2,1,0],\n",
    "    [1,2,3,4],\n",
    "    [3,2,1,0],\n",
    "    [1,2,3,4]]\n",
    "))"
   ]
  },
  {
   "cell_type": "code",
   "execution_count": 50,
   "id": "2a4a762d",
   "metadata": {},
   "outputs": [
    {
     "name": "stdout",
     "output_type": "stream",
     "text": [
      "Creating train/val/test DataLoaders...\n",
      "Done, continuing to training.\n",
      "Calculating weights\n"
     ]
    }
   ],
   "source": [
    "data = an.read_h5ad('../data/dental/human_dental_T.h5ad')\n",
    "\n",
    "currgenes = data.var.index\n",
    "refgenes = currgenes[5:]\n",
    "\n",
    "module = DataModule(\n",
    "    datafiles=['../data/dental/human_dental_T.h5ad'],\n",
    "    labelfiles=['../data/dental/labels_human_dental.tsv'],\n",
    "    class_label='cell_type',\n",
    "    sep='\\t',\n",
    "    batch_size=16,\n",
    "    num_workers=0,\n",
    ")\n",
    "\n",
    "module.prepare_data()\n",
    "module.setup()"
   ]
  },
  {
   "cell_type": "code",
   "execution_count": 42,
   "id": "3f741e36",
   "metadata": {},
   "outputs": [
    {
     "data": {
      "text/plain": [
       "(Index(['FAM138A', 'OR4F5', 'OR4F29', 'OR4F16', 'FAM87B', 'LINC00115', 'FAM41C',\n",
       "        'SAMD11', 'NOC2L', 'KLHL17',\n",
       "        ...\n",
       "        'AC007325.2', 'BX072566.1', 'AL354822.1', 'AC023491.2', 'AC004556.1',\n",
       "        'AC233755.2', 'AC233755.1', 'AC240274.1', 'AC213203.1', 'FAM231C'],\n",
       "       dtype='object', length=21771),\n",
       " Index(['LINC00115', 'FAM41C', 'SAMD11', 'NOC2L', 'KLHL17', 'PLEKHN1', 'PERM1',\n",
       "        'HES4', 'ISG15', 'AGRN',\n",
       "        ...\n",
       "        'AC007325.2', 'BX072566.1', 'AL354822.1', 'AC023491.2', 'AC004556.1',\n",
       "        'AC233755.2', 'AC233755.1', 'AC240274.1', 'AC213203.1', 'FAM231C'],\n",
       "       dtype='object', length=21766))"
      ]
     },
     "execution_count": 42,
     "metadata": {},
     "output_type": "execute_result"
    }
   ],
   "source": [
    "currgenes, refgenes"
   ]
  },
  {
   "cell_type": "code",
   "execution_count": 45,
   "id": "78c695ee",
   "metadata": {},
   "outputs": [
    {
     "data": {
      "text/plain": [
       "tensor([[0., 0., 0.,  ..., 0., 0., 0.],\n",
       "        [0., 0., 0.,  ..., 0., 0., 0.],\n",
       "        [0., 0., 0.,  ..., 1., 0., 0.],\n",
       "        ...,\n",
       "        [0., 0., 0.,  ..., 0., 0., 0.],\n",
       "        [0., 0., 0.,  ..., 0., 0., 0.],\n",
       "        [0., 0., 0.,  ..., 0., 0., 0.]])"
      ]
     },
     "execution_count": 45,
     "metadata": {},
     "output_type": "execute_result"
    }
   ],
   "source": [
    "sample = next(iter(module.trainloader))[0]\n",
    "\n",
    "sample"
   ]
  },
  {
   "cell_type": "code",
   "execution_count": 30,
   "id": "cc887af6",
   "metadata": {},
   "outputs": [],
   "source": [
    "def old_clean_sample(\n",
    "    sample: torch.Tensor,\n",
    "    refgenes: List[str],\n",
    "    currgenes: List[str],\n",
    ") -> torch.Tensor:\n",
    "\n",
    "    intersection = np.intersect1d(currgenes, refgenes, return_indices=True)\n",
    "    indices = intersection[1] # List of indices in sorted(currgenes) that equal sorted(refgenes)\n",
    "    \n",
    "    axis = (1 if sample.ndim == 2 else 0)\n",
    "    sample = np.take(sample, indices, axis=axis)\n",
    "    \n",
    "    return sample\n",
    "\n",
    "def new_clean_sample(\n",
    "    sample: torch.Tensor,\n",
    "    refgenes: List[str],\n",
    "    currgenes: List[str],\n",
    ") -> torch.Tensor:\n",
    "    indices = np.intersect1d(currgenes, refgenes, return_indices=True)[1]\n",
    "    if sample.ndim == 2:\n",
    "        sample = sample[:, indices]\n",
    "    else:\n",
    "        sample = sample[indices] # in the case of a 1d array (single row)\n",
    "\n",
    "    return sample"
   ]
  },
  {
   "cell_type": "code",
   "execution_count": 52,
   "id": "7a799378",
   "metadata": {},
   "outputs": [],
   "source": [
    "old = old_clean_sample(data.X, refgenes, currgenes)"
   ]
  },
  {
   "cell_type": "code",
   "execution_count": 53,
   "id": "ecae9ae7",
   "metadata": {},
   "outputs": [],
   "source": [
    "new = new_clean_sample(data.X, refgenes, currgenes)"
   ]
  },
  {
   "cell_type": "code",
   "execution_count": 54,
   "id": "6a0e8ef4",
   "metadata": {},
   "outputs": [
    {
     "data": {
      "text/plain": [
       "(array([[0., 0., 0., ..., 0., 0., 0.],\n",
       "        [0., 0., 0., ..., 0., 0., 0.],\n",
       "        [0., 0., 0., ..., 0., 0., 0.],\n",
       "        ...,\n",
       "        [0., 0., 0., ..., 0., 0., 0.],\n",
       "        [0., 0., 0., ..., 0., 0., 0.],\n",
       "        [0., 0., 0., ..., 0., 0., 0.]], dtype=float32),\n",
       " array([[0., 0., 0., ..., 0., 0., 0.],\n",
       "        [0., 0., 0., ..., 0., 0., 0.],\n",
       "        [0., 0., 0., ..., 0., 0., 0.],\n",
       "        ...,\n",
       "        [0., 0., 0., ..., 0., 0., 0.],\n",
       "        [0., 0., 0., ..., 0., 0., 0.],\n",
       "        [0., 0., 0., ..., 0., 0., 0.]], dtype=float32))"
      ]
     },
     "execution_count": 54,
     "metadata": {},
     "output_type": "execute_result"
    }
   ],
   "source": [
    "old, new"
   ]
  },
  {
   "cell_type": "code",
   "execution_count": 61,
   "id": "ab885d08",
   "metadata": {},
   "outputs": [
    {
     "data": {
      "text/plain": [
       "True"
      ]
     },
     "execution_count": 61,
     "metadata": {},
     "output_type": "execute_result"
    }
   ],
   "source": [
    "np.equal(old, new).all()"
   ]
  },
  {
   "cell_type": "code",
   "execution_count": 62,
   "id": "1d409800",
   "metadata": {},
   "outputs": [
    {
     "data": {
      "text/plain": [
       "(41673, 21766)"
      ]
     },
     "execution_count": 62,
     "metadata": {},
     "output_type": "execute_result"
    }
   ],
   "source": [
    "old.shape"
   ]
  },
  {
   "cell_type": "code",
   "execution_count": 63,
   "id": "b0480a00",
   "metadata": {},
   "outputs": [
    {
     "data": {
      "text/plain": [
       "21771"
      ]
     },
     "execution_count": 63,
     "metadata": {},
     "output_type": "execute_result"
    }
   ],
   "source": [
    "len(currgenes)"
   ]
  },
  {
   "cell_type": "code",
   "execution_count": 64,
   "id": "1ed82781",
   "metadata": {},
   "outputs": [
    {
     "data": {
      "text/plain": [
       "21766"
      ]
     },
     "execution_count": 64,
     "metadata": {},
     "output_type": "execute_result"
    }
   ],
   "source": [
    "len(refgenes)"
   ]
  },
  {
   "cell_type": "code",
   "execution_count": null,
   "id": "180ea4ed",
   "metadata": {},
   "outputs": [],
   "source": []
  }
 ],
 "metadata": {
  "kernelspec": {
   "display_name": "Python [conda env:single-cell]",
   "language": "python",
   "name": "conda-env-single-cell-py"
  },
  "language_info": {
   "codemirror_mode": {
    "name": "ipython",
    "version": 3
   },
   "file_extension": ".py",
   "mimetype": "text/x-python",
   "name": "python",
   "nbconvert_exporter": "python",
   "pygments_lexer": "ipython3",
   "version": "3.9.12"
  }
 },
 "nbformat": 4,
 "nbformat_minor": 5
}
